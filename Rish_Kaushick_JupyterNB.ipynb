{
 "cells": [
  {
   "cell_type": "markdown",
   "metadata": {},
   "source": [
    "# Natural Language Processing Project"
   ]
  },
  {
   "cell_type": "markdown",
   "metadata": {},
   "source": [
    "# Multi-Label Categorical Classification of English Quotes"
   ]
  },
  {
   "cell_type": "markdown",
   "metadata": {},
   "source": [
    "<b>Rish (Rishabh) Kaushick</b> <br>\n",
    "College of Engineering <br>\n",
    "Northeastern University <br>\n",
    "Toronto, ON <br>\n",
    "kaushick.r@northeastern.edu"
   ]
  },
  {
   "cell_type": "markdown",
   "metadata": {},
   "source": [
    "# Downloading The Dataset From Hugging Face"
   ]
  },
  {
   "cell_type": "code",
   "execution_count": 1,
   "metadata": {},
   "outputs": [],
   "source": [
    "from huggingface_hub import hf_hub_download\n",
    "import pandas as pd\n",
    "\n",
    "REPO_ID = \"Abirate/english_quotes\"\n",
    "FILENAME = \"quotes.jsonl\"\n",
    "\n",
    "# since the data is in jsonl format, we read it using read_json() function with lines=True\n",
    "dataset = pd.read_json(hf_hub_download(repo_id=REPO_ID, filename=FILENAME, repo_type=\"dataset\"), lines=True)\n"
   ]
  },
  {
   "cell_type": "code",
   "execution_count": 2,
   "metadata": {},
   "outputs": [
    {
     "data": {
      "text/html": [
       "<div>\n",
       "<style scoped>\n",
       "    .dataframe tbody tr th:only-of-type {\n",
       "        vertical-align: middle;\n",
       "    }\n",
       "\n",
       "    .dataframe tbody tr th {\n",
       "        vertical-align: top;\n",
       "    }\n",
       "\n",
       "    .dataframe thead th {\n",
       "        text-align: right;\n",
       "    }\n",
       "</style>\n",
       "<table border=\"1\" class=\"dataframe\">\n",
       "  <thead>\n",
       "    <tr style=\"text-align: right;\">\n",
       "      <th></th>\n",
       "      <th>quote</th>\n",
       "      <th>author</th>\n",
       "      <th>tags</th>\n",
       "    </tr>\n",
       "  </thead>\n",
       "  <tbody>\n",
       "    <tr>\n",
       "      <th>0</th>\n",
       "      <td>“Be yourself; everyone else is already taken.”</td>\n",
       "      <td>Oscar Wilde</td>\n",
       "      <td>[be-yourself, gilbert-perreira, honesty, inspi...</td>\n",
       "    </tr>\n",
       "    <tr>\n",
       "      <th>1</th>\n",
       "      <td>“I'm selfish, impatient and a little insecure....</td>\n",
       "      <td>Marilyn Monroe</td>\n",
       "      <td>[best, life, love, mistakes, out-of-control, t...</td>\n",
       "    </tr>\n",
       "    <tr>\n",
       "      <th>2</th>\n",
       "      <td>“Two things are infinite: the universe and hum...</td>\n",
       "      <td>Albert Einstein</td>\n",
       "      <td>[human-nature, humor, infinity, philosophy, sc...</td>\n",
       "    </tr>\n",
       "    <tr>\n",
       "      <th>3</th>\n",
       "      <td>“So many books, so little time.”</td>\n",
       "      <td>Frank Zappa</td>\n",
       "      <td>[books, humor]</td>\n",
       "    </tr>\n",
       "    <tr>\n",
       "      <th>4</th>\n",
       "      <td>“A room without books is like a body without a...</td>\n",
       "      <td>Marcus Tullius Cicero</td>\n",
       "      <td>[books, simile, soul]</td>\n",
       "    </tr>\n",
       "    <tr>\n",
       "      <th>...</th>\n",
       "      <td>...</td>\n",
       "      <td>...</td>\n",
       "      <td>...</td>\n",
       "    </tr>\n",
       "    <tr>\n",
       "      <th>2503</th>\n",
       "      <td>“Morality is simply the attitude we adopt towa...</td>\n",
       "      <td>Oscar Wilde,</td>\n",
       "      <td>[morality, philosophy]</td>\n",
       "    </tr>\n",
       "    <tr>\n",
       "      <th>2504</th>\n",
       "      <td>“Don't aim at success. The more you aim at it ...</td>\n",
       "      <td>Viktor E. Frankl,</td>\n",
       "      <td>[happiness, success]</td>\n",
       "    </tr>\n",
       "    <tr>\n",
       "      <th>2505</th>\n",
       "      <td>“In life, finding a voice is speaking and livi...</td>\n",
       "      <td>John Grisham</td>\n",
       "      <td>[inspirational-life]</td>\n",
       "    </tr>\n",
       "    <tr>\n",
       "      <th>2506</th>\n",
       "      <td>“Winter is the time for comfort, for good food...</td>\n",
       "      <td>Edith Sitwell</td>\n",
       "      <td>[comfort, home, winter]</td>\n",
       "    </tr>\n",
       "    <tr>\n",
       "      <th>2507</th>\n",
       "      <td>“Silence is so freaking loud”</td>\n",
       "      <td>Sarah Dessen,</td>\n",
       "      <td>[just-listen, loud, owen, sara-dessen, silence]</td>\n",
       "    </tr>\n",
       "  </tbody>\n",
       "</table>\n",
       "<p>2508 rows × 3 columns</p>\n",
       "</div>"
      ],
      "text/plain": [
       "                                                  quote  \\\n",
       "0        “Be yourself; everyone else is already taken.”   \n",
       "1     “I'm selfish, impatient and a little insecure....   \n",
       "2     “Two things are infinite: the universe and hum...   \n",
       "3                      “So many books, so little time.”   \n",
       "4     “A room without books is like a body without a...   \n",
       "...                                                 ...   \n",
       "2503  “Morality is simply the attitude we adopt towa...   \n",
       "2504  “Don't aim at success. The more you aim at it ...   \n",
       "2505  “In life, finding a voice is speaking and livi...   \n",
       "2506  “Winter is the time for comfort, for good food...   \n",
       "2507                      “Silence is so freaking loud”   \n",
       "\n",
       "                     author                                               tags  \n",
       "0               Oscar Wilde  [be-yourself, gilbert-perreira, honesty, inspi...  \n",
       "1            Marilyn Monroe  [best, life, love, mistakes, out-of-control, t...  \n",
       "2           Albert Einstein  [human-nature, humor, infinity, philosophy, sc...  \n",
       "3               Frank Zappa                                     [books, humor]  \n",
       "4     Marcus Tullius Cicero                              [books, simile, soul]  \n",
       "...                     ...                                                ...  \n",
       "2503           Oscar Wilde,                             [morality, philosophy]  \n",
       "2504      Viktor E. Frankl,                               [happiness, success]  \n",
       "2505           John Grisham                               [inspirational-life]  \n",
       "2506          Edith Sitwell                            [comfort, home, winter]  \n",
       "2507          Sarah Dessen,    [just-listen, loud, owen, sara-dessen, silence]  \n",
       "\n",
       "[2508 rows x 3 columns]"
      ]
     },
     "execution_count": 2,
     "metadata": {},
     "output_type": "execute_result"
    }
   ],
   "source": [
    "dataset"
   ]
  },
  {
   "cell_type": "markdown",
   "metadata": {},
   "source": [
    "# Exploratory Data Analysis"
   ]
  },
  {
   "cell_type": "code",
   "execution_count": 3,
   "metadata": {},
   "outputs": [
    {
     "data": {
      "text/html": [
       "<div>\n",
       "<style scoped>\n",
       "    .dataframe tbody tr th:only-of-type {\n",
       "        vertical-align: middle;\n",
       "    }\n",
       "\n",
       "    .dataframe tbody tr th {\n",
       "        vertical-align: top;\n",
       "    }\n",
       "\n",
       "    .dataframe thead th {\n",
       "        text-align: right;\n",
       "    }\n",
       "</style>\n",
       "<table border=\"1\" class=\"dataframe\">\n",
       "  <thead>\n",
       "    <tr style=\"text-align: right;\">\n",
       "      <th></th>\n",
       "      <th>quote</th>\n",
       "      <th>author</th>\n",
       "      <th>tags</th>\n",
       "    </tr>\n",
       "  </thead>\n",
       "  <tbody>\n",
       "    <tr>\n",
       "      <th>0</th>\n",
       "      <td>“Be yourself; everyone else is already taken.”</td>\n",
       "      <td>Oscar Wilde</td>\n",
       "      <td>[be-yourself, gilbert-perreira, honesty, inspi...</td>\n",
       "    </tr>\n",
       "    <tr>\n",
       "      <th>1</th>\n",
       "      <td>“I'm selfish, impatient and a little insecure....</td>\n",
       "      <td>Marilyn Monroe</td>\n",
       "      <td>[best, life, love, mistakes, out-of-control, t...</td>\n",
       "    </tr>\n",
       "    <tr>\n",
       "      <th>2</th>\n",
       "      <td>“Two things are infinite: the universe and hum...</td>\n",
       "      <td>Albert Einstein</td>\n",
       "      <td>[human-nature, humor, infinity, philosophy, sc...</td>\n",
       "    </tr>\n",
       "    <tr>\n",
       "      <th>3</th>\n",
       "      <td>“So many books, so little time.”</td>\n",
       "      <td>Frank Zappa</td>\n",
       "      <td>[books, humor]</td>\n",
       "    </tr>\n",
       "    <tr>\n",
       "      <th>4</th>\n",
       "      <td>“A room without books is like a body without a...</td>\n",
       "      <td>Marcus Tullius Cicero</td>\n",
       "      <td>[books, simile, soul]</td>\n",
       "    </tr>\n",
       "    <tr>\n",
       "      <th>5</th>\n",
       "      <td>“Be who you are and say what you feel, because...</td>\n",
       "      <td>Bernard M. Baruch</td>\n",
       "      <td>[ataraxy, be-yourself, confidence, fitting-in,...</td>\n",
       "    </tr>\n",
       "    <tr>\n",
       "      <th>6</th>\n",
       "      <td>“You've gotta dance like there's nobody watchi...</td>\n",
       "      <td>William W. Purkey</td>\n",
       "      <td>[dance, heaven, hurt, inspirational, life, lov...</td>\n",
       "    </tr>\n",
       "    <tr>\n",
       "      <th>7</th>\n",
       "      <td>“You know you're in love when you can't fall a...</td>\n",
       "      <td>Dr. Seuss</td>\n",
       "      <td>[dreams, love, reality, sleep]</td>\n",
       "    </tr>\n",
       "    <tr>\n",
       "      <th>8</th>\n",
       "      <td>“You only live once, but if you do it right, o...</td>\n",
       "      <td>Mae West</td>\n",
       "      <td>[humor, life]</td>\n",
       "    </tr>\n",
       "    <tr>\n",
       "      <th>9</th>\n",
       "      <td>“Be the change that you wish to see in the wor...</td>\n",
       "      <td>Mahatma Gandhi</td>\n",
       "      <td>[action, change, inspirational, philosophy, wish]</td>\n",
       "    </tr>\n",
       "  </tbody>\n",
       "</table>\n",
       "</div>"
      ],
      "text/plain": [
       "                                               quote                 author  \\\n",
       "0     “Be yourself; everyone else is already taken.”            Oscar Wilde   \n",
       "1  “I'm selfish, impatient and a little insecure....         Marilyn Monroe   \n",
       "2  “Two things are infinite: the universe and hum...        Albert Einstein   \n",
       "3                   “So many books, so little time.”            Frank Zappa   \n",
       "4  “A room without books is like a body without a...  Marcus Tullius Cicero   \n",
       "5  “Be who you are and say what you feel, because...      Bernard M. Baruch   \n",
       "6  “You've gotta dance like there's nobody watchi...      William W. Purkey   \n",
       "7  “You know you're in love when you can't fall a...              Dr. Seuss   \n",
       "8  “You only live once, but if you do it right, o...               Mae West   \n",
       "9  “Be the change that you wish to see in the wor...         Mahatma Gandhi   \n",
       "\n",
       "                                                tags  \n",
       "0  [be-yourself, gilbert-perreira, honesty, inspi...  \n",
       "1  [best, life, love, mistakes, out-of-control, t...  \n",
       "2  [human-nature, humor, infinity, philosophy, sc...  \n",
       "3                                     [books, humor]  \n",
       "4                              [books, simile, soul]  \n",
       "5  [ataraxy, be-yourself, confidence, fitting-in,...  \n",
       "6  [dance, heaven, hurt, inspirational, life, lov...  \n",
       "7                     [dreams, love, reality, sleep]  \n",
       "8                                      [humor, life]  \n",
       "9  [action, change, inspirational, philosophy, wish]  "
      ]
     },
     "execution_count": 3,
     "metadata": {},
     "output_type": "execute_result"
    }
   ],
   "source": [
    "dataset.head(10)"
   ]
  },
  {
   "cell_type": "code",
   "execution_count": 4,
   "metadata": {},
   "outputs": [
    {
     "data": {
      "text/html": [
       "<div>\n",
       "<style scoped>\n",
       "    .dataframe tbody tr th:only-of-type {\n",
       "        vertical-align: middle;\n",
       "    }\n",
       "\n",
       "    .dataframe tbody tr th {\n",
       "        vertical-align: top;\n",
       "    }\n",
       "\n",
       "    .dataframe thead th {\n",
       "        text-align: right;\n",
       "    }\n",
       "</style>\n",
       "<table border=\"1\" class=\"dataframe\">\n",
       "  <thead>\n",
       "    <tr style=\"text-align: right;\">\n",
       "      <th></th>\n",
       "      <th>quote</th>\n",
       "      <th>author</th>\n",
       "      <th>tags</th>\n",
       "    </tr>\n",
       "  </thead>\n",
       "  <tbody>\n",
       "    <tr>\n",
       "      <th>2062</th>\n",
       "      <td>“Why are you worrying about YOU-KNOW-WHO, when...</td>\n",
       "      <td>J.K. Rowling,</td>\n",
       "      <td>[humor]</td>\n",
       "    </tr>\n",
       "    <tr>\n",
       "      <th>1078</th>\n",
       "      <td>“I am not sure that I exist, actually. I am al...</td>\n",
       "      <td>Jorge Luis Borges</td>\n",
       "      <td>[life]</td>\n",
       "    </tr>\n",
       "    <tr>\n",
       "      <th>1176</th>\n",
       "      <td>“If you're lonely when you're alone, you're in...</td>\n",
       "      <td>Jean-Paul Sartre</td>\n",
       "      <td>[loneliness, solitude]</td>\n",
       "    </tr>\n",
       "    <tr>\n",
       "      <th>414</th>\n",
       "      <td>“You educate a man; you educate a man. You edu...</td>\n",
       "      <td>Brigham Young</td>\n",
       "      <td>[education, feminism, men, women]</td>\n",
       "    </tr>\n",
       "    <tr>\n",
       "      <th>508</th>\n",
       "      <td>“There is neither happiness nor misery in the ...</td>\n",
       "      <td>Alexandre Dumas</td>\n",
       "      <td>[hope, inspirational, wisdom]</td>\n",
       "    </tr>\n",
       "  </tbody>\n",
       "</table>\n",
       "</div>"
      ],
      "text/plain": [
       "                                                  quote             author  \\\n",
       "2062  “Why are you worrying about YOU-KNOW-WHO, when...      J.K. Rowling,   \n",
       "1078  “I am not sure that I exist, actually. I am al...  Jorge Luis Borges   \n",
       "1176  “If you're lonely when you're alone, you're in...   Jean-Paul Sartre   \n",
       "414   “You educate a man; you educate a man. You edu...      Brigham Young   \n",
       "508   “There is neither happiness nor misery in the ...    Alexandre Dumas   \n",
       "\n",
       "                                   tags  \n",
       "2062                            [humor]  \n",
       "1078                             [life]  \n",
       "1176             [loneliness, solitude]  \n",
       "414   [education, feminism, men, women]  \n",
       "508       [hope, inspirational, wisdom]  "
      ]
     },
     "execution_count": 4,
     "metadata": {},
     "output_type": "execute_result"
    }
   ],
   "source": [
    "# setting random_state in the random sample, so that each time the same value is presented\n",
    "dataset.sample(5, random_state=23)"
   ]
  },
  {
   "cell_type": "code",
   "execution_count": 5,
   "metadata": {},
   "outputs": [
    {
     "name": "stdout",
     "output_type": "stream",
     "text": [
      "<class 'pandas.core.frame.DataFrame'>\n",
      "RangeIndex: 2508 entries, 0 to 2507\n",
      "Data columns (total 3 columns):\n",
      " #   Column  Non-Null Count  Dtype \n",
      "---  ------  --------------  ----- \n",
      " 0   quote   2508 non-null   object\n",
      " 1   author  2508 non-null   object\n",
      " 2   tags    2508 non-null   object\n",
      "dtypes: object(3)\n",
      "memory usage: 58.9+ KB\n"
     ]
    }
   ],
   "source": [
    "dataset.info()"
   ]
  },
  {
   "cell_type": "code",
   "execution_count": 6,
   "metadata": {},
   "outputs": [
    {
     "data": {
      "text/html": [
       "<div>\n",
       "<style scoped>\n",
       "    .dataframe tbody tr th:only-of-type {\n",
       "        vertical-align: middle;\n",
       "    }\n",
       "\n",
       "    .dataframe tbody tr th {\n",
       "        vertical-align: top;\n",
       "    }\n",
       "\n",
       "    .dataframe thead th {\n",
       "        text-align: right;\n",
       "    }\n",
       "</style>\n",
       "<table border=\"1\" class=\"dataframe\">\n",
       "  <thead>\n",
       "    <tr style=\"text-align: right;\">\n",
       "      <th></th>\n",
       "      <th>quote</th>\n",
       "      <th>author</th>\n",
       "      <th>tags</th>\n",
       "    </tr>\n",
       "  </thead>\n",
       "  <tbody>\n",
       "    <tr>\n",
       "      <th>11</th>\n",
       "      <td>“If you want to know what a man's like, take a...</td>\n",
       "      <td>J.K. Rowling,</td>\n",
       "      <td>[character, sirius-black]</td>\n",
       "    </tr>\n",
       "    <tr>\n",
       "      <th>31</th>\n",
       "      <td>“It is our choices, Harry, that show what we t...</td>\n",
       "      <td>J.K. Rowling,</td>\n",
       "      <td>[abilities, choices]</td>\n",
       "    </tr>\n",
       "    <tr>\n",
       "      <th>35</th>\n",
       "      <td>“It does not do to dwell on dreams and forget ...</td>\n",
       "      <td>J.K. Rowling,</td>\n",
       "      <td>[dreams, life]</td>\n",
       "    </tr>\n",
       "    <tr>\n",
       "      <th>53</th>\n",
       "      <td>“I solemnly swear that I am up to no good.”</td>\n",
       "      <td>J.K. Rowling,</td>\n",
       "      <td>[mischief]</td>\n",
       "    </tr>\n",
       "    <tr>\n",
       "      <th>68</th>\n",
       "      <td>“It takes a great deal of bravery to stand up ...</td>\n",
       "      <td>J.K. Rowling,</td>\n",
       "      <td>[albus-dumbledore, courage, friends]</td>\n",
       "    </tr>\n",
       "    <tr>\n",
       "      <th>...</th>\n",
       "      <td>...</td>\n",
       "      <td>...</td>\n",
       "      <td>...</td>\n",
       "    </tr>\n",
       "    <tr>\n",
       "      <th>2321</th>\n",
       "      <td>“Don't let the muggles get you down.”</td>\n",
       "      <td>J.K. Rowling,</td>\n",
       "      <td>[encouragement, muggles, wit]</td>\n",
       "    </tr>\n",
       "    <tr>\n",
       "      <th>2342</th>\n",
       "      <td>“I'm going to keep going until I succeed â€” o...</td>\n",
       "      <td>J.K. Rowling,</td>\n",
       "      <td>[harry-potter]</td>\n",
       "    </tr>\n",
       "    <tr>\n",
       "      <th>2401</th>\n",
       "      <td>“You think the dead we loved ever truly leave ...</td>\n",
       "      <td>J.K. Rowling,</td>\n",
       "      <td>[dead]</td>\n",
       "    </tr>\n",
       "    <tr>\n",
       "      <th>2472</th>\n",
       "      <td>“Hello, Harry\" said George, beaming at him. \"W...</td>\n",
       "      <td>J.K. Rowling,</td>\n",
       "      <td>[humour]</td>\n",
       "    </tr>\n",
       "    <tr>\n",
       "      <th>2478</th>\n",
       "      <td>“But Dumbledore says he doesn't care what they...</td>\n",
       "      <td>J.K. Rowling,</td>\n",
       "      <td>[celebrity, dumbledore, fame, funny]</td>\n",
       "    </tr>\n",
       "  </tbody>\n",
       "</table>\n",
       "<p>74 rows × 3 columns</p>\n",
       "</div>"
      ],
      "text/plain": [
       "                                                  quote         author  \\\n",
       "11    “If you want to know what a man's like, take a...  J.K. Rowling,   \n",
       "31    “It is our choices, Harry, that show what we t...  J.K. Rowling,   \n",
       "35    “It does not do to dwell on dreams and forget ...  J.K. Rowling,   \n",
       "53          “I solemnly swear that I am up to no good.”  J.K. Rowling,   \n",
       "68    “It takes a great deal of bravery to stand up ...  J.K. Rowling,   \n",
       "...                                                 ...            ...   \n",
       "2321              “Don't let the muggles get you down.”  J.K. Rowling,   \n",
       "2342  “I'm going to keep going until I succeed â€” o...  J.K. Rowling,   \n",
       "2401  “You think the dead we loved ever truly leave ...  J.K. Rowling,   \n",
       "2472  “Hello, Harry\" said George, beaming at him. \"W...  J.K. Rowling,   \n",
       "2478  “But Dumbledore says he doesn't care what they...  J.K. Rowling,   \n",
       "\n",
       "                                      tags  \n",
       "11               [character, sirius-black]  \n",
       "31                    [abilities, choices]  \n",
       "35                          [dreams, life]  \n",
       "53                              [mischief]  \n",
       "68    [albus-dumbledore, courage, friends]  \n",
       "...                                    ...  \n",
       "2321         [encouragement, muggles, wit]  \n",
       "2342                        [harry-potter]  \n",
       "2401                                [dead]  \n",
       "2472                              [humour]  \n",
       "2478  [celebrity, dumbledore, fame, funny]  \n",
       "\n",
       "[74 rows x 3 columns]"
      ]
     },
     "execution_count": 6,
     "metadata": {},
     "output_type": "execute_result"
    }
   ],
   "source": [
    "# Quotes by J.k. Rowling\n",
    "dataset.loc[dataset['author'] == 'J.K. Rowling,']"
   ]
  },
  {
   "cell_type": "markdown",
   "metadata": {},
   "source": [
    "## Exploring The Target Variable - 'tags'"
   ]
  },
  {
   "cell_type": "code",
   "execution_count": 7,
   "metadata": {},
   "outputs": [
    {
     "data": {
      "text/plain": [
       "0       [be-yourself, gilbert-perreira, honesty, inspi...\n",
       "1       [best, life, love, mistakes, out-of-control, t...\n",
       "2       [human-nature, humor, infinity, philosophy, sc...\n",
       "3                                          [books, humor]\n",
       "4                                   [books, simile, soul]\n",
       "                              ...                        \n",
       "2503                               [morality, philosophy]\n",
       "2504                                 [happiness, success]\n",
       "2505                                 [inspirational-life]\n",
       "2506                              [comfort, home, winter]\n",
       "2507      [just-listen, loud, owen, sara-dessen, silence]\n",
       "Name: tags, Length: 2508, dtype: object"
      ]
     },
     "execution_count": 7,
     "metadata": {},
     "output_type": "execute_result"
    }
   ],
   "source": [
    "# Understanding the 'tags' attribute:\n",
    "dataset['tags']"
   ]
  },
  {
   "cell_type": "code",
   "execution_count": 8,
   "metadata": {},
   "outputs": [
    {
     "data": {
      "text/plain": [
       "['be-yourself',\n",
       " 'gilbert-perreira',\n",
       " 'honesty',\n",
       " 'inspirational',\n",
       " 'misattributed-oscar-wilde',\n",
       " 'quote-investigator']"
      ]
     },
     "execution_count": 8,
     "metadata": {},
     "output_type": "execute_result"
    }
   ],
   "source": [
    "dataset['tags'][0]"
   ]
  },
  {
   "cell_type": "code",
   "execution_count": 9,
   "metadata": {},
   "outputs": [
    {
     "data": {
      "text/plain": [
       "'be-yourself'"
      ]
     },
     "execution_count": 9,
     "metadata": {},
     "output_type": "execute_result"
    }
   ],
   "source": [
    "dataset['tags'][0][0]"
   ]
  },
  {
   "cell_type": "code",
   "execution_count": 10,
   "metadata": {},
   "outputs": [
    {
     "data": {
      "text/plain": [
       "'inspirational'"
      ]
     },
     "execution_count": 10,
     "metadata": {},
     "output_type": "execute_result"
    }
   ],
   "source": [
    "dataset['tags'][0][3]"
   ]
  },
  {
   "cell_type": "markdown",
   "metadata": {},
   "source": [
    "From the above we can see that the values in the 'tags' attribute are stored as a list."
   ]
  },
  {
   "cell_type": "code",
   "execution_count": 11,
   "metadata": {},
   "outputs": [
    {
     "data": {
      "text/plain": [
       "880"
      ]
     },
     "execution_count": 11,
     "metadata": {},
     "output_type": "execute_result"
    }
   ],
   "source": [
    "# Looking for how many unique values are present in the author column\n",
    "len(dataset['author'].unique())"
   ]
  },
  {
   "cell_type": "code",
   "execution_count": 12,
   "metadata": {},
   "outputs": [
    {
     "data": {
      "text/plain": [
       "tags\n",
       "[love]                                                                                                                                                                                                                          75\n",
       "[inspirational]                                                                                                                                                                                                                 63\n",
       "[humor]                                                                                                                                                                                                                         37\n",
       "[life]                                                                                                                                                                                                                          34\n",
       "[writing]                                                                                                                                                                                                                       25\n",
       "                                                                                                                                                                                                                                ..\n",
       "[depression, pain, trauma]                                                                                                                                                                                                       1\n",
       "[identity, self-image, sense-of-self, stories, storytelling]                                                                                                                                                                     1\n",
       "[clichÃ©s, double-standards, empowerment, equality, feminism, flattery, gender, hypocrisy, independence, men, misogyny, rationality, reason, self-determination, social-norms, stereotypes, strength, women, women-s-rights]     1\n",
       "[humor, idleness, inspirational]                                                                                                                                                                                                 1\n",
       "[just-listen, loud, owen, sara-dessen, silence]                                                                                                                                                                                  1\n",
       "Name: count, Length: 1962, dtype: int64"
      ]
     },
     "execution_count": 12,
     "metadata": {},
     "output_type": "execute_result"
    }
   ],
   "source": [
    "dataset['tags'].value_counts()"
   ]
  },
  {
   "cell_type": "markdown",
   "metadata": {},
   "source": [
    "The above does not help us much because one row could have multiple categories in the list. <br>\n",
    "Therefore, in order to see how many unique tags are there, we might need to iterate through the entire pandas dataframe, and store them in a Python set."
   ]
  },
  {
   "cell_type": "code",
   "execution_count": 13,
   "metadata": {},
   "outputs": [
    {
     "name": "stdout",
     "output_type": "stream",
     "text": [
      "0       [be-yourself, gilbert-perreira, honesty, inspi...\n",
      "1       [best, life, love, mistakes, out-of-control, t...\n",
      "2       [human-nature, humor, infinity, philosophy, sc...\n",
      "3                                          [books, humor]\n",
      "4                                   [books, simile, soul]\n",
      "                              ...                        \n",
      "2503                               [morality, philosophy]\n",
      "2504                                 [happiness, success]\n",
      "2505                                 [inspirational-life]\n",
      "2506                              [comfort, home, winter]\n",
      "2507      [just-listen, loud, owen, sara-dessen, silence]\n",
      "Name: tags, Length: 2508, dtype: object\n",
      "<class 'pandas.core.series.Series'>\n"
     ]
    }
   ],
   "source": [
    "# iterating through the values in the pandas dataframe\n",
    "tags = dataset['tags']\n",
    "print(tags)\n",
    "print(type(tags))"
   ]
  },
  {
   "cell_type": "code",
   "execution_count": 14,
   "metadata": {},
   "outputs": [
    {
     "name": "stdout",
     "output_type": "stream",
     "text": [
      "{'inej-ghafa', 'living-now', 'jordan-kyle', 'immortals', 'trial', 'chaol-westfall', 'role-models', 'misattributed-to-albert-camus', 'frienship', 'knowledge-power', 'zoe-nightshade', 'the-lightning-thief', 'perspective', 'simple', 'dance', 'distractions', 'weight', 'soul-ties', 'self-esteem', 'clock', 'belief', 'winnie', 'be-yourself-quotes', 'imperfection', 'how-much', 'malfoy', 'mystery', 'responsibility', 'suess', 'selfishness', 'move-on', 'independent-thought', 'true-family', 'hermione', 'stand', 'remembrance', 'house', 'reality', 'introspection', 'promise', 'habits', 'voting', 'paradise', 'cleanliness', 'education', 'dreamers', 'first-sentence', 'reality-check', 'alaska-young', 'hamlet', 'flying-spirit', 'struggle', 'broad-mindedness', 'caring', 'lesson-on-living', 'atheist', 'confidences', 'acceptance', 'governments', 'gift', 'inspirational-stories', 'dictionary', 'claire-fraser', 'wife', 'shampoo', 'lupin', 'pijamas', 'innocence', 'adaptation', 'rosemarie-hathaway', 'sharing', 'troubles', 'atlas', 'good-life', 'gender-stereotypes', 'paranormal-romance', 'park', 'past', 'roots', 'doctor-who', 'women-mothers', 'reader', 'beatles', 'best', 'ebay', 'vegetarianism', 'actions', 'elizabeth-bennet', 'girl', 'mermaids', 'direction', 'doubt', 'violence', 'killing', 'equations', 'vlog', 'owen', 'sara-dessen', 'inner-strength', 'run', 'focus', 'doing', 'freedom', 'vision', 'blues', 'question', 'cats', 'persistence', 'willful-ignorance', 'lamp', 'walking', 'the-choice', 'open-minds', 'divergent', 'morgenstern', 'heart', 'stories', 'answers', 'age-adult', 'majority', 'misattributed-to-gandhi', 'death', 'panic', 'imperfect', 'october', 'apocalypse', 'be-yourself', 'foolishness', 'dreamer', 'einstein', 'thought', 'nonsense', 'purpose', 'uncle-jeb', 'nerd', 'organized-religion', 'shine', 'pandora', 'reflection', 'food', 'minority', 'ya', 'fantasy-books', 'sail', 'pixie-dust', 'night', 'misattributed-to-hutchins', 'intellectuals', 'heartfelt', 'uncertainty', 'propaganda', 'misattributed-audrey-hepburn', 'parties', 'enduring', 'glitter', 'zsadist', 'guys', 'fear-unknown', 'automobile', 'gandhi', 'dracula', 'wish', 'power', 'brown', 'litany-against-fear', 'joy', 'prank', 'blackjack', 'brokenness', 'william-herondale', 'trials', 'tina-fey', 'miles-halter', 'plants', 'melancholy', 'dirt', 'winnie-the-pooh', 'singer', 'just-listen', 'twilight', 'shock', 'classic-insult', 'shelter', 'ethos', 'seeds', 'poseidon', 'adventure', 'rue', 'capability', 'bookstore', 'classics', 'piglet', 'hazel-grace', 'touching', 'sympathy', 'jonathan', 'happy', 'love', 'hmmm', 'diversity', 'sinister', 'catatonia', 'dionysus', 'atrocities', 'looking-for-alaska', 'hate', 'nin', 'lewis', 'plans', 'manners', 'humor-reading', 'jamie', 'wayfinding', 'mellark', 'maturity', 'percy-jackson', 'why', 'advice', 'waste', 'out-of-control', 'city-of-bones', 'discipline', 'news', 'grandmothers', 'self-control', 'intoxication', 'unsourced', '1970', 'beautiful', 'double-standards', 'evil', 'judging-from-experience', 'acomaf', 'semicolons', 'meyer', 'expression', 'shelves', 'paraphrasing-g-k-chesterton', 'contrast', 'disappointment', 'inspirational-ship-storms', 'peeves', 'transcendentalism', 'darkness', 'satirical', 'musical', 'triumph', 'die', 'how', 'teenage-love', 'respect', 'woman', 'thought-provoking', 'relationships', 'men-and-women', 'unbreakable', 'geography', 'elitism', 'knowledge', 'mirror', 'harry', 'bene-gesserit', 'invincible', 'singles', 'beauty', 'incrementalism', 'write', 'chapter-one', 'everyday-life', 'fudge', 'shrugged', 'slammed', 'consistency', 'tragedy', 'need', 'sexuality', 'classic', 'beatitudes', 'museums', 'consul', 'inspiration', 'fred-weasley', 'worrying', 'tired', 'bookroom', 'safety', 'yearning', 'unpredictability', 'edison', 'source-unknown', 'jane-austen', 'leader', 'magnus-bane', 'demographics', 'bibliophilia', 'possibility', 'yesterday', 'secrets', 'sex', 'ethics', 'mentoring', 'jesper', 'wisher', 'misattributed-gloria-steinem', 'paraphrased', 'tolstoy', 'anne-rice', 'agency', 'hidden', 'humor-cats-allergies', 'heal', 'thing', 'seperate', 'zarek', 'louisa-may-alcott', 'jealousy', 'high-school', 'nora-grey', 'do-wrong', 'growth', 'childhood', 'rationality', 'mead', 'francois-rabelais', 'desperate', 'sorcerers-stone', 'teachers', 'genius', 'real-love', 'cleverness', 'self-loathing', 'death-peace', 'step-out-of-comfort-zone', 'goals', 'letting-go-of-the-past', 'not-alone', 'obedience', 'an-abundance-of-katherines', 'smart', 'winds', 'books', 'imagery', 'step-out-of-your-comfort-zone', 'existence', 'nietzsche', 'censorship', 'barriers', 'misattributed-to-malcolm-x', 'young-adult-fiction', 'invention', 'exploration', 'teasing', 'lonely', 'miracle', 'fool', 'inej', 'description', 'homicide', 'annie-clark-tanner-lecture', 'jace-wayland', 'wit', 'franz-kafka', 'humor-heaven', 'wanda', 'incredibly-true', 'philosophy', 'sisters', 'danger', 'trying', 'dear-john', 'misanthropy', 'positive-affirmation', 'belonging', 'martyrdom', 'afternoon', 'misattributed-to-bill-gates', 'mistake', 'life-quotes', 'biscuit', 'life-philosophy', 'illiteracy', 'true', 'johnny-cade', 'bad-day', 'birth', 'abe-mazur', 'living', 'mistakes', 'wring', 'improvement', 'golda', 'proverb', 'different', 'pessimism', 'mythology', 'albus-potter', 'misattributed-dr-seuss', 'conformity', 'thinking', 'goals-in-life', 'tmi', 'sonnet', 'punishment', 'failure', 'teens', 'questions', 'sirius', 'scifi', 'french-renaissance-writer', 'failures', 'quip', 'selfish', 'courage', 'trees', 'sebastian', 'clockwork-angel', 'parents', 'fact', 'true-love', 'nicholas', 'facts', 'fountainhead', 'Ø\\xadØ¨', 'summer', 'impossible', 'simile', 'misattributed-apple', 'amnesia', 'makeup', 'couples', 'smiling', 'humility', 'storytelling', 'fairytales', 'ferret', 'uplifting', 'aristotle', 'humor', 'curiosity', 'courage-quotes', 'needs', 'self-acceptance', 'longing', 'noel', 'sun', 'mindfulness', 'education-knowledge', 'dancing', 'soulmates', 'husband', 'pox', 'simon-lewis', 'remus-lupin', 'travel', 'zombies', 'free-speech', 'bathing', 'poets', 'heroes', 'dislike', 'universe', 'mad', 'feminism', 'cruelty', 'happiness', 'eat-pray-love', 'star', 'clothes', 'seduction', 'rena-silverman', 'heartache', 'grisha', 'protest', 'ignite-me', 'dan-brown', 'college', 'benediction', 'hunger-games-peeta-katniss', 'swear', 'hatred', 'edward', 'oprah-s-thank-you-game', 'civil-rights', 'nations', 'wine', 'anger', 'authenticity', 'isabelle', 'immature', 'lecture', 'spiritual-growth', 'attributed', 'creativity', 'owen-armstrong', 'box', '2008', 'living-life-to-the-fullest', 'forgiving', 'quotes', 'unburdening', 'akeelah', '1997', 'truthful', 'misattributed-steve-jobs', 'sunset', 'the-mortal-instruments', 'life-choices-fig-trees', 'crying', 'memories', 'coma', 'foolproof', 'feelings', 'loneliness', 're-reading', 'cracks', 'permission', 'design', 'missed-chances', 'bachelorhood', 'listen', 'puppies', 'fifty-shades-of-grey', 'demons', 'what-is-right', 'luke', 'rebels', 'common-sense', 'hush', 'religious', 'eyes', 'pedophilia', 'talent', 'behind', 'misery', 'lady-gaga', 'misattributed-eleanor-roosevelt', 'warrior', 'broken-families', 'youth', 'witch', 'arts', 'injuries', 'stephen-chbosky', 'minister', 'the-fault-in-our-stars', 'single', 'teach', 'waiting', 'enjoy', 'money', 'busy', 'procrastination', 'hunger', 'the-great-gatsby', 'phenomenal-woman', 'reassurance', 'others', 'observational-comedy', 'redemption', 'logo', 'fuck', 'scotland', 'idleness', 'deep', 'friend', 'plant', 'together', 'spinsterhood', 'human-nature', 'elections', 'all-the-bright-places', 'understand', 'flexibility', 'diary-entry', 'moving-on', 'stressed', 'thoughtful', 'helping-others', 'parting', 'sentimentality', 'common-ground', 'wrong', 'oaths', 'goodbyes', 'dying', 'autonomy', 'beginnings', 'misattributed-to-mark-twain', 'dangerous', 'explain', 'misattributed-to-chalmers', '1929', 'spiritual', 'recollection', 'snow', 'melanie', 'rulers', 'bob-marley', 'ghost', 'awareness', 'holden-caulfield', 'unfairness', 'poem', 'city-of-lost-souls', 'good-evil', 'thankfulness', 'sarcasm', 'december', 'passion', 'e-l-james', 'mischief', '1955', 'the-kite-runner', 'valentine', 'seasons', 'veronica-roth', 'self-assurance', 'the-hunger-games', 'atheism', 'evermore', 'alone', 'company', 'road', 'privacy', 'save', 'horror', 'grief', 'independence', 'self-irony', 'elizabethan', 'speak', 'teacher', 'hush-hush', 'tyler-durden', 'humour', 'pig', 'dark', 'inspirational-quotes', 'jacob', 'impact', 'matrimony', 'human-connections', 'speaking-out', 'toltec-wisdom', 'name', 'dating-advice', 'believe-in-yourself', 'sarah-dessen', 'misattributed-to-c-s-lewis', 'suspicion', 'attention', 'puck', 'greek', 'timelessness', 'martyr', 'great-minds', 'ecology', 'god-religion-happiness', 'david', 'love-quotes', 'gilbert-perreira', 'fresh-starts', 'dragons', 'teenagers', 'cartoonist', 'positive', 'strong', 'the-new-life', 'humanism', 'statistics', 'nora', 'lying', 'lookingforalaska', 'perception', 'progress', 'esist', 'reap', 'pacifism', 'troublemakers', 'autumn', 'literature', 'ideals', 'inevitable', 'creative', 'feminist', 'shadowhunters', 'adoration', 'ache', 'excuse', 'albert', 'science-of-mind', 'drug', 'tough-times', 'injustice', 'wonder', 'broken-glass', 'inspiring', 'self-improvement', 'true-to-self', 'friends-betrayal', 'jordan-baker', 'sin', 'world', 'f-scott-fitzgerald', 'sorry', 'divorce', 'nature', 'sex-appeal', 'wallflower', 'suli-poverb', 'mood-swings', 'new-year', 'live-well', 'birds', 'ego', 'america', 'books-bible', 'pleasures', 'kvothe', 'lena-holoway', 'remember', 'chocolate', 'woods', 'being-human', 'seeing', 'hidden-things', 'comedy', 'agama', 'letting-go', 'animals', 'gray-book', 'maia', 'ugly', 'deception', 'samwise', 'gonzo', 'romeo-and-juliet', 'misfits', 'trust', 'writing-advice', 'believe', 'expectations', 'meaning', 'voice', 'who-you-are', 'dorian-gray', 'protection', 'lovers', 'brave-new-world', 'grammar', 'mortification', 'alive', 'stubbornness', 'fairy-tales', 'potential', 'purpose-of-life', 'being-yourself', 'class', 'self-knowledge', 'qotd', 'transform', 'ron', 'life-truths', 'hitchhiker-s-guide', 'vorkosigan', 'disappointed', 'adrian-ivashkov', 'skills', 'law', 'joke', 'dursley', 'refuge', 'rich', 'jokes', 'sense-of-wonder', 'laziness', 'steppenwolf', 'live', 'infinite-jest', 'grudge', 'self-containment', 'lover', 'individualism', 'alice', 'misogyny', 'patch', 'inspirational-faith', 'love-friendship', 'deeply-loved', 'self-trust', 'regret', 'open-mind', 'misattributed-a-a-milne', 'opening-lines', 'inspirational-attitude', 'wings', 'destruction', 'concern', 'morning', 'challenge', 'choices', 'virtue', 'haunting', 'historical-fiction', 'witty', 'weakness', 'writer', 'sky', 'girls', 'tea', 'hg2g', 'arrow', 'goodwill', 'earth', 'haunt', 'bibliophiles', 'leadership', 'whole-being', 'better-life-empathy', 'metaphor', 'try', 'health', 'never-stop-believing', 'grown-ups', 'prose', 'souls', 'elite', 'funeral', 'best-friends', 'worst', 'reasoning', 'samuel-beckett', 'the-notebook', 'novelist-quotes', 'profound', 'weirdness', 'roses', 'to-be-loved', 'dream', 'authors', 'life-memories', 'advertising', 'self-confidence', 'magic-books', 'dating', 'agree', 'identity', 'cynic', 'dogs', 'richness', 'ferocity', 'action', 'drinking', 'progressive', 'heartbreaking', 'peer-pressure', 'smile', 'man', 'dark-humor', 'intellect', 'flying', 'memoir', 'feet', 'resolve', 'emotions', 'age', 'suffering', 'optimistic', 'misattributed-oscar-wilde', 'image', 'self', 'telekinetics', 'broccoli', 'equality', 'umbridge', 'things', 'power-of-words', 'anti-christian', 'treasure', 'cosmos', 'talents', 'vulnerability', 'detection', 'meaning-of-life', 'sense-of-self', 'rhysand', 'requirements', 'quote-investigator', 'will-herondale', 'foer', 'apathy', 'ordinary', 'crooked-kingdom', 'fiction', 'mutuality', 'spirituality', 'forgetting', 'psychology', 'car', 'read', 'mail', 'misattributed-mark-twain', 'volunteerism', 'libraries', 'cows', 'indifference', 'hopeless', 'light', 'fair', 'the-selection', 'scholars', 'zen', 'elizabeth-gilbert', 'christina-grey', 'taste', 'explore', 'mother', 'character', 'reason', 'running', 'stereotypes', 'bravery', 'dog', 'intent', 'love-yourself', 'shame', 'carroll', 'dharma', 'urban-fantasy', 'mask', 'pets', 'crisis', 'lateral-thinking', 'school', 'vampire-academy', 'eccentric', 'completion', 'motivational', 'winds-of-life', 'book-lovers', 'films', 'essential', 'perseverance', 'katharine-hepburn', 'unlikely-places', 'seed', 'fate', 'problems', 'trials-of-life', 'ardor', 'personality', 'inventing-humor', 'tolkien', 'ghosts', 'wisdom', 'dissent', 'letter', 'paramore', 'the-little-prince', 'empowerment', 'beatnik', 'glittering-eyes', 'nothing', 'plays', 'foreshadowing', 'jail', 'inner-voice', 'hurt', 'uglies', 'christopher-paolini', 'miracles', 'keep-moving-forward', 'humor-satan', 'greatness', 'hell', 'internet', 'humor-mustache', 'life-lessons', 'breakup', 'knowing', 'albert-einstein', 'carpe-diem', 'originality', 'dissapointment', 'injury', 'misattributed-douglas-adams', 'greg-behrendt', 'north-carolina', 'little-women', 'hypocrisy', 'six-of-crows', 'sandman', 'alice-s-adventures-in-wonderland', 'understanding-others', 'the-perks-of-being-a-wallflower', 'dirty', 'flewn', 'last-sacrifice', 'intimidation', 'romantics', 'contentment', 'act', 'what-matters', 'katniss-everdeen', 'westerfeld', 'stop', 'call', 'awesome-quote', 'life-pattern', 'accept-yourself', 'dumbledore', 'women-s-strenth', 'leigh-bardugo', 'journey', 'adventuring', 'future', 'theresa-gray', 'robert-foster', 'john-green', 'misattributed-albert-camus', 'speech', 'right', 'annabeth-chase', 'dishonesty', 'apollo', 'safran', 'clockwork-prince', 'the-nature-of-family', 'suzanne-collins', 'nonfiction', 'waking-up', 'nerdfighter', 'misattributed-to-einstein', 'ataraxy', 'dignity', 'happy-endings', 'family', 'extremely', 'culture', 'science-fiction', 'calvin-and-hobbes', 'silliness', 'everything', 'h2g2', 'cinna', 'yourself', 'style', 'dramatist-quotes', 'gods', 'finnick', 'cynicism', 'anxiety', 'allegory', 'kindness', 'confession', 'stars', 'vampire', 'psychotherapist', 'misattributed-to-rosa-parks', 'ideas', 'service', 'mina', 'ginny-weasley', 'giving-in', 'young-at-heart', 'misattributed-to-groucho-marx', 'olympians', 'kindle', 'reinvention', 'good-books', 'pigs', 'enthusiasm', 'leaving', 'security', 'songs', 'mercy', 'emotion', 'oblivion', 'fallen-angels', 'arts-and-humanities', 'changes', 'loud', 'life-dreams', 'morals', 'person', 'self-sufficiency', 'van-helsing', 'sinners', 'mortality', 'wilhelm-stekel', 'london', 'politics', 'monsters', 'ferret-malfoy', 'fortitude', 'misattributed', 'relationship', 'enjoy-the-journey', 'writers', 'start-up', 'positive-life', 'opposite', 'self-respect', 'lincoln', 'breakfast', 'meaningful', 'creation', 'tomorrow', 'neighborhoods', 'warriors', 'heartbreak', 'challanges', 'close-mindedness', 'being-positive', 'rocks', 'inspirational-quote', 'truth', 'breath', 'inspirational-human-spirit', 'mottos', 'jared', 'rachel-elizabeth-dare', 'celaena-sardothien', 'nostalgia', 'wormtail', 'fitting-in', 'desire', 'blessed', 'thorns', 'anne', 'pedophile', 'unity', 'color', 'pooh-bear', 'jesus', 'atoms', 'reality-bothered', 'stupid', 'watch', 'unique', 'the-last-song', 'aspiration', 'show-don-t-tell', 'obsession', 'cynical', 'depression-silence', 'flirting', 'freethinker', 'judge', 'goal', 'infinity', 'myself', 'connecting', 'hopelessness', 'moving-forward', 'humbert-humbert', 'wounds', 'amity', 'stress', 'george-weasley', 'beliefs', 'widely-misattributed', 'suicide', 'hippy', 'sherlock-holmes', 'teaching', 'eating-reading', 'adults', 'poet', 'finale-of-middlemarch', 'paradox', 'sins', 'rythmic', 'four', 'witches', 'challenges', 'youthfulness', 'lost', 'man-s', 'fellowship', 'bridge', 'success', 'misattributed-einstein', 'proactivity', 'tears', 'loner', 'delusion', 'talk', 'peanut-butter', 'christmas', 'language', 'self-love', 'abe', 'spirit', 'writing-from-the-heart', 'peace', 'flowers', 'lord-henry-wotton', 'safe', 'inspirational-love', 'possiblity', 'flattery', 'patriotism', 'valour', 'city-of-ashes', 'anais', 'criticize', 'tyson', 'escape', 'peeta-mellark', 'ticking', 'heaven', 'body-soul', 'laughter', 'self-awareness', 'revenge', 'katniss-and-peeta', 'integrity', 'will-s-letter-to-tessa', 'reticence', 'thumb', 'infidelity', 'misattributed-to-joseph-addison', 'losing', 'rewriting-history', 'experience-mistakes-wisdom', 'enemies', 'children', 'patrick-rothfuss', 'reading-secrets', 'drama', 'finding-your-voice', 'obviousness', 'your-way', 'superiority', 'self-realization', 'integrity-quotes', 'misattributed-tom-bodett', 'poverty', 'celebrity', 'abraham-lincoln', 'right-of-passage', 'falling-apart', 'crime', 'infatuation', 'radiance', 'macbeth', 'never-stop-learning', 'history', 'experience', 'nationalism', 'mindful', 'deep-thoughts', 'human-condition', 'sensation', 'june', 'bella-swan', 'musn-t', 'socks', 'antipathy', 'augustus-waters', 'holiness', 'soul-searching', 'voter', 'my-way', 'enemy', 'those-who-love-us', 'records', 'music', 'ecstasy', 'children-s-literature', 'barrie', 'wishing', 'sacrifice', 'attraction', 'pooh', 'encouragement', 'buddism', 'beatrice', 'talking', 'creative-process', 'endings', 'awesomeness', 'advocacy', 'novelty', 'empathy', 'physics', 'new-beginnings', 'insults', 'authentic-self', 'reincarnation', 'angel', 'new-england-wisdom', 'agnosticism', 'desires', 'god', 'he-s-not-just-into-you', 'catherine', 'power-of-music', 'amazing-writing', 'consolation', 'trouble', 'tris', 'pause', 'hodge', 'thirst', 'water', 'taking-chances', 'philosophy-of-life', 'frank', 'work', 'leaders', 'timidity', 'sparks', 'final', 'intelligence', 'wayland', 'frodo', 'companionship', 'control', 'stealth', 'heathcliff', 'misattributed-marilyn-monroe', 'jim', 'expectation', 'viereck-interview', 'questioning', 'beyonce', 'dystopia', 'accomplishment', 'earnestness', 'force', 'assassin', 'time', 'social-norms', 'abilities', 'prejudice', 'truth-lies', 'mankind', 'ponyboy-curtis', 'moonshine', 'burdens', 'give', 'animal-farm', 'stupidity', 'romantic', 'calling', 'perfect', 'amor-deliria-nervosa', 'eragon', 'wilde', 'hot', 'sow', 'misattributed-to-emerson', 'limitations', 'fears', 'start-over', 'readers', 'despair', 'you-are-what-you-eat', 'catching-fire', 'boredom', 'dark-plans', 'possibilities', 'excuses', 'self-determination', 'eastern-philosophy', 'self-responsibility', 'betrayal', 'risk', 'misattributed-to-a-a-milne', 'james-potter', 'choice', 'psychological', 'soon', 'top-8', 'christians', 'misattributed-grace-hopper', 'liberty', 'murder', 'discworld', 'reflect', 'comfort', 'heartwarming', 'kensington-gardens', 'anarchy', 'meir', 'legacy', 'gratitude', 'survival', 'snape', 'bossypants', 'orhan-pamuk', 'wizard', 'appreciation', 'sing', 'forcasting', 'family-ties', 'openness', 'revolution', '1993', 'becca-fitzpatrick', 'gender', 'lost-innocence', 'won-t', 'dreams', 'destiny', 'elitist', 'connection', 'toilet', 'live-death-love', 'human', 'what-men-really-want', 'aloneness', 'reading-books', 'awkward', 'ocean', 'inconvenient', 'tessa-gray', 'nephlim', 'defend', 'dr-seuss', 'alec', 'myth', 'humor-tattoo', 'albus-dumbledore', 'forests', 'at-first-sight', 'boggs', 'humorous', 'own', 'irony', 'bad', 'before-i-fall', 'or-the-bower', 'love-at-first-sight', 'personal-responsibility', 'max', 'investigation', 'self-reliance', 'temptation', 'americans', 'absence', 'ponder', 'obvious', 'solitude', 'popularity', 'whiskey', 'worth', 'goodbye', 'dna', 'self-belief', 'intelligent-life', 'misattributed-goethe', 'holden', 'meaningful-life', 'simon_bolivar-s_labyrinth', 'feeling', 'appearance', 'apocryphal', 'concealment', 'amsterdam', 'gaiman', 'philosphy', 'assurance', 'bestseller', 'recovery', 'social-commentary', 'parenting', 'opinions', 'self-image', 'spinning', 'separation', 'frost', 'knowing-others', 'lust', 'poetry', 'motivation', 'enjoy-life', 'comfort-zone', 'boldness', 'fashion', 'stele', 'bereavement', 'enterprise', 'thanksgiving', 'twilight-saga', 'angels', 'reggae', 'good-reads', 'satisfaction', 'rich-heart', 'gondor', 'receptivity', 'nerdfighters', 'fighting', 'war', 'strength-and-courage', 'chance', 'close', 'wise-words', 'mormont', 'morganvillevampires', 'be-yourself-inspirational', 'speed-of-light', 'clary-fray', 'rewind', 'misattributed-to-kant', 'craziness', 'men', 'dreaming', 'misattributed-john-wayne', 'sophie-collins', 'grieving', 'play', 'cheese', 'women-s-rights', 'insanity', 'grow', 'democracy', 'pleasure', 'young-adult-novels', 'will', 'atticus-finch', 'salinger', 'layken', 'death-of-a-loved-one', 'paulo-coelho', 'chemistry', 'unhappiness', 'imposters', 'initiative', 'rescuing', 'misattributed-to-abraham-lincoln', 'opportunity', 'wilderness', 'sirius-black', 'grandparents', 'sal-paradise', 'eccentricity', 'femininity', 'name-of-the-wind', 'lost-love', 'choose', 'listening', 'chivalry', 'self-sacrifice', 'home', 'learning', 'unrequited-love', 'imagination', 'paper-towns', 'forgetfulness', 'antoine-de-saint-exupery', 'life-and-living', 'sadness', 'soul', 'public-opinion', 'self-indulgence', 'emptiness', 'serenity', 'imperfections', 'drugs', 'determination', 'extraterrestrials', 'mad-hatter', 'inkheart', 'charlie', 'birthday', 'tfios', 'insincerity', 'doomed', 'no-fear', 'sphinx-without-a-secret', 'last-words', 'odair', 'forgive', 'learn', 'regrets', 'make-believe', 'achievement', 'god-religion-house', 'loved-ones', 'just-litsen', 'trap', 'death-and-dying', 'humor-wicked-reading', 'fearless', 'free-will', 'chinese', 'henry-miller', 'boys', 'marriage', 'eleven-minutes', 'lies', 'sarah-j-maas', 'kaz-brekker', 'thoughts', 'tintern-abbey', 'the-beatrice-letters', 'privilege', 'reminding', 'james-bond', 'perfection', 'isolation', 'silly-chinese-canadian-baby-man', 'wise', 'misattributed-betty-white', 'navigation', 'tedious', 'judgment', 'bilbo', 'christina', 'flight', 'congratulations', 'corruption', 'shakespeare', 'gossip', 'novelist', 'scar', '1-corinthians-13', 'energy', 'misattributed-william-g-t-shedd', 'sweet', 'self-deception', 'stoicism', 'ignorance', 'you-are-what-you-read', 'athe-plague-of-dives', 'space', 'fun', 'drunk', 'teenager', 'hindsight', 'be-yourself-quote', 'advice-for-writers', 'procrastinate', 'today', 'chapter-xxiii', 'wind', 'present', 'library', 'defiance', 'jesus-christ', 'misattributed-john-lennon', 'convictions', 'nonconformity', 'limit', 'growing-up', 'misattributed-to-marilyn-monroe', 'fresh-start', 'lotr', 'laugh', 'dissatisfaction', 'strength', 'depression', 'thankful', 'molly-weasley', 'friendship', 'cassandra-clare', '1931', 'realization', 'paraphrase-of-lewis-carroll', 'painting', 'alice-in-wonderland', 'frolick', 'misprints', 'clean', 'church', 'lack-of-love', 'dark-side', 'jace', 'acts-of-kindness', 'jem-carstairs', 'mr-darcy', 'victory', 'fantasy', 'going-on', 'body-image', 'living-life', 'isabelle-lightwood', 'art', 'self-help', 'real-life', 'assumptions', 'host', 'courtroom-drama', 'longings', 'lemons', 'addiction', 'misattributed-cassandra-clare', 'by-anne-sullivan', 'a-court-of-mist-and-fury', 'simplicity', 'hope', 'submission', 'inner-peace', 'vanity', 'names', 'positivity', 'idiots', 'tobias', 'affection', 'acorns', 'inertia', 'we-are-what-we-read', 'sense', 'labels', 'magnificent', 'magic', 'on-the-road', 'breaking-up', 'babies', 'windows', 'defenses', 'idiocy', 'of', 'demon', 'blog', 'positive-attitude', 'patience', 'awe', 'storms', 'clichÃ©s', 'teen-fantasy', 'morrison', 'computers', 'zeus', 'renewal', 'apple', 'commercial', 'missing', 'ambiguity', 'moon', 'clary', 'correct-way', 'touchstones', 'buddhism', 'rights', 'revelation', 'women', 'only-way', 'alchohol', 'late', 'stay-focused', 'good-day', 'purity', 'on-fiction', 'self-assessment', 'just-do-it', 'understanding', 'conscience', 'rationalism', 'dave-matthews', 'attitude', 'positive-thinking', 'justice', 'hunger-games', 'sharing-secrets', 'astronomer', 'faith', 'rebellion', 'honor', 'incredibly', 'wisedom', 'unhappy-life', 'jk-rowling', 'logic', 'rumi', 'good', 'honesty', 'posiedon', 'religion', 'reading', 'dare-to-be', 'shore', 'complaining', 'ingenuity', 'quiet', 'sorrow', 'philosophers-stone', 'apothegm', 'glass', 'moi', 'change', 'diplomacy', 'ralph-macchio', 'ruby', 'risk-taking', 'newspapers', 'ron-weasley', 'joh-green', 'call-me-by-your-name', 'mythological', 'defiant', 'sausage', 'realist', 'wealth', 'letters', 'cry', 'islam', 'denial', 'loyalty', 'appreciate', 'molly-weasley-anger', 'city-of-fallen-angels', 'principle', 'stake', 'crescendo', 'words', 'feathers', 'misattributed-stephen-hawking', 'greedy', 'people', 'mountains', 'liar', 'new-day', 'anais-nin', 'how-many', 'robin-goodfellow', 'care', 'consciousness', 'semantics', 'inspirational', 'inevitability', 'novel', 'barbarity', 'sci-fi', 'paraphrase-of-congreve', 'smiles', 'gold', 'thalia', 'self-discovery', 'unseen', 'quitting', 'cancer', 'fallen-anger', 'on-writing', 'chaos', 'flame', 'pretend', 'those-who-matter', 'difficulty', 'reputation', 'rose', 'thievery', 'haiku', 'prince-charming', 'bath', 'sea', 'mothers', 'self-denial', 'honest', 'criticism', 'characters', 'dimitri', 'awesome', 'qoutes-on-writing', 'diary', 'shouldn-t', 'mummies', 'ian', 'life-humor', 'conflict', 'recognition', 'forgiveness', 'conversations', 'optimism', 'less-more', 'relaxation', 'alec-lightwood', 'alyson', 'misattributed-to-mother-teresa', 'nightmares', 'mind', 'ambition', 'neverland', 'fire', 'devil', 'commerce', 'katniss', 'childhood-memory', 'chapter-24', 'inspirational-life', 'taylor-swift', 'adam', 'options', 'santiago', 'amelia-peabody', 'deadlines', 'hagrid', 'trauma', 'decisions', 'writing', 'mortal-instruments', 'city-of-glass', 'rebirth', 'misattributed-jace', 'goodness', 'mara-dyer', 'nicholas-sparks', 'song', 'william-gladstone', 'unbreakable-vow', 'common-experience', 'clare', 'romance', 'anything-can-be', 'inequality', 'johngreen', 'presidential', 'difficult', 'communication', 'live-in-the-moment', 'dhampir', 'theology', 'mouth', 'christianity', 'clouds', 'silence', 'afraid', 'fearlessness', 'gandalf', 'reciprocity', 'strategy', 'activism', 'deceit', 'skeptic', 'coldness', 'isaac-asimov', 'self-empowerment', 'fight', 'disease', 'literacy', 'depressing', 'worry', 'kiss', 'we-are-what-we-eat', 'this-lullaby', 'skepticism', 'humans', 'sweetness', 'advice-for-daily-living', 'machines', 'share', 'wishes', 'humanity', 'kill', 'blood', 'television', 'profanity', 'draco-malfoy', 'authentic-living', 'old-books', 'story-people', 'evidence', 'writer-s-life', 'mothers-day', 'alcohol', 'fred', 'charity', 'wither', 'systems', 'brave', 'amorality', 'fame', 'devotion', 'life', 'towel', 'confidence', 'mockingjay', 'italy', 'being-loved', 'misattributed-kurt-cobain', 'ruby-anger', 'simon', 'life-purpose', 'compassion', 'nico', 'fahrenheit-451', 'dandy', 'science', 'food-discussion', 'brain', 'bella', 'slaughterhouse-five', 'madness', 'dauntless', 'towns', 'seuss', 'young', 'witchcraft', 'kissing', 'fear', '2013', 'scared', 'marilyn-monroe', 'academy', 'illusions', 'quotation', 'worship', 'reality-of-life', 'dizziness', 'speaking', 'day', 'time-travel', 'falling', 'jace-lightwood', 'pretty', 'prayer', 'flaws', 'society', 'drive-out', 'secret', 'athena', 'gullibility', 'castle', 'twirl', 'stories-writing', 'inspire', 'strigoi', 'opposition', 'sanity', 'government', 'peter-pan', 'sufi', 'discovery', 'confused', 'forever', 'essence', 'wander', 'think', 'antolini', 'importance', 'loss', 'most-famous-novella', 'self-disclosure', 'sleep', 'never-give-up', 'right-way', 'children-s-books', 'gamgee', 'adulthood', 'nagasawa', 'sad', 'benjamin-button', 'richelle', 'narrator', 'muggles', 'lack-of-friendship', 'let-go', 'reach-out', 'book', 'memory', 'living-in-the-present', 'morality', 'principles', 'aciman', 'conviction', 'misattributed-george-santayana', 'books-reading', 'dare', 'spring', 'harry-potter', '2012', 'self-expression', 'hobbit', 'aspirations', 'misquote', 'sonnet-xvii', 'think-different', 'peeta', 'neurosis', 'individuality', 'oppression', 'misattributed-bill-cosby', 'inner-beauty', 'eternity', 'fairies', 'calvin-and-hobbes-reality', 'bible', 'kind', 'values', 'aliteracy', 'generations-intelligence-wisdom', 'metaphysics', 'friends', 'seize-the-day', 'herondale', 'limits', 'parks', 'aesthetics', 'absurdities', 'virtues', 'quest', 'british', 'the-way', 'arrogance', 'light-and-darkness', 'value', 'misattributed-ben-franklin', 'realism', 'funny', 'feyre', 'giving', 'stephenie-meyer', 'lock-and-key', 'growing', 'essay', 'throne-of-glass', 'make-a-difference', 'werewolf', 'luck', 'haymitch', 'mourning', 'philosophical', 'pain', 'e-readers', 'scout', 'nerds', 'book-the-count-of-monte-cristo', 'judgement', 'self-deprecation', 'favourite-books', 'distance', 'winter', 'saint-sinner', 'healing', 'hazel', 'scars', 'james-carstairs', 'inner-life', 'truth-telling', 'crazy', 'books-vacation', 'clothing', 'open-mindedness', 'unhappy-marriage', 'social', 'pride', 'status-quo', 'coffee', 'charming', 'dead', 'canoodle', 'gender-roles', 'brotherhood-of-man', 'famous', 'adversity', 'old-age', 'planning', 'grudges', 'visions', 'exercise', 'the-book-thief', 'remaining-silent', 'valentine-morgenstern', 'misattributed-george-carlin', 'self-worth', 'april', 'humor-sarcasm'}\n"
     ]
    }
   ],
   "source": [
    "# Iterting though the pandas Series object and adding each value in a Set\n",
    "# The benefit of the set is that only the unique values will be added, therefore all duplicates will be removed\n",
    "unique_tags = set()\n",
    "\n",
    "# row_tags is the list of tags in each row\n",
    "# we can see that sometimes a single row has multiple tags, therefore, we will nest another for loop inside which reads individual tags\n",
    "for row_tags in tags:\n",
    "    for tag in row_tags:\n",
    "        unique_tags.add(tag)\n",
    "\n",
    "print(unique_tags)"
   ]
  },
  {
   "cell_type": "code",
   "execution_count": 15,
   "metadata": {},
   "outputs": [
    {
     "data": {
      "text/plain": [
       "2161"
      ]
     },
     "execution_count": 15,
     "metadata": {},
     "output_type": "execute_result"
    }
   ],
   "source": [
    "len(unique_tags)"
   ]
  },
  {
   "cell_type": "markdown",
   "metadata": {},
   "source": [
    "There are a total of 2,161 tags. This is too many if we want this to be our target variable."
   ]
  },
  {
   "cell_type": "code",
   "execution_count": 16,
   "metadata": {},
   "outputs": [
    {
     "name": "stdout",
     "output_type": "stream",
     "text": [
      "{'be-yourself': 16, 'gilbert-perreira': 1, 'honesty': 12, 'inspirational': 319, 'misattributed-oscar-wilde': 2, 'quote-investigator': 1, 'best': 1, 'life': 295, 'love': 327, 'mistakes': 10, 'out-of-control': 1, 'truth': 61, 'worst': 1, 'human-nature': 9, 'humor': 254, 'infinity': 4, 'philosophy': 60, 'science': 26, 'stupidity': 7, 'universe': 6, 'books': 141, 'simile': 8, 'soul': 12, 'ataraxy': 4, 'confidence': 11, 'fitting-in': 1, 'individuality': 21, 'misattributed-dr-seuss': 1, 'those-who-matter': 1, 'dance': 5, 'heaven': 2, 'hurt': 8, 'sing': 2, 'dreams': 31, 'reality': 17, 'sleep': 7, 'action': 7, 'change': 34, 'wish': 2, 'character': 11, 'sirius-black': 2, 'friends': 28, 'friendship': 63, 'misattributed-albert-camus': 1, 'lies': 12, 'lying': 6, 'memory': 9, 'friend': 3, 'knowledge': 17, 'enemies': 4, 'forgiveness': 10, 'strategy': 3, 'carpe-diem': 7, 'education': 22, 'learning': 15, 'darkness': 7, 'drive-out': 1, 'hate': 10, 'light': 11, 'peace': 14, 'music': 31, 'intelligence': 12, 'self-deprecation': 1, 'accomplishment': 1, 'conformity': 3, 'advertising': 1, 'apple': 1, 'commercial': 1, 'computers': 1, 'different': 1, 'madness': 5, 'misattributed-apple': 1, 'misattributed-steve-jobs': 1, 'misfits': 1, 'nonconformity': 1, 'progressive': 1, 'rebels': 1, 'status-quo': 1, 'think-different': 1, 'troublemakers': 1, 'insanity': 8, 'misattributed-ben-franklin': 2, 'misattributed-mark-twain': 7, 'misattributed-to-einstein': 5, 'misattributed-marilyn-monroe': 1, 'actions': 3, 'disappointed': 1, 'disappointment': 9, 'dream': 7, 'explore': 1, 'sail': 1, 'frost': 1, 'glitter': 1, 'gold': 2, 'lost': 2, 'poetry': 45, 'roots': 2, 'strength': 28, 'strong': 1, 'wander': 2, 'wither': 1, 'abilities': 2, 'choices': 6, 'aliteracy': 2, 'classic': 4, 'live': 7, 'miracle': 1, 'miracles': 2, 'contentment': 4, 'optimism': 48, 'perception': 7, 'pessimism': 1, 'dragons': 3, 'fairy-tales': 6, 'paraphrasing-g-k-chesterton': 1, 'misattributed-to-abraham-lincoln': 1, 'misattributed-to-mark-twain': 1, 'remaining-silent': 2, 'wisdom': 62, 'majority': 1, 'minority': 1, 'pause': 1, 'reflect': 1, 'fate': 8, 'misattributed-john-lennon': 2, 'planning': 1, 'plans': 1, 'hope': 46, 'misattributed-eleanor-roosevelt': 7, 'past': 10, 'present': 4, 'widely-misattributed': 4, 'edison': 1, 'failure': 14, 'paraphrased': 10, 'lack-of-friendship': 1, 'lack-of-love': 1, 'marriage': 15, 'unhappy-marriage': 1, 'activism': 7, 'apathy': 2, 'indifference': 1, 'opposite': 1, 'literacy': 3, 'belief': 11, 'integrity': 9, 'misattributed-to-malcolm-x': 1, 'misattributed-to-rosa-parks': 1, 'navigation': 1, 'mischief': 2, 'animals': 9, 'dogs': 5, '1929': 1, 'imagination': 16, 'viereck-interview': 1, 'do-wrong': 1, 'trust': 18, 'wrong': 1, 'fantasy': 10, 'obvious': 1, 'read': 2, 'readers': 1, 'reading': 86, 'reading-books': 1, 'procrastination': 2, 'goodness': 9, 'happiness': 68, 'kindness': 19, 'misattributed-to-mother-teresa': 4, 'world': 14, 'courage': 37, 'deeply-loved': 1, 'source-unknown': 1, 'albus-dumbledore': 2, 'heartbreak': 12, 'sisters': 2, 'deadlines': 2, 'humour': 21, 'work': 10, 'writing': 67, 'simplicity': 2, 'understand': 1, '1970': 1, 'stories': 11, 'essential': 1, 'religion': 32, 'thought': 3, 'library': 5, 'art': 22, 'cats': 5, 'women': 40, 'katniss': 8, 'peeta': 6, 'suzanne-collins': 3, 'the-hunger-games': 5, 'tea': 3, 'misattributed-to-c-s-lewis': 2, 'power-of-words': 9, 'chocolate': 4, 'food': 8, 'dumbledore': 15, 'yourself': 2, 'comedy': 4, 'death': 47, 'harry': 1, 'philosophers-stone': 1, 'ron': 1, 'sorcerers-stone': 1, 'fear': 31, 'children': 12, 'city-of-bones': 9, 'jace': 18, 'doomed': 1, 'inevitable': 1, 'oblivion': 1, 'pleasure': 3, 'simple': 1, 'exercise': 2, 'laziness': 1, 'misattributed-to-hutchins': 1, 'beauty': 26, 'satisfaction': 1, 'self-determination': 20, 'seuss': 2, 'novelist-quotes': 1, 'television': 2, 'scifi': 2, 'bravery': 13, 'success': 24, 'anything-can-be': 1, 'impossible': 2, 'musn-t': 1, 'possibilities': 3, 'shouldn-t': 1, 'won-t': 1, 'misattributed-a-a-milne': 2, 'charlie': 1, 'favourite-books': 1, 'sad': 8, 'soul-searching': 1, 'wallflower': 2, 'nerdfighters': 3, 'imperfect': 1, 'authors': 3, 'literature': 15, 'girls': 6, 'weirdness': 1, 'body-soul': 1, 'john-green': 9, 'tfios': 6, 'the-fault-in-our-stars': 9, 'attributed': 3, 'inspiration': 87, 'open-mind': 2, 'thinking': 9, 'bilbo': 1, 'journey': 3, 'quest': 1, 'travel': 14, 'time': 25, 'calvin-and-hobbes': 4, 'mortal-instruments': 13, 'romance': 45, 'teen-fantasy': 3, 'judge': 2, 'perfection': 4, 'piglet': 2, 'pooh': 2, 'reassurance': 1, 'compassion': 13, 'suffering': 13, 'drug': 1, 'live-death-love': 1, 'self-indulgence': 1, 'theology': 1, 'adventuring': 1, 'desire': 6, 'emotion': 5, 'passion': 6, 'relationships': 33, 'wise-words': 1, 'snape': 3, 'good': 4, 'misattributed-to-emerson': 1, 'beatles': 9, 'connection': 2, 'dreamers': 4, 'dreaming': 7, 'dying': 3, 'facts': 2, 'fame': 4, 'knowing': 2, 'poverty': 2, 'school': 4, 'teach': 1, 'wealth': 3, 'mankind': 5, 'people': 14, 'sinister': 1, 'regrets': 1, 'morality': 7, 'humans': 2, 'pain': 34, 'scars': 6, 'better-life-empathy': 1, 'romantic': 5, 'adventure': 9, 'akeelah': 1, 'age': 9, 'fairytales': 2, 'growing-up': 7, 'attitude': 6, 'choice': 3, 'pretend': 2, 'alice': 1, 'philosophy-of-life': 2, 'psychological': 1, 'yesterday': 1, 'magic': 11, 'difficult': 1, 'grown-ups': 1, 'write': 2, 'writers': 4, 'limits': 2, 'inspirational-quotes': 65, 'strength-and-courage': 1, 'mind': 10, 'christianity': 6, 'faith': 22, 'sun': 3, 'memories': 6, 'misattributed-to-bill-gates': 1, 'nerd': 1, 'nerds': 1, 'paraphrase-of-congreve': 1, 'introspection': 3, 'self-discovery': 7, 'scar': 1, 'sweetness': 1, 'rebellion': 2, 'sarcasm': 12, 'philosphy': 1, 'greatness': 5, '1993': 1, 'advice': 4, 'complaining': 1, 'invincible': 1, 'teenagers': 1, 'teens': 1, 'sanity': 3, 'augustus-waters': 2, 'hazel': 1, 'privilege': 1, 'jace-wayland': 29, 'simon-lewis': 5, 'empathy': 6, 'dear-john': 2, 'nicholas-sparks': 8, 'fashion': 4, 'hermione': 1, 'health': 2, 'misprints': 1, 'misattributed-to-marilyn-monroe': 2, 'teachers': 2, 'the-notebook': 4, 'conflict': 2, 'fighting': 7, 'revenge': 2, 'trial': 4, 'violence': 1, 'johngreen': 1, 'lookingforalaska': 1, 'respect': 7, 'anger': 6, 'freedom': 28, 'misattributed-gloria-steinem': 2, 'misanthropy': 1, 'creativity': 5, 'empowerment': 17, 'flaws': 2, 'gender': 4, 'identity': 13, 'image': 1, 'independence': 12, 'realism': 1, 'self-awareness': 5, 'clary': 6, 'clothes': 1, 'wounds': 2, 'children-s-books': 1, 'commerce': 1, 'conscience': 3, 'humanity': 18, 'misattributed-to-gandhi': 2, 'money': 4, 'politics': 11, 'principle': 1, 'sacrifice': 5, 'sin': 4, 'sins': 1, 'worship': 1, 'meaning-of-life': 4, 'santiago': 1, 'clary-fray': 23, 'demons': 2, 'luke': 1, 'teenager': 1, 'bene-gesserit': 1, 'litany-against-fear': 1, 'motivational': 27, 'proverb': 1, 'human': 5, 'value': 5, 'worth': 2, 'nico': 1, 'tolstoy': 1, 'god': 28, 'dauntless': 1, 'divergent': 4, 'fearless': 4, 'four': 2, 'tris': 2, 'believe': 6, 'glittering-eyes': 1, 'hidden': 1, 'secrets': 5, 'unlikely-places': 1, 'watch': 1, 'book': 3, 'family': 15, 'parties': 1, 'social': 1, 'despair': 2, 'evil': 7, 'sadness': 22, 'victory': 2, 'alone': 3, 'coldness': 1, 'depression': 13, 'sorrow': 4, 'paraphrase-of-lewis-carroll': 1, 'loneliness': 27, 'loner': 1, 'solitude': 11, 'breaking-up': 1, 'lost-love': 2, 'mr-darcy': 1, 'culture': 1, 'achievement': 3, 'falling-apart': 1, 'giving-in': 1, 'bible': 3, 'misattributed-bill-cosby': 1, 'freethinker': 1, 'mad': 1, 'misattributed-john-wayne': 1, 'misattributed-douglas-adams': 1, 'wit': 5, 'paper-towns': 1, 'ordinary': 1, 'vlog': 1, 'opinions': 4, 'timelessness': 1, 'unity': 2, 'misattributed-cassandra-clare': 1, 'misattributed-jace': 1, 'weakness': 2, 'smile': 10, 'smiling': 2, 'encouragement': 5, 'gandalf': 2, 'bella-swan': 1, 'edward': 5, 'night': 6, 'stars': 8, 'magnus-bane': 8, 'boys': 2, 'biscuit': 1, 'harry-potter': 16, 'james-potter': 1, 'remus-lupin': 1, 'wormtail': 1, 'the-perks-of-being-a-wallflower': 3, 'judgement': 3, 'shampoo': 1, 'charity': 2, 'misattributed-audrey-hepburn': 1, 'seasons': 3, 'triumph': 1, 'bookroom': 1, 'libraries': 6, 'pride': 4, 'cassandra-clare': 4, 'city-of-glass': 6, 'grief': 17, 'loss': 16, 'revelation': 2, 'fact': 2, 'ignorance': 8, 'telekinetics': 1, 'jail': 1, 'ebay': 1, 'myth': 2, 'ambiguity': 2, 'uncertainty': 1, 'unpredictability': 1, 'friends-betrayal': 1, 'genius': 2, 'fiction': 3, 'humor-wicked-reading': 1, 'sphinx-without-a-secret': 1, 'self-deception': 3, 'man': 7, 'breakup': 1, 'infidelity': 2, 'life-lessons': 40, 'anais-nin': 3, 'qoutes-on-writing': 1, 'everyday-life': 1, 'funny': 34, 'observational-comedy': 1, 'humor-heaven': 1, 'song': 3, 'men': 20, 'boggs': 1, 'finnick': 3, 'hunger-games': 7, 'mockingjay': 4, 'odair': 1, 'witty': 1, 'chemistry': 1, 'meaning': 4, 'ideas': 2, 'sarah-j-maas': 1, 'throne-of-glass': 2, 'feminism': 12, 'oprah-s-thank-you-game': 1, 'adversity': 6, 'problems': 3, 'trials': 1, 'fred-weasley': 3, 'george-weasley': 3, 'ron-weasley': 5, 'logic': 2, 'automobile': 1, 'car': 1, 'religious': 2, 'pixie-dust': 1, 'inspirational-love': 3, 'qotd': 3, 'heart': 18, 'importance': 2, 'secret': 2, 'the-little-prince': 2, 'giving': 5, 'life-and-living': 36, 'positive-affirmation': 41, 'winnie': 1, 'self-responsibility': 2, 'timidity': 1, 'silence': 8, 'zen': 2, 'authenticity': 3, 'self': 6, 'heartache': 3, 'beginnings': 1, 'fresh-start': 1, 'mistake': 1, 'new-day': 1, 'start-over': 1, 'tomorrow': 1, 'ache': 1, 'bella': 3, 'dancing': 2, 'chapter-24': 1, 'will-herondale': 11, 'existence': 4, 'rue': 1, 'a-court-of-mist-and-fury': 3, 'acomaf': 2, 'feyre': 2, 'rhysand': 2, 'atheism': 10, 'fear-unknown': 1, 'unrequited-love': 3, 'books-vacation': 1, 'eating-reading': 1, 'expectations': 4, 'fairies': 1, 'mythology': 4, 'nightmares': 1, 'humor-reading': 2, 'misattributed-to-a-a-milne': 1, 'saint-sinner': 1, 'humorous': 3, 'dave-matthews': 1, 'requirements': 1, 'feathers': 1, 'souls': 3, 'understanding': 9, 'bath': 1, 'affection': 3, 'communication': 3, 'heartwarming': 1, 'human-connections': 1, 'humanism': 2, 'inspirational-life': 34, 'day': 3, 'breath': 1, 'allegory': 1, 'broad-mindedness': 1, 'imagery': 1, 'living': 48, 'dharma': 1, 'future': 17, 'reflection': 1, 'running': 1, 'misattributed-einstein': 1, 'letters': 1, 'love-at-first-sight': 2, 'inspirational-attitude': 28, 'inspire': 38, 'inspiring': 38, 'life-quotes': 48, 'motivation': 25, 'optimistic': 40, 'positive': 40, 'positive-life': 40, 'positive-thinking': 41, 'alive': 1, 'congratulations': 1, 'attraction': 3, 'popularity': 1, 'consul': 1, 'atticus-finch': 1, 'joy': 7, 'wishing': 1, 'talent': 3, 'words': 13, 'experience-mistakes-wisdom': 1, 'growth': 9, 'ideals': 1, 'martyr': 1, 'astronomer': 1, 'writer': 1, 'inertia': 2, 'leaving': 1, 'nerdfighter': 1, 'convictions': 1, 'criticism': 1, 'inspirational-faith': 1, 'anne': 1, 'frank': 1, 'happy': 5, 'creation': 3, 'creative': 1, 'worry': 7, 'life-choices-fig-trees': 1, 'writer-s-life': 1, 'classic-insult': 3, 'funeral': 1, 'crazy': 3, 'stupid': 1, 'first-sentence': 2, 'advice-for-daily-living': 2, 'reader': 2, 'speaking': 2, 'husband': 2, 'opening-lines': 2, 'wife': 2, 'americans': 1, 'geography': 1, 'war': 15, 'presidential': 1, 'brokenness': 1, 'healing': 8, 'consistency': 1, 'determination': 3, 'essence': 1, 'ethos': 1, 'fortitude': 1, 'persistence': 6, 'resolve': 1, 'self-reliance': 5, 'virtue': 4, 'virtues': 1, 'ego': 2, 'books-reading': 3, 'elizabeth-bennet': 3, 'jane-austen': 2, 'brown': 1, 'clare': 1, 'isabelle': 2, 'home': 4, 'touching': 2, 'fire': 2, 'flame': 1, 'isolation': 2, 'laughter': 9, 'the-kite-runner': 1, '1-corinthians-13': 1, 'dignity': 3, 'judgment': 2, 'speaking-out': 2, 'einstein': 4, 'nature': 10, 'simon': 6, 'misquote': 1, 'corruption': 3, 'dark-side': 1, 'monsters': 2, 'temptation': 4, 'molly-weasley-anger': 1, 'responsibility': 3, 'dirty': 1, 'logo': 1, 'sex': 10, 'destiny': 5, 'power': 3, 'hmmm': 1, 'adulthood': 2, 'being-human': 1, 'inspirational-quote': 4, 'life-philosophy': 5, 'smiles': 2, 'puppies': 1, 'suicide': 9, 'rights': 1, 'experience': 10, 'mortality': 2, 'broccoli': 1, 'pleasures': 1, 'salinger': 1, 'poem': 5, 'feelings': 5, 'jem-carstairs': 3, 'authentic-living': 4, 'authentic-self': 2, 'distance': 2, 'sense-of-wonder': 4, '1955': 1, 'curiosity': 3, 'mystery': 2, 'physics': 2, 'justice': 5, 'mercy': 4, 'gratitude': 10, 'living-life': 6, 'mindful': 1, 'mindfulness': 2, 'just-litsen': 1, 'sarah-dessen': 2, 'animal-farm': 2, 'kiss': 6, 'kissing': 2, 'censorship': 3, 'illiteracy': 1, 'accept-yourself': 1, 'keep-moving-forward': 2, 'letting-go': 14, 'love-yourself': 1, 'expectation': 2, 'life-memories': 1, 'best-friends': 1, 'moi': 1, 'irony': 4, 'fair': 1, 'sympathy': 1, 'appreciate': 2, 'fool': 1, 'self-confidence': 4, 'self-irony': 1, 'jim': 1, 'morrison': 1, 'dictionary': 1, 'fun': 1, 'isabelle-lightwood': 4, 'chaos': 1, 'trouble': 2, 'belonging': 1, 'company': 1, 'desires': 2, 'longings': 1, 'awesomeness': 1, 'girl': 1, 'makeup': 1, 'amsterdam': 1, 'amorality': 1, 'correct-way': 1, 'my-way': 1, 'only-way': 1, 'right-way': 1, 'the-way': 1, 'your-way': 1, 'vulnerability': 1, 'god-religion-house': 1, 'science-fiction': 4, 'prayer': 3, 'christopher-paolini': 1, 'eragon': 1, 'good-reads': 1, 'hell': 8, 'perseverance': 7, 'crooked-kingdom': 2, 'inej-ghafa': 2, 'kaz-brekker': 1, 'six-of-crows': 5, 'humor-satan': 1, 'misattributed-to-groucho-marx': 1, 'advocacy': 1, 'dissent': 1, 'protest': 1, 'truth-telling': 2, 'alice-s-adventures-in-wonderland': 1, 'originality': 2, 'anti-christian': 1, 'christians': 1, 'jesus-christ': 1, 'class': 2, 'clichÃ©s': 2, 'double-standards': 3, 'hypocrisy': 4, 'misogyny': 2, 'stereotypes': 2, 'nicholas': 2, 'sparks': 2, '1997': 1, 'annie-clark-tanner-lecture': 1, 'procrastinate': 1, 'drama': 1, 'plays': 1, 'risk': 4, 'brave': 3, 'purpose': 4, 'vision': 1, 'name-of-the-wind': 1, 'patrick-rothfuss': 2, 're-reading': 1, 'busy': 1, 'call': 1, 'dating': 2, 'dating-advice': 1, 'greg-behrendt': 1, 'guys': 1, 'he-s-not-just-into-you': 1, 'true': 4, 'discworld': 1, 'humbert-humbert': 1, 'patriotism': 1, 'taste': 2, 'tyler-durden': 1, 'believe-in-yourself': 2, 'f-scott-fitzgerald': 2, 'looking-for-alaska': 4, 'grudge': 1, 'regret': 5, 'perspective': 5, 'broken-glass': 1, 'glass': 1, 'moon': 3, 'moonshine': 1, 'show-don-t-tell': 1, 'being-loved': 3, 'completion': 1, 'focus': 3, 'grow': 1, 'leader': 4, 'leaders': 3, 'leadership': 7, 'stay-focused': 1, 'step-out-of-comfort-zone': 1, 'transform': 2, 'apollo': 2, 'gods': 1, 'hot': 2, 'olympians': 4, 'percy-jackson': 11, 'thalia': 1, 'true-love': 5, 'hazel-grace': 1, 'who-you-are': 1, 'whole-being': 1, 'being-positive': 3, 'blessed': 2, 'less-more': 1, 'life-purpose': 1, 'spirituality': 9, 'stress': 1, 'stressed': 1, 'worrying': 2, 'inner-peace': 2, 'permission': 1, 'plant': 1, 'reap': 1, 'seed': 1, 'seeds': 2, 'sow': 1, 'crying': 7, 'options': 1, 'rumi': 1, 'sufi': 1, 'calvin-and-hobbes-reality': 1, 'by-anne-sullivan': 1, 'emotions': 5, 'others': 1, 'think': 2, 'beatrice': 1, 'tobias': 2, 'forgetting': 5, 'waiting': 1, 'cleverness': 1, 'misattributed': 4, 'share': 1, 'bookstore': 1, 'towns': 1, 'act': 1, 'criticize': 1, 'doing': 1, 'feeling': 1, 'listening': 3, 'ponder': 1, 'metaphor': 3, 'esist': 1, 'spinning': 1, 'stele': 1, 'beatitudes': 2, 'bob-marley': 2, 'reggae': 1, 'unsourced': 1, 'goodbye': 6, 'refuge': 1, 'ferret-malfoy': 1, 'death-peace': 1, 'laugh': 2, 'relationship': 3, 'alice-in-wonderland': 5, 'breakfast': 1, 'carroll': 2, 'leigh-bardugo': 1, 'choose': 1, 'hatred': 4, 'fudge': 1, 'minister': 1, 'style': 1, 'independent-thought': 1, 'self-expression': 3, 'deep-thoughts': 1, 'moving-on': 9, 'reminding': 1, 'clockwork-angel': 5, 'sophie-collins': 1, 'lost-innocence': 1, 'paranormal-romance': 2, 'moving-forward': 1, 'parenting': 4, 'self-assurance': 2, 'delusion': 1, 'what-is-right': 1, 'progress': 2, 'aspiration': 1, 'assurance': 1, 'clouds': 1, 'color': 1, 'conviction': 1, 'maturity': 2, 'sunset': 1, 'spiritual': 5, 'uplifting': 2, 'good-day': 1, 'how-many': 1, 'how-much': 1, 'live-well': 1, 'eyes': 1, 'lemons': 1, 'alcohol': 1, 'letting-go-of-the-past': 2, 'living-in-the-present': 2, 'living-life-to-the-fullest': 1, 'living-now': 2, 'care': 2, 'diversity': 1, 'seduction': 1, 'comfort': 5, 'albus-potter': 1, 'we-are-what-we-eat': 1, 'we-are-what-we-read': 1, 'you-are-what-you-eat': 1, 'you-are-what-you-read': 1, 'idleness': 1, 'equality': 4, 'flattery': 1, 'rationality': 2, 'reason': 7, 'social-norms': 1, 'women-s-rights': 2, 'self-image': 1, 'sense-of-self': 1, 'storytelling': 3, 'trauma': 1, 'prejudice': 1, 'vanity': 1, 'recognition': 1, 'ambition': 2, 'chapter-xxiii': 1, 'fuck': 1, 'profanity': 1, 'unhappiness': 3, 'sandman': 2, 'memoir': 1, 'values': 3, 'acceptance': 8, 'bibliophiles': 2, 'book-lovers': 3, 'dare-to-be': 1, 'seize-the-day': 1, 'dimitri': 3, 'rose': 3, 'urban-fantasy': 1, 'vampire': 5, 'young-adult-novels': 1, 'forever': 1, 'what-men-really-want': 1, 'eccentricity': 1, 'chance': 1, 'ethics': 4, '1931': 1, 'perfect': 1, 'truthful': 1, 'bad': 2, 'owen-armstrong': 1, 'bereavement': 1, 'consolation': 1, 'reincarnation': 2, 'investigation': 1, 'joke': 5, 'lovers': 2, 'flight': 3, 'flying': 5, 'hg2g': 2, 'hush': 2, 'albert-einstein': 1, 'hamlet': 1, 'cancer': 2, 'quitting': 1, 'ferret': 1, 'dandy': 1, 'lord-henry-wotton': 1, 'wilde': 1, 'inner-strength': 1, 'self-control': 1, 'humility': 2, 'self-improvement': 3, 'remembrance': 1, 'fears': 1, 'right': 2, 'amor-deliria-nervosa': 1, 'mask': 1, 'personality': 1, 'revolution': 2, 'together': 1, 'energy': 1, 'the-last-song': 1, 'how': 1, 'questioning': 1, 'questions': 2, 'why': 1, 'troubles': 1, 'prince-charming': 1, 'taylor-swift': 1, 'abe': 1, 'enemy': 2, 'lincoln': 1, 'apothegm': 1, 'talking': 1, 'cry': 4, 'final': 1, 'lupin': 1, 'parents': 5, 'sirius': 1, 'death-and-dying': 1, 'orhan-pamuk': 1, 'the-new-life': 1, 'eleven-minutes': 1, 'paulo-coelho': 1, 'catherine': 1, 'or-the-bower': 1, 'antolini': 1, 'misattributed-george-carlin': 3, 'goals': 5, 'cheese': 1, 'christina-grey': 1, 'e-l-james': 1, 'fifty-shades-of-grey': 1, 'never-give-up': 2, 'amnesia': 1, 'magic-books': 1, 'endings': 1, 'happy-endings': 1, 'thievery': 1, 'treasure': 1, 'mood-swings': 1, 'new-year': 3, 'birds': 2, 'shore': 1, 'woods': 1, 'francois-rabelais': 1, 'last-words': 3, 'ecstasy': 2, 'buddhism': 1, 'thoughts': 5, 'earth': 2, 'space': 1, 'Ø\\xadØ¨': 1, 'excuse': 1, 'improvement': 2, 'survival': 3, 'profound': 2, 'chinese': 1, 'crisis': 1, 'danger': 1, 'opportunity': 2, 'h2g2': 1, 'hitchhiker-s-guide': 1, 'panic': 1, 'eternity': 1, 'forests': 2, 'history': 7, 'holiness': 1, 'longing': 5, 'poet': 1, 'trees': 3, 'wonder': 5, 'hippy': 1, 'william-gladstone': 1, 'needs': 1, 'intimidation': 1, 'stubbornness': 1, 'enjoy-life': 3, 'fearlessness': 1, 'live-in-the-moment': 4, 'steppenwolf': 1, 'caring': 2, 'roses': 2, 'classics': 2, 'star': 1, 'molly-weasley': 1, 'toilet': 1, 'french-renaissance-writer': 1, 'miles-halter': 1, 'mountains': 1, 'rocks': 1, 'contrast': 1, 'katharine-hepburn': 1, 'appreciation': 5, 'awe': 2, 'positivity': 2, 'clockwork-prince': 3, 'tessa-gray': 4, 'theresa-gray': 1, 'city-of-ashes': 4, 'sinners': 1, 'defiance': 1, 'self-containment': 1, 'self-esteem': 5, 'self-respect': 4, 'self-sufficiency': 2, 'self-trust': 1, 'answers': 2, 'earnestness': 1, 'gullibility': 1, 'imposters': 1, 'goals-in-life': 1, 'learn': 3, 'light-and-darkness': 1, 'meaningful': 1, 'meaningful-life': 1, 'wise': 5, 'growing': 2, 'real-love': 1, 'reality-of-life': 1, 'those-who-love-us': 1, 'to-be-loved': 1, 'what-matters': 1, 'seperate': 1, 'body-image': 1, 'imperfections': 2, 'self-acceptance': 3, 'opposition': 1, 'spirit': 1, 'depression-silence': 1, 'awkward': 1, 'human-condition': 1, 'punishment': 1, 'jordan-baker': 1, 'cynic': 1, 'goal': 1, 'painting': 1, 'education-knowledge': 1, 'humor-cats-allergies': 1, 'machines': 1, 'ginny-weasley': 1, 'kind': 3, 'jk-rowling': 1, 'stephenie-meyer': 1, 'twilight': 1, 'poets': 1, 'cleanliness': 1, 'consciousness': 1, 'feet': 1, 'purity': 1, 'semantics': 1, 'suspicion': 1, 'america': 2, 'david': 1, 'uglies': 1, 'westerfeld': 1, 'tears': 6, 'road': 1, 'real-life': 1, 'crime': 3, 'oppression': 1, 'invention': 1, 'quip': 3, 'wings': 2, 'self-assessment': 1, 'redemption': 1, 'drinking': 3, 'bossypants': 1, 'self-love': 2, 'tina-fey': 1, 'blues': 1, 'rescuing': 1, 'infinite-jest': 1, 'renewal': 1, 'summer': 2, 'society': 5, 'most-famous-novella': 1, 'be-yourself-inspirational': 1, 'be-yourself-quote': 1, 'be-yourself-quotes': 1, 'inner-voice': 2, 'common-sense': 2, 'manners': 2, 'morals': 4, 'patience': 6, 'challenge': 2, 'enjoy-the-journey': 1, 'move-on': 1, 'lotr': 1, 'arts-and-humanities': 1, 'creative-process': 2, 'self-denial': 1, 'self-disclosure': 1, 'generations-intelligence-wisdom': 1, 'language': 5, 'voice': 3, 'smart': 2, 'alec-lightwood': 3, 'inspirational-stories': 1, 'self-realization': 1, 'dark-humor': 1, 'an-abundance-of-katherines': 1, 'joh-green': 1, 'birth': 2, 'lonely': 2, 'missing': 1, 'feminist': 1, 'inner-beauty': 2, 'adaptation': 2, 'flexibility': 1, 'open-mindedness': 3, 'arrogance': 1, 'flirting': 1, 'holden': 3, 'scared': 1, 'stoicism': 1, 'afternoon': 1, 'december': 1, 'flewn': 1, 'june': 1, 'late': 1, 'soon': 1, 'writing-advice': 2, 'dishonesty': 1, 'willful-ignorance': 1, 'obsession': 3, 'mummies': 1, 'werewolf': 1, 'zombies': 1, 'good-life': 1, 'insults': 1, 'shakespeare': 2, 'cynicism': 1, 'enduring': 1, 'going-on': 1, 'barrie': 1, 'kensington-gardens': 1, 'london': 1, 'neverland': 1, 'park': 1, 'peter-pan': 1, 'scotland': 2, 'fallen-anger': 1, 'nephlim': 1, 'statistics': 1, 'injury': 1, 'mortification': 1, 'box': 1, 'gift': 2, 'eat-pray-love': 1, 'elizabeth-gilbert': 1, 'enthusiasm': 1, 'foolishness': 2, 'silliness': 1, 'grudges': 1, 'illusions': 1, 'acorns': 1, 'zoe-nightshade': 1, 'mina': 1, 'van-helsing': 1, 'autonomy': 1, 'bachelorhood': 1, 'matrimony': 1, 'singles': 1, 'emptiness': 1, 'franz-kafka': 1, 'bestseller': 1, 'north-carolina': 1, 'novel': 1, 'parting': 2, 'romantics': 1, 'jealousy': 2, 'greek': 1, 'sorry': 1, 'extraterrestrials': 1, 'intelligent-life': 1, 'let-go': 2, 'mellark': 1, 'twilight-saga': 1, 'childhood': 4, 'psychology': 3, 'helping-others': 4, 'make-a-difference': 1, 'purpose-of-life': 2, 'castle': 1, 'quotes': 3, 'awesome-quote': 1, 'haymitch': 1, 'description': 1, 'beliefs': 1, 'courage-quotes': 1, 'kill': 2, 'city-of-fallen-angels': 3, 'herondale': 1, 'jace-lightwood': 3, 'letter': 1, 'morgenstern': 1, 'wayland': 1, 'angels': 1, 'nagasawa': 1, 'pooh-bear': 1, 'winnie-the-pooh': 1, 'amity': 1, 'civil-rights': 2, 'free-speech': 1, 'free-will': 1, 'liberty': 3, 'amelia-peabody': 1, 'brave-new-world': 1, 'hunger': 1, 'thirst': 1, 'yearning': 3, 'bibliophilia': 1, 'chivalry': 2, 'protection': 2, 'gender-roles': 1, 'gender-stereotypes': 2, 'lock-and-key': 1, 'infatuation': 5, 'dursley': 2, 'news': 1, 'luck': 2, 'islam': 1, 'recovery': 1, 'explain': 1, 'gossip': 2, 'public-opinion': 1, 'governments': 1, 'killing': 1, 'law': 1, 'murder': 1, 'nationalism': 1, 'nations': 1, 'songs': 1, 'christmas': 2, 'socks': 1, 'rachel-elizabeth-dare': 1, 'self-empowerment': 1, 'neighborhoods': 1, 'brain': 1, 'arrow': 1, 'inej': 1, 'suli-poverb': 1, 'calling': 1, 'ferocity': 1, 'devotion': 1, 'dark': 1, 'close': 1, 'extremely': 1, 'foer': 1, 'incredibly': 1, 'jonathan': 1, 'loud': 2, 'safran': 1, 'agama': 1, 'agnosticism': 1, 'misattributed-grace-hopper': 1, 'misattributed-william-g-t-shedd': 1, 'dreamer': 1, 'liar': 1, 'make-believe': 1, 'wisher': 1, 'wishes': 3, 'katniss-everdeen': 3, 'peeta-mellark': 4, 'not-alone': 1, 'atlas': 1, 'shrugged': 1, 'realist': 1, 'annabeth-chase': 5, 'decisions': 2, 'romeo-and-juliet': 2, 'athena': 2, 'poseidon': 1, 'claire-fraser': 1, 'historical-fiction': 1, 'time-travel': 1, 'clothing': 1, 'truth-lies': 1, 'serenity': 2, 'autumn': 2, 'october': 1, 'thankfulness': 2, 'reading-secrets': 1, 'pretty': 2, 'dramatist-quotes': 1, 'struggle': 1, 'never-stop-believing': 1, 'never-stop-learning': 1, 'try': 1, 'trying': 2, 'forgiving': 1, 'grieving': 1, 'mentoring': 3, 'reasoning': 1, 'brotherhood-of-man': 1, 'scout': 2, 'henry-miller': 1, 'design': 1, 'foolproof': 1, 'ingenuity': 1, 'pijamas': 1, 'benediction': 4, 'johnny-cade': 1, 'ponyboy-curtis': 1, 'ralph-macchio': 1, 'difficulty': 1, 'storms': 1, 'teaching': 1, 'plants': 1, 'wilderness': 1, 'imperfection': 1, 'burdens': 1, 'unburdening': 1, 'weight': 1, 'enterprise': 1, 'confidences': 1, 'sharing-secrets': 1, 'awesome': 2, 'deceit': 1, 'shock': 1, 'top-8': 1, 'obedience': 1, 'addiction': 2, 'alchohol': 1, 'drugs': 2, 'melancholy': 1, '2013': 1, 'james-carstairs': 1, 'william-herondale': 2, 'finale-of-middlemarch': 1, 'tintern-abbey': 1, 'inevitability': 1, 'spring': 2, 'jesus': 2, 'women-mothers': 1, 'acts-of-kindness': 1, 'dan-brown': 1, 'ugly': 1, 'gondor': 1, 'relaxation': 1, 'british': 1, 'social-commentary': 2, 'thumb': 1, 'towel': 1, 'golda': 1, 'meir': 1, 'conversations': 1, 'distractions': 1, 'quiet': 1, 'forcasting': 1, 'mottos': 1, 'winter': 3, 'direction': 2, 'flying-spirit': 1, 'winds': 1, 'winds-of-life': 1, 'fahrenheit-451': 1, 'holden-caulfield': 1, 'run': 2, 'save': 1, 'rythmic': 1, 'thoughtful': 1, 'homicide': 1, 'dr-seuss': 3, 'life-pattern': 1, 'service': 3, 'newspapers': 1, 'impact': 1, 'reach-out': 1, 'goodwill': 1, 'goodbyes': 1, 'young-at-heart': 1, 'youth': 4, 'youthfulness': 1, 'nora': 3, 'patch': 5, 'mad-hatter': 1, 'nonsense': 2, 'betrayal': 2, 'deception': 2, 'water': 3, 'witchcraft': 1, 'witches': 1, 'dangerous': 1, 'sentimentality': 1, 'habits': 1, 'becca-fitzpatrick': 2, 'hush-hush': 1, 'heartbreaking': 1, 'the-book-thief': 1, 'benjamin-button': 1, 'defend': 1, 'fantasy-books': 1, 'nietzsche': 1, 'skeptic': 2, 'missed-chances': 2, 'defenses': 1, 'thorns': 1, 'destruction': 2, 'democracy': 2, 'government': 1, 'charming': 1, 'tedious': 1, 'privacy': 1, 'safety': 1, 'security': 2, 'heroes': 2, 'oaths': 1, 'metaphysics': 2, 'slaughterhouse-five': 1, 'will-s-letter-to-tessa': 1, 'radiance': 1, 'speed-of-light': 1, 'knowing-others': 1, 'everything': 1, 'seeing': 1, 'teacher': 1, 'beyonce': 1, 'lady-gaga': 1, 'mirror': 2, 'play': 1, 'rewind': 1, 'stop': 1, 'valentine': 1, 'little-women': 1, 'louisa-may-alcott': 1, 'cartoonist': 1, 'depressing': 3, 'hopeless': 1, 'beautiful': 4, 'blood': 2, 'mouth': 1, 'museums': 1, 'parks': 1, 'sensation': 1, 'sex-appeal': 1, 'snow': 2, 'fight': 3, 'legacy': 1, 'attention': 1, 'lewis': 1, 'misery': 1, 'marilyn-monroe': 3, 'draco-malfoy': 1, 'quotation': 1, 'horror': 2, 'fred': 1, 'haiku': 2, 'sonnet-xvii': 1, 'the-choice': 1, 'ghost': 1, 'jesper': 1, 'college': 1, 'semicolons': 1, 'cynical': 2, 'dead': 2, 'warriors': 1, 'neurosis': 1, 'couples': 2, 'need': 1, 'ya': 1, 'agency': 1, 'god-religion-happiness': 1, 'apocryphal': 1, 'life-truths': 1, 'reality-check': 1, 'tragedy': 2, 'unfairness': 1, 'inspirational-ship-storms': 1, 'on-writing': 3, 'writing-from-the-heart': 1, 'mothers': 2, 'boredom': 1, 'old-books': 1, 'old-age': 1, 'misattributed-kurt-cobain': 1, 'frodo': 1, 'amazing-writing': 1, 'aesthetics': 1, 'hidden-things': 1, 'courtroom-drama': 1, 'abe-mazur': 1, 'last-sacrifice': 1, 'rosemarie-hathaway': 1, 'discovery': 3, 'eccentric': 1, 'house': 1, 'windows': 1, 'nothing': 1, 'incrementalism': 1, 'pets': 1, 'shelter': 1, 'kvothe': 1, 'man-s': 1, 'name': 1, 'wind': 1, 'sense': 1, 'gray-book': 1, 'hodge': 1, 'sci-fi': 1, 'vorkosigan': 1, 'cracks': 1, 'peeves': 1, 'umbridge': 1, 'forgive': 1, 'die': 2, 'will': 2, 'spiritual-growth': 2, 'satirical': 1, 'heal': 1, 'safe': 1, 'albert': 1, 'equations': 1, 'wayfinding': 1, 'humor-tattoo': 1, 'babies': 1, 'children-s-literature': 1, 'idiocy': 1, 'concern': 1, 'understanding-others': 2, 'apocalypse': 1, 'misattributed-stephen-hawking': 1, 'jacob': 1, 'meyer': 1, 'challenges': 3, 'catatonia': 1, 'coma': 1, 'cinna': 1, 'catching-fire': 3, 'foreshadowing': 1, 'macbeth': 1, 'hindsight': 1, 'inner-life': 2, 'hopelessness': 2, 'philosophical': 1, 'diary': 1, 'musical': 1, 'being-yourself': 1, 'shine': 1, 'vegetarianism': 1, 'submission': 1, 'superiority': 1, 'power-of-music': 2, 'ocean': 1, 'thankful': 2, 'prank': 2, 'self-help': 1, 'deep': 2, 'sharing': 2, 'katniss-and-peeta': 1, 'frienship': 1, 'mail': 1, 'simon_bolivar-s_labyrinth': 1, 'positive-attitude': 2, 'vampire-academy': 1, 'atoms': 1, 'cosmos': 1, 'dna': 1, 'films': 1, 'story-people': 1, 'phenomenal-woman': 1, 'shadowhunters': 1, 'coffee': 1, 'companionship': 2, 'single': 1, 'spinsterhood': 1, 'on-the-road': 1, 'sal-paradise': 1, 'lover': 2, 'person': 1, 'desperate': 1, 'losing': 1, 'nostalgia': 1, 'dog': 1, 'famous': 1, 'valour': 1, 'mara-dyer': 1, 'bad-day': 1, 'inconvenient': 1, 'loyalty': 1, 'insincerity': 1, 'role-models': 1, 'barriers': 1, 'failures': 1, 'demographics': 1, 'common-experience': 1, 'taking-chances': 1, 'incredibly-true': 1, 'mutuality': 1, 'reciprocity': 1, 'aloneness': 1, 'common-ground': 1, 'loved-ones': 1, 'behind': 1, 'of': 1, 'thing': 1, 'assassin': 1, 'inkheart': 1, 'labels': 1, 'names': 1, 'enjoy': 1, 'separation': 1, 'academy': 1, 'mead': 1, 'richelle': 1, 'at-first-sight': 1, 'tough-times': 1, 'rich': 1, 'rich-heart': 1, 'richness': 1, 'comfort-zone': 1, 'start-up': 1, 'step-out-of-your-comfort-zone': 1, 'toltec-wisdom': 1, 'self-loathing': 1, 'mermaids': 2, 'no-fear': 1, 'sea': 1, 'selfishness': 2, 'limit': 1, 'potential': 2, 'sweet': 3, 'craziness': 1, 'unique': 2, 'arts': 1, 'initiative': 2, 'adoration': 1, 'anxiety': 1, 'dizziness': 1, 'eastern-philosophy': 1, 'challanges': 1, 'beatnik': 1, 'misattributed-betty-white': 1, 'lamp': 1, 'warrior': 1, 'the-mortal-instruments': 1, 'tmi': 1, 'individualism': 1, 'lena-holoway': 1, '2008': 1, 'morning': 1, 'waking-up': 1, 'defiant': 1, 'self-belief': 1, 'self-worth': 1, 'fountainhead': 1, 'diary-entry': 1, 'internet': 1, 'pedophile': 1, 'pedophilia': 1, '2012': 1, 'blog': 1, 'shelves': 1, 'high-school': 1, 'teenage-love': 1, 'fellowship': 1, 'gamgee': 1, 'hobbit': 1, 'samwise': 1, 'tolkien': 1, 'tired': 1, 'recollection': 1, 'systems': 1, 'give': 2, 'mothers-day': 1, 'propaganda': 2, 'rewriting-history': 1, 'anne-rice': 1, 'pandora': 1, 'teasing': 1, 'malfoy': 1, 'unbreakable-vow': 1, 'speech': 1, 'grammar': 1, 'self-sacrifice': 2, 'heartfelt': 1, 'shame': 1, 'maia': 1, 'judging-from-experience': 1, 'unseen': 1, 'honor': 1, 'personal-responsibility': 2, 'elections': 1, 'rulers': 1, 'ruby': 1, 'childhood-memory': 1, 'jordan-kyle': 1, 'clean': 1, 'dirt': 1, 'good-evil': 1, 'adam': 1, 'ignite-me': 1, 'unbreakable': 1, 'canoodle': 1, 'magnificent': 1, 'zsadist': 1, 'trials-of-life': 1, 'absurdities': 1, 'atrocities': 1, 'barbarity': 1, 'injustice': 1, 'skepticism': 1, 'innocence': 3, 'right-of-passage': 1, 'silly-chinese-canadian-baby-man': 1, 'narrator': 1, 'the-great-gatsby': 1, 'novelty': 1, 'soulmates': 1, 'misattributed-george-santayana': 1, 'dare': 1, 'waste': 1, 'dissapointment': 1, 'athe-plague-of-dives': 1, 'dissatisfaction': 1, 'thanksgiving': 2, 'good-books': 1, 'diplomacy': 1, 'ruby-anger': 1, 'flowers': 1, 'sky': 1, 'james-bond': 1, 'fallen-angels': 1, 'devil': 1, 'escape': 1, 'intoxication': 1, 'suess': 1, 'wilhelm-stekel': 1, 'posiedon': 1, 'the-lightning-thief': 1, 'zeus': 1, 'e-readers': 1, 'kindle': 1, 'immature': 1, 'young': 1, 'own': 1, 'things': 1, 'advice-for-writers': 1, 'awareness': 2, 'mythological': 1, 'paradise': 1, 'changes': 1, 'exploration': 1, 'layken': 1, 'slammed': 1, 'disease': 1, 'reality-bothered': 1, 'inspirational-human-spirit': 1, 'alec': 1, 'max': 1, 'men-and-women': 1, 'prose': 1, 'control': 1, 'organized-religion': 2, 'mother': 1, 'adrian-ivashkov': 1, 'intent': 1, 'humor-mustache': 1, 'life-dreams': 1, 'demon': 1, 'pox': 1, 'novelist': 1, 'ghosts': 1, 'haunt': 1, 'appearance': 1, 'jokes': 1, 'before-i-fall': 1, 'young-adult-fiction': 2, 'denial': 1, 'risk-taking': 1, 'peer-pressure': 2, 'boldness': 1, 'food-discussion': 1, 'peanut-butter': 1, 'tyson': 1, 'just-do-it': 1, 'proactivity': 1, 'volunteerism': 1, 'expression': 1, 'finding-your-voice': 1, 'haunting': 1, 'humor-sarcasm': 1, 'reputation': 1, 'inventing-humor': 1, 'intellect': 1, 'forgetfulness': 1, 'psychotherapist': 1, 'visions': 1, 'ecology': 1, 'witch': 1, 'confused': 1, 'age-adult': 1, 'crescendo': 1, 'paradox': 2, 'host': 1, 'ian': 1, 'jamie': 1, 'jared': 1, 'melanie': 1, 'uncle-jeb': 1, 'wanda': 1, 'sonnet': 1, 'agree': 1, 'abraham-lincoln': 1, 'bathing': 1, 'reticence': 1, 'woman': 2, 'women-s-strenth': 1, 'dorian-gray': 1, 'robert-foster': 1, 'love-friendship': 1, 'celaena-sardothien': 2, 'chaol-westfall': 1, 'books-bible': 1, 'greedy': 1, 'myself': 1, 'selfish': 1, 'fresh-starts': 1, 'new-beginnings': 1, 'reinvention': 1, 'alyson': 1, 'evermore': 1, 'immortals': 1, 'noel': 1, 'elite': 1, 'elitism': 1, 'elitist': 1, 'voter': 1, 'voting': 1, 'stories-writing': 1, 'self-knowledge': 1, 'book-the-count-of-monte-cristo': 1, 'puck': 1, 'bridge': 1, 'dhampir': 1, 'promise': 1, 'stake': 1, 'strigoi': 1, 'mormont': 1, 'cruelty': 1, 'alaska-young': 1, 'blackjack': 1, 'dionysus': 1, 'birthday': 1, 'hagrid': 1, 'pig': 1, 'wizard': 2, 'injuries': 1, 'doubt': 1, 'records': 1, 'gaiman': 1, 'gandhi': 1, 'martyrdom': 1, 'misattributed-to-albert-camus': 1, 'pacifism': 1, 'principles': 1, 'muggles': 1, 'aristotle': 1, 'great-minds': 1, 'buddism': 1, 'mourning': 1, 'broken-families': 1, 'divorce': 1, 'family-ties': 1, 'soul-ties': 1, 'the-nature-of-family': 1, 'true-family': 1, 'absence': 1, 'grandmothers': 1, 'grandparents': 1, 'walking': 1, 'whiskey': 1, 'on-fiction': 2, 'concealment': 1, 'dark-plans': 1, 'stealth': 1, 'femininity': 1, 'essay': 1, 'lecture': 1, 'nonfiction': 1, 'transcendentalism': 1, 'morganvillevampires': 1, 'capability': 1, 'possibility': 1, 'skills': 1, 'sexuality': 1, 'wisedom': 1, 'this-lullaby': 1, 'anais': 1, 'nin': 1, 'gonzo': 1, 'detection': 1, 'evidence': 1, 'obviousness': 1, 'sherlock-holmes': 1, 'assumptions': 1, 'close-mindedness': 1, 'isaac-asimov': 1, 'open-minds': 1, 'receptivity': 1, 'science-of-mind': 1, 'christina': 1, 'veronica-roth': 1, 'anarchy': 1, 'lateral-thinking': 1, 'rationalism': 1, 'zarek': 1, 'april': 1, 'dystopia': 1, 'possiblity': 1, 'drunk': 1, 'wine': 1, 'confession': 1, 'excuses': 1, 'aciman': 1, 'call-me-by-your-name': 1, 'italy': 1, 'intellectuals': 1, 'scholars': 1, 'knowledge-power': 1, 'elizabethan': 1, 'robin-goodfellow': 1, 'angel': 1, 'nora-grey': 1, 'chapter-one': 1, 'city-of-lost-souls': 1, 'limitations': 1, 'talents': 1, 'falling': 1, 'lesson-on-living': 1, 'paramore': 1, 'singer': 1, 'stand': 1, 'unhappy-life': 1, 'love-quotes': 1, 'clock': 1, 'ticking': 1, 'all-the-bright-places': 1, 'discipline': 1, 'grisha': 1, 'the-beatrice-letters': 1, 'honest': 1, 'integrity-quotes': 1, 'listen': 1, 'speak': 1, 'death-of-a-loved-one': 1, 'force': 1, 'idiots': 1, 'life-humor': 1, 'adults': 1, 'antoine-de-saint-exupery': 1, 'realization': 1, 'sebastian': 1, 'valentine-morgenstern': 1, 'antipathy': 1, 'dislike': 1, 'talk': 1, 'stephen-chbosky': 1, 'trap': 1, 'openness': 1, 'atheist': 1, 'church': 1, 'swear': 1, 'afraid': 1, 'frolick': 1, 'remember': 1, 'twirl': 1, 'connecting': 1, 'rebirth': 1, 'inequality': 1, 'hunger-games-peeta-katniss': 1, 'the-selection': 1, 'doctor-who': 1, 'dracula': 1, 'misattributed-to-chalmers': 1, 'misattributed-to-joseph-addison': 1, 'misattributed-to-kant': 1, 'misattributed-tom-bodett': 1, 'rena-silverman': 1, 'samuel-beckett': 1, 'new-england-wisdom': 1, 'celebrity': 1, 'aspirations': 1, 'ardor': 1, 'heathcliff': 1, 'cows': 1, 'pigs': 1, 'sausage': 1, 'question': 1, 'thought-provoking': 1, 'characters': 1, 'touchstones': 1, 'true-to-self': 1, 'wring': 1, 'lust': 1, 'misattributed-goethe': 1, 'today': 1, 'just-listen': 1, 'owen': 1, 'sara-dessen': 1}\n"
     ]
    }
   ],
   "source": [
    "# Let me create a Python dictionary to store the tag and it's corresponding frequency throughout this dataset.\n",
    "tag_freq = {}\n",
    "\n",
    "for row_tag in tags:\n",
    "    for tag in row_tag:\n",
    "        if tag in tag_freq:\n",
    "            tag_freq[tag] += 1\n",
    "        else:\n",
    "            tag_freq[tag] = 1\n",
    "\n",
    "print(tag_freq)"
   ]
  },
  {
   "cell_type": "code",
   "execution_count": 17,
   "metadata": {},
   "outputs": [
    {
     "name": "stdout",
     "output_type": "stream",
     "text": [
      "[('love', 327), ('inspirational', 319), ('life', 295), ('humor', 254), ('books', 141), ('inspiration', 87), ('reading', 86), ('happiness', 68), ('writing', 67), ('inspirational-quotes', 65), ('friendship', 63), ('wisdom', 62), ('truth', 61), ('philosophy', 60), ('optimism', 48), ('living', 48), ('life-quotes', 48), ('death', 47), ('hope', 46), ('poetry', 45), ('romance', 45), ('positive-affirmation', 41), ('positive-thinking', 41), ('women', 40), ('life-lessons', 40), ('optimistic', 40), ('positive', 40), ('positive-life', 40), ('inspire', 38), ('inspiring', 38), ('courage', 37), ('life-and-living', 36), ('change', 34), ('pain', 34), ('funny', 34), ('inspirational-life', 34), ('relationships', 33), ('religion', 32), ('dreams', 31), ('music', 31), ('fear', 31), ('jace-wayland', 29), ('friends', 28), ('strength', 28), ('freedom', 28), ('god', 28), ('inspirational-attitude', 28), ('motivational', 27), ('loneliness', 27), ('science', 26), ('beauty', 26), ('time', 25), ('motivation', 25), ('success', 24), ('clary-fray', 23), ('education', 22), ('art', 22), ('faith', 22), ('sadness', 22), ('individuality', 21), ('humour', 21), ('self-determination', 20), ('men', 20), ('kindness', 19), ('trust', 18), ('jace', 18), ('humanity', 18), ('heart', 18), ('reality', 17), ('knowledge', 17), ('empowerment', 17), ('grief', 17), ('future', 17), ('be-yourself', 16), ('imagination', 16), ('harry-potter', 16), ('loss', 16), ('learning', 15), ('marriage', 15), ('dumbledore', 15), ('literature', 15), ('family', 15), ('war', 15), ('peace', 14), ('failure', 14), ('world', 14), ('travel', 14), ('people', 14), ('letting-go', 14), ('bravery', 13), ('mortal-instruments', 13), ('compassion', 13), ('suffering', 13), ('identity', 13), ('depression', 13), ('words', 13), ('honesty', 12), ('soul', 12), ('lies', 12), ('intelligence', 12), ('heartbreak', 12), ('children', 12), ('sarcasm', 12), ('independence', 12), ('feminism', 12), ('confidence', 11), ('character', 11), ('light', 11), ('belief', 11), ('stories', 11), ('magic', 11), ('politics', 11), ('solitude', 11), ('will-herondale', 11), ('percy-jackson', 11), ('mistakes', 10), ('forgiveness', 10), ('hate', 10), ('past', 10), ('paraphrased', 10), ('fantasy', 10), ('work', 10), ('mind', 10), ('smile', 10), ('atheism', 10), ('nature', 10), ('sex', 10), ('experience', 10), ('gratitude', 10), ('human-nature', 9), ('memory', 9), ('disappointment', 9), ('integrity', 9), ('animals', 9), ('goodness', 9), ('power-of-words', 9), ('city-of-bones', 9), ('john-green', 9), ('the-fault-in-our-stars', 9), ('thinking', 9), ('beatles', 9), ('adventure', 9), ('age', 9), ('understanding', 9), ('growth', 9), ('laughter', 9), ('suicide', 9), ('spirituality', 9), ('moving-on', 9), ('simile', 8), ('hurt', 8), ('insanity', 8), ('fate', 8), ('katniss', 8), ('food', 8), ('sad', 8), ('nicholas-sparks', 8), ('stars', 8), ('magnus-bane', 8), ('ignorance', 8), ('silence', 8), ('healing', 8), ('hell', 8), ('acceptance', 8), ('stupidity', 7), ('sleep', 7), ('action', 7), ('carpe-diem', 7), ('darkness', 7), ('misattributed-mark-twain', 7), ('dream', 7), ('live', 7), ('perception', 7), ('misattributed-eleanor-roosevelt', 7), ('activism', 7), ('dreaming', 7), ('morality', 7), ('growing-up', 7), ('self-discovery', 7), ('fighting', 7), ('respect', 7), ('evil', 7), ('man', 7), ('hunger-games', 7), ('joy', 7), ('worry', 7), ('perseverance', 7), ('leadership', 7), ('crying', 7), ('reason', 7), ('history', 7), ('universe', 6), ('lying', 6), ('choices', 6), ('fairy-tales', 6), ('peeta', 6), ('girls', 6), ('tfios', 6), ('desire', 6), ('passion', 6), ('scars', 6), ('attitude', 6), ('christianity', 6), ('memories', 6), ('empathy', 6), ('anger', 6), ('clary', 6), ('believe', 6), ('night', 6), ('libraries', 6), ('city-of-glass', 6), ('adversity', 6), ('self', 6), ('persistence', 6), ('simon', 6), ('living-life', 6), ('kiss', 6), ('goodbye', 6), ('tears', 6), ('patience', 6), ('dance', 5), ('madness', 5), ('misattributed-to-einstein', 5), ('dogs', 5), ('library', 5), ('cats', 5), ('the-hunger-games', 5), ('emotion', 5), ('mankind', 5), ('romantic', 5), ('greatness', 5), ('simon-lewis', 5), ('creativity', 5), ('self-awareness', 5), ('sacrifice', 5), ('human', 5), ('value', 5), ('secrets', 5), ('wit', 5), ('encouragement', 5), ('edward', 5), ('ron-weasley', 5), ('giving', 5), ('happy', 5), ('self-reliance', 5), ('destiny', 5), ('life-philosophy', 5), ('poem', 5), ('feelings', 5), ('justice', 5), ('six-of-crows', 5), ('regret', 5), ('perspective', 5), ('true-love', 5), ('emotions', 5), ('forgetting', 5), ('alice-in-wonderland', 5), ('clockwork-angel', 5), ('spiritual', 5), ('comfort', 5), ('vampire', 5), ('joke', 5), ('flying', 5), ('parents', 5), ('goals', 5), ('thoughts', 5), ('longing', 5), ('wonder', 5), ('appreciation', 5), ('self-esteem', 5), ('wise', 5), ('society', 5), ('language', 5), ('infatuation', 5), ('annabeth-chase', 5), ('patch', 5), ('infinity', 4), ('ataraxy', 4), ('enemies', 4), ('classic', 4), ('contentment', 4), ('present', 4), ('widely-misattributed', 4), ('misattributed-to-mother-teresa', 4), ('chocolate', 4), ('comedy', 4), ('calvin-and-hobbes', 4), ('perfection', 4), ('good', 4), ('dreamers', 4), ('fame', 4), ('school', 4), ('writers', 4), ('advice', 4), ('fashion', 4), ('the-notebook', 4), ('trial', 4), ('gender', 4), ('money', 4), ('sin', 4), ('meaning-of-life', 4), ('divergent', 4), ('fearless', 4), ('sorrow', 4), ('opinions', 4), ('pride', 4), ('cassandra-clare', 4), ('mockingjay', 4), ('meaning', 4), ('existence', 4), ('expectations', 4), ('mythology', 4), ('virtue', 4), ('home', 4), ('einstein', 4), ('temptation', 4), ('inspirational-quote', 4), ('authentic-living', 4), ('sense-of-wonder', 4), ('mercy', 4), ('irony', 4), ('self-confidence', 4), ('isabelle-lightwood', 4), ('science-fiction', 4), ('hypocrisy', 4), ('risk', 4), ('purpose', 4), ('true', 4), ('looking-for-alaska', 4), ('leader', 4), ('olympians', 4), ('misattributed', 4), ('hatred', 4), ('parenting', 4), ('equality', 4), ('ethics', 4), ('cry', 4), ('live-in-the-moment', 4), ('tessa-gray', 4), ('city-of-ashes', 4), ('self-respect', 4), ('morals', 4), ('childhood', 4), ('helping-others', 4), ('peeta-mellark', 4), ('benediction', 4), ('youth', 4), ('beautiful', 4), ('friend', 3), ('strategy', 3), ('conformity', 3), ('actions', 3), ('dragons', 3), ('literacy', 3), ('thought', 3), ('suzanne-collins', 3), ('tea', 3), ('pleasure', 3), ('possibilities', 3), ('nerdfighters', 3), ('authors', 3), ('attributed', 3), ('journey', 3), ('teen-fantasy', 3), ('snape', 3), ('dying', 3), ('wealth', 3), ('choice', 3), ('sun', 3), ('introspection', 3), ('sanity', 3), ('conscience', 3), ('book', 3), ('alone', 3), ('achievement', 3), ('bible', 3), ('the-perks-of-being-a-wallflower', 3), ('judgement', 3), ('seasons', 3), ('fiction', 3), ('self-deception', 3), ('anais-nin', 3), ('song', 3), ('finnick', 3), ('problems', 3), ('fred-weasley', 3), ('george-weasley', 3), ('inspirational-love', 3), ('qotd', 3), ('authenticity', 3), ('heartache', 3), ('bella', 3), ('a-court-of-mist-and-fury', 3), ('unrequited-love', 3), ('humorous', 3), ('souls', 3), ('affection', 3), ('communication', 3), ('day', 3), ('attraction', 3), ('talent', 3), ('creation', 3), ('classic-insult', 3), ('crazy', 3), ('determination', 3), ('books-reading', 3), ('elizabeth-bennet', 3), ('dignity', 3), ('corruption', 3), ('responsibility', 3), ('power', 3), ('jem-carstairs', 3), ('curiosity', 3), ('censorship', 3), ('prayer', 3), ('double-standards', 3), ('brave', 3), ('moon', 3), ('being-loved', 3), ('focus', 3), ('leaders', 3), ('being-positive', 3), ('listening', 3), ('metaphor', 3), ('relationship', 3), ('self-expression', 3), ('storytelling', 3), ('unhappiness', 3), ('values', 3), ('book-lovers', 3), ('dimitri', 3), ('rose', 3), ('flight', 3), ('self-improvement', 3), ('misattributed-george-carlin', 3), ('new-year', 3), ('last-words', 3), ('survival', 3), ('trees', 3), ('enjoy-life', 3), ('clockwork-prince', 3), ('learn', 3), ('self-acceptance', 3), ('kind', 3), ('crime', 3), ('quip', 3), ('drinking', 3), ('voice', 3), ('alec-lightwood', 3), ('open-mindedness', 3), ('holden', 3), ('obsession', 3), ('psychology', 3), ('quotes', 3), ('city-of-fallen-angels', 3), ('jace-lightwood', 3), ('liberty', 3), ('yearning', 3), ('wishes', 3), ('katniss-everdeen', 3), ('mentoring', 3), ('winter', 3), ('dr-seuss', 3), ('service', 3), ('nora', 3), ('water', 3), ('depressing', 3), ('fight', 3), ('marilyn-monroe', 3), ('on-writing', 3), ('discovery', 3), ('challenges', 3), ('catching-fire', 3), ('sweet', 3), ('innocence', 3), ('misattributed-oscar-wilde', 2), ('heaven', 2), ('sing', 2), ('wish', 2), ('sirius-black', 2), ('misattributed-ben-franklin', 2), ('gold', 2), ('lost', 2), ('roots', 2), ('wander', 2), ('abilities', 2), ('aliteracy', 2), ('miracles', 2), ('remaining-silent', 2), ('misattributed-john-lennon', 2), ('apathy', 2), ('mischief', 2), ('read', 2), ('procrastination', 2), ('albus-dumbledore', 2), ('sisters', 2), ('deadlines', 2), ('simplicity', 2), ('misattributed-to-c-s-lewis', 2), ('yourself', 2), ('exercise', 2), ('seuss', 2), ('television', 2), ('scifi', 2), ('impossible', 2), ('misattributed-a-a-milne', 2), ('wallflower', 2), ('open-mind', 2), ('judge', 2), ('piglet', 2), ('pooh', 2), ('connection', 2), ('facts', 2), ('knowing', 2), ('poverty', 2), ('humans', 2), ('fairytales', 2), ('pretend', 2), ('philosophy-of-life', 2), ('write', 2), ('limits', 2), ('rebellion', 2), ('augustus-waters', 2), ('dear-john', 2), ('health', 2), ('misattributed-to-marilyn-monroe', 2), ('teachers', 2), ('conflict', 2), ('revenge', 2), ('misattributed-gloria-steinem', 2), ('flaws', 2), ('wounds', 2), ('misattributed-to-gandhi', 2), ('demons', 2), ('worth', 2), ('four', 2), ('tris', 2), ('despair', 2), ('victory', 2), ('lost-love', 2), ('unity', 2), ('weakness', 2), ('smiling', 2), ('gandalf', 2), ('boys', 2), ('charity', 2), ('revelation', 2), ('fact', 2), ('myth', 2), ('ambiguity', 2), ('genius', 2), ('infidelity', 2), ('ideas', 2), ('throne-of-glass', 2), ('logic', 2), ('religious', 2), ('importance', 2), ('secret', 2), ('the-little-prince', 2), ('self-responsibility', 2), ('zen', 2), ('dancing', 2), ('acomaf', 2), ('feyre', 2), ('rhysand', 2), ('humor-reading', 2), ('humanism', 2), ('love-at-first-sight', 2), ('inertia', 2), ('first-sentence', 2), ('advice-for-daily-living', 2), ('reader', 2), ('speaking', 2), ('husband', 2), ('opening-lines', 2), ('wife', 2), ('ego', 2), ('jane-austen', 2), ('isabelle', 2), ('touching', 2), ('fire', 2), ('isolation', 2), ('judgment', 2), ('speaking-out', 2), ('monsters', 2), ('adulthood', 2), ('smiles', 2), ('mortality', 2), ('authentic-self', 2), ('distance', 2), ('mystery', 2), ('physics', 2), ('mindfulness', 2), ('sarah-dessen', 2), ('animal-farm', 2), ('kissing', 2), ('keep-moving-forward', 2), ('expectation', 2), ('appreciate', 2), ('trouble', 2), ('desires', 2), ('crooked-kingdom', 2), ('inej-ghafa', 2), ('truth-telling', 2), ('originality', 2), ('class', 2), ('clichÃ©s', 2), ('misogyny', 2), ('stereotypes', 2), ('nicholas', 2), ('sparks', 2), ('patrick-rothfuss', 2), ('dating', 2), ('taste', 2), ('believe-in-yourself', 2), ('f-scott-fitzgerald', 2), ('transform', 2), ('apollo', 2), ('hot', 2), ('blessed', 2), ('worrying', 2), ('inner-peace', 2), ('seeds', 2), ('think', 2), ('tobias', 2), ('beatitudes', 2), ('bob-marley', 2), ('laugh', 2), ('carroll', 2), ('paranormal-romance', 2), ('self-assurance', 2), ('progress', 2), ('maturity', 2), ('uplifting', 2), ('letting-go-of-the-past', 2), ('living-in-the-present', 2), ('living-now', 2), ('care', 2), ('rationality', 2), ('women-s-rights', 2), ('ambition', 2), ('sandman', 2), ('bibliophiles', 2), ('bad', 2), ('reincarnation', 2), ('lovers', 2), ('hg2g', 2), ('hush', 2), ('cancer', 2), ('humility', 2), ('right', 2), ('revolution', 2), ('questions', 2), ('enemy', 2), ('never-give-up', 2), ('birds', 2), ('ecstasy', 2), ('earth', 2), ('improvement', 2), ('profound', 2), ('opportunity', 2), ('forests', 2), ('caring', 2), ('roses', 2), ('classics', 2), ('awe', 2), ('positivity', 2), ('self-sufficiency', 2), ('answers', 2), ('growing', 2), ('imperfections', 2), ('america', 2), ('wings', 2), ('self-love', 2), ('summer', 2), ('inner-voice', 2), ('common-sense', 2), ('manners', 2), ('challenge', 2), ('creative-process', 2), ('smart', 2), ('birth', 2), ('lonely', 2), ('inner-beauty', 2), ('adaptation', 2), ('writing-advice', 2), ('shakespeare', 2), ('scotland', 2), ('gift', 2), ('foolishness', 2), ('parting', 2), ('jealousy', 2), ('let-go', 2), ('purpose-of-life', 2), ('kill', 2), ('civil-rights', 2), ('chivalry', 2), ('protection', 2), ('gender-stereotypes', 2), ('dursley', 2), ('luck', 2), ('gossip', 2), ('christmas', 2), ('loud', 2), ('decisions', 2), ('romeo-and-juliet', 2), ('athena', 2), ('serenity', 2), ('autumn', 2), ('thankfulness', 2), ('pretty', 2), ('trying', 2), ('scout', 2), ('awesome', 2), ('addiction', 2), ('drugs', 2), ('william-herondale', 2), ('spring', 2), ('jesus', 2), ('social-commentary', 2), ('direction', 2), ('run', 2), ('nonsense', 2), ('betrayal', 2), ('deception', 2), ('becca-fitzpatrick', 2), ('skeptic', 2), ('missed-chances', 2), ('destruction', 2), ('democracy', 2), ('security', 2), ('heroes', 2), ('metaphysics', 2), ('mirror', 2), ('blood', 2), ('snow', 2), ('horror', 2), ('haiku', 2), ('cynical', 2), ('dead', 2), ('couples', 2), ('tragedy', 2), ('mothers', 2), ('die', 2), ('will', 2), ('spiritual-growth', 2), ('understanding-others', 2), ('inner-life', 2), ('hopelessness', 2), ('power-of-music', 2), ('thankful', 2), ('prank', 2), ('deep', 2), ('sharing', 2), ('positive-attitude', 2), ('companionship', 2), ('lover', 2), ('mermaids', 2), ('selfishness', 2), ('potential', 2), ('unique', 2), ('initiative', 2), ('give', 2), ('propaganda', 2), ('self-sacrifice', 2), ('personal-responsibility', 2), ('thanksgiving', 2), ('awareness', 2), ('organized-religion', 2), ('young-adult-fiction', 2), ('peer-pressure', 2), ('paradox', 2), ('woman', 2), ('celaena-sardothien', 2), ('wizard', 2), ('on-fiction', 2), ('gilbert-perreira', 1), ('quote-investigator', 1), ('best', 1), ('out-of-control', 1), ('worst', 1), ('fitting-in', 1), ('misattributed-dr-seuss', 1), ('those-who-matter', 1), ('misattributed-albert-camus', 1), ('drive-out', 1), ('self-deprecation', 1), ('accomplishment', 1), ('advertising', 1), ('apple', 1), ('commercial', 1), ('computers', 1), ('different', 1), ('misattributed-apple', 1), ('misattributed-steve-jobs', 1), ('misfits', 1), ('nonconformity', 1), ('progressive', 1), ('rebels', 1), ('status-quo', 1), ('think-different', 1), ('troublemakers', 1), ('misattributed-marilyn-monroe', 1), ('disappointed', 1), ('explore', 1), ('sail', 1), ('frost', 1), ('glitter', 1), ('strong', 1), ('wither', 1), ('miracle', 1), ('pessimism', 1), ('paraphrasing-g-k-chesterton', 1), ('misattributed-to-abraham-lincoln', 1), ('misattributed-to-mark-twain', 1), ('majority', 1), ('minority', 1), ('pause', 1), ('reflect', 1), ('planning', 1), ('plans', 1), ('edison', 1), ('lack-of-friendship', 1), ('lack-of-love', 1), ('unhappy-marriage', 1), ('indifference', 1), ('opposite', 1), ('misattributed-to-malcolm-x', 1), ('misattributed-to-rosa-parks', 1), ('navigation', 1), ('1929', 1), ('viereck-interview', 1), ('do-wrong', 1), ('wrong', 1), ('obvious', 1), ('readers', 1), ('reading-books', 1), ('deeply-loved', 1), ('source-unknown', 1), ('understand', 1), ('1970', 1), ('essential', 1), ('harry', 1), ('philosophers-stone', 1), ('ron', 1), ('sorcerers-stone', 1), ('doomed', 1), ('inevitable', 1), ('oblivion', 1), ('simple', 1), ('laziness', 1), ('misattributed-to-hutchins', 1), ('satisfaction', 1), ('novelist-quotes', 1), ('anything-can-be', 1), ('musn-t', 1), ('shouldn-t', 1), ('won-t', 1), ('charlie', 1), ('favourite-books', 1), ('soul-searching', 1), ('imperfect', 1), ('weirdness', 1), ('body-soul', 1), ('bilbo', 1), ('quest', 1), ('reassurance', 1), ('drug', 1), ('live-death-love', 1), ('self-indulgence', 1), ('theology', 1), ('adventuring', 1), ('wise-words', 1), ('misattributed-to-emerson', 1), ('teach', 1), ('sinister', 1), ('regrets', 1), ('better-life-empathy', 1), ('akeelah', 1), ('alice', 1), ('psychological', 1), ('yesterday', 1), ('difficult', 1), ('grown-ups', 1), ('strength-and-courage', 1), ('misattributed-to-bill-gates', 1), ('nerd', 1), ('nerds', 1), ('paraphrase-of-congreve', 1), ('scar', 1), ('sweetness', 1), ('philosphy', 1), ('1993', 1), ('complaining', 1), ('invincible', 1), ('teenagers', 1), ('teens', 1), ('hazel', 1), ('privilege', 1), ('hermione', 1), ('misprints', 1), ('violence', 1), ('johngreen', 1), ('lookingforalaska', 1), ('misanthropy', 1), ('image', 1), ('realism', 1), ('clothes', 1), ('children-s-books', 1), ('commerce', 1), ('principle', 1), ('sins', 1), ('worship', 1), ('santiago', 1), ('luke', 1), ('teenager', 1), ('bene-gesserit', 1), ('litany-against-fear', 1), ('proverb', 1), ('nico', 1), ('tolstoy', 1), ('dauntless', 1), ('glittering-eyes', 1), ('hidden', 1), ('unlikely-places', 1), ('watch', 1), ('parties', 1), ('social', 1), ('coldness', 1), ('paraphrase-of-lewis-carroll', 1), ('loner', 1), ('breaking-up', 1), ('mr-darcy', 1), ('culture', 1), ('falling-apart', 1), ('giving-in', 1), ('misattributed-bill-cosby', 1), ('freethinker', 1), ('mad', 1), ('misattributed-john-wayne', 1), ('misattributed-douglas-adams', 1), ('paper-towns', 1), ('ordinary', 1), ('vlog', 1), ('timelessness', 1), ('misattributed-cassandra-clare', 1), ('misattributed-jace', 1), ('bella-swan', 1), ('biscuit', 1), ('james-potter', 1), ('remus-lupin', 1), ('wormtail', 1), ('shampoo', 1), ('misattributed-audrey-hepburn', 1), ('triumph', 1), ('bookroom', 1), ('telekinetics', 1), ('jail', 1), ('ebay', 1), ('uncertainty', 1), ('unpredictability', 1), ('friends-betrayal', 1), ('humor-wicked-reading', 1), ('sphinx-without-a-secret', 1), ('breakup', 1), ('qoutes-on-writing', 1), ('everyday-life', 1), ('observational-comedy', 1), ('humor-heaven', 1), ('boggs', 1), ('odair', 1), ('witty', 1), ('chemistry', 1), ('sarah-j-maas', 1), ('oprah-s-thank-you-game', 1), ('trials', 1), ('automobile', 1), ('car', 1), ('pixie-dust', 1), ('winnie', 1), ('timidity', 1), ('beginnings', 1), ('fresh-start', 1), ('mistake', 1), ('new-day', 1), ('start-over', 1), ('tomorrow', 1), ('ache', 1), ('chapter-24', 1), ('rue', 1), ('fear-unknown', 1), ('books-vacation', 1), ('eating-reading', 1), ('fairies', 1), ('nightmares', 1), ('misattributed-to-a-a-milne', 1), ('saint-sinner', 1), ('dave-matthews', 1), ('requirements', 1), ('feathers', 1), ('bath', 1), ('heartwarming', 1), ('human-connections', 1), ('breath', 1), ('allegory', 1), ('broad-mindedness', 1), ('imagery', 1), ('dharma', 1), ('reflection', 1), ('running', 1), ('misattributed-einstein', 1), ('letters', 1), ('alive', 1), ('congratulations', 1), ('popularity', 1), ('consul', 1), ('atticus-finch', 1), ('wishing', 1), ('experience-mistakes-wisdom', 1), ('ideals', 1), ('martyr', 1), ('astronomer', 1), ('writer', 1), ('leaving', 1), ('nerdfighter', 1), ('convictions', 1), ('criticism', 1), ('inspirational-faith', 1), ('anne', 1), ('frank', 1), ('creative', 1), ('life-choices-fig-trees', 1), ('writer-s-life', 1), ('funeral', 1), ('stupid', 1), ('americans', 1), ('geography', 1), ('presidential', 1), ('brokenness', 1), ('consistency', 1), ('essence', 1), ('ethos', 1), ('fortitude', 1), ('resolve', 1), ('virtues', 1), ('brown', 1), ('clare', 1), ('flame', 1), ('the-kite-runner', 1), ('1-corinthians-13', 1), ('misquote', 1), ('dark-side', 1), ('molly-weasley-anger', 1), ('dirty', 1), ('logo', 1), ('hmmm', 1), ('being-human', 1), ('puppies', 1), ('rights', 1), ('broccoli', 1), ('pleasures', 1), ('salinger', 1), ('1955', 1), ('mindful', 1), ('just-litsen', 1), ('illiteracy', 1), ('accept-yourself', 1), ('love-yourself', 1), ('life-memories', 1), ('best-friends', 1), ('moi', 1), ('fair', 1), ('sympathy', 1), ('fool', 1), ('self-irony', 1), ('jim', 1), ('morrison', 1), ('dictionary', 1), ('fun', 1), ('chaos', 1), ('belonging', 1), ('company', 1), ('longings', 1), ('awesomeness', 1), ('girl', 1), ('makeup', 1), ('amsterdam', 1), ('amorality', 1), ('correct-way', 1), ('my-way', 1), ('only-way', 1), ('right-way', 1), ('the-way', 1), ('your-way', 1), ('vulnerability', 1), ('god-religion-house', 1), ('christopher-paolini', 1), ('eragon', 1), ('good-reads', 1), ('kaz-brekker', 1), ('humor-satan', 1), ('misattributed-to-groucho-marx', 1), ('advocacy', 1), ('dissent', 1), ('protest', 1), ('alice-s-adventures-in-wonderland', 1), ('anti-christian', 1), ('christians', 1), ('jesus-christ', 1), ('1997', 1), ('annie-clark-tanner-lecture', 1), ('procrastinate', 1), ('drama', 1), ('plays', 1), ('vision', 1), ('name-of-the-wind', 1), ('re-reading', 1), ('busy', 1), ('call', 1), ('dating-advice', 1), ('greg-behrendt', 1), ('guys', 1), ('he-s-not-just-into-you', 1), ('discworld', 1), ('humbert-humbert', 1), ('patriotism', 1), ('tyler-durden', 1), ('grudge', 1), ('broken-glass', 1), ('glass', 1), ('moonshine', 1), ('show-don-t-tell', 1), ('completion', 1), ('grow', 1), ('stay-focused', 1), ('step-out-of-comfort-zone', 1), ('gods', 1), ('thalia', 1), ('hazel-grace', 1), ('who-you-are', 1), ('whole-being', 1), ('less-more', 1), ('life-purpose', 1), ('stress', 1), ('stressed', 1), ('permission', 1), ('plant', 1), ('reap', 1), ('seed', 1), ('sow', 1), ('options', 1), ('rumi', 1), ('sufi', 1), ('calvin-and-hobbes-reality', 1), ('by-anne-sullivan', 1), ('others', 1), ('beatrice', 1), ('waiting', 1), ('cleverness', 1), ('share', 1), ('bookstore', 1), ('towns', 1), ('act', 1), ('criticize', 1), ('doing', 1), ('feeling', 1), ('ponder', 1), ('esist', 1), ('spinning', 1), ('stele', 1), ('reggae', 1), ('unsourced', 1), ('refuge', 1), ('ferret-malfoy', 1), ('death-peace', 1), ('breakfast', 1), ('leigh-bardugo', 1), ('choose', 1), ('fudge', 1), ('minister', 1), ('style', 1), ('independent-thought', 1), ('deep-thoughts', 1), ('reminding', 1), ('sophie-collins', 1), ('lost-innocence', 1), ('moving-forward', 1), ('delusion', 1), ('what-is-right', 1), ('aspiration', 1), ('assurance', 1), ('clouds', 1), ('color', 1), ('conviction', 1), ('sunset', 1), ('good-day', 1), ('how-many', 1), ('how-much', 1), ('live-well', 1), ('eyes', 1), ('lemons', 1), ('alcohol', 1), ('living-life-to-the-fullest', 1), ('diversity', 1), ('seduction', 1), ('albus-potter', 1), ('we-are-what-we-eat', 1), ('we-are-what-we-read', 1), ('you-are-what-you-eat', 1), ('you-are-what-you-read', 1), ('idleness', 1), ('flattery', 1), ('social-norms', 1), ('self-image', 1), ('sense-of-self', 1), ('trauma', 1), ('prejudice', 1), ('vanity', 1), ('recognition', 1), ('chapter-xxiii', 1), ('fuck', 1), ('profanity', 1), ('memoir', 1), ('dare-to-be', 1), ('seize-the-day', 1), ('urban-fantasy', 1), ('young-adult-novels', 1), ('forever', 1), ('what-men-really-want', 1), ('eccentricity', 1), ('chance', 1), ('1931', 1), ('perfect', 1), ('truthful', 1), ('owen-armstrong', 1), ('bereavement', 1), ('consolation', 1), ('investigation', 1), ('albert-einstein', 1), ('hamlet', 1), ('quitting', 1), ('ferret', 1), ('dandy', 1), ('lord-henry-wotton', 1), ('wilde', 1), ('inner-strength', 1), ('self-control', 1), ('remembrance', 1), ('fears', 1), ('amor-deliria-nervosa', 1), ('mask', 1), ('personality', 1), ('together', 1), ('energy', 1), ('the-last-song', 1), ('how', 1), ('questioning', 1), ('why', 1), ('troubles', 1), ('prince-charming', 1), ('taylor-swift', 1), ('abe', 1), ('lincoln', 1), ('apothegm', 1), ('talking', 1), ('final', 1), ('lupin', 1), ('sirius', 1), ('death-and-dying', 1), ('orhan-pamuk', 1), ('the-new-life', 1), ('eleven-minutes', 1), ('paulo-coelho', 1), ('catherine', 1), ('or-the-bower', 1), ('antolini', 1), ('cheese', 1), ('christina-grey', 1), ('e-l-james', 1), ('fifty-shades-of-grey', 1), ('amnesia', 1), ('magic-books', 1), ('endings', 1), ('happy-endings', 1), ('thievery', 1), ('treasure', 1), ('mood-swings', 1), ('shore', 1), ('woods', 1), ('francois-rabelais', 1), ('buddhism', 1), ('space', 1), ('Ø\\xadØ¨', 1), ('excuse', 1), ('chinese', 1), ('crisis', 1), ('danger', 1), ('h2g2', 1), ('hitchhiker-s-guide', 1), ('panic', 1), ('eternity', 1), ('holiness', 1), ('poet', 1), ('hippy', 1), ('william-gladstone', 1), ('needs', 1), ('intimidation', 1), ('stubbornness', 1), ('fearlessness', 1), ('steppenwolf', 1), ('star', 1), ('molly-weasley', 1), ('toilet', 1), ('french-renaissance-writer', 1), ('miles-halter', 1), ('mountains', 1), ('rocks', 1), ('contrast', 1), ('katharine-hepburn', 1), ('theresa-gray', 1), ('sinners', 1), ('defiance', 1), ('self-containment', 1), ('self-trust', 1), ('earnestness', 1), ('gullibility', 1), ('imposters', 1), ('goals-in-life', 1), ('light-and-darkness', 1), ('meaningful', 1), ('meaningful-life', 1), ('real-love', 1), ('reality-of-life', 1), ('those-who-love-us', 1), ('to-be-loved', 1), ('what-matters', 1), ('seperate', 1), ('body-image', 1), ('opposition', 1), ('spirit', 1), ('depression-silence', 1), ('awkward', 1), ('human-condition', 1), ('punishment', 1), ('jordan-baker', 1), ('cynic', 1), ('goal', 1), ('painting', 1), ('education-knowledge', 1), ('humor-cats-allergies', 1), ('machines', 1), ('ginny-weasley', 1), ('jk-rowling', 1), ('stephenie-meyer', 1), ('twilight', 1), ('poets', 1), ('cleanliness', 1), ('consciousness', 1), ('feet', 1), ('purity', 1), ('semantics', 1), ('suspicion', 1), ('david', 1), ('uglies', 1), ('westerfeld', 1), ('road', 1), ('real-life', 1), ('oppression', 1), ('invention', 1), ('self-assessment', 1), ('redemption', 1), ('bossypants', 1), ('tina-fey', 1), ('blues', 1), ('rescuing', 1), ('infinite-jest', 1), ('renewal', 1), ('most-famous-novella', 1), ('be-yourself-inspirational', 1), ('be-yourself-quote', 1), ('be-yourself-quotes', 1), ('enjoy-the-journey', 1), ('move-on', 1), ('lotr', 1), ('arts-and-humanities', 1), ('self-denial', 1), ('self-disclosure', 1), ('generations-intelligence-wisdom', 1), ('inspirational-stories', 1), ('self-realization', 1), ('dark-humor', 1), ('an-abundance-of-katherines', 1), ('joh-green', 1), ('missing', 1), ('feminist', 1), ('flexibility', 1), ('arrogance', 1), ('flirting', 1), ('scared', 1), ('stoicism', 1), ('afternoon', 1), ('december', 1), ('flewn', 1), ('june', 1), ('late', 1), ('soon', 1), ('dishonesty', 1), ('willful-ignorance', 1), ('mummies', 1), ('werewolf', 1), ('zombies', 1), ('good-life', 1), ('insults', 1), ('cynicism', 1), ('enduring', 1), ('going-on', 1), ('barrie', 1), ('kensington-gardens', 1), ('london', 1), ('neverland', 1), ('park', 1), ('peter-pan', 1), ('fallen-anger', 1), ('nephlim', 1), ('statistics', 1), ('injury', 1), ('mortification', 1), ('box', 1), ('eat-pray-love', 1), ('elizabeth-gilbert', 1), ('enthusiasm', 1), ('silliness', 1), ('grudges', 1), ('illusions', 1), ('acorns', 1), ('zoe-nightshade', 1), ('mina', 1), ('van-helsing', 1), ('autonomy', 1), ('bachelorhood', 1), ('matrimony', 1), ('singles', 1), ('emptiness', 1), ('franz-kafka', 1), ('bestseller', 1), ('north-carolina', 1), ('novel', 1), ('romantics', 1), ('greek', 1), ('sorry', 1), ('extraterrestrials', 1), ('intelligent-life', 1), ('mellark', 1), ('twilight-saga', 1), ('make-a-difference', 1), ('castle', 1), ('awesome-quote', 1), ('haymitch', 1), ('description', 1), ('beliefs', 1), ('courage-quotes', 1), ('herondale', 1), ('letter', 1), ('morgenstern', 1), ('wayland', 1), ('angels', 1), ('nagasawa', 1), ('pooh-bear', 1), ('winnie-the-pooh', 1), ('amity', 1), ('free-speech', 1), ('free-will', 1), ('amelia-peabody', 1), ('brave-new-world', 1), ('hunger', 1), ('thirst', 1), ('bibliophilia', 1), ('gender-roles', 1), ('lock-and-key', 1), ('news', 1), ('islam', 1), ('recovery', 1), ('explain', 1), ('public-opinion', 1), ('governments', 1), ('killing', 1), ('law', 1), ('murder', 1), ('nationalism', 1), ('nations', 1), ('songs', 1), ('socks', 1), ('rachel-elizabeth-dare', 1), ('self-empowerment', 1), ('neighborhoods', 1), ('brain', 1), ('arrow', 1), ('inej', 1), ('suli-poverb', 1), ('calling', 1), ('ferocity', 1), ('devotion', 1), ('dark', 1), ('close', 1), ('extremely', 1), ('foer', 1), ('incredibly', 1), ('jonathan', 1), ('safran', 1), ('agama', 1), ('agnosticism', 1), ('misattributed-grace-hopper', 1), ('misattributed-william-g-t-shedd', 1), ('dreamer', 1), ('liar', 1), ('make-believe', 1), ('wisher', 1), ('not-alone', 1), ('atlas', 1), ('shrugged', 1), ('realist', 1), ('poseidon', 1), ('claire-fraser', 1), ('historical-fiction', 1), ('time-travel', 1), ('clothing', 1), ('truth-lies', 1), ('october', 1), ('reading-secrets', 1), ('dramatist-quotes', 1), ('struggle', 1), ('never-stop-believing', 1), ('never-stop-learning', 1), ('try', 1), ('forgiving', 1), ('grieving', 1), ('reasoning', 1), ('brotherhood-of-man', 1), ('henry-miller', 1), ('design', 1), ('foolproof', 1), ('ingenuity', 1), ('pijamas', 1), ('johnny-cade', 1), ('ponyboy-curtis', 1), ('ralph-macchio', 1), ('difficulty', 1), ('storms', 1), ('teaching', 1), ('plants', 1), ('wilderness', 1), ('imperfection', 1), ('burdens', 1), ('unburdening', 1), ('weight', 1), ('enterprise', 1), ('confidences', 1), ('sharing-secrets', 1), ('deceit', 1), ('shock', 1), ('top-8', 1), ('obedience', 1), ('alchohol', 1), ('melancholy', 1), ('2013', 1), ('james-carstairs', 1), ('finale-of-middlemarch', 1), ('tintern-abbey', 1), ('inevitability', 1), ('women-mothers', 1), ('acts-of-kindness', 1), ('dan-brown', 1), ('ugly', 1), ('gondor', 1), ('relaxation', 1), ('british', 1), ('thumb', 1), ('towel', 1), ('golda', 1), ('meir', 1), ('conversations', 1), ('distractions', 1), ('quiet', 1), ('forcasting', 1), ('mottos', 1), ('flying-spirit', 1), ('winds', 1), ('winds-of-life', 1), ('fahrenheit-451', 1), ('holden-caulfield', 1), ('save', 1), ('rythmic', 1), ('thoughtful', 1), ('homicide', 1), ('life-pattern', 1), ('newspapers', 1), ('impact', 1), ('reach-out', 1), ('goodwill', 1), ('goodbyes', 1), ('young-at-heart', 1), ('youthfulness', 1), ('mad-hatter', 1), ('witchcraft', 1), ('witches', 1), ('dangerous', 1), ('sentimentality', 1), ('habits', 1), ('hush-hush', 1), ('heartbreaking', 1), ('the-book-thief', 1), ('benjamin-button', 1), ('defend', 1), ('fantasy-books', 1), ('nietzsche', 1), ('defenses', 1), ('thorns', 1), ('government', 1), ('charming', 1), ('tedious', 1), ('privacy', 1), ('safety', 1), ('oaths', 1), ('slaughterhouse-five', 1), ('will-s-letter-to-tessa', 1), ('radiance', 1), ('speed-of-light', 1), ('knowing-others', 1), ('everything', 1), ('seeing', 1), ('teacher', 1), ('beyonce', 1), ('lady-gaga', 1), ('play', 1), ('rewind', 1), ('stop', 1), ('valentine', 1), ('little-women', 1), ('louisa-may-alcott', 1), ('cartoonist', 1), ('hopeless', 1), ('mouth', 1), ('museums', 1), ('parks', 1), ('sensation', 1), ('sex-appeal', 1), ('legacy', 1), ('attention', 1), ('lewis', 1), ('misery', 1), ('draco-malfoy', 1), ('quotation', 1), ('fred', 1), ('sonnet-xvii', 1), ('the-choice', 1), ('ghost', 1), ('jesper', 1), ('college', 1), ('semicolons', 1), ('warriors', 1), ('neurosis', 1), ('need', 1), ('ya', 1), ('agency', 1), ('god-religion-happiness', 1), ('apocryphal', 1), ('life-truths', 1), ('reality-check', 1), ('unfairness', 1), ('inspirational-ship-storms', 1), ('writing-from-the-heart', 1), ('boredom', 1), ('old-books', 1), ('old-age', 1), ('misattributed-kurt-cobain', 1), ('frodo', 1), ('amazing-writing', 1), ('aesthetics', 1), ('hidden-things', 1), ('courtroom-drama', 1), ('abe-mazur', 1), ('last-sacrifice', 1), ('rosemarie-hathaway', 1), ('eccentric', 1), ('house', 1), ('windows', 1), ('nothing', 1), ('incrementalism', 1), ('pets', 1), ('shelter', 1), ('kvothe', 1), ('man-s', 1), ('name', 1), ('wind', 1), ('sense', 1), ('gray-book', 1), ('hodge', 1), ('sci-fi', 1), ('vorkosigan', 1), ('cracks', 1), ('peeves', 1), ('umbridge', 1), ('forgive', 1), ('satirical', 1), ('heal', 1), ('safe', 1), ('albert', 1), ('equations', 1), ('wayfinding', 1), ('humor-tattoo', 1), ('babies', 1), ('children-s-literature', 1), ('idiocy', 1), ('concern', 1), ('apocalypse', 1), ('misattributed-stephen-hawking', 1), ('jacob', 1), ('meyer', 1), ('catatonia', 1), ('coma', 1), ('cinna', 1), ('foreshadowing', 1), ('macbeth', 1), ('hindsight', 1), ('philosophical', 1), ('diary', 1), ('musical', 1), ('being-yourself', 1), ('shine', 1), ('vegetarianism', 1), ('submission', 1), ('superiority', 1), ('ocean', 1), ('self-help', 1), ('katniss-and-peeta', 1), ('frienship', 1), ('mail', 1), ('simon_bolivar-s_labyrinth', 1), ('vampire-academy', 1), ('atoms', 1), ('cosmos', 1), ('dna', 1), ('films', 1), ('story-people', 1), ('phenomenal-woman', 1), ('shadowhunters', 1), ('coffee', 1), ('single', 1), ('spinsterhood', 1), ('on-the-road', 1), ('sal-paradise', 1), ('person', 1), ('desperate', 1), ('losing', 1), ('nostalgia', 1), ('dog', 1), ('famous', 1), ('valour', 1), ('mara-dyer', 1), ('bad-day', 1), ('inconvenient', 1), ('loyalty', 1), ('insincerity', 1), ('role-models', 1), ('barriers', 1), ('failures', 1), ('demographics', 1), ('common-experience', 1), ('taking-chances', 1), ('incredibly-true', 1), ('mutuality', 1), ('reciprocity', 1), ('aloneness', 1), ('common-ground', 1), ('loved-ones', 1), ('behind', 1), ('of', 1), ('thing', 1), ('assassin', 1), ('inkheart', 1), ('labels', 1), ('names', 1), ('enjoy', 1), ('separation', 1), ('academy', 1), ('mead', 1), ('richelle', 1), ('at-first-sight', 1), ('tough-times', 1), ('rich', 1), ('rich-heart', 1), ('richness', 1), ('comfort-zone', 1), ('start-up', 1), ('step-out-of-your-comfort-zone', 1), ('toltec-wisdom', 1), ('self-loathing', 1), ('no-fear', 1), ('sea', 1), ('limit', 1), ('craziness', 1), ('arts', 1), ('adoration', 1), ('anxiety', 1), ('dizziness', 1), ('eastern-philosophy', 1), ('challanges', 1), ('beatnik', 1), ('misattributed-betty-white', 1), ('lamp', 1), ('warrior', 1), ('the-mortal-instruments', 1), ('tmi', 1), ('individualism', 1), ('lena-holoway', 1), ('2008', 1), ('morning', 1), ('waking-up', 1), ('defiant', 1), ('self-belief', 1), ('self-worth', 1), ('fountainhead', 1), ('diary-entry', 1), ('internet', 1), ('pedophile', 1), ('pedophilia', 1), ('2012', 1), ('blog', 1), ('shelves', 1), ('high-school', 1), ('teenage-love', 1), ('fellowship', 1), ('gamgee', 1), ('hobbit', 1), ('samwise', 1), ('tolkien', 1), ('tired', 1), ('recollection', 1), ('systems', 1), ('mothers-day', 1), ('rewriting-history', 1), ('anne-rice', 1), ('pandora', 1), ('teasing', 1), ('malfoy', 1), ('unbreakable-vow', 1), ('speech', 1), ('grammar', 1), ('heartfelt', 1), ('shame', 1), ('maia', 1), ('judging-from-experience', 1), ('unseen', 1), ('honor', 1), ('elections', 1), ('rulers', 1), ('ruby', 1), ('childhood-memory', 1), ('jordan-kyle', 1), ('clean', 1), ('dirt', 1), ('good-evil', 1), ('adam', 1), ('ignite-me', 1), ('unbreakable', 1), ('canoodle', 1), ('magnificent', 1), ('zsadist', 1), ('trials-of-life', 1), ('absurdities', 1), ('atrocities', 1), ('barbarity', 1), ('injustice', 1), ('skepticism', 1), ('right-of-passage', 1), ('silly-chinese-canadian-baby-man', 1), ('narrator', 1), ('the-great-gatsby', 1), ('novelty', 1), ('soulmates', 1), ('misattributed-george-santayana', 1), ('dare', 1), ('waste', 1), ('dissapointment', 1), ('athe-plague-of-dives', 1), ('dissatisfaction', 1), ('good-books', 1), ('diplomacy', 1), ('ruby-anger', 1), ('flowers', 1), ('sky', 1), ('james-bond', 1), ('fallen-angels', 1), ('devil', 1), ('escape', 1), ('intoxication', 1), ('suess', 1), ('wilhelm-stekel', 1), ('posiedon', 1), ('the-lightning-thief', 1), ('zeus', 1), ('e-readers', 1), ('kindle', 1), ('immature', 1), ('young', 1), ('own', 1), ('things', 1), ('advice-for-writers', 1), ('mythological', 1), ('paradise', 1), ('changes', 1), ('exploration', 1), ('layken', 1), ('slammed', 1), ('disease', 1), ('reality-bothered', 1), ('inspirational-human-spirit', 1), ('alec', 1), ('max', 1), ('men-and-women', 1), ('prose', 1), ('control', 1), ('mother', 1), ('adrian-ivashkov', 1), ('intent', 1), ('humor-mustache', 1), ('life-dreams', 1), ('demon', 1), ('pox', 1), ('novelist', 1), ('ghosts', 1), ('haunt', 1), ('appearance', 1), ('jokes', 1), ('before-i-fall', 1), ('denial', 1), ('risk-taking', 1), ('boldness', 1), ('food-discussion', 1), ('peanut-butter', 1), ('tyson', 1), ('just-do-it', 1), ('proactivity', 1), ('volunteerism', 1), ('expression', 1), ('finding-your-voice', 1), ('haunting', 1), ('humor-sarcasm', 1), ('reputation', 1), ('inventing-humor', 1), ('intellect', 1), ('forgetfulness', 1), ('psychotherapist', 1), ('visions', 1), ('ecology', 1), ('witch', 1), ('confused', 1), ('age-adult', 1), ('crescendo', 1), ('host', 1), ('ian', 1), ('jamie', 1), ('jared', 1), ('melanie', 1), ('uncle-jeb', 1), ('wanda', 1), ('sonnet', 1), ('agree', 1), ('abraham-lincoln', 1), ('bathing', 1), ('reticence', 1), ('women-s-strenth', 1), ('dorian-gray', 1), ('robert-foster', 1), ('love-friendship', 1), ('chaol-westfall', 1), ('books-bible', 1), ('greedy', 1), ('myself', 1), ('selfish', 1), ('fresh-starts', 1), ('new-beginnings', 1), ('reinvention', 1), ('alyson', 1), ('evermore', 1), ('immortals', 1), ('noel', 1), ('elite', 1), ('elitism', 1), ('elitist', 1), ('voter', 1), ('voting', 1), ('stories-writing', 1), ('self-knowledge', 1), ('book-the-count-of-monte-cristo', 1), ('puck', 1), ('bridge', 1), ('dhampir', 1), ('promise', 1), ('stake', 1), ('strigoi', 1), ('mormont', 1), ('cruelty', 1), ('alaska-young', 1), ('blackjack', 1), ('dionysus', 1), ('birthday', 1), ('hagrid', 1), ('pig', 1), ('injuries', 1), ('doubt', 1), ('records', 1), ('gaiman', 1), ('gandhi', 1), ('martyrdom', 1), ('misattributed-to-albert-camus', 1), ('pacifism', 1), ('principles', 1), ('muggles', 1), ('aristotle', 1), ('great-minds', 1), ('buddism', 1), ('mourning', 1), ('broken-families', 1), ('divorce', 1), ('family-ties', 1), ('soul-ties', 1), ('the-nature-of-family', 1), ('true-family', 1), ('absence', 1), ('grandmothers', 1), ('grandparents', 1), ('walking', 1), ('whiskey', 1), ('concealment', 1), ('dark-plans', 1), ('stealth', 1), ('femininity', 1), ('essay', 1), ('lecture', 1), ('nonfiction', 1), ('transcendentalism', 1), ('morganvillevampires', 1), ('capability', 1), ('possibility', 1), ('skills', 1), ('sexuality', 1), ('wisedom', 1), ('this-lullaby', 1), ('anais', 1), ('nin', 1), ('gonzo', 1), ('detection', 1), ('evidence', 1), ('obviousness', 1), ('sherlock-holmes', 1), ('assumptions', 1), ('close-mindedness', 1), ('isaac-asimov', 1), ('open-minds', 1), ('receptivity', 1), ('science-of-mind', 1), ('christina', 1), ('veronica-roth', 1), ('anarchy', 1), ('lateral-thinking', 1), ('rationalism', 1), ('zarek', 1), ('april', 1), ('dystopia', 1), ('possiblity', 1), ('drunk', 1), ('wine', 1), ('confession', 1), ('excuses', 1), ('aciman', 1), ('call-me-by-your-name', 1), ('italy', 1), ('intellectuals', 1), ('scholars', 1), ('knowledge-power', 1), ('elizabethan', 1), ('robin-goodfellow', 1), ('angel', 1), ('nora-grey', 1), ('chapter-one', 1), ('city-of-lost-souls', 1), ('limitations', 1), ('talents', 1), ('falling', 1), ('lesson-on-living', 1), ('paramore', 1), ('singer', 1), ('stand', 1), ('unhappy-life', 1), ('love-quotes', 1), ('clock', 1), ('ticking', 1), ('all-the-bright-places', 1), ('discipline', 1), ('grisha', 1), ('the-beatrice-letters', 1), ('honest', 1), ('integrity-quotes', 1), ('listen', 1), ('speak', 1), ('death-of-a-loved-one', 1), ('force', 1), ('idiots', 1), ('life-humor', 1), ('adults', 1), ('antoine-de-saint-exupery', 1), ('realization', 1), ('sebastian', 1), ('valentine-morgenstern', 1), ('antipathy', 1), ('dislike', 1), ('talk', 1), ('stephen-chbosky', 1), ('trap', 1), ('openness', 1), ('atheist', 1), ('church', 1), ('swear', 1), ('afraid', 1), ('frolick', 1), ('remember', 1), ('twirl', 1), ('connecting', 1), ('rebirth', 1), ('inequality', 1), ('hunger-games-peeta-katniss', 1), ('the-selection', 1), ('doctor-who', 1), ('dracula', 1), ('misattributed-to-chalmers', 1), ('misattributed-to-joseph-addison', 1), ('misattributed-to-kant', 1), ('misattributed-tom-bodett', 1), ('rena-silverman', 1), ('samuel-beckett', 1), ('new-england-wisdom', 1), ('celebrity', 1), ('aspirations', 1), ('ardor', 1), ('heathcliff', 1), ('cows', 1), ('pigs', 1), ('sausage', 1), ('question', 1), ('thought-provoking', 1), ('characters', 1), ('touchstones', 1), ('true-to-self', 1), ('wring', 1), ('lust', 1), ('misattributed-goethe', 1), ('today', 1), ('just-listen', 1), ('owen', 1), ('sara-dessen', 1)]\n"
     ]
    }
   ],
   "source": [
    "# Let us sort the dictionary in descending order of the frequencies:\n",
    "tag_freq_sorted = sorted(tag_freq.items(), key=lambda x:x[1], reverse=True)\n",
    "print(tag_freq_sorted)"
   ]
  },
  {
   "cell_type": "code",
   "execution_count": 18,
   "metadata": {},
   "outputs": [
    {
     "name": "stdout",
     "output_type": "stream",
     "text": [
      "('love', 327)\n",
      "('inspirational', 319)\n",
      "('life', 295)\n",
      "('humor', 254)\n",
      "('books', 141)\n",
      "('inspiration', 87)\n",
      "('reading', 86)\n",
      "('happiness', 68)\n",
      "('writing', 67)\n",
      "('inspirational-quotes', 65)\n",
      "('friendship', 63)\n",
      "('wisdom', 62)\n",
      "('truth', 61)\n",
      "('philosophy', 60)\n",
      "('optimism', 48)\n",
      "('living', 48)\n",
      "('life-quotes', 48)\n",
      "('death', 47)\n",
      "('hope', 46)\n",
      "('poetry', 45)\n",
      "('romance', 45)\n",
      "('positive-affirmation', 41)\n",
      "('positive-thinking', 41)\n",
      "('women', 40)\n",
      "('life-lessons', 40)\n",
      "('optimistic', 40)\n",
      "('positive', 40)\n",
      "('positive-life', 40)\n",
      "('inspire', 38)\n",
      "('inspiring', 38)\n",
      "('courage', 37)\n",
      "('life-and-living', 36)\n",
      "('change', 34)\n",
      "('pain', 34)\n",
      "('funny', 34)\n",
      "('inspirational-life', 34)\n",
      "('relationships', 33)\n",
      "('religion', 32)\n",
      "('dreams', 31)\n",
      "('music', 31)\n",
      "('fear', 31)\n"
     ]
    }
   ],
   "source": [
    "# printing the top 40 most frequent tags\n",
    "for i in range(0, len(tag_freq_sorted)):\n",
    "    print(tag_freq_sorted[i])\n",
    "    if i == 40:\n",
    "        break\n"
   ]
  },
  {
   "cell_type": "markdown",
   "metadata": {},
   "source": [
    "From the above we can see two main issues with the tags as highlighted in blue and yellow:\n",
    "1. We can see different columns which conceptually mean the same thing however it is written in different ways. For example, inspirational, inspiration, inspire and inspiring – all mean the same thing. However, it is classified as different tags. For fixing this issue, we must perform lemmatization on the target column.\n",
    "2. We can see multiple different words separated by a hyphen. For example, positive-affirmation, life-lessons, etc. The hyphenated words must be handled by removing the ‘-‘ symbol. For example, ‘positive-thinking’ will be replaced with the tags positivethinking."
   ]
  },
  {
   "cell_type": "markdown",
   "metadata": {},
   "source": [
    "# Data Cleaning\n",
    "## Seperating Words That Contain a Hyphen"
   ]
  },
  {
   "cell_type": "code",
   "execution_count": 19,
   "metadata": {},
   "outputs": [
    {
     "data": {
      "text/plain": [
       "['be-yourself',\n",
       " 'gilbert-perreira',\n",
       " 'honesty',\n",
       " 'inspirational',\n",
       " 'misattributed-oscar-wilde',\n",
       " 'quote-investigator']"
      ]
     },
     "execution_count": 19,
     "metadata": {},
     "output_type": "execute_result"
    }
   ],
   "source": [
    "dataset['tags'][0]"
   ]
  },
  {
   "cell_type": "code",
   "execution_count": 20,
   "metadata": {},
   "outputs": [
    {
     "data": {
      "text/plain": [
       "str"
      ]
     },
     "execution_count": 20,
     "metadata": {},
     "output_type": "execute_result"
    }
   ],
   "source": [
    "type(dataset['tags'][0][0])"
   ]
  },
  {
   "cell_type": "code",
   "execution_count": 21,
   "metadata": {},
   "outputs": [],
   "source": [
    "# removing '-' from hyphenated words:\n",
    "for i in range(0, len(dataset)):\n",
    "    for j in range(0, len(dataset['tags'][i])):\n",
    "        # in this loop we can go through individual tag elements\n",
    "        if('-' in dataset['tags'][i][j]):\n",
    "            # here the word contains a '-' character, therefore we can split the data\n",
    "            # print(dataset['tags'][i][j])\n",
    "            # new_split_strings = str(dataset['tags'][i][j]).split('-')\n",
    "            dataset['tags'][i][j] = dataset['tags'][i][j].replace(\"-\", \"\")\n",
    "            # print(dataset['tags'][i])\n",
    "            # print(\"This is the string: \"),\n",
    "            # print(new_split_strings)\n",
    "        # print(dataset['tags'][i][j]),\n",
    "    # print(dataset['tags'][i])\n",
    "    # below code was written for testing and as a safety measure\n",
    "    # if (i == 10):\n",
    "    #     break\n",
    "# print((dataset['tags'][0:11]))"
   ]
  },
  {
   "cell_type": "code",
   "execution_count": 22,
   "metadata": {},
   "outputs": [
    {
     "data": {
      "text/plain": [
       "0       [beyourself, gilbertperreira, honesty, inspira...\n",
       "1       [best, life, love, mistakes, outofcontrol, tru...\n",
       "2       [humannature, humor, infinity, philosophy, sci...\n",
       "3                                          [books, humor]\n",
       "4                                   [books, simile, soul]\n",
       "                              ...                        \n",
       "2503                               [morality, philosophy]\n",
       "2504                                 [happiness, success]\n",
       "2505                                  [inspirationallife]\n",
       "2506                              [comfort, home, winter]\n",
       "2507        [justlisten, loud, owen, saradessen, silence]\n",
       "Name: tags, Length: 2508, dtype: object"
      ]
     },
     "execution_count": 22,
     "metadata": {},
     "output_type": "execute_result"
    }
   ],
   "source": [
    "dataset['tags']"
   ]
  },
  {
   "cell_type": "code",
   "execution_count": 23,
   "metadata": {},
   "outputs": [],
   "source": [
    "# writing a function to calculate the count of tags and returning a list of tuples - [(tag, count of tag)]\n",
    "def calculate_count_of_tags(tags=dataset['tags']):\n",
    "    tag_count_dict = {}\n",
    "    for row in tags:\n",
    "        for tag in row:\n",
    "            if tag in tag_count_dict:\n",
    "                tag_count_dict[tag] += 1\n",
    "            else:\n",
    "                tag_count_dict[tag] = 1\n",
    "    # now sorting it based on the highest values\n",
    "    tag_freq_sorted = sorted(tag_count_dict.items(), key=lambda x:x[1], reverse=True)\n",
    "    return tag_freq_sorted\n",
    "    "
   ]
  },
  {
   "cell_type": "code",
   "execution_count": 24,
   "metadata": {},
   "outputs": [],
   "source": [
    "tag_freq_sorted = calculate_count_of_tags(tags=dataset['tags'])"
   ]
  },
  {
   "cell_type": "code",
   "execution_count": 30,
   "metadata": {},
   "outputs": [
    {
     "name": "stdout",
     "output_type": "stream",
     "text": [
      "('love', 327)\n",
      "('inspirational', 319)\n",
      "('life', 295)\n",
      "('humor', 254)\n",
      "('books', 141)\n",
      "('inspiration', 87)\n",
      "('reading', 86)\n",
      "('happiness', 68)\n",
      "('writing', 67)\n",
      "('inspirationalquotes', 65)\n",
      "('friendship', 63)\n",
      "('wisdom', 62)\n",
      "('truth', 61)\n",
      "('philosophy', 60)\n",
      "('optimism', 48)\n",
      "('living', 48)\n",
      "('lifequotes', 48)\n",
      "('death', 47)\n",
      "('hope', 46)\n",
      "('poetry', 45)\n",
      "('romance', 45)\n",
      "('positiveaffirmation', 41)\n",
      "('positivethinking', 41)\n",
      "('women', 40)\n",
      "('lifelessons', 40)\n",
      "('optimistic', 40)\n",
      "('positive', 40)\n",
      "('positivelife', 40)\n",
      "('inspire', 38)\n",
      "('inspiring', 38)\n",
      "('courage', 37)\n",
      "('lifeandliving', 36)\n",
      "('change', 34)\n",
      "('pain', 34)\n",
      "('funny', 34)\n",
      "('inspirationallife', 34)\n",
      "('relationships', 33)\n",
      "('religion', 32)\n",
      "('dreams', 31)\n",
      "('music', 31)\n"
     ]
    }
   ],
   "source": [
    "# looking at the top 40 most frequent tags:\n",
    "for i in range(0, len(tag_freq_sorted)):\n",
    "    print(tag_freq_sorted[i])\n",
    "    if(i==39):\n",
    "        break"
   ]
  },
  {
   "cell_type": "markdown",
   "metadata": {},
   "source": [
    "## Performing Lemmetization on Target Column"
   ]
  },
  {
   "cell_type": "code",
   "execution_count": 35,
   "metadata": {},
   "outputs": [
    {
     "name": "stderr",
     "output_type": "stream",
     "text": [
      "[nltk_data] Downloading package wordnet to\n",
      "[nltk_data]     /Users/rishabhkaushick/nltk_data...\n",
      "[nltk_data]   Package wordnet is already up-to-date!\n"
     ]
    }
   ],
   "source": [
    "import nltk\n",
    "from nltk.stem import WordNetLemmatizer\n",
    "\n",
    "nltk.download('wordnet')\n",
    "lemmatizer = WordNetLemmatizer()\n",
    "\n",
    "# lemmetizing all tags\n",
    "for i in range(0, len(dataset)):\n",
    "    for j in range(0, len(dataset['tags'][i])):\n",
    "        lemma = lemmatizer.lemmatize(dataset['tags'][i][j])\n",
    "        dataset['tags'][i][j] = lemma\n",
    "        # print(f\"Actual word {dataset['tags'][i][j]}. Lemmatized word by default: {lemma}\")\n",
    "    # if(i==30):\n",
    "    #     break"
   ]
  },
  {
   "cell_type": "code",
   "execution_count": 36,
   "metadata": {},
   "outputs": [
    {
     "data": {
      "text/plain": [
       "0       [beyourself, gilbertperreira, honesty, inspira...\n",
       "1       [best, life, love, mistake, outofcontrol, trut...\n",
       "2       [humannature, humor, infinity, philosophy, sci...\n",
       "3                                           [book, humor]\n",
       "4                                    [book, simile, soul]\n",
       "                              ...                        \n",
       "2503                               [morality, philosophy]\n",
       "2504                                 [happiness, success]\n",
       "2505                                  [inspirationallife]\n",
       "2506                              [comfort, home, winter]\n",
       "2507        [justlisten, loud, owen, saradessen, silence]\n",
       "Name: tags, Length: 2508, dtype: object"
      ]
     },
     "execution_count": 36,
     "metadata": {},
     "output_type": "execute_result"
    }
   ],
   "source": [
    "dataset['tags']"
   ]
  },
  {
   "cell_type": "code",
   "execution_count": 37,
   "metadata": {},
   "outputs": [
    {
     "name": "stdout",
     "output_type": "stream",
     "text": [
      "('love', 327)\n",
      "('inspirational', 319)\n",
      "('life', 295)\n",
      "('humor', 254)\n",
      "('book', 144)\n",
      "('inspiration', 87)\n",
      "('reading', 86)\n",
      "('happiness', 68)\n",
      "('writing', 67)\n",
      "('inspirationalquotes', 65)\n",
      "('friendship', 63)\n",
      "('wisdom', 62)\n",
      "('truth', 61)\n",
      "('philosophy', 60)\n",
      "('optimism', 48)\n",
      "('living', 48)\n",
      "('lifequotes', 48)\n",
      "('death', 47)\n",
      "('hope', 46)\n",
      "('poetry', 45)\n",
      "('romance', 45)\n",
      "('woman', 42)\n",
      "('positiveaffirmation', 41)\n",
      "('positivethinking', 41)\n",
      "('lifelessons', 40)\n",
      "('optimistic', 40)\n",
      "('positive', 40)\n",
      "('positivelife', 40)\n",
      "('dream', 38)\n",
      "('inspire', 38)\n",
      "('inspiring', 38)\n",
      "('courage', 37)\n",
      "('relationship', 36)\n",
      "('lifeandliving', 36)\n",
      "('change', 35)\n",
      "('pain', 34)\n",
      "('funny', 34)\n",
      "('inspirationallife', 34)\n",
      "('religion', 32)\n",
      "('fear', 32)\n"
     ]
    }
   ],
   "source": [
    "# running the count of tags again\n",
    "tag_freq_sorted = calculate_count_of_tags()\n",
    "for i in range(0, len(tag_freq_sorted)):\n",
    "    print(tag_freq_sorted[i])\n",
    "    if(i==39):\n",
    "        break"
   ]
  },
  {
   "cell_type": "code",
   "execution_count": 38,
   "metadata": {},
   "outputs": [
    {
     "name": "stdout",
     "output_type": "stream",
     "text": [
      "('love', 327)\n",
      "('inspirational', 319)\n",
      "('life', 295)\n",
      "('humor', 254)\n",
      "('book', 144)\n",
      "('inspiration', 87)\n",
      "('reading', 86)\n",
      "('happiness', 68)\n",
      "('writing', 67)\n",
      "('inspirationalquotes', 65)\n",
      "('friendship', 63)\n",
      "('wisdom', 62)\n",
      "('truth', 61)\n",
      "('philosophy', 60)\n",
      "('optimism', 48)\n",
      "('living', 48)\n",
      "('lifequotes', 48)\n",
      "('death', 47)\n",
      "('hope', 46)\n",
      "('poetry', 45)\n",
      "('romance', 45)\n",
      "('woman', 42)\n",
      "('positiveaffirmation', 41)\n",
      "('positivethinking', 41)\n",
      "('lifelessons', 40)\n",
      "('optimistic', 40)\n",
      "('positive', 40)\n",
      "('positivelife', 40)\n",
      "('dream', 38)\n",
      "('inspire', 38)\n",
      "('inspiring', 38)\n",
      "('courage', 37)\n",
      "('relationship', 36)\n",
      "('lifeandliving', 36)\n",
      "('change', 35)\n",
      "('pain', 34)\n",
      "('funny', 34)\n",
      "('inspirationallife', 34)\n",
      "('religion', 32)\n",
      "('fear', 32)\n"
     ]
    }
   ],
   "source": [
    "test_dataset = dataset\n",
    "# lemmetizing all tags to a noun\n",
    "for i in range(0, len(test_dataset)):\n",
    "    for j in range(0, len(test_dataset['tags'][i])):\n",
    "        lemma = lemmatizer.lemmatize(test_dataset['tags'][i][j], pos='n')\n",
    "        test_dataset['tags'][i][j] = lemma\n",
    "        # print(f\"Actual word {test_dataset['tags'][i][j]}. Lemmatized word by default: {lemma}\")\n",
    "    # if(i==30):\n",
    "    #     break\n",
    "\n",
    "# running the count of tags again\n",
    "tag_freq_sorted = calculate_count_of_tags(test_dataset['tags'])\n",
    "for i in range(0, len(tag_freq_sorted)):\n",
    "    print(tag_freq_sorted[i])\n",
    "    if(i==39):\n",
    "        break"
   ]
  },
  {
   "cell_type": "markdown",
   "metadata": {},
   "source": [
    "However, we still can make it better. We can see some values which are similar like inspirational, inspiration, inspiring, and inspire. We can use the concept of stemming to further improve our target attribute - tags."
   ]
  },
  {
   "cell_type": "markdown",
   "metadata": {},
   "source": [
    "## Stemming on Target Column ('Tags')\n",
    "### Selection of Stemming Algorithm\n",
    "\n",
    "I decided to use and compare between Snowball and Lancaster Stemmer in this project for the following reasons:\n",
    "- Snowball Stemmer is an improved version of Porter Stemmer.\n",
    "- The Lancaster Stemmer has a higher chance of over-stemming (this phrase refers to those times when two different words lead to the same stem) due to its aggressive algorithm selection method in an iterative manner."
   ]
  },
  {
   "cell_type": "markdown",
   "metadata": {},
   "source": [
    "#### Snowball Stemmer"
   ]
  },
  {
   "cell_type": "code",
   "execution_count": 47,
   "metadata": {},
   "outputs": [
    {
     "name": "stdout",
     "output_type": "stream",
     "text": [
      "Using Snowball Stemmer: \n",
      "Actual word beyourself. Stemmed word : beyourself\n",
      "Actual word gilbertperreira. Stemmed word : gilbertperreira\n",
      "Actual word honesty. Stemmed word : honesti\n",
      "Actual word inspirational. Stemmed word : inspir\n",
      "Actual word misattributedoscarwilde. Stemmed word : misattributedoscarwild\n",
      "Actual word quoteinvestigator. Stemmed word : quoteinvestig\n",
      "Actual word best. Stemmed word : best\n",
      "Actual word life. Stemmed word : life\n",
      "Actual word love. Stemmed word : love\n",
      "Actual word mistake. Stemmed word : mistak\n",
      "Actual word outofcontrol. Stemmed word : outofcontrol\n",
      "Actual word truth. Stemmed word : truth\n",
      "Actual word worst. Stemmed word : worst\n",
      "Actual word humannature. Stemmed word : humannatur\n",
      "Actual word humor. Stemmed word : humor\n",
      "Actual word infinity. Stemmed word : infin\n",
      "Actual word philosophy. Stemmed word : philosophi\n",
      "Actual word science. Stemmed word : scienc\n",
      "Actual word stupidity. Stemmed word : stupid\n",
      "Actual word universe. Stemmed word : univers\n",
      "Actual word book. Stemmed word : book\n",
      "Actual word humor. Stemmed word : humor\n",
      "Actual word book. Stemmed word : book\n",
      "Actual word simile. Stemmed word : simil\n",
      "Actual word soul. Stemmed word : soul\n",
      "Actual word ataraxy. Stemmed word : ataraxi\n",
      "Actual word beyourself. Stemmed word : beyourself\n",
      "Actual word confidence. Stemmed word : confid\n",
      "Actual word fittingin. Stemmed word : fittingin\n",
      "Actual word individuality. Stemmed word : individu\n",
      "Actual word misattributeddrseuss. Stemmed word : misattributeddrseuss\n",
      "Actual word thosewhomatter. Stemmed word : thosewhomatt\n",
      "Actual word dance. Stemmed word : danc\n",
      "Actual word heaven. Stemmed word : heaven\n",
      "Actual word hurt. Stemmed word : hurt\n",
      "Actual word inspirational. Stemmed word : inspir\n",
      "Actual word life. Stemmed word : life\n",
      "Actual word love. Stemmed word : love\n",
      "Actual word sing. Stemmed word : sing\n",
      "Actual word dream. Stemmed word : dream\n",
      "Actual word love. Stemmed word : love\n",
      "Actual word reality. Stemmed word : realiti\n",
      "Actual word sleep. Stemmed word : sleep\n",
      "Actual word humor. Stemmed word : humor\n",
      "Actual word life. Stemmed word : life\n",
      "Actual word action. Stemmed word : action\n",
      "Actual word change. Stemmed word : chang\n",
      "Actual word inspirational. Stemmed word : inspir\n",
      "Actual word philosophy. Stemmed word : philosophi\n",
      "Actual word wish. Stemmed word : wish\n",
      "Actual word life. Stemmed word : life\n",
      "Actual word character. Stemmed word : charact\n",
      "Actual word siriusblack. Stemmed word : siriusblack\n",
      "Actual word friend. Stemmed word : friend\n",
      "Actual word friendship. Stemmed word : friendship\n",
      "Actual word misattributedalbertcamus. Stemmed word : misattributedalbertcamus\n",
      "Actual word lie. Stemmed word : lie\n",
      "Actual word lying. Stemmed word : lie\n",
      "Actual word memory. Stemmed word : memori\n",
      "Actual word truth. Stemmed word : truth\n",
      "Actual word friendship. Stemmed word : friendship\n",
      "Actual word friend. Stemmed word : friend\n",
      "Actual word friendship. Stemmed word : friendship\n",
      "Actual word knowledge. Stemmed word : knowledg\n",
      "Actual word love. Stemmed word : love\n",
      "Actual word enemy. Stemmed word : enemi\n",
      "Actual word forgiveness. Stemmed word : forgiv\n",
      "Actual word strategy. Stemmed word : strategi\n",
      "Actual word life. Stemmed word : life\n",
      "Actual word carpediem. Stemmed word : carpediem\n",
      "Actual word education. Stemmed word : educ\n",
      "Actual word inspirational. Stemmed word : inspir\n",
      "Actual word learning. Stemmed word : learn\n",
      "Actual word darkness. Stemmed word : dark\n",
      "Actual word driveout. Stemmed word : driveout\n",
      "Actual word hate. Stemmed word : hate\n",
      "Actual word inspirational. Stemmed word : inspir\n",
      "Actual word light. Stemmed word : light\n",
      "Actual word love. Stemmed word : love\n",
      "Actual word peace. Stemmed word : peac\n",
      "Actual word inspirational. Stemmed word : inspir\n",
      "Actual word music. Stemmed word : music\n",
      "Actual word philosophy. Stemmed word : philosophi\n",
      "Actual word inspirational. Stemmed word : inspir\n",
      "Actual word love. Stemmed word : love\n",
      "Actual word intelligence. Stemmed word : intellig\n",
      "Actual word selfdeprecation. Stemmed word : selfdeprec\n",
      "Actual word accomplishment. Stemmed word : accomplish\n",
      "Actual word beyourself. Stemmed word : beyourself\n",
      "Actual word conformity. Stemmed word : conform\n",
      "Actual word individuality. Stemmed word : individu\n",
      "Actual word advertising. Stemmed word : advertis\n",
      "Actual word apple. Stemmed word : appl\n",
      "Actual word change. Stemmed word : chang\n",
      "Actual word commercial. Stemmed word : commerci\n",
      "Actual word computer. Stemmed word : comput\n",
      "Actual word different. Stemmed word : differ\n",
      "Actual word madness. Stemmed word : mad\n",
      "Actual word misattributedapple. Stemmed word : misattributedappl\n",
      "Actual word misattributedstevejobs. Stemmed word : misattributedstevejob\n",
      "Actual word misfit. Stemmed word : misfit\n",
      "Actual word nonconformity. Stemmed word : nonconform\n",
      "Actual word progressive. Stemmed word : progress\n",
      "Actual word rebel. Stemmed word : rebel\n",
      "Actual word statusquo. Stemmed word : statusquo\n",
      "Actual word thinkdifferent. Stemmed word : thinkdiffer\n",
      "Actual word troublemaker. Stemmed word : troublemak\n",
      "Actual word humor. Stemmed word : humor\n",
      "Actual word insanity. Stemmed word : insan\n",
      "Actual word life. Stemmed word : life\n",
      "Actual word misattributedbenfranklin. Stemmed word : misattributedbenfranklin\n",
      "Actual word misattributedmarktwain. Stemmed word : misattributedmarktwain\n",
      "Actual word misattributedtoeinstein. Stemmed word : misattributedtoeinstein\n",
      "Actual word misattributedmarilynmonroe. Stemmed word : misattributedmarilynmonro\n",
      "Actual word action. Stemmed word : action\n",
      "Actual word disappointed. Stemmed word : disappoint\n",
      "Actual word disappointment. Stemmed word : disappoint\n",
      "Actual word dream. Stemmed word : dream\n",
      "Actual word dream. Stemmed word : dream\n",
      "Actual word explore. Stemmed word : explor\n",
      "Actual word misattributedmarktwain. Stemmed word : misattributedmarktwain\n",
      "Actual word sail. Stemmed word : sail\n",
      "Actual word life. Stemmed word : life\n",
      "Actual word love. Stemmed word : love\n",
      "Actual word love. Stemmed word : love\n",
      "Actual word frost. Stemmed word : frost\n",
      "Actual word glitter. Stemmed word : glitter\n",
      "Actual word gold. Stemmed word : gold\n",
      "Actual word lost. Stemmed word : lost\n",
      "Actual word poetry. Stemmed word : poetri\n",
      "Actual word root. Stemmed word : root\n",
      "Actual word strength. Stemmed word : strength\n",
      "Actual word strong. Stemmed word : strong\n",
      "Actual word wander. Stemmed word : wander\n",
      "Actual word wither. Stemmed word : wither\n"
     ]
    }
   ],
   "source": [
    "from nltk.stem import SnowballStemmer\n",
    "\n",
    "snowball_stemmer = SnowballStemmer(\"english\")\n",
    "# stem3 = stemmer3.stem(word)\n",
    "# print(f\"\\nStemmed word using SnowballStemmer: {stem3}\")\n",
    "print(\"Using Snowball Stemmer: \")\n",
    "for i in range(0, len(test_dataset)):\n",
    "    for j in range(0, len(test_dataset['tags'][i])):\n",
    "        stem = snowball_stemmer.stem(test_dataset['tags'][i][j])\n",
    "        # test_dataset['tags'][i][j] = stem\n",
    "        print(f\"Actual word {test_dataset['tags'][i][j]}. Stemmed word : {stem}\")\n",
    "    if(i==30):\n",
    "        break"
   ]
  },
  {
   "cell_type": "markdown",
   "metadata": {},
   "source": [
    "#### Lancaster Stemmer"
   ]
  },
  {
   "cell_type": "code",
   "execution_count": 48,
   "metadata": {},
   "outputs": [
    {
     "name": "stdout",
     "output_type": "stream",
     "text": [
      "Using Lancaster Stemmer\n",
      "Actual word beyourself. Stemmed word : beyourself\n",
      "Actual word gilbertperreira. Stemmed word : gilbertperreir\n",
      "Actual word honesty. Stemmed word : honesty\n",
      "Actual word inspirational. Stemmed word : inspir\n",
      "Actual word misattributedoscarwilde. Stemmed word : misattributedoscarwild\n",
      "Actual word quoteinvestigator. Stemmed word : quoteinvestig\n",
      "Actual word best. Stemmed word : best\n",
      "Actual word life. Stemmed word : lif\n",
      "Actual word love. Stemmed word : lov\n",
      "Actual word mistake. Stemmed word : mistak\n",
      "Actual word outofcontrol. Stemmed word : outofcontrol\n",
      "Actual word truth. Stemmed word : tru\n",
      "Actual word worst. Stemmed word : worst\n",
      "Actual word humannature. Stemmed word : human\n",
      "Actual word humor. Stemmed word : hum\n",
      "Actual word infinity. Stemmed word : infin\n",
      "Actual word philosophy. Stemmed word : philosoph\n",
      "Actual word science. Stemmed word : sci\n",
      "Actual word stupidity. Stemmed word : stupid\n",
      "Actual word universe. Stemmed word : univers\n",
      "Actual word book. Stemmed word : book\n",
      "Actual word humor. Stemmed word : hum\n",
      "Actual word book. Stemmed word : book\n",
      "Actual word simile. Stemmed word : simil\n",
      "Actual word soul. Stemmed word : soul\n",
      "Actual word ataraxy. Stemmed word : ataraxy\n",
      "Actual word beyourself. Stemmed word : beyourself\n",
      "Actual word confidence. Stemmed word : confid\n",
      "Actual word fittingin. Stemmed word : fittingin\n",
      "Actual word individuality. Stemmed word : individ\n",
      "Actual word misattributeddrseuss. Stemmed word : misattributeddrseuss\n",
      "Actual word thosewhomatter. Stemmed word : thosewhomat\n",
      "Actual word dance. Stemmed word : dant\n",
      "Actual word heaven. Stemmed word : heav\n",
      "Actual word hurt. Stemmed word : hurt\n",
      "Actual word inspirational. Stemmed word : inspir\n",
      "Actual word life. Stemmed word : lif\n",
      "Actual word love. Stemmed word : lov\n",
      "Actual word sing. Stemmed word : sing\n",
      "Actual word dream. Stemmed word : dream\n",
      "Actual word love. Stemmed word : lov\n",
      "Actual word reality. Stemmed word : real\n",
      "Actual word sleep. Stemmed word : sleep\n",
      "Actual word humor. Stemmed word : hum\n",
      "Actual word life. Stemmed word : lif\n",
      "Actual word action. Stemmed word : act\n",
      "Actual word change. Stemmed word : chang\n",
      "Actual word inspirational. Stemmed word : inspir\n",
      "Actual word philosophy. Stemmed word : philosoph\n",
      "Actual word wish. Stemmed word : wish\n",
      "Actual word life. Stemmed word : lif\n",
      "Actual word character. Stemmed word : charact\n",
      "Actual word siriusblack. Stemmed word : siriusblack\n",
      "Actual word friend. Stemmed word : friend\n",
      "Actual word friendship. Stemmed word : friend\n",
      "Actual word misattributedalbertcamus. Stemmed word : misattributedalbertcam\n",
      "Actual word lie. Stemmed word : lie\n",
      "Actual word lying. Stemmed word : lying\n",
      "Actual word memory. Stemmed word : mem\n",
      "Actual word truth. Stemmed word : tru\n",
      "Actual word friendship. Stemmed word : friend\n",
      "Actual word friend. Stemmed word : friend\n",
      "Actual word friendship. Stemmed word : friend\n",
      "Actual word knowledge. Stemmed word : knowledg\n",
      "Actual word love. Stemmed word : lov\n",
      "Actual word enemy. Stemmed word : enemy\n",
      "Actual word forgiveness. Stemmed word : forg\n",
      "Actual word strategy. Stemmed word : strategy\n",
      "Actual word life. Stemmed word : lif\n",
      "Actual word carpediem. Stemmed word : carpediem\n",
      "Actual word education. Stemmed word : educ\n",
      "Actual word inspirational. Stemmed word : inspir\n",
      "Actual word learning. Stemmed word : learn\n",
      "Actual word darkness. Stemmed word : dark\n",
      "Actual word driveout. Stemmed word : driveout\n",
      "Actual word hate. Stemmed word : hat\n",
      "Actual word inspirational. Stemmed word : inspir\n",
      "Actual word light. Stemmed word : light\n",
      "Actual word love. Stemmed word : lov\n",
      "Actual word peace. Stemmed word : peac\n",
      "Actual word inspirational. Stemmed word : inspir\n",
      "Actual word music. Stemmed word : mus\n",
      "Actual word philosophy. Stemmed word : philosoph\n",
      "Actual word inspirational. Stemmed word : inspir\n",
      "Actual word love. Stemmed word : lov\n",
      "Actual word intelligence. Stemmed word : intellig\n",
      "Actual word selfdeprecation. Stemmed word : selfdeprec\n",
      "Actual word accomplishment. Stemmed word : accompl\n",
      "Actual word beyourself. Stemmed word : beyourself\n",
      "Actual word conformity. Stemmed word : conform\n",
      "Actual word individuality. Stemmed word : individ\n",
      "Actual word advertising. Stemmed word : advert\n",
      "Actual word apple. Stemmed word : appl\n",
      "Actual word change. Stemmed word : chang\n",
      "Actual word commercial. Stemmed word : commerc\n",
      "Actual word computer. Stemmed word : comput\n",
      "Actual word different. Stemmed word : diff\n",
      "Actual word madness. Stemmed word : mad\n",
      "Actual word misattributedapple. Stemmed word : misattributedappl\n",
      "Actual word misattributedstevejobs. Stemmed word : misattributedstevejob\n",
      "Actual word misfit. Stemmed word : misfit\n",
      "Actual word nonconformity. Stemmed word : nonconform\n",
      "Actual word progressive. Stemmed word : progress\n",
      "Actual word rebel. Stemmed word : rebel\n",
      "Actual word statusquo. Stemmed word : statusquo\n",
      "Actual word thinkdifferent. Stemmed word : thinkdiff\n",
      "Actual word troublemaker. Stemmed word : troublemak\n",
      "Actual word humor. Stemmed word : hum\n",
      "Actual word insanity. Stemmed word : ins\n",
      "Actual word life. Stemmed word : lif\n",
      "Actual word misattributedbenfranklin. Stemmed word : misattributedbenfranklin\n",
      "Actual word misattributedmarktwain. Stemmed word : misattributedmarktwain\n",
      "Actual word misattributedtoeinstein. Stemmed word : misattributedtoeinstein\n",
      "Actual word misattributedmarilynmonroe. Stemmed word : misattributedmarilynmonro\n",
      "Actual word action. Stemmed word : act\n",
      "Actual word disappointed. Stemmed word : disappoint\n",
      "Actual word disappointment. Stemmed word : disappoint\n",
      "Actual word dream. Stemmed word : dream\n",
      "Actual word dream. Stemmed word : dream\n",
      "Actual word explore. Stemmed word : expl\n",
      "Actual word misattributedmarktwain. Stemmed word : misattributedmarktwain\n",
      "Actual word sail. Stemmed word : sail\n",
      "Actual word life. Stemmed word : lif\n",
      "Actual word love. Stemmed word : lov\n",
      "Actual word love. Stemmed word : lov\n",
      "Actual word frost. Stemmed word : frost\n",
      "Actual word glitter. Stemmed word : glit\n",
      "Actual word gold. Stemmed word : gold\n",
      "Actual word lost. Stemmed word : lost\n",
      "Actual word poetry. Stemmed word : poetry\n",
      "Actual word root. Stemmed word : root\n",
      "Actual word strength. Stemmed word : strength\n",
      "Actual word strong. Stemmed word : strong\n",
      "Actual word wander. Stemmed word : wand\n",
      "Actual word wither. Stemmed word : with\n"
     ]
    }
   ],
   "source": [
    "from nltk.stem import LancasterStemmer\n",
    "\n",
    "lancaster_stemmer = LancasterStemmer()\n",
    "print(\"Using Lancaster Stemmer\")\n",
    "for i in range(0, len(test_dataset)):\n",
    "    for j in range(0, len(test_dataset['tags'][i])):\n",
    "        stem = lancaster_stemmer.stem(test_dataset['tags'][i][j])\n",
    "        # test_dataset['tags'][i][j] = stem\n",
    "        print(f\"Actual word {test_dataset['tags'][i][j]}. Stemmed word : {stem}\")\n",
    "    if(i==30):\n",
    "        break"
   ]
  },
  {
   "cell_type": "markdown",
   "metadata": {},
   "source": [
    "#### Porter Stemmer"
   ]
  },
  {
   "cell_type": "code",
   "execution_count": 49,
   "metadata": {},
   "outputs": [
    {
     "name": "stdout",
     "output_type": "stream",
     "text": [
      "Using Porter Stemmer\n",
      "Actual word beyourself. Stemmed word : beyourself\n",
      "Actual word gilbertperreira. Stemmed word : gilbertperreira\n",
      "Actual word honesty. Stemmed word : honesti\n",
      "Actual word inspirational. Stemmed word : inspir\n",
      "Actual word misattributedoscarwilde. Stemmed word : misattributedoscarwild\n",
      "Actual word quoteinvestigator. Stemmed word : quoteinvestig\n",
      "Actual word best. Stemmed word : best\n",
      "Actual word life. Stemmed word : life\n",
      "Actual word love. Stemmed word : love\n",
      "Actual word mistake. Stemmed word : mistak\n",
      "Actual word outofcontrol. Stemmed word : outofcontrol\n",
      "Actual word truth. Stemmed word : truth\n",
      "Actual word worst. Stemmed word : worst\n",
      "Actual word humannature. Stemmed word : humannatur\n",
      "Actual word humor. Stemmed word : humor\n",
      "Actual word infinity. Stemmed word : infin\n",
      "Actual word philosophy. Stemmed word : philosophi\n",
      "Actual word science. Stemmed word : scienc\n",
      "Actual word stupidity. Stemmed word : stupid\n",
      "Actual word universe. Stemmed word : univers\n",
      "Actual word book. Stemmed word : book\n",
      "Actual word humor. Stemmed word : humor\n",
      "Actual word book. Stemmed word : book\n",
      "Actual word simile. Stemmed word : simil\n",
      "Actual word soul. Stemmed word : soul\n",
      "Actual word ataraxy. Stemmed word : ataraxi\n",
      "Actual word beyourself. Stemmed word : beyourself\n",
      "Actual word confidence. Stemmed word : confid\n",
      "Actual word fittingin. Stemmed word : fittingin\n",
      "Actual word individuality. Stemmed word : individu\n",
      "Actual word misattributeddrseuss. Stemmed word : misattributeddrseuss\n",
      "Actual word thosewhomatter. Stemmed word : thosewhomatt\n",
      "Actual word dance. Stemmed word : danc\n",
      "Actual word heaven. Stemmed word : heaven\n",
      "Actual word hurt. Stemmed word : hurt\n",
      "Actual word inspirational. Stemmed word : inspir\n",
      "Actual word life. Stemmed word : life\n",
      "Actual word love. Stemmed word : love\n",
      "Actual word sing. Stemmed word : sing\n",
      "Actual word dream. Stemmed word : dream\n",
      "Actual word love. Stemmed word : love\n",
      "Actual word reality. Stemmed word : realiti\n",
      "Actual word sleep. Stemmed word : sleep\n",
      "Actual word humor. Stemmed word : humor\n",
      "Actual word life. Stemmed word : life\n",
      "Actual word action. Stemmed word : action\n",
      "Actual word change. Stemmed word : chang\n",
      "Actual word inspirational. Stemmed word : inspir\n",
      "Actual word philosophy. Stemmed word : philosophi\n",
      "Actual word wish. Stemmed word : wish\n",
      "Actual word life. Stemmed word : life\n",
      "Actual word character. Stemmed word : charact\n",
      "Actual word siriusblack. Stemmed word : siriusblack\n",
      "Actual word friend. Stemmed word : friend\n",
      "Actual word friendship. Stemmed word : friendship\n",
      "Actual word misattributedalbertcamus. Stemmed word : misattributedalbertcamu\n",
      "Actual word lie. Stemmed word : lie\n",
      "Actual word lying. Stemmed word : lie\n",
      "Actual word memory. Stemmed word : memori\n",
      "Actual word truth. Stemmed word : truth\n",
      "Actual word friendship. Stemmed word : friendship\n",
      "Actual word friend. Stemmed word : friend\n",
      "Actual word friendship. Stemmed word : friendship\n",
      "Actual word knowledge. Stemmed word : knowledg\n",
      "Actual word love. Stemmed word : love\n",
      "Actual word enemy. Stemmed word : enemi\n",
      "Actual word forgiveness. Stemmed word : forgiv\n",
      "Actual word strategy. Stemmed word : strategi\n",
      "Actual word life. Stemmed word : life\n",
      "Actual word carpediem. Stemmed word : carpediem\n",
      "Actual word education. Stemmed word : educ\n",
      "Actual word inspirational. Stemmed word : inspir\n",
      "Actual word learning. Stemmed word : learn\n",
      "Actual word darkness. Stemmed word : dark\n",
      "Actual word driveout. Stemmed word : driveout\n",
      "Actual word hate. Stemmed word : hate\n",
      "Actual word inspirational. Stemmed word : inspir\n",
      "Actual word light. Stemmed word : light\n",
      "Actual word love. Stemmed word : love\n",
      "Actual word peace. Stemmed word : peac\n",
      "Actual word inspirational. Stemmed word : inspir\n",
      "Actual word music. Stemmed word : music\n",
      "Actual word philosophy. Stemmed word : philosophi\n",
      "Actual word inspirational. Stemmed word : inspir\n",
      "Actual word love. Stemmed word : love\n",
      "Actual word intelligence. Stemmed word : intellig\n",
      "Actual word selfdeprecation. Stemmed word : selfdeprec\n",
      "Actual word accomplishment. Stemmed word : accomplish\n",
      "Actual word beyourself. Stemmed word : beyourself\n",
      "Actual word conformity. Stemmed word : conform\n",
      "Actual word individuality. Stemmed word : individu\n",
      "Actual word advertising. Stemmed word : advertis\n",
      "Actual word apple. Stemmed word : appl\n",
      "Actual word change. Stemmed word : chang\n",
      "Actual word commercial. Stemmed word : commerci\n",
      "Actual word computer. Stemmed word : comput\n",
      "Actual word different. Stemmed word : differ\n",
      "Actual word madness. Stemmed word : mad\n",
      "Actual word misattributedapple. Stemmed word : misattributedappl\n",
      "Actual word misattributedstevejobs. Stemmed word : misattributedstevejob\n",
      "Actual word misfit. Stemmed word : misfit\n",
      "Actual word nonconformity. Stemmed word : nonconform\n",
      "Actual word progressive. Stemmed word : progress\n",
      "Actual word rebel. Stemmed word : rebel\n",
      "Actual word statusquo. Stemmed word : statusquo\n",
      "Actual word thinkdifferent. Stemmed word : thinkdiffer\n",
      "Actual word troublemaker. Stemmed word : troublemak\n",
      "Actual word humor. Stemmed word : humor\n",
      "Actual word insanity. Stemmed word : insan\n",
      "Actual word life. Stemmed word : life\n",
      "Actual word misattributedbenfranklin. Stemmed word : misattributedbenfranklin\n",
      "Actual word misattributedmarktwain. Stemmed word : misattributedmarktwain\n",
      "Actual word misattributedtoeinstein. Stemmed word : misattributedtoeinstein\n",
      "Actual word misattributedmarilynmonroe. Stemmed word : misattributedmarilynmonro\n",
      "Actual word action. Stemmed word : action\n",
      "Actual word disappointed. Stemmed word : disappoint\n",
      "Actual word disappointment. Stemmed word : disappoint\n",
      "Actual word dream. Stemmed word : dream\n",
      "Actual word dream. Stemmed word : dream\n",
      "Actual word explore. Stemmed word : explor\n",
      "Actual word misattributedmarktwain. Stemmed word : misattributedmarktwain\n",
      "Actual word sail. Stemmed word : sail\n",
      "Actual word life. Stemmed word : life\n",
      "Actual word love. Stemmed word : love\n",
      "Actual word love. Stemmed word : love\n",
      "Actual word frost. Stemmed word : frost\n",
      "Actual word glitter. Stemmed word : glitter\n",
      "Actual word gold. Stemmed word : gold\n",
      "Actual word lost. Stemmed word : lost\n",
      "Actual word poetry. Stemmed word : poetri\n",
      "Actual word root. Stemmed word : root\n",
      "Actual word strength. Stemmed word : strength\n",
      "Actual word strong. Stemmed word : strong\n",
      "Actual word wander. Stemmed word : wander\n",
      "Actual word wither. Stemmed word : wither\n"
     ]
    }
   ],
   "source": [
    "from nltk.stem import PorterStemmer\n",
    "\n",
    "porter_stemmer = PorterStemmer()\n",
    "print(\"Using Porter Stemmer\")\n",
    "for i in range(0, len(test_dataset)):\n",
    "    for j in range(0, len(test_dataset['tags'][i])):\n",
    "        stem = porter_stemmer.stem(test_dataset['tags'][i][j])\n",
    "        # test_dataset['tags'][i][j] = stem\n",
    "        print(f\"Actual word {test_dataset['tags'][i][j]}. Stemmed word : {stem}\")\n",
    "    if(i==30):\n",
    "        break"
   ]
  },
  {
   "cell_type": "markdown",
   "metadata": {},
   "source": [
    "All 3 stemming approaches do not give out meaningful results in this case. Since our tags must be linguistically meaningful, we will not be performing stemming. "
   ]
  },
  {
   "cell_type": "markdown",
   "metadata": {},
   "source": [
    "## Removal of Stop Words in the Target Column ('Tags')\n",
    "From the above, we can see that there are tags like 'of', 'the', 'and', 'to' which do not hold much meaning. These words are known as stop words. Therefore, I will perform the removal of stop words in the target column."
   ]
  },
  {
   "cell_type": "code",
   "execution_count": 24,
   "metadata": {},
   "outputs": [
    {
     "name": "stdout",
     "output_type": "stream",
     "text": [
      "['i', 'me', 'my', 'myself', 'we', 'our', 'ours', 'ourselves', 'you', \"you're\", \"you've\", \"you'll\", \"you'd\", 'your', 'yours', 'yourself', 'yourselves', 'he', 'him', 'his', 'himself', 'she', \"she's\", 'her', 'hers', 'herself', 'it', \"it's\", 'its', 'itself', 'they', 'them', 'their', 'theirs', 'themselves', 'what', 'which', 'who', 'whom', 'this', 'that', \"that'll\", 'these', 'those', 'am', 'is', 'are', 'was', 'were', 'be', 'been', 'being', 'have', 'has', 'had', 'having', 'do', 'does', 'did', 'doing', 'a', 'an', 'the', 'and', 'but', 'if', 'or', 'because', 'as', 'until', 'while', 'of', 'at', 'by', 'for', 'with', 'about', 'against', 'between', 'into', 'through', 'during', 'before', 'after', 'above', 'below', 'to', 'from', 'up', 'down', 'in', 'out', 'on', 'off', 'over', 'under', 'again', 'further', 'then', 'once', 'here', 'there', 'when', 'where', 'why', 'how', 'all', 'any', 'both', 'each', 'few', 'more', 'most', 'other', 'some', 'such', 'no', 'nor', 'not', 'only', 'own', 'same', 'so', 'than', 'too', 'very', 's', 't', 'can', 'will', 'just', 'don', \"don't\", 'should', \"should've\", 'now', 'd', 'll', 'm', 'o', 're', 've', 'y', 'ain', 'aren', \"aren't\", 'couldn', \"couldn't\", 'didn', \"didn't\", 'doesn', \"doesn't\", 'hadn', \"hadn't\", 'hasn', \"hasn't\", 'haven', \"haven't\", 'isn', \"isn't\", 'ma', 'mightn', \"mightn't\", 'mustn', \"mustn't\", 'needn', \"needn't\", 'shan', \"shan't\", 'shouldn', \"shouldn't\", 'wasn', \"wasn't\", 'weren', \"weren't\", 'won', \"won't\", 'wouldn', \"wouldn't\"]\n"
     ]
    },
    {
     "name": "stderr",
     "output_type": "stream",
     "text": [
      "[nltk_data] Downloading package stopwords to\n",
      "[nltk_data]     /Users/rishabhkaushick/nltk_data...\n",
      "[nltk_data]   Package stopwords is already up-to-date!\n"
     ]
    }
   ],
   "source": [
    "import nltk\n",
    "from nltk.corpus import stopwords\n",
    "\n",
    "nltk.download('stopwords')\n",
    "print(stopwords.words('english'))"
   ]
  },
  {
   "cell_type": "code",
   "execution_count": 25,
   "metadata": {},
   "outputs": [
    {
     "name": "stdout",
     "output_type": "stream",
     "text": [
      "['be-yourself', 'gilbert-perreira', 'honesty', 'inspirational', 'misattributed-oscar-wilde', 'quote-investigator']\n",
      "['be-yourself', 'gilbert-perreira', 'honesty', 'inspirational', 'misattributed-oscar-wilde', 'quote-investigator']\n",
      "['be-yourself', 'gilbert-perreira', 'honesty', 'inspirational', 'misattributed-oscar-wilde', 'quote-investigator']\n",
      "['be-yourself', 'gilbert-perreira', 'honesty', 'inspirational', 'misattributed-oscar-wilde', 'quote-investigator']\n",
      "['be-yourself', 'gilbert-perreira', 'honesty', 'inspirational', 'misattributed-oscar-wilde', 'quote-investigator']\n",
      "['be-yourself', 'gilbert-perreira', 'honesty', 'inspirational', 'misattributed-oscar-wilde', 'quote-investigator']\n",
      "['best', 'life', 'love', 'mistakes', 'truth', 'worst', 'out', 'of', 'control']\n",
      "['best', 'life', 'love', 'mistakes', 'truth', 'worst', 'out', 'of', 'control']\n",
      "['best', 'life', 'love', 'mistakes', 'truth', 'worst', 'out', 'of', 'control']\n",
      "['best', 'life', 'love', 'mistakes', 'truth', 'worst', 'out', 'of', 'control']\n",
      "['best', 'life', 'love', 'mistakes', 'truth', 'worst', 'out', 'of', 'control']\n",
      "['best', 'life', 'love', 'mistakes', 'truth', 'worst', 'out', 'of', 'control']\n",
      "['best', 'life', 'love', 'mistakes', 'truth', 'worst', 'out', 'of', 'control']\n",
      "['best', 'life', 'love', 'mistakes', 'truth', 'worst', 'out', 'of', 'control']\n",
      "['best', 'life', 'love', 'mistakes', 'truth', 'worst', 'out', 'of', 'control']\n",
      "['humor', 'infinity', 'philosophy', 'science', 'stupidity', 'universe', 'human', 'nature']\n",
      "['humor', 'infinity', 'philosophy', 'science', 'stupidity', 'universe', 'human', 'nature']\n",
      "['humor', 'infinity', 'philosophy', 'science', 'stupidity', 'universe', 'human', 'nature']\n",
      "['humor', 'infinity', 'philosophy', 'science', 'stupidity', 'universe', 'human', 'nature']\n",
      "['humor', 'infinity', 'philosophy', 'science', 'stupidity', 'universe', 'human', 'nature']\n",
      "['humor', 'infinity', 'philosophy', 'science', 'stupidity', 'universe', 'human', 'nature']\n",
      "['humor', 'infinity', 'philosophy', 'science', 'stupidity', 'universe', 'human', 'nature']\n",
      "['humor', 'infinity', 'philosophy', 'science', 'stupidity', 'universe', 'human', 'nature']\n",
      "['books', 'humor']\n",
      "['books', 'humor']\n",
      "['books', 'simile', 'soul']\n",
      "['books', 'simile', 'soul']\n",
      "['books', 'simile', 'soul']\n",
      "['ataraxy', 'confidence', 'individuality', 'those-who-matter', 'be', 'yourself', 'fitting', 'in', 'misattributed', 'dr', 'seuss']\n",
      "['ataraxy', 'confidence', 'individuality', 'those-who-matter', 'be', 'yourself', 'fitting', 'in', 'misattributed', 'dr', 'seuss']\n",
      "['ataraxy', 'confidence', 'individuality', 'those-who-matter', 'be', 'yourself', 'fitting', 'in', 'misattributed', 'dr', 'seuss']\n",
      "['ataraxy', 'confidence', 'individuality', 'those-who-matter', 'be', 'yourself', 'fitting', 'in', 'misattributed', 'dr', 'seuss']\n",
      "['ataraxy', 'confidence', 'individuality', 'those-who-matter', 'be', 'yourself', 'fitting', 'in', 'misattributed', 'dr', 'seuss']\n",
      "['ataraxy', 'confidence', 'individuality', 'those-who-matter', 'be', 'yourself', 'fitting', 'in', 'misattributed', 'dr', 'seuss']\n",
      "['ataraxy', 'confidence', 'individuality', 'those-who-matter', 'be', 'yourself', 'fitting', 'in', 'misattributed', 'dr', 'seuss']\n",
      "['ataraxy', 'confidence', 'individuality', 'those-who-matter', 'be', 'yourself', 'fitting', 'in', 'misattributed', 'dr', 'seuss']\n",
      "['ataraxy', 'confidence', 'individuality', 'those-who-matter', 'be', 'yourself', 'fitting', 'in', 'misattributed', 'dr', 'seuss']\n",
      "['ataraxy', 'confidence', 'individuality', 'those-who-matter', 'be', 'yourself', 'fitting', 'in', 'misattributed', 'dr', 'seuss']\n",
      "['ataraxy', 'confidence', 'individuality', 'those-who-matter', 'be', 'yourself', 'fitting', 'in', 'misattributed', 'dr', 'seuss']\n",
      "['dance', 'heaven', 'hurt', 'inspirational', 'life', 'love', 'sing']\n",
      "['dance', 'heaven', 'hurt', 'inspirational', 'life', 'love', 'sing']\n",
      "['dance', 'heaven', 'hurt', 'inspirational', 'life', 'love', 'sing']\n",
      "['dance', 'heaven', 'hurt', 'inspirational', 'life', 'love', 'sing']\n",
      "['dance', 'heaven', 'hurt', 'inspirational', 'life', 'love', 'sing']\n",
      "['dance', 'heaven', 'hurt', 'inspirational', 'life', 'love', 'sing']\n",
      "['dance', 'heaven', 'hurt', 'inspirational', 'life', 'love', 'sing']\n",
      "['dreams', 'love', 'reality', 'sleep']\n",
      "['dreams', 'love', 'reality', 'sleep']\n",
      "['dreams', 'love', 'reality', 'sleep']\n",
      "['dreams', 'love', 'reality', 'sleep']\n",
      "['humor', 'life']\n",
      "['humor', 'life']\n",
      "['action', 'change', 'inspirational', 'philosophy', 'wish']\n",
      "['action', 'change', 'inspirational', 'philosophy', 'wish']\n",
      "['action', 'change', 'inspirational', 'philosophy', 'wish']\n",
      "['action', 'change', 'inspirational', 'philosophy', 'wish']\n",
      "['action', 'change', 'inspirational', 'philosophy', 'wish']\n",
      "['life']\n"
     ]
    }
   ],
   "source": [
    "# creating a set of stop words\n",
    "stop_words_set = set(stopwords.words('english'))\n",
    "\n",
    "for i in range(0, len(dataset)):\n",
    "    for j in range(0, len(dataset['tags'][i])):\n",
    "        print(dataset['tags'][i])\n",
    "    if(i==10):\n",
    "        break\n",
    "        # if(dataset['tags'][i][j] in stop_words_set):\n",
    "        #     dataset['tags'][i].pop(j)"
   ]
  },
  {
   "cell_type": "code",
   "execution_count": 31,
   "metadata": {},
   "outputs": [
    {
     "data": {
      "text/plain": [
       "['be-yourself',\n",
       " 'gilbert-perreira',\n",
       " 'honesty',\n",
       " 'inspirational',\n",
       " 'misattributed-oscar-wilde',\n",
       " 'quote-investigator']"
      ]
     },
     "execution_count": 31,
     "metadata": {},
     "output_type": "execute_result"
    }
   ],
   "source": [
    "dataset['tags'][0]"
   ]
  },
  {
   "cell_type": "code",
   "execution_count": 34,
   "metadata": {},
   "outputs": [
    {
     "data": {
      "text/html": [
       "<div>\n",
       "<style scoped>\n",
       "    .dataframe tbody tr th:only-of-type {\n",
       "        vertical-align: middle;\n",
       "    }\n",
       "\n",
       "    .dataframe tbody tr th {\n",
       "        vertical-align: top;\n",
       "    }\n",
       "\n",
       "    .dataframe thead th {\n",
       "        text-align: right;\n",
       "    }\n",
       "</style>\n",
       "<table border=\"1\" class=\"dataframe\">\n",
       "  <thead>\n",
       "    <tr style=\"text-align: right;\">\n",
       "      <th></th>\n",
       "      <th>quote</th>\n",
       "      <th>author</th>\n",
       "      <th>tags</th>\n",
       "    </tr>\n",
       "  </thead>\n",
       "  <tbody>\n",
       "    <tr>\n",
       "      <th>0</th>\n",
       "      <td>“Be yourself; everyone else is already taken.”</td>\n",
       "      <td>Oscar Wilde</td>\n",
       "      <td>[be-yourself, gilbert-perreira, honesty, inspi...</td>\n",
       "    </tr>\n",
       "    <tr>\n",
       "      <th>1</th>\n",
       "      <td>“I'm selfish, impatient and a little insecure....</td>\n",
       "      <td>Marilyn Monroe</td>\n",
       "      <td>[best, life, love, mistakes, truth, worst, con...</td>\n",
       "    </tr>\n",
       "    <tr>\n",
       "      <th>2</th>\n",
       "      <td>“Two things are infinite: the universe and hum...</td>\n",
       "      <td>Albert Einstein</td>\n",
       "      <td>[humor, infinity, philosophy, science, stupidi...</td>\n",
       "    </tr>\n",
       "    <tr>\n",
       "      <th>3</th>\n",
       "      <td>“So many books, so little time.”</td>\n",
       "      <td>Frank Zappa</td>\n",
       "      <td>[books, humor]</td>\n",
       "    </tr>\n",
       "    <tr>\n",
       "      <th>4</th>\n",
       "      <td>“A room without books is like a body without a...</td>\n",
       "      <td>Marcus Tullius Cicero</td>\n",
       "      <td>[books, simile, soul]</td>\n",
       "    </tr>\n",
       "    <tr>\n",
       "      <th>...</th>\n",
       "      <td>...</td>\n",
       "      <td>...</td>\n",
       "      <td>...</td>\n",
       "    </tr>\n",
       "    <tr>\n",
       "      <th>2503</th>\n",
       "      <td>“Morality is simply the attitude we adopt towa...</td>\n",
       "      <td>Oscar Wilde,</td>\n",
       "      <td>[morality, philosophy]</td>\n",
       "    </tr>\n",
       "    <tr>\n",
       "      <th>2504</th>\n",
       "      <td>“Don't aim at success. The more you aim at it ...</td>\n",
       "      <td>Viktor E. Frankl,</td>\n",
       "      <td>[happiness, success]</td>\n",
       "    </tr>\n",
       "    <tr>\n",
       "      <th>2505</th>\n",
       "      <td>“In life, finding a voice is speaking and livi...</td>\n",
       "      <td>John Grisham</td>\n",
       "      <td>[inspirational, life]</td>\n",
       "    </tr>\n",
       "    <tr>\n",
       "      <th>2506</th>\n",
       "      <td>“Winter is the time for comfort, for good food...</td>\n",
       "      <td>Edith Sitwell</td>\n",
       "      <td>[comfort, home, winter]</td>\n",
       "    </tr>\n",
       "    <tr>\n",
       "      <th>2507</th>\n",
       "      <td>“Silence is so freaking loud”</td>\n",
       "      <td>Sarah Dessen,</td>\n",
       "      <td>[loud, owen, silence, just, listen, sara, dessen]</td>\n",
       "    </tr>\n",
       "  </tbody>\n",
       "</table>\n",
       "<p>2508 rows × 3 columns</p>\n",
       "</div>"
      ],
      "text/plain": [
       "                                                  quote  \\\n",
       "0        “Be yourself; everyone else is already taken.”   \n",
       "1     “I'm selfish, impatient and a little insecure....   \n",
       "2     “Two things are infinite: the universe and hum...   \n",
       "3                      “So many books, so little time.”   \n",
       "4     “A room without books is like a body without a...   \n",
       "...                                                 ...   \n",
       "2503  “Morality is simply the attitude we adopt towa...   \n",
       "2504  “Don't aim at success. The more you aim at it ...   \n",
       "2505  “In life, finding a voice is speaking and livi...   \n",
       "2506  “Winter is the time for comfort, for good food...   \n",
       "2507                      “Silence is so freaking loud”   \n",
       "\n",
       "                     author                                               tags  \n",
       "0               Oscar Wilde  [be-yourself, gilbert-perreira, honesty, inspi...  \n",
       "1            Marilyn Monroe  [best, life, love, mistakes, truth, worst, con...  \n",
       "2           Albert Einstein  [humor, infinity, philosophy, science, stupidi...  \n",
       "3               Frank Zappa                                     [books, humor]  \n",
       "4     Marcus Tullius Cicero                              [books, simile, soul]  \n",
       "...                     ...                                                ...  \n",
       "2503           Oscar Wilde,                             [morality, philosophy]  \n",
       "2504      Viktor E. Frankl,                               [happiness, success]  \n",
       "2505           John Grisham                              [inspirational, life]  \n",
       "2506          Edith Sitwell                            [comfort, home, winter]  \n",
       "2507          Sarah Dessen,  [loud, owen, silence, just, listen, sara, dessen]  \n",
       "\n",
       "[2508 rows x 3 columns]"
      ]
     },
     "execution_count": 34,
     "metadata": {},
     "output_type": "execute_result"
    }
   ],
   "source": [
    "dataset"
   ]
  },
  {
   "cell_type": "markdown",
   "metadata": {},
   "source": [
    "# Multi-Label Naive Bayes Classifier (Baseline Model)"
   ]
  },
  {
   "cell_type": "code",
   "execution_count": null,
   "metadata": {},
   "outputs": [],
   "source": []
  },
  {
   "cell_type": "markdown",
   "metadata": {},
   "source": [
    "# Recurrant Neural Network (RNN) Model"
   ]
  },
  {
   "cell_type": "code",
   "execution_count": null,
   "metadata": {},
   "outputs": [],
   "source": []
  },
  {
   "cell_type": "markdown",
   "metadata": {},
   "source": [
    "# Transformer Based Model?"
   ]
  },
  {
   "cell_type": "code",
   "execution_count": null,
   "metadata": {},
   "outputs": [],
   "source": []
  }
 ],
 "metadata": {
  "kernelspec": {
   "display_name": "info7390",
   "language": "python",
   "name": "python3"
  },
  "language_info": {
   "codemirror_mode": {
    "name": "ipython",
    "version": 3
   },
   "file_extension": ".py",
   "mimetype": "text/x-python",
   "name": "python",
   "nbconvert_exporter": "python",
   "pygments_lexer": "ipython3",
   "version": "3.8.17"
  }
 },
 "nbformat": 4,
 "nbformat_minor": 2
}
