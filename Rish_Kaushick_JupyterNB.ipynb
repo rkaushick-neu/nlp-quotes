{
 "cells": [
  {
   "cell_type": "markdown",
   "metadata": {},
   "source": [
    "# Natural Language Processing Project"
   ]
  },
  {
   "cell_type": "markdown",
   "metadata": {},
   "source": [
    "# Multi-Label Categorical Classification of English Quotes"
   ]
  },
  {
   "cell_type": "markdown",
   "metadata": {},
   "source": [
    "<b>Rish (Rishabh) Kaushick</b> <br>\n",
    "College of Engineering <br>\n",
    "Northeastern University <br>\n",
    "Toronto, ON <br>\n",
    "kaushick.r@northeastern.edu"
   ]
  },
  {
   "cell_type": "markdown",
   "metadata": {},
   "source": [
    "# Downloading The Dataset From Hugging Face"
   ]
  },
  {
   "cell_type": "code",
   "execution_count": 1,
   "metadata": {},
   "outputs": [],
   "source": [
    "from huggingface_hub import hf_hub_download\n",
    "import pandas as pd\n",
    "import numpy as np\n",
    "\n",
    "REPO_ID = \"Abirate/english_quotes\"\n",
    "FILENAME = \"quotes.jsonl\"\n",
    "\n",
    "# since the data is in jsonl format, we read it using read_json() function with lines=True\n",
    "dataset = pd.read_json(hf_hub_download(repo_id=REPO_ID, filename=FILENAME, repo_type=\"dataset\"), lines=True)\n"
   ]
  },
  {
   "cell_type": "code",
   "execution_count": 2,
   "metadata": {},
   "outputs": [
    {
     "data": {
      "text/html": [
       "<div>\n",
       "<style scoped>\n",
       "    .dataframe tbody tr th:only-of-type {\n",
       "        vertical-align: middle;\n",
       "    }\n",
       "\n",
       "    .dataframe tbody tr th {\n",
       "        vertical-align: top;\n",
       "    }\n",
       "\n",
       "    .dataframe thead th {\n",
       "        text-align: right;\n",
       "    }\n",
       "</style>\n",
       "<table border=\"1\" class=\"dataframe\">\n",
       "  <thead>\n",
       "    <tr style=\"text-align: right;\">\n",
       "      <th></th>\n",
       "      <th>quote</th>\n",
       "      <th>author</th>\n",
       "      <th>tags</th>\n",
       "    </tr>\n",
       "  </thead>\n",
       "  <tbody>\n",
       "    <tr>\n",
       "      <th>0</th>\n",
       "      <td>“Be yourself; everyone else is already taken.”</td>\n",
       "      <td>Oscar Wilde</td>\n",
       "      <td>[be-yourself, gilbert-perreira, honesty, inspi...</td>\n",
       "    </tr>\n",
       "    <tr>\n",
       "      <th>1</th>\n",
       "      <td>“I'm selfish, impatient and a little insecure....</td>\n",
       "      <td>Marilyn Monroe</td>\n",
       "      <td>[best, life, love, mistakes, out-of-control, t...</td>\n",
       "    </tr>\n",
       "    <tr>\n",
       "      <th>2</th>\n",
       "      <td>“Two things are infinite: the universe and hum...</td>\n",
       "      <td>Albert Einstein</td>\n",
       "      <td>[human-nature, humor, infinity, philosophy, sc...</td>\n",
       "    </tr>\n",
       "    <tr>\n",
       "      <th>3</th>\n",
       "      <td>“So many books, so little time.”</td>\n",
       "      <td>Frank Zappa</td>\n",
       "      <td>[books, humor]</td>\n",
       "    </tr>\n",
       "    <tr>\n",
       "      <th>4</th>\n",
       "      <td>“A room without books is like a body without a...</td>\n",
       "      <td>Marcus Tullius Cicero</td>\n",
       "      <td>[books, simile, soul]</td>\n",
       "    </tr>\n",
       "    <tr>\n",
       "      <th>...</th>\n",
       "      <td>...</td>\n",
       "      <td>...</td>\n",
       "      <td>...</td>\n",
       "    </tr>\n",
       "    <tr>\n",
       "      <th>2503</th>\n",
       "      <td>“Morality is simply the attitude we adopt towa...</td>\n",
       "      <td>Oscar Wilde,</td>\n",
       "      <td>[morality, philosophy]</td>\n",
       "    </tr>\n",
       "    <tr>\n",
       "      <th>2504</th>\n",
       "      <td>“Don't aim at success. The more you aim at it ...</td>\n",
       "      <td>Viktor E. Frankl,</td>\n",
       "      <td>[happiness, success]</td>\n",
       "    </tr>\n",
       "    <tr>\n",
       "      <th>2505</th>\n",
       "      <td>“In life, finding a voice is speaking and livi...</td>\n",
       "      <td>John Grisham</td>\n",
       "      <td>[inspirational-life]</td>\n",
       "    </tr>\n",
       "    <tr>\n",
       "      <th>2506</th>\n",
       "      <td>“Winter is the time for comfort, for good food...</td>\n",
       "      <td>Edith Sitwell</td>\n",
       "      <td>[comfort, home, winter]</td>\n",
       "    </tr>\n",
       "    <tr>\n",
       "      <th>2507</th>\n",
       "      <td>“Silence is so freaking loud”</td>\n",
       "      <td>Sarah Dessen,</td>\n",
       "      <td>[just-listen, loud, owen, sara-dessen, silence]</td>\n",
       "    </tr>\n",
       "  </tbody>\n",
       "</table>\n",
       "<p>2508 rows × 3 columns</p>\n",
       "</div>"
      ],
      "text/plain": [
       "                                                  quote  \\\n",
       "0        “Be yourself; everyone else is already taken.”   \n",
       "1     “I'm selfish, impatient and a little insecure....   \n",
       "2     “Two things are infinite: the universe and hum...   \n",
       "3                      “So many books, so little time.”   \n",
       "4     “A room without books is like a body without a...   \n",
       "...                                                 ...   \n",
       "2503  “Morality is simply the attitude we adopt towa...   \n",
       "2504  “Don't aim at success. The more you aim at it ...   \n",
       "2505  “In life, finding a voice is speaking and livi...   \n",
       "2506  “Winter is the time for comfort, for good food...   \n",
       "2507                      “Silence is so freaking loud”   \n",
       "\n",
       "                     author                                               tags  \n",
       "0               Oscar Wilde  [be-yourself, gilbert-perreira, honesty, inspi...  \n",
       "1            Marilyn Monroe  [best, life, love, mistakes, out-of-control, t...  \n",
       "2           Albert Einstein  [human-nature, humor, infinity, philosophy, sc...  \n",
       "3               Frank Zappa                                     [books, humor]  \n",
       "4     Marcus Tullius Cicero                              [books, simile, soul]  \n",
       "...                     ...                                                ...  \n",
       "2503           Oscar Wilde,                             [morality, philosophy]  \n",
       "2504      Viktor E. Frankl,                               [happiness, success]  \n",
       "2505           John Grisham                               [inspirational-life]  \n",
       "2506          Edith Sitwell                            [comfort, home, winter]  \n",
       "2507          Sarah Dessen,    [just-listen, loud, owen, sara-dessen, silence]  \n",
       "\n",
       "[2508 rows x 3 columns]"
      ]
     },
     "execution_count": 2,
     "metadata": {},
     "output_type": "execute_result"
    }
   ],
   "source": [
    "dataset"
   ]
  },
  {
   "cell_type": "markdown",
   "metadata": {},
   "source": [
    "# Exploratory Data Analysis"
   ]
  },
  {
   "cell_type": "code",
   "execution_count": 3,
   "metadata": {},
   "outputs": [
    {
     "data": {
      "text/html": [
       "<div>\n",
       "<style scoped>\n",
       "    .dataframe tbody tr th:only-of-type {\n",
       "        vertical-align: middle;\n",
       "    }\n",
       "\n",
       "    .dataframe tbody tr th {\n",
       "        vertical-align: top;\n",
       "    }\n",
       "\n",
       "    .dataframe thead th {\n",
       "        text-align: right;\n",
       "    }\n",
       "</style>\n",
       "<table border=\"1\" class=\"dataframe\">\n",
       "  <thead>\n",
       "    <tr style=\"text-align: right;\">\n",
       "      <th></th>\n",
       "      <th>quote</th>\n",
       "      <th>author</th>\n",
       "      <th>tags</th>\n",
       "    </tr>\n",
       "  </thead>\n",
       "  <tbody>\n",
       "    <tr>\n",
       "      <th>0</th>\n",
       "      <td>“Be yourself; everyone else is already taken.”</td>\n",
       "      <td>Oscar Wilde</td>\n",
       "      <td>[be-yourself, gilbert-perreira, honesty, inspi...</td>\n",
       "    </tr>\n",
       "    <tr>\n",
       "      <th>1</th>\n",
       "      <td>“I'm selfish, impatient and a little insecure....</td>\n",
       "      <td>Marilyn Monroe</td>\n",
       "      <td>[best, life, love, mistakes, out-of-control, t...</td>\n",
       "    </tr>\n",
       "    <tr>\n",
       "      <th>2</th>\n",
       "      <td>“Two things are infinite: the universe and hum...</td>\n",
       "      <td>Albert Einstein</td>\n",
       "      <td>[human-nature, humor, infinity, philosophy, sc...</td>\n",
       "    </tr>\n",
       "    <tr>\n",
       "      <th>3</th>\n",
       "      <td>“So many books, so little time.”</td>\n",
       "      <td>Frank Zappa</td>\n",
       "      <td>[books, humor]</td>\n",
       "    </tr>\n",
       "    <tr>\n",
       "      <th>4</th>\n",
       "      <td>“A room without books is like a body without a...</td>\n",
       "      <td>Marcus Tullius Cicero</td>\n",
       "      <td>[books, simile, soul]</td>\n",
       "    </tr>\n",
       "    <tr>\n",
       "      <th>5</th>\n",
       "      <td>“Be who you are and say what you feel, because...</td>\n",
       "      <td>Bernard M. Baruch</td>\n",
       "      <td>[ataraxy, be-yourself, confidence, fitting-in,...</td>\n",
       "    </tr>\n",
       "    <tr>\n",
       "      <th>6</th>\n",
       "      <td>“You've gotta dance like there's nobody watchi...</td>\n",
       "      <td>William W. Purkey</td>\n",
       "      <td>[dance, heaven, hurt, inspirational, life, lov...</td>\n",
       "    </tr>\n",
       "    <tr>\n",
       "      <th>7</th>\n",
       "      <td>“You know you're in love when you can't fall a...</td>\n",
       "      <td>Dr. Seuss</td>\n",
       "      <td>[dreams, love, reality, sleep]</td>\n",
       "    </tr>\n",
       "    <tr>\n",
       "      <th>8</th>\n",
       "      <td>“You only live once, but if you do it right, o...</td>\n",
       "      <td>Mae West</td>\n",
       "      <td>[humor, life]</td>\n",
       "    </tr>\n",
       "    <tr>\n",
       "      <th>9</th>\n",
       "      <td>“Be the change that you wish to see in the wor...</td>\n",
       "      <td>Mahatma Gandhi</td>\n",
       "      <td>[action, change, inspirational, philosophy, wish]</td>\n",
       "    </tr>\n",
       "  </tbody>\n",
       "</table>\n",
       "</div>"
      ],
      "text/plain": [
       "                                               quote                 author  \\\n",
       "0     “Be yourself; everyone else is already taken.”            Oscar Wilde   \n",
       "1  “I'm selfish, impatient and a little insecure....         Marilyn Monroe   \n",
       "2  “Two things are infinite: the universe and hum...        Albert Einstein   \n",
       "3                   “So many books, so little time.”            Frank Zappa   \n",
       "4  “A room without books is like a body without a...  Marcus Tullius Cicero   \n",
       "5  “Be who you are and say what you feel, because...      Bernard M. Baruch   \n",
       "6  “You've gotta dance like there's nobody watchi...      William W. Purkey   \n",
       "7  “You know you're in love when you can't fall a...              Dr. Seuss   \n",
       "8  “You only live once, but if you do it right, o...               Mae West   \n",
       "9  “Be the change that you wish to see in the wor...         Mahatma Gandhi   \n",
       "\n",
       "                                                tags  \n",
       "0  [be-yourself, gilbert-perreira, honesty, inspi...  \n",
       "1  [best, life, love, mistakes, out-of-control, t...  \n",
       "2  [human-nature, humor, infinity, philosophy, sc...  \n",
       "3                                     [books, humor]  \n",
       "4                              [books, simile, soul]  \n",
       "5  [ataraxy, be-yourself, confidence, fitting-in,...  \n",
       "6  [dance, heaven, hurt, inspirational, life, lov...  \n",
       "7                     [dreams, love, reality, sleep]  \n",
       "8                                      [humor, life]  \n",
       "9  [action, change, inspirational, philosophy, wish]  "
      ]
     },
     "execution_count": 3,
     "metadata": {},
     "output_type": "execute_result"
    }
   ],
   "source": [
    "dataset.head(10)"
   ]
  },
  {
   "cell_type": "code",
   "execution_count": 4,
   "metadata": {},
   "outputs": [
    {
     "data": {
      "text/html": [
       "<div>\n",
       "<style scoped>\n",
       "    .dataframe tbody tr th:only-of-type {\n",
       "        vertical-align: middle;\n",
       "    }\n",
       "\n",
       "    .dataframe tbody tr th {\n",
       "        vertical-align: top;\n",
       "    }\n",
       "\n",
       "    .dataframe thead th {\n",
       "        text-align: right;\n",
       "    }\n",
       "</style>\n",
       "<table border=\"1\" class=\"dataframe\">\n",
       "  <thead>\n",
       "    <tr style=\"text-align: right;\">\n",
       "      <th></th>\n",
       "      <th>quote</th>\n",
       "      <th>author</th>\n",
       "      <th>tags</th>\n",
       "    </tr>\n",
       "  </thead>\n",
       "  <tbody>\n",
       "    <tr>\n",
       "      <th>2062</th>\n",
       "      <td>“Why are you worrying about YOU-KNOW-WHO, when...</td>\n",
       "      <td>J.K. Rowling,</td>\n",
       "      <td>[humor]</td>\n",
       "    </tr>\n",
       "    <tr>\n",
       "      <th>1078</th>\n",
       "      <td>“I am not sure that I exist, actually. I am al...</td>\n",
       "      <td>Jorge Luis Borges</td>\n",
       "      <td>[life]</td>\n",
       "    </tr>\n",
       "    <tr>\n",
       "      <th>1176</th>\n",
       "      <td>“If you're lonely when you're alone, you're in...</td>\n",
       "      <td>Jean-Paul Sartre</td>\n",
       "      <td>[loneliness, solitude]</td>\n",
       "    </tr>\n",
       "    <tr>\n",
       "      <th>414</th>\n",
       "      <td>“You educate a man; you educate a man. You edu...</td>\n",
       "      <td>Brigham Young</td>\n",
       "      <td>[education, feminism, men, women]</td>\n",
       "    </tr>\n",
       "    <tr>\n",
       "      <th>508</th>\n",
       "      <td>“There is neither happiness nor misery in the ...</td>\n",
       "      <td>Alexandre Dumas</td>\n",
       "      <td>[hope, inspirational, wisdom]</td>\n",
       "    </tr>\n",
       "  </tbody>\n",
       "</table>\n",
       "</div>"
      ],
      "text/plain": [
       "                                                  quote             author  \\\n",
       "2062  “Why are you worrying about YOU-KNOW-WHO, when...      J.K. Rowling,   \n",
       "1078  “I am not sure that I exist, actually. I am al...  Jorge Luis Borges   \n",
       "1176  “If you're lonely when you're alone, you're in...   Jean-Paul Sartre   \n",
       "414   “You educate a man; you educate a man. You edu...      Brigham Young   \n",
       "508   “There is neither happiness nor misery in the ...    Alexandre Dumas   \n",
       "\n",
       "                                   tags  \n",
       "2062                            [humor]  \n",
       "1078                             [life]  \n",
       "1176             [loneliness, solitude]  \n",
       "414   [education, feminism, men, women]  \n",
       "508       [hope, inspirational, wisdom]  "
      ]
     },
     "execution_count": 4,
     "metadata": {},
     "output_type": "execute_result"
    }
   ],
   "source": [
    "# setting random_state in the random sample, so that each time the same value is presented\n",
    "dataset.sample(5, random_state=23)"
   ]
  },
  {
   "cell_type": "code",
   "execution_count": 5,
   "metadata": {},
   "outputs": [
    {
     "name": "stdout",
     "output_type": "stream",
     "text": [
      "<class 'pandas.core.frame.DataFrame'>\n",
      "RangeIndex: 2508 entries, 0 to 2507\n",
      "Data columns (total 3 columns):\n",
      " #   Column  Non-Null Count  Dtype \n",
      "---  ------  --------------  ----- \n",
      " 0   quote   2508 non-null   object\n",
      " 1   author  2508 non-null   object\n",
      " 2   tags    2508 non-null   object\n",
      "dtypes: object(3)\n",
      "memory usage: 58.9+ KB\n"
     ]
    }
   ],
   "source": [
    "dataset.info()"
   ]
  },
  {
   "cell_type": "code",
   "execution_count": 6,
   "metadata": {},
   "outputs": [
    {
     "data": {
      "text/html": [
       "<div>\n",
       "<style scoped>\n",
       "    .dataframe tbody tr th:only-of-type {\n",
       "        vertical-align: middle;\n",
       "    }\n",
       "\n",
       "    .dataframe tbody tr th {\n",
       "        vertical-align: top;\n",
       "    }\n",
       "\n",
       "    .dataframe thead th {\n",
       "        text-align: right;\n",
       "    }\n",
       "</style>\n",
       "<table border=\"1\" class=\"dataframe\">\n",
       "  <thead>\n",
       "    <tr style=\"text-align: right;\">\n",
       "      <th></th>\n",
       "      <th>quote</th>\n",
       "      <th>author</th>\n",
       "      <th>tags</th>\n",
       "    </tr>\n",
       "  </thead>\n",
       "  <tbody>\n",
       "    <tr>\n",
       "      <th>11</th>\n",
       "      <td>“If you want to know what a man's like, take a...</td>\n",
       "      <td>J.K. Rowling,</td>\n",
       "      <td>[character, sirius-black]</td>\n",
       "    </tr>\n",
       "    <tr>\n",
       "      <th>31</th>\n",
       "      <td>“It is our choices, Harry, that show what we t...</td>\n",
       "      <td>J.K. Rowling,</td>\n",
       "      <td>[abilities, choices]</td>\n",
       "    </tr>\n",
       "    <tr>\n",
       "      <th>35</th>\n",
       "      <td>“It does not do to dwell on dreams and forget ...</td>\n",
       "      <td>J.K. Rowling,</td>\n",
       "      <td>[dreams, life]</td>\n",
       "    </tr>\n",
       "    <tr>\n",
       "      <th>53</th>\n",
       "      <td>“I solemnly swear that I am up to no good.”</td>\n",
       "      <td>J.K. Rowling,</td>\n",
       "      <td>[mischief]</td>\n",
       "    </tr>\n",
       "    <tr>\n",
       "      <th>68</th>\n",
       "      <td>“It takes a great deal of bravery to stand up ...</td>\n",
       "      <td>J.K. Rowling,</td>\n",
       "      <td>[albus-dumbledore, courage, friends]</td>\n",
       "    </tr>\n",
       "    <tr>\n",
       "      <th>...</th>\n",
       "      <td>...</td>\n",
       "      <td>...</td>\n",
       "      <td>...</td>\n",
       "    </tr>\n",
       "    <tr>\n",
       "      <th>2321</th>\n",
       "      <td>“Don't let the muggles get you down.”</td>\n",
       "      <td>J.K. Rowling,</td>\n",
       "      <td>[encouragement, muggles, wit]</td>\n",
       "    </tr>\n",
       "    <tr>\n",
       "      <th>2342</th>\n",
       "      <td>“I'm going to keep going until I succeed â€” o...</td>\n",
       "      <td>J.K. Rowling,</td>\n",
       "      <td>[harry-potter]</td>\n",
       "    </tr>\n",
       "    <tr>\n",
       "      <th>2401</th>\n",
       "      <td>“You think the dead we loved ever truly leave ...</td>\n",
       "      <td>J.K. Rowling,</td>\n",
       "      <td>[dead]</td>\n",
       "    </tr>\n",
       "    <tr>\n",
       "      <th>2472</th>\n",
       "      <td>“Hello, Harry\" said George, beaming at him. \"W...</td>\n",
       "      <td>J.K. Rowling,</td>\n",
       "      <td>[humour]</td>\n",
       "    </tr>\n",
       "    <tr>\n",
       "      <th>2478</th>\n",
       "      <td>“But Dumbledore says he doesn't care what they...</td>\n",
       "      <td>J.K. Rowling,</td>\n",
       "      <td>[celebrity, dumbledore, fame, funny]</td>\n",
       "    </tr>\n",
       "  </tbody>\n",
       "</table>\n",
       "<p>74 rows × 3 columns</p>\n",
       "</div>"
      ],
      "text/plain": [
       "                                                  quote         author  \\\n",
       "11    “If you want to know what a man's like, take a...  J.K. Rowling,   \n",
       "31    “It is our choices, Harry, that show what we t...  J.K. Rowling,   \n",
       "35    “It does not do to dwell on dreams and forget ...  J.K. Rowling,   \n",
       "53          “I solemnly swear that I am up to no good.”  J.K. Rowling,   \n",
       "68    “It takes a great deal of bravery to stand up ...  J.K. Rowling,   \n",
       "...                                                 ...            ...   \n",
       "2321              “Don't let the muggles get you down.”  J.K. Rowling,   \n",
       "2342  “I'm going to keep going until I succeed â€” o...  J.K. Rowling,   \n",
       "2401  “You think the dead we loved ever truly leave ...  J.K. Rowling,   \n",
       "2472  “Hello, Harry\" said George, beaming at him. \"W...  J.K. Rowling,   \n",
       "2478  “But Dumbledore says he doesn't care what they...  J.K. Rowling,   \n",
       "\n",
       "                                      tags  \n",
       "11               [character, sirius-black]  \n",
       "31                    [abilities, choices]  \n",
       "35                          [dreams, life]  \n",
       "53                              [mischief]  \n",
       "68    [albus-dumbledore, courage, friends]  \n",
       "...                                    ...  \n",
       "2321         [encouragement, muggles, wit]  \n",
       "2342                        [harry-potter]  \n",
       "2401                                [dead]  \n",
       "2472                              [humour]  \n",
       "2478  [celebrity, dumbledore, fame, funny]  \n",
       "\n",
       "[74 rows x 3 columns]"
      ]
     },
     "execution_count": 6,
     "metadata": {},
     "output_type": "execute_result"
    }
   ],
   "source": [
    "# Quotes by J.k. Rowling\n",
    "dataset.loc[dataset['author'] == 'J.K. Rowling,']"
   ]
  },
  {
   "cell_type": "markdown",
   "metadata": {},
   "source": [
    "## Exploring The Target Variable - 'tags'"
   ]
  },
  {
   "cell_type": "code",
   "execution_count": 7,
   "metadata": {},
   "outputs": [
    {
     "data": {
      "text/plain": [
       "0       [be-yourself, gilbert-perreira, honesty, inspi...\n",
       "1       [best, life, love, mistakes, out-of-control, t...\n",
       "2       [human-nature, humor, infinity, philosophy, sc...\n",
       "3                                          [books, humor]\n",
       "4                                   [books, simile, soul]\n",
       "                              ...                        \n",
       "2503                               [morality, philosophy]\n",
       "2504                                 [happiness, success]\n",
       "2505                                 [inspirational-life]\n",
       "2506                              [comfort, home, winter]\n",
       "2507      [just-listen, loud, owen, sara-dessen, silence]\n",
       "Name: tags, Length: 2508, dtype: object"
      ]
     },
     "execution_count": 7,
     "metadata": {},
     "output_type": "execute_result"
    }
   ],
   "source": [
    "# Understanding the 'tags' attribute:\n",
    "dataset['tags']"
   ]
  },
  {
   "cell_type": "code",
   "execution_count": 8,
   "metadata": {},
   "outputs": [
    {
     "data": {
      "text/plain": [
       "['be-yourself',\n",
       " 'gilbert-perreira',\n",
       " 'honesty',\n",
       " 'inspirational',\n",
       " 'misattributed-oscar-wilde',\n",
       " 'quote-investigator']"
      ]
     },
     "execution_count": 8,
     "metadata": {},
     "output_type": "execute_result"
    }
   ],
   "source": [
    "dataset['tags'][0]"
   ]
  },
  {
   "cell_type": "code",
   "execution_count": 9,
   "metadata": {},
   "outputs": [
    {
     "data": {
      "text/plain": [
       "'be-yourself'"
      ]
     },
     "execution_count": 9,
     "metadata": {},
     "output_type": "execute_result"
    }
   ],
   "source": [
    "dataset['tags'][0][0]"
   ]
  },
  {
   "cell_type": "code",
   "execution_count": 10,
   "metadata": {},
   "outputs": [
    {
     "data": {
      "text/plain": [
       "'inspirational'"
      ]
     },
     "execution_count": 10,
     "metadata": {},
     "output_type": "execute_result"
    }
   ],
   "source": [
    "dataset['tags'][0][3]"
   ]
  },
  {
   "cell_type": "markdown",
   "metadata": {},
   "source": [
    "From the above we can see that the values in the 'tags' attribute are stored as a list."
   ]
  },
  {
   "cell_type": "code",
   "execution_count": 11,
   "metadata": {},
   "outputs": [
    {
     "data": {
      "text/plain": [
       "880"
      ]
     },
     "execution_count": 11,
     "metadata": {},
     "output_type": "execute_result"
    }
   ],
   "source": [
    "# Looking for how many unique values are present in the author column\n",
    "len(dataset['author'].unique())"
   ]
  },
  {
   "cell_type": "code",
   "execution_count": 12,
   "metadata": {},
   "outputs": [
    {
     "data": {
      "text/plain": [
       "tags\n",
       "[love]                                                                                                                                                                                                                          75\n",
       "[inspirational]                                                                                                                                                                                                                 63\n",
       "[humor]                                                                                                                                                                                                                         37\n",
       "[life]                                                                                                                                                                                                                          34\n",
       "[writing]                                                                                                                                                                                                                       25\n",
       "                                                                                                                                                                                                                                ..\n",
       "[depression, pain, trauma]                                                                                                                                                                                                       1\n",
       "[identity, self-image, sense-of-self, stories, storytelling]                                                                                                                                                                     1\n",
       "[clichÃ©s, double-standards, empowerment, equality, feminism, flattery, gender, hypocrisy, independence, men, misogyny, rationality, reason, self-determination, social-norms, stereotypes, strength, women, women-s-rights]     1\n",
       "[humor, idleness, inspirational]                                                                                                                                                                                                 1\n",
       "[just-listen, loud, owen, sara-dessen, silence]                                                                                                                                                                                  1\n",
       "Name: count, Length: 1962, dtype: int64"
      ]
     },
     "execution_count": 12,
     "metadata": {},
     "output_type": "execute_result"
    }
   ],
   "source": [
    "dataset['tags'].value_counts()"
   ]
  },
  {
   "cell_type": "markdown",
   "metadata": {},
   "source": [
    "The above does not help us much because one row could have multiple categories in the list. <br>\n",
    "Therefore, in order to see how many unique tags are there, we might need to iterate through the entire pandas dataframe, and store them in a Python set."
   ]
  },
  {
   "cell_type": "code",
   "execution_count": 13,
   "metadata": {},
   "outputs": [
    {
     "name": "stdout",
     "output_type": "stream",
     "text": [
      "0       [be-yourself, gilbert-perreira, honesty, inspi...\n",
      "1       [best, life, love, mistakes, out-of-control, t...\n",
      "2       [human-nature, humor, infinity, philosophy, sc...\n",
      "3                                          [books, humor]\n",
      "4                                   [books, simile, soul]\n",
      "                              ...                        \n",
      "2503                               [morality, philosophy]\n",
      "2504                                 [happiness, success]\n",
      "2505                                 [inspirational-life]\n",
      "2506                              [comfort, home, winter]\n",
      "2507      [just-listen, loud, owen, sara-dessen, silence]\n",
      "Name: tags, Length: 2508, dtype: object\n",
      "<class 'pandas.core.series.Series'>\n"
     ]
    }
   ],
   "source": [
    "# iterating through the values in the pandas dataframe\n",
    "tags = dataset['tags']\n",
    "print(tags)\n",
    "print(type(tags))"
   ]
  },
  {
   "cell_type": "code",
   "execution_count": 14,
   "metadata": {},
   "outputs": [
    {
     "name": "stdout",
     "output_type": "stream",
     "text": [
      "{'physics', 'travel', 'dhampir', 'words', 'religion', 'treasure', 'jacob', 'energy', 'peeves', 'taking-chances', '1993', 'judgment', 'style', 'what-is-right', 'mood-swings', '2013', 'extremely', 'at-first-sight', 'scotland', 'living-life-to-the-fullest', 'conformity', 'mischief', 'computers', 'true-love', 'individuality', 'diversity', 'romantic', 'greg-behrendt', 'to-be-loved', 'possiblity', 'fool', 'hatred', 'suspicion', 'morning', 'safety', 'persistence', 'humans', 'mindful', 'vampire-academy', 'dionysus', 'new-day', 'feminism', 'canoodle', 'fame', 'posiedon', 'kindle', 'holiness', 'lookingforalaska', 'joh-green', 'school', 'imagination', 'wrong', 'fear', 'tyson', 'voting', 'open-mindedness', 'zombies', 'werewolf', 'paramore', 'who-you-are', 'alchohol', 'sense', 'april', 'yesterday', 'equality', 'nations', 'immortals', 'books', 'mistake', 'misattributed-george-carlin', 'remus-lupin', 'less-more', 'the-mortal-instruments', 'dirty', 'speed-of-light', 'laugh', 'evermore', 'injury', 'atheist', 'hazel', 'relaxation', 'deep', 'illiteracy', 'jk-rowling', 'rhysand', 'hidden-things', 'philosophical', 'thankfulness', 'fiction', 'misattributed-apple', 'perfection', 'childhood-memory', 'unrequited-love', 'run', 'attitude', 'privacy', 'self-esteem', 'frolick', 'demon', 'talents', 'authors', 'accomplishment', 'discovery', 'gods', 'cancer', 'self-belief', 'misattributed-to-einstein', 'emptiness', 'observational-comedy', 'distance', 'smile', 'close-mindedness', 'individualism', 'nicholas', 'stand', 'arts', 'good-books', 'twirl', 'pixie-dust', 'life', 'insults', 'gandhi', 'stay-focused', 'demons', 'e-readers', 'empathy', 'equations', 'old-age', 'open-mind', 'flirting', 'systems', 'marriage', 'weakness', 'atlas', 'social-norms', 'nerd', 'witty', 'parenting', 'the-little-prince', 'receptivity', 'readers', 'drug', 'simile', 'awesome', 'purpose-of-life', 'mother', 'positive-attitude', 'today', 'essential', 'glitter', 'chaol-westfall', 'sharing', 'agree', 'obviousness', 'essence', 'live-in-the-moment', 'brown', 'sorcerers-stone', 'youthfulness', 'enthusiasm', 'public-opinion', 'bookstore', 'monsters', 'rulers', 'body-image', 'protection', 'fahrenheit-451', 'encouragement', 'self', '1931', 'never-stop-learning', 'jesus-christ', 'expression', 'rich', 'june', 'time', 'inspirational-life', 'correct-way', 'alec-lightwood', 'be-yourself-quote', 'aliteracy', 'logo', 'reminding', 'best', '1997', 'optimistic', 'lena-holoway', 'incredibly-true', 'hot', 'london', 'owen-armstrong', 'skills', 'h2g2', 'do-wrong', 'pessimism', 'feminist', 'whole-being', 'you-are-what-you-eat', 'glass', 'assumptions', 'hunger-games-peeta-katniss', 'young-at-heart', 'enjoy-the-journey', 'anais', 'books-bible', 'keep-moving-forward', 'call', 'mottos', 'dorian-gray', 'bestseller', 'meaning', 'fairies', 'new-year', 'sun', 'cry', 'wise-words', 'adam', 'fact', 'limitations', 'children-s-books', 'carpe-diem', 'mortal-instruments', 'understanding', 'castle', 'wormtail', 'humour', 'gaiman', 'draco-malfoy', 'determination', 'hmmm', 'self-respect', 'calvin-and-hobbes-reality', 'pijamas', 'betrayal', 'song', 'self-disclosure', 'by-anne-sullivan', 'reincarnation', 'zoe-nightshade', 'mail', 'listen', 'companionship', 'source-unknown', 'life-memories', 'french-renaissance-writer', 'animal-farm', 'thoughtful', 'isaac-asimov', 'vision', 'honest', 'only-way', 'gilbert-perreira', 'wilde', 'matrimony', 'thalia', 'requirements', 'dignity', 'reason', 'dishonesty', 'psychological', 'cats', 'agency', 'cleanliness', '1929', 'moi', 'clouds', 'mankind', 'speaking-out', 'psychology', 'selfishness', 'lovers', 'teens', 'perspective', 'sinners', 'dharma', 'feathers', 'sorry', 'lamp', 'homicide', 'sexuality', 'gondor', 'jordan-kyle', 'how', 'teasing', 'flame', 'newspapers', 'sara-dessen', 'extraterrestrials', 'hypocrisy', 'reap', 'story-people', 'humanity', 'doctor-who', 'self-help', 'doing', 'permission', 'scar', 'quote-investigator', 'friendship', 'men', 'ferret-malfoy', 'anger', 'wallflower', 'mind', 'max', 'dark-plans', 'paper-towns', 'heal', 'first-sentence', 'food-discussion', 'viereck-interview', 'life-and-living', 'socks', 'friend', 'ambition', 'personality', 'jace', 'sing', 'protest', 'eastern-philosophy', 'moving-on', 'unpredictability', 'thirst', 'serenity', 'bravery', 'letter', 'gray-book', 'cartoonist', 'craziness', 'wisdom', 'nicholas-sparks', 'samuel-beckett', 'positive-affirmation', 'criticize', 'ralph-macchio', 'jane-austen', 'exploration', 'people', 'children', 'space', 'chocolate', 'wit', 'frodo', 'horror', 'on-writing', 'aciman', 'morrison', 'richelle', 'unhappy-life', 'authenticity', 'alice', 'talk', 'breath', 'knowing-others', 'radiance', 'zsadist', 'intelligent-life', 'minority', 'progressive', 'giving-in', 'frienship', 'life-choices-fig-trees', 'host', 'classic', 'focus', 'flying', 'intelligence', 'cleverness', 'eccentric', 'self-acceptance', 'patriotism', 'creative-process', 'unlikely-places', 'tragedy', 'diary-entry', 'suzanne-collins', 'arrogance', 'witchcraft', 'katniss-and-peeta', 'celaena-sardothien', 'positivity', 'evil', 'thievery', 'mothers-day', 'noel', 'sherlock-holmes', 'discworld', 'act', 'own', 'imperfect', 'burdens', 'tfios', 'quotation', 'broken-families', 'alcohol', 'muggles', 'james-carstairs', 'quiet', 'class', 'reading-secrets', 'nora-grey', 'tolkien', 'december', 'understand', 'advice', 'thoughts', 'rose', 'art', 'perseverance', 'falling-apart', 'forgetfulness', 'alice-in-wonderland', 'danger', 'sarah-dessen', 'drugs', 'lotr', 'secret', 'kaz-brekker', 'names', 'stressed', 'young', 'perfect', 'inspirational-love', 'pigs', 'sea', 'statistics', 'meir', 'trial', 'power', 'cows', 'girls', 'unburdening', 'self-awareness', 'towel', 'we-are-what-we-eat', 'storytelling', 'going-on', 'scifi', 'christianity', 'fairytales', 'edward', 'church', 'catching-fire', 'he-s-not-just-into-you', 'holden-caulfield', 'women', 'crescendo', 'smiling', 'academy', 'comedy', 'fear-unknown', 'misattributed-to-groucho-marx', 'idleness', 'creation', 'passion', 'wilhelm-stekel', 'dissapointment', 'emotions', 'bachelorhood', 'waking-up', 'dr-seuss', 'ache', 'femininity', 'ecology', 'letting-go-of-the-past', 'fellowship', 'stupid', 'henry-miller', 'nonsense', 'nonfiction', 'deeply-loved', 'patch', 'majority', 'leaders', 'seize-the-day', 'exercise', 'never-stop-believing', 'enduring', 'love-yourself', 'nin', 'regrets', 'italy', 'benjamin-button', 'just-do-it', 'cinna', 'self-indulgence', 'mina', 'pandora', 'haiku', 'lady-gaga', 'human', 'busy', 'fresh-start', 'attributed', 'suess', 'woman', 'soulmates', 'blood', 'women-mothers', 'opportunity', 'death-and-dying', 'mellark', 'enjoy', 'eleven-minutes', 'romantics', 'realist', 'idiots', 'cynic', 'dumbledore', 'sandman', 'women-s-strenth', 'logic', 'peeta', 'happy', 'clare', 'dating-advice', 'sal-paradise', 'day', 'insanity', 'wind', 'play', 'celebrity', 'acomaf', 'misogyny', 'christina-grey', 'revelation', 'dan-brown', 'beatnik', 'forests', 'science-fiction', 'james-potter', 'time-travel', 'doomed', 'malfoy', 'stealth', 'memoir', 'complaining', 'ron-weasley', 'oblivion', 'description', 'twilight', 'challanges', 'self-worth', 'mourning', 'hg2g', 'opposite', 'calvin-and-hobbes', 'resolve', 'true-to-self', 'worrying', 'delusion', 'morgenstern', 'kind', 'absurdities', 'birthday', 'free-speech', 'gender-stereotypes', 'parting', 'songs', 'legacy', 'desperate', 'needs', 'choice', 'need', 'consciousness', 'kindness', 'courage-quotes', 'fighting', 'different', 'humor-tattoo', 'humorous', 'astronomer', 'power-of-words', 'future', 'relationships', 'infatuation', 'concern', 'isabelle-lightwood', 'amity', 'mad', 'dislike', 'mara-dyer', 'procrastinate', 'voice', 'challenges', 'positive', 'love-at-first-sight', 'heathcliff', 'clean', 'boldness', 'urban-fantasy', 'popularity', 'fortitude', 'cynical', 'willful-ignorance', 'earnestness', 'peter-pan', 'apocryphal', 'husband', 'classic-insult', 'the-nature-of-family', 'faith', 'couples', 'emotion', 'old-books', 'happy-endings', 'enemy', 'infinite-jest', 'person', 'capability', 'mythology', 'cosmos', 'injuries', 'anti-christian', 'motivational', 'thankful', 'late', 'apple', 'humor-mustache', 'prayer', 'isabelle', 'of', 'leaving', 'humanism', 'fallen-angels', 'philosophy', 'reasoning', 'ron', 'feelings', 'miracle', 'life-truths', 'think-different', 'crying', 'humor-wicked-reading', 'nerds', 'misattributed-to-chalmers', 'open-minds', 'heaven', 'machines', 'luke', 'angels', 'consul', 'inertia', 'generations-intelligence-wisdom', 'angel', 'teaching', 'pain', 'water', 'summer', 'before-i-fall', 'strategy', 'killing', 'deadlines', 'reading', 'family', 'common-ground', 'eyes', 'be-yourself-quotes', 'education', 'last-sacrifice', 'museums', 'psychotherapist', 'fred-weasley', 'curiosity', 'widely-misattributed', 'progress', 'awareness', 'wisedom', 'brotherhood-of-man', 'clothes', 'selfish', 'unseen', 'propaganda', 'mad-hatter', 'unsourced', 'man', 'tough-times', 'existence', 'foolishness', 'fountainhead', 'misattributed-tom-bodett', 'hermione', 'narrator', 'love-quotes', 'stars', 'victory', 'religious', 'children-s-literature', 'mr-darcy', 'virtues', 'rescuing', 'tyler-durden', 'neighborhoods', 'action', 'feet', 'the-kite-runner', 'adversity', 'sophie-collins', 'nora', 'reinvention', 'understanding-others', 'katniss-everdeen', 'poverty', 'lost', 'integrity-quotes', 'worship', 'seeds', 'eternity', 'spinsterhood', 'appreciation', 'warrior', 'transform', 'just-listen', 'congratulations', 'loud', 'islam', 'motivation', 'hagrid', 'wizard', 'satisfaction', 'phenomenal-woman', 'stress', 'misattributed-to-malcolm-x', 'misattributed-dr-seuss', 'nostalgia', 'misattributed-to-marilyn-monroe', 'mask', 'murder', 'internet', 'pride', 'shakespeare', 'strigoi', 'on-the-road', 'image', 'bath', 'books-vacation', 'antipathy', 'good-life', '1955', 'peanut-butter', 'truthful', 'vanity', 'geography', 'funeral', 'adventuring', 'uncertainty', 'mentoring', 'awkward', 'loved-ones', 'city-of-glass', 'sarcasm', 'liar', 'men-and-women', 'disappointed', 'ugly', 'grandmothers', 'humor-satan', 'myth', 'peer-pressure', 'self-love', 'misattributed-kurt-cobain', 'silly-chinese-canadian-baby-man', 'culture', 'dracula', 'winnie', 'shelves', 'living-life', 'speak', 'advice-for-daily-living', 'loneliness', 'book', 'breaking-up', 'bathing', 'hobbit', 'fairy-tales', 'contentment', 'hopeless', 'will', 'misattributed-douglas-adams', 'eating-reading', 'book-lovers', 'principles', 'stories-writing', 'safran', 'procrastination', 'trap', 'elizabeth-bennet', 'soul-ties', 'mortification', 'assassin', 'mermaids', 'sow', 'chapter-one', 'social-commentary', 'authentic-living', 'misattributed-mark-twain', 'clary-fray', 'reader', 'age', 'winds-of-life', 'alone', 'world', 'books-reading', 'layken', 'chivalry', 'cruelty', 'listening', 'robin-goodfellow', 'won-t', 'city-of-bones', 'richness', 'hamlet', 'slammed', 'stephenie-meyer', 'bookroom', 'rocks', 'puppies', 'inspirational-ship-storms', 'brokenness', 'touching', 'let-go', 'positive-thinking', 'potential', 'metaphor', 'liberty', 'souls', 'live-death-love', 'tris', 'apocalypse', 'car', 'meaningful-life', 'rights', 'humbert-humbert', 'hidden', 'clothing', 'recollection', 'secrets', 'inspirational-human-spirit', 'james-bond', 'dictionary', 'tmi', 'trouble', 'misattributed-to-mother-teresa', 'inspire', 'visions', 'renewal', 'harry', 'yearning', 'adrian-ivashkov', 'fudge', 'heart', 'identity', 'high-school', 'wings', 'home', 'zarek', 'choices', 'the-hunger-games', 'voter', 'hopelessness', 'films', 'flying-spirit', 'mortality', 'mockingjay', 'inej-ghafa', 'city-of-ashes', 'commercial', 'americans', 'john-green', 'nationalism', 'pox', 'writer', 'foer', 'inner-life', 'step-out-of-your-comfort-zone', 'sleep', 'longing', 'common-experience', 'true', 'amazing-writing', 'sadness', 'haunt', 'albert', 'wring', 'owen', 'love-friendship', 'misattributed-william-g-t-shedd', 'christmas', 'nonconformity', 'unity', 'inspirational-quote', 'advocacy', 'reggae', 'dursley', 'clockwork-prince', 'kiss', 'fitting-in', 'wonder', 'optimism', 'illusions', 'drinking', 'ruby-anger', 'the-selection', 'opposition', 'god-religion-house', 'safe', 'the-way', 'william-herondale', 'what-matters', 'gift', 'rich-heart', 'grammar', 'nature', 'endings', 'agnosticism', 'reflect', 'dauntless', 'concealment', 'greatness', 'shine', 'philosophy-of-life', 'loyalty', 'wither', 'quitting', 'tedious', 'rationality', 'acceptance', 'abilities', 'misattributed-george-santayana', 'misattributed-eleanor-roosevelt', 'shelter', 'edison', 'inspirational-quotes', 'social', 'aspirations', 'breakup', 'self-improvement', 'or-the-bower', 'life-philosophy', 'sonnet', 'cheese', 'rythmic', 'sin', 'sweetness', 'sacrifice', 'impact', 'inequality', 'dare-to-be', 'writers', 'little-women', 'self-control', 'criticism', 'rationalism', 'fred', 'wayfinding', 'good-reads', 'kensington-gardens', 'worry', 'gonzo', 'flowers', 'lack-of-friendship', 'forgiveness', 'reassurance', 'history', 'fearlessness', 'clockwork-angel', 'work', 'self-discovery', 'self-sufficiency', 'taste', 'veronica-roth', 'lover', 'pleasure', 'tomorrow', 'ecstasy', 'risk', 'perception', 'qotd', 'piglet', 'awesome-quote', 'calling', 'acorns', 'give', 'depression-silence', 'amnesia', 'truth', 'writer-s-life', 'success', 'antolini', 'move-on', 'sci-fi', 'poet', 'intoxication', 'animals', 'swear', 'misattributed-john-wayne', 'deceit', 'ticking', 'commerce', 'louisa-may-alcott', 'teenager', 'poetry', 'apathy', 'absence', 'prejudice', 'talking', 'franz-kafka', 'quest', 'fears', 'barriers', 'humility', 'fearless', 'acts-of-kindness', 'denial', 'a-court-of-mist-and-fury', 'lateral-thinking', 'oppression', 'sirius', 'morality', 'herondale', 'singer', 'mormont', 'broccoli', 'share', 'knowledge', 'crime', 'essay', 'dystopia', 'fresh-starts', 'purpose', 'everything', 'nerdfighters', 'sirius-black', 'destiny', 'change', 'scars', 'wilderness', 'toilet', 'longings', 'consolation', 'christopher-paolini', 'e-l-james', 'man-s', 'just-litsen', 'die', 'self-assessment', 'power-of-music', 'ideals', 'catherine', 'f-scott-fitzgerald', 'human-nature', 'inspirational-attitude', 'god', 'think', 'frost', 'money', 'amsterdam', 'invention', 'vegetarianism', 'demographics', 'connection', 'troublemakers', 'depression', 'completion', 'solitude', 'hitchhiker-s-guide', 'life-dreams', 'molly-weasley', 'divorce', 'deception', 'adaptation', 'desire', 'contrast', 'mountains', 'gender-roles', 'inner-beauty', 'holden', 'atrocities', 'desires', 'akeelah', 'musical', 'claire-fraser', 'grown-ups', 'redemption', 'simon', '2012', 'ponyboy-curtis', 'start-over', 'athena', 'creativity', 'comfort', 'top-8', 'sense-of-self', 'lemons', 'thanksgiving', 'george-weasley', 'magnificent', 'mistakes', 'crooked-kingdom', 'youth', 'anne', 'sonnet-xvii', 'design', 'zen', 'opinions', 'sense-of-wonder', 'scared', 'automobile', 'being-human', 'intent', 'sufi', 'plays', 'troubles', 'woods', 'wise', 'reflection', 'shadowhunters', 'lack-of-love', 'dog', 'learn', 'anarchy', 'barrie', 'ataraxy', 'sisters', 'hunger', 'einstein', 'living', 'mummies', 'positive-life', 'sausage', 'patrick-rothfuss', 'babies', 'family-ties', 'laziness', 'rena-silverman', 'eccentricity', 'writing-from-the-heart', 'stereotypes', 'life-quotes', 'double-standards', 'changes', 'misattributed-oscar-wilde', 'teachers', 'fantasy-books', 'ian', 'tea', 'augustus-waters', 'pretty', 'obedience', 'actions', 'molly-weasley-anger', 'chapter-24', 'stephen-chbosky', 'chinese', 'role-models', 'misattributed-to-abraham-lincoln', 'birth', 'lupin', 'respect', 'virtue', 'inspiration', 'smiles', 'remembrance', 'age-adult', 'ideas', 'sunset', 'six-of-crows', 'investigation', 'atoms', 'hazel-grace', 'dare', 'ghosts', 'timidity', 'greek', 'profound', 'panic', 'nerdfighter', 'blackjack', 'novelist-quotes', 'escape', 'robert-foster', 'confession', 'pacifism', 'poseidon', 'david', 'stories', 'profanity', 'jordan-baker', 'thought-provoking', 'charlie', 'misattributed-to-joseph-addison', 'lord-henry-wotton', 'introspection', 'theresa-gray', 'saint-sinner', 'october', 'sphinx-without-a-secret', 'buddism', 'charity', 'humor-sarcasm', 'winter', 'dead', 'wife', 'the-last-song', 'sex-appeal', 'questions', 'chaos', 'ferocity', 'bibliophiles', 'misattributed', 'truth-telling', 'dating', 'blessed', 'self-determination', 'gender', 'enemies', 'william-gladstone', 'simon-lewis', 'government', 'broken-glass', 'abe-mazur', 'wealth', 'jail', 'democracy', 'purity', 'revenge', 'shampoo', 'sorrow', 'losing', 'beatles', 'governments', 'impossible', 'misattributed-a-a-milne', 'write', 'misattributed-ben-franklin', 'puck', 'touchstones', 'helping-others', 'feyre', 'teenage-love', 'roses', 'growth', 'bella', 'direction', 'coma', 'romeo-and-juliet', 'knowledge-power', 'characters', 'hush-hush', 'plant', 'failures', 'ignite-me', 'lonely', 'birds', 'judge', 'glittering-eyes', 're-reading', 'zeus', 'misattributed-goethe', 'habits', 'box', 'magic', 'melancholy', 'barbarity', 'life-pattern', 'irony', 'hate', 'nothing', 'bad-day', 'grandparents', 'dark', 'paraphrasing-g-k-chesterton', 'letters', 'experience', 'dramatist-quotes', 'ethics', 'foreshadowing', 'moving-forward', 'opening-lines', 'enjoy-life', 'the-book-thief', 'true-family', 'the-choice', 'those-who-matter', 'stoicism', 'semantics', 'growing-up', 'out-of-control', 'loner', 'amorality', 'morganvillevampires', 'live', 'imagery', 'no-fear', 'fate', 'lost-innocence', 'real-love', 'originality', 'misattributed-albert-camus', 'better-life-empathy', 'watch', 'snow', 'rebels', 'free-will', 'lost-love', 'what-men-really-want', 'difficult', 'libraries', 'labels', 'grieving', 'jace-lightwood', 'beatitudes', 'submission', 'misfits', 'force', 'self-containment', 'forgiving', 'pleasures', 'inkheart', 'show-don-t-tell', 'waiting', 'four', 'novelist', 'olympians', 'jem-carstairs', 'remaining-silent', 'blues', 'seasons', 'isolation', 'goals', 'seeing', 'literacy', 'struggle', 'judging-from-experience', 'percy-jackson', 'science-of-mind', 'diplomacy', 'right', 'common-sense', 'tessa-gray', 'hurt', 'imperfection', 'defenses', 'book-the-count-of-monte-cristo', 'prince-charming', 'facts', 'rebirth', 'the-beatrice-letters', 'city-of-lost-souls', 'options', 'meaningful', 'life-lessons', 'road', 'questioning', 'goal', 'the-new-life', 'confidence', 'misattributed-to-emerson', 'beatrice', 'risk-taking', 'inspiring', 'spirituality', 'misattributed-to-bill-gates', 'adulthood', 'trials-of-life', 'how-much', 'wish', 'possibility', 'kill', 'rumi', 'compassion', 'vlog', 'presidential', 'name-of-the-wind', 'blog', 'human-condition', 'hush', 'paranormal-romance', 'haymitch', 'afternoon', 'politics', 'disease', 'humor-heaven', 'strong', 'consistency', 'esist', 'principle', 'house', 'friends', 'dangerous', 'happiness', 'refuge', 'parties', 'sparks', 'boggs', 'the-lightning-thief', 'ya', 'macbeth', 'scout', 'eragon', 'falling', 'soon', 'sad', 'mercy', 'rue', 'self-denial', 'sharing-secrets', 'lock-and-key', 'coffee', 'believe', 'growing', 'misattributed-grace-hopper', 'imperfections', 'nephlim', 'remember', 'knowing', 'destruction', 'elections', 'moonshine', 'confused', 'arrow', 'death-of-a-loved-one', 'grow', 'famous', 'parks', 'inej', 'poets', 'brain', 'stop', 'neverland', 'infinity', 'misanthropy', 'strength-and-courage', 'recognition', 'conscience', 'ghost', 'dandy', 'live-well', 'comfort-zone', 'reach-out', 'humor-reading', 'grudges', 'talent', 'frank', 'appearance', 'dragons', 'lecture', 'life-humor', 'misattributed-jace', 'organized-religion', 'how-many', 'misattributed-cassandra-clare', 'fallen-anger', 'slaughterhouse-five', 'jim', 'forgive', 'strength', 'stake', 'proverb', 'nagasawa', 'spring', 'belief', 'heartwarming', 'elizabeth-gilbert', '2008', 'carroll', 'save', 'close', 'forgetting', 'problems', 'misattributed-to-kant', 'despair', 'bilbo', 'failure', 'grief', 'nightmares', 'new-england-wisdom', 'foolproof', 'the-great-gatsby', 'paraphrase-of-lewis-carroll', 'athe-plague-of-dives', 'excuse', 'dark-side', 'healing', 'right-of-passage', 'adoration', 'attention', 'clary', 'umbridge', 'missed-chances', 'misattributed-to-rosa-parks', 'earth', 'seuss', 'deep-thoughts', 'kissing', 'drive-out', 'devotion', 'be-yourself', 'expectation', 'prank', 'kvothe', 'fire', 'novelty', 'self-confidence', 'navigation', 'morals', 'annabeth-chase', 'imposters', 'parents', 'bella-swan', 'your-way', 'fifty-shades-of-grey', 'civil-rights', 'vorkosigan', 'hindsight', 'roots', 'those-who-love-us', 'beliefs', 'genius', 'believe-in-yourself', 'body-soul', 'convictions', 'madness', 'death-peace', 'dave-matthews', 'jesper', 'misattributed-to-hutchins', 'evidence', 'unbreakable-vow', 'tolstoy', 'being-loved', 'cracks', 'human-connections', 'shock', 'attraction', 'soul-searching', 'classics', 'agama', 'luck', 'science', 'speaking', 'realization', 'philosophers-stone', 'detection', 'advertising', 'oaths', 'poem', 'vampire', 'silliness', 'anne-rice', 'myself', 'humor', 'lying', 'make-believe', 'toltec-wisdom', 'thought', 'start-up', 'dance', 'salinger', 'inconvenient', 'lesson-on-living', 'jace-wayland', 'goals-in-life', 'vulnerability', 'discipline', 'awe', 'forcasting', 'christina', 'becca-fitzpatrick', 'mutuality', 'teach', 'teen-fantasy', 'hunger-games', 'best-friends', 'rewriting-history', 'jealousy', 'pets', 'park', 'hodge', 'goodness', 'wishing', 'death', 'ignorance', 'new-beginnings', 'worst', 'education-knowledge', 'initiative', 'weirdness', 'reciprocity', 'reality-check', 'on-fiction', 'gratitude', 'self-deception', 'albus-potter', 'self-sacrifice', 'challenge', 'incrementalism', 'skepticism', 'single', 'miracles', 'gandalf', 'sweet', 'injustice', 'inspirational', 'paraphrased', 'miles-halter', 'qoutes-on-writing', 'tina-fey', 'defiance', 'worth', 'feeling', 'depressing', 'goodwill', 'alice-s-adventures-in-wonderland', 'aspiration', 'try', 'historical-fiction', 'music', 'idiocy', 'justice', 'records', 'unbreakable', 'living-in-the-present', 'katharine-hepburn', 'memories', 'self-empowerment', 'warriors', 'self-loathing', 'meaning-of-life', 'francois-rabelais', 'reality-bothered', 'amor-deliria-nervosa', 'letting-go', 'chapter-xxiii', 'thumb', 'reputation', 'unhappy-marriage', 'westerfeld', 'trying', 'paradox', 'volunteerism', 'crazy', 'flewn', 'funny', 'college', 'character', 'news', 'ruby', 'intellect', 'color', 'indifference', 'british', 'aesthetics', 'answers', 'thinking', 'orhan-pamuk', 'spiritual', 'christians', 'an-abundance-of-katherines', 'wanda', 'bossypants', 'boys', 'telekinetics', 'allegory', 'witches', 'you-are-what-you-read', 'uglies', 'dimitri', 'others', 'the-perks-of-being-a-wallflower', 'importance', 'hippy', 'joke', 'misattributed-to-mark-twain', 'uplifting', 'things', 'shouldn-t', 'weight', 'we-are-what-we-read', 'gold', 'twilight-saga', 'plans', 'status-quo', 'aloneness', 'stubbornness', 'silence', 'journey', 'fuck', 'devil', 'metaphysics', 'survival', 'beyonce', 'mirror', 'doubt', 'sinister', 'sebastian', 'bob-marley', 'martyrdom', 'sarah-j-maas', 'shrugged', 'autumn', 'catatonia', 'jared', 'learning', 'teenagers', 'self-reliance', 'wine', 'living-now', 'heartbreaking', 'uncle-jeb', 'cassandra-clare', 'drunk', 'witch', 'caring', 'unique', 'mothers', 'responsibility', 'snape', 'creative', 'heartfelt', 'valentine', 'self-knowledge', 'samwise', 'unhappiness', 'coldness', 'the-notebook', 'misattributed-stephen-hawking', 'alaska-young', 'dreamer', 'past', 'childhood', 'control', 'unfairness', 'misattributed-gloria-steinem', 'freedom', 'valour', 'apollo', 'obsession', 'love', 'aristotle', 'star', 'smart', 'incredibly', 'courtroom-drama', 'neurosis', 'beginnings', 'confidences', 'intimidation', 'rewind', 'apothegm', 'night', 'inner-voice', 'anything-can-be', 'paulo-coelho', 'nico', 'peace', 'trees', 'marilyn-monroe', 'missing', 'litany-against-fear', 'maia', 'flexibility', 'pretend', 'empowerment', 'excuses', 'mythological', 'dissatisfaction', 'trust', 'library', 'mouth', 'light', 'santiago', 'ebay', 'melanie', 'my-way', 'favourite-books', 'romance', 'judgement', 'wisher', 'city-of-fallen-angels', 'seduction', 'distractions', 'choose', 'anais-nin', 'pedophile', 'corruption', 'gamgee', 'name', 'finding-your-voice', 'meyer', 'ginny-weasley', 'truth-lies', 'fashion', 'misattributed-to-gandhi', 'loss', 'revolution', 'van-helsing', 'young-adult-fiction', 'censorship', 'fight', 'affection', 'ingenuity', 'harry-potter', 'buddhism', 'company', 'windows', 'belonging', 'this-lullaby', 'giving', 'will-herondale', 'universe', 'conversations', 'bereavement', 'alive', 'lewis', 'behind', 'self-irony', 'misattributed-steve-jobs', 'everyday-life', 'thing', 'lust', 'guys', 'winds', 'seperate', 'privilege', 'regret', 'difficulty', 'freethinker', 'pause', 'jesus', 'pooh-bear', 'young-adult-novels', 'annie-clark-tanner-lecture', 'bibliophilia', 'inner-strength', 'gossip', 'reading-books', 'sympathy', 'jonathan', 'thorns', 'magnus-bane', 'self-trust', 'teacher', 'tired', 'writing-advice', 'reality', 'misprints', 'dreams', 'temptation', 'grisha', 'present', 'elizabethan', 'finale-of-middlemarch', 'together', 'authentic-self', 'conflict', 'abraham-lincoln', 'running', 'dreamers', 'misattributed-audrey-hepburn', 'odair', 'fair', 'explore', 'addiction', 'last-words', 'quotes', 'musn-t', 'chance', 'dna', 'proactivity', 'trauma', 'punishment', 'bad', 'tobias', 'misattributed-betty-white', 'possibilities', 'dear-john', 'transcendentalism', 'elite', 'question', 'call-me-by-your-name', 'heartbreak', 'towns', 'self-assurance', 'misattributed-bill-cosby', 'plants', 'america', 'defiant', 'diary', 'suffering', 'spirit', 'simplicity', 'read', 'intellectuals', 'triumph', 'conviction', 'soul', 'eat-pray-love', 'communication', 'clock', 'personal-responsibility', 'chemistry', 'cynicism', 'north-carolina', 'divergent', 'realism', 'peeta-mellark', 'makeup', 'boredom', 'antoine-de-saint-exupery', 'bible', 'oprah-s-thank-you-game', 'crisis', 'real-life', 'pooh', 'honesty', 'alyson', 'winnie-the-pooh', 'recovery', 'anxiety', 'security', 'adventure', 'values', 'obvious', 'heroes', 'girl', 'jokes', 'god-religion-happiness', 'advice-for-writers', 'ordinary', 'suli-poverb', 'beauty', 'decisions', 'not-alone', 'bridge', 'maturity', 'sensation', 'misattributed-to-albert-camus', 'albus-dumbledore', 'shore', 'novel', 'fantasy', 'value', 'society', 'paraphrase-of-congreve', 'afraid', 'self-responsibility', 'misery', 'planning', 'joy', 'autonomy', 'rachel-elizabeth-dare', 'inevitable', 'ambiguity', 'spiritual-growth', 'flight', 'being-yourself', 'misquote', 'make-a-difference', 'sex', 'will-s-letter-to-tessa', 'independence', 'stupidity', 'language', 'simon_bolivar-s_labyrinth', 'limit', 'openness', 'rosemarie-hathaway', 'law', 'food', 'care', 'simple', 'finnick', 'inspirational-stories', 'separation', 'explain', 'semicolons', 'limits', 'ardor', '1970', 'right-way', 'all-the-bright-places', 'spinning', 'trials', 'darkness', 'dirt', 'independent-thought', 'elitism', 'rebellion', 'self-image', 'manners', 'sky', 'improvement', 'arts-and-humanities', 'insincerity', 'biscuit', 'scholars', 'quip', 'dissent', 'skeptic', 'being-positive', 'magic-books', 'albert-einstein', 'minister', 'connecting', 'laughter', 'misattributed-to-c-s-lewis', 'breakfast', 'activism', 'benediction', 'Ø\\xadØ¨', 'taylor-swift', 'service', 'charming', 'dark-humor', 'relationship', 'nietzsche', 'dizziness', 'jamie', 'whiskey', 'friends-betrayal', 'hell', 'seed', 'literature', 'invincible', 'life-purpose', 'never-give-up', 'dreaming', 'expectations', 'superiority', 'steppenwolf', 'goodbyes', 'immature', 'philosphy', 'memory', 'ponder', 'satirical', 'drama', 'johnny-cade', 'atticus-finch', 'alec', 'greedy', 'speech', 'women-s-rights', 'reticence', 'inner-peace', 'bene-gesserit', 'wander', 'looking-for-alaska', 'prose', 'brave-new-world', 'timelessness', 'sentimentality', 'defend', 'self-expression', 'mindfulness', 'disappointment', 'self-deprecation', 'wayland', 'violence', 'leadership', 'wishes', 'inspirational-faith', 'great-minds', 'ego', 'most-famous-novella', 'stele', 'waste', 'yourself', 'suicide', 'pedophilia', 'mystery', 'promise', 'dying', 'lies', 'ferret', 'misattributed-einstein', 'wounds', 'theology', 'brave', 'flattery', 'leader', 'storms', 'achievement', 'tintern-abbey', 'ethos', 'walking', '1-corinthians-13', 'television', 'misattributed-john-lennon', 'innocence', 'sanity', 'johngreen', 'inevitability', 'patience', 'pig', 'good-day', 'shame', 'reality-of-life', 'paradise', 'haunting', 'golda', 'grudge', 'flaws', 'be-yourself-inspirational', 'honor', 'moon', 'dream', 'lincoln', 'assurance', 'self-realization', 'good', 'clichÃ©s', 'gullibility', 'beautiful', 'infidelity', 'throne-of-glass', 'misattributed-marilyn-monroe', 'tears', 'amelia-peabody', 'the-fault-in-our-stars', 'appreciate', 'final', 'health', 'painting', 'ocean', 'accept-yourself', 'step-out-of-comfort-zone', 'atheism', 'war', 'humor-cats-allergies', 'integrity', 'leigh-bardugo', 'elitist', 'sail', 'courage', 'misattributed-to-a-a-milne', 'light-and-darkness', 'goodbye', 'dancing', 'singles', 'awesomeness', 'sins', 'good-evil', 'heartache', 'adults', 'enterprise', 'fun', 'inventing-humor', 'hope', 'mead', 'katniss', 'dogs', 'writing', 'forever', 'broad-mindedness', 'valentine-morgenstern', 'why', 'martyr', 'experience-mistakes-wisdom', 'abe'}\n"
     ]
    }
   ],
   "source": [
    "# Iterting though the pandas Series object and adding each value in a Set\n",
    "# The benefit of the set is that only the unique values will be added, therefore all duplicates will be removed\n",
    "unique_tags = set()\n",
    "\n",
    "# row_tags is the list of tags in each row\n",
    "# we can see that sometimes a single row has multiple tags, therefore, we will nest another for loop inside which reads individual tags\n",
    "for row_tags in tags:\n",
    "    for tag in row_tags:\n",
    "        unique_tags.add(tag)\n",
    "\n",
    "print(unique_tags)"
   ]
  },
  {
   "cell_type": "code",
   "execution_count": 15,
   "metadata": {},
   "outputs": [
    {
     "data": {
      "text/plain": [
       "2161"
      ]
     },
     "execution_count": 15,
     "metadata": {},
     "output_type": "execute_result"
    }
   ],
   "source": [
    "len(unique_tags)"
   ]
  },
  {
   "cell_type": "markdown",
   "metadata": {},
   "source": [
    "There are a total of 2,161 tags. This is too many if we want this to be our target variable."
   ]
  },
  {
   "cell_type": "code",
   "execution_count": 16,
   "metadata": {},
   "outputs": [
    {
     "name": "stdout",
     "output_type": "stream",
     "text": [
      "{'be-yourself': 16, 'gilbert-perreira': 1, 'honesty': 12, 'inspirational': 319, 'misattributed-oscar-wilde': 2, 'quote-investigator': 1, 'best': 1, 'life': 295, 'love': 327, 'mistakes': 10, 'out-of-control': 1, 'truth': 61, 'worst': 1, 'human-nature': 9, 'humor': 254, 'infinity': 4, 'philosophy': 60, 'science': 26, 'stupidity': 7, 'universe': 6, 'books': 141, 'simile': 8, 'soul': 12, 'ataraxy': 4, 'confidence': 11, 'fitting-in': 1, 'individuality': 21, 'misattributed-dr-seuss': 1, 'those-who-matter': 1, 'dance': 5, 'heaven': 2, 'hurt': 8, 'sing': 2, 'dreams': 31, 'reality': 17, 'sleep': 7, 'action': 7, 'change': 34, 'wish': 2, 'character': 11, 'sirius-black': 2, 'friends': 28, 'friendship': 63, 'misattributed-albert-camus': 1, 'lies': 12, 'lying': 6, 'memory': 9, 'friend': 3, 'knowledge': 17, 'enemies': 4, 'forgiveness': 10, 'strategy': 3, 'carpe-diem': 7, 'education': 22, 'learning': 15, 'darkness': 7, 'drive-out': 1, 'hate': 10, 'light': 11, 'peace': 14, 'music': 31, 'intelligence': 12, 'self-deprecation': 1, 'accomplishment': 1, 'conformity': 3, 'advertising': 1, 'apple': 1, 'commercial': 1, 'computers': 1, 'different': 1, 'madness': 5, 'misattributed-apple': 1, 'misattributed-steve-jobs': 1, 'misfits': 1, 'nonconformity': 1, 'progressive': 1, 'rebels': 1, 'status-quo': 1, 'think-different': 1, 'troublemakers': 1, 'insanity': 8, 'misattributed-ben-franklin': 2, 'misattributed-mark-twain': 7, 'misattributed-to-einstein': 5, 'misattributed-marilyn-monroe': 1, 'actions': 3, 'disappointed': 1, 'disappointment': 9, 'dream': 7, 'explore': 1, 'sail': 1, 'frost': 1, 'glitter': 1, 'gold': 2, 'lost': 2, 'poetry': 45, 'roots': 2, 'strength': 28, 'strong': 1, 'wander': 2, 'wither': 1, 'abilities': 2, 'choices': 6, 'aliteracy': 2, 'classic': 4, 'live': 7, 'miracle': 1, 'miracles': 2, 'contentment': 4, 'optimism': 48, 'perception': 7, 'pessimism': 1, 'dragons': 3, 'fairy-tales': 6, 'paraphrasing-g-k-chesterton': 1, 'misattributed-to-abraham-lincoln': 1, 'misattributed-to-mark-twain': 1, 'remaining-silent': 2, 'wisdom': 62, 'majority': 1, 'minority': 1, 'pause': 1, 'reflect': 1, 'fate': 8, 'misattributed-john-lennon': 2, 'planning': 1, 'plans': 1, 'hope': 46, 'misattributed-eleanor-roosevelt': 7, 'past': 10, 'present': 4, 'widely-misattributed': 4, 'edison': 1, 'failure': 14, 'paraphrased': 10, 'lack-of-friendship': 1, 'lack-of-love': 1, 'marriage': 15, 'unhappy-marriage': 1, 'activism': 7, 'apathy': 2, 'indifference': 1, 'opposite': 1, 'literacy': 3, 'belief': 11, 'integrity': 9, 'misattributed-to-malcolm-x': 1, 'misattributed-to-rosa-parks': 1, 'navigation': 1, 'mischief': 2, 'animals': 9, 'dogs': 5, '1929': 1, 'imagination': 16, 'viereck-interview': 1, 'do-wrong': 1, 'trust': 18, 'wrong': 1, 'fantasy': 10, 'obvious': 1, 'read': 2, 'readers': 1, 'reading': 86, 'reading-books': 1, 'procrastination': 2, 'goodness': 9, 'happiness': 68, 'kindness': 19, 'misattributed-to-mother-teresa': 4, 'world': 14, 'courage': 37, 'deeply-loved': 1, 'source-unknown': 1, 'albus-dumbledore': 2, 'heartbreak': 12, 'sisters': 2, 'deadlines': 2, 'humour': 21, 'work': 10, 'writing': 67, 'simplicity': 2, 'understand': 1, '1970': 1, 'stories': 11, 'essential': 1, 'religion': 32, 'thought': 3, 'library': 5, 'art': 22, 'cats': 5, 'women': 40, 'katniss': 8, 'peeta': 6, 'suzanne-collins': 3, 'the-hunger-games': 5, 'tea': 3, 'misattributed-to-c-s-lewis': 2, 'power-of-words': 9, 'chocolate': 4, 'food': 8, 'dumbledore': 15, 'yourself': 2, 'comedy': 4, 'death': 47, 'harry': 1, 'philosophers-stone': 1, 'ron': 1, 'sorcerers-stone': 1, 'fear': 31, 'children': 12, 'city-of-bones': 9, 'jace': 18, 'doomed': 1, 'inevitable': 1, 'oblivion': 1, 'pleasure': 3, 'simple': 1, 'exercise': 2, 'laziness': 1, 'misattributed-to-hutchins': 1, 'beauty': 26, 'satisfaction': 1, 'self-determination': 20, 'seuss': 2, 'novelist-quotes': 1, 'television': 2, 'scifi': 2, 'bravery': 13, 'success': 24, 'anything-can-be': 1, 'impossible': 2, 'musn-t': 1, 'possibilities': 3, 'shouldn-t': 1, 'won-t': 1, 'misattributed-a-a-milne': 2, 'charlie': 1, 'favourite-books': 1, 'sad': 8, 'soul-searching': 1, 'wallflower': 2, 'nerdfighters': 3, 'imperfect': 1, 'authors': 3, 'literature': 15, 'girls': 6, 'weirdness': 1, 'body-soul': 1, 'john-green': 9, 'tfios': 6, 'the-fault-in-our-stars': 9, 'attributed': 3, 'inspiration': 87, 'open-mind': 2, 'thinking': 9, 'bilbo': 1, 'journey': 3, 'quest': 1, 'travel': 14, 'time': 25, 'calvin-and-hobbes': 4, 'mortal-instruments': 13, 'romance': 45, 'teen-fantasy': 3, 'judge': 2, 'perfection': 4, 'piglet': 2, 'pooh': 2, 'reassurance': 1, 'compassion': 13, 'suffering': 13, 'drug': 1, 'live-death-love': 1, 'self-indulgence': 1, 'theology': 1, 'adventuring': 1, 'desire': 6, 'emotion': 5, 'passion': 6, 'relationships': 33, 'wise-words': 1, 'snape': 3, 'good': 4, 'misattributed-to-emerson': 1, 'beatles': 9, 'connection': 2, 'dreamers': 4, 'dreaming': 7, 'dying': 3, 'facts': 2, 'fame': 4, 'knowing': 2, 'poverty': 2, 'school': 4, 'teach': 1, 'wealth': 3, 'mankind': 5, 'people': 14, 'sinister': 1, 'regrets': 1, 'morality': 7, 'humans': 2, 'pain': 34, 'scars': 6, 'better-life-empathy': 1, 'romantic': 5, 'adventure': 9, 'akeelah': 1, 'age': 9, 'fairytales': 2, 'growing-up': 7, 'attitude': 6, 'choice': 3, 'pretend': 2, 'alice': 1, 'philosophy-of-life': 2, 'psychological': 1, 'yesterday': 1, 'magic': 11, 'difficult': 1, 'grown-ups': 1, 'write': 2, 'writers': 4, 'limits': 2, 'inspirational-quotes': 65, 'strength-and-courage': 1, 'mind': 10, 'christianity': 6, 'faith': 22, 'sun': 3, 'memories': 6, 'misattributed-to-bill-gates': 1, 'nerd': 1, 'nerds': 1, 'paraphrase-of-congreve': 1, 'introspection': 3, 'self-discovery': 7, 'scar': 1, 'sweetness': 1, 'rebellion': 2, 'sarcasm': 12, 'philosphy': 1, 'greatness': 5, '1993': 1, 'advice': 4, 'complaining': 1, 'invincible': 1, 'teenagers': 1, 'teens': 1, 'sanity': 3, 'augustus-waters': 2, 'hazel': 1, 'privilege': 1, 'jace-wayland': 29, 'simon-lewis': 5, 'empathy': 6, 'dear-john': 2, 'nicholas-sparks': 8, 'fashion': 4, 'hermione': 1, 'health': 2, 'misprints': 1, 'misattributed-to-marilyn-monroe': 2, 'teachers': 2, 'the-notebook': 4, 'conflict': 2, 'fighting': 7, 'revenge': 2, 'trial': 4, 'violence': 1, 'johngreen': 1, 'lookingforalaska': 1, 'respect': 7, 'anger': 6, 'freedom': 28, 'misattributed-gloria-steinem': 2, 'misanthropy': 1, 'creativity': 5, 'empowerment': 17, 'flaws': 2, 'gender': 4, 'identity': 13, 'image': 1, 'independence': 12, 'realism': 1, 'self-awareness': 5, 'clary': 6, 'clothes': 1, 'wounds': 2, 'children-s-books': 1, 'commerce': 1, 'conscience': 3, 'humanity': 18, 'misattributed-to-gandhi': 2, 'money': 4, 'politics': 11, 'principle': 1, 'sacrifice': 5, 'sin': 4, 'sins': 1, 'worship': 1, 'meaning-of-life': 4, 'santiago': 1, 'clary-fray': 23, 'demons': 2, 'luke': 1, 'teenager': 1, 'bene-gesserit': 1, 'litany-against-fear': 1, 'motivational': 27, 'proverb': 1, 'human': 5, 'value': 5, 'worth': 2, 'nico': 1, 'tolstoy': 1, 'god': 28, 'dauntless': 1, 'divergent': 4, 'fearless': 4, 'four': 2, 'tris': 2, 'believe': 6, 'glittering-eyes': 1, 'hidden': 1, 'secrets': 5, 'unlikely-places': 1, 'watch': 1, 'book': 3, 'family': 15, 'parties': 1, 'social': 1, 'despair': 2, 'evil': 7, 'sadness': 22, 'victory': 2, 'alone': 3, 'coldness': 1, 'depression': 13, 'sorrow': 4, 'paraphrase-of-lewis-carroll': 1, 'loneliness': 27, 'loner': 1, 'solitude': 11, 'breaking-up': 1, 'lost-love': 2, 'mr-darcy': 1, 'culture': 1, 'achievement': 3, 'falling-apart': 1, 'giving-in': 1, 'bible': 3, 'misattributed-bill-cosby': 1, 'freethinker': 1, 'mad': 1, 'misattributed-john-wayne': 1, 'misattributed-douglas-adams': 1, 'wit': 5, 'paper-towns': 1, 'ordinary': 1, 'vlog': 1, 'opinions': 4, 'timelessness': 1, 'unity': 2, 'misattributed-cassandra-clare': 1, 'misattributed-jace': 1, 'weakness': 2, 'smile': 10, 'smiling': 2, 'encouragement': 5, 'gandalf': 2, 'bella-swan': 1, 'edward': 5, 'night': 6, 'stars': 8, 'magnus-bane': 8, 'boys': 2, 'biscuit': 1, 'harry-potter': 16, 'james-potter': 1, 'remus-lupin': 1, 'wormtail': 1, 'the-perks-of-being-a-wallflower': 3, 'judgement': 3, 'shampoo': 1, 'charity': 2, 'misattributed-audrey-hepburn': 1, 'seasons': 3, 'triumph': 1, 'bookroom': 1, 'libraries': 6, 'pride': 4, 'cassandra-clare': 4, 'city-of-glass': 6, 'grief': 17, 'loss': 16, 'revelation': 2, 'fact': 2, 'ignorance': 8, 'telekinetics': 1, 'jail': 1, 'ebay': 1, 'myth': 2, 'ambiguity': 2, 'uncertainty': 1, 'unpredictability': 1, 'friends-betrayal': 1, 'genius': 2, 'fiction': 3, 'humor-wicked-reading': 1, 'sphinx-without-a-secret': 1, 'self-deception': 3, 'man': 7, 'breakup': 1, 'infidelity': 2, 'life-lessons': 40, 'anais-nin': 3, 'qoutes-on-writing': 1, 'everyday-life': 1, 'funny': 34, 'observational-comedy': 1, 'humor-heaven': 1, 'song': 3, 'men': 20, 'boggs': 1, 'finnick': 3, 'hunger-games': 7, 'mockingjay': 4, 'odair': 1, 'witty': 1, 'chemistry': 1, 'meaning': 4, 'ideas': 2, 'sarah-j-maas': 1, 'throne-of-glass': 2, 'feminism': 12, 'oprah-s-thank-you-game': 1, 'adversity': 6, 'problems': 3, 'trials': 1, 'fred-weasley': 3, 'george-weasley': 3, 'ron-weasley': 5, 'logic': 2, 'automobile': 1, 'car': 1, 'religious': 2, 'pixie-dust': 1, 'inspirational-love': 3, 'qotd': 3, 'heart': 18, 'importance': 2, 'secret': 2, 'the-little-prince': 2, 'giving': 5, 'life-and-living': 36, 'positive-affirmation': 41, 'winnie': 1, 'self-responsibility': 2, 'timidity': 1, 'silence': 8, 'zen': 2, 'authenticity': 3, 'self': 6, 'heartache': 3, 'beginnings': 1, 'fresh-start': 1, 'mistake': 1, 'new-day': 1, 'start-over': 1, 'tomorrow': 1, 'ache': 1, 'bella': 3, 'dancing': 2, 'chapter-24': 1, 'will-herondale': 11, 'existence': 4, 'rue': 1, 'a-court-of-mist-and-fury': 3, 'acomaf': 2, 'feyre': 2, 'rhysand': 2, 'atheism': 10, 'fear-unknown': 1, 'unrequited-love': 3, 'books-vacation': 1, 'eating-reading': 1, 'expectations': 4, 'fairies': 1, 'mythology': 4, 'nightmares': 1, 'humor-reading': 2, 'misattributed-to-a-a-milne': 1, 'saint-sinner': 1, 'humorous': 3, 'dave-matthews': 1, 'requirements': 1, 'feathers': 1, 'souls': 3, 'understanding': 9, 'bath': 1, 'affection': 3, 'communication': 3, 'heartwarming': 1, 'human-connections': 1, 'humanism': 2, 'inspirational-life': 34, 'day': 3, 'breath': 1, 'allegory': 1, 'broad-mindedness': 1, 'imagery': 1, 'living': 48, 'dharma': 1, 'future': 17, 'reflection': 1, 'running': 1, 'misattributed-einstein': 1, 'letters': 1, 'love-at-first-sight': 2, 'inspirational-attitude': 28, 'inspire': 38, 'inspiring': 38, 'life-quotes': 48, 'motivation': 25, 'optimistic': 40, 'positive': 40, 'positive-life': 40, 'positive-thinking': 41, 'alive': 1, 'congratulations': 1, 'attraction': 3, 'popularity': 1, 'consul': 1, 'atticus-finch': 1, 'joy': 7, 'wishing': 1, 'talent': 3, 'words': 13, 'experience-mistakes-wisdom': 1, 'growth': 9, 'ideals': 1, 'martyr': 1, 'astronomer': 1, 'writer': 1, 'inertia': 2, 'leaving': 1, 'nerdfighter': 1, 'convictions': 1, 'criticism': 1, 'inspirational-faith': 1, 'anne': 1, 'frank': 1, 'happy': 5, 'creation': 3, 'creative': 1, 'worry': 7, 'life-choices-fig-trees': 1, 'writer-s-life': 1, 'classic-insult': 3, 'funeral': 1, 'crazy': 3, 'stupid': 1, 'first-sentence': 2, 'advice-for-daily-living': 2, 'reader': 2, 'speaking': 2, 'husband': 2, 'opening-lines': 2, 'wife': 2, 'americans': 1, 'geography': 1, 'war': 15, 'presidential': 1, 'brokenness': 1, 'healing': 8, 'consistency': 1, 'determination': 3, 'essence': 1, 'ethos': 1, 'fortitude': 1, 'persistence': 6, 'resolve': 1, 'self-reliance': 5, 'virtue': 4, 'virtues': 1, 'ego': 2, 'books-reading': 3, 'elizabeth-bennet': 3, 'jane-austen': 2, 'brown': 1, 'clare': 1, 'isabelle': 2, 'home': 4, 'touching': 2, 'fire': 2, 'flame': 1, 'isolation': 2, 'laughter': 9, 'the-kite-runner': 1, '1-corinthians-13': 1, 'dignity': 3, 'judgment': 2, 'speaking-out': 2, 'einstein': 4, 'nature': 10, 'simon': 6, 'misquote': 1, 'corruption': 3, 'dark-side': 1, 'monsters': 2, 'temptation': 4, 'molly-weasley-anger': 1, 'responsibility': 3, 'dirty': 1, 'logo': 1, 'sex': 10, 'destiny': 5, 'power': 3, 'hmmm': 1, 'adulthood': 2, 'being-human': 1, 'inspirational-quote': 4, 'life-philosophy': 5, 'smiles': 2, 'puppies': 1, 'suicide': 9, 'rights': 1, 'experience': 10, 'mortality': 2, 'broccoli': 1, 'pleasures': 1, 'salinger': 1, 'poem': 5, 'feelings': 5, 'jem-carstairs': 3, 'authentic-living': 4, 'authentic-self': 2, 'distance': 2, 'sense-of-wonder': 4, '1955': 1, 'curiosity': 3, 'mystery': 2, 'physics': 2, 'justice': 5, 'mercy': 4, 'gratitude': 10, 'living-life': 6, 'mindful': 1, 'mindfulness': 2, 'just-litsen': 1, 'sarah-dessen': 2, 'animal-farm': 2, 'kiss': 6, 'kissing': 2, 'censorship': 3, 'illiteracy': 1, 'accept-yourself': 1, 'keep-moving-forward': 2, 'letting-go': 14, 'love-yourself': 1, 'expectation': 2, 'life-memories': 1, 'best-friends': 1, 'moi': 1, 'irony': 4, 'fair': 1, 'sympathy': 1, 'appreciate': 2, 'fool': 1, 'self-confidence': 4, 'self-irony': 1, 'jim': 1, 'morrison': 1, 'dictionary': 1, 'fun': 1, 'isabelle-lightwood': 4, 'chaos': 1, 'trouble': 2, 'belonging': 1, 'company': 1, 'desires': 2, 'longings': 1, 'awesomeness': 1, 'girl': 1, 'makeup': 1, 'amsterdam': 1, 'amorality': 1, 'correct-way': 1, 'my-way': 1, 'only-way': 1, 'right-way': 1, 'the-way': 1, 'your-way': 1, 'vulnerability': 1, 'god-religion-house': 1, 'science-fiction': 4, 'prayer': 3, 'christopher-paolini': 1, 'eragon': 1, 'good-reads': 1, 'hell': 8, 'perseverance': 7, 'crooked-kingdom': 2, 'inej-ghafa': 2, 'kaz-brekker': 1, 'six-of-crows': 5, 'humor-satan': 1, 'misattributed-to-groucho-marx': 1, 'advocacy': 1, 'dissent': 1, 'protest': 1, 'truth-telling': 2, 'alice-s-adventures-in-wonderland': 1, 'originality': 2, 'anti-christian': 1, 'christians': 1, 'jesus-christ': 1, 'class': 2, 'clichÃ©s': 2, 'double-standards': 3, 'hypocrisy': 4, 'misogyny': 2, 'stereotypes': 2, 'nicholas': 2, 'sparks': 2, '1997': 1, 'annie-clark-tanner-lecture': 1, 'procrastinate': 1, 'drama': 1, 'plays': 1, 'risk': 4, 'brave': 3, 'purpose': 4, 'vision': 1, 'name-of-the-wind': 1, 'patrick-rothfuss': 2, 're-reading': 1, 'busy': 1, 'call': 1, 'dating': 2, 'dating-advice': 1, 'greg-behrendt': 1, 'guys': 1, 'he-s-not-just-into-you': 1, 'true': 4, 'discworld': 1, 'humbert-humbert': 1, 'patriotism': 1, 'taste': 2, 'tyler-durden': 1, 'believe-in-yourself': 2, 'f-scott-fitzgerald': 2, 'looking-for-alaska': 4, 'grudge': 1, 'regret': 5, 'perspective': 5, 'broken-glass': 1, 'glass': 1, 'moon': 3, 'moonshine': 1, 'show-don-t-tell': 1, 'being-loved': 3, 'completion': 1, 'focus': 3, 'grow': 1, 'leader': 4, 'leaders': 3, 'leadership': 7, 'stay-focused': 1, 'step-out-of-comfort-zone': 1, 'transform': 2, 'apollo': 2, 'gods': 1, 'hot': 2, 'olympians': 4, 'percy-jackson': 11, 'thalia': 1, 'true-love': 5, 'hazel-grace': 1, 'who-you-are': 1, 'whole-being': 1, 'being-positive': 3, 'blessed': 2, 'less-more': 1, 'life-purpose': 1, 'spirituality': 9, 'stress': 1, 'stressed': 1, 'worrying': 2, 'inner-peace': 2, 'permission': 1, 'plant': 1, 'reap': 1, 'seed': 1, 'seeds': 2, 'sow': 1, 'crying': 7, 'options': 1, 'rumi': 1, 'sufi': 1, 'calvin-and-hobbes-reality': 1, 'by-anne-sullivan': 1, 'emotions': 5, 'others': 1, 'think': 2, 'beatrice': 1, 'tobias': 2, 'forgetting': 5, 'waiting': 1, 'cleverness': 1, 'misattributed': 4, 'share': 1, 'bookstore': 1, 'towns': 1, 'act': 1, 'criticize': 1, 'doing': 1, 'feeling': 1, 'listening': 3, 'ponder': 1, 'metaphor': 3, 'esist': 1, 'spinning': 1, 'stele': 1, 'beatitudes': 2, 'bob-marley': 2, 'reggae': 1, 'unsourced': 1, 'goodbye': 6, 'refuge': 1, 'ferret-malfoy': 1, 'death-peace': 1, 'laugh': 2, 'relationship': 3, 'alice-in-wonderland': 5, 'breakfast': 1, 'carroll': 2, 'leigh-bardugo': 1, 'choose': 1, 'hatred': 4, 'fudge': 1, 'minister': 1, 'style': 1, 'independent-thought': 1, 'self-expression': 3, 'deep-thoughts': 1, 'moving-on': 9, 'reminding': 1, 'clockwork-angel': 5, 'sophie-collins': 1, 'lost-innocence': 1, 'paranormal-romance': 2, 'moving-forward': 1, 'parenting': 4, 'self-assurance': 2, 'delusion': 1, 'what-is-right': 1, 'progress': 2, 'aspiration': 1, 'assurance': 1, 'clouds': 1, 'color': 1, 'conviction': 1, 'maturity': 2, 'sunset': 1, 'spiritual': 5, 'uplifting': 2, 'good-day': 1, 'how-many': 1, 'how-much': 1, 'live-well': 1, 'eyes': 1, 'lemons': 1, 'alcohol': 1, 'letting-go-of-the-past': 2, 'living-in-the-present': 2, 'living-life-to-the-fullest': 1, 'living-now': 2, 'care': 2, 'diversity': 1, 'seduction': 1, 'comfort': 5, 'albus-potter': 1, 'we-are-what-we-eat': 1, 'we-are-what-we-read': 1, 'you-are-what-you-eat': 1, 'you-are-what-you-read': 1, 'idleness': 1, 'equality': 4, 'flattery': 1, 'rationality': 2, 'reason': 7, 'social-norms': 1, 'women-s-rights': 2, 'self-image': 1, 'sense-of-self': 1, 'storytelling': 3, 'trauma': 1, 'prejudice': 1, 'vanity': 1, 'recognition': 1, 'ambition': 2, 'chapter-xxiii': 1, 'fuck': 1, 'profanity': 1, 'unhappiness': 3, 'sandman': 2, 'memoir': 1, 'values': 3, 'acceptance': 8, 'bibliophiles': 2, 'book-lovers': 3, 'dare-to-be': 1, 'seize-the-day': 1, 'dimitri': 3, 'rose': 3, 'urban-fantasy': 1, 'vampire': 5, 'young-adult-novels': 1, 'forever': 1, 'what-men-really-want': 1, 'eccentricity': 1, 'chance': 1, 'ethics': 4, '1931': 1, 'perfect': 1, 'truthful': 1, 'bad': 2, 'owen-armstrong': 1, 'bereavement': 1, 'consolation': 1, 'reincarnation': 2, 'investigation': 1, 'joke': 5, 'lovers': 2, 'flight': 3, 'flying': 5, 'hg2g': 2, 'hush': 2, 'albert-einstein': 1, 'hamlet': 1, 'cancer': 2, 'quitting': 1, 'ferret': 1, 'dandy': 1, 'lord-henry-wotton': 1, 'wilde': 1, 'inner-strength': 1, 'self-control': 1, 'humility': 2, 'self-improvement': 3, 'remembrance': 1, 'fears': 1, 'right': 2, 'amor-deliria-nervosa': 1, 'mask': 1, 'personality': 1, 'revolution': 2, 'together': 1, 'energy': 1, 'the-last-song': 1, 'how': 1, 'questioning': 1, 'questions': 2, 'why': 1, 'troubles': 1, 'prince-charming': 1, 'taylor-swift': 1, 'abe': 1, 'enemy': 2, 'lincoln': 1, 'apothegm': 1, 'talking': 1, 'cry': 4, 'final': 1, 'lupin': 1, 'parents': 5, 'sirius': 1, 'death-and-dying': 1, 'orhan-pamuk': 1, 'the-new-life': 1, 'eleven-minutes': 1, 'paulo-coelho': 1, 'catherine': 1, 'or-the-bower': 1, 'antolini': 1, 'misattributed-george-carlin': 3, 'goals': 5, 'cheese': 1, 'christina-grey': 1, 'e-l-james': 1, 'fifty-shades-of-grey': 1, 'never-give-up': 2, 'amnesia': 1, 'magic-books': 1, 'endings': 1, 'happy-endings': 1, 'thievery': 1, 'treasure': 1, 'mood-swings': 1, 'new-year': 3, 'birds': 2, 'shore': 1, 'woods': 1, 'francois-rabelais': 1, 'last-words': 3, 'ecstasy': 2, 'buddhism': 1, 'thoughts': 5, 'earth': 2, 'space': 1, 'Ø\\xadØ¨': 1, 'excuse': 1, 'improvement': 2, 'survival': 3, 'profound': 2, 'chinese': 1, 'crisis': 1, 'danger': 1, 'opportunity': 2, 'h2g2': 1, 'hitchhiker-s-guide': 1, 'panic': 1, 'eternity': 1, 'forests': 2, 'history': 7, 'holiness': 1, 'longing': 5, 'poet': 1, 'trees': 3, 'wonder': 5, 'hippy': 1, 'william-gladstone': 1, 'needs': 1, 'intimidation': 1, 'stubbornness': 1, 'enjoy-life': 3, 'fearlessness': 1, 'live-in-the-moment': 4, 'steppenwolf': 1, 'caring': 2, 'roses': 2, 'classics': 2, 'star': 1, 'molly-weasley': 1, 'toilet': 1, 'french-renaissance-writer': 1, 'miles-halter': 1, 'mountains': 1, 'rocks': 1, 'contrast': 1, 'katharine-hepburn': 1, 'appreciation': 5, 'awe': 2, 'positivity': 2, 'clockwork-prince': 3, 'tessa-gray': 4, 'theresa-gray': 1, 'city-of-ashes': 4, 'sinners': 1, 'defiance': 1, 'self-containment': 1, 'self-esteem': 5, 'self-respect': 4, 'self-sufficiency': 2, 'self-trust': 1, 'answers': 2, 'earnestness': 1, 'gullibility': 1, 'imposters': 1, 'goals-in-life': 1, 'learn': 3, 'light-and-darkness': 1, 'meaningful': 1, 'meaningful-life': 1, 'wise': 5, 'growing': 2, 'real-love': 1, 'reality-of-life': 1, 'those-who-love-us': 1, 'to-be-loved': 1, 'what-matters': 1, 'seperate': 1, 'body-image': 1, 'imperfections': 2, 'self-acceptance': 3, 'opposition': 1, 'spirit': 1, 'depression-silence': 1, 'awkward': 1, 'human-condition': 1, 'punishment': 1, 'jordan-baker': 1, 'cynic': 1, 'goal': 1, 'painting': 1, 'education-knowledge': 1, 'humor-cats-allergies': 1, 'machines': 1, 'ginny-weasley': 1, 'kind': 3, 'jk-rowling': 1, 'stephenie-meyer': 1, 'twilight': 1, 'poets': 1, 'cleanliness': 1, 'consciousness': 1, 'feet': 1, 'purity': 1, 'semantics': 1, 'suspicion': 1, 'america': 2, 'david': 1, 'uglies': 1, 'westerfeld': 1, 'tears': 6, 'road': 1, 'real-life': 1, 'crime': 3, 'oppression': 1, 'invention': 1, 'quip': 3, 'wings': 2, 'self-assessment': 1, 'redemption': 1, 'drinking': 3, 'bossypants': 1, 'self-love': 2, 'tina-fey': 1, 'blues': 1, 'rescuing': 1, 'infinite-jest': 1, 'renewal': 1, 'summer': 2, 'society': 5, 'most-famous-novella': 1, 'be-yourself-inspirational': 1, 'be-yourself-quote': 1, 'be-yourself-quotes': 1, 'inner-voice': 2, 'common-sense': 2, 'manners': 2, 'morals': 4, 'patience': 6, 'challenge': 2, 'enjoy-the-journey': 1, 'move-on': 1, 'lotr': 1, 'arts-and-humanities': 1, 'creative-process': 2, 'self-denial': 1, 'self-disclosure': 1, 'generations-intelligence-wisdom': 1, 'language': 5, 'voice': 3, 'smart': 2, 'alec-lightwood': 3, 'inspirational-stories': 1, 'self-realization': 1, 'dark-humor': 1, 'an-abundance-of-katherines': 1, 'joh-green': 1, 'birth': 2, 'lonely': 2, 'missing': 1, 'feminist': 1, 'inner-beauty': 2, 'adaptation': 2, 'flexibility': 1, 'open-mindedness': 3, 'arrogance': 1, 'flirting': 1, 'holden': 3, 'scared': 1, 'stoicism': 1, 'afternoon': 1, 'december': 1, 'flewn': 1, 'june': 1, 'late': 1, 'soon': 1, 'writing-advice': 2, 'dishonesty': 1, 'willful-ignorance': 1, 'obsession': 3, 'mummies': 1, 'werewolf': 1, 'zombies': 1, 'good-life': 1, 'insults': 1, 'shakespeare': 2, 'cynicism': 1, 'enduring': 1, 'going-on': 1, 'barrie': 1, 'kensington-gardens': 1, 'london': 1, 'neverland': 1, 'park': 1, 'peter-pan': 1, 'scotland': 2, 'fallen-anger': 1, 'nephlim': 1, 'statistics': 1, 'injury': 1, 'mortification': 1, 'box': 1, 'gift': 2, 'eat-pray-love': 1, 'elizabeth-gilbert': 1, 'enthusiasm': 1, 'foolishness': 2, 'silliness': 1, 'grudges': 1, 'illusions': 1, 'acorns': 1, 'zoe-nightshade': 1, 'mina': 1, 'van-helsing': 1, 'autonomy': 1, 'bachelorhood': 1, 'matrimony': 1, 'singles': 1, 'emptiness': 1, 'franz-kafka': 1, 'bestseller': 1, 'north-carolina': 1, 'novel': 1, 'parting': 2, 'romantics': 1, 'jealousy': 2, 'greek': 1, 'sorry': 1, 'extraterrestrials': 1, 'intelligent-life': 1, 'let-go': 2, 'mellark': 1, 'twilight-saga': 1, 'childhood': 4, 'psychology': 3, 'helping-others': 4, 'make-a-difference': 1, 'purpose-of-life': 2, 'castle': 1, 'quotes': 3, 'awesome-quote': 1, 'haymitch': 1, 'description': 1, 'beliefs': 1, 'courage-quotes': 1, 'kill': 2, 'city-of-fallen-angels': 3, 'herondale': 1, 'jace-lightwood': 3, 'letter': 1, 'morgenstern': 1, 'wayland': 1, 'angels': 1, 'nagasawa': 1, 'pooh-bear': 1, 'winnie-the-pooh': 1, 'amity': 1, 'civil-rights': 2, 'free-speech': 1, 'free-will': 1, 'liberty': 3, 'amelia-peabody': 1, 'brave-new-world': 1, 'hunger': 1, 'thirst': 1, 'yearning': 3, 'bibliophilia': 1, 'chivalry': 2, 'protection': 2, 'gender-roles': 1, 'gender-stereotypes': 2, 'lock-and-key': 1, 'infatuation': 5, 'dursley': 2, 'news': 1, 'luck': 2, 'islam': 1, 'recovery': 1, 'explain': 1, 'gossip': 2, 'public-opinion': 1, 'governments': 1, 'killing': 1, 'law': 1, 'murder': 1, 'nationalism': 1, 'nations': 1, 'songs': 1, 'christmas': 2, 'socks': 1, 'rachel-elizabeth-dare': 1, 'self-empowerment': 1, 'neighborhoods': 1, 'brain': 1, 'arrow': 1, 'inej': 1, 'suli-poverb': 1, 'calling': 1, 'ferocity': 1, 'devotion': 1, 'dark': 1, 'close': 1, 'extremely': 1, 'foer': 1, 'incredibly': 1, 'jonathan': 1, 'loud': 2, 'safran': 1, 'agama': 1, 'agnosticism': 1, 'misattributed-grace-hopper': 1, 'misattributed-william-g-t-shedd': 1, 'dreamer': 1, 'liar': 1, 'make-believe': 1, 'wisher': 1, 'wishes': 3, 'katniss-everdeen': 3, 'peeta-mellark': 4, 'not-alone': 1, 'atlas': 1, 'shrugged': 1, 'realist': 1, 'annabeth-chase': 5, 'decisions': 2, 'romeo-and-juliet': 2, 'athena': 2, 'poseidon': 1, 'claire-fraser': 1, 'historical-fiction': 1, 'time-travel': 1, 'clothing': 1, 'truth-lies': 1, 'serenity': 2, 'autumn': 2, 'october': 1, 'thankfulness': 2, 'reading-secrets': 1, 'pretty': 2, 'dramatist-quotes': 1, 'struggle': 1, 'never-stop-believing': 1, 'never-stop-learning': 1, 'try': 1, 'trying': 2, 'forgiving': 1, 'grieving': 1, 'mentoring': 3, 'reasoning': 1, 'brotherhood-of-man': 1, 'scout': 2, 'henry-miller': 1, 'design': 1, 'foolproof': 1, 'ingenuity': 1, 'pijamas': 1, 'benediction': 4, 'johnny-cade': 1, 'ponyboy-curtis': 1, 'ralph-macchio': 1, 'difficulty': 1, 'storms': 1, 'teaching': 1, 'plants': 1, 'wilderness': 1, 'imperfection': 1, 'burdens': 1, 'unburdening': 1, 'weight': 1, 'enterprise': 1, 'confidences': 1, 'sharing-secrets': 1, 'awesome': 2, 'deceit': 1, 'shock': 1, 'top-8': 1, 'obedience': 1, 'addiction': 2, 'alchohol': 1, 'drugs': 2, 'melancholy': 1, '2013': 1, 'james-carstairs': 1, 'william-herondale': 2, 'finale-of-middlemarch': 1, 'tintern-abbey': 1, 'inevitability': 1, 'spring': 2, 'jesus': 2, 'women-mothers': 1, 'acts-of-kindness': 1, 'dan-brown': 1, 'ugly': 1, 'gondor': 1, 'relaxation': 1, 'british': 1, 'social-commentary': 2, 'thumb': 1, 'towel': 1, 'golda': 1, 'meir': 1, 'conversations': 1, 'distractions': 1, 'quiet': 1, 'forcasting': 1, 'mottos': 1, 'winter': 3, 'direction': 2, 'flying-spirit': 1, 'winds': 1, 'winds-of-life': 1, 'fahrenheit-451': 1, 'holden-caulfield': 1, 'run': 2, 'save': 1, 'rythmic': 1, 'thoughtful': 1, 'homicide': 1, 'dr-seuss': 3, 'life-pattern': 1, 'service': 3, 'newspapers': 1, 'impact': 1, 'reach-out': 1, 'goodwill': 1, 'goodbyes': 1, 'young-at-heart': 1, 'youth': 4, 'youthfulness': 1, 'nora': 3, 'patch': 5, 'mad-hatter': 1, 'nonsense': 2, 'betrayal': 2, 'deception': 2, 'water': 3, 'witchcraft': 1, 'witches': 1, 'dangerous': 1, 'sentimentality': 1, 'habits': 1, 'becca-fitzpatrick': 2, 'hush-hush': 1, 'heartbreaking': 1, 'the-book-thief': 1, 'benjamin-button': 1, 'defend': 1, 'fantasy-books': 1, 'nietzsche': 1, 'skeptic': 2, 'missed-chances': 2, 'defenses': 1, 'thorns': 1, 'destruction': 2, 'democracy': 2, 'government': 1, 'charming': 1, 'tedious': 1, 'privacy': 1, 'safety': 1, 'security': 2, 'heroes': 2, 'oaths': 1, 'metaphysics': 2, 'slaughterhouse-five': 1, 'will-s-letter-to-tessa': 1, 'radiance': 1, 'speed-of-light': 1, 'knowing-others': 1, 'everything': 1, 'seeing': 1, 'teacher': 1, 'beyonce': 1, 'lady-gaga': 1, 'mirror': 2, 'play': 1, 'rewind': 1, 'stop': 1, 'valentine': 1, 'little-women': 1, 'louisa-may-alcott': 1, 'cartoonist': 1, 'depressing': 3, 'hopeless': 1, 'beautiful': 4, 'blood': 2, 'mouth': 1, 'museums': 1, 'parks': 1, 'sensation': 1, 'sex-appeal': 1, 'snow': 2, 'fight': 3, 'legacy': 1, 'attention': 1, 'lewis': 1, 'misery': 1, 'marilyn-monroe': 3, 'draco-malfoy': 1, 'quotation': 1, 'horror': 2, 'fred': 1, 'haiku': 2, 'sonnet-xvii': 1, 'the-choice': 1, 'ghost': 1, 'jesper': 1, 'college': 1, 'semicolons': 1, 'cynical': 2, 'dead': 2, 'warriors': 1, 'neurosis': 1, 'couples': 2, 'need': 1, 'ya': 1, 'agency': 1, 'god-religion-happiness': 1, 'apocryphal': 1, 'life-truths': 1, 'reality-check': 1, 'tragedy': 2, 'unfairness': 1, 'inspirational-ship-storms': 1, 'on-writing': 3, 'writing-from-the-heart': 1, 'mothers': 2, 'boredom': 1, 'old-books': 1, 'old-age': 1, 'misattributed-kurt-cobain': 1, 'frodo': 1, 'amazing-writing': 1, 'aesthetics': 1, 'hidden-things': 1, 'courtroom-drama': 1, 'abe-mazur': 1, 'last-sacrifice': 1, 'rosemarie-hathaway': 1, 'discovery': 3, 'eccentric': 1, 'house': 1, 'windows': 1, 'nothing': 1, 'incrementalism': 1, 'pets': 1, 'shelter': 1, 'kvothe': 1, 'man-s': 1, 'name': 1, 'wind': 1, 'sense': 1, 'gray-book': 1, 'hodge': 1, 'sci-fi': 1, 'vorkosigan': 1, 'cracks': 1, 'peeves': 1, 'umbridge': 1, 'forgive': 1, 'die': 2, 'will': 2, 'spiritual-growth': 2, 'satirical': 1, 'heal': 1, 'safe': 1, 'albert': 1, 'equations': 1, 'wayfinding': 1, 'humor-tattoo': 1, 'babies': 1, 'children-s-literature': 1, 'idiocy': 1, 'concern': 1, 'understanding-others': 2, 'apocalypse': 1, 'misattributed-stephen-hawking': 1, 'jacob': 1, 'meyer': 1, 'challenges': 3, 'catatonia': 1, 'coma': 1, 'cinna': 1, 'catching-fire': 3, 'foreshadowing': 1, 'macbeth': 1, 'hindsight': 1, 'inner-life': 2, 'hopelessness': 2, 'philosophical': 1, 'diary': 1, 'musical': 1, 'being-yourself': 1, 'shine': 1, 'vegetarianism': 1, 'submission': 1, 'superiority': 1, 'power-of-music': 2, 'ocean': 1, 'thankful': 2, 'prank': 2, 'self-help': 1, 'deep': 2, 'sharing': 2, 'katniss-and-peeta': 1, 'frienship': 1, 'mail': 1, 'simon_bolivar-s_labyrinth': 1, 'positive-attitude': 2, 'vampire-academy': 1, 'atoms': 1, 'cosmos': 1, 'dna': 1, 'films': 1, 'story-people': 1, 'phenomenal-woman': 1, 'shadowhunters': 1, 'coffee': 1, 'companionship': 2, 'single': 1, 'spinsterhood': 1, 'on-the-road': 1, 'sal-paradise': 1, 'lover': 2, 'person': 1, 'desperate': 1, 'losing': 1, 'nostalgia': 1, 'dog': 1, 'famous': 1, 'valour': 1, 'mara-dyer': 1, 'bad-day': 1, 'inconvenient': 1, 'loyalty': 1, 'insincerity': 1, 'role-models': 1, 'barriers': 1, 'failures': 1, 'demographics': 1, 'common-experience': 1, 'taking-chances': 1, 'incredibly-true': 1, 'mutuality': 1, 'reciprocity': 1, 'aloneness': 1, 'common-ground': 1, 'loved-ones': 1, 'behind': 1, 'of': 1, 'thing': 1, 'assassin': 1, 'inkheart': 1, 'labels': 1, 'names': 1, 'enjoy': 1, 'separation': 1, 'academy': 1, 'mead': 1, 'richelle': 1, 'at-first-sight': 1, 'tough-times': 1, 'rich': 1, 'rich-heart': 1, 'richness': 1, 'comfort-zone': 1, 'start-up': 1, 'step-out-of-your-comfort-zone': 1, 'toltec-wisdom': 1, 'self-loathing': 1, 'mermaids': 2, 'no-fear': 1, 'sea': 1, 'selfishness': 2, 'limit': 1, 'potential': 2, 'sweet': 3, 'craziness': 1, 'unique': 2, 'arts': 1, 'initiative': 2, 'adoration': 1, 'anxiety': 1, 'dizziness': 1, 'eastern-philosophy': 1, 'challanges': 1, 'beatnik': 1, 'misattributed-betty-white': 1, 'lamp': 1, 'warrior': 1, 'the-mortal-instruments': 1, 'tmi': 1, 'individualism': 1, 'lena-holoway': 1, '2008': 1, 'morning': 1, 'waking-up': 1, 'defiant': 1, 'self-belief': 1, 'self-worth': 1, 'fountainhead': 1, 'diary-entry': 1, 'internet': 1, 'pedophile': 1, 'pedophilia': 1, '2012': 1, 'blog': 1, 'shelves': 1, 'high-school': 1, 'teenage-love': 1, 'fellowship': 1, 'gamgee': 1, 'hobbit': 1, 'samwise': 1, 'tolkien': 1, 'tired': 1, 'recollection': 1, 'systems': 1, 'give': 2, 'mothers-day': 1, 'propaganda': 2, 'rewriting-history': 1, 'anne-rice': 1, 'pandora': 1, 'teasing': 1, 'malfoy': 1, 'unbreakable-vow': 1, 'speech': 1, 'grammar': 1, 'self-sacrifice': 2, 'heartfelt': 1, 'shame': 1, 'maia': 1, 'judging-from-experience': 1, 'unseen': 1, 'honor': 1, 'personal-responsibility': 2, 'elections': 1, 'rulers': 1, 'ruby': 1, 'childhood-memory': 1, 'jordan-kyle': 1, 'clean': 1, 'dirt': 1, 'good-evil': 1, 'adam': 1, 'ignite-me': 1, 'unbreakable': 1, 'canoodle': 1, 'magnificent': 1, 'zsadist': 1, 'trials-of-life': 1, 'absurdities': 1, 'atrocities': 1, 'barbarity': 1, 'injustice': 1, 'skepticism': 1, 'innocence': 3, 'right-of-passage': 1, 'silly-chinese-canadian-baby-man': 1, 'narrator': 1, 'the-great-gatsby': 1, 'novelty': 1, 'soulmates': 1, 'misattributed-george-santayana': 1, 'dare': 1, 'waste': 1, 'dissapointment': 1, 'athe-plague-of-dives': 1, 'dissatisfaction': 1, 'thanksgiving': 2, 'good-books': 1, 'diplomacy': 1, 'ruby-anger': 1, 'flowers': 1, 'sky': 1, 'james-bond': 1, 'fallen-angels': 1, 'devil': 1, 'escape': 1, 'intoxication': 1, 'suess': 1, 'wilhelm-stekel': 1, 'posiedon': 1, 'the-lightning-thief': 1, 'zeus': 1, 'e-readers': 1, 'kindle': 1, 'immature': 1, 'young': 1, 'own': 1, 'things': 1, 'advice-for-writers': 1, 'awareness': 2, 'mythological': 1, 'paradise': 1, 'changes': 1, 'exploration': 1, 'layken': 1, 'slammed': 1, 'disease': 1, 'reality-bothered': 1, 'inspirational-human-spirit': 1, 'alec': 1, 'max': 1, 'men-and-women': 1, 'prose': 1, 'control': 1, 'organized-religion': 2, 'mother': 1, 'adrian-ivashkov': 1, 'intent': 1, 'humor-mustache': 1, 'life-dreams': 1, 'demon': 1, 'pox': 1, 'novelist': 1, 'ghosts': 1, 'haunt': 1, 'appearance': 1, 'jokes': 1, 'before-i-fall': 1, 'young-adult-fiction': 2, 'denial': 1, 'risk-taking': 1, 'peer-pressure': 2, 'boldness': 1, 'food-discussion': 1, 'peanut-butter': 1, 'tyson': 1, 'just-do-it': 1, 'proactivity': 1, 'volunteerism': 1, 'expression': 1, 'finding-your-voice': 1, 'haunting': 1, 'humor-sarcasm': 1, 'reputation': 1, 'inventing-humor': 1, 'intellect': 1, 'forgetfulness': 1, 'psychotherapist': 1, 'visions': 1, 'ecology': 1, 'witch': 1, 'confused': 1, 'age-adult': 1, 'crescendo': 1, 'paradox': 2, 'host': 1, 'ian': 1, 'jamie': 1, 'jared': 1, 'melanie': 1, 'uncle-jeb': 1, 'wanda': 1, 'sonnet': 1, 'agree': 1, 'abraham-lincoln': 1, 'bathing': 1, 'reticence': 1, 'woman': 2, 'women-s-strenth': 1, 'dorian-gray': 1, 'robert-foster': 1, 'love-friendship': 1, 'celaena-sardothien': 2, 'chaol-westfall': 1, 'books-bible': 1, 'greedy': 1, 'myself': 1, 'selfish': 1, 'fresh-starts': 1, 'new-beginnings': 1, 'reinvention': 1, 'alyson': 1, 'evermore': 1, 'immortals': 1, 'noel': 1, 'elite': 1, 'elitism': 1, 'elitist': 1, 'voter': 1, 'voting': 1, 'stories-writing': 1, 'self-knowledge': 1, 'book-the-count-of-monte-cristo': 1, 'puck': 1, 'bridge': 1, 'dhampir': 1, 'promise': 1, 'stake': 1, 'strigoi': 1, 'mormont': 1, 'cruelty': 1, 'alaska-young': 1, 'blackjack': 1, 'dionysus': 1, 'birthday': 1, 'hagrid': 1, 'pig': 1, 'wizard': 2, 'injuries': 1, 'doubt': 1, 'records': 1, 'gaiman': 1, 'gandhi': 1, 'martyrdom': 1, 'misattributed-to-albert-camus': 1, 'pacifism': 1, 'principles': 1, 'muggles': 1, 'aristotle': 1, 'great-minds': 1, 'buddism': 1, 'mourning': 1, 'broken-families': 1, 'divorce': 1, 'family-ties': 1, 'soul-ties': 1, 'the-nature-of-family': 1, 'true-family': 1, 'absence': 1, 'grandmothers': 1, 'grandparents': 1, 'walking': 1, 'whiskey': 1, 'on-fiction': 2, 'concealment': 1, 'dark-plans': 1, 'stealth': 1, 'femininity': 1, 'essay': 1, 'lecture': 1, 'nonfiction': 1, 'transcendentalism': 1, 'morganvillevampires': 1, 'capability': 1, 'possibility': 1, 'skills': 1, 'sexuality': 1, 'wisedom': 1, 'this-lullaby': 1, 'anais': 1, 'nin': 1, 'gonzo': 1, 'detection': 1, 'evidence': 1, 'obviousness': 1, 'sherlock-holmes': 1, 'assumptions': 1, 'close-mindedness': 1, 'isaac-asimov': 1, 'open-minds': 1, 'receptivity': 1, 'science-of-mind': 1, 'christina': 1, 'veronica-roth': 1, 'anarchy': 1, 'lateral-thinking': 1, 'rationalism': 1, 'zarek': 1, 'april': 1, 'dystopia': 1, 'possiblity': 1, 'drunk': 1, 'wine': 1, 'confession': 1, 'excuses': 1, 'aciman': 1, 'call-me-by-your-name': 1, 'italy': 1, 'intellectuals': 1, 'scholars': 1, 'knowledge-power': 1, 'elizabethan': 1, 'robin-goodfellow': 1, 'angel': 1, 'nora-grey': 1, 'chapter-one': 1, 'city-of-lost-souls': 1, 'limitations': 1, 'talents': 1, 'falling': 1, 'lesson-on-living': 1, 'paramore': 1, 'singer': 1, 'stand': 1, 'unhappy-life': 1, 'love-quotes': 1, 'clock': 1, 'ticking': 1, 'all-the-bright-places': 1, 'discipline': 1, 'grisha': 1, 'the-beatrice-letters': 1, 'honest': 1, 'integrity-quotes': 1, 'listen': 1, 'speak': 1, 'death-of-a-loved-one': 1, 'force': 1, 'idiots': 1, 'life-humor': 1, 'adults': 1, 'antoine-de-saint-exupery': 1, 'realization': 1, 'sebastian': 1, 'valentine-morgenstern': 1, 'antipathy': 1, 'dislike': 1, 'talk': 1, 'stephen-chbosky': 1, 'trap': 1, 'openness': 1, 'atheist': 1, 'church': 1, 'swear': 1, 'afraid': 1, 'frolick': 1, 'remember': 1, 'twirl': 1, 'connecting': 1, 'rebirth': 1, 'inequality': 1, 'hunger-games-peeta-katniss': 1, 'the-selection': 1, 'doctor-who': 1, 'dracula': 1, 'misattributed-to-chalmers': 1, 'misattributed-to-joseph-addison': 1, 'misattributed-to-kant': 1, 'misattributed-tom-bodett': 1, 'rena-silverman': 1, 'samuel-beckett': 1, 'new-england-wisdom': 1, 'celebrity': 1, 'aspirations': 1, 'ardor': 1, 'heathcliff': 1, 'cows': 1, 'pigs': 1, 'sausage': 1, 'question': 1, 'thought-provoking': 1, 'characters': 1, 'touchstones': 1, 'true-to-self': 1, 'wring': 1, 'lust': 1, 'misattributed-goethe': 1, 'today': 1, 'just-listen': 1, 'owen': 1, 'sara-dessen': 1}\n"
     ]
    }
   ],
   "source": [
    "# Let me create a Python dictionary to store the tag and it's corresponding frequency throughout this dataset.\n",
    "tag_freq = {}\n",
    "\n",
    "for row_tag in tags:\n",
    "    for tag in row_tag:\n",
    "        if tag in tag_freq:\n",
    "            tag_freq[tag] += 1\n",
    "        else:\n",
    "            tag_freq[tag] = 1\n",
    "\n",
    "print(tag_freq)"
   ]
  },
  {
   "cell_type": "code",
   "execution_count": 17,
   "metadata": {},
   "outputs": [
    {
     "name": "stdout",
     "output_type": "stream",
     "text": [
      "[('love', 327), ('inspirational', 319), ('life', 295), ('humor', 254), ('books', 141), ('inspiration', 87), ('reading', 86), ('happiness', 68), ('writing', 67), ('inspirational-quotes', 65), ('friendship', 63), ('wisdom', 62), ('truth', 61), ('philosophy', 60), ('optimism', 48), ('living', 48), ('life-quotes', 48), ('death', 47), ('hope', 46), ('poetry', 45), ('romance', 45), ('positive-affirmation', 41), ('positive-thinking', 41), ('women', 40), ('life-lessons', 40), ('optimistic', 40), ('positive', 40), ('positive-life', 40), ('inspire', 38), ('inspiring', 38), ('courage', 37), ('life-and-living', 36), ('change', 34), ('pain', 34), ('funny', 34), ('inspirational-life', 34), ('relationships', 33), ('religion', 32), ('dreams', 31), ('music', 31), ('fear', 31), ('jace-wayland', 29), ('friends', 28), ('strength', 28), ('freedom', 28), ('god', 28), ('inspirational-attitude', 28), ('motivational', 27), ('loneliness', 27), ('science', 26), ('beauty', 26), ('time', 25), ('motivation', 25), ('success', 24), ('clary-fray', 23), ('education', 22), ('art', 22), ('faith', 22), ('sadness', 22), ('individuality', 21), ('humour', 21), ('self-determination', 20), ('men', 20), ('kindness', 19), ('trust', 18), ('jace', 18), ('humanity', 18), ('heart', 18), ('reality', 17), ('knowledge', 17), ('empowerment', 17), ('grief', 17), ('future', 17), ('be-yourself', 16), ('imagination', 16), ('harry-potter', 16), ('loss', 16), ('learning', 15), ('marriage', 15), ('dumbledore', 15), ('literature', 15), ('family', 15), ('war', 15), ('peace', 14), ('failure', 14), ('world', 14), ('travel', 14), ('people', 14), ('letting-go', 14), ('bravery', 13), ('mortal-instruments', 13), ('compassion', 13), ('suffering', 13), ('identity', 13), ('depression', 13), ('words', 13), ('honesty', 12), ('soul', 12), ('lies', 12), ('intelligence', 12), ('heartbreak', 12), ('children', 12), ('sarcasm', 12), ('independence', 12), ('feminism', 12), ('confidence', 11), ('character', 11), ('light', 11), ('belief', 11), ('stories', 11), ('magic', 11), ('politics', 11), ('solitude', 11), ('will-herondale', 11), ('percy-jackson', 11), ('mistakes', 10), ('forgiveness', 10), ('hate', 10), ('past', 10), ('paraphrased', 10), ('fantasy', 10), ('work', 10), ('mind', 10), ('smile', 10), ('atheism', 10), ('nature', 10), ('sex', 10), ('experience', 10), ('gratitude', 10), ('human-nature', 9), ('memory', 9), ('disappointment', 9), ('integrity', 9), ('animals', 9), ('goodness', 9), ('power-of-words', 9), ('city-of-bones', 9), ('john-green', 9), ('the-fault-in-our-stars', 9), ('thinking', 9), ('beatles', 9), ('adventure', 9), ('age', 9), ('understanding', 9), ('growth', 9), ('laughter', 9), ('suicide', 9), ('spirituality', 9), ('moving-on', 9), ('simile', 8), ('hurt', 8), ('insanity', 8), ('fate', 8), ('katniss', 8), ('food', 8), ('sad', 8), ('nicholas-sparks', 8), ('stars', 8), ('magnus-bane', 8), ('ignorance', 8), ('silence', 8), ('healing', 8), ('hell', 8), ('acceptance', 8), ('stupidity', 7), ('sleep', 7), ('action', 7), ('carpe-diem', 7), ('darkness', 7), ('misattributed-mark-twain', 7), ('dream', 7), ('live', 7), ('perception', 7), ('misattributed-eleanor-roosevelt', 7), ('activism', 7), ('dreaming', 7), ('morality', 7), ('growing-up', 7), ('self-discovery', 7), ('fighting', 7), ('respect', 7), ('evil', 7), ('man', 7), ('hunger-games', 7), ('joy', 7), ('worry', 7), ('perseverance', 7), ('leadership', 7), ('crying', 7), ('reason', 7), ('history', 7), ('universe', 6), ('lying', 6), ('choices', 6), ('fairy-tales', 6), ('peeta', 6), ('girls', 6), ('tfios', 6), ('desire', 6), ('passion', 6), ('scars', 6), ('attitude', 6), ('christianity', 6), ('memories', 6), ('empathy', 6), ('anger', 6), ('clary', 6), ('believe', 6), ('night', 6), ('libraries', 6), ('city-of-glass', 6), ('adversity', 6), ('self', 6), ('persistence', 6), ('simon', 6), ('living-life', 6), ('kiss', 6), ('goodbye', 6), ('tears', 6), ('patience', 6), ('dance', 5), ('madness', 5), ('misattributed-to-einstein', 5), ('dogs', 5), ('library', 5), ('cats', 5), ('the-hunger-games', 5), ('emotion', 5), ('mankind', 5), ('romantic', 5), ('greatness', 5), ('simon-lewis', 5), ('creativity', 5), ('self-awareness', 5), ('sacrifice', 5), ('human', 5), ('value', 5), ('secrets', 5), ('wit', 5), ('encouragement', 5), ('edward', 5), ('ron-weasley', 5), ('giving', 5), ('happy', 5), ('self-reliance', 5), ('destiny', 5), ('life-philosophy', 5), ('poem', 5), ('feelings', 5), ('justice', 5), ('six-of-crows', 5), ('regret', 5), ('perspective', 5), ('true-love', 5), ('emotions', 5), ('forgetting', 5), ('alice-in-wonderland', 5), ('clockwork-angel', 5), ('spiritual', 5), ('comfort', 5), ('vampire', 5), ('joke', 5), ('flying', 5), ('parents', 5), ('goals', 5), ('thoughts', 5), ('longing', 5), ('wonder', 5), ('appreciation', 5), ('self-esteem', 5), ('wise', 5), ('society', 5), ('language', 5), ('infatuation', 5), ('annabeth-chase', 5), ('patch', 5), ('infinity', 4), ('ataraxy', 4), ('enemies', 4), ('classic', 4), ('contentment', 4), ('present', 4), ('widely-misattributed', 4), ('misattributed-to-mother-teresa', 4), ('chocolate', 4), ('comedy', 4), ('calvin-and-hobbes', 4), ('perfection', 4), ('good', 4), ('dreamers', 4), ('fame', 4), ('school', 4), ('writers', 4), ('advice', 4), ('fashion', 4), ('the-notebook', 4), ('trial', 4), ('gender', 4), ('money', 4), ('sin', 4), ('meaning-of-life', 4), ('divergent', 4), ('fearless', 4), ('sorrow', 4), ('opinions', 4), ('pride', 4), ('cassandra-clare', 4), ('mockingjay', 4), ('meaning', 4), ('existence', 4), ('expectations', 4), ('mythology', 4), ('virtue', 4), ('home', 4), ('einstein', 4), ('temptation', 4), ('inspirational-quote', 4), ('authentic-living', 4), ('sense-of-wonder', 4), ('mercy', 4), ('irony', 4), ('self-confidence', 4), ('isabelle-lightwood', 4), ('science-fiction', 4), ('hypocrisy', 4), ('risk', 4), ('purpose', 4), ('true', 4), ('looking-for-alaska', 4), ('leader', 4), ('olympians', 4), ('misattributed', 4), ('hatred', 4), ('parenting', 4), ('equality', 4), ('ethics', 4), ('cry', 4), ('live-in-the-moment', 4), ('tessa-gray', 4), ('city-of-ashes', 4), ('self-respect', 4), ('morals', 4), ('childhood', 4), ('helping-others', 4), ('peeta-mellark', 4), ('benediction', 4), ('youth', 4), ('beautiful', 4), ('friend', 3), ('strategy', 3), ('conformity', 3), ('actions', 3), ('dragons', 3), ('literacy', 3), ('thought', 3), ('suzanne-collins', 3), ('tea', 3), ('pleasure', 3), ('possibilities', 3), ('nerdfighters', 3), ('authors', 3), ('attributed', 3), ('journey', 3), ('teen-fantasy', 3), ('snape', 3), ('dying', 3), ('wealth', 3), ('choice', 3), ('sun', 3), ('introspection', 3), ('sanity', 3), ('conscience', 3), ('book', 3), ('alone', 3), ('achievement', 3), ('bible', 3), ('the-perks-of-being-a-wallflower', 3), ('judgement', 3), ('seasons', 3), ('fiction', 3), ('self-deception', 3), ('anais-nin', 3), ('song', 3), ('finnick', 3), ('problems', 3), ('fred-weasley', 3), ('george-weasley', 3), ('inspirational-love', 3), ('qotd', 3), ('authenticity', 3), ('heartache', 3), ('bella', 3), ('a-court-of-mist-and-fury', 3), ('unrequited-love', 3), ('humorous', 3), ('souls', 3), ('affection', 3), ('communication', 3), ('day', 3), ('attraction', 3), ('talent', 3), ('creation', 3), ('classic-insult', 3), ('crazy', 3), ('determination', 3), ('books-reading', 3), ('elizabeth-bennet', 3), ('dignity', 3), ('corruption', 3), ('responsibility', 3), ('power', 3), ('jem-carstairs', 3), ('curiosity', 3), ('censorship', 3), ('prayer', 3), ('double-standards', 3), ('brave', 3), ('moon', 3), ('being-loved', 3), ('focus', 3), ('leaders', 3), ('being-positive', 3), ('listening', 3), ('metaphor', 3), ('relationship', 3), ('self-expression', 3), ('storytelling', 3), ('unhappiness', 3), ('values', 3), ('book-lovers', 3), ('dimitri', 3), ('rose', 3), ('flight', 3), ('self-improvement', 3), ('misattributed-george-carlin', 3), ('new-year', 3), ('last-words', 3), ('survival', 3), ('trees', 3), ('enjoy-life', 3), ('clockwork-prince', 3), ('learn', 3), ('self-acceptance', 3), ('kind', 3), ('crime', 3), ('quip', 3), ('drinking', 3), ('voice', 3), ('alec-lightwood', 3), ('open-mindedness', 3), ('holden', 3), ('obsession', 3), ('psychology', 3), ('quotes', 3), ('city-of-fallen-angels', 3), ('jace-lightwood', 3), ('liberty', 3), ('yearning', 3), ('wishes', 3), ('katniss-everdeen', 3), ('mentoring', 3), ('winter', 3), ('dr-seuss', 3), ('service', 3), ('nora', 3), ('water', 3), ('depressing', 3), ('fight', 3), ('marilyn-monroe', 3), ('on-writing', 3), ('discovery', 3), ('challenges', 3), ('catching-fire', 3), ('sweet', 3), ('innocence', 3), ('misattributed-oscar-wilde', 2), ('heaven', 2), ('sing', 2), ('wish', 2), ('sirius-black', 2), ('misattributed-ben-franklin', 2), ('gold', 2), ('lost', 2), ('roots', 2), ('wander', 2), ('abilities', 2), ('aliteracy', 2), ('miracles', 2), ('remaining-silent', 2), ('misattributed-john-lennon', 2), ('apathy', 2), ('mischief', 2), ('read', 2), ('procrastination', 2), ('albus-dumbledore', 2), ('sisters', 2), ('deadlines', 2), ('simplicity', 2), ('misattributed-to-c-s-lewis', 2), ('yourself', 2), ('exercise', 2), ('seuss', 2), ('television', 2), ('scifi', 2), ('impossible', 2), ('misattributed-a-a-milne', 2), ('wallflower', 2), ('open-mind', 2), ('judge', 2), ('piglet', 2), ('pooh', 2), ('connection', 2), ('facts', 2), ('knowing', 2), ('poverty', 2), ('humans', 2), ('fairytales', 2), ('pretend', 2), ('philosophy-of-life', 2), ('write', 2), ('limits', 2), ('rebellion', 2), ('augustus-waters', 2), ('dear-john', 2), ('health', 2), ('misattributed-to-marilyn-monroe', 2), ('teachers', 2), ('conflict', 2), ('revenge', 2), ('misattributed-gloria-steinem', 2), ('flaws', 2), ('wounds', 2), ('misattributed-to-gandhi', 2), ('demons', 2), ('worth', 2), ('four', 2), ('tris', 2), ('despair', 2), ('victory', 2), ('lost-love', 2), ('unity', 2), ('weakness', 2), ('smiling', 2), ('gandalf', 2), ('boys', 2), ('charity', 2), ('revelation', 2), ('fact', 2), ('myth', 2), ('ambiguity', 2), ('genius', 2), ('infidelity', 2), ('ideas', 2), ('throne-of-glass', 2), ('logic', 2), ('religious', 2), ('importance', 2), ('secret', 2), ('the-little-prince', 2), ('self-responsibility', 2), ('zen', 2), ('dancing', 2), ('acomaf', 2), ('feyre', 2), ('rhysand', 2), ('humor-reading', 2), ('humanism', 2), ('love-at-first-sight', 2), ('inertia', 2), ('first-sentence', 2), ('advice-for-daily-living', 2), ('reader', 2), ('speaking', 2), ('husband', 2), ('opening-lines', 2), ('wife', 2), ('ego', 2), ('jane-austen', 2), ('isabelle', 2), ('touching', 2), ('fire', 2), ('isolation', 2), ('judgment', 2), ('speaking-out', 2), ('monsters', 2), ('adulthood', 2), ('smiles', 2), ('mortality', 2), ('authentic-self', 2), ('distance', 2), ('mystery', 2), ('physics', 2), ('mindfulness', 2), ('sarah-dessen', 2), ('animal-farm', 2), ('kissing', 2), ('keep-moving-forward', 2), ('expectation', 2), ('appreciate', 2), ('trouble', 2), ('desires', 2), ('crooked-kingdom', 2), ('inej-ghafa', 2), ('truth-telling', 2), ('originality', 2), ('class', 2), ('clichÃ©s', 2), ('misogyny', 2), ('stereotypes', 2), ('nicholas', 2), ('sparks', 2), ('patrick-rothfuss', 2), ('dating', 2), ('taste', 2), ('believe-in-yourself', 2), ('f-scott-fitzgerald', 2), ('transform', 2), ('apollo', 2), ('hot', 2), ('blessed', 2), ('worrying', 2), ('inner-peace', 2), ('seeds', 2), ('think', 2), ('tobias', 2), ('beatitudes', 2), ('bob-marley', 2), ('laugh', 2), ('carroll', 2), ('paranormal-romance', 2), ('self-assurance', 2), ('progress', 2), ('maturity', 2), ('uplifting', 2), ('letting-go-of-the-past', 2), ('living-in-the-present', 2), ('living-now', 2), ('care', 2), ('rationality', 2), ('women-s-rights', 2), ('ambition', 2), ('sandman', 2), ('bibliophiles', 2), ('bad', 2), ('reincarnation', 2), ('lovers', 2), ('hg2g', 2), ('hush', 2), ('cancer', 2), ('humility', 2), ('right', 2), ('revolution', 2), ('questions', 2), ('enemy', 2), ('never-give-up', 2), ('birds', 2), ('ecstasy', 2), ('earth', 2), ('improvement', 2), ('profound', 2), ('opportunity', 2), ('forests', 2), ('caring', 2), ('roses', 2), ('classics', 2), ('awe', 2), ('positivity', 2), ('self-sufficiency', 2), ('answers', 2), ('growing', 2), ('imperfections', 2), ('america', 2), ('wings', 2), ('self-love', 2), ('summer', 2), ('inner-voice', 2), ('common-sense', 2), ('manners', 2), ('challenge', 2), ('creative-process', 2), ('smart', 2), ('birth', 2), ('lonely', 2), ('inner-beauty', 2), ('adaptation', 2), ('writing-advice', 2), ('shakespeare', 2), ('scotland', 2), ('gift', 2), ('foolishness', 2), ('parting', 2), ('jealousy', 2), ('let-go', 2), ('purpose-of-life', 2), ('kill', 2), ('civil-rights', 2), ('chivalry', 2), ('protection', 2), ('gender-stereotypes', 2), ('dursley', 2), ('luck', 2), ('gossip', 2), ('christmas', 2), ('loud', 2), ('decisions', 2), ('romeo-and-juliet', 2), ('athena', 2), ('serenity', 2), ('autumn', 2), ('thankfulness', 2), ('pretty', 2), ('trying', 2), ('scout', 2), ('awesome', 2), ('addiction', 2), ('drugs', 2), ('william-herondale', 2), ('spring', 2), ('jesus', 2), ('social-commentary', 2), ('direction', 2), ('run', 2), ('nonsense', 2), ('betrayal', 2), ('deception', 2), ('becca-fitzpatrick', 2), ('skeptic', 2), ('missed-chances', 2), ('destruction', 2), ('democracy', 2), ('security', 2), ('heroes', 2), ('metaphysics', 2), ('mirror', 2), ('blood', 2), ('snow', 2), ('horror', 2), ('haiku', 2), ('cynical', 2), ('dead', 2), ('couples', 2), ('tragedy', 2), ('mothers', 2), ('die', 2), ('will', 2), ('spiritual-growth', 2), ('understanding-others', 2), ('inner-life', 2), ('hopelessness', 2), ('power-of-music', 2), ('thankful', 2), ('prank', 2), ('deep', 2), ('sharing', 2), ('positive-attitude', 2), ('companionship', 2), ('lover', 2), ('mermaids', 2), ('selfishness', 2), ('potential', 2), ('unique', 2), ('initiative', 2), ('give', 2), ('propaganda', 2), ('self-sacrifice', 2), ('personal-responsibility', 2), ('thanksgiving', 2), ('awareness', 2), ('organized-religion', 2), ('young-adult-fiction', 2), ('peer-pressure', 2), ('paradox', 2), ('woman', 2), ('celaena-sardothien', 2), ('wizard', 2), ('on-fiction', 2), ('gilbert-perreira', 1), ('quote-investigator', 1), ('best', 1), ('out-of-control', 1), ('worst', 1), ('fitting-in', 1), ('misattributed-dr-seuss', 1), ('those-who-matter', 1), ('misattributed-albert-camus', 1), ('drive-out', 1), ('self-deprecation', 1), ('accomplishment', 1), ('advertising', 1), ('apple', 1), ('commercial', 1), ('computers', 1), ('different', 1), ('misattributed-apple', 1), ('misattributed-steve-jobs', 1), ('misfits', 1), ('nonconformity', 1), ('progressive', 1), ('rebels', 1), ('status-quo', 1), ('think-different', 1), ('troublemakers', 1), ('misattributed-marilyn-monroe', 1), ('disappointed', 1), ('explore', 1), ('sail', 1), ('frost', 1), ('glitter', 1), ('strong', 1), ('wither', 1), ('miracle', 1), ('pessimism', 1), ('paraphrasing-g-k-chesterton', 1), ('misattributed-to-abraham-lincoln', 1), ('misattributed-to-mark-twain', 1), ('majority', 1), ('minority', 1), ('pause', 1), ('reflect', 1), ('planning', 1), ('plans', 1), ('edison', 1), ('lack-of-friendship', 1), ('lack-of-love', 1), ('unhappy-marriage', 1), ('indifference', 1), ('opposite', 1), ('misattributed-to-malcolm-x', 1), ('misattributed-to-rosa-parks', 1), ('navigation', 1), ('1929', 1), ('viereck-interview', 1), ('do-wrong', 1), ('wrong', 1), ('obvious', 1), ('readers', 1), ('reading-books', 1), ('deeply-loved', 1), ('source-unknown', 1), ('understand', 1), ('1970', 1), ('essential', 1), ('harry', 1), ('philosophers-stone', 1), ('ron', 1), ('sorcerers-stone', 1), ('doomed', 1), ('inevitable', 1), ('oblivion', 1), ('simple', 1), ('laziness', 1), ('misattributed-to-hutchins', 1), ('satisfaction', 1), ('novelist-quotes', 1), ('anything-can-be', 1), ('musn-t', 1), ('shouldn-t', 1), ('won-t', 1), ('charlie', 1), ('favourite-books', 1), ('soul-searching', 1), ('imperfect', 1), ('weirdness', 1), ('body-soul', 1), ('bilbo', 1), ('quest', 1), ('reassurance', 1), ('drug', 1), ('live-death-love', 1), ('self-indulgence', 1), ('theology', 1), ('adventuring', 1), ('wise-words', 1), ('misattributed-to-emerson', 1), ('teach', 1), ('sinister', 1), ('regrets', 1), ('better-life-empathy', 1), ('akeelah', 1), ('alice', 1), ('psychological', 1), ('yesterday', 1), ('difficult', 1), ('grown-ups', 1), ('strength-and-courage', 1), ('misattributed-to-bill-gates', 1), ('nerd', 1), ('nerds', 1), ('paraphrase-of-congreve', 1), ('scar', 1), ('sweetness', 1), ('philosphy', 1), ('1993', 1), ('complaining', 1), ('invincible', 1), ('teenagers', 1), ('teens', 1), ('hazel', 1), ('privilege', 1), ('hermione', 1), ('misprints', 1), ('violence', 1), ('johngreen', 1), ('lookingforalaska', 1), ('misanthropy', 1), ('image', 1), ('realism', 1), ('clothes', 1), ('children-s-books', 1), ('commerce', 1), ('principle', 1), ('sins', 1), ('worship', 1), ('santiago', 1), ('luke', 1), ('teenager', 1), ('bene-gesserit', 1), ('litany-against-fear', 1), ('proverb', 1), ('nico', 1), ('tolstoy', 1), ('dauntless', 1), ('glittering-eyes', 1), ('hidden', 1), ('unlikely-places', 1), ('watch', 1), ('parties', 1), ('social', 1), ('coldness', 1), ('paraphrase-of-lewis-carroll', 1), ('loner', 1), ('breaking-up', 1), ('mr-darcy', 1), ('culture', 1), ('falling-apart', 1), ('giving-in', 1), ('misattributed-bill-cosby', 1), ('freethinker', 1), ('mad', 1), ('misattributed-john-wayne', 1), ('misattributed-douglas-adams', 1), ('paper-towns', 1), ('ordinary', 1), ('vlog', 1), ('timelessness', 1), ('misattributed-cassandra-clare', 1), ('misattributed-jace', 1), ('bella-swan', 1), ('biscuit', 1), ('james-potter', 1), ('remus-lupin', 1), ('wormtail', 1), ('shampoo', 1), ('misattributed-audrey-hepburn', 1), ('triumph', 1), ('bookroom', 1), ('telekinetics', 1), ('jail', 1), ('ebay', 1), ('uncertainty', 1), ('unpredictability', 1), ('friends-betrayal', 1), ('humor-wicked-reading', 1), ('sphinx-without-a-secret', 1), ('breakup', 1), ('qoutes-on-writing', 1), ('everyday-life', 1), ('observational-comedy', 1), ('humor-heaven', 1), ('boggs', 1), ('odair', 1), ('witty', 1), ('chemistry', 1), ('sarah-j-maas', 1), ('oprah-s-thank-you-game', 1), ('trials', 1), ('automobile', 1), ('car', 1), ('pixie-dust', 1), ('winnie', 1), ('timidity', 1), ('beginnings', 1), ('fresh-start', 1), ('mistake', 1), ('new-day', 1), ('start-over', 1), ('tomorrow', 1), ('ache', 1), ('chapter-24', 1), ('rue', 1), ('fear-unknown', 1), ('books-vacation', 1), ('eating-reading', 1), ('fairies', 1), ('nightmares', 1), ('misattributed-to-a-a-milne', 1), ('saint-sinner', 1), ('dave-matthews', 1), ('requirements', 1), ('feathers', 1), ('bath', 1), ('heartwarming', 1), ('human-connections', 1), ('breath', 1), ('allegory', 1), ('broad-mindedness', 1), ('imagery', 1), ('dharma', 1), ('reflection', 1), ('running', 1), ('misattributed-einstein', 1), ('letters', 1), ('alive', 1), ('congratulations', 1), ('popularity', 1), ('consul', 1), ('atticus-finch', 1), ('wishing', 1), ('experience-mistakes-wisdom', 1), ('ideals', 1), ('martyr', 1), ('astronomer', 1), ('writer', 1), ('leaving', 1), ('nerdfighter', 1), ('convictions', 1), ('criticism', 1), ('inspirational-faith', 1), ('anne', 1), ('frank', 1), ('creative', 1), ('life-choices-fig-trees', 1), ('writer-s-life', 1), ('funeral', 1), ('stupid', 1), ('americans', 1), ('geography', 1), ('presidential', 1), ('brokenness', 1), ('consistency', 1), ('essence', 1), ('ethos', 1), ('fortitude', 1), ('resolve', 1), ('virtues', 1), ('brown', 1), ('clare', 1), ('flame', 1), ('the-kite-runner', 1), ('1-corinthians-13', 1), ('misquote', 1), ('dark-side', 1), ('molly-weasley-anger', 1), ('dirty', 1), ('logo', 1), ('hmmm', 1), ('being-human', 1), ('puppies', 1), ('rights', 1), ('broccoli', 1), ('pleasures', 1), ('salinger', 1), ('1955', 1), ('mindful', 1), ('just-litsen', 1), ('illiteracy', 1), ('accept-yourself', 1), ('love-yourself', 1), ('life-memories', 1), ('best-friends', 1), ('moi', 1), ('fair', 1), ('sympathy', 1), ('fool', 1), ('self-irony', 1), ('jim', 1), ('morrison', 1), ('dictionary', 1), ('fun', 1), ('chaos', 1), ('belonging', 1), ('company', 1), ('longings', 1), ('awesomeness', 1), ('girl', 1), ('makeup', 1), ('amsterdam', 1), ('amorality', 1), ('correct-way', 1), ('my-way', 1), ('only-way', 1), ('right-way', 1), ('the-way', 1), ('your-way', 1), ('vulnerability', 1), ('god-religion-house', 1), ('christopher-paolini', 1), ('eragon', 1), ('good-reads', 1), ('kaz-brekker', 1), ('humor-satan', 1), ('misattributed-to-groucho-marx', 1), ('advocacy', 1), ('dissent', 1), ('protest', 1), ('alice-s-adventures-in-wonderland', 1), ('anti-christian', 1), ('christians', 1), ('jesus-christ', 1), ('1997', 1), ('annie-clark-tanner-lecture', 1), ('procrastinate', 1), ('drama', 1), ('plays', 1), ('vision', 1), ('name-of-the-wind', 1), ('re-reading', 1), ('busy', 1), ('call', 1), ('dating-advice', 1), ('greg-behrendt', 1), ('guys', 1), ('he-s-not-just-into-you', 1), ('discworld', 1), ('humbert-humbert', 1), ('patriotism', 1), ('tyler-durden', 1), ('grudge', 1), ('broken-glass', 1), ('glass', 1), ('moonshine', 1), ('show-don-t-tell', 1), ('completion', 1), ('grow', 1), ('stay-focused', 1), ('step-out-of-comfort-zone', 1), ('gods', 1), ('thalia', 1), ('hazel-grace', 1), ('who-you-are', 1), ('whole-being', 1), ('less-more', 1), ('life-purpose', 1), ('stress', 1), ('stressed', 1), ('permission', 1), ('plant', 1), ('reap', 1), ('seed', 1), ('sow', 1), ('options', 1), ('rumi', 1), ('sufi', 1), ('calvin-and-hobbes-reality', 1), ('by-anne-sullivan', 1), ('others', 1), ('beatrice', 1), ('waiting', 1), ('cleverness', 1), ('share', 1), ('bookstore', 1), ('towns', 1), ('act', 1), ('criticize', 1), ('doing', 1), ('feeling', 1), ('ponder', 1), ('esist', 1), ('spinning', 1), ('stele', 1), ('reggae', 1), ('unsourced', 1), ('refuge', 1), ('ferret-malfoy', 1), ('death-peace', 1), ('breakfast', 1), ('leigh-bardugo', 1), ('choose', 1), ('fudge', 1), ('minister', 1), ('style', 1), ('independent-thought', 1), ('deep-thoughts', 1), ('reminding', 1), ('sophie-collins', 1), ('lost-innocence', 1), ('moving-forward', 1), ('delusion', 1), ('what-is-right', 1), ('aspiration', 1), ('assurance', 1), ('clouds', 1), ('color', 1), ('conviction', 1), ('sunset', 1), ('good-day', 1), ('how-many', 1), ('how-much', 1), ('live-well', 1), ('eyes', 1), ('lemons', 1), ('alcohol', 1), ('living-life-to-the-fullest', 1), ('diversity', 1), ('seduction', 1), ('albus-potter', 1), ('we-are-what-we-eat', 1), ('we-are-what-we-read', 1), ('you-are-what-you-eat', 1), ('you-are-what-you-read', 1), ('idleness', 1), ('flattery', 1), ('social-norms', 1), ('self-image', 1), ('sense-of-self', 1), ('trauma', 1), ('prejudice', 1), ('vanity', 1), ('recognition', 1), ('chapter-xxiii', 1), ('fuck', 1), ('profanity', 1), ('memoir', 1), ('dare-to-be', 1), ('seize-the-day', 1), ('urban-fantasy', 1), ('young-adult-novels', 1), ('forever', 1), ('what-men-really-want', 1), ('eccentricity', 1), ('chance', 1), ('1931', 1), ('perfect', 1), ('truthful', 1), ('owen-armstrong', 1), ('bereavement', 1), ('consolation', 1), ('investigation', 1), ('albert-einstein', 1), ('hamlet', 1), ('quitting', 1), ('ferret', 1), ('dandy', 1), ('lord-henry-wotton', 1), ('wilde', 1), ('inner-strength', 1), ('self-control', 1), ('remembrance', 1), ('fears', 1), ('amor-deliria-nervosa', 1), ('mask', 1), ('personality', 1), ('together', 1), ('energy', 1), ('the-last-song', 1), ('how', 1), ('questioning', 1), ('why', 1), ('troubles', 1), ('prince-charming', 1), ('taylor-swift', 1), ('abe', 1), ('lincoln', 1), ('apothegm', 1), ('talking', 1), ('final', 1), ('lupin', 1), ('sirius', 1), ('death-and-dying', 1), ('orhan-pamuk', 1), ('the-new-life', 1), ('eleven-minutes', 1), ('paulo-coelho', 1), ('catherine', 1), ('or-the-bower', 1), ('antolini', 1), ('cheese', 1), ('christina-grey', 1), ('e-l-james', 1), ('fifty-shades-of-grey', 1), ('amnesia', 1), ('magic-books', 1), ('endings', 1), ('happy-endings', 1), ('thievery', 1), ('treasure', 1), ('mood-swings', 1), ('shore', 1), ('woods', 1), ('francois-rabelais', 1), ('buddhism', 1), ('space', 1), ('Ø\\xadØ¨', 1), ('excuse', 1), ('chinese', 1), ('crisis', 1), ('danger', 1), ('h2g2', 1), ('hitchhiker-s-guide', 1), ('panic', 1), ('eternity', 1), ('holiness', 1), ('poet', 1), ('hippy', 1), ('william-gladstone', 1), ('needs', 1), ('intimidation', 1), ('stubbornness', 1), ('fearlessness', 1), ('steppenwolf', 1), ('star', 1), ('molly-weasley', 1), ('toilet', 1), ('french-renaissance-writer', 1), ('miles-halter', 1), ('mountains', 1), ('rocks', 1), ('contrast', 1), ('katharine-hepburn', 1), ('theresa-gray', 1), ('sinners', 1), ('defiance', 1), ('self-containment', 1), ('self-trust', 1), ('earnestness', 1), ('gullibility', 1), ('imposters', 1), ('goals-in-life', 1), ('light-and-darkness', 1), ('meaningful', 1), ('meaningful-life', 1), ('real-love', 1), ('reality-of-life', 1), ('those-who-love-us', 1), ('to-be-loved', 1), ('what-matters', 1), ('seperate', 1), ('body-image', 1), ('opposition', 1), ('spirit', 1), ('depression-silence', 1), ('awkward', 1), ('human-condition', 1), ('punishment', 1), ('jordan-baker', 1), ('cynic', 1), ('goal', 1), ('painting', 1), ('education-knowledge', 1), ('humor-cats-allergies', 1), ('machines', 1), ('ginny-weasley', 1), ('jk-rowling', 1), ('stephenie-meyer', 1), ('twilight', 1), ('poets', 1), ('cleanliness', 1), ('consciousness', 1), ('feet', 1), ('purity', 1), ('semantics', 1), ('suspicion', 1), ('david', 1), ('uglies', 1), ('westerfeld', 1), ('road', 1), ('real-life', 1), ('oppression', 1), ('invention', 1), ('self-assessment', 1), ('redemption', 1), ('bossypants', 1), ('tina-fey', 1), ('blues', 1), ('rescuing', 1), ('infinite-jest', 1), ('renewal', 1), ('most-famous-novella', 1), ('be-yourself-inspirational', 1), ('be-yourself-quote', 1), ('be-yourself-quotes', 1), ('enjoy-the-journey', 1), ('move-on', 1), ('lotr', 1), ('arts-and-humanities', 1), ('self-denial', 1), ('self-disclosure', 1), ('generations-intelligence-wisdom', 1), ('inspirational-stories', 1), ('self-realization', 1), ('dark-humor', 1), ('an-abundance-of-katherines', 1), ('joh-green', 1), ('missing', 1), ('feminist', 1), ('flexibility', 1), ('arrogance', 1), ('flirting', 1), ('scared', 1), ('stoicism', 1), ('afternoon', 1), ('december', 1), ('flewn', 1), ('june', 1), ('late', 1), ('soon', 1), ('dishonesty', 1), ('willful-ignorance', 1), ('mummies', 1), ('werewolf', 1), ('zombies', 1), ('good-life', 1), ('insults', 1), ('cynicism', 1), ('enduring', 1), ('going-on', 1), ('barrie', 1), ('kensington-gardens', 1), ('london', 1), ('neverland', 1), ('park', 1), ('peter-pan', 1), ('fallen-anger', 1), ('nephlim', 1), ('statistics', 1), ('injury', 1), ('mortification', 1), ('box', 1), ('eat-pray-love', 1), ('elizabeth-gilbert', 1), ('enthusiasm', 1), ('silliness', 1), ('grudges', 1), ('illusions', 1), ('acorns', 1), ('zoe-nightshade', 1), ('mina', 1), ('van-helsing', 1), ('autonomy', 1), ('bachelorhood', 1), ('matrimony', 1), ('singles', 1), ('emptiness', 1), ('franz-kafka', 1), ('bestseller', 1), ('north-carolina', 1), ('novel', 1), ('romantics', 1), ('greek', 1), ('sorry', 1), ('extraterrestrials', 1), ('intelligent-life', 1), ('mellark', 1), ('twilight-saga', 1), ('make-a-difference', 1), ('castle', 1), ('awesome-quote', 1), ('haymitch', 1), ('description', 1), ('beliefs', 1), ('courage-quotes', 1), ('herondale', 1), ('letter', 1), ('morgenstern', 1), ('wayland', 1), ('angels', 1), ('nagasawa', 1), ('pooh-bear', 1), ('winnie-the-pooh', 1), ('amity', 1), ('free-speech', 1), ('free-will', 1), ('amelia-peabody', 1), ('brave-new-world', 1), ('hunger', 1), ('thirst', 1), ('bibliophilia', 1), ('gender-roles', 1), ('lock-and-key', 1), ('news', 1), ('islam', 1), ('recovery', 1), ('explain', 1), ('public-opinion', 1), ('governments', 1), ('killing', 1), ('law', 1), ('murder', 1), ('nationalism', 1), ('nations', 1), ('songs', 1), ('socks', 1), ('rachel-elizabeth-dare', 1), ('self-empowerment', 1), ('neighborhoods', 1), ('brain', 1), ('arrow', 1), ('inej', 1), ('suli-poverb', 1), ('calling', 1), ('ferocity', 1), ('devotion', 1), ('dark', 1), ('close', 1), ('extremely', 1), ('foer', 1), ('incredibly', 1), ('jonathan', 1), ('safran', 1), ('agama', 1), ('agnosticism', 1), ('misattributed-grace-hopper', 1), ('misattributed-william-g-t-shedd', 1), ('dreamer', 1), ('liar', 1), ('make-believe', 1), ('wisher', 1), ('not-alone', 1), ('atlas', 1), ('shrugged', 1), ('realist', 1), ('poseidon', 1), ('claire-fraser', 1), ('historical-fiction', 1), ('time-travel', 1), ('clothing', 1), ('truth-lies', 1), ('october', 1), ('reading-secrets', 1), ('dramatist-quotes', 1), ('struggle', 1), ('never-stop-believing', 1), ('never-stop-learning', 1), ('try', 1), ('forgiving', 1), ('grieving', 1), ('reasoning', 1), ('brotherhood-of-man', 1), ('henry-miller', 1), ('design', 1), ('foolproof', 1), ('ingenuity', 1), ('pijamas', 1), ('johnny-cade', 1), ('ponyboy-curtis', 1), ('ralph-macchio', 1), ('difficulty', 1), ('storms', 1), ('teaching', 1), ('plants', 1), ('wilderness', 1), ('imperfection', 1), ('burdens', 1), ('unburdening', 1), ('weight', 1), ('enterprise', 1), ('confidences', 1), ('sharing-secrets', 1), ('deceit', 1), ('shock', 1), ('top-8', 1), ('obedience', 1), ('alchohol', 1), ('melancholy', 1), ('2013', 1), ('james-carstairs', 1), ('finale-of-middlemarch', 1), ('tintern-abbey', 1), ('inevitability', 1), ('women-mothers', 1), ('acts-of-kindness', 1), ('dan-brown', 1), ('ugly', 1), ('gondor', 1), ('relaxation', 1), ('british', 1), ('thumb', 1), ('towel', 1), ('golda', 1), ('meir', 1), ('conversations', 1), ('distractions', 1), ('quiet', 1), ('forcasting', 1), ('mottos', 1), ('flying-spirit', 1), ('winds', 1), ('winds-of-life', 1), ('fahrenheit-451', 1), ('holden-caulfield', 1), ('save', 1), ('rythmic', 1), ('thoughtful', 1), ('homicide', 1), ('life-pattern', 1), ('newspapers', 1), ('impact', 1), ('reach-out', 1), ('goodwill', 1), ('goodbyes', 1), ('young-at-heart', 1), ('youthfulness', 1), ('mad-hatter', 1), ('witchcraft', 1), ('witches', 1), ('dangerous', 1), ('sentimentality', 1), ('habits', 1), ('hush-hush', 1), ('heartbreaking', 1), ('the-book-thief', 1), ('benjamin-button', 1), ('defend', 1), ('fantasy-books', 1), ('nietzsche', 1), ('defenses', 1), ('thorns', 1), ('government', 1), ('charming', 1), ('tedious', 1), ('privacy', 1), ('safety', 1), ('oaths', 1), ('slaughterhouse-five', 1), ('will-s-letter-to-tessa', 1), ('radiance', 1), ('speed-of-light', 1), ('knowing-others', 1), ('everything', 1), ('seeing', 1), ('teacher', 1), ('beyonce', 1), ('lady-gaga', 1), ('play', 1), ('rewind', 1), ('stop', 1), ('valentine', 1), ('little-women', 1), ('louisa-may-alcott', 1), ('cartoonist', 1), ('hopeless', 1), ('mouth', 1), ('museums', 1), ('parks', 1), ('sensation', 1), ('sex-appeal', 1), ('legacy', 1), ('attention', 1), ('lewis', 1), ('misery', 1), ('draco-malfoy', 1), ('quotation', 1), ('fred', 1), ('sonnet-xvii', 1), ('the-choice', 1), ('ghost', 1), ('jesper', 1), ('college', 1), ('semicolons', 1), ('warriors', 1), ('neurosis', 1), ('need', 1), ('ya', 1), ('agency', 1), ('god-religion-happiness', 1), ('apocryphal', 1), ('life-truths', 1), ('reality-check', 1), ('unfairness', 1), ('inspirational-ship-storms', 1), ('writing-from-the-heart', 1), ('boredom', 1), ('old-books', 1), ('old-age', 1), ('misattributed-kurt-cobain', 1), ('frodo', 1), ('amazing-writing', 1), ('aesthetics', 1), ('hidden-things', 1), ('courtroom-drama', 1), ('abe-mazur', 1), ('last-sacrifice', 1), ('rosemarie-hathaway', 1), ('eccentric', 1), ('house', 1), ('windows', 1), ('nothing', 1), ('incrementalism', 1), ('pets', 1), ('shelter', 1), ('kvothe', 1), ('man-s', 1), ('name', 1), ('wind', 1), ('sense', 1), ('gray-book', 1), ('hodge', 1), ('sci-fi', 1), ('vorkosigan', 1), ('cracks', 1), ('peeves', 1), ('umbridge', 1), ('forgive', 1), ('satirical', 1), ('heal', 1), ('safe', 1), ('albert', 1), ('equations', 1), ('wayfinding', 1), ('humor-tattoo', 1), ('babies', 1), ('children-s-literature', 1), ('idiocy', 1), ('concern', 1), ('apocalypse', 1), ('misattributed-stephen-hawking', 1), ('jacob', 1), ('meyer', 1), ('catatonia', 1), ('coma', 1), ('cinna', 1), ('foreshadowing', 1), ('macbeth', 1), ('hindsight', 1), ('philosophical', 1), ('diary', 1), ('musical', 1), ('being-yourself', 1), ('shine', 1), ('vegetarianism', 1), ('submission', 1), ('superiority', 1), ('ocean', 1), ('self-help', 1), ('katniss-and-peeta', 1), ('frienship', 1), ('mail', 1), ('simon_bolivar-s_labyrinth', 1), ('vampire-academy', 1), ('atoms', 1), ('cosmos', 1), ('dna', 1), ('films', 1), ('story-people', 1), ('phenomenal-woman', 1), ('shadowhunters', 1), ('coffee', 1), ('single', 1), ('spinsterhood', 1), ('on-the-road', 1), ('sal-paradise', 1), ('person', 1), ('desperate', 1), ('losing', 1), ('nostalgia', 1), ('dog', 1), ('famous', 1), ('valour', 1), ('mara-dyer', 1), ('bad-day', 1), ('inconvenient', 1), ('loyalty', 1), ('insincerity', 1), ('role-models', 1), ('barriers', 1), ('failures', 1), ('demographics', 1), ('common-experience', 1), ('taking-chances', 1), ('incredibly-true', 1), ('mutuality', 1), ('reciprocity', 1), ('aloneness', 1), ('common-ground', 1), ('loved-ones', 1), ('behind', 1), ('of', 1), ('thing', 1), ('assassin', 1), ('inkheart', 1), ('labels', 1), ('names', 1), ('enjoy', 1), ('separation', 1), ('academy', 1), ('mead', 1), ('richelle', 1), ('at-first-sight', 1), ('tough-times', 1), ('rich', 1), ('rich-heart', 1), ('richness', 1), ('comfort-zone', 1), ('start-up', 1), ('step-out-of-your-comfort-zone', 1), ('toltec-wisdom', 1), ('self-loathing', 1), ('no-fear', 1), ('sea', 1), ('limit', 1), ('craziness', 1), ('arts', 1), ('adoration', 1), ('anxiety', 1), ('dizziness', 1), ('eastern-philosophy', 1), ('challanges', 1), ('beatnik', 1), ('misattributed-betty-white', 1), ('lamp', 1), ('warrior', 1), ('the-mortal-instruments', 1), ('tmi', 1), ('individualism', 1), ('lena-holoway', 1), ('2008', 1), ('morning', 1), ('waking-up', 1), ('defiant', 1), ('self-belief', 1), ('self-worth', 1), ('fountainhead', 1), ('diary-entry', 1), ('internet', 1), ('pedophile', 1), ('pedophilia', 1), ('2012', 1), ('blog', 1), ('shelves', 1), ('high-school', 1), ('teenage-love', 1), ('fellowship', 1), ('gamgee', 1), ('hobbit', 1), ('samwise', 1), ('tolkien', 1), ('tired', 1), ('recollection', 1), ('systems', 1), ('mothers-day', 1), ('rewriting-history', 1), ('anne-rice', 1), ('pandora', 1), ('teasing', 1), ('malfoy', 1), ('unbreakable-vow', 1), ('speech', 1), ('grammar', 1), ('heartfelt', 1), ('shame', 1), ('maia', 1), ('judging-from-experience', 1), ('unseen', 1), ('honor', 1), ('elections', 1), ('rulers', 1), ('ruby', 1), ('childhood-memory', 1), ('jordan-kyle', 1), ('clean', 1), ('dirt', 1), ('good-evil', 1), ('adam', 1), ('ignite-me', 1), ('unbreakable', 1), ('canoodle', 1), ('magnificent', 1), ('zsadist', 1), ('trials-of-life', 1), ('absurdities', 1), ('atrocities', 1), ('barbarity', 1), ('injustice', 1), ('skepticism', 1), ('right-of-passage', 1), ('silly-chinese-canadian-baby-man', 1), ('narrator', 1), ('the-great-gatsby', 1), ('novelty', 1), ('soulmates', 1), ('misattributed-george-santayana', 1), ('dare', 1), ('waste', 1), ('dissapointment', 1), ('athe-plague-of-dives', 1), ('dissatisfaction', 1), ('good-books', 1), ('diplomacy', 1), ('ruby-anger', 1), ('flowers', 1), ('sky', 1), ('james-bond', 1), ('fallen-angels', 1), ('devil', 1), ('escape', 1), ('intoxication', 1), ('suess', 1), ('wilhelm-stekel', 1), ('posiedon', 1), ('the-lightning-thief', 1), ('zeus', 1), ('e-readers', 1), ('kindle', 1), ('immature', 1), ('young', 1), ('own', 1), ('things', 1), ('advice-for-writers', 1), ('mythological', 1), ('paradise', 1), ('changes', 1), ('exploration', 1), ('layken', 1), ('slammed', 1), ('disease', 1), ('reality-bothered', 1), ('inspirational-human-spirit', 1), ('alec', 1), ('max', 1), ('men-and-women', 1), ('prose', 1), ('control', 1), ('mother', 1), ('adrian-ivashkov', 1), ('intent', 1), ('humor-mustache', 1), ('life-dreams', 1), ('demon', 1), ('pox', 1), ('novelist', 1), ('ghosts', 1), ('haunt', 1), ('appearance', 1), ('jokes', 1), ('before-i-fall', 1), ('denial', 1), ('risk-taking', 1), ('boldness', 1), ('food-discussion', 1), ('peanut-butter', 1), ('tyson', 1), ('just-do-it', 1), ('proactivity', 1), ('volunteerism', 1), ('expression', 1), ('finding-your-voice', 1), ('haunting', 1), ('humor-sarcasm', 1), ('reputation', 1), ('inventing-humor', 1), ('intellect', 1), ('forgetfulness', 1), ('psychotherapist', 1), ('visions', 1), ('ecology', 1), ('witch', 1), ('confused', 1), ('age-adult', 1), ('crescendo', 1), ('host', 1), ('ian', 1), ('jamie', 1), ('jared', 1), ('melanie', 1), ('uncle-jeb', 1), ('wanda', 1), ('sonnet', 1), ('agree', 1), ('abraham-lincoln', 1), ('bathing', 1), ('reticence', 1), ('women-s-strenth', 1), ('dorian-gray', 1), ('robert-foster', 1), ('love-friendship', 1), ('chaol-westfall', 1), ('books-bible', 1), ('greedy', 1), ('myself', 1), ('selfish', 1), ('fresh-starts', 1), ('new-beginnings', 1), ('reinvention', 1), ('alyson', 1), ('evermore', 1), ('immortals', 1), ('noel', 1), ('elite', 1), ('elitism', 1), ('elitist', 1), ('voter', 1), ('voting', 1), ('stories-writing', 1), ('self-knowledge', 1), ('book-the-count-of-monte-cristo', 1), ('puck', 1), ('bridge', 1), ('dhampir', 1), ('promise', 1), ('stake', 1), ('strigoi', 1), ('mormont', 1), ('cruelty', 1), ('alaska-young', 1), ('blackjack', 1), ('dionysus', 1), ('birthday', 1), ('hagrid', 1), ('pig', 1), ('injuries', 1), ('doubt', 1), ('records', 1), ('gaiman', 1), ('gandhi', 1), ('martyrdom', 1), ('misattributed-to-albert-camus', 1), ('pacifism', 1), ('principles', 1), ('muggles', 1), ('aristotle', 1), ('great-minds', 1), ('buddism', 1), ('mourning', 1), ('broken-families', 1), ('divorce', 1), ('family-ties', 1), ('soul-ties', 1), ('the-nature-of-family', 1), ('true-family', 1), ('absence', 1), ('grandmothers', 1), ('grandparents', 1), ('walking', 1), ('whiskey', 1), ('concealment', 1), ('dark-plans', 1), ('stealth', 1), ('femininity', 1), ('essay', 1), ('lecture', 1), ('nonfiction', 1), ('transcendentalism', 1), ('morganvillevampires', 1), ('capability', 1), ('possibility', 1), ('skills', 1), ('sexuality', 1), ('wisedom', 1), ('this-lullaby', 1), ('anais', 1), ('nin', 1), ('gonzo', 1), ('detection', 1), ('evidence', 1), ('obviousness', 1), ('sherlock-holmes', 1), ('assumptions', 1), ('close-mindedness', 1), ('isaac-asimov', 1), ('open-minds', 1), ('receptivity', 1), ('science-of-mind', 1), ('christina', 1), ('veronica-roth', 1), ('anarchy', 1), ('lateral-thinking', 1), ('rationalism', 1), ('zarek', 1), ('april', 1), ('dystopia', 1), ('possiblity', 1), ('drunk', 1), ('wine', 1), ('confession', 1), ('excuses', 1), ('aciman', 1), ('call-me-by-your-name', 1), ('italy', 1), ('intellectuals', 1), ('scholars', 1), ('knowledge-power', 1), ('elizabethan', 1), ('robin-goodfellow', 1), ('angel', 1), ('nora-grey', 1), ('chapter-one', 1), ('city-of-lost-souls', 1), ('limitations', 1), ('talents', 1), ('falling', 1), ('lesson-on-living', 1), ('paramore', 1), ('singer', 1), ('stand', 1), ('unhappy-life', 1), ('love-quotes', 1), ('clock', 1), ('ticking', 1), ('all-the-bright-places', 1), ('discipline', 1), ('grisha', 1), ('the-beatrice-letters', 1), ('honest', 1), ('integrity-quotes', 1), ('listen', 1), ('speak', 1), ('death-of-a-loved-one', 1), ('force', 1), ('idiots', 1), ('life-humor', 1), ('adults', 1), ('antoine-de-saint-exupery', 1), ('realization', 1), ('sebastian', 1), ('valentine-morgenstern', 1), ('antipathy', 1), ('dislike', 1), ('talk', 1), ('stephen-chbosky', 1), ('trap', 1), ('openness', 1), ('atheist', 1), ('church', 1), ('swear', 1), ('afraid', 1), ('frolick', 1), ('remember', 1), ('twirl', 1), ('connecting', 1), ('rebirth', 1), ('inequality', 1), ('hunger-games-peeta-katniss', 1), ('the-selection', 1), ('doctor-who', 1), ('dracula', 1), ('misattributed-to-chalmers', 1), ('misattributed-to-joseph-addison', 1), ('misattributed-to-kant', 1), ('misattributed-tom-bodett', 1), ('rena-silverman', 1), ('samuel-beckett', 1), ('new-england-wisdom', 1), ('celebrity', 1), ('aspirations', 1), ('ardor', 1), ('heathcliff', 1), ('cows', 1), ('pigs', 1), ('sausage', 1), ('question', 1), ('thought-provoking', 1), ('characters', 1), ('touchstones', 1), ('true-to-self', 1), ('wring', 1), ('lust', 1), ('misattributed-goethe', 1), ('today', 1), ('just-listen', 1), ('owen', 1), ('sara-dessen', 1)]\n"
     ]
    }
   ],
   "source": [
    "# Let us sort the dictionary in descending order of the frequencies:\n",
    "tag_freq_sorted = sorted(tag_freq.items(), key=lambda x:x[1], reverse=True)\n",
    "print(tag_freq_sorted)"
   ]
  },
  {
   "cell_type": "code",
   "execution_count": 18,
   "metadata": {},
   "outputs": [
    {
     "name": "stdout",
     "output_type": "stream",
     "text": [
      "('love', 327)\n",
      "('inspirational', 319)\n",
      "('life', 295)\n",
      "('humor', 254)\n",
      "('books', 141)\n",
      "('inspiration', 87)\n",
      "('reading', 86)\n",
      "('happiness', 68)\n",
      "('writing', 67)\n",
      "('inspirational-quotes', 65)\n",
      "('friendship', 63)\n",
      "('wisdom', 62)\n",
      "('truth', 61)\n",
      "('philosophy', 60)\n",
      "('optimism', 48)\n",
      "('living', 48)\n",
      "('life-quotes', 48)\n",
      "('death', 47)\n",
      "('hope', 46)\n",
      "('poetry', 45)\n",
      "('romance', 45)\n",
      "('positive-affirmation', 41)\n",
      "('positive-thinking', 41)\n",
      "('women', 40)\n",
      "('life-lessons', 40)\n",
      "('optimistic', 40)\n",
      "('positive', 40)\n",
      "('positive-life', 40)\n",
      "('inspire', 38)\n",
      "('inspiring', 38)\n",
      "('courage', 37)\n",
      "('life-and-living', 36)\n",
      "('change', 34)\n",
      "('pain', 34)\n",
      "('funny', 34)\n",
      "('inspirational-life', 34)\n",
      "('relationships', 33)\n",
      "('religion', 32)\n",
      "('dreams', 31)\n",
      "('music', 31)\n",
      "('fear', 31)\n"
     ]
    }
   ],
   "source": [
    "# printing the top 40 most frequent tags\n",
    "for i in range(0, len(tag_freq_sorted)):\n",
    "    print(tag_freq_sorted[i])\n",
    "    if i == 40:\n",
    "        break\n"
   ]
  },
  {
   "cell_type": "markdown",
   "metadata": {},
   "source": [
    "From the above we can see two main issues with the tags as highlighted in blue and yellow:\n",
    "1. We can see different columns which conceptually mean the same thing however it is written in different ways. For example, inspirational, inspiration, inspire and inspiring – all mean the same thing. However, it is classified as different tags. For fixing this issue, we must perform lemmatization on the target column.\n",
    "2. We can see multiple different words separated by a hyphen. For example, positive-affirmation, life-lessons, etc. The hyphenated words must be handled by removing the ‘-‘ symbol. For example, ‘positive-thinking’ will be replaced with the tags positivethinking."
   ]
  },
  {
   "cell_type": "markdown",
   "metadata": {},
   "source": [
    "# Data Cleaning\n",
    "## Handling Words That Contain a Hyphen"
   ]
  },
  {
   "cell_type": "code",
   "execution_count": 19,
   "metadata": {},
   "outputs": [
    {
     "data": {
      "text/plain": [
       "['be-yourself',\n",
       " 'gilbert-perreira',\n",
       " 'honesty',\n",
       " 'inspirational',\n",
       " 'misattributed-oscar-wilde',\n",
       " 'quote-investigator']"
      ]
     },
     "execution_count": 19,
     "metadata": {},
     "output_type": "execute_result"
    }
   ],
   "source": [
    "dataset['tags'][0]"
   ]
  },
  {
   "cell_type": "code",
   "execution_count": 20,
   "metadata": {},
   "outputs": [
    {
     "data": {
      "text/plain": [
       "str"
      ]
     },
     "execution_count": 20,
     "metadata": {},
     "output_type": "execute_result"
    }
   ],
   "source": [
    "type(dataset['tags'][0][0])"
   ]
  },
  {
   "cell_type": "code",
   "execution_count": 21,
   "metadata": {},
   "outputs": [],
   "source": [
    "# removing '-' from hyphenated words:\n",
    "for i in range(0, len(dataset)):\n",
    "    for j in range(0, len(dataset['tags'][i])):\n",
    "        # in this loop we can go through individual tag elements\n",
    "        if('-' in dataset['tags'][i][j]):\n",
    "            # here the word contains a '-' character, therefore we can split the data\n",
    "            # print(dataset['tags'][i][j])\n",
    "            # new_split_strings = str(dataset['tags'][i][j]).split('-')\n",
    "            dataset['tags'][i][j] = dataset['tags'][i][j].replace(\"-\", \"\")\n",
    "            # print(dataset['tags'][i])\n",
    "            # print(\"This is the string: \"),\n",
    "            # print(new_split_strings)\n",
    "        # print(dataset['tags'][i][j]),\n",
    "    # print(dataset['tags'][i])\n",
    "    # below code was written for testing and as a safety measure\n",
    "    # if (i == 10):\n",
    "    #     break\n",
    "# print((dataset['tags'][0:11]))"
   ]
  },
  {
   "cell_type": "code",
   "execution_count": 22,
   "metadata": {},
   "outputs": [
    {
     "data": {
      "text/plain": [
       "0       [beyourself, gilbertperreira, honesty, inspira...\n",
       "1       [best, life, love, mistakes, outofcontrol, tru...\n",
       "2       [humannature, humor, infinity, philosophy, sci...\n",
       "3                                          [books, humor]\n",
       "4                                   [books, simile, soul]\n",
       "                              ...                        \n",
       "2503                               [morality, philosophy]\n",
       "2504                                 [happiness, success]\n",
       "2505                                  [inspirationallife]\n",
       "2506                              [comfort, home, winter]\n",
       "2507        [justlisten, loud, owen, saradessen, silence]\n",
       "Name: tags, Length: 2508, dtype: object"
      ]
     },
     "execution_count": 22,
     "metadata": {},
     "output_type": "execute_result"
    }
   ],
   "source": [
    "dataset['tags']"
   ]
  },
  {
   "cell_type": "code",
   "execution_count": 23,
   "metadata": {},
   "outputs": [],
   "source": [
    "# writing a function to calculate the count of tags and returning a list of tuples - [(tag, count of tag)]\n",
    "def calculate_count_of_tags(tags=dataset['tags']):\n",
    "    tag_count_dict = {}\n",
    "    for row in tags:\n",
    "        for tag in row:\n",
    "            if tag in tag_count_dict:\n",
    "                tag_count_dict[tag] += 1\n",
    "            else:\n",
    "                tag_count_dict[tag] = 1\n",
    "    # now sorting it based on the highest values\n",
    "    tag_freq_sorted = sorted(tag_count_dict.items(), key=lambda x:x[1], reverse=True)\n",
    "    return tag_freq_sorted\n",
    "    "
   ]
  },
  {
   "cell_type": "code",
   "execution_count": 24,
   "metadata": {},
   "outputs": [],
   "source": [
    "tag_freq_sorted = calculate_count_of_tags(tags=dataset['tags'])"
   ]
  },
  {
   "cell_type": "code",
   "execution_count": 25,
   "metadata": {},
   "outputs": [
    {
     "name": "stdout",
     "output_type": "stream",
     "text": [
      "('love', 327)\n",
      "('inspirational', 319)\n",
      "('life', 295)\n",
      "('humor', 254)\n",
      "('books', 141)\n",
      "('inspiration', 87)\n",
      "('reading', 86)\n",
      "('happiness', 68)\n",
      "('writing', 67)\n",
      "('inspirationalquotes', 65)\n",
      "('friendship', 63)\n",
      "('wisdom', 62)\n",
      "('truth', 61)\n",
      "('philosophy', 60)\n",
      "('optimism', 48)\n",
      "('living', 48)\n",
      "('lifequotes', 48)\n",
      "('death', 47)\n",
      "('hope', 46)\n",
      "('poetry', 45)\n",
      "('romance', 45)\n",
      "('positiveaffirmation', 41)\n",
      "('positivethinking', 41)\n",
      "('women', 40)\n",
      "('lifelessons', 40)\n",
      "('optimistic', 40)\n",
      "('positive', 40)\n",
      "('positivelife', 40)\n",
      "('inspire', 38)\n",
      "('inspiring', 38)\n",
      "('courage', 37)\n",
      "('lifeandliving', 36)\n",
      "('change', 34)\n",
      "('pain', 34)\n",
      "('funny', 34)\n",
      "('inspirationallife', 34)\n",
      "('relationships', 33)\n",
      "('religion', 32)\n",
      "('dreams', 31)\n",
      "('music', 31)\n"
     ]
    }
   ],
   "source": [
    "# looking at the top 40 most frequent tags:\n",
    "for i in range(0, len(tag_freq_sorted)):\n",
    "    print(tag_freq_sorted[i])\n",
    "    if(i==39):\n",
    "        break"
   ]
  },
  {
   "cell_type": "markdown",
   "metadata": {},
   "source": [
    "## Performing Lemmetization on Target Column"
   ]
  },
  {
   "cell_type": "code",
   "execution_count": 26,
   "metadata": {},
   "outputs": [
    {
     "name": "stderr",
     "output_type": "stream",
     "text": [
      "[nltk_data] Downloading package wordnet to\n",
      "[nltk_data]     /Users/rishabhkaushick/nltk_data...\n",
      "[nltk_data]   Package wordnet is already up-to-date!\n"
     ]
    }
   ],
   "source": [
    "import nltk\n",
    "from nltk.stem import WordNetLemmatizer\n",
    "\n",
    "nltk.download('wordnet')\n",
    "lemmatizer = WordNetLemmatizer()\n",
    "\n",
    "# lemmetizing all tags\n",
    "for i in range(0, len(dataset)):\n",
    "    for j in range(0, len(dataset['tags'][i])):\n",
    "        lemma = lemmatizer.lemmatize(dataset['tags'][i][j])\n",
    "        dataset['tags'][i][j] = lemma\n",
    "        # print(f\"Actual word {dataset['tags'][i][j]}. Lemmatized word by default: {lemma}\")\n",
    "    # if(i==30):\n",
    "    #     break"
   ]
  },
  {
   "cell_type": "code",
   "execution_count": 27,
   "metadata": {},
   "outputs": [
    {
     "data": {
      "text/plain": [
       "0       [beyourself, gilbertperreira, honesty, inspira...\n",
       "1       [best, life, love, mistake, outofcontrol, trut...\n",
       "2       [humannature, humor, infinity, philosophy, sci...\n",
       "3                                           [book, humor]\n",
       "4                                    [book, simile, soul]\n",
       "                              ...                        \n",
       "2503                               [morality, philosophy]\n",
       "2504                                 [happiness, success]\n",
       "2505                                  [inspirationallife]\n",
       "2506                              [comfort, home, winter]\n",
       "2507        [justlisten, loud, owen, saradessen, silence]\n",
       "Name: tags, Length: 2508, dtype: object"
      ]
     },
     "execution_count": 27,
     "metadata": {},
     "output_type": "execute_result"
    }
   ],
   "source": [
    "dataset['tags']"
   ]
  },
  {
   "cell_type": "code",
   "execution_count": 28,
   "metadata": {},
   "outputs": [
    {
     "name": "stdout",
     "output_type": "stream",
     "text": [
      "('love', 327)\n",
      "('inspirational', 319)\n",
      "('life', 295)\n",
      "('humor', 254)\n",
      "('book', 144)\n",
      "('inspiration', 87)\n",
      "('reading', 86)\n",
      "('happiness', 68)\n",
      "('writing', 67)\n",
      "('inspirationalquotes', 65)\n",
      "('friendship', 63)\n",
      "('wisdom', 62)\n",
      "('truth', 61)\n",
      "('philosophy', 60)\n",
      "('optimism', 48)\n",
      "('living', 48)\n",
      "('lifequotes', 48)\n",
      "('death', 47)\n",
      "('hope', 46)\n",
      "('poetry', 45)\n",
      "('romance', 45)\n",
      "('woman', 42)\n",
      "('positiveaffirmation', 41)\n",
      "('positivethinking', 41)\n",
      "('lifelessons', 40)\n",
      "('optimistic', 40)\n",
      "('positive', 40)\n",
      "('positivelife', 40)\n",
      "('dream', 38)\n",
      "('inspire', 38)\n",
      "('inspiring', 38)\n",
      "('courage', 37)\n",
      "('relationship', 36)\n",
      "('lifeandliving', 36)\n",
      "('change', 35)\n",
      "('pain', 34)\n",
      "('funny', 34)\n",
      "('inspirationallife', 34)\n",
      "('religion', 32)\n",
      "('fear', 32)\n",
      "('friend', 31)\n",
      "('music', 31)\n",
      "('jacewayland', 29)\n",
      "('god', 29)\n",
      "('strength', 28)\n",
      "('freedom', 28)\n",
      "('inspirationalattitude', 28)\n",
      "('motivational', 27)\n",
      "('loneliness', 27)\n",
      "('science', 26)\n",
      "('beauty', 26)\n",
      "('time', 25)\n",
      "('motivation', 25)\n",
      "('success', 24)\n",
      "('art', 23)\n",
      "('claryfray', 23)\n",
      "('education', 22)\n",
      "('faith', 22)\n",
      "('sadness', 22)\n",
      "('individuality', 21)\n",
      "('humour', 21)\n",
      "('selfdetermination', 20)\n",
      "('men', 20)\n",
      "('kindness', 19)\n",
      "('trust', 18)\n",
      "('jace', 18)\n",
      "('humanity', 18)\n",
      "('heart', 18)\n",
      "('reality', 17)\n",
      "('knowledge', 17)\n",
      "('empowerment', 17)\n",
      "('grief', 17)\n",
      "('future', 17)\n",
      "('beyourself', 16)\n",
      "('imagination', 16)\n",
      "('harrypotter', 16)\n",
      "('loss', 16)\n",
      "('soul', 15)\n",
      "('memory', 15)\n",
      "('learning', 15)\n",
      "('failure', 15)\n",
      "('marriage', 15)\n",
      "('dumbledore', 15)\n",
      "('literature', 15)\n",
      "('family', 15)\n",
      "('war', 15)\n",
      "('peace', 14)\n",
      "('world', 14)\n",
      "('travel', 14)\n",
      "('people', 14)\n",
      "('lettinggo', 14)\n",
      "('bravery', 13)\n",
      "('mortalinstruments', 13)\n",
      "('compassion', 13)\n",
      "('suffering', 13)\n",
      "('identity', 13)\n",
      "('depression', 13)\n",
      "('word', 13)\n",
      "('honesty', 12)\n",
      "('confidence', 12)\n",
      "('character', 12)\n"
     ]
    }
   ],
   "source": [
    "# running the count of tags again\n",
    "tag_freq_sorted = calculate_count_of_tags()\n",
    "for i in range(0, len(tag_freq_sorted)):\n",
    "    print(tag_freq_sorted[i])\n",
    "    if(i==100):\n",
    "        break"
   ]
  },
  {
   "cell_type": "markdown",
   "metadata": {},
   "source": [
    "However, we still can make it better. We can see some values which are similar like inspirational, inspiration, inspiring, and inspire. We can use the concept of stemming to further improve our target attribute - tags."
   ]
  },
  {
   "cell_type": "markdown",
   "metadata": {},
   "source": [
    "## Stemming on Target Column ('Tags')\n",
    "### Selection of Stemming Algorithm\n",
    "\n",
    "I decided to use and compare between Snowball and Lancaster Stemmer in this project for the following reasons:\n",
    "- Snowball Stemmer is an improved version of Porter Stemmer.\n",
    "- The Lancaster Stemmer has a higher chance of over-stemming (this phrase refers to those times when two different words lead to the same stem) due to its aggressive algorithm selection method in an iterative manner."
   ]
  },
  {
   "cell_type": "markdown",
   "metadata": {},
   "source": [
    "#### Snowball Stemmer"
   ]
  },
  {
   "cell_type": "code",
   "execution_count": 29,
   "metadata": {},
   "outputs": [
    {
     "name": "stdout",
     "output_type": "stream",
     "text": [
      "Using Snowball Stemmer: \n",
      "Actual word beyourself. Stemmed word : beyourself\n",
      "Actual word gilbertperreira. Stemmed word : gilbertperreira\n",
      "Actual word honesty. Stemmed word : honesti\n",
      "Actual word inspirational. Stemmed word : inspir\n",
      "Actual word misattributedoscarwilde. Stemmed word : misattributedoscarwild\n",
      "Actual word quoteinvestigator. Stemmed word : quoteinvestig\n",
      "Actual word best. Stemmed word : best\n",
      "Actual word life. Stemmed word : life\n",
      "Actual word love. Stemmed word : love\n",
      "Actual word mistake. Stemmed word : mistak\n",
      "Actual word outofcontrol. Stemmed word : outofcontrol\n",
      "Actual word truth. Stemmed word : truth\n",
      "Actual word worst. Stemmed word : worst\n",
      "Actual word humannature. Stemmed word : humannatur\n",
      "Actual word humor. Stemmed word : humor\n",
      "Actual word infinity. Stemmed word : infin\n",
      "Actual word philosophy. Stemmed word : philosophi\n",
      "Actual word science. Stemmed word : scienc\n",
      "Actual word stupidity. Stemmed word : stupid\n",
      "Actual word universe. Stemmed word : univers\n",
      "Actual word book. Stemmed word : book\n",
      "Actual word humor. Stemmed word : humor\n",
      "Actual word book. Stemmed word : book\n",
      "Actual word simile. Stemmed word : simil\n",
      "Actual word soul. Stemmed word : soul\n",
      "Actual word ataraxy. Stemmed word : ataraxi\n",
      "Actual word beyourself. Stemmed word : beyourself\n",
      "Actual word confidence. Stemmed word : confid\n",
      "Actual word fittingin. Stemmed word : fittingin\n",
      "Actual word individuality. Stemmed word : individu\n",
      "Actual word misattributeddrseuss. Stemmed word : misattributeddrseuss\n",
      "Actual word thosewhomatter. Stemmed word : thosewhomatt\n",
      "Actual word dance. Stemmed word : danc\n",
      "Actual word heaven. Stemmed word : heaven\n",
      "Actual word hurt. Stemmed word : hurt\n",
      "Actual word inspirational. Stemmed word : inspir\n",
      "Actual word life. Stemmed word : life\n",
      "Actual word love. Stemmed word : love\n",
      "Actual word sing. Stemmed word : sing\n",
      "Actual word dream. Stemmed word : dream\n",
      "Actual word love. Stemmed word : love\n",
      "Actual word reality. Stemmed word : realiti\n",
      "Actual word sleep. Stemmed word : sleep\n",
      "Actual word humor. Stemmed word : humor\n",
      "Actual word life. Stemmed word : life\n",
      "Actual word action. Stemmed word : action\n",
      "Actual word change. Stemmed word : chang\n",
      "Actual word inspirational. Stemmed word : inspir\n",
      "Actual word philosophy. Stemmed word : philosophi\n",
      "Actual word wish. Stemmed word : wish\n",
      "Actual word life. Stemmed word : life\n",
      "Actual word character. Stemmed word : charact\n",
      "Actual word siriusblack. Stemmed word : siriusblack\n",
      "Actual word friend. Stemmed word : friend\n",
      "Actual word friendship. Stemmed word : friendship\n",
      "Actual word misattributedalbertcamus. Stemmed word : misattributedalbertcamus\n",
      "Actual word lie. Stemmed word : lie\n",
      "Actual word lying. Stemmed word : lie\n",
      "Actual word memory. Stemmed word : memori\n",
      "Actual word truth. Stemmed word : truth\n",
      "Actual word friendship. Stemmed word : friendship\n",
      "Actual word friend. Stemmed word : friend\n",
      "Actual word friendship. Stemmed word : friendship\n",
      "Actual word knowledge. Stemmed word : knowledg\n",
      "Actual word love. Stemmed word : love\n",
      "Actual word enemy. Stemmed word : enemi\n",
      "Actual word forgiveness. Stemmed word : forgiv\n",
      "Actual word strategy. Stemmed word : strategi\n",
      "Actual word life. Stemmed word : life\n",
      "Actual word carpediem. Stemmed word : carpediem\n",
      "Actual word education. Stemmed word : educ\n",
      "Actual word inspirational. Stemmed word : inspir\n",
      "Actual word learning. Stemmed word : learn\n",
      "Actual word darkness. Stemmed word : dark\n",
      "Actual word driveout. Stemmed word : driveout\n",
      "Actual word hate. Stemmed word : hate\n",
      "Actual word inspirational. Stemmed word : inspir\n",
      "Actual word light. Stemmed word : light\n",
      "Actual word love. Stemmed word : love\n",
      "Actual word peace. Stemmed word : peac\n",
      "Actual word inspirational. Stemmed word : inspir\n",
      "Actual word music. Stemmed word : music\n",
      "Actual word philosophy. Stemmed word : philosophi\n",
      "Actual word inspirational. Stemmed word : inspir\n",
      "Actual word love. Stemmed word : love\n",
      "Actual word intelligence. Stemmed word : intellig\n",
      "Actual word selfdeprecation. Stemmed word : selfdeprec\n",
      "Actual word accomplishment. Stemmed word : accomplish\n",
      "Actual word beyourself. Stemmed word : beyourself\n",
      "Actual word conformity. Stemmed word : conform\n",
      "Actual word individuality. Stemmed word : individu\n",
      "Actual word advertising. Stemmed word : advertis\n",
      "Actual word apple. Stemmed word : appl\n",
      "Actual word change. Stemmed word : chang\n",
      "Actual word commercial. Stemmed word : commerci\n",
      "Actual word computer. Stemmed word : comput\n",
      "Actual word different. Stemmed word : differ\n",
      "Actual word madness. Stemmed word : mad\n",
      "Actual word misattributedapple. Stemmed word : misattributedappl\n",
      "Actual word misattributedstevejobs. Stemmed word : misattributedstevejob\n",
      "Actual word misfit. Stemmed word : misfit\n",
      "Actual word nonconformity. Stemmed word : nonconform\n",
      "Actual word progressive. Stemmed word : progress\n",
      "Actual word rebel. Stemmed word : rebel\n",
      "Actual word statusquo. Stemmed word : statusquo\n",
      "Actual word thinkdifferent. Stemmed word : thinkdiffer\n",
      "Actual word troublemaker. Stemmed word : troublemak\n",
      "Actual word humor. Stemmed word : humor\n",
      "Actual word insanity. Stemmed word : insan\n",
      "Actual word life. Stemmed word : life\n",
      "Actual word misattributedbenfranklin. Stemmed word : misattributedbenfranklin\n",
      "Actual word misattributedmarktwain. Stemmed word : misattributedmarktwain\n",
      "Actual word misattributedtoeinstein. Stemmed word : misattributedtoeinstein\n",
      "Actual word misattributedmarilynmonroe. Stemmed word : misattributedmarilynmonro\n",
      "Actual word action. Stemmed word : action\n",
      "Actual word disappointed. Stemmed word : disappoint\n",
      "Actual word disappointment. Stemmed word : disappoint\n",
      "Actual word dream. Stemmed word : dream\n",
      "Actual word dream. Stemmed word : dream\n",
      "Actual word explore. Stemmed word : explor\n",
      "Actual word misattributedmarktwain. Stemmed word : misattributedmarktwain\n",
      "Actual word sail. Stemmed word : sail\n",
      "Actual word life. Stemmed word : life\n",
      "Actual word love. Stemmed word : love\n",
      "Actual word love. Stemmed word : love\n",
      "Actual word frost. Stemmed word : frost\n",
      "Actual word glitter. Stemmed word : glitter\n",
      "Actual word gold. Stemmed word : gold\n",
      "Actual word lost. Stemmed word : lost\n",
      "Actual word poetry. Stemmed word : poetri\n",
      "Actual word root. Stemmed word : root\n",
      "Actual word strength. Stemmed word : strength\n",
      "Actual word strong. Stemmed word : strong\n",
      "Actual word wander. Stemmed word : wander\n",
      "Actual word wither. Stemmed word : wither\n"
     ]
    }
   ],
   "source": [
    "from nltk.stem import SnowballStemmer\n",
    "\n",
    "snowball_stemmer = SnowballStemmer(\"english\")\n",
    "\n",
    "print(\"Using Snowball Stemmer: \")\n",
    "for i in range(0, len(dataset)):\n",
    "    for j in range(0, len(dataset['tags'][i])):\n",
    "        stem = snowball_stemmer.stem(dataset['tags'][i][j])\n",
    "        # dataset['tags'][i][j] = stem\n",
    "        print(f\"Actual word {dataset['tags'][i][j]}. Stemmed word : {stem}\")\n",
    "    if(i==30):\n",
    "        break"
   ]
  },
  {
   "cell_type": "markdown",
   "metadata": {},
   "source": [
    "#### Lancaster Stemmer"
   ]
  },
  {
   "cell_type": "code",
   "execution_count": 30,
   "metadata": {},
   "outputs": [
    {
     "name": "stdout",
     "output_type": "stream",
     "text": [
      "Using Lancaster Stemmer\n",
      "Actual word beyourself. Stemmed word : beyourself\n",
      "Actual word gilbertperreira. Stemmed word : gilbertperreir\n",
      "Actual word honesty. Stemmed word : honesty\n",
      "Actual word inspirational. Stemmed word : inspir\n",
      "Actual word misattributedoscarwilde. Stemmed word : misattributedoscarwild\n",
      "Actual word quoteinvestigator. Stemmed word : quoteinvestig\n",
      "Actual word best. Stemmed word : best\n",
      "Actual word life. Stemmed word : lif\n",
      "Actual word love. Stemmed word : lov\n",
      "Actual word mistake. Stemmed word : mistak\n",
      "Actual word outofcontrol. Stemmed word : outofcontrol\n",
      "Actual word truth. Stemmed word : tru\n",
      "Actual word worst. Stemmed word : worst\n",
      "Actual word humannature. Stemmed word : human\n",
      "Actual word humor. Stemmed word : hum\n",
      "Actual word infinity. Stemmed word : infin\n",
      "Actual word philosophy. Stemmed word : philosoph\n",
      "Actual word science. Stemmed word : sci\n",
      "Actual word stupidity. Stemmed word : stupid\n",
      "Actual word universe. Stemmed word : univers\n",
      "Actual word book. Stemmed word : book\n",
      "Actual word humor. Stemmed word : hum\n",
      "Actual word book. Stemmed word : book\n",
      "Actual word simile. Stemmed word : simil\n",
      "Actual word soul. Stemmed word : soul\n",
      "Actual word ataraxy. Stemmed word : ataraxy\n",
      "Actual word beyourself. Stemmed word : beyourself\n",
      "Actual word confidence. Stemmed word : confid\n",
      "Actual word fittingin. Stemmed word : fittingin\n",
      "Actual word individuality. Stemmed word : individ\n",
      "Actual word misattributeddrseuss. Stemmed word : misattributeddrseuss\n",
      "Actual word thosewhomatter. Stemmed word : thosewhomat\n",
      "Actual word dance. Stemmed word : dant\n",
      "Actual word heaven. Stemmed word : heav\n",
      "Actual word hurt. Stemmed word : hurt\n",
      "Actual word inspirational. Stemmed word : inspir\n",
      "Actual word life. Stemmed word : lif\n",
      "Actual word love. Stemmed word : lov\n",
      "Actual word sing. Stemmed word : sing\n",
      "Actual word dream. Stemmed word : dream\n",
      "Actual word love. Stemmed word : lov\n",
      "Actual word reality. Stemmed word : real\n",
      "Actual word sleep. Stemmed word : sleep\n",
      "Actual word humor. Stemmed word : hum\n",
      "Actual word life. Stemmed word : lif\n",
      "Actual word action. Stemmed word : act\n",
      "Actual word change. Stemmed word : chang\n",
      "Actual word inspirational. Stemmed word : inspir\n",
      "Actual word philosophy. Stemmed word : philosoph\n",
      "Actual word wish. Stemmed word : wish\n",
      "Actual word life. Stemmed word : lif\n",
      "Actual word character. Stemmed word : charact\n",
      "Actual word siriusblack. Stemmed word : siriusblack\n",
      "Actual word friend. Stemmed word : friend\n",
      "Actual word friendship. Stemmed word : friend\n",
      "Actual word misattributedalbertcamus. Stemmed word : misattributedalbertcam\n",
      "Actual word lie. Stemmed word : lie\n",
      "Actual word lying. Stemmed word : lying\n",
      "Actual word memory. Stemmed word : mem\n",
      "Actual word truth. Stemmed word : tru\n",
      "Actual word friendship. Stemmed word : friend\n",
      "Actual word friend. Stemmed word : friend\n",
      "Actual word friendship. Stemmed word : friend\n",
      "Actual word knowledge. Stemmed word : knowledg\n",
      "Actual word love. Stemmed word : lov\n",
      "Actual word enemy. Stemmed word : enemy\n",
      "Actual word forgiveness. Stemmed word : forg\n",
      "Actual word strategy. Stemmed word : strategy\n",
      "Actual word life. Stemmed word : lif\n",
      "Actual word carpediem. Stemmed word : carpediem\n",
      "Actual word education. Stemmed word : educ\n",
      "Actual word inspirational. Stemmed word : inspir\n",
      "Actual word learning. Stemmed word : learn\n",
      "Actual word darkness. Stemmed word : dark\n",
      "Actual word driveout. Stemmed word : driveout\n",
      "Actual word hate. Stemmed word : hat\n",
      "Actual word inspirational. Stemmed word : inspir\n",
      "Actual word light. Stemmed word : light\n",
      "Actual word love. Stemmed word : lov\n",
      "Actual word peace. Stemmed word : peac\n",
      "Actual word inspirational. Stemmed word : inspir\n",
      "Actual word music. Stemmed word : mus\n",
      "Actual word philosophy. Stemmed word : philosoph\n",
      "Actual word inspirational. Stemmed word : inspir\n",
      "Actual word love. Stemmed word : lov\n",
      "Actual word intelligence. Stemmed word : intellig\n",
      "Actual word selfdeprecation. Stemmed word : selfdeprec\n",
      "Actual word accomplishment. Stemmed word : accompl\n",
      "Actual word beyourself. Stemmed word : beyourself\n",
      "Actual word conformity. Stemmed word : conform\n",
      "Actual word individuality. Stemmed word : individ\n",
      "Actual word advertising. Stemmed word : advert\n",
      "Actual word apple. Stemmed word : appl\n",
      "Actual word change. Stemmed word : chang\n",
      "Actual word commercial. Stemmed word : commerc\n",
      "Actual word computer. Stemmed word : comput\n",
      "Actual word different. Stemmed word : diff\n",
      "Actual word madness. Stemmed word : mad\n",
      "Actual word misattributedapple. Stemmed word : misattributedappl\n",
      "Actual word misattributedstevejobs. Stemmed word : misattributedstevejob\n",
      "Actual word misfit. Stemmed word : misfit\n",
      "Actual word nonconformity. Stemmed word : nonconform\n",
      "Actual word progressive. Stemmed word : progress\n",
      "Actual word rebel. Stemmed word : rebel\n",
      "Actual word statusquo. Stemmed word : statusquo\n",
      "Actual word thinkdifferent. Stemmed word : thinkdiff\n",
      "Actual word troublemaker. Stemmed word : troublemak\n",
      "Actual word humor. Stemmed word : hum\n",
      "Actual word insanity. Stemmed word : ins\n",
      "Actual word life. Stemmed word : lif\n",
      "Actual word misattributedbenfranklin. Stemmed word : misattributedbenfranklin\n",
      "Actual word misattributedmarktwain. Stemmed word : misattributedmarktwain\n",
      "Actual word misattributedtoeinstein. Stemmed word : misattributedtoeinstein\n",
      "Actual word misattributedmarilynmonroe. Stemmed word : misattributedmarilynmonro\n",
      "Actual word action. Stemmed word : act\n",
      "Actual word disappointed. Stemmed word : disappoint\n",
      "Actual word disappointment. Stemmed word : disappoint\n",
      "Actual word dream. Stemmed word : dream\n",
      "Actual word dream. Stemmed word : dream\n",
      "Actual word explore. Stemmed word : expl\n",
      "Actual word misattributedmarktwain. Stemmed word : misattributedmarktwain\n",
      "Actual word sail. Stemmed word : sail\n",
      "Actual word life. Stemmed word : lif\n",
      "Actual word love. Stemmed word : lov\n",
      "Actual word love. Stemmed word : lov\n",
      "Actual word frost. Stemmed word : frost\n",
      "Actual word glitter. Stemmed word : glit\n",
      "Actual word gold. Stemmed word : gold\n",
      "Actual word lost. Stemmed word : lost\n",
      "Actual word poetry. Stemmed word : poetry\n",
      "Actual word root. Stemmed word : root\n",
      "Actual word strength. Stemmed word : strength\n",
      "Actual word strong. Stemmed word : strong\n",
      "Actual word wander. Stemmed word : wand\n",
      "Actual word wither. Stemmed word : with\n"
     ]
    }
   ],
   "source": [
    "from nltk.stem import LancasterStemmer\n",
    "\n",
    "lancaster_stemmer = LancasterStemmer()\n",
    "print(\"Using Lancaster Stemmer\")\n",
    "for i in range(0, len(dataset)):\n",
    "    for j in range(0, len(dataset['tags'][i])):\n",
    "        stem = lancaster_stemmer.stem(dataset['tags'][i][j])\n",
    "        # dataset['tags'][i][j] = stem\n",
    "        print(f\"Actual word {dataset['tags'][i][j]}. Stemmed word : {stem}\")\n",
    "    if(i==30):\n",
    "        break"
   ]
  },
  {
   "cell_type": "markdown",
   "metadata": {},
   "source": [
    "#### Porter Stemmer"
   ]
  },
  {
   "cell_type": "code",
   "execution_count": 31,
   "metadata": {},
   "outputs": [
    {
     "name": "stdout",
     "output_type": "stream",
     "text": [
      "Using Porter Stemmer\n",
      "Actual word beyourself. Stemmed word : beyourself\n",
      "Actual word gilbertperreira. Stemmed word : gilbertperreira\n",
      "Actual word honesty. Stemmed word : honesti\n",
      "Actual word inspirational. Stemmed word : inspir\n",
      "Actual word misattributedoscarwilde. Stemmed word : misattributedoscarwild\n",
      "Actual word quoteinvestigator. Stemmed word : quoteinvestig\n",
      "Actual word best. Stemmed word : best\n",
      "Actual word life. Stemmed word : life\n",
      "Actual word love. Stemmed word : love\n",
      "Actual word mistake. Stemmed word : mistak\n",
      "Actual word outofcontrol. Stemmed word : outofcontrol\n",
      "Actual word truth. Stemmed word : truth\n",
      "Actual word worst. Stemmed word : worst\n",
      "Actual word humannature. Stemmed word : humannatur\n",
      "Actual word humor. Stemmed word : humor\n",
      "Actual word infinity. Stemmed word : infin\n",
      "Actual word philosophy. Stemmed word : philosophi\n",
      "Actual word science. Stemmed word : scienc\n",
      "Actual word stupidity. Stemmed word : stupid\n",
      "Actual word universe. Stemmed word : univers\n",
      "Actual word book. Stemmed word : book\n",
      "Actual word humor. Stemmed word : humor\n",
      "Actual word book. Stemmed word : book\n",
      "Actual word simile. Stemmed word : simil\n",
      "Actual word soul. Stemmed word : soul\n",
      "Actual word ataraxy. Stemmed word : ataraxi\n",
      "Actual word beyourself. Stemmed word : beyourself\n",
      "Actual word confidence. Stemmed word : confid\n",
      "Actual word fittingin. Stemmed word : fittingin\n",
      "Actual word individuality. Stemmed word : individu\n",
      "Actual word misattributeddrseuss. Stemmed word : misattributeddrseuss\n",
      "Actual word thosewhomatter. Stemmed word : thosewhomatt\n",
      "Actual word dance. Stemmed word : danc\n",
      "Actual word heaven. Stemmed word : heaven\n",
      "Actual word hurt. Stemmed word : hurt\n",
      "Actual word inspirational. Stemmed word : inspir\n",
      "Actual word life. Stemmed word : life\n",
      "Actual word love. Stemmed word : love\n",
      "Actual word sing. Stemmed word : sing\n",
      "Actual word dream. Stemmed word : dream\n",
      "Actual word love. Stemmed word : love\n",
      "Actual word reality. Stemmed word : realiti\n",
      "Actual word sleep. Stemmed word : sleep\n",
      "Actual word humor. Stemmed word : humor\n",
      "Actual word life. Stemmed word : life\n",
      "Actual word action. Stemmed word : action\n",
      "Actual word change. Stemmed word : chang\n",
      "Actual word inspirational. Stemmed word : inspir\n",
      "Actual word philosophy. Stemmed word : philosophi\n",
      "Actual word wish. Stemmed word : wish\n",
      "Actual word life. Stemmed word : life\n",
      "Actual word character. Stemmed word : charact\n",
      "Actual word siriusblack. Stemmed word : siriusblack\n",
      "Actual word friend. Stemmed word : friend\n",
      "Actual word friendship. Stemmed word : friendship\n",
      "Actual word misattributedalbertcamus. Stemmed word : misattributedalbertcamu\n",
      "Actual word lie. Stemmed word : lie\n",
      "Actual word lying. Stemmed word : lie\n",
      "Actual word memory. Stemmed word : memori\n",
      "Actual word truth. Stemmed word : truth\n",
      "Actual word friendship. Stemmed word : friendship\n",
      "Actual word friend. Stemmed word : friend\n",
      "Actual word friendship. Stemmed word : friendship\n",
      "Actual word knowledge. Stemmed word : knowledg\n",
      "Actual word love. Stemmed word : love\n",
      "Actual word enemy. Stemmed word : enemi\n",
      "Actual word forgiveness. Stemmed word : forgiv\n",
      "Actual word strategy. Stemmed word : strategi\n",
      "Actual word life. Stemmed word : life\n",
      "Actual word carpediem. Stemmed word : carpediem\n",
      "Actual word education. Stemmed word : educ\n",
      "Actual word inspirational. Stemmed word : inspir\n",
      "Actual word learning. Stemmed word : learn\n",
      "Actual word darkness. Stemmed word : dark\n",
      "Actual word driveout. Stemmed word : driveout\n",
      "Actual word hate. Stemmed word : hate\n",
      "Actual word inspirational. Stemmed word : inspir\n",
      "Actual word light. Stemmed word : light\n",
      "Actual word love. Stemmed word : love\n",
      "Actual word peace. Stemmed word : peac\n",
      "Actual word inspirational. Stemmed word : inspir\n",
      "Actual word music. Stemmed word : music\n",
      "Actual word philosophy. Stemmed word : philosophi\n",
      "Actual word inspirational. Stemmed word : inspir\n",
      "Actual word love. Stemmed word : love\n",
      "Actual word intelligence. Stemmed word : intellig\n",
      "Actual word selfdeprecation. Stemmed word : selfdeprec\n",
      "Actual word accomplishment. Stemmed word : accomplish\n",
      "Actual word beyourself. Stemmed word : beyourself\n",
      "Actual word conformity. Stemmed word : conform\n",
      "Actual word individuality. Stemmed word : individu\n",
      "Actual word advertising. Stemmed word : advertis\n",
      "Actual word apple. Stemmed word : appl\n",
      "Actual word change. Stemmed word : chang\n",
      "Actual word commercial. Stemmed word : commerci\n",
      "Actual word computer. Stemmed word : comput\n",
      "Actual word different. Stemmed word : differ\n",
      "Actual word madness. Stemmed word : mad\n",
      "Actual word misattributedapple. Stemmed word : misattributedappl\n",
      "Actual word misattributedstevejobs. Stemmed word : misattributedstevejob\n",
      "Actual word misfit. Stemmed word : misfit\n",
      "Actual word nonconformity. Stemmed word : nonconform\n",
      "Actual word progressive. Stemmed word : progress\n",
      "Actual word rebel. Stemmed word : rebel\n",
      "Actual word statusquo. Stemmed word : statusquo\n",
      "Actual word thinkdifferent. Stemmed word : thinkdiffer\n",
      "Actual word troublemaker. Stemmed word : troublemak\n",
      "Actual word humor. Stemmed word : humor\n",
      "Actual word insanity. Stemmed word : insan\n",
      "Actual word life. Stemmed word : life\n",
      "Actual word misattributedbenfranklin. Stemmed word : misattributedbenfranklin\n",
      "Actual word misattributedmarktwain. Stemmed word : misattributedmarktwain\n",
      "Actual word misattributedtoeinstein. Stemmed word : misattributedtoeinstein\n",
      "Actual word misattributedmarilynmonroe. Stemmed word : misattributedmarilynmonro\n",
      "Actual word action. Stemmed word : action\n",
      "Actual word disappointed. Stemmed word : disappoint\n",
      "Actual word disappointment. Stemmed word : disappoint\n",
      "Actual word dream. Stemmed word : dream\n",
      "Actual word dream. Stemmed word : dream\n",
      "Actual word explore. Stemmed word : explor\n",
      "Actual word misattributedmarktwain. Stemmed word : misattributedmarktwain\n",
      "Actual word sail. Stemmed word : sail\n",
      "Actual word life. Stemmed word : life\n",
      "Actual word love. Stemmed word : love\n",
      "Actual word love. Stemmed word : love\n",
      "Actual word frost. Stemmed word : frost\n",
      "Actual word glitter. Stemmed word : glitter\n",
      "Actual word gold. Stemmed word : gold\n",
      "Actual word lost. Stemmed word : lost\n",
      "Actual word poetry. Stemmed word : poetri\n",
      "Actual word root. Stemmed word : root\n",
      "Actual word strength. Stemmed word : strength\n",
      "Actual word strong. Stemmed word : strong\n",
      "Actual word wander. Stemmed word : wander\n",
      "Actual word wither. Stemmed word : wither\n"
     ]
    }
   ],
   "source": [
    "from nltk.stem import PorterStemmer\n",
    "\n",
    "porter_stemmer = PorterStemmer()\n",
    "print(\"Using Porter Stemmer\")\n",
    "for i in range(0, len(dataset)):\n",
    "    for j in range(0, len(dataset['tags'][i])):\n",
    "        stem = porter_stemmer.stem(dataset['tags'][i][j])\n",
    "        # dataset['tags'][i][j] = stem\n",
    "        print(f\"Actual word {dataset['tags'][i][j]}. Stemmed word : {stem}\")\n",
    "    if(i==30):\n",
    "        break"
   ]
  },
  {
   "cell_type": "markdown",
   "metadata": {},
   "source": [
    "All 3 stemming approaches do not give out meaningful results in this case. Since our tags must be linguistically meaningful, we will not be performing stemming. "
   ]
  },
  {
   "cell_type": "markdown",
   "metadata": {},
   "source": [
    "## Cleaning ‘Tags’ Column Further\n",
    "### Combining Similar Tags to 'Inspiring', 'Funny' or 'Sad'"
   ]
  },
  {
   "cell_type": "code",
   "execution_count": 32,
   "metadata": {},
   "outputs": [],
   "source": [
    "for i in range(0, len(dataset)):\n",
    "    for j in range(0, len(dataset['tags'][i])):\n",
    "        if dataset['tags'][i][j].lower() == 'inspirational' or dataset['tags'][i][j].lower() == 'inspiration' or dataset['tags'][i][j].lower() == 'inspire' or dataset['tags'][i][j].lower() == 'inspirationalquotes':\n",
    "            dataset['tags'][i][j] = 'inspiring'\n",
    "        if dataset['tags'][i][j].lower() == 'humour' or dataset['tags'][i][j].lower() == 'humor':\n",
    "            dataset['tags'][i][j] = 'funny'\n",
    "        if dataset['tags'][i][j].lower() == 'depression':\n",
    "            dataset['tags'][i][j] = 'sadness'\n",
    "        if dataset['tags'][i][j].lower() == 'lifequotes':\n",
    "            dataset['tags'][i][j] = 'life'\n",
    "    # if(i==500):\n",
    "    #     break"
   ]
  },
  {
   "cell_type": "code",
   "execution_count": 33,
   "metadata": {},
   "outputs": [
    {
     "name": "stdout",
     "output_type": "stream",
     "text": [
      "The 20 most frequent tags are:\n",
      "('inspiring', 547)\n",
      "('life', 343)\n",
      "('love', 327)\n",
      "('funny', 309)\n",
      "('book', 144)\n",
      "('reading', 86)\n",
      "('happiness', 68)\n",
      "('writing', 67)\n",
      "('friendship', 63)\n",
      "('wisdom', 62)\n",
      "('truth', 61)\n",
      "('philosophy', 60)\n",
      "('optimism', 48)\n",
      "('living', 48)\n",
      "('death', 47)\n",
      "('hope', 46)\n",
      "('poetry', 45)\n",
      "('romance', 45)\n",
      "('woman', 42)\n",
      "('positiveaffirmation', 41)\n"
     ]
    }
   ],
   "source": [
    "# running the count of tags again\n",
    "print(\"The 20 most frequent tags are:\")\n",
    "top_20_tags = []\n",
    "tag_freq_sorted = calculate_count_of_tags()\n",
    "for i in range(0, len(tag_freq_sorted)):\n",
    "    print(tag_freq_sorted[i])\n",
    "    top_20_tags.append(tag_freq_sorted[i][0])\n",
    "    if(i==19):\n",
    "        break"
   ]
  },
  {
   "cell_type": "markdown",
   "metadata": {},
   "source": [
    "## Reducing Tags for a Simple Model"
   ]
  },
  {
   "cell_type": "code",
   "execution_count": 34,
   "metadata": {},
   "outputs": [],
   "source": [
    "# cleaning the data and removing all the tags except for the 20 most frequent tags.\n",
    "\n",
    "columns = ['quote', 'author', 'tags']\n",
    "top_20_tags_df = pd.DataFrame(columns=columns)\n",
    "\n",
    "for i in range(0, len(dataset)):\n",
    "    # creating a set so that duplicates are removed\n",
    "    tag_set = set(dataset['tags'][i])\n",
    "    # since sets do not allow direct access to elements, resetting it to a list\n",
    "    tag_list = list(tag_set)\n",
    "\n",
    "    updated_tags = []\n",
    "    # iterating through items in tag items\n",
    "    for j in range(0, len(tag_list)):\n",
    "        if (tag_list[j] in top_20_tags):\n",
    "            # print(f'{tag_list[j]} is  in the list.')\n",
    "            updated_tags.append(tag_list[j])\n",
    "    \n",
    "    # creating a new row\n",
    "    # new_row = {'quote': dataset['quote'][i],\n",
    "    #            'author': dataset['author'][i],\n",
    "    #            'tags': updated_tags}\n",
    "    # print(new_row)\n",
    "\n",
    "    # adding the new row into the new dataframe (more efficient way of inserting items to df)\n",
    "    top_20_tags_df.loc[len(top_20_tags_df)] = [dataset['quote'][i], dataset['author'][i], updated_tags]\n",
    "\n",
    "    # for testing\n",
    "    # if (i==15):\n",
    "    #     break"
   ]
  },
  {
   "cell_type": "code",
   "execution_count": 35,
   "metadata": {},
   "outputs": [
    {
     "data": {
      "text/html": [
       "<div>\n",
       "<style scoped>\n",
       "    .dataframe tbody tr th:only-of-type {\n",
       "        vertical-align: middle;\n",
       "    }\n",
       "\n",
       "    .dataframe tbody tr th {\n",
       "        vertical-align: top;\n",
       "    }\n",
       "\n",
       "    .dataframe thead th {\n",
       "        text-align: right;\n",
       "    }\n",
       "</style>\n",
       "<table border=\"1\" class=\"dataframe\">\n",
       "  <thead>\n",
       "    <tr style=\"text-align: right;\">\n",
       "      <th></th>\n",
       "      <th>quote</th>\n",
       "      <th>author</th>\n",
       "      <th>tags</th>\n",
       "    </tr>\n",
       "  </thead>\n",
       "  <tbody>\n",
       "    <tr>\n",
       "      <th>0</th>\n",
       "      <td>“Be yourself; everyone else is already taken.”</td>\n",
       "      <td>Oscar Wilde</td>\n",
       "      <td>[inspiring]</td>\n",
       "    </tr>\n",
       "    <tr>\n",
       "      <th>1</th>\n",
       "      <td>“I'm selfish, impatient and a little insecure....</td>\n",
       "      <td>Marilyn Monroe</td>\n",
       "      <td>[truth, love, life]</td>\n",
       "    </tr>\n",
       "    <tr>\n",
       "      <th>2</th>\n",
       "      <td>“Two things are infinite: the universe and hum...</td>\n",
       "      <td>Albert Einstein</td>\n",
       "      <td>[funny, philosophy]</td>\n",
       "    </tr>\n",
       "    <tr>\n",
       "      <th>3</th>\n",
       "      <td>“So many books, so little time.”</td>\n",
       "      <td>Frank Zappa</td>\n",
       "      <td>[funny, book]</td>\n",
       "    </tr>\n",
       "    <tr>\n",
       "      <th>4</th>\n",
       "      <td>“A room without books is like a body without a...</td>\n",
       "      <td>Marcus Tullius Cicero</td>\n",
       "      <td>[book]</td>\n",
       "    </tr>\n",
       "    <tr>\n",
       "      <th>...</th>\n",
       "      <td>...</td>\n",
       "      <td>...</td>\n",
       "      <td>...</td>\n",
       "    </tr>\n",
       "    <tr>\n",
       "      <th>2503</th>\n",
       "      <td>“Morality is simply the attitude we adopt towa...</td>\n",
       "      <td>Oscar Wilde,</td>\n",
       "      <td>[philosophy]</td>\n",
       "    </tr>\n",
       "    <tr>\n",
       "      <th>2504</th>\n",
       "      <td>“Don't aim at success. The more you aim at it ...</td>\n",
       "      <td>Viktor E. Frankl,</td>\n",
       "      <td>[happiness]</td>\n",
       "    </tr>\n",
       "    <tr>\n",
       "      <th>2505</th>\n",
       "      <td>“In life, finding a voice is speaking and livi...</td>\n",
       "      <td>John Grisham</td>\n",
       "      <td>[]</td>\n",
       "    </tr>\n",
       "    <tr>\n",
       "      <th>2506</th>\n",
       "      <td>“Winter is the time for comfort, for good food...</td>\n",
       "      <td>Edith Sitwell</td>\n",
       "      <td>[]</td>\n",
       "    </tr>\n",
       "    <tr>\n",
       "      <th>2507</th>\n",
       "      <td>“Silence is so freaking loud”</td>\n",
       "      <td>Sarah Dessen,</td>\n",
       "      <td>[]</td>\n",
       "    </tr>\n",
       "  </tbody>\n",
       "</table>\n",
       "<p>2508 rows × 3 columns</p>\n",
       "</div>"
      ],
      "text/plain": [
       "                                                  quote  \\\n",
       "0        “Be yourself; everyone else is already taken.”   \n",
       "1     “I'm selfish, impatient and a little insecure....   \n",
       "2     “Two things are infinite: the universe and hum...   \n",
       "3                      “So many books, so little time.”   \n",
       "4     “A room without books is like a body without a...   \n",
       "...                                                 ...   \n",
       "2503  “Morality is simply the attitude we adopt towa...   \n",
       "2504  “Don't aim at success. The more you aim at it ...   \n",
       "2505  “In life, finding a voice is speaking and livi...   \n",
       "2506  “Winter is the time for comfort, for good food...   \n",
       "2507                      “Silence is so freaking loud”   \n",
       "\n",
       "                     author                 tags  \n",
       "0               Oscar Wilde          [inspiring]  \n",
       "1            Marilyn Monroe  [truth, love, life]  \n",
       "2           Albert Einstein  [funny, philosophy]  \n",
       "3               Frank Zappa        [funny, book]  \n",
       "4     Marcus Tullius Cicero               [book]  \n",
       "...                     ...                  ...  \n",
       "2503           Oscar Wilde,         [philosophy]  \n",
       "2504      Viktor E. Frankl,          [happiness]  \n",
       "2505           John Grisham                   []  \n",
       "2506          Edith Sitwell                   []  \n",
       "2507          Sarah Dessen,                   []  \n",
       "\n",
       "[2508 rows x 3 columns]"
      ]
     },
     "execution_count": 35,
     "metadata": {},
     "output_type": "execute_result"
    }
   ],
   "source": [
    "top_20_tags_df"
   ]
  },
  {
   "cell_type": "markdown",
   "metadata": {},
   "source": [
    "We can see that there are many rows which have an empty list of tags. This is because those corresponding quotes do not belong to the top 20 categories. To handle these rows, I have decided to convert these rows with empty lists and replace it with a null value. This way later I can easily delete the rows which contain null values."
   ]
  },
  {
   "cell_type": "code",
   "execution_count": 36,
   "metadata": {},
   "outputs": [],
   "source": [
    "for i in range(0, len(top_20_tags_df)):\n",
    "    if(len(top_20_tags_df['tags'][i]) == 0):\n",
    "        # print(top_20_tags_df['tags'][i])\n",
    "        top_20_tags_df['tags'][i] = np.nan\n",
    "    # if(i==20):\n",
    "    #     break"
   ]
  },
  {
   "cell_type": "code",
   "execution_count": 37,
   "metadata": {},
   "outputs": [
    {
     "name": "stdout",
     "output_type": "stream",
     "text": [
      "<class 'pandas.core.frame.DataFrame'>\n",
      "Index: 2508 entries, 0 to 2507\n",
      "Data columns (total 3 columns):\n",
      " #   Column  Non-Null Count  Dtype \n",
      "---  ------  --------------  ----- \n",
      " 0   quote   2508 non-null   object\n",
      " 1   author  2508 non-null   object\n",
      " 2   tags    1546 non-null   object\n",
      "dtypes: object(3)\n",
      "memory usage: 142.9+ KB\n"
     ]
    }
   ],
   "source": [
    "top_20_tags_df.info()"
   ]
  },
  {
   "cell_type": "markdown",
   "metadata": {},
   "source": [
    "Notice that now there are a total of 1,546 rows which do not have a null value in the 'tags' attribute. Therefore, I will drop the rows which have null values and work on training the models only on the 1546 rows. "
   ]
  },
  {
   "cell_type": "code",
   "execution_count": 38,
   "metadata": {},
   "outputs": [
    {
     "name": "stdout",
     "output_type": "stream",
     "text": [
      "<class 'pandas.core.frame.DataFrame'>\n",
      "Index: 1546 entries, 0 to 2504\n",
      "Data columns (total 3 columns):\n",
      " #   Column  Non-Null Count  Dtype \n",
      "---  ------  --------------  ----- \n",
      " 0   quote   1546 non-null   object\n",
      " 1   author  1546 non-null   object\n",
      " 2   tags    1546 non-null   object\n",
      "dtypes: object(3)\n",
      "memory usage: 48.3+ KB\n"
     ]
    }
   ],
   "source": [
    "top_20_tags_df.dropna(inplace=True)\n",
    "top_20_tags_df.info()"
   ]
  },
  {
   "cell_type": "code",
   "execution_count": 39,
   "metadata": {},
   "outputs": [
    {
     "name": "stdout",
     "output_type": "stream",
     "text": [
      "<class 'pandas.core.frame.DataFrame'>\n",
      "RangeIndex: 1546 entries, 0 to 1545\n",
      "Data columns (total 4 columns):\n",
      " #   Column  Non-Null Count  Dtype \n",
      "---  ------  --------------  ----- \n",
      " 0   index   1546 non-null   int64 \n",
      " 1   quote   1546 non-null   object\n",
      " 2   author  1546 non-null   object\n",
      " 3   tags    1546 non-null   object\n",
      "dtypes: int64(1), object(3)\n",
      "memory usage: 48.4+ KB\n"
     ]
    }
   ],
   "source": [
    "# resetting the index because it says:\n",
    "# \"Index: 1546 entries, 0 to 2504\"\n",
    "top_20_tags_df.reset_index(inplace=True)\n",
    "top_20_tags_df.info()"
   ]
  },
  {
   "cell_type": "markdown",
   "metadata": {},
   "source": [
    "# Visualization"
   ]
  },
  {
   "cell_type": "code",
   "execution_count": 40,
   "metadata": {},
   "outputs": [],
   "source": [
    "import matplotlib.pyplot as plt\n",
    "import plotly.express as px"
   ]
  },
  {
   "cell_type": "code",
   "execution_count": 41,
   "metadata": {},
   "outputs": [
    {
     "name": "stdout",
     "output_type": "stream",
     "text": [
      "('inspiring', 360)\n",
      "('love', 327)\n",
      "('life', 295)\n",
      "('funny', 292)\n",
      "('book', 144)\n",
      "('reading', 86)\n",
      "('happiness', 68)\n",
      "('writing', 67)\n",
      "('friendship', 63)\n",
      "('wisdom', 62)\n",
      "('truth', 61)\n",
      "('philosophy', 60)\n",
      "('optimism', 48)\n",
      "('living', 48)\n",
      "('death', 47)\n",
      "('hope', 46)\n",
      "('poetry', 45)\n",
      "('romance', 45)\n",
      "('woman', 42)\n",
      "('positiveaffirmation', 41)\n"
     ]
    }
   ],
   "source": [
    "# visualizing the distribution of the different categories\n",
    "tag_freq_sorted = calculate_count_of_tags(top_20_tags_df['tags'])\n",
    "for i in range(0, len(tag_freq_sorted)):\n",
    "    print(tag_freq_sorted[i])"
   ]
  },
  {
   "cell_type": "code",
   "execution_count": 42,
   "metadata": {},
   "outputs": [
    {
     "data": {
      "application/vnd.plotly.v1+json": {
       "config": {
        "plotlyServerURL": "https://plot.ly"
       },
       "data": [
        {
         "alignmentgroup": "True",
         "bingroup": "x",
         "histfunc": "sum",
         "hovertemplate": "quote tag=%{x}<br>sum of tag frequency=%{y}<extra></extra>",
         "legendgroup": "",
         "marker": {
          "color": "#636efa",
          "pattern": {
           "shape": ""
          }
         },
         "name": "",
         "offsetgroup": "",
         "orientation": "v",
         "showlegend": false,
         "type": "histogram",
         "x": [
          "inspiring",
          "love",
          "life",
          "funny",
          "book",
          "reading",
          "happiness",
          "writing",
          "friendship",
          "wisdom",
          "truth",
          "philosophy",
          "optimism",
          "living",
          "death",
          "hope",
          "poetry",
          "romance",
          "woman",
          "positiveaffirmation"
         ],
         "xaxis": "x",
         "y": [
          360,
          327,
          295,
          292,
          144,
          86,
          68,
          67,
          63,
          62,
          61,
          60,
          48,
          48,
          47,
          46,
          45,
          45,
          42,
          41
         ],
         "yaxis": "y"
        }
       ],
       "layout": {
        "barmode": "relative",
        "legend": {
         "tracegroupgap": 0
        },
        "margin": {
         "t": 60
        },
        "template": {
         "data": {
          "bar": [
           {
            "error_x": {
             "color": "#2a3f5f"
            },
            "error_y": {
             "color": "#2a3f5f"
            },
            "marker": {
             "line": {
              "color": "#E5ECF6",
              "width": 0.5
             },
             "pattern": {
              "fillmode": "overlay",
              "size": 10,
              "solidity": 0.2
             }
            },
            "type": "bar"
           }
          ],
          "barpolar": [
           {
            "marker": {
             "line": {
              "color": "#E5ECF6",
              "width": 0.5
             },
             "pattern": {
              "fillmode": "overlay",
              "size": 10,
              "solidity": 0.2
             }
            },
            "type": "barpolar"
           }
          ],
          "carpet": [
           {
            "aaxis": {
             "endlinecolor": "#2a3f5f",
             "gridcolor": "white",
             "linecolor": "white",
             "minorgridcolor": "white",
             "startlinecolor": "#2a3f5f"
            },
            "baxis": {
             "endlinecolor": "#2a3f5f",
             "gridcolor": "white",
             "linecolor": "white",
             "minorgridcolor": "white",
             "startlinecolor": "#2a3f5f"
            },
            "type": "carpet"
           }
          ],
          "choropleth": [
           {
            "colorbar": {
             "outlinewidth": 0,
             "ticks": ""
            },
            "type": "choropleth"
           }
          ],
          "contour": [
           {
            "colorbar": {
             "outlinewidth": 0,
             "ticks": ""
            },
            "colorscale": [
             [
              0,
              "#0d0887"
             ],
             [
              0.1111111111111111,
              "#46039f"
             ],
             [
              0.2222222222222222,
              "#7201a8"
             ],
             [
              0.3333333333333333,
              "#9c179e"
             ],
             [
              0.4444444444444444,
              "#bd3786"
             ],
             [
              0.5555555555555556,
              "#d8576b"
             ],
             [
              0.6666666666666666,
              "#ed7953"
             ],
             [
              0.7777777777777778,
              "#fb9f3a"
             ],
             [
              0.8888888888888888,
              "#fdca26"
             ],
             [
              1,
              "#f0f921"
             ]
            ],
            "type": "contour"
           }
          ],
          "contourcarpet": [
           {
            "colorbar": {
             "outlinewidth": 0,
             "ticks": ""
            },
            "type": "contourcarpet"
           }
          ],
          "heatmap": [
           {
            "colorbar": {
             "outlinewidth": 0,
             "ticks": ""
            },
            "colorscale": [
             [
              0,
              "#0d0887"
             ],
             [
              0.1111111111111111,
              "#46039f"
             ],
             [
              0.2222222222222222,
              "#7201a8"
             ],
             [
              0.3333333333333333,
              "#9c179e"
             ],
             [
              0.4444444444444444,
              "#bd3786"
             ],
             [
              0.5555555555555556,
              "#d8576b"
             ],
             [
              0.6666666666666666,
              "#ed7953"
             ],
             [
              0.7777777777777778,
              "#fb9f3a"
             ],
             [
              0.8888888888888888,
              "#fdca26"
             ],
             [
              1,
              "#f0f921"
             ]
            ],
            "type": "heatmap"
           }
          ],
          "heatmapgl": [
           {
            "colorbar": {
             "outlinewidth": 0,
             "ticks": ""
            },
            "colorscale": [
             [
              0,
              "#0d0887"
             ],
             [
              0.1111111111111111,
              "#46039f"
             ],
             [
              0.2222222222222222,
              "#7201a8"
             ],
             [
              0.3333333333333333,
              "#9c179e"
             ],
             [
              0.4444444444444444,
              "#bd3786"
             ],
             [
              0.5555555555555556,
              "#d8576b"
             ],
             [
              0.6666666666666666,
              "#ed7953"
             ],
             [
              0.7777777777777778,
              "#fb9f3a"
             ],
             [
              0.8888888888888888,
              "#fdca26"
             ],
             [
              1,
              "#f0f921"
             ]
            ],
            "type": "heatmapgl"
           }
          ],
          "histogram": [
           {
            "marker": {
             "pattern": {
              "fillmode": "overlay",
              "size": 10,
              "solidity": 0.2
             }
            },
            "type": "histogram"
           }
          ],
          "histogram2d": [
           {
            "colorbar": {
             "outlinewidth": 0,
             "ticks": ""
            },
            "colorscale": [
             [
              0,
              "#0d0887"
             ],
             [
              0.1111111111111111,
              "#46039f"
             ],
             [
              0.2222222222222222,
              "#7201a8"
             ],
             [
              0.3333333333333333,
              "#9c179e"
             ],
             [
              0.4444444444444444,
              "#bd3786"
             ],
             [
              0.5555555555555556,
              "#d8576b"
             ],
             [
              0.6666666666666666,
              "#ed7953"
             ],
             [
              0.7777777777777778,
              "#fb9f3a"
             ],
             [
              0.8888888888888888,
              "#fdca26"
             ],
             [
              1,
              "#f0f921"
             ]
            ],
            "type": "histogram2d"
           }
          ],
          "histogram2dcontour": [
           {
            "colorbar": {
             "outlinewidth": 0,
             "ticks": ""
            },
            "colorscale": [
             [
              0,
              "#0d0887"
             ],
             [
              0.1111111111111111,
              "#46039f"
             ],
             [
              0.2222222222222222,
              "#7201a8"
             ],
             [
              0.3333333333333333,
              "#9c179e"
             ],
             [
              0.4444444444444444,
              "#bd3786"
             ],
             [
              0.5555555555555556,
              "#d8576b"
             ],
             [
              0.6666666666666666,
              "#ed7953"
             ],
             [
              0.7777777777777778,
              "#fb9f3a"
             ],
             [
              0.8888888888888888,
              "#fdca26"
             ],
             [
              1,
              "#f0f921"
             ]
            ],
            "type": "histogram2dcontour"
           }
          ],
          "mesh3d": [
           {
            "colorbar": {
             "outlinewidth": 0,
             "ticks": ""
            },
            "type": "mesh3d"
           }
          ],
          "parcoords": [
           {
            "line": {
             "colorbar": {
              "outlinewidth": 0,
              "ticks": ""
             }
            },
            "type": "parcoords"
           }
          ],
          "pie": [
           {
            "automargin": true,
            "type": "pie"
           }
          ],
          "scatter": [
           {
            "fillpattern": {
             "fillmode": "overlay",
             "size": 10,
             "solidity": 0.2
            },
            "type": "scatter"
           }
          ],
          "scatter3d": [
           {
            "line": {
             "colorbar": {
              "outlinewidth": 0,
              "ticks": ""
             }
            },
            "marker": {
             "colorbar": {
              "outlinewidth": 0,
              "ticks": ""
             }
            },
            "type": "scatter3d"
           }
          ],
          "scattercarpet": [
           {
            "marker": {
             "colorbar": {
              "outlinewidth": 0,
              "ticks": ""
             }
            },
            "type": "scattercarpet"
           }
          ],
          "scattergeo": [
           {
            "marker": {
             "colorbar": {
              "outlinewidth": 0,
              "ticks": ""
             }
            },
            "type": "scattergeo"
           }
          ],
          "scattergl": [
           {
            "marker": {
             "colorbar": {
              "outlinewidth": 0,
              "ticks": ""
             }
            },
            "type": "scattergl"
           }
          ],
          "scattermapbox": [
           {
            "marker": {
             "colorbar": {
              "outlinewidth": 0,
              "ticks": ""
             }
            },
            "type": "scattermapbox"
           }
          ],
          "scatterpolar": [
           {
            "marker": {
             "colorbar": {
              "outlinewidth": 0,
              "ticks": ""
             }
            },
            "type": "scatterpolar"
           }
          ],
          "scatterpolargl": [
           {
            "marker": {
             "colorbar": {
              "outlinewidth": 0,
              "ticks": ""
             }
            },
            "type": "scatterpolargl"
           }
          ],
          "scatterternary": [
           {
            "marker": {
             "colorbar": {
              "outlinewidth": 0,
              "ticks": ""
             }
            },
            "type": "scatterternary"
           }
          ],
          "surface": [
           {
            "colorbar": {
             "outlinewidth": 0,
             "ticks": ""
            },
            "colorscale": [
             [
              0,
              "#0d0887"
             ],
             [
              0.1111111111111111,
              "#46039f"
             ],
             [
              0.2222222222222222,
              "#7201a8"
             ],
             [
              0.3333333333333333,
              "#9c179e"
             ],
             [
              0.4444444444444444,
              "#bd3786"
             ],
             [
              0.5555555555555556,
              "#d8576b"
             ],
             [
              0.6666666666666666,
              "#ed7953"
             ],
             [
              0.7777777777777778,
              "#fb9f3a"
             ],
             [
              0.8888888888888888,
              "#fdca26"
             ],
             [
              1,
              "#f0f921"
             ]
            ],
            "type": "surface"
           }
          ],
          "table": [
           {
            "cells": {
             "fill": {
              "color": "#EBF0F8"
             },
             "line": {
              "color": "white"
             }
            },
            "header": {
             "fill": {
              "color": "#C8D4E3"
             },
             "line": {
              "color": "white"
             }
            },
            "type": "table"
           }
          ]
         },
         "layout": {
          "annotationdefaults": {
           "arrowcolor": "#2a3f5f",
           "arrowhead": 0,
           "arrowwidth": 1
          },
          "autotypenumbers": "strict",
          "coloraxis": {
           "colorbar": {
            "outlinewidth": 0,
            "ticks": ""
           }
          },
          "colorscale": {
           "diverging": [
            [
             0,
             "#8e0152"
            ],
            [
             0.1,
             "#c51b7d"
            ],
            [
             0.2,
             "#de77ae"
            ],
            [
             0.3,
             "#f1b6da"
            ],
            [
             0.4,
             "#fde0ef"
            ],
            [
             0.5,
             "#f7f7f7"
            ],
            [
             0.6,
             "#e6f5d0"
            ],
            [
             0.7,
             "#b8e186"
            ],
            [
             0.8,
             "#7fbc41"
            ],
            [
             0.9,
             "#4d9221"
            ],
            [
             1,
             "#276419"
            ]
           ],
           "sequential": [
            [
             0,
             "#0d0887"
            ],
            [
             0.1111111111111111,
             "#46039f"
            ],
            [
             0.2222222222222222,
             "#7201a8"
            ],
            [
             0.3333333333333333,
             "#9c179e"
            ],
            [
             0.4444444444444444,
             "#bd3786"
            ],
            [
             0.5555555555555556,
             "#d8576b"
            ],
            [
             0.6666666666666666,
             "#ed7953"
            ],
            [
             0.7777777777777778,
             "#fb9f3a"
            ],
            [
             0.8888888888888888,
             "#fdca26"
            ],
            [
             1,
             "#f0f921"
            ]
           ],
           "sequentialminus": [
            [
             0,
             "#0d0887"
            ],
            [
             0.1111111111111111,
             "#46039f"
            ],
            [
             0.2222222222222222,
             "#7201a8"
            ],
            [
             0.3333333333333333,
             "#9c179e"
            ],
            [
             0.4444444444444444,
             "#bd3786"
            ],
            [
             0.5555555555555556,
             "#d8576b"
            ],
            [
             0.6666666666666666,
             "#ed7953"
            ],
            [
             0.7777777777777778,
             "#fb9f3a"
            ],
            [
             0.8888888888888888,
             "#fdca26"
            ],
            [
             1,
             "#f0f921"
            ]
           ]
          },
          "colorway": [
           "#636efa",
           "#EF553B",
           "#00cc96",
           "#ab63fa",
           "#FFA15A",
           "#19d3f3",
           "#FF6692",
           "#B6E880",
           "#FF97FF",
           "#FECB52"
          ],
          "font": {
           "color": "#2a3f5f"
          },
          "geo": {
           "bgcolor": "white",
           "lakecolor": "white",
           "landcolor": "#E5ECF6",
           "showlakes": true,
           "showland": true,
           "subunitcolor": "white"
          },
          "hoverlabel": {
           "align": "left"
          },
          "hovermode": "closest",
          "mapbox": {
           "style": "light"
          },
          "paper_bgcolor": "white",
          "plot_bgcolor": "#E5ECF6",
          "polar": {
           "angularaxis": {
            "gridcolor": "white",
            "linecolor": "white",
            "ticks": ""
           },
           "bgcolor": "#E5ECF6",
           "radialaxis": {
            "gridcolor": "white",
            "linecolor": "white",
            "ticks": ""
           }
          },
          "scene": {
           "xaxis": {
            "backgroundcolor": "#E5ECF6",
            "gridcolor": "white",
            "gridwidth": 2,
            "linecolor": "white",
            "showbackground": true,
            "ticks": "",
            "zerolinecolor": "white"
           },
           "yaxis": {
            "backgroundcolor": "#E5ECF6",
            "gridcolor": "white",
            "gridwidth": 2,
            "linecolor": "white",
            "showbackground": true,
            "ticks": "",
            "zerolinecolor": "white"
           },
           "zaxis": {
            "backgroundcolor": "#E5ECF6",
            "gridcolor": "white",
            "gridwidth": 2,
            "linecolor": "white",
            "showbackground": true,
            "ticks": "",
            "zerolinecolor": "white"
           }
          },
          "shapedefaults": {
           "line": {
            "color": "#2a3f5f"
           }
          },
          "ternary": {
           "aaxis": {
            "gridcolor": "white",
            "linecolor": "white",
            "ticks": ""
           },
           "baxis": {
            "gridcolor": "white",
            "linecolor": "white",
            "ticks": ""
           },
           "bgcolor": "#E5ECF6",
           "caxis": {
            "gridcolor": "white",
            "linecolor": "white",
            "ticks": ""
           }
          },
          "title": {
           "x": 0.05
          },
          "xaxis": {
           "automargin": true,
           "gridcolor": "white",
           "linecolor": "white",
           "ticks": "",
           "title": {
            "standoff": 15
           },
           "zerolinecolor": "white",
           "zerolinewidth": 2
          },
          "yaxis": {
           "automargin": true,
           "gridcolor": "white",
           "linecolor": "white",
           "ticks": "",
           "title": {
            "standoff": 15
           },
           "zerolinecolor": "white",
           "zerolinewidth": 2
          }
         }
        },
        "xaxis": {
         "anchor": "y",
         "domain": [
          0,
          1
         ],
         "title": {
          "text": "quote tag"
         }
        },
        "yaxis": {
         "anchor": "x",
         "domain": [
          0,
          1
         ],
         "title": {
          "text": "sum of tag frequency"
         }
        }
       }
      }
     },
     "metadata": {},
     "output_type": "display_data"
    }
   ],
   "source": [
    "# plotting the above data in a histogram\n",
    "px.histogram(tag_freq_sorted, x=0, y=1,labels={'0': 'quote tag', '1': 'tag frequency'})"
   ]
  },
  {
   "cell_type": "markdown",
   "metadata": {},
   "source": [
    "From the above histogram we can see that there is an imbalance in the distribution of data in each of the classes. Tags like ‘inspiring’, ‘love’, ‘life’ have significantly higher number of occurrences as compared to ‘hope’, poetry’, ‘romance’ or ‘woman’."
   ]
  },
  {
   "cell_type": "code",
   "execution_count": 43,
   "metadata": {},
   "outputs": [
    {
     "name": "stdout",
     "output_type": "stream",
     "text": [
      "Requirement already satisfied: wordcloud in /opt/homebrew/anaconda3/envs/info7390/lib/python3.8/site-packages (1.9.3)\n",
      "Requirement already satisfied: numpy>=1.6.1 in /opt/homebrew/anaconda3/envs/info7390/lib/python3.8/site-packages (from wordcloud) (1.24.3)\n",
      "Requirement already satisfied: pillow in /opt/homebrew/anaconda3/envs/info7390/lib/python3.8/site-packages (from wordcloud) (10.2.0)\n",
      "Requirement already satisfied: matplotlib in /opt/homebrew/anaconda3/envs/info7390/lib/python3.8/site-packages (from wordcloud) (3.7.2)\n",
      "Requirement already satisfied: contourpy>=1.0.1 in /opt/homebrew/anaconda3/envs/info7390/lib/python3.8/site-packages (from matplotlib->wordcloud) (1.1.1)\n",
      "Requirement already satisfied: cycler>=0.10 in /opt/homebrew/anaconda3/envs/info7390/lib/python3.8/site-packages (from matplotlib->wordcloud) (0.12.1)\n",
      "Requirement already satisfied: fonttools>=4.22.0 in /opt/homebrew/anaconda3/envs/info7390/lib/python3.8/site-packages (from matplotlib->wordcloud) (4.49.0)\n",
      "Requirement already satisfied: kiwisolver>=1.0.1 in /opt/homebrew/anaconda3/envs/info7390/lib/python3.8/site-packages (from matplotlib->wordcloud) (1.4.5)\n",
      "Requirement already satisfied: packaging>=20.0 in /opt/homebrew/anaconda3/envs/info7390/lib/python3.8/site-packages (from matplotlib->wordcloud) (23.2)\n",
      "Requirement already satisfied: pyparsing<3.1,>=2.3.1 in /opt/homebrew/anaconda3/envs/info7390/lib/python3.8/site-packages (from matplotlib->wordcloud) (3.0.9)\n",
      "Requirement already satisfied: python-dateutil>=2.7 in /opt/homebrew/anaconda3/envs/info7390/lib/python3.8/site-packages (from matplotlib->wordcloud) (2.8.2)\n",
      "Requirement already satisfied: importlib-resources>=3.2.0 in /opt/homebrew/anaconda3/envs/info7390/lib/python3.8/site-packages (from matplotlib->wordcloud) (6.1.1)\n",
      "Requirement already satisfied: zipp>=3.1.0 in /opt/homebrew/anaconda3/envs/info7390/lib/python3.8/site-packages (from importlib-resources>=3.2.0->matplotlib->wordcloud) (3.17.0)\n",
      "Requirement already satisfied: six>=1.5 in /opt/homebrew/anaconda3/envs/info7390/lib/python3.8/site-packages (from python-dateutil>=2.7->matplotlib->wordcloud) (1.16.0)\n"
     ]
    }
   ],
   "source": [
    "!pip install wordcloud"
   ]
  },
  {
   "cell_type": "code",
   "execution_count": 44,
   "metadata": {},
   "outputs": [
    {
     "data": {
      "text/plain": [
       "(-0.5, 399.5, 199.5, -0.5)"
      ]
     },
     "execution_count": 44,
     "metadata": {},
     "output_type": "execute_result"
    },
    {
     "data": {
      "image/png": "[encoded data removed]",
      "text/plain": [
       "<Figure size 640x480 with 1 Axes>"
      ]
     },
     "metadata": {},
     "output_type": "display_data"
    }
   ],
   "source": [
    "from wordcloud import WordCloud\n",
    "\n",
    "# joining all the quotes together\n",
    "all_quotes = ' '.join(top_20_tags_df['quote'])\n",
    "\n",
    "# generating the word cloud for the quotes\n",
    "word_cloud = WordCloud(collocations = False, background_color = 'white').generate(all_quotes)\n",
    "\n",
    "# plotting the generated word cloud\n",
    "plt.imshow(word_cloud, interpolation='bilinear')\n",
    "plt.axis(\"off\")"
   ]
  },
  {
   "cell_type": "code",
   "execution_count": 45,
   "metadata": {},
   "outputs": [
    {
     "data": {
      "text/plain": [
       "(-0.5, 399.5, 199.5, -0.5)"
      ]
     },
     "execution_count": 45,
     "metadata": {},
     "output_type": "execute_result"
    },
    {
     "data": {
      "image/png": "[encoded data removed]",
      "text/plain": [
       "<Figure size 640x480 with 1 Axes>"
      ]
     },
     "metadata": {},
     "output_type": "display_data"
    }
   ],
   "source": [
    "# plotting the generated word cloud using gaussian interpolation\n",
    "plt.imshow(word_cloud, interpolation='gaussian')\n",
    "plt.axis(\"off\")"
   ]
  },
  {
   "cell_type": "markdown",
   "metadata": {},
   "source": [
    "From the above, we can see that ‘love’, ‘life’, ‘one’, ‘will’, and ‘thing’ are one of the most common words in our dataset."
   ]
  },
  {
   "cell_type": "markdown",
   "metadata": {},
   "source": [
    "# Data Cleaning & Model Preparation\n",
    "## Tokenization, Normalization, Stop Word Removal & Lemmetization\n",
    "From the data we can see that there are some words which contain special characters like ‘Ø’. Therefore, while we tokenize words, we also need to consider normalizing the words to remove the accents.\n",
    "<br><br>\n",
    "For tokenizing the words, I decided to use RegexpTokenizer, because we can handle the tokens based on the regular expression parameter. Unlike word tokenizers, regular expression tokenizer can be able to understand and discard punctuation as well.\n",
    "<br><br>\n",
    "Additionally, we must remove stop words like 'of', 'the', ‘and’ and 'to' which do not hold much meaning for the machine learning models.\n",
    "<br><br>\n",
    "Lastly just like how I performed lemmatization for the target column – tags, I will be performing lemmatization on the quotes column as well.\n",
    "<br><br>\n",
    "For performing these 4 tasks, I have decided to write a python function."
   ]
  },
  {
   "cell_type": "code",
   "execution_count": 46,
   "metadata": {},
   "outputs": [
    {
     "data": {
      "text/plain": [
       "pandas.core.series.Series"
      ]
     },
     "execution_count": 46,
     "metadata": {},
     "output_type": "execute_result"
    }
   ],
   "source": [
    "type(top_20_tags_df['quote'])"
   ]
  },
  {
   "cell_type": "code",
   "execution_count": 47,
   "metadata": {},
   "outputs": [
    {
     "name": "stderr",
     "output_type": "stream",
     "text": [
      "[nltk_data] Downloading package punkt to\n",
      "[nltk_data]     /Users/rishabhkaushick/nltk_data...\n",
      "[nltk_data]   Package punkt is already up-to-date!\n",
      "[nltk_data] Downloading package stopwords to\n",
      "[nltk_data]     /Users/rishabhkaushick/nltk_data...\n",
      "[nltk_data]   Package stopwords is already up-to-date!\n",
      "[nltk_data] Downloading package wordnet to\n",
      "[nltk_data]     /Users/rishabhkaushick/nltk_data...\n",
      "[nltk_data]   Package wordnet is already up-to-date!\n"
     ]
    },
    {
     "data": {
      "text/plain": [
       "True"
      ]
     },
     "execution_count": 47,
     "metadata": {},
     "output_type": "execute_result"
    }
   ],
   "source": [
    "# importing the nltk libraries for tokenization, normalization and stop word removal\n",
    "from nltk.tokenize import RegexpTokenizer\n",
    "from unidecode import unidecode\n",
    "from nltk.corpus import stopwords\n",
    "\n",
    "# downloading the punkt unsupervised model for tokenization & stop words list\n",
    "nltk.download('punkt')\n",
    "nltk.download('stopwords')\n",
    "nltk.download('wordnet')\n"
   ]
  },
  {
   "cell_type": "code",
   "execution_count": 48,
   "metadata": {},
   "outputs": [],
   "source": [
    "# The function below takes an input of a pandas dataframe\n",
    "# it considers the ''quote' attribute performs\n",
    "# retunrs a pandas dataframe containing 1 column called processed_quote\n",
    "def preprocess_text(dataframe=top_20_tags_df):\n",
    "    result_df = pd.DataFrame(columns=['processed_quote'])\n",
    "    lemmatizer = WordNetLemmatizer()\n",
    "\n",
    "    # making sure that the text is in lower case\n",
    "    result_df['processed_quote'] = dataframe['quote'].str.lower()\n",
    "\n",
    "    # regular expression will split words based on boundary-word-boundary\n",
    "    regexp_tokenizer = RegexpTokenizer(r'\\b\\w+\\b')\n",
    "\n",
    "    for i in range (0, len(result_df['processed_quote'])):\n",
    "        # performing regex tokenization - which will split tokens after each word\n",
    "        tokens = regexp_tokenizer.tokenize(result_df['processed_quote'][i])\n",
    "\n",
    "        # removing stop words\n",
    "        tokens_wo_stop_words = [word for word in tokens if word not in stopwords.words('english')]\n",
    "\n",
    "        pre_processed_sentenece = \"\"\n",
    "        for word in tokens_wo_stop_words:\n",
    "            # normalization - removing accents by using unidecode - word by word\n",
    "            # print(str(unidecode(word)))\n",
    "            normalized_word = unidecode(word)\n",
    "\n",
    "            # performing lemmetization on the normalized word\n",
    "            lemma_word = lemmatizer.lemmatize(normalized_word)\n",
    "\n",
    "            pre_processed_sentenece += str(lemma_word)+' '\n",
    "        # once we have the entire sentence parsed, we assign it back\n",
    "        result_df['processed_quote'][i] = pre_processed_sentenece\n",
    "        \n",
    "    return result_df\n"
   ]
  },
  {
   "cell_type": "code",
   "execution_count": 49,
   "metadata": {},
   "outputs": [],
   "source": [
    "# The function below does the same activity such as preprocess_text\n",
    "# the only difference is that preprocess_single_quote_text takes in one quote as a string and performs the pre-processing\n",
    "def preprocess_single_quote_text(quote_string):\n",
    "    result_string = quote_string.lower()\n",
    "\n",
    "    # regular expression will split words based on boundary-word-boundary\n",
    "    regexp_tokenizer = RegexpTokenizer(r'\\b\\w+\\b')\n",
    "    tokens = regexp_tokenizer.tokenize(result_string)\n",
    "\n",
    "    # removing stop words\n",
    "    tokens_wo_stop_words = [word for word in tokens if word not in stopwords.words('english')]\n",
    "\n",
    "    pre_processed_sentenece = \"\"\n",
    "    for word in tokens_wo_stop_words:\n",
    "        # normalization - removing accents by using unidecode - word by word\n",
    "        normalized_word = unidecode(word)\n",
    "\n",
    "        # performing lemmetization on the normalized word\n",
    "        lemma_word = lemmatizer.lemmatize(normalized_word)\n",
    "\n",
    "        pre_processed_sentenece += str(lemma_word)+' '\n",
    "    result_string = pre_processed_sentenece\n",
    "    return result_string\n",
    "    "
   ]
  },
  {
   "cell_type": "code",
   "execution_count": 50,
   "metadata": {},
   "outputs": [
    {
     "data": {
      "text/plain": [
       "0                            everyone else already taken \n",
       "1       selfish impatient little insecure make mistake...\n",
       "2       two thing infinite universe human stupidity su...\n",
       "3                                  many book little time \n",
       "4               room without book like body without soul \n",
       "                              ...                        \n",
       "1541                                            part met \n",
       "1542    sought hear voice god climbed topmost steeple ...\n",
       "1543    stepping onto brand new path difficult difficu...\n",
       "1544    morality simply attitude adopt towards people ...\n",
       "1545    aim success aim make target going miss success...\n",
       "Name: processed_quote, Length: 1546, dtype: object"
      ]
     },
     "execution_count": 50,
     "metadata": {},
     "output_type": "execute_result"
    }
   ],
   "source": [
    "# Testing if this works\n",
    "test_df = preprocess_text()\n",
    "test_df['processed_quote']"
   ]
  },
  {
   "cell_type": "markdown",
   "metadata": {},
   "source": [
    "Looks like this has worked, now adding this as a new attribute in the main dataframe object."
   ]
  },
  {
   "cell_type": "code",
   "execution_count": 51,
   "metadata": {},
   "outputs": [
    {
     "data": {
      "text/html": [
       "<div>\n",
       "<style scoped>\n",
       "    .dataframe tbody tr th:only-of-type {\n",
       "        vertical-align: middle;\n",
       "    }\n",
       "\n",
       "    .dataframe tbody tr th {\n",
       "        vertical-align: top;\n",
       "    }\n",
       "\n",
       "    .dataframe thead th {\n",
       "        text-align: right;\n",
       "    }\n",
       "</style>\n",
       "<table border=\"1\" class=\"dataframe\">\n",
       "  <thead>\n",
       "    <tr style=\"text-align: right;\">\n",
       "      <th></th>\n",
       "      <th>index</th>\n",
       "      <th>quote</th>\n",
       "      <th>author</th>\n",
       "      <th>tags</th>\n",
       "      <th>processed_quote</th>\n",
       "    </tr>\n",
       "  </thead>\n",
       "  <tbody>\n",
       "    <tr>\n",
       "      <th>0</th>\n",
       "      <td>0</td>\n",
       "      <td>“Be yourself; everyone else is already taken.”</td>\n",
       "      <td>Oscar Wilde</td>\n",
       "      <td>[inspiring]</td>\n",
       "      <td>everyone else already taken</td>\n",
       "    </tr>\n",
       "    <tr>\n",
       "      <th>1</th>\n",
       "      <td>1</td>\n",
       "      <td>“I'm selfish, impatient and a little insecure....</td>\n",
       "      <td>Marilyn Monroe</td>\n",
       "      <td>[truth, love, life]</td>\n",
       "      <td>selfish impatient little insecure make mistake...</td>\n",
       "    </tr>\n",
       "    <tr>\n",
       "      <th>2</th>\n",
       "      <td>2</td>\n",
       "      <td>“Two things are infinite: the universe and hum...</td>\n",
       "      <td>Albert Einstein</td>\n",
       "      <td>[funny, philosophy]</td>\n",
       "      <td>two thing infinite universe human stupidity su...</td>\n",
       "    </tr>\n",
       "    <tr>\n",
       "      <th>3</th>\n",
       "      <td>3</td>\n",
       "      <td>“So many books, so little time.”</td>\n",
       "      <td>Frank Zappa</td>\n",
       "      <td>[funny, book]</td>\n",
       "      <td>many book little time</td>\n",
       "    </tr>\n",
       "    <tr>\n",
       "      <th>4</th>\n",
       "      <td>4</td>\n",
       "      <td>“A room without books is like a body without a...</td>\n",
       "      <td>Marcus Tullius Cicero</td>\n",
       "      <td>[book]</td>\n",
       "      <td>room without book like body without soul</td>\n",
       "    </tr>\n",
       "  </tbody>\n",
       "</table>\n",
       "</div>"
      ],
      "text/plain": [
       "   index                                              quote  \\\n",
       "0      0     “Be yourself; everyone else is already taken.”   \n",
       "1      1  “I'm selfish, impatient and a little insecure....   \n",
       "2      2  “Two things are infinite: the universe and hum...   \n",
       "3      3                   “So many books, so little time.”   \n",
       "4      4  “A room without books is like a body without a...   \n",
       "\n",
       "                  author                 tags  \\\n",
       "0            Oscar Wilde          [inspiring]   \n",
       "1         Marilyn Monroe  [truth, love, life]   \n",
       "2        Albert Einstein  [funny, philosophy]   \n",
       "3            Frank Zappa        [funny, book]   \n",
       "4  Marcus Tullius Cicero               [book]   \n",
       "\n",
       "                                     processed_quote  \n",
       "0                       everyone else already taken   \n",
       "1  selfish impatient little insecure make mistake...  \n",
       "2  two thing infinite universe human stupidity su...  \n",
       "3                             many book little time   \n",
       "4          room without book like body without soul   "
      ]
     },
     "execution_count": 51,
     "metadata": {},
     "output_type": "execute_result"
    }
   ],
   "source": [
    "top_20_tags_df['processed_quote']= preprocess_text()\n",
    "top_20_tags_df.head()"
   ]
  },
  {
   "cell_type": "markdown",
   "metadata": {},
   "source": [
    "## Encoding Target Column using Multi-Hot-Encoding (Multi-Label Binarizer)\n",
    "When we had multiple categories of text data – for a single-label classification problem, we tend to use One-Hot-Encoder. In One-Hot-Encoding, there will be a list where one of the categories will be ‘1’ and the rest of them will be ‘0’. Multi-Hot encoders have one main difference, that is, there could be multiple labels which could be ‘1’. One-Hot-Encoders would store data in this way [0, 0, 1, 0], Multi-Hot-Encoders could store data such as [0,1,0,1]. This is required for the multi-label classification problem. I will be using the MultiLabelBinarizer for the multi-label encoding."
   ]
  },
  {
   "cell_type": "code",
   "execution_count": 52,
   "metadata": {},
   "outputs": [
    {
     "name": "stdout",
     "output_type": "stream",
     "text": [
      "[[0 0 0 ... 0 0 0]\n",
      " [0 0 0 ... 0 0 0]\n",
      " [0 0 0 ... 0 0 0]\n",
      " ...\n",
      " [0 0 0 ... 0 0 0]\n",
      " [0 0 0 ... 0 0 0]\n",
      " [0 0 0 ... 0 0 0]]\n"
     ]
    }
   ],
   "source": [
    "from sklearn.preprocessing import MultiLabelBinarizer\n",
    "mlb = MultiLabelBinarizer()\n",
    "\n",
    "# Fitting and transforming the labels into a multi hot encoded value\n",
    "multi_hot_encoding = mlb.fit_transform(top_20_tags_df['tags'])\n",
    "print(multi_hot_encoding)"
   ]
  },
  {
   "cell_type": "code",
   "execution_count": 53,
   "metadata": {},
   "outputs": [
    {
     "name": "stdout",
     "output_type": "stream",
     "text": [
      "[0 0 0 0 0 0 0 1 0 1 0 0 0 0 0 0 1 0 0 0]\n",
      "['book' 'death' 'friendship' 'funny' 'happiness' 'hope' 'inspiring' 'life'\n",
      " 'living' 'love' 'optimism' 'philosophy' 'poetry' 'positiveaffirmation'\n",
      " 'reading' 'romance' 'truth' 'wisdom' 'woman' 'writing']\n"
     ]
    }
   ],
   "source": [
    "print((multi_hot_encoding[1]))\n",
    "print(mlb.classes_)"
   ]
  },
  {
   "cell_type": "code",
   "execution_count": 54,
   "metadata": {},
   "outputs": [
    {
     "name": "stdout",
     "output_type": "stream",
     "text": [
      "<class 'numpy.ndarray'>\n"
     ]
    }
   ],
   "source": [
    "print(type(multi_hot_encoding))"
   ]
  },
  {
   "cell_type": "code",
   "execution_count": 55,
   "metadata": {},
   "outputs": [
    {
     "data": {
      "text/html": [
       "<div>\n",
       "<style scoped>\n",
       "    .dataframe tbody tr th:only-of-type {\n",
       "        vertical-align: middle;\n",
       "    }\n",
       "\n",
       "    .dataframe tbody tr th {\n",
       "        vertical-align: top;\n",
       "    }\n",
       "\n",
       "    .dataframe thead th {\n",
       "        text-align: right;\n",
       "    }\n",
       "</style>\n",
       "<table border=\"1\" class=\"dataframe\">\n",
       "  <thead>\n",
       "    <tr style=\"text-align: right;\">\n",
       "      <th></th>\n",
       "      <th>index</th>\n",
       "      <th>quote</th>\n",
       "      <th>author</th>\n",
       "      <th>tags</th>\n",
       "      <th>processed_quote</th>\n",
       "      <th>book</th>\n",
       "      <th>death</th>\n",
       "      <th>friendship</th>\n",
       "      <th>funny</th>\n",
       "      <th>happiness</th>\n",
       "      <th>...</th>\n",
       "      <th>optimism</th>\n",
       "      <th>philosophy</th>\n",
       "      <th>poetry</th>\n",
       "      <th>positiveaffirmation</th>\n",
       "      <th>reading</th>\n",
       "      <th>romance</th>\n",
       "      <th>truth</th>\n",
       "      <th>wisdom</th>\n",
       "      <th>woman</th>\n",
       "      <th>writing</th>\n",
       "    </tr>\n",
       "  </thead>\n",
       "  <tbody>\n",
       "    <tr>\n",
       "      <th>0</th>\n",
       "      <td>0</td>\n",
       "      <td>“Be yourself; everyone else is already taken.”</td>\n",
       "      <td>Oscar Wilde</td>\n",
       "      <td>[inspiring]</td>\n",
       "      <td>everyone else already taken</td>\n",
       "      <td>0</td>\n",
       "      <td>0</td>\n",
       "      <td>0</td>\n",
       "      <td>0</td>\n",
       "      <td>0</td>\n",
       "      <td>...</td>\n",
       "      <td>0</td>\n",
       "      <td>0</td>\n",
       "      <td>0</td>\n",
       "      <td>0</td>\n",
       "      <td>0</td>\n",
       "      <td>0</td>\n",
       "      <td>0</td>\n",
       "      <td>0</td>\n",
       "      <td>0</td>\n",
       "      <td>0</td>\n",
       "    </tr>\n",
       "    <tr>\n",
       "      <th>1</th>\n",
       "      <td>1</td>\n",
       "      <td>“I'm selfish, impatient and a little insecure....</td>\n",
       "      <td>Marilyn Monroe</td>\n",
       "      <td>[truth, love, life]</td>\n",
       "      <td>selfish impatient little insecure make mistake...</td>\n",
       "      <td>0</td>\n",
       "      <td>0</td>\n",
       "      <td>0</td>\n",
       "      <td>0</td>\n",
       "      <td>0</td>\n",
       "      <td>...</td>\n",
       "      <td>0</td>\n",
       "      <td>0</td>\n",
       "      <td>0</td>\n",
       "      <td>0</td>\n",
       "      <td>0</td>\n",
       "      <td>0</td>\n",
       "      <td>1</td>\n",
       "      <td>0</td>\n",
       "      <td>0</td>\n",
       "      <td>0</td>\n",
       "    </tr>\n",
       "    <tr>\n",
       "      <th>2</th>\n",
       "      <td>2</td>\n",
       "      <td>“Two things are infinite: the universe and hum...</td>\n",
       "      <td>Albert Einstein</td>\n",
       "      <td>[funny, philosophy]</td>\n",
       "      <td>two thing infinite universe human stupidity su...</td>\n",
       "      <td>0</td>\n",
       "      <td>0</td>\n",
       "      <td>0</td>\n",
       "      <td>1</td>\n",
       "      <td>0</td>\n",
       "      <td>...</td>\n",
       "      <td>0</td>\n",
       "      <td>1</td>\n",
       "      <td>0</td>\n",
       "      <td>0</td>\n",
       "      <td>0</td>\n",
       "      <td>0</td>\n",
       "      <td>0</td>\n",
       "      <td>0</td>\n",
       "      <td>0</td>\n",
       "      <td>0</td>\n",
       "    </tr>\n",
       "    <tr>\n",
       "      <th>3</th>\n",
       "      <td>3</td>\n",
       "      <td>“So many books, so little time.”</td>\n",
       "      <td>Frank Zappa</td>\n",
       "      <td>[funny, book]</td>\n",
       "      <td>many book little time</td>\n",
       "      <td>1</td>\n",
       "      <td>0</td>\n",
       "      <td>0</td>\n",
       "      <td>1</td>\n",
       "      <td>0</td>\n",
       "      <td>...</td>\n",
       "      <td>0</td>\n",
       "      <td>0</td>\n",
       "      <td>0</td>\n",
       "      <td>0</td>\n",
       "      <td>0</td>\n",
       "      <td>0</td>\n",
       "      <td>0</td>\n",
       "      <td>0</td>\n",
       "      <td>0</td>\n",
       "      <td>0</td>\n",
       "    </tr>\n",
       "    <tr>\n",
       "      <th>4</th>\n",
       "      <td>4</td>\n",
       "      <td>“A room without books is like a body without a...</td>\n",
       "      <td>Marcus Tullius Cicero</td>\n",
       "      <td>[book]</td>\n",
       "      <td>room without book like body without soul</td>\n",
       "      <td>1</td>\n",
       "      <td>0</td>\n",
       "      <td>0</td>\n",
       "      <td>0</td>\n",
       "      <td>0</td>\n",
       "      <td>...</td>\n",
       "      <td>0</td>\n",
       "      <td>0</td>\n",
       "      <td>0</td>\n",
       "      <td>0</td>\n",
       "      <td>0</td>\n",
       "      <td>0</td>\n",
       "      <td>0</td>\n",
       "      <td>0</td>\n",
       "      <td>0</td>\n",
       "      <td>0</td>\n",
       "    </tr>\n",
       "  </tbody>\n",
       "</table>\n",
       "<p>5 rows × 25 columns</p>\n",
       "</div>"
      ],
      "text/plain": [
       "   index                                              quote  \\\n",
       "0      0     “Be yourself; everyone else is already taken.”   \n",
       "1      1  “I'm selfish, impatient and a little insecure....   \n",
       "2      2  “Two things are infinite: the universe and hum...   \n",
       "3      3                   “So many books, so little time.”   \n",
       "4      4  “A room without books is like a body without a...   \n",
       "\n",
       "                  author                 tags  \\\n",
       "0            Oscar Wilde          [inspiring]   \n",
       "1         Marilyn Monroe  [truth, love, life]   \n",
       "2        Albert Einstein  [funny, philosophy]   \n",
       "3            Frank Zappa        [funny, book]   \n",
       "4  Marcus Tullius Cicero               [book]   \n",
       "\n",
       "                                     processed_quote  book  death  friendship  \\\n",
       "0                       everyone else already taken      0      0           0   \n",
       "1  selfish impatient little insecure make mistake...     0      0           0   \n",
       "2  two thing infinite universe human stupidity su...     0      0           0   \n",
       "3                             many book little time      1      0           0   \n",
       "4          room without book like body without soul      1      0           0   \n",
       "\n",
       "   funny  happiness  ...  optimism  philosophy  poetry  positiveaffirmation  \\\n",
       "0      0          0  ...         0           0       0                    0   \n",
       "1      0          0  ...         0           0       0                    0   \n",
       "2      1          0  ...         0           1       0                    0   \n",
       "3      1          0  ...         0           0       0                    0   \n",
       "4      0          0  ...         0           0       0                    0   \n",
       "\n",
       "   reading  romance  truth  wisdom  woman  writing  \n",
       "0        0        0      0       0      0        0  \n",
       "1        0        0      1       0      0        0  \n",
       "2        0        0      0       0      0        0  \n",
       "3        0        0      0       0      0        0  \n",
       "4        0        0      0       0      0        0  \n",
       "\n",
       "[5 rows x 25 columns]"
      ]
     },
     "execution_count": 55,
     "metadata": {},
     "output_type": "execute_result"
    }
   ],
   "source": [
    "# Creating new column names based on the labels\n",
    "new_columns = mlb.classes_\n",
    "\n",
    "# Creating a dataframe with the relevant column names for the target classes\n",
    "target_dataframe = pd.DataFrame(multi_hot_encoding, columns=new_columns)\n",
    "\n",
    "# now concatenating the two dataframes together (axis = 1 for column-based concat)\n",
    "top_20_tags_df = pd.concat([top_20_tags_df, target_dataframe], axis=1)\n",
    "top_20_tags_df.head()"
   ]
  },
  {
   "cell_type": "markdown",
   "metadata": {},
   "source": [
    "# Vectorization using TF-IDF\n",
    "TF-IDF stands for Term Frequency-Inverse Document Frequency. The TF measures how frequently a term (word) appears in a document (in our case ‘quote’) and the IDF measures how unique or rare a term is across the entire collection of documents (of all the quotes)."
   ]
  },
  {
   "cell_type": "code",
   "execution_count": 56,
   "metadata": {},
   "outputs": [
    {
     "name": "stdout",
     "output_type": "stream",
     "text": [
      "  (0, 4005)\t0.5817831133514896\n",
      "  (0, 133)\t0.5004252106231811\n",
      "  (0, 1275)\t0.42025914444250284\n",
      "  (0, 1364)\t0.4842367903249897\n",
      "  (1, 385)\t0.17871190102989123\n",
      "  (1, 1051)\t0.23847563594783777\n",
      "  (1, 1904)\t0.21865743642981111\n",
      "  (1, 3954)\t0.2004229836826724\n",
      "  (1, 4569)\t0.23847563594783777\n",
      "  (1, 1833)\t0.5621956939325564\n",
      "  (1, 1849)\t0.19883923691178446\n",
      "  (1, 4132)\t0.13997256874316663\n",
      "  (1, 846)\t0.23069033369386957\n",
      "  (1, 2571)\t0.23438802635371625\n",
      "  (1, 2452)\t0.1379825731462053\n",
      "  (1, 2102)\t0.26993681579564804\n",
      "  (1, 2369)\t0.17353136258813712\n",
      "  (1, 2031)\t0.29682843689018334\n",
      "  (1, 3528)\t0.26993681579564804\n",
      "  (2, 3917)\t0.43790557909696576\n",
      "  (2, 1986)\t0.2724733199119325\n",
      "  (2, 4299)\t0.6181029327307148\n",
      "  (2, 2082)\t0.3982328609718645\n",
      "  (2, 4091)\t0.18891466464845225\n",
      "  (2, 4246)\t0.26502964670228263\n",
      "  :\t:\n",
      "  (1545, 1604)\t0.1156531426533067\n",
      "  (1545, 2567)\t0.11767007544144556\n",
      "  (1545, 604)\t0.1199248144679078\n",
      "  (1545, 1779)\t0.11767007544144556\n",
      "  (1545, 1944)\t0.09970863337391433\n",
      "  (1545, 2311)\t0.07867772694153514\n",
      "  (1545, 1741)\t0.08523016519110319\n",
      "  (1545, 1845)\t0.17458111157359224\n",
      "  (1545, 2244)\t0.11382860501232685\n",
      "  (1545, 3628)\t0.10789126083369291\n",
      "  (1545, 812)\t0.12892216726607209\n",
      "  (1545, 2639)\t0.17124976684552648\n",
      "  (1545, 2969)\t0.08643960876114896\n",
      "  (1545, 2390)\t0.18445243729824778\n",
      "  (1545, 4418)\t0.07275888750673581\n",
      "  (1545, 4093)\t0.07337980105058484\n",
      "  (1545, 575)\t0.088181095703509\n",
      "  (1545, 3479)\t0.0770815397935611\n",
      "  (1545, 2821)\t0.12539412876452685\n",
      "  (1545, 1735)\t0.07380522202500323\n",
      "  (1545, 3513)\t0.0795286739671823\n",
      "  (1545, 2372)\t0.07560826257668721\n",
      "  (1545, 2342)\t0.06318481448707725\n",
      "  (1545, 385)\t0.088181095703509\n",
      "  (1545, 2452)\t0.0680841869953968\n"
     ]
    }
   ],
   "source": [
    "from sklearn.feature_extraction.text import TfidfVectorizer\n",
    "\n",
    "# Creating a TF-IDF vectorizer\n",
    "tfidf_vectorizer = TfidfVectorizer()\n",
    "\n",
    "tfidf_matrix = tfidf_vectorizer.fit_transform(top_20_tags_df['processed_quote'])\n",
    "print(tfidf_matrix)"
   ]
  },
  {
   "cell_type": "code",
   "execution_count": 57,
   "metadata": {},
   "outputs": [
    {
     "data": {
      "text/plain": [
       "array(['000', '10', '1234', ..., 'zoe', 'zone', 'zthough'], dtype=object)"
      ]
     },
     "execution_count": 57,
     "metadata": {},
     "output_type": "execute_result"
    }
   ],
   "source": [
    "tfidf_vectorizer.get_feature_names_out()"
   ]
  },
  {
   "cell_type": "code",
   "execution_count": 58,
   "metadata": {},
   "outputs": [
    {
     "data": {
      "text/plain": [
       "(1546, 4626)"
      ]
     },
     "execution_count": 58,
     "metadata": {},
     "output_type": "execute_result"
    }
   ],
   "source": [
    "tfidf_matrix.shape"
   ]
  },
  {
   "cell_type": "code",
   "execution_count": 59,
   "metadata": {},
   "outputs": [
    {
     "data": {
      "text/plain": [
       "scipy.sparse._csr.csr_matrix"
      ]
     },
     "execution_count": 59,
     "metadata": {},
     "output_type": "execute_result"
    }
   ],
   "source": [
    "type(tfidf_matrix)"
   ]
  },
  {
   "cell_type": "markdown",
   "metadata": {},
   "source": [
    "# Splitting The Data into Train & Test\n",
    "While splitting the data, it is important to make sure that the distribution of the labels in both training and testing sets must be similar. For this purpose, I have decided to use the iterative_train_test_split from the skmultilearn library."
   ]
  },
  {
   "cell_type": "code",
   "execution_count": 60,
   "metadata": {},
   "outputs": [],
   "source": [
    "from skmultilearn.model_selection import iterative_train_test_split\n",
    "from scipy.sparse import csr_matrix\n",
    "# tfidf_matrix\n",
    "# using iterative_train_split - so that each label is evenly distributed in the train & test sets\n",
    "X_train, y_train, X_test, y_test = iterative_train_test_split(tfidf_matrix, csr_matrix(target_dataframe), test_size=0.2)"
   ]
  },
  {
   "cell_type": "code",
   "execution_count": 61,
   "metadata": {},
   "outputs": [
    {
     "name": "stdout",
     "output_type": "stream",
     "text": [
      "X_train (1238, 4626)\n",
      "X_test (308, 4626)\n",
      "y_train (1238, 20)\n",
      "y_test (308, 20)\n"
     ]
    }
   ],
   "source": [
    "print(\"X_train\", X_train.shape)\n",
    "print(\"X_test\", X_test.shape)\n",
    "print(\"y_train\", y_train.shape)\n",
    "print(\"y_test\", y_test.shape)"
   ]
  },
  {
   "cell_type": "code",
   "execution_count": 62,
   "metadata": {},
   "outputs": [
    {
     "data": {
      "text/plain": [
       "<1238x20 sparse matrix of type '<class 'numpy.int64'>'\n",
       "\twith 1799 stored elements in Compressed Sparse Row format>"
      ]
     },
     "execution_count": 62,
     "metadata": {},
     "output_type": "execute_result"
    }
   ],
   "source": [
    "y_train"
   ]
  },
  {
   "cell_type": "code",
   "execution_count": 63,
   "metadata": {},
   "outputs": [
    {
     "name": "stdout",
     "output_type": "stream",
     "text": [
      "\n",
      "Dense Matrix:\n",
      "[[0 0 0 ... 0 0 0]\n",
      " [0 0 0 ... 0 0 0]\n",
      " [1 0 0 ... 0 0 0]\n",
      " ...\n",
      " [0 0 0 ... 0 0 0]\n",
      " [0 0 0 ... 0 0 0]\n",
      " [0 0 0 ... 0 0 0]]\n",
      "      book  death  friendship  funny  happiness  hope  inspiring  life  \\\n",
      "0        0      0           0      0          0     0          1     0   \n",
      "1        0      0           0      1          0     0          0     0   \n",
      "2        1      0           0      1          0     0          0     0   \n",
      "3        0      0           0      0          0     0          1     1   \n",
      "4        0      0           0      0          0     0          0     0   \n",
      "...    ...    ...         ...    ...        ...   ...        ...   ...   \n",
      "1233     0      0           0      0          0     0          1     0   \n",
      "1234     0      0           0      0          0     0          1     0   \n",
      "1235     0      0           0      0          0     0          1     0   \n",
      "1236     0      0           0      0          0     0          0     0   \n",
      "1237     0      0           0      0          1     0          0     0   \n",
      "\n",
      "      living  love  optimism  philosophy  poetry  positiveaffirmation  \\\n",
      "0          0     0         0           0       0                    0   \n",
      "1          0     0         0           1       0                    0   \n",
      "2          0     0         0           0       0                    0   \n",
      "3          0     1         0           0       0                    0   \n",
      "4          0     1         0           0       0                    0   \n",
      "...      ...   ...       ...         ...     ...                  ...   \n",
      "1233       0     0         0           0       0                    0   \n",
      "1234       0     1         0           0       0                    0   \n",
      "1235       0     0         0           0       0                    0   \n",
      "1236       0     0         0           1       0                    0   \n",
      "1237       0     0         0           0       0                    0   \n",
      "\n",
      "      reading  romance  truth  wisdom  woman  writing  \n",
      "0           0        0      0       0      0        0  \n",
      "1           0        0      0       0      0        0  \n",
      "2           0        0      0       0      0        0  \n",
      "3           0        0      0       0      0        0  \n",
      "4           0        0      0       0      0        0  \n",
      "...       ...      ...    ...     ...    ...      ...  \n",
      "1233        0        0      0       0      0        0  \n",
      "1234        0        0      0       0      0        0  \n",
      "1235        0        0      0       0      0        0  \n",
      "1236        0        0      0       0      0        0  \n",
      "1237        0        0      0       0      0        0  \n",
      "\n",
      "[1238 rows x 20 columns]\n"
     ]
    }
   ],
   "source": [
    "from scipy.sparse import csr_matrix\n",
    "\n",
    "# Converting  sparse matrix to a dense matrix\n",
    "y_train_new = y_train.toarray()\n",
    "\n",
    "print(\"\\nDense Matrix:\")\n",
    "print(y_train_new)\n",
    "\n",
    "# setting it to a dataframe\n",
    "y_train_df = pd.DataFrame(y_train_new, columns=new_columns)\n",
    "print(y_train_df)"
   ]
  },
  {
   "cell_type": "code",
   "execution_count": 64,
   "metadata": {},
   "outputs": [
    {
     "name": "stdout",
     "output_type": "stream",
     "text": [
      "     book  death  friendship  funny  happiness  hope  inspiring  life  living  \\\n",
      "0       0      0           0      0          0     0          0     1       0   \n",
      "1       1      0           0      0          0     0          0     0       0   \n",
      "2       0      0           0      1          0     0          0     1       0   \n",
      "3       0      0           1      0          0     0          0     0       0   \n",
      "4       0      0           0      0          0     0          0     1       0   \n",
      "..    ...    ...         ...    ...        ...   ...        ...   ...     ...   \n",
      "303     0      0           0      0          0     0          0     1       0   \n",
      "304     0      0           0      0          0     0          1     0       0   \n",
      "305     0      0           0      0          0     1          0     1       0   \n",
      "306     0      0           0      0          0     0          0     0       0   \n",
      "307     0      0           0      0          1     0          1     0       0   \n",
      "\n",
      "     love  optimism  philosophy  poetry  positiveaffirmation  reading  \\\n",
      "0       1         0           0       0                    0        0   \n",
      "1       0         0           0       0                    0        0   \n",
      "2       0         0           0       0                    0        0   \n",
      "3       0         0           0       0                    0        0   \n",
      "4       0         0           0       0                    0        0   \n",
      "..    ...       ...         ...     ...                  ...      ...   \n",
      "303     0         0           0       1                    0        0   \n",
      "304     0         0           0       0                    0        0   \n",
      "305     0         0           0       0                    0        0   \n",
      "306     0         0           1       0                    0        0   \n",
      "307     0         0           0       0                    0        0   \n",
      "\n",
      "     romance  truth  wisdom  woman  writing  \n",
      "0          0      1       0      0        0  \n",
      "1          0      0       0      0        0  \n",
      "2          0      0       0      0        0  \n",
      "3          0      0       0      0        0  \n",
      "4          0      0       0      0        0  \n",
      "..       ...    ...     ...    ...      ...  \n",
      "303        0      0       0      0        0  \n",
      "304        0      0       1      0        0  \n",
      "305        0      0       0      0        0  \n",
      "306        0      0       1      0        0  \n",
      "307        0      0       0      0        0  \n",
      "\n",
      "[308 rows x 20 columns]\n"
     ]
    }
   ],
   "source": [
    "# similarly for y_test\n",
    "\n",
    "# Converting  sparse matrix to a dense matrix\n",
    "y_test_new = y_test.toarray()\n",
    "\n",
    "y_test_df = pd.DataFrame(y_test_new, columns=new_columns)\n",
    "print(y_test_df)"
   ]
  },
  {
   "attachments": {},
   "cell_type": "markdown",
   "metadata": {},
   "source": [
    "# Multi-Label Naive Bayes Classifier (Baseline Model)\n",
    "Naïve Bayes (NB) Classifier is a probabilistic machine learning model which is based on the Bayes’ theorem. The MultinomialNB class in the sklearn.naive_bayes can help us to build an NB classifier. However, this class does not support multi-label classification problems.  However, we can use the OneVsRestClassifier in the sklearn.multiclass library and we can place a Naïve Bayes model within the  OneVsRestClassifier. This means that there will be a separate NB Classification model trained on predicting only one of the labels, thereby treating this as a binary classification problem rather than a multi-label classification problem."
   ]
  },
  {
   "cell_type": "code",
   "execution_count": 65,
   "metadata": {},
   "outputs": [
    {
     "name": "stdout",
     "output_type": "stream",
     "text": [
      "Fitting the model on the book label ...\n",
      "The Classification Report for model trained on book label\n",
      "              precision    recall  f1-score   support\n",
      "\n",
      "           0       0.91      1.00      0.95       279\n",
      "           1       0.00      0.00      0.00        29\n",
      "\n",
      "    accuracy                           0.91       308\n",
      "   macro avg       0.45      0.50      0.48       308\n",
      "weighted avg       0.82      0.91      0.86       308\n",
      "\n",
      "Fitting the model on the death label ...\n",
      "The Classification Report for model trained on death label\n",
      "              precision    recall  f1-score   support\n",
      "\n",
      "           0       0.97      1.00      0.99       299\n",
      "           1       0.00      0.00      0.00         9\n",
      "\n",
      "    accuracy                           0.97       308\n",
      "   macro avg       0.49      0.50      0.49       308\n",
      "weighted avg       0.94      0.97      0.96       308\n",
      "\n",
      "Fitting the model on the friendship label ...\n",
      "The Classification Report for model trained on friendship label\n",
      "              precision    recall  f1-score   support\n",
      "\n",
      "           0       0.96      1.00      0.98       295\n",
      "           1       0.00      0.00      0.00        13\n",
      "\n",
      "    accuracy                           0.96       308\n",
      "   macro avg       0.48      0.50      0.49       308\n",
      "weighted avg       0.92      0.96      0.94       308\n",
      "\n",
      "Fitting the model on the funny label ...\n",
      "The Classification Report for model trained on funny label\n",
      "              precision    recall  f1-score   support\n",
      "\n",
      "           0       0.81      1.00      0.90       250\n",
      "           1       0.00      0.00      0.00        58\n",
      "\n",
      "    accuracy                           0.81       308\n",
      "   macro avg       0.41      0.50      0.45       308\n",
      "weighted avg       0.66      0.81      0.73       308\n",
      "\n",
      "Fitting the model on the happiness label ...\n",
      "The Classification Report for model trained on happiness label\n",
      "              precision    recall  f1-score   support\n",
      "\n",
      "           0       0.95      1.00      0.98       294\n",
      "           1       0.00      0.00      0.00        14\n",
      "\n",
      "    accuracy                           0.95       308\n",
      "   macro avg       0.48      0.50      0.49       308\n",
      "weighted avg       0.91      0.95      0.93       308\n",
      "\n",
      "Fitting the model on the hope label ...\n",
      "The Classification Report for model trained on hope label\n",
      "              precision    recall  f1-score   support\n",
      "\n",
      "           0       0.97      1.00      0.99       299\n",
      "           1       0.00      0.00      0.00         9\n",
      "\n",
      "    accuracy                           0.97       308\n",
      "   macro avg       0.49      0.50      0.49       308\n",
      "weighted avg       0.94      0.97      0.96       308\n",
      "\n",
      "Fitting the model on the inspiring label ...\n",
      "The Classification Report for model trained on inspiring label\n",
      "              precision    recall  f1-score   support\n",
      "\n",
      "           0       0.77      1.00      0.87       236\n",
      "           1       1.00      0.01      0.03        72\n",
      "\n",
      "    accuracy                           0.77       308\n",
      "   macro avg       0.88      0.51      0.45       308\n",
      "weighted avg       0.82      0.77      0.67       308\n",
      "\n",
      "Fitting the model on the life label ...\n",
      "The Classification Report for model trained on life label\n",
      "              precision    recall  f1-score   support\n",
      "\n",
      "           0       0.81      1.00      0.89       249\n",
      "           1       0.00      0.00      0.00        59\n",
      "\n",
      "    accuracy                           0.81       308\n",
      "   macro avg       0.40      0.50      0.45       308\n",
      "weighted avg       0.65      0.81      0.72       308\n",
      "\n",
      "Fitting the model on the living label ...\n",
      "The Classification Report for model trained on living label\n",
      "              precision    recall  f1-score   support\n",
      "\n",
      "           0       0.97      1.00      0.98       298\n",
      "           1       0.00      0.00      0.00        10\n",
      "\n",
      "    accuracy                           0.97       308\n",
      "   macro avg       0.48      0.50      0.49       308\n",
      "weighted avg       0.94      0.97      0.95       308\n",
      "\n",
      "Fitting the model on the love label ...\n",
      "The Classification Report for model trained on love label\n",
      "              precision    recall  f1-score   support\n",
      "\n",
      "           0       0.79      1.00      0.88       243\n",
      "           1       0.00      0.00      0.00        65\n",
      "\n",
      "    accuracy                           0.79       308\n",
      "   macro avg       0.39      0.50      0.44       308\n",
      "weighted avg       0.62      0.79      0.70       308\n",
      "\n",
      "Fitting the model on the optimism label ...\n",
      "The Classification Report for model trained on optimism label\n",
      "              precision    recall  f1-score   support\n",
      "\n",
      "           0       0.97      1.00      0.98       298\n",
      "           1       0.00      0.00      0.00        10\n",
      "\n",
      "    accuracy                           0.97       308\n",
      "   macro avg       0.48      0.50      0.49       308\n",
      "weighted avg       0.94      0.97      0.95       308\n",
      "\n",
      "Fitting the model on the philosophy label ...\n",
      "The Classification Report for model trained on philosophy label\n",
      "              precision    recall  f1-score   support\n",
      "\n",
      "           0       0.96      1.00      0.98       296\n",
      "           1       0.00      0.00      0.00        12\n",
      "\n",
      "    accuracy                           0.96       308\n",
      "   macro avg       0.48      0.50      0.49       308\n",
      "weighted avg       0.92      0.96      0.94       308\n",
      "\n",
      "Fitting the model on the poetry label ...\n",
      "The Classification Report for model trained on poetry label\n",
      "              precision    recall  f1-score   support\n",
      "\n",
      "           0       0.97      1.00      0.99       299\n",
      "           1       0.00      0.00      0.00         9\n",
      "\n",
      "    accuracy                           0.97       308\n",
      "   macro avg       0.49      0.50      0.49       308\n",
      "weighted avg       0.94      0.97      0.96       308\n",
      "\n",
      "Fitting the model on the positiveaffirmation label ...\n",
      "The Classification Report for model trained on positiveaffirmation label\n",
      "              precision    recall  f1-score   support\n",
      "\n",
      "           0       0.97      1.00      0.99       300\n",
      "           1       0.00      0.00      0.00         8\n",
      "\n",
      "    accuracy                           0.97       308\n",
      "   macro avg       0.49      0.50      0.49       308\n",
      "weighted avg       0.95      0.97      0.96       308\n",
      "\n",
      "Fitting the model on the reading label ...\n",
      "The Classification Report for model trained on reading label\n",
      "              precision    recall  f1-score   support\n",
      "\n",
      "           0       0.94      1.00      0.97       291\n",
      "           1       0.00      0.00      0.00        17\n",
      "\n",
      "    accuracy                           0.94       308\n",
      "   macro avg       0.47      0.50      0.49       308\n",
      "weighted avg       0.89      0.94      0.92       308\n",
      "\n",
      "Fitting the model on the romance label ...\n",
      "The Classification Report for model trained on romance label\n",
      "              precision    recall  f1-score   support\n",
      "\n",
      "           0       0.97      1.00      0.99       299\n",
      "           1       0.00      0.00      0.00         9\n",
      "\n",
      "    accuracy                           0.97       308\n",
      "   macro avg       0.49      0.50      0.49       308\n",
      "weighted avg       0.94      0.97      0.96       308\n",
      "\n",
      "Fitting the model on the truth label ...\n",
      "The Classification Report for model trained on truth label\n",
      "              precision    recall  f1-score   support\n",
      "\n",
      "           0       0.96      1.00      0.98       296\n",
      "           1       0.00      0.00      0.00        12\n",
      "\n",
      "    accuracy                           0.96       308\n",
      "   macro avg       0.48      0.50      0.49       308\n",
      "weighted avg       0.92      0.96      0.94       308\n",
      "\n",
      "Fitting the model on the wisdom label ...\n",
      "The Classification Report for model trained on wisdom label\n",
      "              precision    recall  f1-score   support\n",
      "\n",
      "           0       0.96      1.00      0.98       296\n",
      "           1       0.00      0.00      0.00        12\n",
      "\n",
      "    accuracy                           0.96       308\n",
      "   macro avg       0.48      0.50      0.49       308\n",
      "weighted avg       0.92      0.96      0.94       308\n",
      "\n",
      "Fitting the model on the woman label ...\n",
      "The Classification Report for model trained on woman label\n",
      "              precision    recall  f1-score   support\n",
      "\n",
      "           0       0.97      1.00      0.99       300\n",
      "           1       0.00      0.00      0.00         8\n",
      "\n",
      "    accuracy                           0.97       308\n",
      "   macro avg       0.49      0.50      0.49       308\n",
      "weighted avg       0.95      0.97      0.96       308\n",
      "\n",
      "Fitting the model on the writing label ...\n",
      "The Classification Report for model trained on writing label\n",
      "              precision    recall  f1-score   support\n",
      "\n",
      "           0       0.96      1.00      0.98       295\n",
      "           1       0.00      0.00      0.00        13\n",
      "\n",
      "    accuracy                           0.96       308\n",
      "   macro avg       0.48      0.50      0.49       308\n",
      "weighted avg       0.92      0.96      0.94       308\n",
      "\n"
     ]
    },
    {
     "name": "stderr",
     "output_type": "stream",
     "text": [
      "/opt/homebrew/anaconda3/envs/info7390/lib/python3.8/site-packages/sklearn/metrics/_classification.py:1471: UndefinedMetricWarning:\n",
      "\n",
      "Precision and F-score are ill-defined and being set to 0.0 in labels with no predicted samples. Use `zero_division` parameter to control this behavior.\n",
      "\n",
      "/opt/homebrew/anaconda3/envs/info7390/lib/python3.8/site-packages/sklearn/metrics/_classification.py:1471: UndefinedMetricWarning:\n",
      "\n",
      "Precision and F-score are ill-defined and being set to 0.0 in labels with no predicted samples. Use `zero_division` parameter to control this behavior.\n",
      "\n",
      "/opt/homebrew/anaconda3/envs/info7390/lib/python3.8/site-packages/sklearn/metrics/_classification.py:1471: UndefinedMetricWarning:\n",
      "\n",
      "Precision and F-score are ill-defined and being set to 0.0 in labels with no predicted samples. Use `zero_division` parameter to control this behavior.\n",
      "\n",
      "/opt/homebrew/anaconda3/envs/info7390/lib/python3.8/site-packages/sklearn/metrics/_classification.py:1471: UndefinedMetricWarning:\n",
      "\n",
      "Precision and F-score are ill-defined and being set to 0.0 in labels with no predicted samples. Use `zero_division` parameter to control this behavior.\n",
      "\n",
      "/opt/homebrew/anaconda3/envs/info7390/lib/python3.8/site-packages/sklearn/metrics/_classification.py:1471: UndefinedMetricWarning:\n",
      "\n",
      "Precision and F-score are ill-defined and being set to 0.0 in labels with no predicted samples. Use `zero_division` parameter to control this behavior.\n",
      "\n",
      "/opt/homebrew/anaconda3/envs/info7390/lib/python3.8/site-packages/sklearn/metrics/_classification.py:1471: UndefinedMetricWarning:\n",
      "\n",
      "Precision and F-score are ill-defined and being set to 0.0 in labels with no predicted samples. Use `zero_division` parameter to control this behavior.\n",
      "\n",
      "/opt/homebrew/anaconda3/envs/info7390/lib/python3.8/site-packages/sklearn/metrics/_classification.py:1471: UndefinedMetricWarning:\n",
      "\n",
      "Precision and F-score are ill-defined and being set to 0.0 in labels with no predicted samples. Use `zero_division` parameter to control this behavior.\n",
      "\n",
      "/opt/homebrew/anaconda3/envs/info7390/lib/python3.8/site-packages/sklearn/metrics/_classification.py:1471: UndefinedMetricWarning:\n",
      "\n",
      "Precision and F-score are ill-defined and being set to 0.0 in labels with no predicted samples. Use `zero_division` parameter to control this behavior.\n",
      "\n",
      "/opt/homebrew/anaconda3/envs/info7390/lib/python3.8/site-packages/sklearn/metrics/_classification.py:1471: UndefinedMetricWarning:\n",
      "\n",
      "Precision and F-score are ill-defined and being set to 0.0 in labels with no predicted samples. Use `zero_division` parameter to control this behavior.\n",
      "\n",
      "/opt/homebrew/anaconda3/envs/info7390/lib/python3.8/site-packages/sklearn/metrics/_classification.py:1471: UndefinedMetricWarning:\n",
      "\n",
      "Precision and F-score are ill-defined and being set to 0.0 in labels with no predicted samples. Use `zero_division` parameter to control this behavior.\n",
      "\n",
      "/opt/homebrew/anaconda3/envs/info7390/lib/python3.8/site-packages/sklearn/metrics/_classification.py:1471: UndefinedMetricWarning:\n",
      "\n",
      "Precision and F-score are ill-defined and being set to 0.0 in labels with no predicted samples. Use `zero_division` parameter to control this behavior.\n",
      "\n",
      "/opt/homebrew/anaconda3/envs/info7390/lib/python3.8/site-packages/sklearn/metrics/_classification.py:1471: UndefinedMetricWarning:\n",
      "\n",
      "Precision and F-score are ill-defined and being set to 0.0 in labels with no predicted samples. Use `zero_division` parameter to control this behavior.\n",
      "\n",
      "/opt/homebrew/anaconda3/envs/info7390/lib/python3.8/site-packages/sklearn/metrics/_classification.py:1471: UndefinedMetricWarning:\n",
      "\n",
      "Precision and F-score are ill-defined and being set to 0.0 in labels with no predicted samples. Use `zero_division` parameter to control this behavior.\n",
      "\n",
      "/opt/homebrew/anaconda3/envs/info7390/lib/python3.8/site-packages/sklearn/metrics/_classification.py:1471: UndefinedMetricWarning:\n",
      "\n",
      "Precision and F-score are ill-defined and being set to 0.0 in labels with no predicted samples. Use `zero_division` parameter to control this behavior.\n",
      "\n",
      "/opt/homebrew/anaconda3/envs/info7390/lib/python3.8/site-packages/sklearn/metrics/_classification.py:1471: UndefinedMetricWarning:\n",
      "\n",
      "Precision and F-score are ill-defined and being set to 0.0 in labels with no predicted samples. Use `zero_division` parameter to control this behavior.\n",
      "\n",
      "/opt/homebrew/anaconda3/envs/info7390/lib/python3.8/site-packages/sklearn/metrics/_classification.py:1471: UndefinedMetricWarning:\n",
      "\n",
      "Precision and F-score are ill-defined and being set to 0.0 in labels with no predicted samples. Use `zero_division` parameter to control this behavior.\n",
      "\n",
      "/opt/homebrew/anaconda3/envs/info7390/lib/python3.8/site-packages/sklearn/metrics/_classification.py:1471: UndefinedMetricWarning:\n",
      "\n",
      "Precision and F-score are ill-defined and being set to 0.0 in labels with no predicted samples. Use `zero_division` parameter to control this behavior.\n",
      "\n",
      "/opt/homebrew/anaconda3/envs/info7390/lib/python3.8/site-packages/sklearn/metrics/_classification.py:1471: UndefinedMetricWarning:\n",
      "\n",
      "Precision and F-score are ill-defined and being set to 0.0 in labels with no predicted samples. Use `zero_division` parameter to control this behavior.\n",
      "\n",
      "/opt/homebrew/anaconda3/envs/info7390/lib/python3.8/site-packages/sklearn/metrics/_classification.py:1471: UndefinedMetricWarning:\n",
      "\n",
      "Precision and F-score are ill-defined and being set to 0.0 in labels with no predicted samples. Use `zero_division` parameter to control this behavior.\n",
      "\n",
      "/opt/homebrew/anaconda3/envs/info7390/lib/python3.8/site-packages/sklearn/metrics/_classification.py:1471: UndefinedMetricWarning:\n",
      "\n",
      "Precision and F-score are ill-defined and being set to 0.0 in labels with no predicted samples. Use `zero_division` parameter to control this behavior.\n",
      "\n",
      "/opt/homebrew/anaconda3/envs/info7390/lib/python3.8/site-packages/sklearn/metrics/_classification.py:1471: UndefinedMetricWarning:\n",
      "\n",
      "Precision and F-score are ill-defined and being set to 0.0 in labels with no predicted samples. Use `zero_division` parameter to control this behavior.\n",
      "\n",
      "/opt/homebrew/anaconda3/envs/info7390/lib/python3.8/site-packages/sklearn/metrics/_classification.py:1471: UndefinedMetricWarning:\n",
      "\n",
      "Precision and F-score are ill-defined and being set to 0.0 in labels with no predicted samples. Use `zero_division` parameter to control this behavior.\n",
      "\n",
      "/opt/homebrew/anaconda3/envs/info7390/lib/python3.8/site-packages/sklearn/metrics/_classification.py:1471: UndefinedMetricWarning:\n",
      "\n",
      "Precision and F-score are ill-defined and being set to 0.0 in labels with no predicted samples. Use `zero_division` parameter to control this behavior.\n",
      "\n",
      "/opt/homebrew/anaconda3/envs/info7390/lib/python3.8/site-packages/sklearn/metrics/_classification.py:1471: UndefinedMetricWarning:\n",
      "\n",
      "Precision and F-score are ill-defined and being set to 0.0 in labels with no predicted samples. Use `zero_division` parameter to control this behavior.\n",
      "\n",
      "/opt/homebrew/anaconda3/envs/info7390/lib/python3.8/site-packages/sklearn/metrics/_classification.py:1471: UndefinedMetricWarning:\n",
      "\n",
      "Precision and F-score are ill-defined and being set to 0.0 in labels with no predicted samples. Use `zero_division` parameter to control this behavior.\n",
      "\n",
      "/opt/homebrew/anaconda3/envs/info7390/lib/python3.8/site-packages/sklearn/metrics/_classification.py:1471: UndefinedMetricWarning:\n",
      "\n",
      "Precision and F-score are ill-defined and being set to 0.0 in labels with no predicted samples. Use `zero_division` parameter to control this behavior.\n",
      "\n",
      "/opt/homebrew/anaconda3/envs/info7390/lib/python3.8/site-packages/sklearn/metrics/_classification.py:1471: UndefinedMetricWarning:\n",
      "\n",
      "Precision and F-score are ill-defined and being set to 0.0 in labels with no predicted samples. Use `zero_division` parameter to control this behavior.\n",
      "\n",
      "/opt/homebrew/anaconda3/envs/info7390/lib/python3.8/site-packages/sklearn/metrics/_classification.py:1471: UndefinedMetricWarning:\n",
      "\n",
      "Precision and F-score are ill-defined and being set to 0.0 in labels with no predicted samples. Use `zero_division` parameter to control this behavior.\n",
      "\n",
      "/opt/homebrew/anaconda3/envs/info7390/lib/python3.8/site-packages/sklearn/metrics/_classification.py:1471: UndefinedMetricWarning:\n",
      "\n",
      "Precision and F-score are ill-defined and being set to 0.0 in labels with no predicted samples. Use `zero_division` parameter to control this behavior.\n",
      "\n",
      "/opt/homebrew/anaconda3/envs/info7390/lib/python3.8/site-packages/sklearn/metrics/_classification.py:1471: UndefinedMetricWarning:\n",
      "\n",
      "Precision and F-score are ill-defined and being set to 0.0 in labels with no predicted samples. Use `zero_division` parameter to control this behavior.\n",
      "\n",
      "/opt/homebrew/anaconda3/envs/info7390/lib/python3.8/site-packages/sklearn/metrics/_classification.py:1471: UndefinedMetricWarning:\n",
      "\n",
      "Precision and F-score are ill-defined and being set to 0.0 in labels with no predicted samples. Use `zero_division` parameter to control this behavior.\n",
      "\n",
      "/opt/homebrew/anaconda3/envs/info7390/lib/python3.8/site-packages/sklearn/metrics/_classification.py:1471: UndefinedMetricWarning:\n",
      "\n",
      "Precision and F-score are ill-defined and being set to 0.0 in labels with no predicted samples. Use `zero_division` parameter to control this behavior.\n",
      "\n",
      "/opt/homebrew/anaconda3/envs/info7390/lib/python3.8/site-packages/sklearn/metrics/_classification.py:1471: UndefinedMetricWarning:\n",
      "\n",
      "Precision and F-score are ill-defined and being set to 0.0 in labels with no predicted samples. Use `zero_division` parameter to control this behavior.\n",
      "\n",
      "/opt/homebrew/anaconda3/envs/info7390/lib/python3.8/site-packages/sklearn/metrics/_classification.py:1471: UndefinedMetricWarning:\n",
      "\n",
      "Precision and F-score are ill-defined and being set to 0.0 in labels with no predicted samples. Use `zero_division` parameter to control this behavior.\n",
      "\n",
      "/opt/homebrew/anaconda3/envs/info7390/lib/python3.8/site-packages/sklearn/metrics/_classification.py:1471: UndefinedMetricWarning:\n",
      "\n",
      "Precision and F-score are ill-defined and being set to 0.0 in labels with no predicted samples. Use `zero_division` parameter to control this behavior.\n",
      "\n",
      "/opt/homebrew/anaconda3/envs/info7390/lib/python3.8/site-packages/sklearn/metrics/_classification.py:1471: UndefinedMetricWarning:\n",
      "\n",
      "Precision and F-score are ill-defined and being set to 0.0 in labels with no predicted samples. Use `zero_division` parameter to control this behavior.\n",
      "\n",
      "/opt/homebrew/anaconda3/envs/info7390/lib/python3.8/site-packages/sklearn/metrics/_classification.py:1471: UndefinedMetricWarning:\n",
      "\n",
      "Precision and F-score are ill-defined and being set to 0.0 in labels with no predicted samples. Use `zero_division` parameter to control this behavior.\n",
      "\n",
      "/opt/homebrew/anaconda3/envs/info7390/lib/python3.8/site-packages/sklearn/metrics/_classification.py:1471: UndefinedMetricWarning:\n",
      "\n",
      "Precision and F-score are ill-defined and being set to 0.0 in labels with no predicted samples. Use `zero_division` parameter to control this behavior.\n",
      "\n",
      "/opt/homebrew/anaconda3/envs/info7390/lib/python3.8/site-packages/sklearn/metrics/_classification.py:1471: UndefinedMetricWarning:\n",
      "\n",
      "Precision and F-score are ill-defined and being set to 0.0 in labels with no predicted samples. Use `zero_division` parameter to control this behavior.\n",
      "\n",
      "/opt/homebrew/anaconda3/envs/info7390/lib/python3.8/site-packages/sklearn/metrics/_classification.py:1471: UndefinedMetricWarning:\n",
      "\n",
      "Precision and F-score are ill-defined and being set to 0.0 in labels with no predicted samples. Use `zero_division` parameter to control this behavior.\n",
      "\n",
      "/opt/homebrew/anaconda3/envs/info7390/lib/python3.8/site-packages/sklearn/metrics/_classification.py:1471: UndefinedMetricWarning:\n",
      "\n",
      "Precision and F-score are ill-defined and being set to 0.0 in labels with no predicted samples. Use `zero_division` parameter to control this behavior.\n",
      "\n",
      "/opt/homebrew/anaconda3/envs/info7390/lib/python3.8/site-packages/sklearn/metrics/_classification.py:1471: UndefinedMetricWarning:\n",
      "\n",
      "Precision and F-score are ill-defined and being set to 0.0 in labels with no predicted samples. Use `zero_division` parameter to control this behavior.\n",
      "\n",
      "/opt/homebrew/anaconda3/envs/info7390/lib/python3.8/site-packages/sklearn/metrics/_classification.py:1471: UndefinedMetricWarning:\n",
      "\n",
      "Precision and F-score are ill-defined and being set to 0.0 in labels with no predicted samples. Use `zero_division` parameter to control this behavior.\n",
      "\n",
      "/opt/homebrew/anaconda3/envs/info7390/lib/python3.8/site-packages/sklearn/metrics/_classification.py:1471: UndefinedMetricWarning:\n",
      "\n",
      "Precision and F-score are ill-defined and being set to 0.0 in labels with no predicted samples. Use `zero_division` parameter to control this behavior.\n",
      "\n",
      "/opt/homebrew/anaconda3/envs/info7390/lib/python3.8/site-packages/sklearn/metrics/_classification.py:1471: UndefinedMetricWarning:\n",
      "\n",
      "Precision and F-score are ill-defined and being set to 0.0 in labels with no predicted samples. Use `zero_division` parameter to control this behavior.\n",
      "\n",
      "/opt/homebrew/anaconda3/envs/info7390/lib/python3.8/site-packages/sklearn/metrics/_classification.py:1471: UndefinedMetricWarning:\n",
      "\n",
      "Precision and F-score are ill-defined and being set to 0.0 in labels with no predicted samples. Use `zero_division` parameter to control this behavior.\n",
      "\n",
      "/opt/homebrew/anaconda3/envs/info7390/lib/python3.8/site-packages/sklearn/metrics/_classification.py:1471: UndefinedMetricWarning:\n",
      "\n",
      "Precision and F-score are ill-defined and being set to 0.0 in labels with no predicted samples. Use `zero_division` parameter to control this behavior.\n",
      "\n",
      "/opt/homebrew/anaconda3/envs/info7390/lib/python3.8/site-packages/sklearn/metrics/_classification.py:1471: UndefinedMetricWarning:\n",
      "\n",
      "Precision and F-score are ill-defined and being set to 0.0 in labels with no predicted samples. Use `zero_division` parameter to control this behavior.\n",
      "\n",
      "/opt/homebrew/anaconda3/envs/info7390/lib/python3.8/site-packages/sklearn/metrics/_classification.py:1471: UndefinedMetricWarning:\n",
      "\n",
      "Precision and F-score are ill-defined and being set to 0.0 in labels with no predicted samples. Use `zero_division` parameter to control this behavior.\n",
      "\n",
      "/opt/homebrew/anaconda3/envs/info7390/lib/python3.8/site-packages/sklearn/metrics/_classification.py:1471: UndefinedMetricWarning:\n",
      "\n",
      "Precision and F-score are ill-defined and being set to 0.0 in labels with no predicted samples. Use `zero_division` parameter to control this behavior.\n",
      "\n",
      "/opt/homebrew/anaconda3/envs/info7390/lib/python3.8/site-packages/sklearn/metrics/_classification.py:1471: UndefinedMetricWarning:\n",
      "\n",
      "Precision and F-score are ill-defined and being set to 0.0 in labels with no predicted samples. Use `zero_division` parameter to control this behavior.\n",
      "\n",
      "/opt/homebrew/anaconda3/envs/info7390/lib/python3.8/site-packages/sklearn/metrics/_classification.py:1471: UndefinedMetricWarning:\n",
      "\n",
      "Precision and F-score are ill-defined and being set to 0.0 in labels with no predicted samples. Use `zero_division` parameter to control this behavior.\n",
      "\n",
      "/opt/homebrew/anaconda3/envs/info7390/lib/python3.8/site-packages/sklearn/metrics/_classification.py:1471: UndefinedMetricWarning:\n",
      "\n",
      "Precision and F-score are ill-defined and being set to 0.0 in labels with no predicted samples. Use `zero_division` parameter to control this behavior.\n",
      "\n",
      "/opt/homebrew/anaconda3/envs/info7390/lib/python3.8/site-packages/sklearn/metrics/_classification.py:1471: UndefinedMetricWarning:\n",
      "\n",
      "Precision and F-score are ill-defined and being set to 0.0 in labels with no predicted samples. Use `zero_division` parameter to control this behavior.\n",
      "\n",
      "/opt/homebrew/anaconda3/envs/info7390/lib/python3.8/site-packages/sklearn/metrics/_classification.py:1471: UndefinedMetricWarning:\n",
      "\n",
      "Precision and F-score are ill-defined and being set to 0.0 in labels with no predicted samples. Use `zero_division` parameter to control this behavior.\n",
      "\n",
      "/opt/homebrew/anaconda3/envs/info7390/lib/python3.8/site-packages/sklearn/metrics/_classification.py:1471: UndefinedMetricWarning:\n",
      "\n",
      "Precision and F-score are ill-defined and being set to 0.0 in labels with no predicted samples. Use `zero_division` parameter to control this behavior.\n",
      "\n",
      "/opt/homebrew/anaconda3/envs/info7390/lib/python3.8/site-packages/sklearn/metrics/_classification.py:1471: UndefinedMetricWarning:\n",
      "\n",
      "Precision and F-score are ill-defined and being set to 0.0 in labels with no predicted samples. Use `zero_division` parameter to control this behavior.\n",
      "\n"
     ]
    }
   ],
   "source": [
    "# importing the libraries\n",
    "# from sklearn.pipeline import Pipeline\n",
    "# from sklearn.multiclass import OneVsRestClassifier\n",
    "from sklearn.naive_bayes import MultinomialNB\n",
    "from sklearn.metrics import classification_report\n",
    "\n",
    "# Define a pipeline combining a text feature extractor with multi lable classifier\n",
    "# nb_pipeline = Pipeline([\n",
    "#                 ('clf', OneVsRestClassifier(MultinomialNB(\n",
    "#                     fit_prior=True, class_prior=None))),\n",
    "#             ])\n",
    "\n",
    "# creating a dictionary of the naive bayes classifiers\n",
    "nb_classifiers = {}\n",
    "\n",
    "# new_columns is our previously defined list containing all the labels\n",
    "for label in new_columns:\n",
    "    print('Fitting the model on the {} label ...'.format(label))\n",
    "    nb_clf = MultinomialNB()\n",
    "    # train the model using X_dtm & y\n",
    "    nb_clf_model = nb_clf.fit(X_train, y_train_df[label])\n",
    "    prediction = nb_clf_model.predict(X_test)\n",
    "    # now printing the classification report for each model\n",
    "    print('The Classification Report for model trained on {} label'.format(label))\n",
    "    print(classification_report(y_test_df[label], prediction))\n",
    "    nb_classifiers[label] = nb_clf_model"
   ]
  },
  {
   "cell_type": "code",
   "execution_count": 66,
   "metadata": {},
   "outputs": [],
   "source": [
    "# writing a function which performs all the steps for prediction\n",
    "# input - quote: string, \n",
    "\n",
    "def predict_quote(quote, nb_classifiers_dict=nb_classifiers, vectorizer=tfidf_vectorizer):\n",
    "    # the preprocess_single_quote_text function does tokenization, stop word removal and lemmetization\n",
    "    result_str = preprocess_single_quote_text(quote)\n",
    "    # print (result)\n",
    "\n",
    "    # now using the vectorizer which has already been fitted on the data\n",
    "    vectorized_str = vectorizer.transform([result_str])\n",
    "    # for debugging\n",
    "    # print(vectorized_str)\n",
    "    # print(type(vectorized_str))\n",
    "    # print(vectorized_str.shape)\n",
    "    \n",
    "    # making the prediction for all the models\n",
    "    for label, naive_bayes_clf in nb_classifiers_dict.items():\n",
    "        # print(label)\n",
    "        # print(naive_bayes_clf)\n",
    "        pred = naive_bayes_clf.predict(vectorized_str)\n",
    "        print(label, pred)\n",
    "        # if(prediction[0] != 0):\n",
    "        #     print(label, prediction)"
   ]
  },
  {
   "cell_type": "code",
   "execution_count": 67,
   "metadata": {},
   "outputs": [
    {
     "name": "stdout",
     "output_type": "stream",
     "text": [
      "book [0]\n",
      "death [0]\n",
      "friendship [0]\n",
      "funny [0]\n",
      "happiness [0]\n",
      "hope [0]\n",
      "inspiring [0]\n",
      "life [0]\n",
      "living [0]\n",
      "love [0]\n",
      "optimism [0]\n",
      "philosophy [0]\n",
      "poetry [0]\n",
      "positiveaffirmation [0]\n",
      "reading [0]\n",
      "romance [0]\n",
      "truth [0]\n",
      "wisdom [0]\n",
      "woman [0]\n",
      "writing [0]\n"
     ]
    }
   ],
   "source": [
    "predict_quote(\"Nothing is impossible. The word itself says 'I'm possible!\")"
   ]
  },
  {
   "cell_type": "code",
   "execution_count": 68,
   "metadata": {},
   "outputs": [
    {
     "name": "stdout",
     "output_type": "stream",
     "text": [
      "book [0]\n",
      "death [0]\n",
      "friendship [0]\n",
      "funny [0]\n",
      "happiness [0]\n",
      "hope [0]\n",
      "inspiring [0]\n",
      "life [0]\n",
      "living [0]\n",
      "love [0]\n",
      "optimism [0]\n",
      "philosophy [0]\n",
      "poetry [0]\n",
      "positiveaffirmation [0]\n",
      "reading [0]\n",
      "romance [0]\n",
      "truth [0]\n",
      "wisdom [0]\n",
      "woman [0]\n",
      "writing [0]\n"
     ]
    }
   ],
   "source": [
    "predict_quote(\"A room without books is like a body without a soul.\")"
   ]
  },
  {
   "cell_type": "markdown",
   "metadata": {},
   "source": [
    "From the above, we can see that the model is not good. For each quote it is predicting the same values - 0. <br>\n",
    "Also notice how the f1-score for each of the different classifiers is either 0.00 or very close to 0. "
   ]
  },
  {
   "cell_type": "markdown",
   "metadata": {},
   "source": [
    "## Improving the Naive Bayes Classifiers"
   ]
  },
  {
   "cell_type": "markdown",
   "metadata": {},
   "source": [
    "For improving the previous model, I will be taking into account the following:\n",
    "1. Handling the class imbalance:\n",
    "I have decided to perform down-sampling. This is because I want to keep the model simple because of limited time and computing constraints.\n",
    "2. Model hyper-parameter tuning.\n"
   ]
  },
  {
   "cell_type": "markdown",
   "metadata": {},
   "source": [
    "### Handling Class Imbalance"
   ]
  },
  {
   "cell_type": "code",
   "execution_count": 69,
   "metadata": {},
   "outputs": [
    {
     "name": "stdout",
     "output_type": "stream",
     "text": [
      "Inspiring Label 0: (1186, 20)\n",
      "Inspiring Label 1: (360, 20)\n"
     ]
    }
   ],
   "source": [
    "# counting classes for insipiring tag\n",
    "inspiring_count_0, inspiring_count_1 = target_dataframe['inspiring'].value_counts()\n",
    "# class_count_0, class_count_1 = data['Class'].value_counts()\n",
    "\n",
    "# Separate class\n",
    "inspiring_label_0 = target_dataframe[target_dataframe['inspiring'] == 0]\n",
    "inspiring_label_1 = target_dataframe[target_dataframe['inspiring'] == 1]\n",
    "\n",
    "print('Inspiring Label 0:', inspiring_label_0.shape)\n",
    "print('Inspiring Label 1:', inspiring_label_1.shape)\n"
   ]
  },
  {
   "cell_type": "markdown",
   "metadata": {},
   "source": [
    "Since most of the tags have a frequency of 50 - 80, let us try to reduce the inspire tags down to 80. <br>\n",
    "For this I will drop 280 rows  which have inspiring tag. After dropping the rows, I will recompute the counts of each tag, since some of the data of the other tags will also be lost. "
   ]
  },
  {
   "cell_type": "code",
   "execution_count": 70,
   "metadata": {},
   "outputs": [
    {
     "data": {
      "text/html": [
       "<div>\n",
       "<style scoped>\n",
       "    .dataframe tbody tr th:only-of-type {\n",
       "        vertical-align: middle;\n",
       "    }\n",
       "\n",
       "    .dataframe tbody tr th {\n",
       "        vertical-align: top;\n",
       "    }\n",
       "\n",
       "    .dataframe thead th {\n",
       "        text-align: right;\n",
       "    }\n",
       "</style>\n",
       "<table border=\"1\" class=\"dataframe\">\n",
       "  <thead>\n",
       "    <tr style=\"text-align: right;\">\n",
       "      <th></th>\n",
       "      <th>level_0</th>\n",
       "      <th>index</th>\n",
       "      <th>quote</th>\n",
       "      <th>author</th>\n",
       "      <th>tags</th>\n",
       "      <th>processed_quote</th>\n",
       "      <th>book</th>\n",
       "      <th>death</th>\n",
       "      <th>friendship</th>\n",
       "      <th>funny</th>\n",
       "      <th>...</th>\n",
       "      <th>optimism</th>\n",
       "      <th>philosophy</th>\n",
       "      <th>poetry</th>\n",
       "      <th>positiveaffirmation</th>\n",
       "      <th>reading</th>\n",
       "      <th>romance</th>\n",
       "      <th>truth</th>\n",
       "      <th>wisdom</th>\n",
       "      <th>woman</th>\n",
       "      <th>writing</th>\n",
       "    </tr>\n",
       "  </thead>\n",
       "  <tbody>\n",
       "    <tr>\n",
       "      <th>0</th>\n",
       "      <td>1</td>\n",
       "      <td>1</td>\n",
       "      <td>“I'm selfish, impatient and a little insecure....</td>\n",
       "      <td>Marilyn Monroe</td>\n",
       "      <td>[truth, love, life]</td>\n",
       "      <td>selfish impatient little insecure make mistake...</td>\n",
       "      <td>0</td>\n",
       "      <td>0</td>\n",
       "      <td>0</td>\n",
       "      <td>0</td>\n",
       "      <td>...</td>\n",
       "      <td>0</td>\n",
       "      <td>0</td>\n",
       "      <td>0</td>\n",
       "      <td>0</td>\n",
       "      <td>0</td>\n",
       "      <td>0</td>\n",
       "      <td>1</td>\n",
       "      <td>0</td>\n",
       "      <td>0</td>\n",
       "      <td>0</td>\n",
       "    </tr>\n",
       "    <tr>\n",
       "      <th>1</th>\n",
       "      <td>2</td>\n",
       "      <td>2</td>\n",
       "      <td>“Two things are infinite: the universe and hum...</td>\n",
       "      <td>Albert Einstein</td>\n",
       "      <td>[funny, philosophy]</td>\n",
       "      <td>two thing infinite universe human stupidity su...</td>\n",
       "      <td>0</td>\n",
       "      <td>0</td>\n",
       "      <td>0</td>\n",
       "      <td>1</td>\n",
       "      <td>...</td>\n",
       "      <td>0</td>\n",
       "      <td>1</td>\n",
       "      <td>0</td>\n",
       "      <td>0</td>\n",
       "      <td>0</td>\n",
       "      <td>0</td>\n",
       "      <td>0</td>\n",
       "      <td>0</td>\n",
       "      <td>0</td>\n",
       "      <td>0</td>\n",
       "    </tr>\n",
       "    <tr>\n",
       "      <th>2</th>\n",
       "      <td>3</td>\n",
       "      <td>3</td>\n",
       "      <td>“So many books, so little time.”</td>\n",
       "      <td>Frank Zappa</td>\n",
       "      <td>[funny, book]</td>\n",
       "      <td>many book little time</td>\n",
       "      <td>1</td>\n",
       "      <td>0</td>\n",
       "      <td>0</td>\n",
       "      <td>1</td>\n",
       "      <td>...</td>\n",
       "      <td>0</td>\n",
       "      <td>0</td>\n",
       "      <td>0</td>\n",
       "      <td>0</td>\n",
       "      <td>0</td>\n",
       "      <td>0</td>\n",
       "      <td>0</td>\n",
       "      <td>0</td>\n",
       "      <td>0</td>\n",
       "      <td>0</td>\n",
       "    </tr>\n",
       "    <tr>\n",
       "      <th>3</th>\n",
       "      <td>4</td>\n",
       "      <td>4</td>\n",
       "      <td>“A room without books is like a body without a...</td>\n",
       "      <td>Marcus Tullius Cicero</td>\n",
       "      <td>[book]</td>\n",
       "      <td>room without book like body without soul</td>\n",
       "      <td>1</td>\n",
       "      <td>0</td>\n",
       "      <td>0</td>\n",
       "      <td>0</td>\n",
       "      <td>...</td>\n",
       "      <td>0</td>\n",
       "      <td>0</td>\n",
       "      <td>0</td>\n",
       "      <td>0</td>\n",
       "      <td>0</td>\n",
       "      <td>0</td>\n",
       "      <td>0</td>\n",
       "      <td>0</td>\n",
       "      <td>0</td>\n",
       "      <td>0</td>\n",
       "    </tr>\n",
       "    <tr>\n",
       "      <th>4</th>\n",
       "      <td>6</td>\n",
       "      <td>7</td>\n",
       "      <td>“You know you're in love when you can't fall a...</td>\n",
       "      <td>Dr. Seuss</td>\n",
       "      <td>[love]</td>\n",
       "      <td>know love fall asleep reality finally better d...</td>\n",
       "      <td>0</td>\n",
       "      <td>0</td>\n",
       "      <td>0</td>\n",
       "      <td>0</td>\n",
       "      <td>...</td>\n",
       "      <td>0</td>\n",
       "      <td>0</td>\n",
       "      <td>0</td>\n",
       "      <td>0</td>\n",
       "      <td>0</td>\n",
       "      <td>0</td>\n",
       "      <td>0</td>\n",
       "      <td>0</td>\n",
       "      <td>0</td>\n",
       "      <td>0</td>\n",
       "    </tr>\n",
       "    <tr>\n",
       "      <th>...</th>\n",
       "      <td>...</td>\n",
       "      <td>...</td>\n",
       "      <td>...</td>\n",
       "      <td>...</td>\n",
       "      <td>...</td>\n",
       "      <td>...</td>\n",
       "      <td>...</td>\n",
       "      <td>...</td>\n",
       "      <td>...</td>\n",
       "      <td>...</td>\n",
       "      <td>...</td>\n",
       "      <td>...</td>\n",
       "      <td>...</td>\n",
       "      <td>...</td>\n",
       "      <td>...</td>\n",
       "      <td>...</td>\n",
       "      <td>...</td>\n",
       "      <td>...</td>\n",
       "      <td>...</td>\n",
       "      <td>...</td>\n",
       "      <td>...</td>\n",
       "    </tr>\n",
       "    <tr>\n",
       "      <th>1262</th>\n",
       "      <td>1541</td>\n",
       "      <td>2499</td>\n",
       "      <td>“I am a part of all that I have met.”</td>\n",
       "      <td>Alfred Tennyson,</td>\n",
       "      <td>[inspiring]</td>\n",
       "      <td>part met</td>\n",
       "      <td>0</td>\n",
       "      <td>0</td>\n",
       "      <td>0</td>\n",
       "      <td>0</td>\n",
       "      <td>...</td>\n",
       "      <td>0</td>\n",
       "      <td>0</td>\n",
       "      <td>0</td>\n",
       "      <td>0</td>\n",
       "      <td>0</td>\n",
       "      <td>0</td>\n",
       "      <td>0</td>\n",
       "      <td>0</td>\n",
       "      <td>0</td>\n",
       "      <td>0</td>\n",
       "    </tr>\n",
       "    <tr>\n",
       "      <th>1263</th>\n",
       "      <td>1542</td>\n",
       "      <td>2501</td>\n",
       "      <td>“I sought to hear the voice of God and climbed...</td>\n",
       "      <td>John Henry Newman</td>\n",
       "      <td>[inspiring, love]</td>\n",
       "      <td>sought hear voice god climbed topmost steeple ...</td>\n",
       "      <td>0</td>\n",
       "      <td>0</td>\n",
       "      <td>0</td>\n",
       "      <td>0</td>\n",
       "      <td>...</td>\n",
       "      <td>0</td>\n",
       "      <td>0</td>\n",
       "      <td>0</td>\n",
       "      <td>0</td>\n",
       "      <td>0</td>\n",
       "      <td>0</td>\n",
       "      <td>0</td>\n",
       "      <td>0</td>\n",
       "      <td>0</td>\n",
       "      <td>0</td>\n",
       "    </tr>\n",
       "    <tr>\n",
       "      <th>1264</th>\n",
       "      <td>1543</td>\n",
       "      <td>2502</td>\n",
       "      <td>“Stepping onto a brand-new path is difficult, ...</td>\n",
       "      <td>Maya Angelou</td>\n",
       "      <td>[inspiring]</td>\n",
       "      <td>stepping onto brand new path difficult difficu...</td>\n",
       "      <td>0</td>\n",
       "      <td>0</td>\n",
       "      <td>0</td>\n",
       "      <td>0</td>\n",
       "      <td>...</td>\n",
       "      <td>0</td>\n",
       "      <td>0</td>\n",
       "      <td>0</td>\n",
       "      <td>0</td>\n",
       "      <td>0</td>\n",
       "      <td>0</td>\n",
       "      <td>0</td>\n",
       "      <td>0</td>\n",
       "      <td>0</td>\n",
       "      <td>0</td>\n",
       "    </tr>\n",
       "    <tr>\n",
       "      <th>1265</th>\n",
       "      <td>1544</td>\n",
       "      <td>2503</td>\n",
       "      <td>“Morality is simply the attitude we adopt towa...</td>\n",
       "      <td>Oscar Wilde,</td>\n",
       "      <td>[philosophy]</td>\n",
       "      <td>morality simply attitude adopt towards people ...</td>\n",
       "      <td>0</td>\n",
       "      <td>0</td>\n",
       "      <td>0</td>\n",
       "      <td>0</td>\n",
       "      <td>...</td>\n",
       "      <td>0</td>\n",
       "      <td>1</td>\n",
       "      <td>0</td>\n",
       "      <td>0</td>\n",
       "      <td>0</td>\n",
       "      <td>0</td>\n",
       "      <td>0</td>\n",
       "      <td>0</td>\n",
       "      <td>0</td>\n",
       "      <td>0</td>\n",
       "    </tr>\n",
       "    <tr>\n",
       "      <th>1266</th>\n",
       "      <td>1545</td>\n",
       "      <td>2504</td>\n",
       "      <td>“Don't aim at success. The more you aim at it ...</td>\n",
       "      <td>Viktor E. Frankl,</td>\n",
       "      <td>[happiness]</td>\n",
       "      <td>aim success aim make target going miss success...</td>\n",
       "      <td>0</td>\n",
       "      <td>0</td>\n",
       "      <td>0</td>\n",
       "      <td>0</td>\n",
       "      <td>...</td>\n",
       "      <td>0</td>\n",
       "      <td>0</td>\n",
       "      <td>0</td>\n",
       "      <td>0</td>\n",
       "      <td>0</td>\n",
       "      <td>0</td>\n",
       "      <td>0</td>\n",
       "      <td>0</td>\n",
       "      <td>0</td>\n",
       "      <td>0</td>\n",
       "    </tr>\n",
       "  </tbody>\n",
       "</table>\n",
       "<p>1267 rows × 26 columns</p>\n",
       "</div>"
      ],
      "text/plain": [
       "      level_0  index                                              quote  \\\n",
       "0           1      1  “I'm selfish, impatient and a little insecure....   \n",
       "1           2      2  “Two things are infinite: the universe and hum...   \n",
       "2           3      3                   “So many books, so little time.”   \n",
       "3           4      4  “A room without books is like a body without a...   \n",
       "4           6      7  “You know you're in love when you can't fall a...   \n",
       "...       ...    ...                                                ...   \n",
       "1262     1541   2499              “I am a part of all that I have met.”   \n",
       "1263     1542   2501  “I sought to hear the voice of God and climbed...   \n",
       "1264     1543   2502  “Stepping onto a brand-new path is difficult, ...   \n",
       "1265     1544   2503  “Morality is simply the attitude we adopt towa...   \n",
       "1266     1545   2504  “Don't aim at success. The more you aim at it ...   \n",
       "\n",
       "                     author                 tags  \\\n",
       "0            Marilyn Monroe  [truth, love, life]   \n",
       "1           Albert Einstein  [funny, philosophy]   \n",
       "2               Frank Zappa        [funny, book]   \n",
       "3     Marcus Tullius Cicero               [book]   \n",
       "4                 Dr. Seuss               [love]   \n",
       "...                     ...                  ...   \n",
       "1262       Alfred Tennyson,          [inspiring]   \n",
       "1263      John Henry Newman    [inspiring, love]   \n",
       "1264           Maya Angelou          [inspiring]   \n",
       "1265           Oscar Wilde,         [philosophy]   \n",
       "1266      Viktor E. Frankl,          [happiness]   \n",
       "\n",
       "                                        processed_quote  book  death  \\\n",
       "0     selfish impatient little insecure make mistake...     0      0   \n",
       "1     two thing infinite universe human stupidity su...     0      0   \n",
       "2                                many book little time      1      0   \n",
       "3             room without book like body without soul      1      0   \n",
       "4     know love fall asleep reality finally better d...     0      0   \n",
       "...                                                 ...   ...    ...   \n",
       "1262                                          part met      0      0   \n",
       "1263  sought hear voice god climbed topmost steeple ...     0      0   \n",
       "1264  stepping onto brand new path difficult difficu...     0      0   \n",
       "1265  morality simply attitude adopt towards people ...     0      0   \n",
       "1266  aim success aim make target going miss success...     0      0   \n",
       "\n",
       "      friendship  funny  ...  optimism  philosophy  poetry  \\\n",
       "0              0      0  ...         0           0       0   \n",
       "1              0      1  ...         0           1       0   \n",
       "2              0      1  ...         0           0       0   \n",
       "3              0      0  ...         0           0       0   \n",
       "4              0      0  ...         0           0       0   \n",
       "...          ...    ...  ...       ...         ...     ...   \n",
       "1262           0      0  ...         0           0       0   \n",
       "1263           0      0  ...         0           0       0   \n",
       "1264           0      0  ...         0           0       0   \n",
       "1265           0      0  ...         0           1       0   \n",
       "1266           0      0  ...         0           0       0   \n",
       "\n",
       "      positiveaffirmation  reading  romance  truth  wisdom  woman  writing  \n",
       "0                       0        0        0      1       0      0        0  \n",
       "1                       0        0        0      0       0      0        0  \n",
       "2                       0        0        0      0       0      0        0  \n",
       "3                       0        0        0      0       0      0        0  \n",
       "4                       0        0        0      0       0      0        0  \n",
       "...                   ...      ...      ...    ...     ...    ...      ...  \n",
       "1262                    0        0        0      0       0      0        0  \n",
       "1263                    0        0        0      0       0      0        0  \n",
       "1264                    0        0        0      0       0      0        0  \n",
       "1265                    0        0        0      0       0      0        0  \n",
       "1266                    0        0        0      0       0      0        0  \n",
       "\n",
       "[1267 rows x 26 columns]"
      ]
     },
     "execution_count": 70,
     "metadata": {},
     "output_type": "execute_result"
    }
   ],
   "source": [
    "# the below list wil store the first 180 indexes of the values which need to be dropped.\n",
    "\n",
    "to_drop_indices = []\n",
    "for i in range(0, len(top_20_tags_df['tags'])):\n",
    "    for j in range(0, len(top_20_tags_df['tags'][i])):\n",
    "        if(top_20_tags_df['tags'][i][j] == 'inspiring'):\n",
    "            # this index needs to be dropped\n",
    "            to_drop_indices.append(i)\n",
    "            break #breaking out of the inner j loop\n",
    "    if(len(to_drop_indices)>=279):\n",
    "        break\n",
    "\n",
    "# print(to_drop_indices)\n",
    "# print(len(to_drop_indices))\n",
    "\n",
    "balanced_df = top_20_tags_df.drop(to_drop_indices, axis='index')\n",
    "balanced_df.reset_index(inplace=True)\n",
    "balanced_df"
   ]
  },
  {
   "cell_type": "code",
   "execution_count": 71,
   "metadata": {},
   "outputs": [
    {
     "name": "stdout",
     "output_type": "stream",
     "text": [
      "The frequent of the tags are:\n",
      "('love', 291)\n",
      "('funny', 281)\n",
      "('life', 220)\n",
      "('book', 139)\n",
      "('reading', 84)\n",
      "('inspiring', 81)\n",
      "('writing', 62)\n",
      "('friendship', 58)\n",
      "('truth', 54)\n",
      "('happiness', 52)\n",
      "('philosophy', 51)\n",
      "('wisdom', 50)\n",
      "('death', 44)\n",
      "('romance', 44)\n",
      "('poetry', 43)\n",
      "('woman', 39)\n",
      "('hope', 29)\n",
      "('living', 14)\n",
      "('optimism', 13)\n",
      "('positiveaffirmation', 7)\n"
     ]
    }
   ],
   "source": [
    "# running the count of tags again\n",
    "print(\"The frequent of the tags are:\")\n",
    "tag_freq_sorted = calculate_count_of_tags(tags=balanced_df['tags'])\n",
    "for i in range(0, len(tag_freq_sorted)):\n",
    "    print(tag_freq_sorted[i])"
   ]
  },
  {
   "cell_type": "markdown",
   "metadata": {},
   "source": [
    "We can easily write a function for this, but since we have some rows which contain other multiple tags, we might lose out on other tags too. Therefore, I am performing the balancing of the classes one by one and checking the count of all tags after each update."
   ]
  },
  {
   "cell_type": "code",
   "execution_count": 72,
   "metadata": {},
   "outputs": [
    {
     "data": {
      "text/html": [
       "<div>\n",
       "<style scoped>\n",
       "    .dataframe tbody tr th:only-of-type {\n",
       "        vertical-align: middle;\n",
       "    }\n",
       "\n",
       "    .dataframe tbody tr th {\n",
       "        vertical-align: top;\n",
       "    }\n",
       "\n",
       "    .dataframe thead th {\n",
       "        text-align: right;\n",
       "    }\n",
       "</style>\n",
       "<table border=\"1\" class=\"dataframe\">\n",
       "  <thead>\n",
       "    <tr style=\"text-align: right;\">\n",
       "      <th></th>\n",
       "      <th>level_0</th>\n",
       "      <th>index</th>\n",
       "      <th>quote</th>\n",
       "      <th>author</th>\n",
       "      <th>tags</th>\n",
       "      <th>processed_quote</th>\n",
       "      <th>book</th>\n",
       "      <th>death</th>\n",
       "      <th>friendship</th>\n",
       "      <th>funny</th>\n",
       "      <th>...</th>\n",
       "      <th>optimism</th>\n",
       "      <th>philosophy</th>\n",
       "      <th>poetry</th>\n",
       "      <th>positiveaffirmation</th>\n",
       "      <th>reading</th>\n",
       "      <th>romance</th>\n",
       "      <th>truth</th>\n",
       "      <th>wisdom</th>\n",
       "      <th>woman</th>\n",
       "      <th>writing</th>\n",
       "    </tr>\n",
       "  </thead>\n",
       "  <tbody>\n",
       "    <tr>\n",
       "      <th>0</th>\n",
       "      <td>2</td>\n",
       "      <td>2</td>\n",
       "      <td>“Two things are infinite: the universe and hum...</td>\n",
       "      <td>Albert Einstein</td>\n",
       "      <td>[funny, philosophy]</td>\n",
       "      <td>two thing infinite universe human stupidity su...</td>\n",
       "      <td>0</td>\n",
       "      <td>0</td>\n",
       "      <td>0</td>\n",
       "      <td>1</td>\n",
       "      <td>...</td>\n",
       "      <td>0</td>\n",
       "      <td>1</td>\n",
       "      <td>0</td>\n",
       "      <td>0</td>\n",
       "      <td>0</td>\n",
       "      <td>0</td>\n",
       "      <td>0</td>\n",
       "      <td>0</td>\n",
       "      <td>0</td>\n",
       "      <td>0</td>\n",
       "    </tr>\n",
       "    <tr>\n",
       "      <th>1</th>\n",
       "      <td>3</td>\n",
       "      <td>3</td>\n",
       "      <td>“So many books, so little time.”</td>\n",
       "      <td>Frank Zappa</td>\n",
       "      <td>[funny, book]</td>\n",
       "      <td>many book little time</td>\n",
       "      <td>1</td>\n",
       "      <td>0</td>\n",
       "      <td>0</td>\n",
       "      <td>1</td>\n",
       "      <td>...</td>\n",
       "      <td>0</td>\n",
       "      <td>0</td>\n",
       "      <td>0</td>\n",
       "      <td>0</td>\n",
       "      <td>0</td>\n",
       "      <td>0</td>\n",
       "      <td>0</td>\n",
       "      <td>0</td>\n",
       "      <td>0</td>\n",
       "      <td>0</td>\n",
       "    </tr>\n",
       "    <tr>\n",
       "      <th>2</th>\n",
       "      <td>4</td>\n",
       "      <td>4</td>\n",
       "      <td>“A room without books is like a body without a...</td>\n",
       "      <td>Marcus Tullius Cicero</td>\n",
       "      <td>[book]</td>\n",
       "      <td>room without book like body without soul</td>\n",
       "      <td>1</td>\n",
       "      <td>0</td>\n",
       "      <td>0</td>\n",
       "      <td>0</td>\n",
       "      <td>...</td>\n",
       "      <td>0</td>\n",
       "      <td>0</td>\n",
       "      <td>0</td>\n",
       "      <td>0</td>\n",
       "      <td>0</td>\n",
       "      <td>0</td>\n",
       "      <td>0</td>\n",
       "      <td>0</td>\n",
       "      <td>0</td>\n",
       "      <td>0</td>\n",
       "    </tr>\n",
       "    <tr>\n",
       "      <th>3</th>\n",
       "      <td>7</td>\n",
       "      <td>8</td>\n",
       "      <td>“You only live once, but if you do it right, o...</td>\n",
       "      <td>Mae West</td>\n",
       "      <td>[funny, life]</td>\n",
       "      <td>live right enough</td>\n",
       "      <td>0</td>\n",
       "      <td>0</td>\n",
       "      <td>0</td>\n",
       "      <td>1</td>\n",
       "      <td>...</td>\n",
       "      <td>0</td>\n",
       "      <td>0</td>\n",
       "      <td>0</td>\n",
       "      <td>0</td>\n",
       "      <td>0</td>\n",
       "      <td>0</td>\n",
       "      <td>0</td>\n",
       "      <td>0</td>\n",
       "      <td>0</td>\n",
       "      <td>0</td>\n",
       "    </tr>\n",
       "    <tr>\n",
       "      <th>4</th>\n",
       "      <td>9</td>\n",
       "      <td>10</td>\n",
       "      <td>“In three words I can sum up everything I've l...</td>\n",
       "      <td>Robert Frost</td>\n",
       "      <td>[life]</td>\n",
       "      <td>three word sum everything learned life go</td>\n",
       "      <td>0</td>\n",
       "      <td>0</td>\n",
       "      <td>0</td>\n",
       "      <td>0</td>\n",
       "      <td>...</td>\n",
       "      <td>0</td>\n",
       "      <td>0</td>\n",
       "      <td>0</td>\n",
       "      <td>0</td>\n",
       "      <td>0</td>\n",
       "      <td>0</td>\n",
       "      <td>0</td>\n",
       "      <td>0</td>\n",
       "      <td>0</td>\n",
       "      <td>0</td>\n",
       "    </tr>\n",
       "    <tr>\n",
       "      <th>...</th>\n",
       "      <td>...</td>\n",
       "      <td>...</td>\n",
       "      <td>...</td>\n",
       "      <td>...</td>\n",
       "      <td>...</td>\n",
       "      <td>...</td>\n",
       "      <td>...</td>\n",
       "      <td>...</td>\n",
       "      <td>...</td>\n",
       "      <td>...</td>\n",
       "      <td>...</td>\n",
       "      <td>...</td>\n",
       "      <td>...</td>\n",
       "      <td>...</td>\n",
       "      <td>...</td>\n",
       "      <td>...</td>\n",
       "      <td>...</td>\n",
       "      <td>...</td>\n",
       "      <td>...</td>\n",
       "      <td>...</td>\n",
       "      <td>...</td>\n",
       "    </tr>\n",
       "    <tr>\n",
       "      <th>1052</th>\n",
       "      <td>1541</td>\n",
       "      <td>2499</td>\n",
       "      <td>“I am a part of all that I have met.”</td>\n",
       "      <td>Alfred Tennyson,</td>\n",
       "      <td>[inspiring]</td>\n",
       "      <td>part met</td>\n",
       "      <td>0</td>\n",
       "      <td>0</td>\n",
       "      <td>0</td>\n",
       "      <td>0</td>\n",
       "      <td>...</td>\n",
       "      <td>0</td>\n",
       "      <td>0</td>\n",
       "      <td>0</td>\n",
       "      <td>0</td>\n",
       "      <td>0</td>\n",
       "      <td>0</td>\n",
       "      <td>0</td>\n",
       "      <td>0</td>\n",
       "      <td>0</td>\n",
       "      <td>0</td>\n",
       "    </tr>\n",
       "    <tr>\n",
       "      <th>1053</th>\n",
       "      <td>1542</td>\n",
       "      <td>2501</td>\n",
       "      <td>“I sought to hear the voice of God and climbed...</td>\n",
       "      <td>John Henry Newman</td>\n",
       "      <td>[inspiring, love]</td>\n",
       "      <td>sought hear voice god climbed topmost steeple ...</td>\n",
       "      <td>0</td>\n",
       "      <td>0</td>\n",
       "      <td>0</td>\n",
       "      <td>0</td>\n",
       "      <td>...</td>\n",
       "      <td>0</td>\n",
       "      <td>0</td>\n",
       "      <td>0</td>\n",
       "      <td>0</td>\n",
       "      <td>0</td>\n",
       "      <td>0</td>\n",
       "      <td>0</td>\n",
       "      <td>0</td>\n",
       "      <td>0</td>\n",
       "      <td>0</td>\n",
       "    </tr>\n",
       "    <tr>\n",
       "      <th>1054</th>\n",
       "      <td>1543</td>\n",
       "      <td>2502</td>\n",
       "      <td>“Stepping onto a brand-new path is difficult, ...</td>\n",
       "      <td>Maya Angelou</td>\n",
       "      <td>[inspiring]</td>\n",
       "      <td>stepping onto brand new path difficult difficu...</td>\n",
       "      <td>0</td>\n",
       "      <td>0</td>\n",
       "      <td>0</td>\n",
       "      <td>0</td>\n",
       "      <td>...</td>\n",
       "      <td>0</td>\n",
       "      <td>0</td>\n",
       "      <td>0</td>\n",
       "      <td>0</td>\n",
       "      <td>0</td>\n",
       "      <td>0</td>\n",
       "      <td>0</td>\n",
       "      <td>0</td>\n",
       "      <td>0</td>\n",
       "      <td>0</td>\n",
       "    </tr>\n",
       "    <tr>\n",
       "      <th>1055</th>\n",
       "      <td>1544</td>\n",
       "      <td>2503</td>\n",
       "      <td>“Morality is simply the attitude we adopt towa...</td>\n",
       "      <td>Oscar Wilde,</td>\n",
       "      <td>[philosophy]</td>\n",
       "      <td>morality simply attitude adopt towards people ...</td>\n",
       "      <td>0</td>\n",
       "      <td>0</td>\n",
       "      <td>0</td>\n",
       "      <td>0</td>\n",
       "      <td>...</td>\n",
       "      <td>0</td>\n",
       "      <td>1</td>\n",
       "      <td>0</td>\n",
       "      <td>0</td>\n",
       "      <td>0</td>\n",
       "      <td>0</td>\n",
       "      <td>0</td>\n",
       "      <td>0</td>\n",
       "      <td>0</td>\n",
       "      <td>0</td>\n",
       "    </tr>\n",
       "    <tr>\n",
       "      <th>1056</th>\n",
       "      <td>1545</td>\n",
       "      <td>2504</td>\n",
       "      <td>“Don't aim at success. The more you aim at it ...</td>\n",
       "      <td>Viktor E. Frankl,</td>\n",
       "      <td>[happiness]</td>\n",
       "      <td>aim success aim make target going miss success...</td>\n",
       "      <td>0</td>\n",
       "      <td>0</td>\n",
       "      <td>0</td>\n",
       "      <td>0</td>\n",
       "      <td>...</td>\n",
       "      <td>0</td>\n",
       "      <td>0</td>\n",
       "      <td>0</td>\n",
       "      <td>0</td>\n",
       "      <td>0</td>\n",
       "      <td>0</td>\n",
       "      <td>0</td>\n",
       "      <td>0</td>\n",
       "      <td>0</td>\n",
       "      <td>0</td>\n",
       "    </tr>\n",
       "  </tbody>\n",
       "</table>\n",
       "<p>1057 rows × 26 columns</p>\n",
       "</div>"
      ],
      "text/plain": [
       "      level_0  index                                              quote  \\\n",
       "0           2      2  “Two things are infinite: the universe and hum...   \n",
       "1           3      3                   “So many books, so little time.”   \n",
       "2           4      4  “A room without books is like a body without a...   \n",
       "3           7      8  “You only live once, but if you do it right, o...   \n",
       "4           9     10  “In three words I can sum up everything I've l...   \n",
       "...       ...    ...                                                ...   \n",
       "1052     1541   2499              “I am a part of all that I have met.”   \n",
       "1053     1542   2501  “I sought to hear the voice of God and climbed...   \n",
       "1054     1543   2502  “Stepping onto a brand-new path is difficult, ...   \n",
       "1055     1544   2503  “Morality is simply the attitude we adopt towa...   \n",
       "1056     1545   2504  “Don't aim at success. The more you aim at it ...   \n",
       "\n",
       "                     author                 tags  \\\n",
       "0           Albert Einstein  [funny, philosophy]   \n",
       "1               Frank Zappa        [funny, book]   \n",
       "2     Marcus Tullius Cicero               [book]   \n",
       "3                  Mae West        [funny, life]   \n",
       "4              Robert Frost               [life]   \n",
       "...                     ...                  ...   \n",
       "1052       Alfred Tennyson,          [inspiring]   \n",
       "1053      John Henry Newman    [inspiring, love]   \n",
       "1054           Maya Angelou          [inspiring]   \n",
       "1055           Oscar Wilde,         [philosophy]   \n",
       "1056      Viktor E. Frankl,          [happiness]   \n",
       "\n",
       "                                        processed_quote  book  death  \\\n",
       "0     two thing infinite universe human stupidity su...     0      0   \n",
       "1                                many book little time      1      0   \n",
       "2             room without book like body without soul      1      0   \n",
       "3                                    live right enough      0      0   \n",
       "4            three word sum everything learned life go      0      0   \n",
       "...                                                 ...   ...    ...   \n",
       "1052                                          part met      0      0   \n",
       "1053  sought hear voice god climbed topmost steeple ...     0      0   \n",
       "1054  stepping onto brand new path difficult difficu...     0      0   \n",
       "1055  morality simply attitude adopt towards people ...     0      0   \n",
       "1056  aim success aim make target going miss success...     0      0   \n",
       "\n",
       "      friendship  funny  ...  optimism  philosophy  poetry  \\\n",
       "0              0      1  ...         0           1       0   \n",
       "1              0      1  ...         0           0       0   \n",
       "2              0      0  ...         0           0       0   \n",
       "3              0      1  ...         0           0       0   \n",
       "4              0      0  ...         0           0       0   \n",
       "...          ...    ...  ...       ...         ...     ...   \n",
       "1052           0      0  ...         0           0       0   \n",
       "1053           0      0  ...         0           0       0   \n",
       "1054           0      0  ...         0           0       0   \n",
       "1055           0      0  ...         0           1       0   \n",
       "1056           0      0  ...         0           0       0   \n",
       "\n",
       "      positiveaffirmation  reading  romance  truth  wisdom  woman  writing  \n",
       "0                       0        0        0      0       0      0        0  \n",
       "1                       0        0        0      0       0      0        0  \n",
       "2                       0        0        0      0       0      0        0  \n",
       "3                       0        0        0      0       0      0        0  \n",
       "4                       0        0        0      0       0      0        0  \n",
       "...                   ...      ...      ...    ...     ...    ...      ...  \n",
       "1052                    0        0        0      0       0      0        0  \n",
       "1053                    0        0        0      0       0      0        0  \n",
       "1054                    0        0        0      0       0      0        0  \n",
       "1055                    0        0        0      0       0      0        0  \n",
       "1056                    0        0        0      0       0      0        0  \n",
       "\n",
       "[1057 rows x 26 columns]"
      ]
     },
     "execution_count": 72,
     "metadata": {},
     "output_type": "execute_result"
    }
   ],
   "source": [
    "# performing the same thing for love but removing 210 rows\n",
    "to_drop_indices = []\n",
    "for i in range(0, len(balanced_df['tags'])):\n",
    "    for j in range(0, len(balanced_df['tags'][i])):\n",
    "        if(balanced_df['tags'][i][j] == 'love'):\n",
    "            # this index needs to be dropped\n",
    "            to_drop_indices.append(i)\n",
    "            break #breaking out of the inner j loop\n",
    "    if(len(to_drop_indices)>=210):\n",
    "        break\n",
    "\n",
    "# print(to_drop_indices)\n",
    "# print(len(to_drop_indices))\n",
    "\n",
    "balanced_df = balanced_df.drop(to_drop_indices, axis='index')\n",
    "balanced_df.reset_index(inplace=True, drop=True)\n",
    "balanced_df"
   ]
  },
  {
   "cell_type": "code",
   "execution_count": 73,
   "metadata": {},
   "outputs": [
    {
     "name": "stdout",
     "output_type": "stream",
     "text": [
      "The frequent of the tags are:\n",
      "('funny', 275)\n",
      "('life', 201)\n",
      "('book', 138)\n",
      "('reading', 83)\n",
      "('love', 81)\n",
      "('inspiring', 81)\n",
      "('writing', 61)\n",
      "('philosophy', 51)\n",
      "('truth', 50)\n",
      "('wisdom', 48)\n",
      "('happiness', 47)\n",
      "('friendship', 45)\n",
      "('death', 39)\n",
      "('poetry', 37)\n",
      "('woman', 35)\n",
      "('romance', 25)\n",
      "('hope', 25)\n",
      "('living', 14)\n",
      "('optimism', 13)\n",
      "('positiveaffirmation', 7)\n"
     ]
    }
   ],
   "source": [
    "# running the count of tags again\n",
    "print(\"The frequent of the tags are:\")\n",
    "tag_freq_sorted = calculate_count_of_tags(tags=balanced_df['tags'])\n",
    "for i in range(0, len(tag_freq_sorted)):\n",
    "    print(tag_freq_sorted[i])"
   ]
  },
  {
   "cell_type": "code",
   "execution_count": 74,
   "metadata": {},
   "outputs": [
    {
     "name": "stdout",
     "output_type": "stream",
     "text": [
      "The frequent of the tags are:\n",
      "('life', 186)\n",
      "('book', 125)\n",
      "('love', 81)\n",
      "('inspiring', 81)\n",
      "('reading', 80)\n",
      "('funny', 80)\n",
      "('writing', 58)\n",
      "('truth', 47)\n",
      "('wisdom', 47)\n",
      "('happiness', 45)\n",
      "('friendship', 43)\n",
      "('philosophy', 43)\n",
      "('poetry', 37)\n",
      "('death', 34)\n",
      "('woman', 31)\n",
      "('hope', 25)\n",
      "('romance', 22)\n",
      "('living', 14)\n",
      "('optimism', 13)\n",
      "('positiveaffirmation', 7)\n"
     ]
    }
   ],
   "source": [
    "# performing the same thing for funny but removing 195 rows\n",
    "to_drop_indices = []\n",
    "for i in range(0, len(balanced_df['tags'])):\n",
    "    for j in range(0, len(balanced_df['tags'][i])):\n",
    "        if(balanced_df['tags'][i][j] == 'funny'):\n",
    "            # this index needs to be dropped\n",
    "            to_drop_indices.append(i)\n",
    "            break #breaking out of the inner j loop\n",
    "    if(len(to_drop_indices)>=195):\n",
    "        break\n",
    "\n",
    "# print(to_drop_indices)\n",
    "# print(len(to_drop_indices))\n",
    "\n",
    "balanced_df = balanced_df.drop(to_drop_indices, axis='index')\n",
    "balanced_df.reset_index(inplace=True, drop=True)\n",
    "\n",
    "# running the count of tags again\n",
    "print(\"The frequent of the tags are:\")\n",
    "tag_freq_sorted = calculate_count_of_tags(tags=balanced_df['tags'])\n",
    "for i in range(0, len(tag_freq_sorted)):\n",
    "    print(tag_freq_sorted[i])"
   ]
  },
  {
   "cell_type": "code",
   "execution_count": 75,
   "metadata": {},
   "outputs": [
    {
     "name": "stdout",
     "output_type": "stream",
     "text": [
      "The frequent of the tags are:\n",
      "('book', 122)\n",
      "('love', 81)\n",
      "('inspiring', 81)\n",
      "('life', 80)\n",
      "('funny', 80)\n",
      "('reading', 79)\n",
      "('writing', 58)\n",
      "('truth', 46)\n",
      "('wisdom', 44)\n",
      "('happiness', 42)\n",
      "('friendship', 40)\n",
      "('philosophy', 39)\n",
      "('poetry', 36)\n",
      "('woman', 30)\n",
      "('hope', 24)\n",
      "('romance', 22)\n",
      "('death', 22)\n",
      "('living', 12)\n",
      "('optimism', 11)\n",
      "('positiveaffirmation', 7)\n",
      "756\n"
     ]
    }
   ],
   "source": [
    "# performing the same thing for life but removing 106 rows\n",
    "to_drop_indices = []\n",
    "for i in range(0, len(balanced_df['tags'])):\n",
    "    for j in range(0, len(balanced_df['tags'][i])):\n",
    "        if(balanced_df['tags'][i][j] == 'life'):\n",
    "            # this index needs to be dropped\n",
    "            to_drop_indices.append(i)\n",
    "            break #breaking out of the inner j loop\n",
    "    if(len(to_drop_indices)>=106):\n",
    "        break\n",
    "\n",
    "# print(to_drop_indices)\n",
    "# print(len(to_drop_indices))\n",
    "\n",
    "balanced_df = balanced_df.drop(to_drop_indices, axis='index')\n",
    "balanced_df.reset_index(inplace=True, drop=True)\n",
    "\n",
    "# running the count of tags again\n",
    "print(\"The frequent of the tags are:\")\n",
    "tag_freq_sorted = calculate_count_of_tags(tags=balanced_df['tags'])\n",
    "for i in range(0, len(tag_freq_sorted)):\n",
    "    print(tag_freq_sorted[i])\n",
    "print(len(balanced_df))"
   ]
  },
  {
   "cell_type": "code",
   "execution_count": 76,
   "metadata": {},
   "outputs": [
    {
     "name": "stdout",
     "output_type": "stream",
     "text": [
      "The frequent of the tags are:\n",
      "('book', 81)\n",
      "('love', 81)\n",
      "('inspiring', 81)\n",
      "('life', 80)\n",
      "('funny', 80)\n",
      "('reading', 55)\n",
      "('writing', 54)\n",
      "('truth', 45)\n",
      "('wisdom', 42)\n",
      "('happiness', 42)\n",
      "('friendship', 40)\n",
      "('philosophy', 39)\n",
      "('poetry', 35)\n",
      "('woman', 30)\n",
      "('hope', 24)\n",
      "('romance', 22)\n",
      "('death', 22)\n",
      "('living', 12)\n",
      "('optimism', 11)\n",
      "('positiveaffirmation', 7)\n",
      "715\n"
     ]
    }
   ],
   "source": [
    "# performing the same thing for book but removing 42 rows\n",
    "to_drop_indices = []\n",
    "for i in range(0, len(balanced_df['tags'])):\n",
    "    for j in range(0, len(balanced_df['tags'][i])):\n",
    "        if(balanced_df['tags'][i][j] == 'book'):\n",
    "            # this index needs to be dropped\n",
    "            to_drop_indices.append(i)\n",
    "            break #breaking out of the inner j loop\n",
    "    if(len(to_drop_indices)>=41):\n",
    "        break\n",
    "\n",
    "# print(to_drop_indices)\n",
    "# print(len(to_drop_indices))\n",
    "\n",
    "balanced_df = balanced_df.drop(to_drop_indices, axis='index')\n",
    "balanced_df.reset_index(inplace=True, drop=True)\n",
    "\n",
    "# running the count of tags again\n",
    "print(\"The frequent of the tags are:\")\n",
    "tag_freq_sorted = calculate_count_of_tags(tags=balanced_df['tags'])\n",
    "for i in range(0, len(tag_freq_sorted)):\n",
    "    print(tag_freq_sorted[i])\n",
    "print(len(balanced_df))"
   ]
  },
  {
   "cell_type": "markdown",
   "metadata": {},
   "source": [
    "Let us remove those tags which are less than 30 in number. As there are not enough rows to generalize. Therefore removing:\n",
    "- hope\n",
    "- romance\n",
    "- death\n",
    "- living\n",
    "- optimism\n",
    "- positiveaffirmation"
   ]
  },
  {
   "cell_type": "code",
   "execution_count": 77,
   "metadata": {},
   "outputs": [
    {
     "name": "stdout",
     "output_type": "stream",
     "text": [
      "The frequent of the tags are:\n",
      "('book', 81)\n",
      "('inspiring', 81)\n",
      "('funny', 80)\n",
      "('love', 79)\n",
      "('life', 77)\n",
      "('reading', 55)\n",
      "('writing', 54)\n",
      "('truth', 45)\n",
      "('wisdom', 42)\n",
      "('happiness', 42)\n",
      "('friendship', 40)\n",
      "('philosophy', 39)\n",
      "('poetry', 35)\n",
      "('woman', 30)\n",
      "('romance', 22)\n",
      "('death', 22)\n",
      "('living', 12)\n",
      "('optimism', 11)\n",
      "('positiveaffirmation', 7)\n",
      "691\n"
     ]
    }
   ],
   "source": [
    "# similarly removing tags one by one - removing 'hope'\n",
    "to_drop_indices = []\n",
    "for i in range(0, len(balanced_df['tags'])):\n",
    "    for j in range(0, len(balanced_df['tags'][i])):\n",
    "        if(balanced_df['tags'][i][j] == 'hope'):\n",
    "            # this index needs to be dropped\n",
    "            to_drop_indices.append(i)\n",
    "            break # breaking out of the inner j loop\n",
    "\n",
    "# print(to_drop_indices)\n",
    "# print(len(to_drop_indices))\n",
    "\n",
    "balanced_df = balanced_df.drop(to_drop_indices, axis='index')\n",
    "balanced_df.reset_index(inplace=True, drop=True)\n",
    "\n",
    "# running the count of tags again\n",
    "print(\"The frequent of the tags are:\")\n",
    "tag_freq_sorted = calculate_count_of_tags(tags=balanced_df['tags'])\n",
    "for i in range(0, len(tag_freq_sorted)):\n",
    "    print(tag_freq_sorted[i])\n",
    "print(len(balanced_df))"
   ]
  },
  {
   "cell_type": "code",
   "execution_count": 78,
   "metadata": {},
   "outputs": [
    {
     "name": "stdout",
     "output_type": "stream",
     "text": [
      "The frequent of the tags are:\n",
      "('book', 81)\n",
      "('funny', 79)\n",
      "('inspiring', 79)\n",
      "('life', 77)\n",
      "('love', 75)\n",
      "('reading', 55)\n",
      "('writing', 54)\n",
      "('truth', 45)\n",
      "('wisdom', 42)\n",
      "('happiness', 42)\n",
      "('friendship', 40)\n",
      "('philosophy', 39)\n",
      "('poetry', 35)\n",
      "('woman', 30)\n",
      "('death', 22)\n",
      "('living', 12)\n",
      "('optimism', 11)\n",
      "('positiveaffirmation', 7)\n",
      "669\n"
     ]
    }
   ],
   "source": [
    "# similarly removing tags one by one - removing 'romance'\n",
    "to_drop_indices = []\n",
    "for i in range(0, len(balanced_df['tags'])):\n",
    "    for j in range(0, len(balanced_df['tags'][i])):\n",
    "        if(balanced_df['tags'][i][j] == 'romance'):\n",
    "            # this index needs to be dropped\n",
    "            to_drop_indices.append(i)\n",
    "            break # breaking out of the inner j loop\n",
    "\n",
    "# print(to_drop_indices)\n",
    "# print(len(to_drop_indices))\n",
    "\n",
    "balanced_df = balanced_df.drop(to_drop_indices, axis='index')\n",
    "balanced_df.reset_index(inplace=True, drop=True)\n",
    "\n",
    "# running the count of tags again\n",
    "print(\"The frequent of the tags are:\")\n",
    "tag_freq_sorted = calculate_count_of_tags(tags=balanced_df['tags'])\n",
    "for i in range(0, len(tag_freq_sorted)):\n",
    "    print(tag_freq_sorted[i])\n",
    "print(len(balanced_df))"
   ]
  },
  {
   "cell_type": "code",
   "execution_count": 79,
   "metadata": {},
   "outputs": [
    {
     "name": "stdout",
     "output_type": "stream",
     "text": [
      "The frequent of the tags are:\n",
      "('book', 81)\n",
      "('funny', 79)\n",
      "('inspiring', 78)\n",
      "('life', 75)\n",
      "('love', 73)\n",
      "('reading', 55)\n",
      "('writing', 54)\n",
      "('truth', 44)\n",
      "('wisdom', 42)\n",
      "('happiness', 42)\n",
      "('friendship', 40)\n",
      "('philosophy', 38)\n",
      "('poetry', 34)\n",
      "('woman', 30)\n",
      "('living', 11)\n",
      "('optimism', 11)\n",
      "('positiveaffirmation', 7)\n",
      "647\n"
     ]
    }
   ],
   "source": [
    "# similarly removing tags one by one - removing 'death'\n",
    "to_drop_indices = []\n",
    "for i in range(0, len(balanced_df['tags'])):\n",
    "    for j in range(0, len(balanced_df['tags'][i])):\n",
    "        if(balanced_df['tags'][i][j] == 'death'):\n",
    "            # this index needs to be dropped\n",
    "            to_drop_indices.append(i)\n",
    "            break # breaking out of the inner j loop\n",
    "\n",
    "# print(to_drop_indices)\n",
    "# print(len(to_drop_indices))\n",
    "\n",
    "balanced_df = balanced_df.drop(to_drop_indices, axis='index')\n",
    "balanced_df.reset_index(inplace=True, drop=True)\n",
    "\n",
    "# running the count of tags again\n",
    "print(\"The frequent of the tags are:\")\n",
    "tag_freq_sorted = calculate_count_of_tags(tags=balanced_df['tags'])\n",
    "for i in range(0, len(tag_freq_sorted)):\n",
    "    print(tag_freq_sorted[i])\n",
    "print(len(balanced_df))"
   ]
  },
  {
   "cell_type": "code",
   "execution_count": 80,
   "metadata": {},
   "outputs": [
    {
     "name": "stdout",
     "output_type": "stream",
     "text": [
      "The frequent of the tags are:\n",
      "('book', 81)\n",
      "('funny', 79)\n",
      "('love', 73)\n",
      "('inspiring', 69)\n",
      "('life', 67)\n",
      "('reading', 55)\n",
      "('writing', 54)\n",
      "('truth', 44)\n",
      "('wisdom', 42)\n",
      "('friendship', 40)\n",
      "('happiness', 40)\n",
      "('philosophy', 38)\n",
      "('poetry', 34)\n",
      "('woman', 30)\n",
      "('optimism', 5)\n",
      "('positiveaffirmation', 1)\n",
      "636\n"
     ]
    }
   ],
   "source": [
    "# similarly removing tags one by one - removing 'living'\n",
    "to_drop_indices = []\n",
    "for i in range(0, len(balanced_df['tags'])):\n",
    "    for j in range(0, len(balanced_df['tags'][i])):\n",
    "        if(balanced_df['tags'][i][j] == 'living'):\n",
    "            # this index needs to be dropped\n",
    "            to_drop_indices.append(i)\n",
    "            break # breaking out of the inner j loop\n",
    "\n",
    "# print(to_drop_indices)\n",
    "# print(len(to_drop_indices))\n",
    "\n",
    "balanced_df = balanced_df.drop(to_drop_indices, axis='index')\n",
    "balanced_df.reset_index(inplace=True, drop=True)\n",
    "\n",
    "# running the count of tags again\n",
    "print(\"The frequent of the tags are:\")\n",
    "tag_freq_sorted = calculate_count_of_tags(tags=balanced_df['tags'])\n",
    "for i in range(0, len(tag_freq_sorted)):\n",
    "    print(tag_freq_sorted[i])\n",
    "print(len(balanced_df))"
   ]
  },
  {
   "cell_type": "code",
   "execution_count": 81,
   "metadata": {},
   "outputs": [
    {
     "name": "stdout",
     "output_type": "stream",
     "text": [
      "The frequent of the tags are:\n",
      "('book', 81)\n",
      "('funny', 79)\n",
      "('love', 73)\n",
      "('inspiring', 67)\n",
      "('life', 65)\n",
      "('reading', 55)\n",
      "('writing', 54)\n",
      "('truth', 44)\n",
      "('wisdom', 42)\n",
      "('friendship', 40)\n",
      "('happiness', 40)\n",
      "('philosophy', 38)\n",
      "('poetry', 34)\n",
      "('woman', 30)\n",
      "631\n"
     ]
    }
   ],
   "source": [
    "# similarly removing tags one by one - removing 'optimism'\n",
    "to_drop_indices = []\n",
    "for i in range(0, len(balanced_df['tags'])):\n",
    "    for j in range(0, len(balanced_df['tags'][i])):\n",
    "        if(balanced_df['tags'][i][j] == 'optimism'):\n",
    "            # this index needs to be dropped\n",
    "            to_drop_indices.append(i)\n",
    "            break # breaking out of the inner j loop\n",
    "\n",
    "# print(to_drop_indices)\n",
    "# print(len(to_drop_indices))\n",
    "\n",
    "balanced_df = balanced_df.drop(to_drop_indices, axis='index')\n",
    "balanced_df.reset_index(inplace=True, drop=True)\n",
    "\n",
    "# running the count of tags again\n",
    "print(\"The frequent of the tags are:\")\n",
    "tag_freq_sorted = calculate_count_of_tags(tags=balanced_df['tags'])\n",
    "for i in range(0, len(tag_freq_sorted)):\n",
    "    print(tag_freq_sorted[i])\n",
    "print(len(balanced_df))"
   ]
  },
  {
   "cell_type": "code",
   "execution_count": 82,
   "metadata": {},
   "outputs": [
    {
     "data": {
      "application/vnd.plotly.v1+json": {
       "config": {
        "plotlyServerURL": "https://plot.ly"
       },
       "data": [
        {
         "alignmentgroup": "True",
         "bingroup": "x",
         "histfunc": "sum",
         "hovertemplate": "quote tag=%{x}<br>sum of tag frequency=%{y}<extra></extra>",
         "legendgroup": "",
         "marker": {
          "color": "#636efa",
          "pattern": {
           "shape": ""
          }
         },
         "name": "",
         "offsetgroup": "",
         "orientation": "v",
         "showlegend": false,
         "type": "histogram",
         "x": [
          "book",
          "funny",
          "love",
          "inspiring",
          "life",
          "reading",
          "writing",
          "truth",
          "wisdom",
          "friendship",
          "happiness",
          "philosophy",
          "poetry",
          "woman"
         ],
         "xaxis": "x",
         "y": [
          81,
          79,
          73,
          67,
          65,
          55,
          54,
          44,
          42,
          40,
          40,
          38,
          34,
          30
         ],
         "yaxis": "y"
        }
       ],
       "layout": {
        "barmode": "relative",
        "legend": {
         "tracegroupgap": 0
        },
        "margin": {
         "t": 60
        },
        "template": {
         "data": {
          "bar": [
           {
            "error_x": {
             "color": "#2a3f5f"
            },
            "error_y": {
             "color": "#2a3f5f"
            },
            "marker": {
             "line": {
              "color": "#E5ECF6",
              "width": 0.5
             },
             "pattern": {
              "fillmode": "overlay",
              "size": 10,
              "solidity": 0.2
             }
            },
            "type": "bar"
           }
          ],
          "barpolar": [
           {
            "marker": {
             "line": {
              "color": "#E5ECF6",
              "width": 0.5
             },
             "pattern": {
              "fillmode": "overlay",
              "size": 10,
              "solidity": 0.2
             }
            },
            "type": "barpolar"
           }
          ],
          "carpet": [
           {
            "aaxis": {
             "endlinecolor": "#2a3f5f",
             "gridcolor": "white",
             "linecolor": "white",
             "minorgridcolor": "white",
             "startlinecolor": "#2a3f5f"
            },
            "baxis": {
             "endlinecolor": "#2a3f5f",
             "gridcolor": "white",
             "linecolor": "white",
             "minorgridcolor": "white",
             "startlinecolor": "#2a3f5f"
            },
            "type": "carpet"
           }
          ],
          "choropleth": [
           {
            "colorbar": {
             "outlinewidth": 0,
             "ticks": ""
            },
            "type": "choropleth"
           }
          ],
          "contour": [
           {
            "colorbar": {
             "outlinewidth": 0,
             "ticks": ""
            },
            "colorscale": [
             [
              0,
              "#0d0887"
             ],
             [
              0.1111111111111111,
              "#46039f"
             ],
             [
              0.2222222222222222,
              "#7201a8"
             ],
             [
              0.3333333333333333,
              "#9c179e"
             ],
             [
              0.4444444444444444,
              "#bd3786"
             ],
             [
              0.5555555555555556,
              "#d8576b"
             ],
             [
              0.6666666666666666,
              "#ed7953"
             ],
             [
              0.7777777777777778,
              "#fb9f3a"
             ],
             [
              0.8888888888888888,
              "#fdca26"
             ],
             [
              1,
              "#f0f921"
             ]
            ],
            "type": "contour"
           }
          ],
          "contourcarpet": [
           {
            "colorbar": {
             "outlinewidth": 0,
             "ticks": ""
            },
            "type": "contourcarpet"
           }
          ],
          "heatmap": [
           {
            "colorbar": {
             "outlinewidth": 0,
             "ticks": ""
            },
            "colorscale": [
             [
              0,
              "#0d0887"
             ],
             [
              0.1111111111111111,
              "#46039f"
             ],
             [
              0.2222222222222222,
              "#7201a8"
             ],
             [
              0.3333333333333333,
              "#9c179e"
             ],
             [
              0.4444444444444444,
              "#bd3786"
             ],
             [
              0.5555555555555556,
              "#d8576b"
             ],
             [
              0.6666666666666666,
              "#ed7953"
             ],
             [
              0.7777777777777778,
              "#fb9f3a"
             ],
             [
              0.8888888888888888,
              "#fdca26"
             ],
             [
              1,
              "#f0f921"
             ]
            ],
            "type": "heatmap"
           }
          ],
          "heatmapgl": [
           {
            "colorbar": {
             "outlinewidth": 0,
             "ticks": ""
            },
            "colorscale": [
             [
              0,
              "#0d0887"
             ],
             [
              0.1111111111111111,
              "#46039f"
             ],
             [
              0.2222222222222222,
              "#7201a8"
             ],
             [
              0.3333333333333333,
              "#9c179e"
             ],
             [
              0.4444444444444444,
              "#bd3786"
             ],
             [
              0.5555555555555556,
              "#d8576b"
             ],
             [
              0.6666666666666666,
              "#ed7953"
             ],
             [
              0.7777777777777778,
              "#fb9f3a"
             ],
             [
              0.8888888888888888,
              "#fdca26"
             ],
             [
              1,
              "#f0f921"
             ]
            ],
            "type": "heatmapgl"
           }
          ],
          "histogram": [
           {
            "marker": {
             "pattern": {
              "fillmode": "overlay",
              "size": 10,
              "solidity": 0.2
             }
            },
            "type": "histogram"
           }
          ],
          "histogram2d": [
           {
            "colorbar": {
             "outlinewidth": 0,
             "ticks": ""
            },
            "colorscale": [
             [
              0,
              "#0d0887"
             ],
             [
              0.1111111111111111,
              "#46039f"
             ],
             [
              0.2222222222222222,
              "#7201a8"
             ],
             [
              0.3333333333333333,
              "#9c179e"
             ],
             [
              0.4444444444444444,
              "#bd3786"
             ],
             [
              0.5555555555555556,
              "#d8576b"
             ],
             [
              0.6666666666666666,
              "#ed7953"
             ],
             [
              0.7777777777777778,
              "#fb9f3a"
             ],
             [
              0.8888888888888888,
              "#fdca26"
             ],
             [
              1,
              "#f0f921"
             ]
            ],
            "type": "histogram2d"
           }
          ],
          "histogram2dcontour": [
           {
            "colorbar": {
             "outlinewidth": 0,
             "ticks": ""
            },
            "colorscale": [
             [
              0,
              "#0d0887"
             ],
             [
              0.1111111111111111,
              "#46039f"
             ],
             [
              0.2222222222222222,
              "#7201a8"
             ],
             [
              0.3333333333333333,
              "#9c179e"
             ],
             [
              0.4444444444444444,
              "#bd3786"
             ],
             [
              0.5555555555555556,
              "#d8576b"
             ],
             [
              0.6666666666666666,
              "#ed7953"
             ],
             [
              0.7777777777777778,
              "#fb9f3a"
             ],
             [
              0.8888888888888888,
              "#fdca26"
             ],
             [
              1,
              "#f0f921"
             ]
            ],
            "type": "histogram2dcontour"
           }
          ],
          "mesh3d": [
           {
            "colorbar": {
             "outlinewidth": 0,
             "ticks": ""
            },
            "type": "mesh3d"
           }
          ],
          "parcoords": [
           {
            "line": {
             "colorbar": {
              "outlinewidth": 0,
              "ticks": ""
             }
            },
            "type": "parcoords"
           }
          ],
          "pie": [
           {
            "automargin": true,
            "type": "pie"
           }
          ],
          "scatter": [
           {
            "fillpattern": {
             "fillmode": "overlay",
             "size": 10,
             "solidity": 0.2
            },
            "type": "scatter"
           }
          ],
          "scatter3d": [
           {
            "line": {
             "colorbar": {
              "outlinewidth": 0,
              "ticks": ""
             }
            },
            "marker": {
             "colorbar": {
              "outlinewidth": 0,
              "ticks": ""
             }
            },
            "type": "scatter3d"
           }
          ],
          "scattercarpet": [
           {
            "marker": {
             "colorbar": {
              "outlinewidth": 0,
              "ticks": ""
             }
            },
            "type": "scattercarpet"
           }
          ],
          "scattergeo": [
           {
            "marker": {
             "colorbar": {
              "outlinewidth": 0,
              "ticks": ""
             }
            },
            "type": "scattergeo"
           }
          ],
          "scattergl": [
           {
            "marker": {
             "colorbar": {
              "outlinewidth": 0,
              "ticks": ""
             }
            },
            "type": "scattergl"
           }
          ],
          "scattermapbox": [
           {
            "marker": {
             "colorbar": {
              "outlinewidth": 0,
              "ticks": ""
             }
            },
            "type": "scattermapbox"
           }
          ],
          "scatterpolar": [
           {
            "marker": {
             "colorbar": {
              "outlinewidth": 0,
              "ticks": ""
             }
            },
            "type": "scatterpolar"
           }
          ],
          "scatterpolargl": [
           {
            "marker": {
             "colorbar": {
              "outlinewidth": 0,
              "ticks": ""
             }
            },
            "type": "scatterpolargl"
           }
          ],
          "scatterternary": [
           {
            "marker": {
             "colorbar": {
              "outlinewidth": 0,
              "ticks": ""
             }
            },
            "type": "scatterternary"
           }
          ],
          "surface": [
           {
            "colorbar": {
             "outlinewidth": 0,
             "ticks": ""
            },
            "colorscale": [
             [
              0,
              "#0d0887"
             ],
             [
              0.1111111111111111,
              "#46039f"
             ],
             [
              0.2222222222222222,
              "#7201a8"
             ],
             [
              0.3333333333333333,
              "#9c179e"
             ],
             [
              0.4444444444444444,
              "#bd3786"
             ],
             [
              0.5555555555555556,
              "#d8576b"
             ],
             [
              0.6666666666666666,
              "#ed7953"
             ],
             [
              0.7777777777777778,
              "#fb9f3a"
             ],
             [
              0.8888888888888888,
              "#fdca26"
             ],
             [
              1,
              "#f0f921"
             ]
            ],
            "type": "surface"
           }
          ],
          "table": [
           {
            "cells": {
             "fill": {
              "color": "#EBF0F8"
             },
             "line": {
              "color": "white"
             }
            },
            "header": {
             "fill": {
              "color": "#C8D4E3"
             },
             "line": {
              "color": "white"
             }
            },
            "type": "table"
           }
          ]
         },
         "layout": {
          "annotationdefaults": {
           "arrowcolor": "#2a3f5f",
           "arrowhead": 0,
           "arrowwidth": 1
          },
          "autotypenumbers": "strict",
          "coloraxis": {
           "colorbar": {
            "outlinewidth": 0,
            "ticks": ""
           }
          },
          "colorscale": {
           "diverging": [
            [
             0,
             "#8e0152"
            ],
            [
             0.1,
             "#c51b7d"
            ],
            [
             0.2,
             "#de77ae"
            ],
            [
             0.3,
             "#f1b6da"
            ],
            [
             0.4,
             "#fde0ef"
            ],
            [
             0.5,
             "#f7f7f7"
            ],
            [
             0.6,
             "#e6f5d0"
            ],
            [
             0.7,
             "#b8e186"
            ],
            [
             0.8,
             "#7fbc41"
            ],
            [
             0.9,
             "#4d9221"
            ],
            [
             1,
             "#276419"
            ]
           ],
           "sequential": [
            [
             0,
             "#0d0887"
            ],
            [
             0.1111111111111111,
             "#46039f"
            ],
            [
             0.2222222222222222,
             "#7201a8"
            ],
            [
             0.3333333333333333,
             "#9c179e"
            ],
            [
             0.4444444444444444,
             "#bd3786"
            ],
            [
             0.5555555555555556,
             "#d8576b"
            ],
            [
             0.6666666666666666,
             "#ed7953"
            ],
            [
             0.7777777777777778,
             "#fb9f3a"
            ],
            [
             0.8888888888888888,
             "#fdca26"
            ],
            [
             1,
             "#f0f921"
            ]
           ],
           "sequentialminus": [
            [
             0,
             "#0d0887"
            ],
            [
             0.1111111111111111,
             "#46039f"
            ],
            [
             0.2222222222222222,
             "#7201a8"
            ],
            [
             0.3333333333333333,
             "#9c179e"
            ],
            [
             0.4444444444444444,
             "#bd3786"
            ],
            [
             0.5555555555555556,
             "#d8576b"
            ],
            [
             0.6666666666666666,
             "#ed7953"
            ],
            [
             0.7777777777777778,
             "#fb9f3a"
            ],
            [
             0.8888888888888888,
             "#fdca26"
            ],
            [
             1,
             "#f0f921"
            ]
           ]
          },
          "colorway": [
           "#636efa",
           "#EF553B",
           "#00cc96",
           "#ab63fa",
           "#FFA15A",
           "#19d3f3",
           "#FF6692",
           "#B6E880",
           "#FF97FF",
           "#FECB52"
          ],
          "font": {
           "color": "#2a3f5f"
          },
          "geo": {
           "bgcolor": "white",
           "lakecolor": "white",
           "landcolor": "#E5ECF6",
           "showlakes": true,
           "showland": true,
           "subunitcolor": "white"
          },
          "hoverlabel": {
           "align": "left"
          },
          "hovermode": "closest",
          "mapbox": {
           "style": "light"
          },
          "paper_bgcolor": "white",
          "plot_bgcolor": "#E5ECF6",
          "polar": {
           "angularaxis": {
            "gridcolor": "white",
            "linecolor": "white",
            "ticks": ""
           },
           "bgcolor": "#E5ECF6",
           "radialaxis": {
            "gridcolor": "white",
            "linecolor": "white",
            "ticks": ""
           }
          },
          "scene": {
           "xaxis": {
            "backgroundcolor": "#E5ECF6",
            "gridcolor": "white",
            "gridwidth": 2,
            "linecolor": "white",
            "showbackground": true,
            "ticks": "",
            "zerolinecolor": "white"
           },
           "yaxis": {
            "backgroundcolor": "#E5ECF6",
            "gridcolor": "white",
            "gridwidth": 2,
            "linecolor": "white",
            "showbackground": true,
            "ticks": "",
            "zerolinecolor": "white"
           },
           "zaxis": {
            "backgroundcolor": "#E5ECF6",
            "gridcolor": "white",
            "gridwidth": 2,
            "linecolor": "white",
            "showbackground": true,
            "ticks": "",
            "zerolinecolor": "white"
           }
          },
          "shapedefaults": {
           "line": {
            "color": "#2a3f5f"
           }
          },
          "ternary": {
           "aaxis": {
            "gridcolor": "white",
            "linecolor": "white",
            "ticks": ""
           },
           "baxis": {
            "gridcolor": "white",
            "linecolor": "white",
            "ticks": ""
           },
           "bgcolor": "#E5ECF6",
           "caxis": {
            "gridcolor": "white",
            "linecolor": "white",
            "ticks": ""
           }
          },
          "title": {
           "x": 0.05
          },
          "xaxis": {
           "automargin": true,
           "gridcolor": "white",
           "linecolor": "white",
           "ticks": "",
           "title": {
            "standoff": 15
           },
           "zerolinecolor": "white",
           "zerolinewidth": 2
          },
          "yaxis": {
           "automargin": true,
           "gridcolor": "white",
           "linecolor": "white",
           "ticks": "",
           "title": {
            "standoff": 15
           },
           "zerolinecolor": "white",
           "zerolinewidth": 2
          }
         }
        },
        "xaxis": {
         "anchor": "y",
         "domain": [
          0,
          1
         ],
         "title": {
          "text": "quote tag"
         }
        },
        "yaxis": {
         "anchor": "x",
         "domain": [
          0,
          1
         ],
         "title": {
          "text": "sum of tag frequency"
         }
        }
       }
      }
     },
     "metadata": {},
     "output_type": "display_data"
    }
   ],
   "source": [
    "# Visualizing the balanced data\n",
    "px.histogram(tag_freq_sorted, x=0, y=1,labels={'0': 'quote tag', '1': 'tag frequency'})"
   ]
  },
  {
   "cell_type": "code",
   "execution_count": 83,
   "metadata": {},
   "outputs": [
    {
     "data": {
      "text/html": [
       "<div>\n",
       "<style scoped>\n",
       "    .dataframe tbody tr th:only-of-type {\n",
       "        vertical-align: middle;\n",
       "    }\n",
       "\n",
       "    .dataframe tbody tr th {\n",
       "        vertical-align: top;\n",
       "    }\n",
       "\n",
       "    .dataframe thead th {\n",
       "        text-align: right;\n",
       "    }\n",
       "</style>\n",
       "<table border=\"1\" class=\"dataframe\">\n",
       "  <thead>\n",
       "    <tr style=\"text-align: right;\">\n",
       "      <th></th>\n",
       "      <th>level_0</th>\n",
       "      <th>index</th>\n",
       "      <th>quote</th>\n",
       "      <th>author</th>\n",
       "      <th>tags</th>\n",
       "      <th>processed_quote</th>\n",
       "      <th>book</th>\n",
       "      <th>death</th>\n",
       "      <th>friendship</th>\n",
       "      <th>funny</th>\n",
       "      <th>...</th>\n",
       "      <th>optimism</th>\n",
       "      <th>philosophy</th>\n",
       "      <th>poetry</th>\n",
       "      <th>positiveaffirmation</th>\n",
       "      <th>reading</th>\n",
       "      <th>romance</th>\n",
       "      <th>truth</th>\n",
       "      <th>wisdom</th>\n",
       "      <th>woman</th>\n",
       "      <th>writing</th>\n",
       "    </tr>\n",
       "  </thead>\n",
       "  <tbody>\n",
       "    <tr>\n",
       "      <th>0</th>\n",
       "      <td>10</td>\n",
       "      <td>12</td>\n",
       "      <td>“Donâ€™t walk in front of meâ€¦ I may not foll...</td>\n",
       "      <td>Albert Camus</td>\n",
       "      <td>[friendship]</td>\n",
       "      <td>dona walk front mea may followdona walk behind...</td>\n",
       "      <td>0</td>\n",
       "      <td>0</td>\n",
       "      <td>1</td>\n",
       "      <td>0</td>\n",
       "      <td>...</td>\n",
       "      <td>0</td>\n",
       "      <td>0</td>\n",
       "      <td>0</td>\n",
       "      <td>0</td>\n",
       "      <td>0</td>\n",
       "      <td>0</td>\n",
       "      <td>0</td>\n",
       "      <td>0</td>\n",
       "      <td>0</td>\n",
       "      <td>0</td>\n",
       "    </tr>\n",
       "    <tr>\n",
       "      <th>1</th>\n",
       "      <td>11</td>\n",
       "      <td>13</td>\n",
       "      <td>“If you tell the truth, you don't have to reme...</td>\n",
       "      <td>Mark Twain</td>\n",
       "      <td>[truth]</td>\n",
       "      <td>tell truth remember anything</td>\n",
       "      <td>0</td>\n",
       "      <td>0</td>\n",
       "      <td>0</td>\n",
       "      <td>0</td>\n",
       "      <td>...</td>\n",
       "      <td>0</td>\n",
       "      <td>0</td>\n",
       "      <td>0</td>\n",
       "      <td>0</td>\n",
       "      <td>0</td>\n",
       "      <td>0</td>\n",
       "      <td>1</td>\n",
       "      <td>0</td>\n",
       "      <td>0</td>\n",
       "      <td>0</td>\n",
       "    </tr>\n",
       "    <tr>\n",
       "      <th>2</th>\n",
       "      <td>12</td>\n",
       "      <td>14</td>\n",
       "      <td>“Friendship ... is born at the moment when one...</td>\n",
       "      <td>C.S. Lewis,</td>\n",
       "      <td>[friendship]</td>\n",
       "      <td>friendship born moment one man say another tho...</td>\n",
       "      <td>0</td>\n",
       "      <td>0</td>\n",
       "      <td>1</td>\n",
       "      <td>0</td>\n",
       "      <td>...</td>\n",
       "      <td>0</td>\n",
       "      <td>0</td>\n",
       "      <td>0</td>\n",
       "      <td>0</td>\n",
       "      <td>0</td>\n",
       "      <td>0</td>\n",
       "      <td>0</td>\n",
       "      <td>0</td>\n",
       "      <td>0</td>\n",
       "      <td>0</td>\n",
       "    </tr>\n",
       "    <tr>\n",
       "      <th>3</th>\n",
       "      <td>22</td>\n",
       "      <td>30</td>\n",
       "      <td>“All that is gold does not glitter,Not all tho...</td>\n",
       "      <td>J.R.R. Tolkien,</td>\n",
       "      <td>[poetry]</td>\n",
       "      <td>gold glitter wander lost old strong wither dee...</td>\n",
       "      <td>0</td>\n",
       "      <td>0</td>\n",
       "      <td>0</td>\n",
       "      <td>0</td>\n",
       "      <td>...</td>\n",
       "      <td>0</td>\n",
       "      <td>0</td>\n",
       "      <td>1</td>\n",
       "      <td>0</td>\n",
       "      <td>0</td>\n",
       "      <td>0</td>\n",
       "      <td>0</td>\n",
       "      <td>0</td>\n",
       "      <td>0</td>\n",
       "      <td>0</td>\n",
       "    </tr>\n",
       "    <tr>\n",
       "      <th>4</th>\n",
       "      <td>31</td>\n",
       "      <td>40</td>\n",
       "      <td>“It is better to remain silent at the risk of ...</td>\n",
       "      <td>Maurice Switzer,</td>\n",
       "      <td>[wisdom]</td>\n",
       "      <td>better remain silent risk thought fool talk re...</td>\n",
       "      <td>0</td>\n",
       "      <td>0</td>\n",
       "      <td>0</td>\n",
       "      <td>0</td>\n",
       "      <td>...</td>\n",
       "      <td>0</td>\n",
       "      <td>0</td>\n",
       "      <td>0</td>\n",
       "      <td>0</td>\n",
       "      <td>0</td>\n",
       "      <td>0</td>\n",
       "      <td>0</td>\n",
       "      <td>1</td>\n",
       "      <td>0</td>\n",
       "      <td>0</td>\n",
       "    </tr>\n",
       "    <tr>\n",
       "      <th>...</th>\n",
       "      <td>...</td>\n",
       "      <td>...</td>\n",
       "      <td>...</td>\n",
       "      <td>...</td>\n",
       "      <td>...</td>\n",
       "      <td>...</td>\n",
       "      <td>...</td>\n",
       "      <td>...</td>\n",
       "      <td>...</td>\n",
       "      <td>...</td>\n",
       "      <td>...</td>\n",
       "      <td>...</td>\n",
       "      <td>...</td>\n",
       "      <td>...</td>\n",
       "      <td>...</td>\n",
       "      <td>...</td>\n",
       "      <td>...</td>\n",
       "      <td>...</td>\n",
       "      <td>...</td>\n",
       "      <td>...</td>\n",
       "      <td>...</td>\n",
       "    </tr>\n",
       "    <tr>\n",
       "      <th>626</th>\n",
       "      <td>1541</td>\n",
       "      <td>2499</td>\n",
       "      <td>“I am a part of all that I have met.”</td>\n",
       "      <td>Alfred Tennyson,</td>\n",
       "      <td>[inspiring]</td>\n",
       "      <td>part met</td>\n",
       "      <td>0</td>\n",
       "      <td>0</td>\n",
       "      <td>0</td>\n",
       "      <td>0</td>\n",
       "      <td>...</td>\n",
       "      <td>0</td>\n",
       "      <td>0</td>\n",
       "      <td>0</td>\n",
       "      <td>0</td>\n",
       "      <td>0</td>\n",
       "      <td>0</td>\n",
       "      <td>0</td>\n",
       "      <td>0</td>\n",
       "      <td>0</td>\n",
       "      <td>0</td>\n",
       "    </tr>\n",
       "    <tr>\n",
       "      <th>627</th>\n",
       "      <td>1542</td>\n",
       "      <td>2501</td>\n",
       "      <td>“I sought to hear the voice of God and climbed...</td>\n",
       "      <td>John Henry Newman</td>\n",
       "      <td>[inspiring, love]</td>\n",
       "      <td>sought hear voice god climbed topmost steeple ...</td>\n",
       "      <td>0</td>\n",
       "      <td>0</td>\n",
       "      <td>0</td>\n",
       "      <td>0</td>\n",
       "      <td>...</td>\n",
       "      <td>0</td>\n",
       "      <td>0</td>\n",
       "      <td>0</td>\n",
       "      <td>0</td>\n",
       "      <td>0</td>\n",
       "      <td>0</td>\n",
       "      <td>0</td>\n",
       "      <td>0</td>\n",
       "      <td>0</td>\n",
       "      <td>0</td>\n",
       "    </tr>\n",
       "    <tr>\n",
       "      <th>628</th>\n",
       "      <td>1543</td>\n",
       "      <td>2502</td>\n",
       "      <td>“Stepping onto a brand-new path is difficult, ...</td>\n",
       "      <td>Maya Angelou</td>\n",
       "      <td>[inspiring]</td>\n",
       "      <td>stepping onto brand new path difficult difficu...</td>\n",
       "      <td>0</td>\n",
       "      <td>0</td>\n",
       "      <td>0</td>\n",
       "      <td>0</td>\n",
       "      <td>...</td>\n",
       "      <td>0</td>\n",
       "      <td>0</td>\n",
       "      <td>0</td>\n",
       "      <td>0</td>\n",
       "      <td>0</td>\n",
       "      <td>0</td>\n",
       "      <td>0</td>\n",
       "      <td>0</td>\n",
       "      <td>0</td>\n",
       "      <td>0</td>\n",
       "    </tr>\n",
       "    <tr>\n",
       "      <th>629</th>\n",
       "      <td>1544</td>\n",
       "      <td>2503</td>\n",
       "      <td>“Morality is simply the attitude we adopt towa...</td>\n",
       "      <td>Oscar Wilde,</td>\n",
       "      <td>[philosophy]</td>\n",
       "      <td>morality simply attitude adopt towards people ...</td>\n",
       "      <td>0</td>\n",
       "      <td>0</td>\n",
       "      <td>0</td>\n",
       "      <td>0</td>\n",
       "      <td>...</td>\n",
       "      <td>0</td>\n",
       "      <td>1</td>\n",
       "      <td>0</td>\n",
       "      <td>0</td>\n",
       "      <td>0</td>\n",
       "      <td>0</td>\n",
       "      <td>0</td>\n",
       "      <td>0</td>\n",
       "      <td>0</td>\n",
       "      <td>0</td>\n",
       "    </tr>\n",
       "    <tr>\n",
       "      <th>630</th>\n",
       "      <td>1545</td>\n",
       "      <td>2504</td>\n",
       "      <td>“Don't aim at success. The more you aim at it ...</td>\n",
       "      <td>Viktor E. Frankl,</td>\n",
       "      <td>[happiness]</td>\n",
       "      <td>aim success aim make target going miss success...</td>\n",
       "      <td>0</td>\n",
       "      <td>0</td>\n",
       "      <td>0</td>\n",
       "      <td>0</td>\n",
       "      <td>...</td>\n",
       "      <td>0</td>\n",
       "      <td>0</td>\n",
       "      <td>0</td>\n",
       "      <td>0</td>\n",
       "      <td>0</td>\n",
       "      <td>0</td>\n",
       "      <td>0</td>\n",
       "      <td>0</td>\n",
       "      <td>0</td>\n",
       "      <td>0</td>\n",
       "    </tr>\n",
       "  </tbody>\n",
       "</table>\n",
       "<p>631 rows × 26 columns</p>\n",
       "</div>"
      ],
      "text/plain": [
       "     level_0  index                                              quote  \\\n",
       "0         10     12  “Donâ€™t walk in front of meâ€¦ I may not foll...   \n",
       "1         11     13  “If you tell the truth, you don't have to reme...   \n",
       "2         12     14  “Friendship ... is born at the moment when one...   \n",
       "3         22     30  “All that is gold does not glitter,Not all tho...   \n",
       "4         31     40  “It is better to remain silent at the risk of ...   \n",
       "..       ...    ...                                                ...   \n",
       "626     1541   2499              “I am a part of all that I have met.”   \n",
       "627     1542   2501  “I sought to hear the voice of God and climbed...   \n",
       "628     1543   2502  “Stepping onto a brand-new path is difficult, ...   \n",
       "629     1544   2503  “Morality is simply the attitude we adopt towa...   \n",
       "630     1545   2504  “Don't aim at success. The more you aim at it ...   \n",
       "\n",
       "                author               tags  \\\n",
       "0         Albert Camus       [friendship]   \n",
       "1           Mark Twain            [truth]   \n",
       "2          C.S. Lewis,       [friendship]   \n",
       "3      J.R.R. Tolkien,           [poetry]   \n",
       "4     Maurice Switzer,           [wisdom]   \n",
       "..                 ...                ...   \n",
       "626   Alfred Tennyson,        [inspiring]   \n",
       "627  John Henry Newman  [inspiring, love]   \n",
       "628       Maya Angelou        [inspiring]   \n",
       "629       Oscar Wilde,       [philosophy]   \n",
       "630  Viktor E. Frankl,        [happiness]   \n",
       "\n",
       "                                       processed_quote  book  death  \\\n",
       "0    dona walk front mea may followdona walk behind...     0      0   \n",
       "1                        tell truth remember anything      0      0   \n",
       "2    friendship born moment one man say another tho...     0      0   \n",
       "3    gold glitter wander lost old strong wither dee...     0      0   \n",
       "4    better remain silent risk thought fool talk re...     0      0   \n",
       "..                                                 ...   ...    ...   \n",
       "626                                          part met      0      0   \n",
       "627  sought hear voice god climbed topmost steeple ...     0      0   \n",
       "628  stepping onto brand new path difficult difficu...     0      0   \n",
       "629  morality simply attitude adopt towards people ...     0      0   \n",
       "630  aim success aim make target going miss success...     0      0   \n",
       "\n",
       "     friendship  funny  ...  optimism  philosophy  poetry  \\\n",
       "0             1      0  ...         0           0       0   \n",
       "1             0      0  ...         0           0       0   \n",
       "2             1      0  ...         0           0       0   \n",
       "3             0      0  ...         0           0       1   \n",
       "4             0      0  ...         0           0       0   \n",
       "..          ...    ...  ...       ...         ...     ...   \n",
       "626           0      0  ...         0           0       0   \n",
       "627           0      0  ...         0           0       0   \n",
       "628           0      0  ...         0           0       0   \n",
       "629           0      0  ...         0           1       0   \n",
       "630           0      0  ...         0           0       0   \n",
       "\n",
       "     positiveaffirmation  reading  romance  truth  wisdom  woman  writing  \n",
       "0                      0        0        0      0       0      0        0  \n",
       "1                      0        0        0      1       0      0        0  \n",
       "2                      0        0        0      0       0      0        0  \n",
       "3                      0        0        0      0       0      0        0  \n",
       "4                      0        0        0      0       1      0        0  \n",
       "..                   ...      ...      ...    ...     ...    ...      ...  \n",
       "626                    0        0        0      0       0      0        0  \n",
       "627                    0        0        0      0       0      0        0  \n",
       "628                    0        0        0      0       0      0        0  \n",
       "629                    0        0        0      0       0      0        0  \n",
       "630                    0        0        0      0       0      0        0  \n",
       "\n",
       "[631 rows x 26 columns]"
      ]
     },
     "execution_count": 83,
     "metadata": {},
     "output_type": "execute_result"
    }
   ],
   "source": [
    "balanced_df"
   ]
  },
  {
   "cell_type": "code",
   "execution_count": 84,
   "metadata": {},
   "outputs": [],
   "source": [
    "mlb2_balanced_data = MultiLabelBinarizer()\n",
    "\n",
    "# Fitting and transforming the labels into a multi hot encoded value\n",
    "multi_hot_encoding2 = mlb2_balanced_data.fit_transform(balanced_df['tags'])"
   ]
  },
  {
   "attachments": {},
   "cell_type": "markdown",
   "metadata": {},
   "source": [
    "# Multinomial Naïve Bayes Classifier #2"
   ]
  },
  {
   "cell_type": "code",
   "execution_count": 85,
   "metadata": {},
   "outputs": [
    {
     "data": {
      "text/html": [
       "<div>\n",
       "<style scoped>\n",
       "    .dataframe tbody tr th:only-of-type {\n",
       "        vertical-align: middle;\n",
       "    }\n",
       "\n",
       "    .dataframe tbody tr th {\n",
       "        vertical-align: top;\n",
       "    }\n",
       "\n",
       "    .dataframe thead th {\n",
       "        text-align: right;\n",
       "    }\n",
       "</style>\n",
       "<table border=\"1\" class=\"dataframe\">\n",
       "  <thead>\n",
       "    <tr style=\"text-align: right;\">\n",
       "      <th></th>\n",
       "      <th>book</th>\n",
       "      <th>funny</th>\n",
       "      <th>love</th>\n",
       "      <th>inspiring</th>\n",
       "      <th>life</th>\n",
       "      <th>reading</th>\n",
       "      <th>writing</th>\n",
       "      <th>truth</th>\n",
       "      <th>wisdom</th>\n",
       "      <th>friendship</th>\n",
       "      <th>happiness</th>\n",
       "      <th>philosophy</th>\n",
       "      <th>poetry</th>\n",
       "      <th>woman</th>\n",
       "    </tr>\n",
       "  </thead>\n",
       "  <tbody>\n",
       "    <tr>\n",
       "      <th>0</th>\n",
       "      <td>0</td>\n",
       "      <td>0</td>\n",
       "      <td>0</td>\n",
       "      <td>0</td>\n",
       "      <td>0</td>\n",
       "      <td>0</td>\n",
       "      <td>0</td>\n",
       "      <td>0</td>\n",
       "      <td>0</td>\n",
       "      <td>1</td>\n",
       "      <td>0</td>\n",
       "      <td>0</td>\n",
       "      <td>0</td>\n",
       "      <td>0</td>\n",
       "    </tr>\n",
       "    <tr>\n",
       "      <th>1</th>\n",
       "      <td>0</td>\n",
       "      <td>0</td>\n",
       "      <td>0</td>\n",
       "      <td>0</td>\n",
       "      <td>0</td>\n",
       "      <td>0</td>\n",
       "      <td>0</td>\n",
       "      <td>1</td>\n",
       "      <td>0</td>\n",
       "      <td>0</td>\n",
       "      <td>0</td>\n",
       "      <td>0</td>\n",
       "      <td>0</td>\n",
       "      <td>0</td>\n",
       "    </tr>\n",
       "    <tr>\n",
       "      <th>2</th>\n",
       "      <td>0</td>\n",
       "      <td>0</td>\n",
       "      <td>0</td>\n",
       "      <td>0</td>\n",
       "      <td>0</td>\n",
       "      <td>0</td>\n",
       "      <td>0</td>\n",
       "      <td>0</td>\n",
       "      <td>0</td>\n",
       "      <td>1</td>\n",
       "      <td>0</td>\n",
       "      <td>0</td>\n",
       "      <td>0</td>\n",
       "      <td>0</td>\n",
       "    </tr>\n",
       "    <tr>\n",
       "      <th>3</th>\n",
       "      <td>0</td>\n",
       "      <td>0</td>\n",
       "      <td>0</td>\n",
       "      <td>0</td>\n",
       "      <td>0</td>\n",
       "      <td>0</td>\n",
       "      <td>0</td>\n",
       "      <td>0</td>\n",
       "      <td>0</td>\n",
       "      <td>0</td>\n",
       "      <td>0</td>\n",
       "      <td>0</td>\n",
       "      <td>1</td>\n",
       "      <td>0</td>\n",
       "    </tr>\n",
       "    <tr>\n",
       "      <th>4</th>\n",
       "      <td>0</td>\n",
       "      <td>0</td>\n",
       "      <td>0</td>\n",
       "      <td>0</td>\n",
       "      <td>0</td>\n",
       "      <td>0</td>\n",
       "      <td>0</td>\n",
       "      <td>0</td>\n",
       "      <td>1</td>\n",
       "      <td>0</td>\n",
       "      <td>0</td>\n",
       "      <td>0</td>\n",
       "      <td>0</td>\n",
       "      <td>0</td>\n",
       "    </tr>\n",
       "    <tr>\n",
       "      <th>...</th>\n",
       "      <td>...</td>\n",
       "      <td>...</td>\n",
       "      <td>...</td>\n",
       "      <td>...</td>\n",
       "      <td>...</td>\n",
       "      <td>...</td>\n",
       "      <td>...</td>\n",
       "      <td>...</td>\n",
       "      <td>...</td>\n",
       "      <td>...</td>\n",
       "      <td>...</td>\n",
       "      <td>...</td>\n",
       "      <td>...</td>\n",
       "      <td>...</td>\n",
       "    </tr>\n",
       "    <tr>\n",
       "      <th>626</th>\n",
       "      <td>0</td>\n",
       "      <td>0</td>\n",
       "      <td>0</td>\n",
       "      <td>1</td>\n",
       "      <td>0</td>\n",
       "      <td>0</td>\n",
       "      <td>0</td>\n",
       "      <td>0</td>\n",
       "      <td>0</td>\n",
       "      <td>0</td>\n",
       "      <td>0</td>\n",
       "      <td>0</td>\n",
       "      <td>0</td>\n",
       "      <td>0</td>\n",
       "    </tr>\n",
       "    <tr>\n",
       "      <th>627</th>\n",
       "      <td>0</td>\n",
       "      <td>0</td>\n",
       "      <td>1</td>\n",
       "      <td>1</td>\n",
       "      <td>0</td>\n",
       "      <td>0</td>\n",
       "      <td>0</td>\n",
       "      <td>0</td>\n",
       "      <td>0</td>\n",
       "      <td>0</td>\n",
       "      <td>0</td>\n",
       "      <td>0</td>\n",
       "      <td>0</td>\n",
       "      <td>0</td>\n",
       "    </tr>\n",
       "    <tr>\n",
       "      <th>628</th>\n",
       "      <td>0</td>\n",
       "      <td>0</td>\n",
       "      <td>0</td>\n",
       "      <td>1</td>\n",
       "      <td>0</td>\n",
       "      <td>0</td>\n",
       "      <td>0</td>\n",
       "      <td>0</td>\n",
       "      <td>0</td>\n",
       "      <td>0</td>\n",
       "      <td>0</td>\n",
       "      <td>0</td>\n",
       "      <td>0</td>\n",
       "      <td>0</td>\n",
       "    </tr>\n",
       "    <tr>\n",
       "      <th>629</th>\n",
       "      <td>0</td>\n",
       "      <td>0</td>\n",
       "      <td>0</td>\n",
       "      <td>0</td>\n",
       "      <td>0</td>\n",
       "      <td>0</td>\n",
       "      <td>0</td>\n",
       "      <td>0</td>\n",
       "      <td>0</td>\n",
       "      <td>0</td>\n",
       "      <td>0</td>\n",
       "      <td>1</td>\n",
       "      <td>0</td>\n",
       "      <td>0</td>\n",
       "    </tr>\n",
       "    <tr>\n",
       "      <th>630</th>\n",
       "      <td>0</td>\n",
       "      <td>0</td>\n",
       "      <td>0</td>\n",
       "      <td>0</td>\n",
       "      <td>0</td>\n",
       "      <td>0</td>\n",
       "      <td>0</td>\n",
       "      <td>0</td>\n",
       "      <td>0</td>\n",
       "      <td>0</td>\n",
       "      <td>1</td>\n",
       "      <td>0</td>\n",
       "      <td>0</td>\n",
       "      <td>0</td>\n",
       "    </tr>\n",
       "  </tbody>\n",
       "</table>\n",
       "<p>631 rows × 14 columns</p>\n",
       "</div>"
      ],
      "text/plain": [
       "     book  funny  love  inspiring  life  reading  writing  truth  wisdom  \\\n",
       "0       0      0     0          0     0        0        0      0       0   \n",
       "1       0      0     0          0     0        0        0      1       0   \n",
       "2       0      0     0          0     0        0        0      0       0   \n",
       "3       0      0     0          0     0        0        0      0       0   \n",
       "4       0      0     0          0     0        0        0      0       1   \n",
       "..    ...    ...   ...        ...   ...      ...      ...    ...     ...   \n",
       "626     0      0     0          1     0        0        0      0       0   \n",
       "627     0      0     1          1     0        0        0      0       0   \n",
       "628     0      0     0          1     0        0        0      0       0   \n",
       "629     0      0     0          0     0        0        0      0       0   \n",
       "630     0      0     0          0     0        0        0      0       0   \n",
       "\n",
       "     friendship  happiness  philosophy  poetry  woman  \n",
       "0             1          0           0       0      0  \n",
       "1             0          0           0       0      0  \n",
       "2             1          0           0       0      0  \n",
       "3             0          0           0       1      0  \n",
       "4             0          0           0       0      0  \n",
       "..          ...        ...         ...     ...    ...  \n",
       "626           0          0           0       0      0  \n",
       "627           0          0           0       0      0  \n",
       "628           0          0           0       0      0  \n",
       "629           0          0           1       0      0  \n",
       "630           0          1           0       0      0  \n",
       "\n",
       "[631 rows x 14 columns]"
      ]
     },
     "execution_count": 85,
     "metadata": {},
     "output_type": "execute_result"
    }
   ],
   "source": [
    "# preparing the data for the model\n",
    "balanced_data_columns = []\n",
    "for i in range(0, len(tag_freq_sorted)):\n",
    "    balanced_data_columns.append(tag_freq_sorted[i][0])\n",
    "# print(balanced_data_columns)\n",
    "\n",
    "target_balanced_dataframe = pd.DataFrame(columns=mlb2_balanced_data.classes_)\n",
    "target_balanced_dataframe = balanced_df[balanced_data_columns]\n",
    "target_balanced_dataframe"
   ]
  },
  {
   "cell_type": "code",
   "execution_count": 86,
   "metadata": {},
   "outputs": [
    {
     "name": "stdout",
     "output_type": "stream",
     "text": [
      "X_balanced_train (473, 2617)\n",
      "X_balanced_test (158, 2617)\n",
      "y_balanced_train (473, 14)\n",
      "y_balanced_test (158, 14)\n"
     ]
    }
   ],
   "source": [
    "from sklearn.model_selection import train_test_split\n",
    "\n",
    "# vectorization\n",
    "tfidf_vectorizer2 = TfidfVectorizer()\n",
    "tfidf_matrix2 = tfidf_vectorizer2.fit_transform(balanced_df['processed_quote'])\n",
    "\n",
    "# train and test split\n",
    "X_balanced_train, X_balanced_test, y_balanced_train, y_balanced_test = train_test_split(tfidf_matrix2, csr_matrix(target_balanced_dataframe), test_size=0.25)\n",
    "\n",
    "\n",
    "print(\"X_balanced_train\", X_balanced_train.shape)\n",
    "print(\"X_balanced_test\", X_balanced_test.shape)\n",
    "print(\"y_balanced_train\", y_balanced_train.shape)\n",
    "print(\"y_balanced_test\", y_balanced_test.shape)\n"
   ]
  },
  {
   "cell_type": "code",
   "execution_count": 87,
   "metadata": {},
   "outputs": [],
   "source": [
    "# Converting  sparse matrix to a dense matrix for both y_test and y_train\n",
    "y_balanced_train_new = y_balanced_train.toarray()\n",
    "y_balanced_test_new = y_balanced_test.toarray()\n",
    "\n",
    "# print(y_balanced_train_new)\n",
    "# print(y_balanced_test_new)\n",
    "\n",
    "# # setting it to a dataframe\n",
    "y_balanced_train_df = pd.DataFrame(y_balanced_train_new, columns=mlb2_balanced_data.classes_)\n",
    "y_balanced_test_df = pd.DataFrame(y_balanced_test_new, columns=mlb2_balanced_data.classes_)"
   ]
  },
  {
   "cell_type": "code",
   "execution_count": 88,
   "metadata": {},
   "outputs": [
    {
     "name": "stdout",
     "output_type": "stream",
     "text": [
      "Fitting the model on the book label ...\n",
      "The Classification Report for model trained on book label\n",
      "              precision    recall  f1-score   support\n",
      "\n",
      "           0       0.90      0.93      0.91       139\n",
      "           1       0.29      0.21      0.24        19\n",
      "\n",
      "    accuracy                           0.84       158\n",
      "   macro avg       0.59      0.57      0.58       158\n",
      "weighted avg       0.82      0.84      0.83       158\n",
      "\n",
      "Fitting the model on the funny label ...\n",
      "The Classification Report for model trained on funny label\n",
      "              precision    recall  f1-score   support\n",
      "\n",
      "           0       0.91      0.94      0.93       142\n",
      "           1       0.27      0.19      0.22        16\n",
      "\n",
      "    accuracy                           0.87       158\n",
      "   macro avg       0.59      0.57      0.57       158\n",
      "weighted avg       0.85      0.87      0.86       158\n",
      "\n",
      "Fitting the model on the love label ...\n",
      "The Classification Report for model trained on love label\n",
      "              precision    recall  f1-score   support\n",
      "\n",
      "           0       0.88      0.95      0.91       137\n",
      "           1       0.30      0.14      0.19        21\n",
      "\n",
      "    accuracy                           0.84       158\n",
      "   macro avg       0.59      0.55      0.55       158\n",
      "weighted avg       0.80      0.84      0.82       158\n",
      "\n",
      "Fitting the model on the inspiring label ...\n",
      "The Classification Report for model trained on inspiring label\n",
      "              precision    recall  f1-score   support\n",
      "\n",
      "           0       0.93      0.88      0.91       146\n",
      "           1       0.11      0.17      0.13        12\n",
      "\n",
      "    accuracy                           0.83       158\n",
      "   macro avg       0.52      0.53      0.52       158\n",
      "weighted avg       0.87      0.83      0.85       158\n",
      "\n",
      "Fitting the model on the life label ...\n",
      "The Classification Report for model trained on life label\n",
      "              precision    recall  f1-score   support\n",
      "\n",
      "           0       0.91      0.94      0.93       143\n",
      "           1       0.20      0.13      0.16        15\n",
      "\n",
      "    accuracy                           0.87       158\n",
      "   macro avg       0.56      0.54      0.54       158\n",
      "weighted avg       0.84      0.87      0.85       158\n",
      "\n",
      "Fitting the model on the reading label ...\n",
      "The Classification Report for model trained on reading label\n",
      "              precision    recall  f1-score   support\n",
      "\n",
      "           0       0.94      0.98      0.96       148\n",
      "           1       0.00      0.00      0.00        10\n",
      "\n",
      "    accuracy                           0.92       158\n",
      "   macro avg       0.47      0.49      0.48       158\n",
      "weighted avg       0.88      0.92      0.90       158\n",
      "\n",
      "Fitting the model on the writing label ...\n",
      "The Classification Report for model trained on writing label\n",
      "              precision    recall  f1-score   support\n",
      "\n",
      "           0       0.97      0.96      0.96       153\n",
      "           1       0.00      0.00      0.00         5\n",
      "\n",
      "    accuracy                           0.93       158\n",
      "   macro avg       0.48      0.48      0.48       158\n",
      "weighted avg       0.94      0.93      0.93       158\n",
      "\n",
      "Fitting the model on the truth label ...\n",
      "The Classification Report for model trained on truth label\n",
      "              precision    recall  f1-score   support\n",
      "\n",
      "           0       0.94      0.95      0.95       148\n",
      "           1       0.12      0.10      0.11        10\n",
      "\n",
      "    accuracy                           0.90       158\n",
      "   macro avg       0.53      0.53      0.53       158\n",
      "weighted avg       0.89      0.90      0.89       158\n",
      "\n",
      "Fitting the model on the wisdom label ...\n",
      "The Classification Report for model trained on wisdom label\n",
      "              precision    recall  f1-score   support\n",
      "\n",
      "           0       0.95      0.97      0.96       149\n",
      "           1       0.17      0.11      0.13         9\n",
      "\n",
      "    accuracy                           0.92       158\n",
      "   macro avg       0.56      0.54      0.55       158\n",
      "weighted avg       0.90      0.92      0.91       158\n",
      "\n",
      "Fitting the model on the friendship label ...\n",
      "The Classification Report for model trained on friendship label\n",
      "              precision    recall  f1-score   support\n",
      "\n",
      "           0       0.93      0.96      0.94       140\n",
      "           1       0.57      0.44      0.50        18\n",
      "\n",
      "    accuracy                           0.90       158\n",
      "   macro avg       0.75      0.70      0.72       158\n",
      "weighted avg       0.89      0.90      0.89       158\n",
      "\n",
      "Fitting the model on the happiness label ...\n",
      "The Classification Report for model trained on happiness label\n",
      "              precision    recall  f1-score   support\n",
      "\n",
      "           0       0.90      0.91      0.90       141\n",
      "           1       0.13      0.12      0.12        17\n",
      "\n",
      "    accuracy                           0.82       158\n",
      "   macro avg       0.51      0.51      0.51       158\n",
      "weighted avg       0.81      0.82      0.82       158\n",
      "\n",
      "Fitting the model on the philosophy label ...\n",
      "The Classification Report for model trained on philosophy label\n",
      "              precision    recall  f1-score   support\n",
      "\n",
      "           0       0.94      0.97      0.96       149\n",
      "           1       0.00      0.00      0.00         9\n",
      "\n",
      "    accuracy                           0.92       158\n",
      "   macro avg       0.47      0.49      0.48       158\n",
      "weighted avg       0.89      0.92      0.90       158\n",
      "\n",
      "Fitting the model on the poetry label ...\n",
      "The Classification Report for model trained on poetry label\n",
      "              precision    recall  f1-score   support\n",
      "\n",
      "           0       0.95      0.99      0.97       149\n",
      "           1       0.50      0.11      0.18         9\n",
      "\n",
      "    accuracy                           0.94       158\n",
      "   macro avg       0.72      0.55      0.58       158\n",
      "weighted avg       0.92      0.94      0.93       158\n",
      "\n",
      "Fitting the model on the woman label ...\n",
      "The Classification Report for model trained on woman label\n",
      "              precision    recall  f1-score   support\n",
      "\n",
      "           0       0.98      0.96      0.97       150\n",
      "           1       0.45      0.62      0.53         8\n",
      "\n",
      "    accuracy                           0.94       158\n",
      "   macro avg       0.72      0.79      0.75       158\n",
      "weighted avg       0.95      0.94      0.95       158\n",
      "\n"
     ]
    },
    {
     "name": "stderr",
     "output_type": "stream",
     "text": [
      "/opt/homebrew/anaconda3/envs/info7390/lib/python3.8/site-packages/sklearn/naive_bayes.py:624: FutureWarning:\n",
      "\n",
      "The default value for `force_alpha` will change to `True` in 1.4. To suppress this warning, manually set the value of `force_alpha`.\n",
      "\n",
      "/opt/homebrew/anaconda3/envs/info7390/lib/python3.8/site-packages/sklearn/naive_bayes.py:633: UserWarning:\n",
      "\n",
      "alpha too small will result in numeric errors, setting alpha = 1.0e-10. Use `force_alpha=True` to keep alpha unchanged.\n",
      "\n",
      "/opt/homebrew/anaconda3/envs/info7390/lib/python3.8/site-packages/sklearn/naive_bayes.py:624: FutureWarning:\n",
      "\n",
      "The default value for `force_alpha` will change to `True` in 1.4. To suppress this warning, manually set the value of `force_alpha`.\n",
      "\n",
      "/opt/homebrew/anaconda3/envs/info7390/lib/python3.8/site-packages/sklearn/naive_bayes.py:633: UserWarning:\n",
      "\n",
      "alpha too small will result in numeric errors, setting alpha = 1.0e-10. Use `force_alpha=True` to keep alpha unchanged.\n",
      "\n",
      "/opt/homebrew/anaconda3/envs/info7390/lib/python3.8/site-packages/sklearn/naive_bayes.py:624: FutureWarning:\n",
      "\n",
      "The default value for `force_alpha` will change to `True` in 1.4. To suppress this warning, manually set the value of `force_alpha`.\n",
      "\n",
      "/opt/homebrew/anaconda3/envs/info7390/lib/python3.8/site-packages/sklearn/naive_bayes.py:633: UserWarning:\n",
      "\n",
      "alpha too small will result in numeric errors, setting alpha = 1.0e-10. Use `force_alpha=True` to keep alpha unchanged.\n",
      "\n",
      "/opt/homebrew/anaconda3/envs/info7390/lib/python3.8/site-packages/sklearn/naive_bayes.py:624: FutureWarning:\n",
      "\n",
      "The default value for `force_alpha` will change to `True` in 1.4. To suppress this warning, manually set the value of `force_alpha`.\n",
      "\n",
      "/opt/homebrew/anaconda3/envs/info7390/lib/python3.8/site-packages/sklearn/naive_bayes.py:633: UserWarning:\n",
      "\n",
      "alpha too small will result in numeric errors, setting alpha = 1.0e-10. Use `force_alpha=True` to keep alpha unchanged.\n",
      "\n",
      "/opt/homebrew/anaconda3/envs/info7390/lib/python3.8/site-packages/sklearn/naive_bayes.py:624: FutureWarning:\n",
      "\n",
      "The default value for `force_alpha` will change to `True` in 1.4. To suppress this warning, manually set the value of `force_alpha`.\n",
      "\n",
      "/opt/homebrew/anaconda3/envs/info7390/lib/python3.8/site-packages/sklearn/naive_bayes.py:633: UserWarning:\n",
      "\n",
      "alpha too small will result in numeric errors, setting alpha = 1.0e-10. Use `force_alpha=True` to keep alpha unchanged.\n",
      "\n",
      "/opt/homebrew/anaconda3/envs/info7390/lib/python3.8/site-packages/sklearn/naive_bayes.py:624: FutureWarning:\n",
      "\n",
      "The default value for `force_alpha` will change to `True` in 1.4. To suppress this warning, manually set the value of `force_alpha`.\n",
      "\n",
      "/opt/homebrew/anaconda3/envs/info7390/lib/python3.8/site-packages/sklearn/naive_bayes.py:633: UserWarning:\n",
      "\n",
      "alpha too small will result in numeric errors, setting alpha = 1.0e-10. Use `force_alpha=True` to keep alpha unchanged.\n",
      "\n",
      "/opt/homebrew/anaconda3/envs/info7390/lib/python3.8/site-packages/sklearn/naive_bayes.py:624: FutureWarning:\n",
      "\n",
      "The default value for `force_alpha` will change to `True` in 1.4. To suppress this warning, manually set the value of `force_alpha`.\n",
      "\n",
      "/opt/homebrew/anaconda3/envs/info7390/lib/python3.8/site-packages/sklearn/naive_bayes.py:633: UserWarning:\n",
      "\n",
      "alpha too small will result in numeric errors, setting alpha = 1.0e-10. Use `force_alpha=True` to keep alpha unchanged.\n",
      "\n",
      "/opt/homebrew/anaconda3/envs/info7390/lib/python3.8/site-packages/sklearn/naive_bayes.py:624: FutureWarning:\n",
      "\n",
      "The default value for `force_alpha` will change to `True` in 1.4. To suppress this warning, manually set the value of `force_alpha`.\n",
      "\n",
      "/opt/homebrew/anaconda3/envs/info7390/lib/python3.8/site-packages/sklearn/naive_bayes.py:633: UserWarning:\n",
      "\n",
      "alpha too small will result in numeric errors, setting alpha = 1.0e-10. Use `force_alpha=True` to keep alpha unchanged.\n",
      "\n",
      "/opt/homebrew/anaconda3/envs/info7390/lib/python3.8/site-packages/sklearn/naive_bayes.py:624: FutureWarning:\n",
      "\n",
      "The default value for `force_alpha` will change to `True` in 1.4. To suppress this warning, manually set the value of `force_alpha`.\n",
      "\n",
      "/opt/homebrew/anaconda3/envs/info7390/lib/python3.8/site-packages/sklearn/naive_bayes.py:633: UserWarning:\n",
      "\n",
      "alpha too small will result in numeric errors, setting alpha = 1.0e-10. Use `force_alpha=True` to keep alpha unchanged.\n",
      "\n",
      "/opt/homebrew/anaconda3/envs/info7390/lib/python3.8/site-packages/sklearn/naive_bayes.py:624: FutureWarning:\n",
      "\n",
      "The default value for `force_alpha` will change to `True` in 1.4. To suppress this warning, manually set the value of `force_alpha`.\n",
      "\n",
      "/opt/homebrew/anaconda3/envs/info7390/lib/python3.8/site-packages/sklearn/naive_bayes.py:633: UserWarning:\n",
      "\n",
      "alpha too small will result in numeric errors, setting alpha = 1.0e-10. Use `force_alpha=True` to keep alpha unchanged.\n",
      "\n",
      "/opt/homebrew/anaconda3/envs/info7390/lib/python3.8/site-packages/sklearn/naive_bayes.py:624: FutureWarning:\n",
      "\n",
      "The default value for `force_alpha` will change to `True` in 1.4. To suppress this warning, manually set the value of `force_alpha`.\n",
      "\n",
      "/opt/homebrew/anaconda3/envs/info7390/lib/python3.8/site-packages/sklearn/naive_bayes.py:633: UserWarning:\n",
      "\n",
      "alpha too small will result in numeric errors, setting alpha = 1.0e-10. Use `force_alpha=True` to keep alpha unchanged.\n",
      "\n",
      "/opt/homebrew/anaconda3/envs/info7390/lib/python3.8/site-packages/sklearn/naive_bayes.py:624: FutureWarning:\n",
      "\n",
      "The default value for `force_alpha` will change to `True` in 1.4. To suppress this warning, manually set the value of `force_alpha`.\n",
      "\n",
      "/opt/homebrew/anaconda3/envs/info7390/lib/python3.8/site-packages/sklearn/naive_bayes.py:633: UserWarning:\n",
      "\n",
      "alpha too small will result in numeric errors, setting alpha = 1.0e-10. Use `force_alpha=True` to keep alpha unchanged.\n",
      "\n",
      "/opt/homebrew/anaconda3/envs/info7390/lib/python3.8/site-packages/sklearn/naive_bayes.py:624: FutureWarning:\n",
      "\n",
      "The default value for `force_alpha` will change to `True` in 1.4. To suppress this warning, manually set the value of `force_alpha`.\n",
      "\n",
      "/opt/homebrew/anaconda3/envs/info7390/lib/python3.8/site-packages/sklearn/naive_bayes.py:633: UserWarning:\n",
      "\n",
      "alpha too small will result in numeric errors, setting alpha = 1.0e-10. Use `force_alpha=True` to keep alpha unchanged.\n",
      "\n",
      "/opt/homebrew/anaconda3/envs/info7390/lib/python3.8/site-packages/sklearn/naive_bayes.py:624: FutureWarning:\n",
      "\n",
      "The default value for `force_alpha` will change to `True` in 1.4. To suppress this warning, manually set the value of `force_alpha`.\n",
      "\n",
      "/opt/homebrew/anaconda3/envs/info7390/lib/python3.8/site-packages/sklearn/naive_bayes.py:633: UserWarning:\n",
      "\n",
      "alpha too small will result in numeric errors, setting alpha = 1.0e-10. Use `force_alpha=True` to keep alpha unchanged.\n",
      "\n"
     ]
    }
   ],
   "source": [
    "nb_classifiers2 = {}\n",
    "\n",
    "for label in balanced_data_columns:\n",
    "    print('Fitting the model on the {} label ...'.format(label))\n",
    "    nb_clf = MultinomialNB(alpha=0, fit_prior=False)\n",
    "    # train the model using X_dtm & y\n",
    "    nb_clf_model = nb_clf.fit(X_balanced_train, y_balanced_train_df[label])\n",
    "    prediction = nb_clf_model.predict(X_balanced_test)\n",
    "    # now printing the classification report for each model\n",
    "    print('The Classification Report for model trained on {} label'.format(label))\n",
    "    print(classification_report(y_balanced_test_df[label], prediction))\n",
    "    nb_classifiers2[label] = nb_clf_model"
   ]
  },
  {
   "cell_type": "markdown",
   "metadata": {},
   "source": [
    "From the f1-scores of the different labels, we can see that this model is indeed better than the first model. The f1-score values are closer to 0 than 1, which tells us that it is not able to correctly identify the classes many times. However, since it is not 0, we know that the model has learnt some knowledge about these tags."
   ]
  },
  {
   "cell_type": "code",
   "execution_count": 89,
   "metadata": {},
   "outputs": [
    {
     "name": "stdout",
     "output_type": "stream",
     "text": [
      "book [0]\n",
      "funny [0]\n",
      "love [0]\n",
      "inspiring [0]\n",
      "life [0]\n",
      "reading [0]\n",
      "writing [0]\n",
      "truth [0]\n",
      "wisdom [0]\n",
      "friendship [0]\n",
      "happiness [0]\n",
      "philosophy [0]\n",
      "poetry [0]\n",
      "woman [0]\n",
      "\n",
      "book [0]\n",
      "funny [0]\n",
      "love [0]\n",
      "inspiring [0]\n",
      "life [0]\n",
      "reading [0]\n",
      "writing [0]\n",
      "truth [0]\n",
      "wisdom [0]\n",
      "friendship [0]\n",
      "happiness [0]\n",
      "philosophy [0]\n",
      "poetry [0]\n",
      "woman [0]\n",
      "\n",
      "book [0]\n",
      "funny [0]\n",
      "love [0]\n",
      "inspiring [0]\n",
      "life [0]\n",
      "reading [0]\n",
      "writing [0]\n",
      "truth [0]\n",
      "wisdom [0]\n",
      "friendship [1]\n",
      "happiness [0]\n",
      "philosophy [0]\n",
      "poetry [0]\n",
      "woman [0]\n",
      "\n",
      "book [0]\n",
      "funny [1]\n",
      "love [0]\n",
      "inspiring [1]\n",
      "life [0]\n",
      "reading [1]\n",
      "writing [0]\n",
      "truth [0]\n",
      "wisdom [0]\n",
      "friendship [0]\n",
      "happiness [0]\n",
      "philosophy [0]\n",
      "poetry [0]\n",
      "woman [0]\n"
     ]
    }
   ],
   "source": [
    "predict_quote(quote=\"Nothing is impossible. The word itself says 'I'm possible!\", vectorizer=tfidf_vectorizer2, nb_classifiers_dict=nb_classifiers2)\n",
    "print()\n",
    "predict_quote(quote=\"A room without books is like a body without a soul.\", vectorizer=tfidf_vectorizer2, nb_classifiers_dict=nb_classifiers2)\n",
    "print()\n",
    "predict_quote(quote=\"From there to here, from here to there, funny things are everywhere!\", vectorizer=tfidf_vectorizer2, nb_classifiers_dict=nb_classifiers2)\n",
    "print()\n",
    "predict_quote(quote=\"Never take life too seriously. You'll never get out of it alive.\", vectorizer=tfidf_vectorizer2, nb_classifiers_dict=nb_classifiers2)\n"
   ]
  },
  {
   "cell_type": "markdown",
   "metadata": {},
   "source": [
    "# LSTM (Long-Term-Short-Term-Memory) Model"
   ]
  },
  {
   "cell_type": "markdown",
   "metadata": {},
   "source": [
    "I have decided to use the LSTM model to implement a more advanced and complex model. The architecture of the model consists of an input layer, an embedding layer, an LSTM layer, 2 dense layers, a dropout layer for regularization, and a dense output layer. In the output layer I have used the sigmoid activation function. This is because as we are working on a multi-label classification problem, this will treat all the labels independently allowing for the prediction of more than one label."
   ]
  },
  {
   "cell_type": "code",
   "execution_count": 90,
   "metadata": {},
   "outputs": [],
   "source": [
    "from keras.preprocessing.text import Tokenizer\n",
    "from keras.preprocessing.sequence import pad_sequences\n",
    "\n",
    "# Tokenize the text\n",
    "max_words = 6000\n",
    "max_len = 512\n",
    "\n",
    "tokenizer = Tokenizer(num_words=max_words)\n",
    "tokenizer.fit_on_texts(balanced_df['processed_quote'])\n",
    "sequences = tokenizer.texts_to_sequences(balanced_df['processed_quote'])\n",
    "X = pad_sequences(sequences, maxlen=max_len)\n",
    "\n",
    "# we have already performed the multi-label-binarizing\n",
    "y = multi_hot_encoding2\n",
    "\n",
    "# Splitting the data into training and testing sets\n",
    "X_train2, X_test2, y_train2, y_test2 = train_test_split(X, y, test_size=0.2, random_state=42)\n"
   ]
  },
  {
   "cell_type": "code",
   "execution_count": 91,
   "metadata": {},
   "outputs": [
    {
     "name": "stdout",
     "output_type": "stream",
     "text": [
      "Model: \"model\"\n",
      "_________________________________________________________________\n",
      " Layer (type)                Output Shape              Param #   \n",
      "=================================================================\n",
      " input_1 (InputLayer)        [(None, 512)]             0         \n",
      "                                                                 \n",
      " embedding (Embedding)       (None, 512, 256)          1536000   \n",
      "                                                                 \n",
      " lstm (LSTM)                 (None, 64)                82176     \n",
      "                                                                 \n",
      " dense (Dense)               (None, 32)                2080      \n",
      "                                                                 \n",
      " dense_1 (Dense)             (None, 32)                1056      \n",
      "                                                                 \n",
      " dropout (Dropout)           (None, 32)                0         \n",
      "                                                                 \n",
      " dense_2 (Dense)             (None, 14)                462       \n",
      "                                                                 \n",
      "=================================================================\n",
      "Total params: 1621774 (6.19 MB)\n",
      "Trainable params: 1621774 (6.19 MB)\n",
      "Non-trainable params: 0 (0.00 Byte)\n",
      "_________________________________________________________________\n"
     ]
    }
   ],
   "source": [
    "from keras.layers import Input, Embedding, LSTM, Dense, Dropout\n",
    "from keras.models import Model\n",
    "\n",
    "# Building an LSTM model\n",
    "input_layer = Input(shape=(max_len,))\n",
    "embedding_layer = Embedding(max_words, 256)(input_layer)\n",
    "lstm_layer = LSTM(64)(embedding_layer)\n",
    "dense_layer = Dense(32, activation='relu')(lstm_layer)\n",
    "dense_layer2 = Dense(32, activation='relu')(dense_layer)\n",
    "dropout = Dropout(0.5)(dense_layer2)\n",
    "# dropout = Dropout(0.5)(lstm_layer)\n",
    "output_layer = Dense(len(mlb2_balanced_data.classes_), activation='sigmoid')(dropout)\n",
    "\n",
    "model = Model(inputs=input_layer, outputs=output_layer)\n",
    "\n",
    "model.summary()"
   ]
  },
  {
   "cell_type": "code",
   "execution_count": 92,
   "metadata": {},
   "outputs": [],
   "source": [
    "from keras.callbacks import ModelCheckpoint\n",
    "# Creating a checkpoint to save the best model\n",
    "check_point_lstm = ModelCheckpoint('models/lstm_model/', save_best_only=True)"
   ]
  },
  {
   "cell_type": "code",
   "execution_count": 93,
   "metadata": {},
   "outputs": [],
   "source": [
    "# Compile the model\n",
    "model.compile(optimizer='adam', loss='binary_crossentropy', metrics=['accuracy'])"
   ]
  },
  {
   "cell_type": "code",
   "execution_count": 94,
   "metadata": {},
   "outputs": [
    {
     "name": "stdout",
     "output_type": "stream",
     "text": [
      "Epoch 1/100\n",
      "15/15 [==============================] - ETA: 0s - loss: 0.6343 - accuracy: 0.0640INFO:tensorflow:Assets written to: models/lstm_model/assets\n"
     ]
    },
    {
     "name": "stderr",
     "output_type": "stream",
     "text": [
      "INFO:tensorflow:Assets written to: models/lstm_model/assets\n"
     ]
    },
    {
     "name": "stdout",
     "output_type": "stream",
     "text": [
      "15/15 [==============================] - 7s 414ms/step - loss: 0.6343 - accuracy: 0.0640 - val_loss: 0.4671 - val_accuracy: 0.0588\n",
      "Epoch 2/100\n",
      "15/15 [==============================] - ETA: 0s - loss: 0.4877 - accuracy: 0.0706INFO:tensorflow:Assets written to: models/lstm_model/assets\n"
     ]
    },
    {
     "name": "stderr",
     "output_type": "stream",
     "text": [
      "INFO:tensorflow:Assets written to: models/lstm_model/assets\n"
     ]
    },
    {
     "name": "stdout",
     "output_type": "stream",
     "text": [
      "15/15 [==============================] - 6s 400ms/step - loss: 0.4877 - accuracy: 0.0706 - val_loss: 0.3748 - val_accuracy: 0.0980\n",
      "Epoch 3/100\n",
      "15/15 [==============================] - ETA: 0s - loss: 0.4167 - accuracy: 0.0795INFO:tensorflow:Assets written to: models/lstm_model/assets\n"
     ]
    },
    {
     "name": "stderr",
     "output_type": "stream",
     "text": [
      "INFO:tensorflow:Assets written to: models/lstm_model/assets\n"
     ]
    },
    {
     "name": "stdout",
     "output_type": "stream",
     "text": [
      "15/15 [==============================] - 6s 387ms/step - loss: 0.4167 - accuracy: 0.0795 - val_loss: 0.3185 - val_accuracy: 0.0784\n",
      "Epoch 4/100\n",
      "15/15 [==============================] - ETA: 0s - loss: 0.3916 - accuracy: 0.0596INFO:tensorflow:Assets written to: models/lstm_model/assets\n"
     ]
    },
    {
     "name": "stderr",
     "output_type": "stream",
     "text": [
      "INFO:tensorflow:Assets written to: models/lstm_model/assets\n"
     ]
    },
    {
     "name": "stdout",
     "output_type": "stream",
     "text": [
      "15/15 [==============================] - 5s 351ms/step - loss: 0.3916 - accuracy: 0.0596 - val_loss: 0.3083 - val_accuracy: 0.0588\n",
      "Epoch 5/100\n",
      "15/15 [==============================] - ETA: 0s - loss: 0.3610 - accuracy: 0.1038INFO:tensorflow:Assets written to: models/lstm_model/assets\n"
     ]
    },
    {
     "name": "stderr",
     "output_type": "stream",
     "text": [
      "INFO:tensorflow:Assets written to: models/lstm_model/assets\n"
     ]
    },
    {
     "name": "stdout",
     "output_type": "stream",
     "text": [
      "15/15 [==============================] - 6s 384ms/step - loss: 0.3610 - accuracy: 0.1038 - val_loss: 0.2950 - val_accuracy: 0.0784\n",
      "Epoch 6/100\n",
      "15/15 [==============================] - 4s 296ms/step - loss: 0.3596 - accuracy: 0.0751 - val_loss: 0.2960 - val_accuracy: 0.0784\n",
      "Epoch 7/100\n",
      "15/15 [==============================] - ETA: 0s - loss: 0.3497 - accuracy: 0.0751INFO:tensorflow:Assets written to: models/lstm_model/assets\n"
     ]
    },
    {
     "name": "stderr",
     "output_type": "stream",
     "text": [
      "INFO:tensorflow:Assets written to: models/lstm_model/assets\n"
     ]
    },
    {
     "name": "stdout",
     "output_type": "stream",
     "text": [
      "15/15 [==============================] - 6s 377ms/step - loss: 0.3497 - accuracy: 0.0751 - val_loss: 0.2917 - val_accuracy: 0.0784\n",
      "Epoch 8/100\n",
      "15/15 [==============================] - ETA: 0s - loss: 0.3341 - accuracy: 0.0949INFO:tensorflow:Assets written to: models/lstm_model/assets\n"
     ]
    },
    {
     "name": "stderr",
     "output_type": "stream",
     "text": [
      "INFO:tensorflow:Assets written to: models/lstm_model/assets\n"
     ]
    },
    {
     "name": "stdout",
     "output_type": "stream",
     "text": [
      "15/15 [==============================] - 6s 393ms/step - loss: 0.3341 - accuracy: 0.0949 - val_loss: 0.2901 - val_accuracy: 0.0784\n",
      "Epoch 9/100\n",
      "15/15 [==============================] - ETA: 0s - loss: 0.3216 - accuracy: 0.1148INFO:tensorflow:Assets written to: models/lstm_model/assets\n"
     ]
    },
    {
     "name": "stderr",
     "output_type": "stream",
     "text": [
      "INFO:tensorflow:Assets written to: models/lstm_model/assets\n"
     ]
    },
    {
     "name": "stdout",
     "output_type": "stream",
     "text": [
      "15/15 [==============================] - 6s 381ms/step - loss: 0.3216 - accuracy: 0.1148 - val_loss: 0.2853 - val_accuracy: 0.0784\n",
      "Epoch 10/100\n",
      "15/15 [==============================] - ETA: 0s - loss: 0.3166 - accuracy: 0.0861INFO:tensorflow:Assets written to: models/lstm_model/assets\n"
     ]
    },
    {
     "name": "stderr",
     "output_type": "stream",
     "text": [
      "INFO:tensorflow:Assets written to: models/lstm_model/assets\n"
     ]
    },
    {
     "name": "stdout",
     "output_type": "stream",
     "text": [
      "15/15 [==============================] - 6s 375ms/step - loss: 0.3166 - accuracy: 0.0861 - val_loss: 0.2838 - val_accuracy: 0.0784\n",
      "Epoch 11/100\n",
      "15/15 [==============================] - 4s 277ms/step - loss: 0.3033 - accuracy: 0.1678 - val_loss: 0.2847 - val_accuracy: 0.1176\n",
      "Epoch 12/100\n",
      "15/15 [==============================] - ETA: 0s - loss: 0.3009 - accuracy: 0.1722INFO:tensorflow:Assets written to: models/lstm_model/assets\n"
     ]
    },
    {
     "name": "stderr",
     "output_type": "stream",
     "text": [
      "INFO:tensorflow:Assets written to: models/lstm_model/assets\n"
     ]
    },
    {
     "name": "stdout",
     "output_type": "stream",
     "text": [
      "15/15 [==============================] - 5s 343ms/step - loss: 0.3009 - accuracy: 0.1722 - val_loss: 0.2816 - val_accuracy: 0.1373\n",
      "Epoch 13/100\n",
      "15/15 [==============================] - ETA: 0s - loss: 0.2784 - accuracy: 0.2031INFO:tensorflow:Assets written to: models/lstm_model/assets\n"
     ]
    },
    {
     "name": "stderr",
     "output_type": "stream",
     "text": [
      "INFO:tensorflow:Assets written to: models/lstm_model/assets\n"
     ]
    },
    {
     "name": "stdout",
     "output_type": "stream",
     "text": [
      "15/15 [==============================] - 5s 350ms/step - loss: 0.2784 - accuracy: 0.2031 - val_loss: 0.2801 - val_accuracy: 0.1176\n",
      "Epoch 14/100\n",
      "15/15 [==============================] - 4s 281ms/step - loss: 0.2644 - accuracy: 0.2561 - val_loss: 0.2802 - val_accuracy: 0.0784\n",
      "Epoch 15/100\n",
      "15/15 [==============================] - ETA: 0s - loss: 0.2557 - accuracy: 0.2759INFO:tensorflow:Assets written to: models/lstm_model/assets\n"
     ]
    },
    {
     "name": "stderr",
     "output_type": "stream",
     "text": [
      "INFO:tensorflow:Assets written to: models/lstm_model/assets\n"
     ]
    },
    {
     "name": "stdout",
     "output_type": "stream",
     "text": [
      "15/15 [==============================] - 5s 370ms/step - loss: 0.2557 - accuracy: 0.2759 - val_loss: 0.2755 - val_accuracy: 0.1176\n",
      "Epoch 16/100\n",
      "15/15 [==============================] - ETA: 0s - loss: 0.2404 - accuracy: 0.3377INFO:tensorflow:Assets written to: models/lstm_model/assets\n"
     ]
    },
    {
     "name": "stderr",
     "output_type": "stream",
     "text": [
      "INFO:tensorflow:Assets written to: models/lstm_model/assets\n"
     ]
    },
    {
     "name": "stdout",
     "output_type": "stream",
     "text": [
      "15/15 [==============================] - 5s 357ms/step - loss: 0.2404 - accuracy: 0.3377 - val_loss: 0.2746 - val_accuracy: 0.1373\n",
      "Epoch 17/100\n",
      "15/15 [==============================] - 4s 290ms/step - loss: 0.2345 - accuracy: 0.3466 - val_loss: 0.2869 - val_accuracy: 0.1569\n",
      "Epoch 18/100\n",
      "15/15 [==============================] - 4s 285ms/step - loss: 0.2140 - accuracy: 0.4106 - val_loss: 0.2757 - val_accuracy: 0.2157\n",
      "Epoch 19/100\n",
      "15/15 [==============================] - 4s 275ms/step - loss: 0.2054 - accuracy: 0.4040 - val_loss: 0.2851 - val_accuracy: 0.2353\n",
      "Epoch 20/100\n",
      "15/15 [==============================] - 5s 308ms/step - loss: 0.1967 - accuracy: 0.4062 - val_loss: 0.2883 - val_accuracy: 0.1961\n",
      "Epoch 21/100\n",
      "15/15 [==============================] - 5s 300ms/step - loss: 0.1890 - accuracy: 0.4592 - val_loss: 0.2986 - val_accuracy: 0.1961\n",
      "Epoch 22/100\n",
      "15/15 [==============================] - 4s 278ms/step - loss: 0.1891 - accuracy: 0.4857 - val_loss: 0.2916 - val_accuracy: 0.1961\n",
      "Epoch 23/100\n",
      "15/15 [==============================] - 4s 279ms/step - loss: 0.1758 - accuracy: 0.5143 - val_loss: 0.2989 - val_accuracy: 0.2745\n",
      "Epoch 24/100\n",
      "15/15 [==============================] - 5s 303ms/step - loss: 0.1679 - accuracy: 0.5695 - val_loss: 0.3147 - val_accuracy: 0.1961\n",
      "Epoch 25/100\n",
      "15/15 [==============================] - 4s 283ms/step - loss: 0.1610 - accuracy: 0.5695 - val_loss: 0.3087 - val_accuracy: 0.2353\n",
      "Epoch 26/100\n",
      "15/15 [==============================] - 4s 284ms/step - loss: 0.1576 - accuracy: 0.6049 - val_loss: 0.3246 - val_accuracy: 0.2353\n",
      "Epoch 27/100\n",
      "15/15 [==============================] - 4s 295ms/step - loss: 0.1539 - accuracy: 0.5916 - val_loss: 0.3266 - val_accuracy: 0.2745\n",
      "Epoch 28/100\n",
      "15/15 [==============================] - 5s 316ms/step - loss: 0.1441 - accuracy: 0.6358 - val_loss: 0.3340 - val_accuracy: 0.2549\n",
      "Epoch 29/100\n",
      "15/15 [==============================] - 5s 299ms/step - loss: 0.1420 - accuracy: 0.6600 - val_loss: 0.3346 - val_accuracy: 0.2353\n",
      "Epoch 30/100\n",
      "15/15 [==============================] - 5s 312ms/step - loss: 0.1462 - accuracy: 0.6623 - val_loss: 0.3383 - val_accuracy: 0.2549\n",
      "Epoch 31/100\n",
      "15/15 [==============================] - 4s 299ms/step - loss: 0.1336 - accuracy: 0.6954 - val_loss: 0.3644 - val_accuracy: 0.1961\n",
      "Epoch 32/100\n",
      "15/15 [==============================] - 4s 300ms/step - loss: 0.1347 - accuracy: 0.6733 - val_loss: 0.3473 - val_accuracy: 0.2353\n",
      "Epoch 33/100\n",
      "15/15 [==============================] - 4s 295ms/step - loss: 0.1288 - accuracy: 0.6843 - val_loss: 0.3704 - val_accuracy: 0.2353\n",
      "Epoch 34/100\n",
      "15/15 [==============================] - 5s 313ms/step - loss: 0.1242 - accuracy: 0.6865 - val_loss: 0.3730 - val_accuracy: 0.2157\n",
      "Epoch 35/100\n",
      "15/15 [==============================] - 4s 286ms/step - loss: 0.1147 - accuracy: 0.7461 - val_loss: 0.3759 - val_accuracy: 0.2157\n",
      "Epoch 36/100\n",
      "15/15 [==============================] - 5s 306ms/step - loss: 0.1128 - accuracy: 0.7329 - val_loss: 0.3830 - val_accuracy: 0.2353\n",
      "Epoch 37/100\n",
      "15/15 [==============================] - 5s 313ms/step - loss: 0.1047 - accuracy: 0.7638 - val_loss: 0.3982 - val_accuracy: 0.2745\n",
      "Epoch 38/100\n",
      "15/15 [==============================] - 5s 316ms/step - loss: 0.1068 - accuracy: 0.7748 - val_loss: 0.4108 - val_accuracy: 0.2745\n",
      "Epoch 39/100\n",
      "15/15 [==============================] - 5s 325ms/step - loss: 0.1001 - accuracy: 0.7616 - val_loss: 0.4319 - val_accuracy: 0.1569\n",
      "Epoch 40/100\n",
      "15/15 [==============================] - 5s 307ms/step - loss: 0.1009 - accuracy: 0.7991 - val_loss: 0.4293 - val_accuracy: 0.2353\n",
      "Epoch 41/100\n",
      "15/15 [==============================] - 4s 301ms/step - loss: 0.1014 - accuracy: 0.7947 - val_loss: 0.4380 - val_accuracy: 0.1961\n",
      "Epoch 42/100\n",
      "15/15 [==============================] - 5s 311ms/step - loss: 0.0930 - accuracy: 0.7815 - val_loss: 0.4675 - val_accuracy: 0.2549\n",
      "Epoch 43/100\n",
      "15/15 [==============================] - 5s 325ms/step - loss: 0.0989 - accuracy: 0.7903 - val_loss: 0.4370 - val_accuracy: 0.2157\n",
      "Epoch 44/100\n",
      "15/15 [==============================] - 5s 317ms/step - loss: 0.0923 - accuracy: 0.8190 - val_loss: 0.4893 - val_accuracy: 0.1176\n",
      "Epoch 45/100\n",
      "15/15 [==============================] - 4s 279ms/step - loss: 0.0850 - accuracy: 0.8079 - val_loss: 0.4786 - val_accuracy: 0.2549\n",
      "Epoch 46/100\n",
      "15/15 [==============================] - 4s 290ms/step - loss: 0.0885 - accuracy: 0.8433 - val_loss: 0.4715 - val_accuracy: 0.1961\n",
      "Epoch 47/100\n",
      "15/15 [==============================] - 5s 308ms/step - loss: 0.0886 - accuracy: 0.8079 - val_loss: 0.4714 - val_accuracy: 0.1961\n",
      "Epoch 48/100\n",
      "15/15 [==============================] - 5s 303ms/step - loss: 0.0821 - accuracy: 0.8212 - val_loss: 0.4981 - val_accuracy: 0.1961\n",
      "Epoch 49/100\n",
      "15/15 [==============================] - 5s 307ms/step - loss: 0.0883 - accuracy: 0.7881 - val_loss: 0.4754 - val_accuracy: 0.2157\n",
      "Epoch 50/100\n",
      "15/15 [==============================] - 4s 278ms/step - loss: 0.0806 - accuracy: 0.8035 - val_loss: 0.5303 - val_accuracy: 0.2157\n",
      "Epoch 51/100\n",
      "15/15 [==============================] - 4s 294ms/step - loss: 0.0792 - accuracy: 0.8057 - val_loss: 0.5252 - val_accuracy: 0.1765\n",
      "Epoch 52/100\n",
      "15/15 [==============================] - 4s 287ms/step - loss: 0.0810 - accuracy: 0.8212 - val_loss: 0.5082 - val_accuracy: 0.1765\n",
      "Epoch 53/100\n",
      "15/15 [==============================] - 4s 286ms/step - loss: 0.0760 - accuracy: 0.8455 - val_loss: 0.5105 - val_accuracy: 0.1961\n",
      "Epoch 54/100\n",
      "15/15 [==============================] - 4s 285ms/step - loss: 0.0728 - accuracy: 0.8499 - val_loss: 0.5319 - val_accuracy: 0.1961\n",
      "Epoch 55/100\n",
      "15/15 [==============================] - 4s 292ms/step - loss: 0.0764 - accuracy: 0.8322 - val_loss: 0.5468 - val_accuracy: 0.1373\n",
      "Epoch 56/100\n",
      "15/15 [==============================] - 4s 298ms/step - loss: 0.0712 - accuracy: 0.8300 - val_loss: 0.5370 - val_accuracy: 0.1765\n",
      "Epoch 57/100\n",
      "15/15 [==============================] - 4s 292ms/step - loss: 0.0710 - accuracy: 0.8344 - val_loss: 0.5185 - val_accuracy: 0.1961\n",
      "Epoch 58/100\n",
      "15/15 [==============================] - 4s 298ms/step - loss: 0.0710 - accuracy: 0.8300 - val_loss: 0.5629 - val_accuracy: 0.1961\n",
      "Epoch 59/100\n",
      "15/15 [==============================] - 5s 310ms/step - loss: 0.0717 - accuracy: 0.8521 - val_loss: 0.5639 - val_accuracy: 0.2157\n",
      "Epoch 60/100\n",
      "15/15 [==============================] - 5s 315ms/step - loss: 0.0663 - accuracy: 0.8455 - val_loss: 0.5740 - val_accuracy: 0.1961\n",
      "Epoch 61/100\n",
      "15/15 [==============================] - 5s 323ms/step - loss: 0.0685 - accuracy: 0.8146 - val_loss: 0.5915 - val_accuracy: 0.1961\n",
      "Epoch 62/100\n",
      "15/15 [==============================] - 5s 308ms/step - loss: 0.0636 - accuracy: 0.8631 - val_loss: 0.5864 - val_accuracy: 0.2549\n",
      "Epoch 63/100\n",
      "15/15 [==============================] - 5s 304ms/step - loss: 0.0691 - accuracy: 0.8256 - val_loss: 0.5837 - val_accuracy: 0.2549\n",
      "Epoch 64/100\n",
      "15/15 [==============================] - 5s 306ms/step - loss: 0.0639 - accuracy: 0.8212 - val_loss: 0.5702 - val_accuracy: 0.2157\n",
      "Epoch 65/100\n",
      "15/15 [==============================] - 5s 306ms/step - loss: 0.0698 - accuracy: 0.8366 - val_loss: 0.5872 - val_accuracy: 0.1961\n",
      "Epoch 66/100\n",
      "15/15 [==============================] - 5s 314ms/step - loss: 0.0613 - accuracy: 0.8433 - val_loss: 0.6145 - val_accuracy: 0.1961\n",
      "Epoch 67/100\n",
      "15/15 [==============================] - 5s 312ms/step - loss: 0.0621 - accuracy: 0.8455 - val_loss: 0.6074 - val_accuracy: 0.2157\n",
      "Epoch 68/100\n",
      "15/15 [==============================] - 5s 305ms/step - loss: 0.0600 - accuracy: 0.8609 - val_loss: 0.6280 - val_accuracy: 0.1961\n",
      "Epoch 69/100\n",
      "15/15 [==============================] - 5s 315ms/step - loss: 0.0623 - accuracy: 0.8389 - val_loss: 0.6096 - val_accuracy: 0.1961\n",
      "Epoch 70/100\n",
      "15/15 [==============================] - 5s 306ms/step - loss: 0.0603 - accuracy: 0.8675 - val_loss: 0.6315 - val_accuracy: 0.2157\n",
      "Epoch 71/100\n",
      "15/15 [==============================] - 5s 308ms/step - loss: 0.0591 - accuracy: 0.8609 - val_loss: 0.6587 - val_accuracy: 0.1765\n",
      "Epoch 72/100\n",
      "15/15 [==============================] - 5s 304ms/step - loss: 0.0639 - accuracy: 0.8565 - val_loss: 0.6098 - val_accuracy: 0.2549\n",
      "Epoch 73/100\n",
      "15/15 [==============================] - 5s 309ms/step - loss: 0.0586 - accuracy: 0.8521 - val_loss: 0.6522 - val_accuracy: 0.1961\n",
      "Epoch 74/100\n",
      "15/15 [==============================] - 5s 309ms/step - loss: 0.0515 - accuracy: 0.8720 - val_loss: 0.6734 - val_accuracy: 0.2157\n",
      "Epoch 75/100\n",
      "15/15 [==============================] - 5s 306ms/step - loss: 0.0592 - accuracy: 0.8389 - val_loss: 0.6293 - val_accuracy: 0.2353\n",
      "Epoch 76/100\n",
      "15/15 [==============================] - 5s 299ms/step - loss: 0.0566 - accuracy: 0.8455 - val_loss: 0.6840 - val_accuracy: 0.1765\n",
      "Epoch 77/100\n",
      "15/15 [==============================] - 4s 285ms/step - loss: 0.0576 - accuracy: 0.8698 - val_loss: 0.6325 - val_accuracy: 0.2353\n",
      "Epoch 78/100\n",
      "15/15 [==============================] - 5s 307ms/step - loss: 0.0614 - accuracy: 0.8521 - val_loss: 0.6458 - val_accuracy: 0.2157\n",
      "Epoch 79/100\n",
      "15/15 [==============================] - 5s 310ms/step - loss: 0.0607 - accuracy: 0.8521 - val_loss: 0.6649 - val_accuracy: 0.2157\n",
      "Epoch 80/100\n",
      "15/15 [==============================] - 5s 327ms/step - loss: 0.0581 - accuracy: 0.8609 - val_loss: 0.6539 - val_accuracy: 0.2157\n",
      "Epoch 81/100\n",
      "15/15 [==============================] - 5s 327ms/step - loss: 0.0539 - accuracy: 0.8477 - val_loss: 0.6607 - val_accuracy: 0.2353\n",
      "Epoch 82/100\n",
      "15/15 [==============================] - 4s 301ms/step - loss: 0.0525 - accuracy: 0.8830 - val_loss: 0.7221 - val_accuracy: 0.2353\n",
      "Epoch 83/100\n",
      "15/15 [==============================] - 5s 303ms/step - loss: 0.0581 - accuracy: 0.8764 - val_loss: 0.6626 - val_accuracy: 0.2353\n",
      "Epoch 84/100\n",
      "15/15 [==============================] - 5s 309ms/step - loss: 0.0530 - accuracy: 0.8631 - val_loss: 0.6895 - val_accuracy: 0.2549\n",
      "Epoch 85/100\n",
      "15/15 [==============================] - 5s 301ms/step - loss: 0.0584 - accuracy: 0.8631 - val_loss: 0.7218 - val_accuracy: 0.2353\n",
      "Epoch 86/100\n",
      "15/15 [==============================] - 4s 286ms/step - loss: 0.0479 - accuracy: 0.8587 - val_loss: 0.7353 - val_accuracy: 0.2549\n",
      "Epoch 87/100\n",
      "15/15 [==============================] - 5s 342ms/step - loss: 0.0471 - accuracy: 0.8653 - val_loss: 0.7238 - val_accuracy: 0.2549\n",
      "Epoch 88/100\n",
      "15/15 [==============================] - 5s 303ms/step - loss: 0.0524 - accuracy: 0.8675 - val_loss: 0.6741 - val_accuracy: 0.2353\n",
      "Epoch 89/100\n",
      "15/15 [==============================] - 4s 287ms/step - loss: 0.0561 - accuracy: 0.8521 - val_loss: 0.6723 - val_accuracy: 0.2549\n",
      "Epoch 90/100\n",
      "15/15 [==============================] - 4s 272ms/step - loss: 0.0545 - accuracy: 0.8411 - val_loss: 0.7074 - val_accuracy: 0.2549\n",
      "Epoch 91/100\n",
      "15/15 [==============================] - 4s 294ms/step - loss: 0.0554 - accuracy: 0.8609 - val_loss: 0.7504 - val_accuracy: 0.2549\n",
      "Epoch 92/100\n",
      "15/15 [==============================] - 4s 288ms/step - loss: 0.0535 - accuracy: 0.8764 - val_loss: 0.7656 - val_accuracy: 0.2157\n",
      "Epoch 93/100\n",
      "15/15 [==============================] - 5s 308ms/step - loss: 0.0450 - accuracy: 0.8764 - val_loss: 0.7299 - val_accuracy: 0.2353\n",
      "Epoch 94/100\n",
      "15/15 [==============================] - 5s 327ms/step - loss: 0.0440 - accuracy: 0.8764 - val_loss: 0.7335 - val_accuracy: 0.2549\n",
      "Epoch 95/100\n",
      "15/15 [==============================] - 5s 298ms/step - loss: 0.0509 - accuracy: 0.8742 - val_loss: 0.7771 - val_accuracy: 0.2157\n",
      "Epoch 96/100\n",
      "15/15 [==============================] - 5s 298ms/step - loss: 0.0468 - accuracy: 0.8720 - val_loss: 0.7492 - val_accuracy: 0.2549\n",
      "Epoch 97/100\n",
      "15/15 [==============================] - 4s 289ms/step - loss: 0.0454 - accuracy: 0.8720 - val_loss: 0.7664 - val_accuracy: 0.2353\n",
      "Epoch 98/100\n",
      "15/15 [==============================] - 4s 281ms/step - loss: 0.0470 - accuracy: 0.8764 - val_loss: 0.8232 - val_accuracy: 0.2353\n",
      "Epoch 99/100\n",
      "15/15 [==============================] - 4s 276ms/step - loss: 0.0463 - accuracy: 0.8631 - val_loss: 0.8242 - val_accuracy: 0.2353\n",
      "Epoch 100/100\n",
      "15/15 [==============================] - 5s 304ms/step - loss: 0.0446 - accuracy: 0.8786 - val_loss: 0.7796 - val_accuracy: 0.2549\n"
     ]
    },
    {
     "data": {
      "text/plain": [
       "<keras.src.callbacks.History at 0x29e0e0940>"
      ]
     },
     "execution_count": 94,
     "metadata": {},
     "output_type": "execute_result"
    }
   ],
   "source": [
    "# Train the model\n",
    "model.fit(X_train2, y_train2, epochs=100, batch_size=32, validation_split=0.1, callbacks=[check_point_lstm])"
   ]
  },
  {
   "cell_type": "code",
   "execution_count": 95,
   "metadata": {},
   "outputs": [],
   "source": [
    "# Loading the best model\n",
    "from tensorflow.keras.models import load_model\n",
    "lstm_best_model = load_model('models/lstm_model/')"
   ]
  },
  {
   "cell_type": "code",
   "execution_count": 102,
   "metadata": {},
   "outputs": [
    {
     "name": "stdout",
     "output_type": "stream",
     "text": [
      "4/4 [==============================] - 0s 95ms/step\n",
      "[('funny', 'inspiring'), ('funny', 'inspiring'), ('wisdom', 'writing'), ('book', 'funny', 'inspiring', 'reading'), ('book', 'funny', 'life'), ('funny', 'inspiring'), (), ('book', 'funny', 'inspiring'), ('book', 'love', 'poetry', 'reading', 'woman'), ('book', 'reading', 'wisdom'), ('funny',), (), ('book', 'reading'), ('love',), ('book', 'reading'), ('friendship', 'happiness', 'love'), ('love',), ('love', 'poetry', 'woman'), ('love',), ('funny', 'inspiring', 'life', 'writing'), ('wisdom',), ('funny', 'inspiring', 'love'), ('love',), ('funny', 'inspiring'), ('book',), ('happiness', 'wisdom'), ('love',), ('book', 'love'), ('book', 'reading'), ('love',), ('friendship', 'love'), ('poetry',), (), (), (), ('book', 'reading'), ('book', 'inspiring', 'reading'), ('book', 'reading'), (), ('love',), ('book', 'funny', 'inspiring', 'life', 'reading'), ('friendship', 'happiness', 'love', 'wisdom'), (), ('love',), ('love',), ('love',), ('friendship', 'happiness', 'love', 'poetry'), ('friendship', 'happiness', 'love'), ('book', 'inspiring', 'reading'), ('wisdom', 'writing'), ('love',), ('love',), ('book', 'inspiring', 'reading'), ('funny',), ('love',), ('book', 'reading'), ('love',), ('wisdom',), ('love',), ('love',), ('funny',), ('friendship', 'happiness', 'love', 'poetry'), ('book', 'friendship', 'happiness', 'love', 'reading', 'truth'), ('book', 'reading'), ('love',), ('wisdom',), ('book', 'reading'), ('book', 'wisdom'), ('wisdom', 'writing'), ('funny',), ('book', 'reading'), ('wisdom', 'writing'), ('love', 'poetry'), ('love',), (), (), ('life', 'love', 'poetry', 'woman'), ('funny', 'love'), ('love', 'poetry', 'woman'), ('funny', 'wisdom', 'writing'), ('love',), ('wisdom',), (), ('life',), ('love',), ('funny', 'inspiring'), ('love',), ('love',), ('life', 'love', 'poetry', 'woman'), ('love',), ('love',), ('love',), ('love',), ('book', 'inspiring'), ('book', 'funny', 'inspiring'), ('book', 'funny', 'inspiring'), ('wisdom', 'writing'), ('friendship', 'love', 'poetry'), ('love',), ('funny', 'inspiring', 'wisdom', 'writing'), ('funny',), ('book', 'inspiring', 'reading'), ('book', 'inspiring', 'reading'), ('love',), ('funny', 'love'), ('funny', 'inspiring'), ('book', 'reading'), ('book',), ('book', 'reading'), ('funny', 'love', 'philosophy'), ('happiness', 'reading'), ('love',), ('funny', 'inspiring', 'philosophy'), ('love',), ('book', 'reading'), ('love',), ('book', 'funny', 'inspiring', 'reading'), ('funny', 'inspiring', 'wisdom', 'writing'), ('book',), ('book', 'reading'), (), ('love',), ('funny', 'inspiring'), ('funny', 'inspiring'), ('friendship', 'happiness', 'wisdom'), ('friendship', 'love', 'poetry', 'woman'), ('book', 'reading')]\n"
     ]
    }
   ],
   "source": [
    "# Evaluate the model\n",
    "y_pred = lstm_best_model.predict(X_test2)\n",
    "y_pred_binary = (y_pred > 0.12).astype(int)\n",
    "\n",
    "# Inverse transform predictions to original labels\n",
    "y_test_inv = mlb2_balanced_data.inverse_transform(y_test2)\n",
    "y_pred_inv = mlb2_balanced_data.inverse_transform(y_pred_binary)\n",
    "\n",
    "print(y_pred_inv)\n",
    "\n",
    "# Print classification report\n",
    "# print(classification_report(y_test_inv, y_pred_inv))"
   ]
  },
  {
   "cell_type": "code",
   "execution_count": 97,
   "metadata": {},
   "outputs": [
    {
     "name": "stdout",
     "output_type": "stream",
     "text": [
      "              precision    recall  f1-score   support\n",
      "\n",
      "           0       0.34      0.60      0.44        20\n",
      "           1       0.20      0.29      0.24         7\n",
      "           2       0.10      0.20      0.14        15\n",
      "           3       0.22      0.50      0.31         4\n",
      "           4       0.08      0.22      0.12         9\n",
      "           5       0.00      0.00      0.00        10\n",
      "           6       0.19      0.67      0.30        15\n",
      "           7       0.00      0.00      0.00         5\n",
      "           8       0.18      0.22      0.20         9\n",
      "           9       0.35      0.64      0.45        14\n",
      "          10       1.00      0.09      0.17        11\n",
      "          11       0.18      0.33      0.23         9\n",
      "          12       0.17      0.14      0.15         7\n",
      "          13       0.33      0.21      0.26        14\n",
      "\n",
      "   micro avg       0.21      0.34      0.26       149\n",
      "   macro avg       0.24      0.29      0.21       149\n",
      "weighted avg       0.26      0.34      0.24       149\n",
      " samples avg       0.21      0.31      0.23       149\n",
      "\n"
     ]
    },
    {
     "name": "stderr",
     "output_type": "stream",
     "text": [
      "/opt/homebrew/anaconda3/envs/info7390/lib/python3.8/site-packages/sklearn/metrics/_classification.py:1471: UndefinedMetricWarning:\n",
      "\n",
      "Precision and F-score are ill-defined and being set to 0.0 in samples with no predicted labels. Use `zero_division` parameter to control this behavior.\n",
      "\n"
     ]
    }
   ],
   "source": [
    "# Print classification report\n",
    "print(classification_report(y_test2, y_pred_binary))"
   ]
  },
  {
   "cell_type": "code",
   "execution_count": 100,
   "metadata": {},
   "outputs": [
    {
     "name": "stdout",
     "output_type": "stream",
     "text": [
      "['book' 'friendship' 'funny' 'happiness' 'inspiring' 'life' 'love'\n",
      " 'philosophy' 'poetry' 'reading' 'truth' 'wisdom' 'woman' 'writing']\n"
     ]
    }
   ],
   "source": [
    "print(mlb2_balanced_data.classes_)"
   ]
  },
  {
   "cell_type": "code",
   "execution_count": 129,
   "metadata": {},
   "outputs": [
    {
     "name": "stdout",
     "output_type": "stream",
     "text": [
      "1/1 [==============================] - 0s 15ms/step\n",
      "[('love',)]\n"
     ]
    }
   ],
   "source": [
    "pre_processed_str = preprocess_single_quote_text(quote_string=\"A room without books is like a body without a soul.\")\n",
    "\n",
    "tokenizer = Tokenizer(num_words=max_words)\n",
    "tokenizer.fit_on_texts(balanced_df['processed_quote'])\n",
    "sequences = tokenizer.texts_to_sequences([pre_processed_str])\n",
    "X = pad_sequences(sequences, maxlen=max_len)\n",
    "\n",
    "y_pred = lstm_best_model.predict(X)\n",
    "y_pred_binary = (y_pred > 0.12).astype(int)\n",
    "print(mlb2_balanced_data.inverse_transform(y_pred_binary))"
   ]
  },
  {
   "cell_type": "markdown",
   "metadata": {},
   "source": [
    "This should have been categorized as ‘book’, however the deep learning classifier thinks it belongs to the category ‘love’."
   ]
  },
  {
   "cell_type": "markdown",
   "metadata": {},
   "source": [
    "We can see that the LSTM model may be slightly better than the Naïve Bayes model #2 for certain tags, however still this model does not perform very well. The reason behind this could be because of two reasons:\n",
    "1.\tWe have very less data which the model has been trained on. As shown above, we only had 450+ rows of data for training and about 150 data points for testing.\n",
    "2.\tThe data does not generalize on the labels well. During the labeling of the data, some quotes could be mistakenly tagged to certain tags which could make the models unable to generalize."
   ]
  },
  {
   "cell_type": "markdown",
   "metadata": {},
   "source": [
    "# Conclusion\n",
    "In this project I understood how to tackle natural language processing problems along with solving multi-label classification tasks. I learnt about and used language concepts such as lemmatization and stemming for combining words which mean the same thing. Furthermore, I coupled with techniques such as tokenization and removal of stop words, to clean the text to a standard format. \n",
    "While performing exploratory data analysis I understood about the importance of handling imbalanced class distributions in the target column. This had a direct impact on the first Naïve Bayes machine learning model. Upon fixing the imbalanced target labels, the second Naïve Bayes classifier performed much better (even though it was not very good).\n",
    "As machines have a harder time understanding text compared to numbers, I learnt about using vectorization using the TF-IDF (term frequency – inverse term frequency) approach.\n",
    "Finally, I used a deep learning approach using LSTMs and evaluated all the models using the precision, recall, and f1-score.\n"
   ]
  }
 ],
 "metadata": {
  "kernelspec": {
   "display_name": "Python 3 (ipykernel)",
   "language": "python",
   "name": "python3"
  },
  "language_info": {
   "codemirror_mode": {
    "name": "ipython",
    "version": 3
   },
   "file_extension": ".py",
   "mimetype": "text/x-python",
   "name": "python",
   "nbconvert_exporter": "python",
   "pygments_lexer": "ipython3",
   "version": "3.8.17"
  }
 },
 "nbformat": 4,
 "nbformat_minor": 4
}
