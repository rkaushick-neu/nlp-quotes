{
 "cells": [
  {
   "cell_type": "markdown",
   "metadata": {},
   "source": [
    "# Natural Language Processing Project"
   ]
  },
  {
   "cell_type": "markdown",
   "metadata": {},
   "source": [
    "# Multi-Label Categorical Classification of English Quotes"
   ]
  },
  {
   "cell_type": "markdown",
   "metadata": {},
   "source": [
    "<b>Rish (Rishabh) Kaushick</b> <br>\n",
    "College of Engineering <br>\n",
    "Northeastern University <br>\n",
    "Toronto, ON <br>\n",
    "kaushick.r@northeastern.edu"
   ]
  },
  {
   "cell_type": "markdown",
   "metadata": {},
   "source": [
    "# Downloading The Dataset From Hugging Face"
   ]
  },
  {
   "cell_type": "code",
   "execution_count": 1,
   "metadata": {},
   "outputs": [],
   "source": [
    "from huggingface_hub import hf_hub_download\n",
    "import pandas as pd\n",
    "\n",
    "REPO_ID = \"Abirate/english_quotes\"\n",
    "FILENAME = \"quotes.jsonl\"\n",
    "\n",
    "# since the data is in jsonl format, we read it using read_json() function with lines=True\n",
    "dataset = pd.read_json(hf_hub_download(repo_id=REPO_ID, filename=FILENAME, repo_type=\"dataset\"), lines=True)\n"
   ]
  },
  {
   "cell_type": "code",
   "execution_count": 2,
   "metadata": {},
   "outputs": [
    {
     "data": {
      "text/html": [
       "<div>\n",
       "<style scoped>\n",
       "    .dataframe tbody tr th:only-of-type {\n",
       "        vertical-align: middle;\n",
       "    }\n",
       "\n",
       "    .dataframe tbody tr th {\n",
       "        vertical-align: top;\n",
       "    }\n",
       "\n",
       "    .dataframe thead th {\n",
       "        text-align: right;\n",
       "    }\n",
       "</style>\n",
       "<table border=\"1\" class=\"dataframe\">\n",
       "  <thead>\n",
       "    <tr style=\"text-align: right;\">\n",
       "      <th></th>\n",
       "      <th>quote</th>\n",
       "      <th>author</th>\n",
       "      <th>tags</th>\n",
       "    </tr>\n",
       "  </thead>\n",
       "  <tbody>\n",
       "    <tr>\n",
       "      <th>0</th>\n",
       "      <td>“Be yourself; everyone else is already taken.”</td>\n",
       "      <td>Oscar Wilde</td>\n",
       "      <td>[be-yourself, gilbert-perreira, honesty, inspi...</td>\n",
       "    </tr>\n",
       "    <tr>\n",
       "      <th>1</th>\n",
       "      <td>“I'm selfish, impatient and a little insecure....</td>\n",
       "      <td>Marilyn Monroe</td>\n",
       "      <td>[best, life, love, mistakes, out-of-control, t...</td>\n",
       "    </tr>\n",
       "    <tr>\n",
       "      <th>2</th>\n",
       "      <td>“Two things are infinite: the universe and hum...</td>\n",
       "      <td>Albert Einstein</td>\n",
       "      <td>[human-nature, humor, infinity, philosophy, sc...</td>\n",
       "    </tr>\n",
       "    <tr>\n",
       "      <th>3</th>\n",
       "      <td>“So many books, so little time.”</td>\n",
       "      <td>Frank Zappa</td>\n",
       "      <td>[books, humor]</td>\n",
       "    </tr>\n",
       "    <tr>\n",
       "      <th>4</th>\n",
       "      <td>“A room without books is like a body without a...</td>\n",
       "      <td>Marcus Tullius Cicero</td>\n",
       "      <td>[books, simile, soul]</td>\n",
       "    </tr>\n",
       "    <tr>\n",
       "      <th>...</th>\n",
       "      <td>...</td>\n",
       "      <td>...</td>\n",
       "      <td>...</td>\n",
       "    </tr>\n",
       "    <tr>\n",
       "      <th>2503</th>\n",
       "      <td>“Morality is simply the attitude we adopt towa...</td>\n",
       "      <td>Oscar Wilde,</td>\n",
       "      <td>[morality, philosophy]</td>\n",
       "    </tr>\n",
       "    <tr>\n",
       "      <th>2504</th>\n",
       "      <td>“Don't aim at success. The more you aim at it ...</td>\n",
       "      <td>Viktor E. Frankl,</td>\n",
       "      <td>[happiness, success]</td>\n",
       "    </tr>\n",
       "    <tr>\n",
       "      <th>2505</th>\n",
       "      <td>“In life, finding a voice is speaking and livi...</td>\n",
       "      <td>John Grisham</td>\n",
       "      <td>[inspirational-life]</td>\n",
       "    </tr>\n",
       "    <tr>\n",
       "      <th>2506</th>\n",
       "      <td>“Winter is the time for comfort, for good food...</td>\n",
       "      <td>Edith Sitwell</td>\n",
       "      <td>[comfort, home, winter]</td>\n",
       "    </tr>\n",
       "    <tr>\n",
       "      <th>2507</th>\n",
       "      <td>“Silence is so freaking loud”</td>\n",
       "      <td>Sarah Dessen,</td>\n",
       "      <td>[just-listen, loud, owen, sara-dessen, silence]</td>\n",
       "    </tr>\n",
       "  </tbody>\n",
       "</table>\n",
       "<p>2508 rows × 3 columns</p>\n",
       "</div>"
      ],
      "text/plain": [
       "                                                  quote  \\\n",
       "0        “Be yourself; everyone else is already taken.”   \n",
       "1     “I'm selfish, impatient and a little insecure....   \n",
       "2     “Two things are infinite: the universe and hum...   \n",
       "3                      “So many books, so little time.”   \n",
       "4     “A room without books is like a body without a...   \n",
       "...                                                 ...   \n",
       "2503  “Morality is simply the attitude we adopt towa...   \n",
       "2504  “Don't aim at success. The more you aim at it ...   \n",
       "2505  “In life, finding a voice is speaking and livi...   \n",
       "2506  “Winter is the time for comfort, for good food...   \n",
       "2507                      “Silence is so freaking loud”   \n",
       "\n",
       "                     author                                               tags  \n",
       "0               Oscar Wilde  [be-yourself, gilbert-perreira, honesty, inspi...  \n",
       "1            Marilyn Monroe  [best, life, love, mistakes, out-of-control, t...  \n",
       "2           Albert Einstein  [human-nature, humor, infinity, philosophy, sc...  \n",
       "3               Frank Zappa                                     [books, humor]  \n",
       "4     Marcus Tullius Cicero                              [books, simile, soul]  \n",
       "...                     ...                                                ...  \n",
       "2503           Oscar Wilde,                             [morality, philosophy]  \n",
       "2504      Viktor E. Frankl,                               [happiness, success]  \n",
       "2505           John Grisham                               [inspirational-life]  \n",
       "2506          Edith Sitwell                            [comfort, home, winter]  \n",
       "2507          Sarah Dessen,    [just-listen, loud, owen, sara-dessen, silence]  \n",
       "\n",
       "[2508 rows x 3 columns]"
      ]
     },
     "execution_count": 2,
     "metadata": {},
     "output_type": "execute_result"
    }
   ],
   "source": [
    "dataset"
   ]
  },
  {
   "cell_type": "markdown",
   "metadata": {},
   "source": [
    "# Exploratory Data Analysis"
   ]
  },
  {
   "cell_type": "code",
   "execution_count": 3,
   "metadata": {},
   "outputs": [
    {
     "data": {
      "text/html": [
       "<div>\n",
       "<style scoped>\n",
       "    .dataframe tbody tr th:only-of-type {\n",
       "        vertical-align: middle;\n",
       "    }\n",
       "\n",
       "    .dataframe tbody tr th {\n",
       "        vertical-align: top;\n",
       "    }\n",
       "\n",
       "    .dataframe thead th {\n",
       "        text-align: right;\n",
       "    }\n",
       "</style>\n",
       "<table border=\"1\" class=\"dataframe\">\n",
       "  <thead>\n",
       "    <tr style=\"text-align: right;\">\n",
       "      <th></th>\n",
       "      <th>quote</th>\n",
       "      <th>author</th>\n",
       "      <th>tags</th>\n",
       "    </tr>\n",
       "  </thead>\n",
       "  <tbody>\n",
       "    <tr>\n",
       "      <th>0</th>\n",
       "      <td>“Be yourself; everyone else is already taken.”</td>\n",
       "      <td>Oscar Wilde</td>\n",
       "      <td>[be-yourself, gilbert-perreira, honesty, inspi...</td>\n",
       "    </tr>\n",
       "    <tr>\n",
       "      <th>1</th>\n",
       "      <td>“I'm selfish, impatient and a little insecure....</td>\n",
       "      <td>Marilyn Monroe</td>\n",
       "      <td>[best, life, love, mistakes, out-of-control, t...</td>\n",
       "    </tr>\n",
       "    <tr>\n",
       "      <th>2</th>\n",
       "      <td>“Two things are infinite: the universe and hum...</td>\n",
       "      <td>Albert Einstein</td>\n",
       "      <td>[human-nature, humor, infinity, philosophy, sc...</td>\n",
       "    </tr>\n",
       "    <tr>\n",
       "      <th>3</th>\n",
       "      <td>“So many books, so little time.”</td>\n",
       "      <td>Frank Zappa</td>\n",
       "      <td>[books, humor]</td>\n",
       "    </tr>\n",
       "    <tr>\n",
       "      <th>4</th>\n",
       "      <td>“A room without books is like a body without a...</td>\n",
       "      <td>Marcus Tullius Cicero</td>\n",
       "      <td>[books, simile, soul]</td>\n",
       "    </tr>\n",
       "    <tr>\n",
       "      <th>5</th>\n",
       "      <td>“Be who you are and say what you feel, because...</td>\n",
       "      <td>Bernard M. Baruch</td>\n",
       "      <td>[ataraxy, be-yourself, confidence, fitting-in,...</td>\n",
       "    </tr>\n",
       "    <tr>\n",
       "      <th>6</th>\n",
       "      <td>“You've gotta dance like there's nobody watchi...</td>\n",
       "      <td>William W. Purkey</td>\n",
       "      <td>[dance, heaven, hurt, inspirational, life, lov...</td>\n",
       "    </tr>\n",
       "    <tr>\n",
       "      <th>7</th>\n",
       "      <td>“You know you're in love when you can't fall a...</td>\n",
       "      <td>Dr. Seuss</td>\n",
       "      <td>[dreams, love, reality, sleep]</td>\n",
       "    </tr>\n",
       "    <tr>\n",
       "      <th>8</th>\n",
       "      <td>“You only live once, but if you do it right, o...</td>\n",
       "      <td>Mae West</td>\n",
       "      <td>[humor, life]</td>\n",
       "    </tr>\n",
       "    <tr>\n",
       "      <th>9</th>\n",
       "      <td>“Be the change that you wish to see in the wor...</td>\n",
       "      <td>Mahatma Gandhi</td>\n",
       "      <td>[action, change, inspirational, philosophy, wish]</td>\n",
       "    </tr>\n",
       "  </tbody>\n",
       "</table>\n",
       "</div>"
      ],
      "text/plain": [
       "                                               quote                 author  \\\n",
       "0     “Be yourself; everyone else is already taken.”            Oscar Wilde   \n",
       "1  “I'm selfish, impatient and a little insecure....         Marilyn Monroe   \n",
       "2  “Two things are infinite: the universe and hum...        Albert Einstein   \n",
       "3                   “So many books, so little time.”            Frank Zappa   \n",
       "4  “A room without books is like a body without a...  Marcus Tullius Cicero   \n",
       "5  “Be who you are and say what you feel, because...      Bernard M. Baruch   \n",
       "6  “You've gotta dance like there's nobody watchi...      William W. Purkey   \n",
       "7  “You know you're in love when you can't fall a...              Dr. Seuss   \n",
       "8  “You only live once, but if you do it right, o...               Mae West   \n",
       "9  “Be the change that you wish to see in the wor...         Mahatma Gandhi   \n",
       "\n",
       "                                                tags  \n",
       "0  [be-yourself, gilbert-perreira, honesty, inspi...  \n",
       "1  [best, life, love, mistakes, out-of-control, t...  \n",
       "2  [human-nature, humor, infinity, philosophy, sc...  \n",
       "3                                     [books, humor]  \n",
       "4                              [books, simile, soul]  \n",
       "5  [ataraxy, be-yourself, confidence, fitting-in,...  \n",
       "6  [dance, heaven, hurt, inspirational, life, lov...  \n",
       "7                     [dreams, love, reality, sleep]  \n",
       "8                                      [humor, life]  \n",
       "9  [action, change, inspirational, philosophy, wish]  "
      ]
     },
     "execution_count": 3,
     "metadata": {},
     "output_type": "execute_result"
    }
   ],
   "source": [
    "dataset.head(10)"
   ]
  },
  {
   "cell_type": "code",
   "execution_count": 4,
   "metadata": {},
   "outputs": [
    {
     "data": {
      "text/html": [
       "<div>\n",
       "<style scoped>\n",
       "    .dataframe tbody tr th:only-of-type {\n",
       "        vertical-align: middle;\n",
       "    }\n",
       "\n",
       "    .dataframe tbody tr th {\n",
       "        vertical-align: top;\n",
       "    }\n",
       "\n",
       "    .dataframe thead th {\n",
       "        text-align: right;\n",
       "    }\n",
       "</style>\n",
       "<table border=\"1\" class=\"dataframe\">\n",
       "  <thead>\n",
       "    <tr style=\"text-align: right;\">\n",
       "      <th></th>\n",
       "      <th>quote</th>\n",
       "      <th>author</th>\n",
       "      <th>tags</th>\n",
       "    </tr>\n",
       "  </thead>\n",
       "  <tbody>\n",
       "    <tr>\n",
       "      <th>2062</th>\n",
       "      <td>“Why are you worrying about YOU-KNOW-WHO, when...</td>\n",
       "      <td>J.K. Rowling,</td>\n",
       "      <td>[humor]</td>\n",
       "    </tr>\n",
       "    <tr>\n",
       "      <th>1078</th>\n",
       "      <td>“I am not sure that I exist, actually. I am al...</td>\n",
       "      <td>Jorge Luis Borges</td>\n",
       "      <td>[life]</td>\n",
       "    </tr>\n",
       "    <tr>\n",
       "      <th>1176</th>\n",
       "      <td>“If you're lonely when you're alone, you're in...</td>\n",
       "      <td>Jean-Paul Sartre</td>\n",
       "      <td>[loneliness, solitude]</td>\n",
       "    </tr>\n",
       "    <tr>\n",
       "      <th>414</th>\n",
       "      <td>“You educate a man; you educate a man. You edu...</td>\n",
       "      <td>Brigham Young</td>\n",
       "      <td>[education, feminism, men, women]</td>\n",
       "    </tr>\n",
       "    <tr>\n",
       "      <th>508</th>\n",
       "      <td>“There is neither happiness nor misery in the ...</td>\n",
       "      <td>Alexandre Dumas</td>\n",
       "      <td>[hope, inspirational, wisdom]</td>\n",
       "    </tr>\n",
       "  </tbody>\n",
       "</table>\n",
       "</div>"
      ],
      "text/plain": [
       "                                                  quote             author  \\\n",
       "2062  “Why are you worrying about YOU-KNOW-WHO, when...      J.K. Rowling,   \n",
       "1078  “I am not sure that I exist, actually. I am al...  Jorge Luis Borges   \n",
       "1176  “If you're lonely when you're alone, you're in...   Jean-Paul Sartre   \n",
       "414   “You educate a man; you educate a man. You edu...      Brigham Young   \n",
       "508   “There is neither happiness nor misery in the ...    Alexandre Dumas   \n",
       "\n",
       "                                   tags  \n",
       "2062                            [humor]  \n",
       "1078                             [life]  \n",
       "1176             [loneliness, solitude]  \n",
       "414   [education, feminism, men, women]  \n",
       "508       [hope, inspirational, wisdom]  "
      ]
     },
     "execution_count": 4,
     "metadata": {},
     "output_type": "execute_result"
    }
   ],
   "source": [
    "# setting random_state in the random sample, so that each time the same value is presented\n",
    "dataset.sample(5, random_state=23)"
   ]
  },
  {
   "cell_type": "code",
   "execution_count": 7,
   "metadata": {},
   "outputs": [
    {
     "data": {
      "text/plain": [
       "880"
      ]
     },
     "execution_count": 7,
     "metadata": {},
     "output_type": "execute_result"
    }
   ],
   "source": [
    "# Looking for how many unique values are present in the author column\n",
    "len(dataset['author'].unique())"
   ]
  },
  {
   "cell_type": "code",
   "execution_count": 8,
   "metadata": {},
   "outputs": [
    {
     "data": {
      "text/plain": [
       "tags\n",
       "[love]                                                                                                                                                                                                                          75\n",
       "[inspirational]                                                                                                                                                                                                                 63\n",
       "[humor]                                                                                                                                                                                                                         37\n",
       "[life]                                                                                                                                                                                                                          34\n",
       "[writing]                                                                                                                                                                                                                       25\n",
       "                                                                                                                                                                                                                                ..\n",
       "[depression, pain, trauma]                                                                                                                                                                                                       1\n",
       "[identity, self-image, sense-of-self, stories, storytelling]                                                                                                                                                                     1\n",
       "[clichÃ©s, double-standards, empowerment, equality, feminism, flattery, gender, hypocrisy, independence, men, misogyny, rationality, reason, self-determination, social-norms, stereotypes, strength, women, women-s-rights]     1\n",
       "[humor, idleness, inspirational]                                                                                                                                                                                                 1\n",
       "[just-listen, loud, owen, sara-dessen, silence]                                                                                                                                                                                  1\n",
       "Name: count, Length: 1962, dtype: int64"
      ]
     },
     "execution_count": 8,
     "metadata": {},
     "output_type": "execute_result"
    }
   ],
   "source": [
    "dataset['tags'].value_counts()"
   ]
  },
  {
   "cell_type": "markdown",
   "metadata": {},
   "source": [
    "The above does not help us much because one row could have multiple categories in the list. <br>\n",
    "Therefore, in order to see how many unique tags are there, we might need to iterate through the entire pandas dataframe, and store them in a Python set."
   ]
  },
  {
   "cell_type": "code",
   "execution_count": 11,
   "metadata": {},
   "outputs": [
    {
     "name": "stdout",
     "output_type": "stream",
     "text": [
      "0       [be-yourself, gilbert-perreira, honesty, inspi...\n",
      "1       [best, life, love, mistakes, out-of-control, t...\n",
      "2       [human-nature, humor, infinity, philosophy, sc...\n",
      "3                                          [books, humor]\n",
      "4                                   [books, simile, soul]\n",
      "                              ...                        \n",
      "2503                               [morality, philosophy]\n",
      "2504                                 [happiness, success]\n",
      "2505                                 [inspirational-life]\n",
      "2506                              [comfort, home, winter]\n",
      "2507      [just-listen, loud, owen, sara-dessen, silence]\n",
      "Name: tags, Length: 2508, dtype: object\n",
      "<class 'pandas.core.series.Series'>\n"
     ]
    }
   ],
   "source": [
    "# iterating through the values in the pandas dataframe\n",
    "tags = dataset['tags']\n",
    "print(tags)\n",
    "print(type(tags))"
   ]
  },
  {
   "cell_type": "code",
   "execution_count": 13,
   "metadata": {},
   "outputs": [
    {
     "name": "stdout",
     "output_type": "stream",
     "text": [
      "{'style', 'gullibility', 'bad-day', 'mindful', 'inspirational', 'together', 'choices', 'opinions', 'trap', 'brokenness', 'quotes', 'giving-in', 'stereotypes', 'swear', 'fudge', 'moi', 'crescendo', 'lookingforalaska', 'wormtail', 'rulers', 'last-words', 'greatness', 'independent-thought', 'science', 'diary-entry', 'positivity', 'separation', 'thirst', 'hindsight', 'yesterday', 'talent', 'worry', 'challenges', 'night', 'personal-responsibility', 'fair', 'nicholas-sparks', 'beatrice', 'Ø\\xadØ¨', 'clichÃ©s', 'gandhi', 'thankful', 'jordan-kyle', 'deceit', 'letting-go-of-the-past', 'proactivity', 'harry-potter', 'school', 'broken-families', 'self-containment', 'longings', 'amor-deliria-nervosa', 'john-green', 'enterprise', 'censorship', 'cleanliness', 'right-way', 'revolution', 'life-and-living', 'misogyny', 'prejudice', 'dreamer', 'haunting', 'thoughts', 'think-different', 'water', 'ocean', 'changes', 'demons', 'classic-insult', 'smile', 'inspirational-quote', 'integrity', 'stupidity', 'honesty', 'humor-tattoo', 'oprah-s-thank-you-game', 'steppenwolf', 'loud', 'noel', 'importance', 'tessa-gray', 'fearlessness', 'fred-weasley', 'book-lovers', 'demographics', 'dog', 'observational-comedy', 'fairy-tales', 'how-much', 'litany-against-fear', 'sadness', 'quest', 'immortals', 'civil-rights', 'fool', 'thievery', 'idiocy', 'rich-heart', 'drinking', 'buddism', 'despair', 'nations', 'impact', 'coma', 'broad-mindedness', 'aspiration', 'knowing-others', 'shine', 'on-fiction', 'navigation', 'death', 'frost', 'spinning', 'rumi', 'theresa-gray', 'endings', 'old-age', 'humanism', 'inej-ghafa', 'experience', 'enjoy-the-journey', 'inspirational-human-spirit', 'alice-s-adventures-in-wonderland', 'mermaids', 'isabelle', 'dissatisfaction', 'winnie', 'novelist', 'criticism', 'good-day', 'wonder', 'looking-for-alaska', 'becca-fitzpatrick', 'logo', 'jokes', 'vision', 'husband', 'greek', 'organized-religion', 'spirituality', 'misattributed-jace', 'death-and-dying', 'rythmic', 'vegetarianism', 'open-mindedness', 'annie-clark-tanner-lecture', 'flying-spirit', 'misattributed-einstein', 'mischief', 'democracy', 'famous', 'unsourced', 'agency', 'marilyn-monroe', 'memoir', 'amelia-peabody', 'mr-darcy', 'gratitude', 'forgetting', 'the-fault-in-our-stars', 'holden', 'misattributed', 'park', 'witch', 'british', 'paraphrased', 'jesus-christ', 'appreciate', 'the-nature-of-family', 'december', 'deep', 'lord-henry-wotton', 'afraid', 'pets', 'teasing', 'lost', 'minority', 'reasoning', 'church', 'limit', 'difficulty', 'bookstore', 'loneliness', 'kiss', 'moon', 'apothegm', 'kaz-brekker', 'katniss-and-peeta', 'troubles', 'abe', 'creation', 'killing', 'vanity', 'brave-new-world', 'defenses', 'anais-nin', '2013', 'gamgee', 'self-denial', 'anne', 'earth', 'favourite-books', 'inventing-humor', 'clare', 'description', 'perfect', 'jane-austen', 'atheist', 'wind', 'wayland', 'memories', 'evil', 'mothers', 'be-yourself-quotes', 'originality', 'letter', 'perfection', 'ebay', 'johnny-cade', 'loner', 'misattributed-stephen-hawking', 'christina-grey', 'positive-attitude', 'snow', 'young', 'inspiring', 'fears', 'disappointment', 'criticize', 'will-s-letter-to-tessa', 'city-of-bones', 'shore', 'city-of-lost-souls', 'positive-affirmation', 'motivational', 'kind', 'moonshine', 'ferocity', 'self-indulgence', 'children-s-books', 'self-responsibility', 'relationships', 'misattributed-george-carlin', 'unrequited-love', 'paramore', 'growing', 'finding-your-voice', 'rationality', 'hurt', 'amorality', 'wring', 'sexuality', 'philosophy', 'women-s-strenth', 'scar', 'free-speech', 'self-deprecation', 'crying', 'hopelessness', 'possibilities', 'reality-check', 'imagination', 'silly-chinese-canadian-baby-man', 'think', 'thumb', 'trial', 'first-sentence', 'elizabeth-gilbert', 'security', 'unity', 'machines', 'french-renaissance-writer', 'ethos', 'vampire', 'dumbledore', 'elite', 'appreciation', 'umbridge', 'gondor', 'october', 'novel', 'elections', 'encouragement', 'grisha', 'kindness', 'character', 'trials', 'inner-strength', 'music', 'bad', 'abraham-lincoln', 'purpose', 'positive-life', 'misattributed-eleanor-roosevelt', 'charlie', 'apocryphal', 'detection', 'conviction', 'forgiving', 'self-discovery', 'einstein', 'rewind', 'hodge', 'nationalism', 'emotion', 'orhan-pamuk', 'doctor-who', 'sweet', 'plans', 'misattributed-william-g-t-shedd', 'things', 'cancer', 'agnosticism', 'crisis', 'antoine-de-saint-exupery', 'gift', 'vlog', 'heartfelt', 'finale-of-middlemarch', 'panic', 'unbreakable-vow', 'doubt', 'true-to-self', 'living-now', 'age-adult', 'challanges', 'summer', 'idiots', 'suess', 'reflect', 'haiku', 'believe', 'news', 'discipline', 'semicolons', 'permission', 'before-i-fall', 'governments', 'service', 'bob-marley', 'belonging', 'sisters', 'class', 'purity', 'talk', 'trust', 'spring', 'connecting', 'wither', 'rationalism', 'sin', 'satisfaction', 'robert-foster', 'pain', 'dancing', 'truth-lies', 'poet', 'conflict', 'uncle-jeb', 'musical', 'judgment', 'agree', 'infatuation', 'telekinetics', 'day', 'crazy', 'lateral-thinking', 'zsadist', 'secret', 'status-quo', 'regrets', 'action', 'defiance', 'mindfulness', 'paper-towns', 'intelligence', 'kissing', 'inspirational-quotes', 'parents', 'stars', 'goodbyes', 'kvothe', 'what-matters', 'principle', 'out-of-control', 'teenage-love', 'timelessness', 'misattributed-to-malcolm-x', 'misattributed-john-wayne', 'frolick', 'e-l-james', 'miles-halter', 'goals-in-life', 'self-sacrifice', 'stories-writing', 'television', 'disappointed', 'hope', 'meaning', 'beliefs', 'musn-t', 'winter', 'whiskey', 'blues', 'leigh-bardugo', 'excuse', 'misattributed-steve-jobs', 'self', 'realization', 'freethinker', 'doomed', 'dirt', 'rebellion', 'comfort', 'herondale', 'pijamas', 'authentic-self', 'start-up', 'reassurance', 'lover', 'life-pattern', 'revelation', 'tobias', 'happy-endings', 'breaking-up', 'corruption', 'stressed', 'behind', 'tragedy', 'diplomacy', 'never-give-up', 'play', 'dramatist-quotes', 'majority', 'self-reliance', 'time-travel', 'little-women', 'aliteracy', 'salinger', 'grow', 'peer-pressure', 'self-improvement', 'misattributed-douglas-adams', 'enjoy', 'adoration', 'bridge', 'draco-malfoy', 'money', 'travel', 'heartbreak', 'william-herondale', 'letters', 'try', 'melanie', 'real-life', 'arts-and-humanities', 'popularity', 'ambiguity', 'sphinx-without-a-secret', 'self-realization', 'bookroom', 'zarek', 'sun', 'fallen-anger', 'death-peace', 'the-new-life', 'dark', 'reincarnation', 'body-image', 'calling', 'cats', 'misattributed-to-c-s-lewis', 'sorrow', 'philosophers-stone', 'curiosity', 'books-vacation', 'serenity', 'songs', '1997', 'read', 'suspicion', 'teaching', 'misattributed-to-gandhi', 'stop', 'awareness', 'liar', 'simon_bolivar-s_labyrinth', 'never-stop-believing', 'vorkosigan', 'coldness', 'trying', 'self-worth', 'mortal-instruments', 'adventuring', 'skills', 'books-reading', 'mummies', 'stay-focused', 'intellect', 'anything-can-be', 'deep-thoughts', 'chapter-24', 'hidden', 'never-stop-learning', 'blood', 'fantasy', 'tomorrow', 'jace-lightwood', 'nico', 'start-over', 'promise', 'shouldn-t', 'chance', 'lonely', 'reggae', 'self-trust', 'america', 'piglet', 'poetry', 'dharma', 'antolini', 'clock', 'star', 'ordinary', 'adam', 'pandora', 'neighborhoods', 'lies', 'witches', 'women', 'alive', 'richness', 'poverty', 'experience-mistakes-wisdom', 'morrison', 'patrick-rothfuss', 'misprints', 'claire-fraser', 'invention', 'positive-thinking', 'four', 'inspirational-life', 'dark-side', 'hobbit', 'ego', 'opening-lines', 'spinsterhood', 'misquote', 'matrimony', 'mellark', 'misattributed-to-rosa-parks', 'humor-satan', 'stealth', 'procrastinate', 'investigation', 'thoughtful', 'jesus', 'guys', 'equality', 'sex-appeal', 'death-of-a-loved-one', 'wayfinding', 'mothers-day', 'beatles', 'acorns', 'body-soul', 'strength', 'desperate', 'grief', 'everyday-life', 'anarchy', 'weirdness', 'fresh-start', 'misattributed-tom-bodett', 'glitter', 'empathy', 'hot', 'italy', 'wisher', 'ralph-macchio', 'alaska-young', 'radiance', 'socks', 'olympians', 'those-who-matter', 'goals', 'reality-bothered', 'moving-on', 'social-commentary', 'timidity', 'deeply-loved', 'personality', 'mood-swings', 'sandman', 'albert-einstein', 'unpredictability', 'superiority', 'power-of-music', 'clean', 'greg-behrendt', 'teenager', 'clothing', 'dandy', 'hunger-games', 'only-way', 'antipathy', 'percy-jackson', 'conversations', 'mouth', 'die', 'dreamers', 'comedy', 'intellectuals', 'puck', 'universe', 'atticus-finch', 'authors', 'right-of-passage', 'mask', 'chemistry', 'conformity', 'beautiful', 'qotd', 'essay', 'assassin', 'sirius-black', 'thought', 'ache', 'simile', 'frodo', 'boys', 'people', 'inequality', 'apple', 'cheese', 'inspiration', 'inconvenient', 'e-readers', 'wander', 'why', 'thanksgiving', 'francois-rabelais', 'new-day', 'lemons', 'advice-for-daily-living', 'tea', 'christianity', 'dear-john', 'richelle', 'own', 'bella', 'bilbo', 'faith', 'lack-of-love', 'law', 'pigs', 'flame', 'books-bible', 'mythological', 'drug', 'eyes', '1970', 'laughter', 'resolve', 'stephen-chbosky', 'mythology', 'new-year', 'dark-plans', 'problems', 'jacob', 'mottos', 'wish', 'struggle', 'soon', 'ecology', 'benediction', 'inspirational-ship-storms', 'muggles', 'wizard', 'will', 'misattributed-grace-hopper', 'witchcraft', 'chocolate', 'misanthropy', 'illusions', 'nerds', 'punishment', 'humor-heaven', 'classics', 'rescuing', 'fate', 'hermione', 'unhappiness', 'smart', 'family', 'mutuality', 'different', 'clouds', 'inspire', 'talking', 'fearless', 'stubbornness', 'murder', 'profound', 'wise-words', 'connection', 'unfairness', 'soul', 'atheism', 'children-s-literature', 'pig', 'magnificent', 'breath', 'jared', 'trials-of-life', 'youthfulness', 'maia', 'sausage', 'infidelity', 'voice', 'valour', 'smiling', 'self-assurance', 'nietzsche', 'joy', 'thought-provoking', 'wings', 'misattributed-oscar-wilde', 'injustice', 'monsters', 'confession', 'louisa-may-alcott', 'teenagers', 'contentment', 'assurance', 'city-of-ashes', 'perception', 'confidence', 'double-standards', 'eccentric', 'lincoln', 'teach', 'time', 'meyer', 'hamlet', 'running', 'abilities', 'mourning', 'june', 'dorian-gray', 'wanda', 'visions', 'shadowhunters', 'santiago', 'self-assessment', 'charming', 'worrying', 'choice', 'virtue', 'humor-mustache', 'parties', 'beyonce', 'isolation', 'care', 'fantasy-books', 'motivation', 'hatred', 'giving', 'ferret', 'jamie', 'fallen-angels', 'brown', 'relaxation', 'earnestness', 'wilderness', 'family-ties', 'insincerity', 'reality', 'on-the-road', 'augustus-waters', 'bachelorhood', 'spiritual-growth', 'person', 'song', 'towel', 'remaining-silent', 'inspirational-faith', 'aesthetics', 'rich', 'book', 'christopher-paolini', 'james-bond', 'sophie-collins', 'positive', 'forever', 'heart', 'sense', 'aristotle', 'self-belief', 'gender-roles', 'explore', 'dionysus', 'drugs', 'tolstoy', 'mead', 'esist', 'craziness', 'kensington-gardens', 'birthday', 'last-sacrifice', 'nerdfighter', 'life-lessons', 'common-experience', 'slaughterhouse-five', 'watch', 'lupin', 'mentoring', 'posiedon', 'shampoo', 'angel', 'foolishness', 'drama', 'carpe-diem', 'pleasure', 'life', 'library', 'moving-forward', 'heartwarming', '1-corinthians-13', 'ferret-malfoy', 'scholars', 'determination', 'immature', 'london', 'harry', 'benjamin-button', 'hunger', 'relationship', 'chinese', 'foer', 'stephenie-meyer', 'ponyboy-curtis', 'call-me-by-your-name', 'twilight', 'flaws', 'misattributed-albert-camus', 'meaningful-life', 'tina-fey', 'chaos', 'color', 'boredom', 'misattributed-to-bill-gates', 'coffee', 'opportunity', 'good', 'reputation', 'missed-chances', 'records', 'sex', 'jealousy', 'films', 'ya', 'malfoy', 'selfish', 'humor', 'jail', 'urban-fantasy', 'move-on', 'inkheart', 'self-esteem', 'hush-hush', 'openness', 'enemies', 'parks', 'keep-moving-forward', 'strigoi', 'waiting', 'david', 'how-many', 'dating', 'dislike', 'celebrity', 'better-life-empathy', 'eat-pray-love', 'morning', 'love-friendship', 'stake', 'allegory', 'those-who-love-us', 'ugly', 'peeves', 'won-t', 'worst', 'fairies', 'misattributed-apple', 'ingenuity', 'protest', 'anti-christian', 'be-yourself-inspirational', 'misattributed-george-santayana', 'misattributed-kurt-cobain', 'ideals', 'christina', 'hazel-grace', 'slammed', 'values', 'characters', 'rocks', 'eternity', 'dying', 'arrogance', 'prayer', 'devotion', 'depression', 'chivalry', 'exercise', 'canoodle', 'great-minds', 'melancholy', 'stupid', 'westerfeld', 'city-of-glass', 'grown-ups', 'initiative', 'george-weasley', '2012', '1929', 'jesper', 'truthful', 'names', 'systems', 'seeing', 'albert', 'grandmothers', 'happy', 'phenomenal-woman', 'truth-telling', 'loved-ones', 'empowerment', 'confidences', 'longing', 'misattributed-audrey-hepburn', 'paraphrasing-g-k-chesterton', 'novelist-quotes', 'men-and-women', 'ruby', 'impossible', 'contrast', 'gender', 'attraction', 'being-positive', 'romantics', 'top-8', 'speed-of-light', 'true-love', 'the-perks-of-being-a-wallflower', 'seeds', 'willful-ignorance', 'gray-book', 'writer', 'mirror', 'clockwork-prince', 'a-court-of-mist-and-fury', 'we-are-what-we-eat', 'sleep', 'infinite-jest', 'focus', 'feathers', 'to-be-loved', 'morals', 'misattributed-to-groucho-marx', 'children', 'habits', 'prose', 'joh-green', 'peter-pan', 'the-kite-runner', 'wisdom', 'virtues', 'afternoon', 'humans', 'tintern-abbey', 'boldness', 'peanut-butter', 'beatnik', 'reason', 'broccoli', 'fitting-in', 'live-death-love', 'ron-weasley', 'nicholas', 'birds', 'alchohol', 'book-the-count-of-monte-cristo', 'werewolf', 'young-at-heart', 'barbarity', 'brave', 'drive-out', 'answers', 'defend', 'creative', 'lamp', 'sacrifice', 'weight', 'name-of-the-wind', 'young-adult-novels', 'feeling', 'humorous', 'consistency', 'less-more', 'completion', 'light-and-darkness', 'wallflower', 'haymitch', 'dave-matthews', 'high-school', 'success', 'misattributed-to-chalmers', 'cinna', 'aspirations', 'winds', 'jim', 'dangerous', 'absence', 'art', 'uncertainty', 'dracula', 'adulthood', 'catherine', 'johngreen', 'past', 'principles', 'apocalypse', 'just-listen', 'literature', 'perseverance', 'flattery', 'nora-grey', 'catatonia', 'mercy', 'christians', 'logic', 'introspection', 'recollection', 'stoicism', 'parenting', 'misattributed-to-einstein', 'geography', 'beatitudes', 'intimidation', 'failures', 'strong', 'mortality', 'americans', 'simple', 'car', 'jace', 'misattributed-mark-twain', 'lost-innocence', 'bath', 'nagasawa', 'health', 'correct-way', 'isaac-asimov', 'humility', 'speech', 'just-do-it', 'ruby-anger', 'classic', 'unburdening', 'youth', 'ardor', 'statistics', 'strategy', 'flexibility', 'sharing', 'options', 'martyr', 'do-wrong', 'abe-mazur', 'my-way', 'toltec-wisdom', 'unbreakable', 'shock', 'nonconformity', 'tyler-durden', 'sarah-j-maas', 'foolproof', 'grammar', 'suffering', 'thorns', 'freedom', 'joke', 'childhood', 'give', 'feet', 'anxiety', 'qoutes-on-writing', 'flewn', 'divergent', 'roses', 'sympathy', 'sinners', 'insults', 'inspirational-love', 'sweetness', 'james-carstairs', 'shrugged', 'sci-fi', 'tired', 'breakup', 'responsibility', 'woods', 'authentic-living', 'most-famous-novella', 'food', 'new-england-wisdom', 'romeo-and-juliet', 'waking-up', 'myself', 'mail', 'infinity', 'depression-silence', 'disease', 'pedophilia', 'museums', 'heathcliff', 'life-purpose', 'crime', 'animal-farm', 'scotland', 'soul-searching', 'friendship', 'misattributed-to-a-a-milne', 'physics', 'luck', 'loyalty', 'zen', 'whole-being', 'denial', 'nora', '1955', 'education-knowledge', 'jonathan', 'wealth', 'self-acceptance', 'actions', 'passion', 'the-little-prince', 'lust', 'james-potter', 'dystopia', 'house', 're-reading', 'liberty', 'reticence', 'fear-unknown', 'deadlines', 'internet', 'plants', 'remus-lupin', 'lewis', 'fortitude', 'advice-for-writers', 'sonnet', 'eating-reading', 'persistence', 'progress', 'quiet', 'an-abundance-of-katherines', 'diary', 'mina', 'franz-kafka', 'sarah-dessen', 'fighting', 'integrity-quotes', 'open-minds', 'learn', 'cassandra-clare', 'flight', 'heaven', 'gandalf', 'life-philosophy', 'spirit', 'requirements', 'molly-weasley-anger', 'goodwill', 'unique', 'dissapointment', 'grieving', 'understanding-others', 'dictionary', 'hagrid', 'all-the-bright-places', 'inner-voice', 'paraphrase-of-lewis-carroll', 'dance', 'tears', 'recognition', 'unhappy-life', 'open-mind', 'romantic', 'complaining', 'autonomy', 'mad', 'journey', 'heartbreaking', 'be-yourself', 'caring', 'courtroom-drama', 'paradise', 'misattributed-to-mark-twain', 'history', 'misattributed-to-marilyn-monroe', 'speaking-out', 'space', 'missing', 'astronomer', 'ataraxy', 'expectation', 'how', 'single', 'self-loathing', 'pooh', 'eccentricity', 'demon', 'sebastian', 'god', 'today', 'diversity', 'fashion', 'judging-from-experience', 'buddhism', 'pride', 'questions', 'enduring', 'equations', 'touchstones', 'smiles', 'suicide', 'rewriting-history', 'historical-fiction', 'fire', 'creativity', 'road', 'social', 'the-hunger-games', 'the-way', 'loss', 'chapter-xxiii', 'obviousness', 'the-beatrice-letters', 'betrayal', 'acceptance', 'angels', 'fred', 'mistake', 'tough-times', 'imperfection', 'cruelty', 'femininity', 'psychology', 'true-family', 'you-are-what-you-eat', 'ron', 'sonnet-xvii', 'self-determination', 'misfits', 'self-empowerment', 'thinking', 'human-nature', 'discworld', 'poem', 'pacifism', 'north-carolina', 'bravery', 'improvement', 'trouble', 'christmas', 'legacy', 'zeus', 'dating-advice', 'appearance', 'metaphor', 'dimitri', 'memory', 'expression', 'forgive', 'crooked-kingdom', 'good-books', 'emptiness', 'be-yourself-quote', 'host', 'dogs', 'mortification', 'step-out-of-comfort-zone', 'jk-rowling', 'dirty', '2008', 'funeral', 'goal', 'redemption', 'humour', 'saint-sinner', 'katniss', 'awesome', 'clothes', 'nonfiction', 'make-believe', 'man', 'forcasting', 'the-last-song', 'hg2g', 'prince-charming', 'atrocities', 'fear', 'autumn', 'leadership', 'attitude', 'reciprocity', 'bibliophiles', 'akeelah', 'girl', 'sufi', 'remembrance', 'kill', 'wilde', 'hopeless', 'concealment', 'power', 'social-norms', 'rebirth', 'oaths', 'thankfulness', 'fifty-shades-of-grey', 'forests', 'silliness', 'live-well', 'letting-go', 'absurdities', 'morality', 'lock-and-key', 'fiction', 'biscuit', 'greedy', 'renewal', 'idleness', 'inspirational-attitude', 'singer', 'sunset', 'the-great-gatsby', 'addiction', 'dishonesty', 'tolkien', 'glittering-eyes', 'fuck', 'gender-stereotypes', 'edward', 'wine', 'dreaming', 'mad-hatter', 'self-help', 'witty', 'imposters', 'sing', 'alcohol', 'dragons', 'magnus-bane', 'nerd', 'inertia', 'consciousness', 'ambition', 'grudges', 'miracles', 'scout', 'robin-goodfellow', 'owen-armstrong', 'life-quotes', 'sal-paradise', 'planning', 'romance', 'temptation', 'humor-sarcasm', 'self-knowledge', 'oblivion', 'rue', 'present', 'source-unknown', 'meaning-of-life', 'wise', 'nothing', 'grudge', 'mountains', 'the-notebook', 'run', 'awesomeness', 'honor', 'finnick', 'lack-of-friendship', 'william-gladstone', 'teachers', 'question', 'castle', 'life-memories', 'just-litsen', 'life-choices-fig-trees', 'teens', 'heroes', 'triumph', 'safety', 'breakfast', 'frank', 'gold', 'semantics', 'good-life', 'enjoy-life', 'bathing', 'writing-advice', 'hippy', 'books', 'illiteracy', 'ticking', 'consolation', 'tmi', 'late', 'rosemarie-hathaway', 'possibility', 'scars', 'charity', 'poets', 'what-is-right', 'living-life-to-the-fullest', 'home', 'pretty', 'satirical', 'generations-intelligence-wisdom', 'fountainhead', 'amsterdam', 'uplifting', 'reach-out', 'unhappy-marriage', 'plant', 'literacy', 'individuality', 'clary-fray', 'funny', 'eragon', 'friends', 'on-writing', 'maturity', 'incrementalism', 'psychotherapist', 'privacy', 'transcendentalism', 'owen', 'truth', 'live', 'seed', 'yourself', 'katharine-hepburn', 'talents', 'bene-gesserit', 'learning', 'humor-cats-allergies', 'sorcerers-stone', 'friends-betrayal', 'stories', 'existence', 'magic-books', 'name', 'protection', 'feminism', 'wife', 'valentine', 'shelter', 'reading-books', 'rachel-elizabeth-dare', 'rebels', 'blog', 'destruction', 'cosmos', 'dignity', 'men', 'reinvention', 'meaningful', 'beginnings', 'individualism', 'women-mothers', 'who-you-are', 'your-way', 'self-confidence', 'indifference', 'warriors', 'science-fiction', 'seasons', 'right', 'judgement', 'barriers', 'skepticism', 'manners', 'snape', 'shelves', 'what-men-really-want', 'beauty', 'calvin-and-hobbes-reality', 'expectations', 'simon', 'mankind', 'prank', 'extremely', 'irony', 'drunk', 'presidential', 'awkward', 'amazing-writing', 'activism', 'accept-yourself', 'control', 'judge', 'sarcasm', 'live-in-the-moment', 'self-control', 'independence', 'religion', 'couples', 'everything', 'taylor-swift', 'cleverness', 'leaving', 'neverland', 'walking', 'belief', 'soul-ties', 'assumptions', 'nephlim', 'risk-taking', 'patch', 'automobile', 'dhampir', 'falling-apart', 'anne-rice', 'dare', 'he-s-not-just-into-you', 'uglies', 'nonsense', 'companionship', 'fellowship', 'box', 'thing', 'hypocrisy', 'alec-lightwood', 'healing', 'writers', 'viereck-interview', 'goodbye', 'advocacy', 'ignite-me', 'misattributed-to-albert-camus', 'ignorance', 'sow', 'education', 'wishes', 'life-dreams', 'self-deception', 'obedience', 'gilbert-perreira', 'holden-caulfield', 'change', 'morganvillevampires', 'celaena-sardothien', 'weakness', 'jordan-baker', 'misattributed-ben-franklin', 'alyson', 'alone', 'good-evil', 'words', 'troublemakers', 'self-expression', 'the-selection', 'potential', 'reminding', 'common-sense', 'misattributed-betty-white', 'evidence', 'listening', 'misattributed-to-mother-teresa', 'writer-s-life', 'college', 'pretend', 'voter', 'lovers', 'hmmm', 'quip', 'opposite', 'human-connections', 'leader', 'misattributed-goethe', 'feyre', 'respect', 'cynic', 'innocence', 'losing', 'self-disclosure', 'emotions', 'decisions', 'adrian-ivashkov', 'reading-secrets', 'dizziness', 'courage-quotes', 'katniss-everdeen', 'aciman', 'sherlock-holmes', 'insanity', 'vulnerability', 'progressive', 'desire', 'enemy', 'optimistic', 'gods', 'language', 'apathy', 'ponder', 'congratulations', 'friend', 'misery', 'odair', 'nature', 'world', 'frienship', 'incredibly', 'politics', 'treasure', 'patriotism', 'dead', 'volunteerism', 'divorce', 'storytelling', 'rose', 'libraries', 'anger', 'narrator', 'ghost', 'albus-potter', 'oppression', 'culture', 'broken-glass', 'safran', 'best', 'sharing-secrets', 'speaking', 'athe-plague-of-dives', 'living-in-the-present', 'intoxication', 'quotation', 'pooh-bear', 'delusion', 'questioning', 'or-the-bower', 'inner-beauty', 'sorry', 'defiant', 'identity', 'selfishness', 'seperate', 'force', 'energy', 'quote-investigator', 'teen-fantasy', 'self-love', 'f-scott-fitzgerald', 'albus-dumbledore', 'show-don-t-tell', 'teacher', 'feminist', 'realist', 'unseen', 'evermore', 'theology', 'meir', 'paradox', 'humanity', 'love', 'trauma', 'self-sufficiency', 'metaphysics', 'lost-love', 'twilight-saga', 'bible', 'peace', 'imperfections', 'city-of-fallen-angels', 'difficult', 'blessed', 'edison', 'distractions', '1993', 'of', 'shame', 'mockingjay', 'god-religion-happiness', 'simplicity', 'inner-peace', 'dark-humor', 'role-models', 'tedious', 'toilet', 'animals', 'growing-up', 'plays', 'government', 'aloneness', 'this-lullaby', 'profanity', 'glass', 'sense-of-self', 'old-books', 'hell', 'quitting', 'listen', 'writing', 'will-herondale', 'valentine-morgenstern', 'survival', 'anais', 'misattributed-to-emerson', 'transform', 'close', 'advice', 'samuel-beckett', 'limitations', 'wit', 'labels', 'misattributed-john-lennon', 'hunger-games-peeta-katniss', 'six-of-crows', 'compassion', 'mother', 'food-discussion', 'sail', 'widely-misattributed', 'rights', 'patience', 'injury', 'falling', 'rena-silverman', 'fame', 'let-go', 'dr-seuss', 'helping-others', 'taking-chances', 'philosphy', 'sara-dessen', 'waste', 'desires', 'fresh-starts', 'parting', 'adversity', 'distance', 'bella-swan', 'intent', 'samwise', 'sanity', 'ethics', 'nin', 'philosophical', 'honest', 'amity', 'commercial', 'ideas', 'attributed', 'ecstasy', 'devil', 'humor-reading', 'bibliophilia', 'barrie', 'needs', 'spiritual', 'clary', 'company', 'laugh', 'leaders', 'rhysand', 'at-first-sight', 'athena', 'confused', 'close-mindedness', 'windows', 'catching-fire', 'sensation', 'stele', 'good-reads', 'we-are-what-we-read', 'escape', 'silence', 'zombies', 'brotherhood-of-man', 'bereavement', 'living', 'eleven-minutes', 'macbeth', 'failure', 'marriage', 'need', 'kindle', 'scifi', 'apollo', 'woman', 'sense-of-wonder', 'procrastination', 'cry', 'lady-gaga', 'reading', 'self-image', 'women-s-rights', 'solitude', 'real-love', 'dissent', 'life-truths', 'pessimism', 'cracks', 'the-choice', 'misattributed-marilyn-monroe', 'taste', 'attention', 'layken', 'risk', 'speak', 'elitist', 'strength-and-courage', 'jace-wayland', 'gonzo', 'flying', 'fairytales', 'privilege', 'hush', 'knowing', 'essential', 'seuss', 'writing-from-the-heart', 'forgiveness', 'hate', 'age', 'intelligent-life', 'tyson', 'tfios', 'no-fear', 'value', 'obsession', 'readers', 'god-religion-house', 'explain', 'the-mortal-instruments', 'lena-holoway', 'storms', 'trees', 'understanding', 'sins', 'achievement', 'cynicism', 'love-at-first-sight', 'holiness', 'tris', 'fahrenheit-451', 'suzanne-collins', 'poseidon', 'acts-of-kindness', 'exploration', 'misattributed-to-hutchins', 'arrow', 'shakespeare', 'stress', 'misattributed-bill-cosby', 'work', 'bossypants', 'calvin-and-hobbes', 'cynical', 'hitchhiker-s-guide', 'april', 'excuses', 'concern', 'growth', 'dan-brown', 'dreams', 'inevitability', 'mara-dyer', 'max', 'living-life', 'babies', 'elizabethan', 'happiness', 'misattributed-to-abraham-lincoln', 'adults', 'being-loved', 'direction', 'luke', 'humbert-humbert', 'winds-of-life', 'affection', 'opposition', 'misattributed-to-joseph-addison', 'challenge', 'henry-miller', 'golda', 'dursley', 'sky', 'pause', 'seduction', 'simon-lewis', 'philosophy-of-life', 'feelings', 'accomplishment', 'society', 'isabelle-lightwood', 'vampire-academy', 'veronica-roth', 'others', 'ian', 'unlikely-places', 'deception', 'warrior', 'optimism', 'madness', 'share', 'inej', 'elizabeth-bennet', 'gaiman', 'nightmares', 'martyrdom', 'science-of-mind', 'obvious', 'sea', 'haunt', 'the-book-thief', 'computers', 'peeta-mellark', 'foreshadowing', 'academy', 'newspapers', 'agama', 'busy', 'step-out-of-your-comfort-zone', 'molly-weasley', 'pixie-dust', 'humor-wicked-reading', 'makeup', 'free-will', 'story-people', 'secrets', 'girls', 'imperfect', 'mind', 'revenge', 'sentimentality', 'misattributed-gloria-steinem', 'realism', 'recovery', 'comfort-zone', 'flowers', 'capability', 'self-respect', 'courage', 'souls', 'flirting', 'religious', 'light', 'alec', 'life-humor', 'common-ground', 'perspective', 'sinister', 'misattributed-cassandra-clare', 'burdens', 'best-friends', 'jem-carstairs', 'chaol-westfall', 'misattributed-dr-seuss', 'call', 'remember', 'voting', 'birth', 'islam', 'dauntless', 'wrong', 'by-anne-sullivan', 'ghosts', 'inner-life', 'suli-poverb', 'refuge', 'going-on', 'believe-in-yourself', 'myth', 'paraphrase-of-congreve', 'novelty', 'convictions', 'incredibly-true', 'inspirational-stories', 'wounds', 'ginny-weasley', 'being-yourself', 'power-of-words', 'not-alone', 'atlas', 'forgetfulness', 'van-helsing', 'hidden-things', 'paranormal-romance', 'h2g2', 'purpose-of-life', 'goodness', 'reality-of-life', 'blackjack', 'singles', 'boggs', 'reap', 'awe', 'knowledge-power', 'injuries', 'misattributed-a-a-milne', 'genius', 'true', 'clockwork-angel', 'sad', 'destiny', 'gossip', 'darkness', 'bestseller', 'annabeth-chase', 'morgenstern', 'heartache', 'self-irony', 'creative-process', 'limits', 'commerce', 'twirl', 'pox', 'pleasures', 'make-a-difference', 'paulo-coelho', 'consul', 'self-awareness', 'possiblity', 'childhood-memory', 'being-human', 'new-beginnings', 'conscience', 'adventure', 'victory', 'public-opinion', 'lecture', 'amnesia', 'brain', 'justice', 'worship', 'arts', 'lying', 'mormont', 'scared', 'dna', 'thalia', 'skeptic', 'authenticity', 'mystery', 'understand', 'pedophile', '1931', 'knowledge', 'war', 'soulmates', 'final', 'atoms', 'throne-of-glass', 'puppies', 'invincible', 'peeta', 'chapter-one', 'sirius', 'depressing', 'the-lightning-thief', 'dream', 'communication', 'advertising', 'horror', 'choose', 'essence', 'seize-the-day', 'fight', 'propaganda', 'discovery', 'magic', 'awesome-quote', 'towns', 'man-s', 'grandparents', 'heal', 'safe', 'wilhelm-stekel', 'cows', 'zoe-nightshade', 'mistakes', 'acomaf', 'act', 'nostalgia', 'receptivity', 'laziness', 'winnie-the-pooh', 'cartoonist', 'submission', 'lesson-on-living', 'extraterrestrials', 'design', 'alice-in-wonderland', 'reflection', 'write', 'you-are-what-you-read', 'carroll', 'misattributed-to-kant', 'adaptation', 'yearning', 'miracle', 'doing', 'love-yourself', 'fun', 'elitism', 'alice', 'human-condition', 'dare-to-be', 'sparks', 'danger', 'fact', 'future', 'reader', 'homicide', 'lotr', 'wishing', 'regret', 'worth', 'proverb', 'human', 'facts', 'touching', 'save', 'enthusiasm', 'wisedom', 'hazel', 'roots', 'nerdfighters', 'minister', 'eastern-philosophy', 'inevitable', 'neurosis', 'imagery', 'psychological', 'painting', 'young-adult-fiction', 'violence', 'image', 'stand', 'love-quotes'}\n"
     ]
    }
   ],
   "source": [
    "# Iterting though the pandas Series object and adding each value in a Set\n",
    "# The benefit of the set is that only the unique values will be added, therefore all duplicates will be removed\n",
    "unique_tags = set()\n",
    "\n",
    "# row_tags is the list of tags in each row\n",
    "# we can see that sometimes a single row has multiple tags, therefore, we will nest another for loop inside which reads individual tags\n",
    "for row_tags in tags:\n",
    "    for tag in row_tags:\n",
    "        unique_tags.add(tag)\n",
    "\n",
    "print(unique_tags)"
   ]
  },
  {
   "cell_type": "code",
   "execution_count": 14,
   "metadata": {},
   "outputs": [
    {
     "data": {
      "text/plain": [
       "2161"
      ]
     },
     "execution_count": 14,
     "metadata": {},
     "output_type": "execute_result"
    }
   ],
   "source": [
    "len(unique_tags)"
   ]
  },
  {
   "cell_type": "markdown",
   "metadata": {},
   "source": [
    "There are a total of 2,161 tags. This is too many if we want this to be our target variable."
   ]
  },
  {
   "cell_type": "code",
   "execution_count": 20,
   "metadata": {},
   "outputs": [
    {
     "name": "stdout",
     "output_type": "stream",
     "text": [
      "{'be-yourself': 16, 'gilbert-perreira': 1, 'honesty': 12, 'inspirational': 319, 'misattributed-oscar-wilde': 2, 'quote-investigator': 1, 'best': 1, 'life': 295, 'love': 327, 'mistakes': 10, 'out-of-control': 1, 'truth': 61, 'worst': 1, 'human-nature': 9, 'humor': 254, 'infinity': 4, 'philosophy': 60, 'science': 26, 'stupidity': 7, 'universe': 6, 'books': 141, 'simile': 8, 'soul': 12, 'ataraxy': 4, 'confidence': 11, 'fitting-in': 1, 'individuality': 21, 'misattributed-dr-seuss': 1, 'those-who-matter': 1, 'dance': 5, 'heaven': 2, 'hurt': 8, 'sing': 2, 'dreams': 31, 'reality': 17, 'sleep': 7, 'action': 7, 'change': 34, 'wish': 2, 'character': 11, 'sirius-black': 2, 'friends': 28, 'friendship': 63, 'misattributed-albert-camus': 1, 'lies': 12, 'lying': 6, 'memory': 9, 'friend': 3, 'knowledge': 17, 'enemies': 4, 'forgiveness': 10, 'strategy': 3, 'carpe-diem': 7, 'education': 22, 'learning': 15, 'darkness': 7, 'drive-out': 1, 'hate': 10, 'light': 11, 'peace': 14, 'music': 31, 'intelligence': 12, 'self-deprecation': 1, 'accomplishment': 1, 'conformity': 3, 'advertising': 1, 'apple': 1, 'commercial': 1, 'computers': 1, 'different': 1, 'madness': 5, 'misattributed-apple': 1, 'misattributed-steve-jobs': 1, 'misfits': 1, 'nonconformity': 1, 'progressive': 1, 'rebels': 1, 'status-quo': 1, 'think-different': 1, 'troublemakers': 1, 'insanity': 8, 'misattributed-ben-franklin': 2, 'misattributed-mark-twain': 7, 'misattributed-to-einstein': 5, 'misattributed-marilyn-monroe': 1, 'actions': 3, 'disappointed': 1, 'disappointment': 9, 'dream': 7, 'explore': 1, 'sail': 1, 'frost': 1, 'glitter': 1, 'gold': 2, 'lost': 2, 'poetry': 45, 'roots': 2, 'strength': 28, 'strong': 1, 'wander': 2, 'wither': 1, 'abilities': 2, 'choices': 6, 'aliteracy': 2, 'classic': 4, 'live': 7, 'miracle': 1, 'miracles': 2, 'contentment': 4, 'optimism': 48, 'perception': 7, 'pessimism': 1, 'dragons': 3, 'fairy-tales': 6, 'paraphrasing-g-k-chesterton': 1, 'misattributed-to-abraham-lincoln': 1, 'misattributed-to-mark-twain': 1, 'remaining-silent': 2, 'wisdom': 62, 'majority': 1, 'minority': 1, 'pause': 1, 'reflect': 1, 'fate': 8, 'misattributed-john-lennon': 2, 'planning': 1, 'plans': 1, 'hope': 46, 'misattributed-eleanor-roosevelt': 7, 'past': 10, 'present': 4, 'widely-misattributed': 4, 'edison': 1, 'failure': 14, 'paraphrased': 10, 'lack-of-friendship': 1, 'lack-of-love': 1, 'marriage': 15, 'unhappy-marriage': 1, 'activism': 7, 'apathy': 2, 'indifference': 1, 'opposite': 1, 'literacy': 3, 'belief': 11, 'integrity': 9, 'misattributed-to-malcolm-x': 1, 'misattributed-to-rosa-parks': 1, 'navigation': 1, 'mischief': 2, 'animals': 9, 'dogs': 5, '1929': 1, 'imagination': 16, 'viereck-interview': 1, 'do-wrong': 1, 'trust': 18, 'wrong': 1, 'fantasy': 10, 'obvious': 1, 'read': 2, 'readers': 1, 'reading': 86, 'reading-books': 1, 'procrastination': 2, 'goodness': 9, 'happiness': 68, 'kindness': 19, 'misattributed-to-mother-teresa': 4, 'world': 14, 'courage': 37, 'deeply-loved': 1, 'source-unknown': 1, 'albus-dumbledore': 2, 'heartbreak': 12, 'sisters': 2, 'deadlines': 2, 'humour': 21, 'work': 10, 'writing': 67, 'simplicity': 2, 'understand': 1, '1970': 1, 'stories': 11, 'essential': 1, 'religion': 32, 'thought': 3, 'library': 5, 'art': 22, 'cats': 5, 'women': 40, 'katniss': 8, 'peeta': 6, 'suzanne-collins': 3, 'the-hunger-games': 5, 'tea': 3, 'misattributed-to-c-s-lewis': 2, 'power-of-words': 9, 'chocolate': 4, 'food': 8, 'dumbledore': 15, 'yourself': 2, 'comedy': 4, 'death': 47, 'harry': 1, 'philosophers-stone': 1, 'ron': 1, 'sorcerers-stone': 1, 'fear': 31, 'children': 12, 'city-of-bones': 9, 'jace': 18, 'doomed': 1, 'inevitable': 1, 'oblivion': 1, 'pleasure': 3, 'simple': 1, 'exercise': 2, 'laziness': 1, 'misattributed-to-hutchins': 1, 'beauty': 26, 'satisfaction': 1, 'self-determination': 20, 'seuss': 2, 'novelist-quotes': 1, 'television': 2, 'scifi': 2, 'bravery': 13, 'success': 24, 'anything-can-be': 1, 'impossible': 2, 'musn-t': 1, 'possibilities': 3, 'shouldn-t': 1, 'won-t': 1, 'misattributed-a-a-milne': 2, 'charlie': 1, 'favourite-books': 1, 'sad': 8, 'soul-searching': 1, 'wallflower': 2, 'nerdfighters': 3, 'imperfect': 1, 'authors': 3, 'literature': 15, 'girls': 6, 'weirdness': 1, 'body-soul': 1, 'john-green': 9, 'tfios': 6, 'the-fault-in-our-stars': 9, 'attributed': 3, 'inspiration': 87, 'open-mind': 2, 'thinking': 9, 'bilbo': 1, 'journey': 3, 'quest': 1, 'travel': 14, 'time': 25, 'calvin-and-hobbes': 4, 'mortal-instruments': 13, 'romance': 45, 'teen-fantasy': 3, 'judge': 2, 'perfection': 4, 'piglet': 2, 'pooh': 2, 'reassurance': 1, 'compassion': 13, 'suffering': 13, 'drug': 1, 'live-death-love': 1, 'self-indulgence': 1, 'theology': 1, 'adventuring': 1, 'desire': 6, 'emotion': 5, 'passion': 6, 'relationships': 33, 'wise-words': 1, 'snape': 3, 'good': 4, 'misattributed-to-emerson': 1, 'beatles': 9, 'connection': 2, 'dreamers': 4, 'dreaming': 7, 'dying': 3, 'facts': 2, 'fame': 4, 'knowing': 2, 'poverty': 2, 'school': 4, 'teach': 1, 'wealth': 3, 'mankind': 5, 'people': 14, 'sinister': 1, 'regrets': 1, 'morality': 7, 'humans': 2, 'pain': 34, 'scars': 6, 'better-life-empathy': 1, 'romantic': 5, 'adventure': 9, 'akeelah': 1, 'age': 9, 'fairytales': 2, 'growing-up': 7, 'attitude': 6, 'choice': 3, 'pretend': 2, 'alice': 1, 'philosophy-of-life': 2, 'psychological': 1, 'yesterday': 1, 'magic': 11, 'difficult': 1, 'grown-ups': 1, 'write': 2, 'writers': 4, 'limits': 2, 'inspirational-quotes': 65, 'strength-and-courage': 1, 'mind': 10, 'christianity': 6, 'faith': 22, 'sun': 3, 'memories': 6, 'misattributed-to-bill-gates': 1, 'nerd': 1, 'nerds': 1, 'paraphrase-of-congreve': 1, 'introspection': 3, 'self-discovery': 7, 'scar': 1, 'sweetness': 1, 'rebellion': 2, 'sarcasm': 12, 'philosphy': 1, 'greatness': 5, '1993': 1, 'advice': 4, 'complaining': 1, 'invincible': 1, 'teenagers': 1, 'teens': 1, 'sanity': 3, 'augustus-waters': 2, 'hazel': 1, 'privilege': 1, 'jace-wayland': 29, 'simon-lewis': 5, 'empathy': 6, 'dear-john': 2, 'nicholas-sparks': 8, 'fashion': 4, 'hermione': 1, 'health': 2, 'misprints': 1, 'misattributed-to-marilyn-monroe': 2, 'teachers': 2, 'the-notebook': 4, 'conflict': 2, 'fighting': 7, 'revenge': 2, 'trial': 4, 'violence': 1, 'johngreen': 1, 'lookingforalaska': 1, 'respect': 7, 'anger': 6, 'freedom': 28, 'misattributed-gloria-steinem': 2, 'misanthropy': 1, 'creativity': 5, 'empowerment': 17, 'flaws': 2, 'gender': 4, 'identity': 13, 'image': 1, 'independence': 12, 'realism': 1, 'self-awareness': 5, 'clary': 6, 'clothes': 1, 'wounds': 2, 'children-s-books': 1, 'commerce': 1, 'conscience': 3, 'humanity': 18, 'misattributed-to-gandhi': 2, 'money': 4, 'politics': 11, 'principle': 1, 'sacrifice': 5, 'sin': 4, 'sins': 1, 'worship': 1, 'meaning-of-life': 4, 'santiago': 1, 'clary-fray': 23, 'demons': 2, 'luke': 1, 'teenager': 1, 'bene-gesserit': 1, 'litany-against-fear': 1, 'motivational': 27, 'proverb': 1, 'human': 5, 'value': 5, 'worth': 2, 'nico': 1, 'tolstoy': 1, 'god': 28, 'dauntless': 1, 'divergent': 4, 'fearless': 4, 'four': 2, 'tris': 2, 'believe': 6, 'glittering-eyes': 1, 'hidden': 1, 'secrets': 5, 'unlikely-places': 1, 'watch': 1, 'book': 3, 'family': 15, 'parties': 1, 'social': 1, 'despair': 2, 'evil': 7, 'sadness': 22, 'victory': 2, 'alone': 3, 'coldness': 1, 'depression': 13, 'sorrow': 4, 'paraphrase-of-lewis-carroll': 1, 'loneliness': 27, 'loner': 1, 'solitude': 11, 'breaking-up': 1, 'lost-love': 2, 'mr-darcy': 1, 'culture': 1, 'achievement': 3, 'falling-apart': 1, 'giving-in': 1, 'bible': 3, 'misattributed-bill-cosby': 1, 'freethinker': 1, 'mad': 1, 'misattributed-john-wayne': 1, 'misattributed-douglas-adams': 1, 'wit': 5, 'paper-towns': 1, 'ordinary': 1, 'vlog': 1, 'opinions': 4, 'timelessness': 1, 'unity': 2, 'misattributed-cassandra-clare': 1, 'misattributed-jace': 1, 'weakness': 2, 'smile': 10, 'smiling': 2, 'encouragement': 5, 'gandalf': 2, 'bella-swan': 1, 'edward': 5, 'night': 6, 'stars': 8, 'magnus-bane': 8, 'boys': 2, 'biscuit': 1, 'harry-potter': 16, 'james-potter': 1, 'remus-lupin': 1, 'wormtail': 1, 'the-perks-of-being-a-wallflower': 3, 'judgement': 3, 'shampoo': 1, 'charity': 2, 'misattributed-audrey-hepburn': 1, 'seasons': 3, 'triumph': 1, 'bookroom': 1, 'libraries': 6, 'pride': 4, 'cassandra-clare': 4, 'city-of-glass': 6, 'grief': 17, 'loss': 16, 'revelation': 2, 'fact': 2, 'ignorance': 8, 'telekinetics': 1, 'jail': 1, 'ebay': 1, 'myth': 2, 'ambiguity': 2, 'uncertainty': 1, 'unpredictability': 1, 'friends-betrayal': 1, 'genius': 2, 'fiction': 3, 'humor-wicked-reading': 1, 'sphinx-without-a-secret': 1, 'self-deception': 3, 'man': 7, 'breakup': 1, 'infidelity': 2, 'life-lessons': 40, 'anais-nin': 3, 'qoutes-on-writing': 1, 'everyday-life': 1, 'funny': 34, 'observational-comedy': 1, 'humor-heaven': 1, 'song': 3, 'men': 20, 'boggs': 1, 'finnick': 3, 'hunger-games': 7, 'mockingjay': 4, 'odair': 1, 'witty': 1, 'chemistry': 1, 'meaning': 4, 'ideas': 2, 'sarah-j-maas': 1, 'throne-of-glass': 2, 'feminism': 12, 'oprah-s-thank-you-game': 1, 'adversity': 6, 'problems': 3, 'trials': 1, 'fred-weasley': 3, 'george-weasley': 3, 'ron-weasley': 5, 'logic': 2, 'automobile': 1, 'car': 1, 'religious': 2, 'pixie-dust': 1, 'inspirational-love': 3, 'qotd': 3, 'heart': 18, 'importance': 2, 'secret': 2, 'the-little-prince': 2, 'giving': 5, 'life-and-living': 36, 'positive-affirmation': 41, 'winnie': 1, 'self-responsibility': 2, 'timidity': 1, 'silence': 8, 'zen': 2, 'authenticity': 3, 'self': 6, 'heartache': 3, 'beginnings': 1, 'fresh-start': 1, 'mistake': 1, 'new-day': 1, 'start-over': 1, 'tomorrow': 1, 'ache': 1, 'bella': 3, 'dancing': 2, 'chapter-24': 1, 'will-herondale': 11, 'existence': 4, 'rue': 1, 'a-court-of-mist-and-fury': 3, 'acomaf': 2, 'feyre': 2, 'rhysand': 2, 'atheism': 10, 'fear-unknown': 1, 'unrequited-love': 3, 'books-vacation': 1, 'eating-reading': 1, 'expectations': 4, 'fairies': 1, 'mythology': 4, 'nightmares': 1, 'humor-reading': 2, 'misattributed-to-a-a-milne': 1, 'saint-sinner': 1, 'humorous': 3, 'dave-matthews': 1, 'requirements': 1, 'feathers': 1, 'souls': 3, 'understanding': 9, 'bath': 1, 'affection': 3, 'communication': 3, 'heartwarming': 1, 'human-connections': 1, 'humanism': 2, 'inspirational-life': 34, 'day': 3, 'breath': 1, 'allegory': 1, 'broad-mindedness': 1, 'imagery': 1, 'living': 48, 'dharma': 1, 'future': 17, 'reflection': 1, 'running': 1, 'misattributed-einstein': 1, 'letters': 1, 'love-at-first-sight': 2, 'inspirational-attitude': 28, 'inspire': 38, 'inspiring': 38, 'life-quotes': 48, 'motivation': 25, 'optimistic': 40, 'positive': 40, 'positive-life': 40, 'positive-thinking': 41, 'alive': 1, 'congratulations': 1, 'attraction': 3, 'popularity': 1, 'consul': 1, 'atticus-finch': 1, 'joy': 7, 'wishing': 1, 'talent': 3, 'words': 13, 'experience-mistakes-wisdom': 1, 'growth': 9, 'ideals': 1, 'martyr': 1, 'astronomer': 1, 'writer': 1, 'inertia': 2, 'leaving': 1, 'nerdfighter': 1, 'convictions': 1, 'criticism': 1, 'inspirational-faith': 1, 'anne': 1, 'frank': 1, 'happy': 5, 'creation': 3, 'creative': 1, 'worry': 7, 'life-choices-fig-trees': 1, 'writer-s-life': 1, 'classic-insult': 3, 'funeral': 1, 'crazy': 3, 'stupid': 1, 'first-sentence': 2, 'advice-for-daily-living': 2, 'reader': 2, 'speaking': 2, 'husband': 2, 'opening-lines': 2, 'wife': 2, 'americans': 1, 'geography': 1, 'war': 15, 'presidential': 1, 'brokenness': 1, 'healing': 8, 'consistency': 1, 'determination': 3, 'essence': 1, 'ethos': 1, 'fortitude': 1, 'persistence': 6, 'resolve': 1, 'self-reliance': 5, 'virtue': 4, 'virtues': 1, 'ego': 2, 'books-reading': 3, 'elizabeth-bennet': 3, 'jane-austen': 2, 'brown': 1, 'clare': 1, 'isabelle': 2, 'home': 4, 'touching': 2, 'fire': 2, 'flame': 1, 'isolation': 2, 'laughter': 9, 'the-kite-runner': 1, '1-corinthians-13': 1, 'dignity': 3, 'judgment': 2, 'speaking-out': 2, 'einstein': 4, 'nature': 10, 'simon': 6, 'misquote': 1, 'corruption': 3, 'dark-side': 1, 'monsters': 2, 'temptation': 4, 'molly-weasley-anger': 1, 'responsibility': 3, 'dirty': 1, 'logo': 1, 'sex': 10, 'destiny': 5, 'power': 3, 'hmmm': 1, 'adulthood': 2, 'being-human': 1, 'inspirational-quote': 4, 'life-philosophy': 5, 'smiles': 2, 'puppies': 1, 'suicide': 9, 'rights': 1, 'experience': 10, 'mortality': 2, 'broccoli': 1, 'pleasures': 1, 'salinger': 1, 'poem': 5, 'feelings': 5, 'jem-carstairs': 3, 'authentic-living': 4, 'authentic-self': 2, 'distance': 2, 'sense-of-wonder': 4, '1955': 1, 'curiosity': 3, 'mystery': 2, 'physics': 2, 'justice': 5, 'mercy': 4, 'gratitude': 10, 'living-life': 6, 'mindful': 1, 'mindfulness': 2, 'just-litsen': 1, 'sarah-dessen': 2, 'animal-farm': 2, 'kiss': 6, 'kissing': 2, 'censorship': 3, 'illiteracy': 1, 'accept-yourself': 1, 'keep-moving-forward': 2, 'letting-go': 14, 'love-yourself': 1, 'expectation': 2, 'life-memories': 1, 'best-friends': 1, 'moi': 1, 'irony': 4, 'fair': 1, 'sympathy': 1, 'appreciate': 2, 'fool': 1, 'self-confidence': 4, 'self-irony': 1, 'jim': 1, 'morrison': 1, 'dictionary': 1, 'fun': 1, 'isabelle-lightwood': 4, 'chaos': 1, 'trouble': 2, 'belonging': 1, 'company': 1, 'desires': 2, 'longings': 1, 'awesomeness': 1, 'girl': 1, 'makeup': 1, 'amsterdam': 1, 'amorality': 1, 'correct-way': 1, 'my-way': 1, 'only-way': 1, 'right-way': 1, 'the-way': 1, 'your-way': 1, 'vulnerability': 1, 'god-religion-house': 1, 'science-fiction': 4, 'prayer': 3, 'christopher-paolini': 1, 'eragon': 1, 'good-reads': 1, 'hell': 8, 'perseverance': 7, 'crooked-kingdom': 2, 'inej-ghafa': 2, 'kaz-brekker': 1, 'six-of-crows': 5, 'humor-satan': 1, 'misattributed-to-groucho-marx': 1, 'advocacy': 1, 'dissent': 1, 'protest': 1, 'truth-telling': 2, 'alice-s-adventures-in-wonderland': 1, 'originality': 2, 'anti-christian': 1, 'christians': 1, 'jesus-christ': 1, 'class': 2, 'clichÃ©s': 2, 'double-standards': 3, 'hypocrisy': 4, 'misogyny': 2, 'stereotypes': 2, 'nicholas': 2, 'sparks': 2, '1997': 1, 'annie-clark-tanner-lecture': 1, 'procrastinate': 1, 'drama': 1, 'plays': 1, 'risk': 4, 'brave': 3, 'purpose': 4, 'vision': 1, 'name-of-the-wind': 1, 'patrick-rothfuss': 2, 're-reading': 1, 'busy': 1, 'call': 1, 'dating': 2, 'dating-advice': 1, 'greg-behrendt': 1, 'guys': 1, 'he-s-not-just-into-you': 1, 'true': 4, 'discworld': 1, 'humbert-humbert': 1, 'patriotism': 1, 'taste': 2, 'tyler-durden': 1, 'believe-in-yourself': 2, 'f-scott-fitzgerald': 2, 'looking-for-alaska': 4, 'grudge': 1, 'regret': 5, 'perspective': 5, 'broken-glass': 1, 'glass': 1, 'moon': 3, 'moonshine': 1, 'show-don-t-tell': 1, 'being-loved': 3, 'completion': 1, 'focus': 3, 'grow': 1, 'leader': 4, 'leaders': 3, 'leadership': 7, 'stay-focused': 1, 'step-out-of-comfort-zone': 1, 'transform': 2, 'apollo': 2, 'gods': 1, 'hot': 2, 'olympians': 4, 'percy-jackson': 11, 'thalia': 1, 'true-love': 5, 'hazel-grace': 1, 'who-you-are': 1, 'whole-being': 1, 'being-positive': 3, 'blessed': 2, 'less-more': 1, 'life-purpose': 1, 'spirituality': 9, 'stress': 1, 'stressed': 1, 'worrying': 2, 'inner-peace': 2, 'permission': 1, 'plant': 1, 'reap': 1, 'seed': 1, 'seeds': 2, 'sow': 1, 'crying': 7, 'options': 1, 'rumi': 1, 'sufi': 1, 'calvin-and-hobbes-reality': 1, 'by-anne-sullivan': 1, 'emotions': 5, 'others': 1, 'think': 2, 'beatrice': 1, 'tobias': 2, 'forgetting': 5, 'waiting': 1, 'cleverness': 1, 'misattributed': 4, 'share': 1, 'bookstore': 1, 'towns': 1, 'act': 1, 'criticize': 1, 'doing': 1, 'feeling': 1, 'listening': 3, 'ponder': 1, 'metaphor': 3, 'esist': 1, 'spinning': 1, 'stele': 1, 'beatitudes': 2, 'bob-marley': 2, 'reggae': 1, 'unsourced': 1, 'goodbye': 6, 'refuge': 1, 'ferret-malfoy': 1, 'death-peace': 1, 'laugh': 2, 'relationship': 3, 'alice-in-wonderland': 5, 'breakfast': 1, 'carroll': 2, 'leigh-bardugo': 1, 'choose': 1, 'hatred': 4, 'fudge': 1, 'minister': 1, 'style': 1, 'independent-thought': 1, 'self-expression': 3, 'deep-thoughts': 1, 'moving-on': 9, 'reminding': 1, 'clockwork-angel': 5, 'sophie-collins': 1, 'lost-innocence': 1, 'paranormal-romance': 2, 'moving-forward': 1, 'parenting': 4, 'self-assurance': 2, 'delusion': 1, 'what-is-right': 1, 'progress': 2, 'aspiration': 1, 'assurance': 1, 'clouds': 1, 'color': 1, 'conviction': 1, 'maturity': 2, 'sunset': 1, 'spiritual': 5, 'uplifting': 2, 'good-day': 1, 'how-many': 1, 'how-much': 1, 'live-well': 1, 'eyes': 1, 'lemons': 1, 'alcohol': 1, 'letting-go-of-the-past': 2, 'living-in-the-present': 2, 'living-life-to-the-fullest': 1, 'living-now': 2, 'care': 2, 'diversity': 1, 'seduction': 1, 'comfort': 5, 'albus-potter': 1, 'we-are-what-we-eat': 1, 'we-are-what-we-read': 1, 'you-are-what-you-eat': 1, 'you-are-what-you-read': 1, 'idleness': 1, 'equality': 4, 'flattery': 1, 'rationality': 2, 'reason': 7, 'social-norms': 1, 'women-s-rights': 2, 'self-image': 1, 'sense-of-self': 1, 'storytelling': 3, 'trauma': 1, 'prejudice': 1, 'vanity': 1, 'recognition': 1, 'ambition': 2, 'chapter-xxiii': 1, 'fuck': 1, 'profanity': 1, 'unhappiness': 3, 'sandman': 2, 'memoir': 1, 'values': 3, 'acceptance': 8, 'bibliophiles': 2, 'book-lovers': 3, 'dare-to-be': 1, 'seize-the-day': 1, 'dimitri': 3, 'rose': 3, 'urban-fantasy': 1, 'vampire': 5, 'young-adult-novels': 1, 'forever': 1, 'what-men-really-want': 1, 'eccentricity': 1, 'chance': 1, 'ethics': 4, '1931': 1, 'perfect': 1, 'truthful': 1, 'bad': 2, 'owen-armstrong': 1, 'bereavement': 1, 'consolation': 1, 'reincarnation': 2, 'investigation': 1, 'joke': 5, 'lovers': 2, 'flight': 3, 'flying': 5, 'hg2g': 2, 'hush': 2, 'albert-einstein': 1, 'hamlet': 1, 'cancer': 2, 'quitting': 1, 'ferret': 1, 'dandy': 1, 'lord-henry-wotton': 1, 'wilde': 1, 'inner-strength': 1, 'self-control': 1, 'humility': 2, 'self-improvement': 3, 'remembrance': 1, 'fears': 1, 'right': 2, 'amor-deliria-nervosa': 1, 'mask': 1, 'personality': 1, 'revolution': 2, 'together': 1, 'energy': 1, 'the-last-song': 1, 'how': 1, 'questioning': 1, 'questions': 2, 'why': 1, 'troubles': 1, 'prince-charming': 1, 'taylor-swift': 1, 'abe': 1, 'enemy': 2, 'lincoln': 1, 'apothegm': 1, 'talking': 1, 'cry': 4, 'final': 1, 'lupin': 1, 'parents': 5, 'sirius': 1, 'death-and-dying': 1, 'orhan-pamuk': 1, 'the-new-life': 1, 'eleven-minutes': 1, 'paulo-coelho': 1, 'catherine': 1, 'or-the-bower': 1, 'antolini': 1, 'misattributed-george-carlin': 3, 'goals': 5, 'cheese': 1, 'christina-grey': 1, 'e-l-james': 1, 'fifty-shades-of-grey': 1, 'never-give-up': 2, 'amnesia': 1, 'magic-books': 1, 'endings': 1, 'happy-endings': 1, 'thievery': 1, 'treasure': 1, 'mood-swings': 1, 'new-year': 3, 'birds': 2, 'shore': 1, 'woods': 1, 'francois-rabelais': 1, 'last-words': 3, 'ecstasy': 2, 'buddhism': 1, 'thoughts': 5, 'earth': 2, 'space': 1, 'Ø\\xadØ¨': 1, 'excuse': 1, 'improvement': 2, 'survival': 3, 'profound': 2, 'chinese': 1, 'crisis': 1, 'danger': 1, 'opportunity': 2, 'h2g2': 1, 'hitchhiker-s-guide': 1, 'panic': 1, 'eternity': 1, 'forests': 2, 'history': 7, 'holiness': 1, 'longing': 5, 'poet': 1, 'trees': 3, 'wonder': 5, 'hippy': 1, 'william-gladstone': 1, 'needs': 1, 'intimidation': 1, 'stubbornness': 1, 'enjoy-life': 3, 'fearlessness': 1, 'live-in-the-moment': 4, 'steppenwolf': 1, 'caring': 2, 'roses': 2, 'classics': 2, 'star': 1, 'molly-weasley': 1, 'toilet': 1, 'french-renaissance-writer': 1, 'miles-halter': 1, 'mountains': 1, 'rocks': 1, 'contrast': 1, 'katharine-hepburn': 1, 'appreciation': 5, 'awe': 2, 'positivity': 2, 'clockwork-prince': 3, 'tessa-gray': 4, 'theresa-gray': 1, 'city-of-ashes': 4, 'sinners': 1, 'defiance': 1, 'self-containment': 1, 'self-esteem': 5, 'self-respect': 4, 'self-sufficiency': 2, 'self-trust': 1, 'answers': 2, 'earnestness': 1, 'gullibility': 1, 'imposters': 1, 'goals-in-life': 1, 'learn': 3, 'light-and-darkness': 1, 'meaningful': 1, 'meaningful-life': 1, 'wise': 5, 'growing': 2, 'real-love': 1, 'reality-of-life': 1, 'those-who-love-us': 1, 'to-be-loved': 1, 'what-matters': 1, 'seperate': 1, 'body-image': 1, 'imperfections': 2, 'self-acceptance': 3, 'opposition': 1, 'spirit': 1, 'depression-silence': 1, 'awkward': 1, 'human-condition': 1, 'punishment': 1, 'jordan-baker': 1, 'cynic': 1, 'goal': 1, 'painting': 1, 'education-knowledge': 1, 'humor-cats-allergies': 1, 'machines': 1, 'ginny-weasley': 1, 'kind': 3, 'jk-rowling': 1, 'stephenie-meyer': 1, 'twilight': 1, 'poets': 1, 'cleanliness': 1, 'consciousness': 1, 'feet': 1, 'purity': 1, 'semantics': 1, 'suspicion': 1, 'america': 2, 'david': 1, 'uglies': 1, 'westerfeld': 1, 'tears': 6, 'road': 1, 'real-life': 1, 'crime': 3, 'oppression': 1, 'invention': 1, 'quip': 3, 'wings': 2, 'self-assessment': 1, 'redemption': 1, 'drinking': 3, 'bossypants': 1, 'self-love': 2, 'tina-fey': 1, 'blues': 1, 'rescuing': 1, 'infinite-jest': 1, 'renewal': 1, 'summer': 2, 'society': 5, 'most-famous-novella': 1, 'be-yourself-inspirational': 1, 'be-yourself-quote': 1, 'be-yourself-quotes': 1, 'inner-voice': 2, 'common-sense': 2, 'manners': 2, 'morals': 4, 'patience': 6, 'challenge': 2, 'enjoy-the-journey': 1, 'move-on': 1, 'lotr': 1, 'arts-and-humanities': 1, 'creative-process': 2, 'self-denial': 1, 'self-disclosure': 1, 'generations-intelligence-wisdom': 1, 'language': 5, 'voice': 3, 'smart': 2, 'alec-lightwood': 3, 'inspirational-stories': 1, 'self-realization': 1, 'dark-humor': 1, 'an-abundance-of-katherines': 1, 'joh-green': 1, 'birth': 2, 'lonely': 2, 'missing': 1, 'feminist': 1, 'inner-beauty': 2, 'adaptation': 2, 'flexibility': 1, 'open-mindedness': 3, 'arrogance': 1, 'flirting': 1, 'holden': 3, 'scared': 1, 'stoicism': 1, 'afternoon': 1, 'december': 1, 'flewn': 1, 'june': 1, 'late': 1, 'soon': 1, 'writing-advice': 2, 'dishonesty': 1, 'willful-ignorance': 1, 'obsession': 3, 'mummies': 1, 'werewolf': 1, 'zombies': 1, 'good-life': 1, 'insults': 1, 'shakespeare': 2, 'cynicism': 1, 'enduring': 1, 'going-on': 1, 'barrie': 1, 'kensington-gardens': 1, 'london': 1, 'neverland': 1, 'park': 1, 'peter-pan': 1, 'scotland': 2, 'fallen-anger': 1, 'nephlim': 1, 'statistics': 1, 'injury': 1, 'mortification': 1, 'box': 1, 'gift': 2, 'eat-pray-love': 1, 'elizabeth-gilbert': 1, 'enthusiasm': 1, 'foolishness': 2, 'silliness': 1, 'grudges': 1, 'illusions': 1, 'acorns': 1, 'zoe-nightshade': 1, 'mina': 1, 'van-helsing': 1, 'autonomy': 1, 'bachelorhood': 1, 'matrimony': 1, 'singles': 1, 'emptiness': 1, 'franz-kafka': 1, 'bestseller': 1, 'north-carolina': 1, 'novel': 1, 'parting': 2, 'romantics': 1, 'jealousy': 2, 'greek': 1, 'sorry': 1, 'extraterrestrials': 1, 'intelligent-life': 1, 'let-go': 2, 'mellark': 1, 'twilight-saga': 1, 'childhood': 4, 'psychology': 3, 'helping-others': 4, 'make-a-difference': 1, 'purpose-of-life': 2, 'castle': 1, 'quotes': 3, 'awesome-quote': 1, 'haymitch': 1, 'description': 1, 'beliefs': 1, 'courage-quotes': 1, 'kill': 2, 'city-of-fallen-angels': 3, 'herondale': 1, 'jace-lightwood': 3, 'letter': 1, 'morgenstern': 1, 'wayland': 1, 'angels': 1, 'nagasawa': 1, 'pooh-bear': 1, 'winnie-the-pooh': 1, 'amity': 1, 'civil-rights': 2, 'free-speech': 1, 'free-will': 1, 'liberty': 3, 'amelia-peabody': 1, 'brave-new-world': 1, 'hunger': 1, 'thirst': 1, 'yearning': 3, 'bibliophilia': 1, 'chivalry': 2, 'protection': 2, 'gender-roles': 1, 'gender-stereotypes': 2, 'lock-and-key': 1, 'infatuation': 5, 'dursley': 2, 'news': 1, 'luck': 2, 'islam': 1, 'recovery': 1, 'explain': 1, 'gossip': 2, 'public-opinion': 1, 'governments': 1, 'killing': 1, 'law': 1, 'murder': 1, 'nationalism': 1, 'nations': 1, 'songs': 1, 'christmas': 2, 'socks': 1, 'rachel-elizabeth-dare': 1, 'self-empowerment': 1, 'neighborhoods': 1, 'brain': 1, 'arrow': 1, 'inej': 1, 'suli-poverb': 1, 'calling': 1, 'ferocity': 1, 'devotion': 1, 'dark': 1, 'close': 1, 'extremely': 1, 'foer': 1, 'incredibly': 1, 'jonathan': 1, 'loud': 2, 'safran': 1, 'agama': 1, 'agnosticism': 1, 'misattributed-grace-hopper': 1, 'misattributed-william-g-t-shedd': 1, 'dreamer': 1, 'liar': 1, 'make-believe': 1, 'wisher': 1, 'wishes': 3, 'katniss-everdeen': 3, 'peeta-mellark': 4, 'not-alone': 1, 'atlas': 1, 'shrugged': 1, 'realist': 1, 'annabeth-chase': 5, 'decisions': 2, 'romeo-and-juliet': 2, 'athena': 2, 'poseidon': 1, 'claire-fraser': 1, 'historical-fiction': 1, 'time-travel': 1, 'clothing': 1, 'truth-lies': 1, 'serenity': 2, 'autumn': 2, 'october': 1, 'thankfulness': 2, 'reading-secrets': 1, 'pretty': 2, 'dramatist-quotes': 1, 'struggle': 1, 'never-stop-believing': 1, 'never-stop-learning': 1, 'try': 1, 'trying': 2, 'forgiving': 1, 'grieving': 1, 'mentoring': 3, 'reasoning': 1, 'brotherhood-of-man': 1, 'scout': 2, 'henry-miller': 1, 'design': 1, 'foolproof': 1, 'ingenuity': 1, 'pijamas': 1, 'benediction': 4, 'johnny-cade': 1, 'ponyboy-curtis': 1, 'ralph-macchio': 1, 'difficulty': 1, 'storms': 1, 'teaching': 1, 'plants': 1, 'wilderness': 1, 'imperfection': 1, 'burdens': 1, 'unburdening': 1, 'weight': 1, 'enterprise': 1, 'confidences': 1, 'sharing-secrets': 1, 'awesome': 2, 'deceit': 1, 'shock': 1, 'top-8': 1, 'obedience': 1, 'addiction': 2, 'alchohol': 1, 'drugs': 2, 'melancholy': 1, '2013': 1, 'james-carstairs': 1, 'william-herondale': 2, 'finale-of-middlemarch': 1, 'tintern-abbey': 1, 'inevitability': 1, 'spring': 2, 'jesus': 2, 'women-mothers': 1, 'acts-of-kindness': 1, 'dan-brown': 1, 'ugly': 1, 'gondor': 1, 'relaxation': 1, 'british': 1, 'social-commentary': 2, 'thumb': 1, 'towel': 1, 'golda': 1, 'meir': 1, 'conversations': 1, 'distractions': 1, 'quiet': 1, 'forcasting': 1, 'mottos': 1, 'winter': 3, 'direction': 2, 'flying-spirit': 1, 'winds': 1, 'winds-of-life': 1, 'fahrenheit-451': 1, 'holden-caulfield': 1, 'run': 2, 'save': 1, 'rythmic': 1, 'thoughtful': 1, 'homicide': 1, 'dr-seuss': 3, 'life-pattern': 1, 'service': 3, 'newspapers': 1, 'impact': 1, 'reach-out': 1, 'goodwill': 1, 'goodbyes': 1, 'young-at-heart': 1, 'youth': 4, 'youthfulness': 1, 'nora': 3, 'patch': 5, 'mad-hatter': 1, 'nonsense': 2, 'betrayal': 2, 'deception': 2, 'water': 3, 'witchcraft': 1, 'witches': 1, 'dangerous': 1, 'sentimentality': 1, 'habits': 1, 'becca-fitzpatrick': 2, 'hush-hush': 1, 'heartbreaking': 1, 'the-book-thief': 1, 'benjamin-button': 1, 'defend': 1, 'fantasy-books': 1, 'nietzsche': 1, 'skeptic': 2, 'missed-chances': 2, 'defenses': 1, 'thorns': 1, 'destruction': 2, 'democracy': 2, 'government': 1, 'charming': 1, 'tedious': 1, 'privacy': 1, 'safety': 1, 'security': 2, 'heroes': 2, 'oaths': 1, 'metaphysics': 2, 'slaughterhouse-five': 1, 'will-s-letter-to-tessa': 1, 'radiance': 1, 'speed-of-light': 1, 'knowing-others': 1, 'everything': 1, 'seeing': 1, 'teacher': 1, 'beyonce': 1, 'lady-gaga': 1, 'mirror': 2, 'play': 1, 'rewind': 1, 'stop': 1, 'valentine': 1, 'little-women': 1, 'louisa-may-alcott': 1, 'cartoonist': 1, 'depressing': 3, 'hopeless': 1, 'beautiful': 4, 'blood': 2, 'mouth': 1, 'museums': 1, 'parks': 1, 'sensation': 1, 'sex-appeal': 1, 'snow': 2, 'fight': 3, 'legacy': 1, 'attention': 1, 'lewis': 1, 'misery': 1, 'marilyn-monroe': 3, 'draco-malfoy': 1, 'quotation': 1, 'horror': 2, 'fred': 1, 'haiku': 2, 'sonnet-xvii': 1, 'the-choice': 1, 'ghost': 1, 'jesper': 1, 'college': 1, 'semicolons': 1, 'cynical': 2, 'dead': 2, 'warriors': 1, 'neurosis': 1, 'couples': 2, 'need': 1, 'ya': 1, 'agency': 1, 'god-religion-happiness': 1, 'apocryphal': 1, 'life-truths': 1, 'reality-check': 1, 'tragedy': 2, 'unfairness': 1, 'inspirational-ship-storms': 1, 'on-writing': 3, 'writing-from-the-heart': 1, 'mothers': 2, 'boredom': 1, 'old-books': 1, 'old-age': 1, 'misattributed-kurt-cobain': 1, 'frodo': 1, 'amazing-writing': 1, 'aesthetics': 1, 'hidden-things': 1, 'courtroom-drama': 1, 'abe-mazur': 1, 'last-sacrifice': 1, 'rosemarie-hathaway': 1, 'discovery': 3, 'eccentric': 1, 'house': 1, 'windows': 1, 'nothing': 1, 'incrementalism': 1, 'pets': 1, 'shelter': 1, 'kvothe': 1, 'man-s': 1, 'name': 1, 'wind': 1, 'sense': 1, 'gray-book': 1, 'hodge': 1, 'sci-fi': 1, 'vorkosigan': 1, 'cracks': 1, 'peeves': 1, 'umbridge': 1, 'forgive': 1, 'die': 2, 'will': 2, 'spiritual-growth': 2, 'satirical': 1, 'heal': 1, 'safe': 1, 'albert': 1, 'equations': 1, 'wayfinding': 1, 'humor-tattoo': 1, 'babies': 1, 'children-s-literature': 1, 'idiocy': 1, 'concern': 1, 'understanding-others': 2, 'apocalypse': 1, 'misattributed-stephen-hawking': 1, 'jacob': 1, 'meyer': 1, 'challenges': 3, 'catatonia': 1, 'coma': 1, 'cinna': 1, 'catching-fire': 3, 'foreshadowing': 1, 'macbeth': 1, 'hindsight': 1, 'inner-life': 2, 'hopelessness': 2, 'philosophical': 1, 'diary': 1, 'musical': 1, 'being-yourself': 1, 'shine': 1, 'vegetarianism': 1, 'submission': 1, 'superiority': 1, 'power-of-music': 2, 'ocean': 1, 'thankful': 2, 'prank': 2, 'self-help': 1, 'deep': 2, 'sharing': 2, 'katniss-and-peeta': 1, 'frienship': 1, 'mail': 1, 'simon_bolivar-s_labyrinth': 1, 'positive-attitude': 2, 'vampire-academy': 1, 'atoms': 1, 'cosmos': 1, 'dna': 1, 'films': 1, 'story-people': 1, 'phenomenal-woman': 1, 'shadowhunters': 1, 'coffee': 1, 'companionship': 2, 'single': 1, 'spinsterhood': 1, 'on-the-road': 1, 'sal-paradise': 1, 'lover': 2, 'person': 1, 'desperate': 1, 'losing': 1, 'nostalgia': 1, 'dog': 1, 'famous': 1, 'valour': 1, 'mara-dyer': 1, 'bad-day': 1, 'inconvenient': 1, 'loyalty': 1, 'insincerity': 1, 'role-models': 1, 'barriers': 1, 'failures': 1, 'demographics': 1, 'common-experience': 1, 'taking-chances': 1, 'incredibly-true': 1, 'mutuality': 1, 'reciprocity': 1, 'aloneness': 1, 'common-ground': 1, 'loved-ones': 1, 'behind': 1, 'of': 1, 'thing': 1, 'assassin': 1, 'inkheart': 1, 'labels': 1, 'names': 1, 'enjoy': 1, 'separation': 1, 'academy': 1, 'mead': 1, 'richelle': 1, 'at-first-sight': 1, 'tough-times': 1, 'rich': 1, 'rich-heart': 1, 'richness': 1, 'comfort-zone': 1, 'start-up': 1, 'step-out-of-your-comfort-zone': 1, 'toltec-wisdom': 1, 'self-loathing': 1, 'mermaids': 2, 'no-fear': 1, 'sea': 1, 'selfishness': 2, 'limit': 1, 'potential': 2, 'sweet': 3, 'craziness': 1, 'unique': 2, 'arts': 1, 'initiative': 2, 'adoration': 1, 'anxiety': 1, 'dizziness': 1, 'eastern-philosophy': 1, 'challanges': 1, 'beatnik': 1, 'misattributed-betty-white': 1, 'lamp': 1, 'warrior': 1, 'the-mortal-instruments': 1, 'tmi': 1, 'individualism': 1, 'lena-holoway': 1, '2008': 1, 'morning': 1, 'waking-up': 1, 'defiant': 1, 'self-belief': 1, 'self-worth': 1, 'fountainhead': 1, 'diary-entry': 1, 'internet': 1, 'pedophile': 1, 'pedophilia': 1, '2012': 1, 'blog': 1, 'shelves': 1, 'high-school': 1, 'teenage-love': 1, 'fellowship': 1, 'gamgee': 1, 'hobbit': 1, 'samwise': 1, 'tolkien': 1, 'tired': 1, 'recollection': 1, 'systems': 1, 'give': 2, 'mothers-day': 1, 'propaganda': 2, 'rewriting-history': 1, 'anne-rice': 1, 'pandora': 1, 'teasing': 1, 'malfoy': 1, 'unbreakable-vow': 1, 'speech': 1, 'grammar': 1, 'self-sacrifice': 2, 'heartfelt': 1, 'shame': 1, 'maia': 1, 'judging-from-experience': 1, 'unseen': 1, 'honor': 1, 'personal-responsibility': 2, 'elections': 1, 'rulers': 1, 'ruby': 1, 'childhood-memory': 1, 'jordan-kyle': 1, 'clean': 1, 'dirt': 1, 'good-evil': 1, 'adam': 1, 'ignite-me': 1, 'unbreakable': 1, 'canoodle': 1, 'magnificent': 1, 'zsadist': 1, 'trials-of-life': 1, 'absurdities': 1, 'atrocities': 1, 'barbarity': 1, 'injustice': 1, 'skepticism': 1, 'innocence': 3, 'right-of-passage': 1, 'silly-chinese-canadian-baby-man': 1, 'narrator': 1, 'the-great-gatsby': 1, 'novelty': 1, 'soulmates': 1, 'misattributed-george-santayana': 1, 'dare': 1, 'waste': 1, 'dissapointment': 1, 'athe-plague-of-dives': 1, 'dissatisfaction': 1, 'thanksgiving': 2, 'good-books': 1, 'diplomacy': 1, 'ruby-anger': 1, 'flowers': 1, 'sky': 1, 'james-bond': 1, 'fallen-angels': 1, 'devil': 1, 'escape': 1, 'intoxication': 1, 'suess': 1, 'wilhelm-stekel': 1, 'posiedon': 1, 'the-lightning-thief': 1, 'zeus': 1, 'e-readers': 1, 'kindle': 1, 'immature': 1, 'young': 1, 'own': 1, 'things': 1, 'advice-for-writers': 1, 'awareness': 2, 'mythological': 1, 'paradise': 1, 'changes': 1, 'exploration': 1, 'layken': 1, 'slammed': 1, 'disease': 1, 'reality-bothered': 1, 'inspirational-human-spirit': 1, 'alec': 1, 'max': 1, 'men-and-women': 1, 'prose': 1, 'control': 1, 'organized-religion': 2, 'mother': 1, 'adrian-ivashkov': 1, 'intent': 1, 'humor-mustache': 1, 'life-dreams': 1, 'demon': 1, 'pox': 1, 'novelist': 1, 'ghosts': 1, 'haunt': 1, 'appearance': 1, 'jokes': 1, 'before-i-fall': 1, 'young-adult-fiction': 2, 'denial': 1, 'risk-taking': 1, 'peer-pressure': 2, 'boldness': 1, 'food-discussion': 1, 'peanut-butter': 1, 'tyson': 1, 'just-do-it': 1, 'proactivity': 1, 'volunteerism': 1, 'expression': 1, 'finding-your-voice': 1, 'haunting': 1, 'humor-sarcasm': 1, 'reputation': 1, 'inventing-humor': 1, 'intellect': 1, 'forgetfulness': 1, 'psychotherapist': 1, 'visions': 1, 'ecology': 1, 'witch': 1, 'confused': 1, 'age-adult': 1, 'crescendo': 1, 'paradox': 2, 'host': 1, 'ian': 1, 'jamie': 1, 'jared': 1, 'melanie': 1, 'uncle-jeb': 1, 'wanda': 1, 'sonnet': 1, 'agree': 1, 'abraham-lincoln': 1, 'bathing': 1, 'reticence': 1, 'woman': 2, 'women-s-strenth': 1, 'dorian-gray': 1, 'robert-foster': 1, 'love-friendship': 1, 'celaena-sardothien': 2, 'chaol-westfall': 1, 'books-bible': 1, 'greedy': 1, 'myself': 1, 'selfish': 1, 'fresh-starts': 1, 'new-beginnings': 1, 'reinvention': 1, 'alyson': 1, 'evermore': 1, 'immortals': 1, 'noel': 1, 'elite': 1, 'elitism': 1, 'elitist': 1, 'voter': 1, 'voting': 1, 'stories-writing': 1, 'self-knowledge': 1, 'book-the-count-of-monte-cristo': 1, 'puck': 1, 'bridge': 1, 'dhampir': 1, 'promise': 1, 'stake': 1, 'strigoi': 1, 'mormont': 1, 'cruelty': 1, 'alaska-young': 1, 'blackjack': 1, 'dionysus': 1, 'birthday': 1, 'hagrid': 1, 'pig': 1, 'wizard': 2, 'injuries': 1, 'doubt': 1, 'records': 1, 'gaiman': 1, 'gandhi': 1, 'martyrdom': 1, 'misattributed-to-albert-camus': 1, 'pacifism': 1, 'principles': 1, 'muggles': 1, 'aristotle': 1, 'great-minds': 1, 'buddism': 1, 'mourning': 1, 'broken-families': 1, 'divorce': 1, 'family-ties': 1, 'soul-ties': 1, 'the-nature-of-family': 1, 'true-family': 1, 'absence': 1, 'grandmothers': 1, 'grandparents': 1, 'walking': 1, 'whiskey': 1, 'on-fiction': 2, 'concealment': 1, 'dark-plans': 1, 'stealth': 1, 'femininity': 1, 'essay': 1, 'lecture': 1, 'nonfiction': 1, 'transcendentalism': 1, 'morganvillevampires': 1, 'capability': 1, 'possibility': 1, 'skills': 1, 'sexuality': 1, 'wisedom': 1, 'this-lullaby': 1, 'anais': 1, 'nin': 1, 'gonzo': 1, 'detection': 1, 'evidence': 1, 'obviousness': 1, 'sherlock-holmes': 1, 'assumptions': 1, 'close-mindedness': 1, 'isaac-asimov': 1, 'open-minds': 1, 'receptivity': 1, 'science-of-mind': 1, 'christina': 1, 'veronica-roth': 1, 'anarchy': 1, 'lateral-thinking': 1, 'rationalism': 1, 'zarek': 1, 'april': 1, 'dystopia': 1, 'possiblity': 1, 'drunk': 1, 'wine': 1, 'confession': 1, 'excuses': 1, 'aciman': 1, 'call-me-by-your-name': 1, 'italy': 1, 'intellectuals': 1, 'scholars': 1, 'knowledge-power': 1, 'elizabethan': 1, 'robin-goodfellow': 1, 'angel': 1, 'nora-grey': 1, 'chapter-one': 1, 'city-of-lost-souls': 1, 'limitations': 1, 'talents': 1, 'falling': 1, 'lesson-on-living': 1, 'paramore': 1, 'singer': 1, 'stand': 1, 'unhappy-life': 1, 'love-quotes': 1, 'clock': 1, 'ticking': 1, 'all-the-bright-places': 1, 'discipline': 1, 'grisha': 1, 'the-beatrice-letters': 1, 'honest': 1, 'integrity-quotes': 1, 'listen': 1, 'speak': 1, 'death-of-a-loved-one': 1, 'force': 1, 'idiots': 1, 'life-humor': 1, 'adults': 1, 'antoine-de-saint-exupery': 1, 'realization': 1, 'sebastian': 1, 'valentine-morgenstern': 1, 'antipathy': 1, 'dislike': 1, 'talk': 1, 'stephen-chbosky': 1, 'trap': 1, 'openness': 1, 'atheist': 1, 'church': 1, 'swear': 1, 'afraid': 1, 'frolick': 1, 'remember': 1, 'twirl': 1, 'connecting': 1, 'rebirth': 1, 'inequality': 1, 'hunger-games-peeta-katniss': 1, 'the-selection': 1, 'doctor-who': 1, 'dracula': 1, 'misattributed-to-chalmers': 1, 'misattributed-to-joseph-addison': 1, 'misattributed-to-kant': 1, 'misattributed-tom-bodett': 1, 'rena-silverman': 1, 'samuel-beckett': 1, 'new-england-wisdom': 1, 'celebrity': 1, 'aspirations': 1, 'ardor': 1, 'heathcliff': 1, 'cows': 1, 'pigs': 1, 'sausage': 1, 'question': 1, 'thought-provoking': 1, 'characters': 1, 'touchstones': 1, 'true-to-self': 1, 'wring': 1, 'lust': 1, 'misattributed-goethe': 1, 'today': 1, 'just-listen': 1, 'owen': 1, 'sara-dessen': 1}\n"
     ]
    }
   ],
   "source": [
    "# Let me create a Python dictionary to store the tag and it's corresponding frequency throughout this dataset.\n",
    "tag_freq = {}\n",
    "\n",
    "for row_tag in tags:\n",
    "    for tag in row_tag:\n",
    "        if tag in tag_freq:\n",
    "            tag_freq[tag] += 1\n",
    "        else:\n",
    "            tag_freq[tag] = 1\n",
    "\n",
    "print(tag_freq)"
   ]
  },
  {
   "cell_type": "code",
   "execution_count": 22,
   "metadata": {},
   "outputs": [
    {
     "name": "stdout",
     "output_type": "stream",
     "text": [
      "[('love', 327), ('inspirational', 319), ('life', 295), ('humor', 254), ('books', 141), ('inspiration', 87), ('reading', 86), ('happiness', 68), ('writing', 67), ('inspirational-quotes', 65), ('friendship', 63), ('wisdom', 62), ('truth', 61), ('philosophy', 60), ('optimism', 48), ('living', 48), ('life-quotes', 48), ('death', 47), ('hope', 46), ('poetry', 45), ('romance', 45), ('positive-affirmation', 41), ('positive-thinking', 41), ('women', 40), ('life-lessons', 40), ('optimistic', 40), ('positive', 40), ('positive-life', 40), ('inspire', 38), ('inspiring', 38), ('courage', 37), ('life-and-living', 36), ('change', 34), ('pain', 34), ('funny', 34), ('inspirational-life', 34), ('relationships', 33), ('religion', 32), ('dreams', 31), ('music', 31), ('fear', 31), ('jace-wayland', 29), ('friends', 28), ('strength', 28), ('freedom', 28), ('god', 28), ('inspirational-attitude', 28), ('motivational', 27), ('loneliness', 27), ('science', 26), ('beauty', 26), ('time', 25), ('motivation', 25), ('success', 24), ('clary-fray', 23), ('education', 22), ('art', 22), ('faith', 22), ('sadness', 22), ('individuality', 21), ('humour', 21), ('self-determination', 20), ('men', 20), ('kindness', 19), ('trust', 18), ('jace', 18), ('humanity', 18), ('heart', 18), ('reality', 17), ('knowledge', 17), ('empowerment', 17), ('grief', 17), ('future', 17), ('be-yourself', 16), ('imagination', 16), ('harry-potter', 16), ('loss', 16), ('learning', 15), ('marriage', 15), ('dumbledore', 15), ('literature', 15), ('family', 15), ('war', 15), ('peace', 14), ('failure', 14), ('world', 14), ('travel', 14), ('people', 14), ('letting-go', 14), ('bravery', 13), ('mortal-instruments', 13), ('compassion', 13), ('suffering', 13), ('identity', 13), ('depression', 13), ('words', 13), ('honesty', 12), ('soul', 12), ('lies', 12), ('intelligence', 12), ('heartbreak', 12), ('children', 12), ('sarcasm', 12), ('independence', 12), ('feminism', 12), ('confidence', 11), ('character', 11), ('light', 11), ('belief', 11), ('stories', 11), ('magic', 11), ('politics', 11), ('solitude', 11), ('will-herondale', 11), ('percy-jackson', 11), ('mistakes', 10), ('forgiveness', 10), ('hate', 10), ('past', 10), ('paraphrased', 10), ('fantasy', 10), ('work', 10), ('mind', 10), ('smile', 10), ('atheism', 10), ('nature', 10), ('sex', 10), ('experience', 10), ('gratitude', 10), ('human-nature', 9), ('memory', 9), ('disappointment', 9), ('integrity', 9), ('animals', 9), ('goodness', 9), ('power-of-words', 9), ('city-of-bones', 9), ('john-green', 9), ('the-fault-in-our-stars', 9), ('thinking', 9), ('beatles', 9), ('adventure', 9), ('age', 9), ('understanding', 9), ('growth', 9), ('laughter', 9), ('suicide', 9), ('spirituality', 9), ('moving-on', 9), ('simile', 8), ('hurt', 8), ('insanity', 8), ('fate', 8), ('katniss', 8), ('food', 8), ('sad', 8), ('nicholas-sparks', 8), ('stars', 8), ('magnus-bane', 8), ('ignorance', 8), ('silence', 8), ('healing', 8), ('hell', 8), ('acceptance', 8), ('stupidity', 7), ('sleep', 7), ('action', 7), ('carpe-diem', 7), ('darkness', 7), ('misattributed-mark-twain', 7), ('dream', 7), ('live', 7), ('perception', 7), ('misattributed-eleanor-roosevelt', 7), ('activism', 7), ('dreaming', 7), ('morality', 7), ('growing-up', 7), ('self-discovery', 7), ('fighting', 7), ('respect', 7), ('evil', 7), ('man', 7), ('hunger-games', 7), ('joy', 7), ('worry', 7), ('perseverance', 7), ('leadership', 7), ('crying', 7), ('reason', 7), ('history', 7), ('universe', 6), ('lying', 6), ('choices', 6), ('fairy-tales', 6), ('peeta', 6), ('girls', 6), ('tfios', 6), ('desire', 6), ('passion', 6), ('scars', 6), ('attitude', 6), ('christianity', 6), ('memories', 6), ('empathy', 6), ('anger', 6), ('clary', 6), ('believe', 6), ('night', 6), ('libraries', 6), ('city-of-glass', 6), ('adversity', 6), ('self', 6), ('persistence', 6), ('simon', 6), ('living-life', 6), ('kiss', 6), ('goodbye', 6), ('tears', 6), ('patience', 6), ('dance', 5), ('madness', 5), ('misattributed-to-einstein', 5), ('dogs', 5), ('library', 5), ('cats', 5), ('the-hunger-games', 5), ('emotion', 5), ('mankind', 5), ('romantic', 5), ('greatness', 5), ('simon-lewis', 5), ('creativity', 5), ('self-awareness', 5), ('sacrifice', 5), ('human', 5), ('value', 5), ('secrets', 5), ('wit', 5), ('encouragement', 5), ('edward', 5), ('ron-weasley', 5), ('giving', 5), ('happy', 5), ('self-reliance', 5), ('destiny', 5), ('life-philosophy', 5), ('poem', 5), ('feelings', 5), ('justice', 5), ('six-of-crows', 5), ('regret', 5), ('perspective', 5), ('true-love', 5), ('emotions', 5), ('forgetting', 5), ('alice-in-wonderland', 5), ('clockwork-angel', 5), ('spiritual', 5), ('comfort', 5), ('vampire', 5), ('joke', 5), ('flying', 5), ('parents', 5), ('goals', 5), ('thoughts', 5), ('longing', 5), ('wonder', 5), ('appreciation', 5), ('self-esteem', 5), ('wise', 5), ('society', 5), ('language', 5), ('infatuation', 5), ('annabeth-chase', 5), ('patch', 5), ('infinity', 4), ('ataraxy', 4), ('enemies', 4), ('classic', 4), ('contentment', 4), ('present', 4), ('widely-misattributed', 4), ('misattributed-to-mother-teresa', 4), ('chocolate', 4), ('comedy', 4), ('calvin-and-hobbes', 4), ('perfection', 4), ('good', 4), ('dreamers', 4), ('fame', 4), ('school', 4), ('writers', 4), ('advice', 4), ('fashion', 4), ('the-notebook', 4), ('trial', 4), ('gender', 4), ('money', 4), ('sin', 4), ('meaning-of-life', 4), ('divergent', 4), ('fearless', 4), ('sorrow', 4), ('opinions', 4), ('pride', 4), ('cassandra-clare', 4), ('mockingjay', 4), ('meaning', 4), ('existence', 4), ('expectations', 4), ('mythology', 4), ('virtue', 4), ('home', 4), ('einstein', 4), ('temptation', 4), ('inspirational-quote', 4), ('authentic-living', 4), ('sense-of-wonder', 4), ('mercy', 4), ('irony', 4), ('self-confidence', 4), ('isabelle-lightwood', 4), ('science-fiction', 4), ('hypocrisy', 4), ('risk', 4), ('purpose', 4), ('true', 4), ('looking-for-alaska', 4), ('leader', 4), ('olympians', 4), ('misattributed', 4), ('hatred', 4), ('parenting', 4), ('equality', 4), ('ethics', 4), ('cry', 4), ('live-in-the-moment', 4), ('tessa-gray', 4), ('city-of-ashes', 4), ('self-respect', 4), ('morals', 4), ('childhood', 4), ('helping-others', 4), ('peeta-mellark', 4), ('benediction', 4), ('youth', 4), ('beautiful', 4), ('friend', 3), ('strategy', 3), ('conformity', 3), ('actions', 3), ('dragons', 3), ('literacy', 3), ('thought', 3), ('suzanne-collins', 3), ('tea', 3), ('pleasure', 3), ('possibilities', 3), ('nerdfighters', 3), ('authors', 3), ('attributed', 3), ('journey', 3), ('teen-fantasy', 3), ('snape', 3), ('dying', 3), ('wealth', 3), ('choice', 3), ('sun', 3), ('introspection', 3), ('sanity', 3), ('conscience', 3), ('book', 3), ('alone', 3), ('achievement', 3), ('bible', 3), ('the-perks-of-being-a-wallflower', 3), ('judgement', 3), ('seasons', 3), ('fiction', 3), ('self-deception', 3), ('anais-nin', 3), ('song', 3), ('finnick', 3), ('problems', 3), ('fred-weasley', 3), ('george-weasley', 3), ('inspirational-love', 3), ('qotd', 3), ('authenticity', 3), ('heartache', 3), ('bella', 3), ('a-court-of-mist-and-fury', 3), ('unrequited-love', 3), ('humorous', 3), ('souls', 3), ('affection', 3), ('communication', 3), ('day', 3), ('attraction', 3), ('talent', 3), ('creation', 3), ('classic-insult', 3), ('crazy', 3), ('determination', 3), ('books-reading', 3), ('elizabeth-bennet', 3), ('dignity', 3), ('corruption', 3), ('responsibility', 3), ('power', 3), ('jem-carstairs', 3), ('curiosity', 3), ('censorship', 3), ('prayer', 3), ('double-standards', 3), ('brave', 3), ('moon', 3), ('being-loved', 3), ('focus', 3), ('leaders', 3), ('being-positive', 3), ('listening', 3), ('metaphor', 3), ('relationship', 3), ('self-expression', 3), ('storytelling', 3), ('unhappiness', 3), ('values', 3), ('book-lovers', 3), ('dimitri', 3), ('rose', 3), ('flight', 3), ('self-improvement', 3), ('misattributed-george-carlin', 3), ('new-year', 3), ('last-words', 3), ('survival', 3), ('trees', 3), ('enjoy-life', 3), ('clockwork-prince', 3), ('learn', 3), ('self-acceptance', 3), ('kind', 3), ('crime', 3), ('quip', 3), ('drinking', 3), ('voice', 3), ('alec-lightwood', 3), ('open-mindedness', 3), ('holden', 3), ('obsession', 3), ('psychology', 3), ('quotes', 3), ('city-of-fallen-angels', 3), ('jace-lightwood', 3), ('liberty', 3), ('yearning', 3), ('wishes', 3), ('katniss-everdeen', 3), ('mentoring', 3), ('winter', 3), ('dr-seuss', 3), ('service', 3), ('nora', 3), ('water', 3), ('depressing', 3), ('fight', 3), ('marilyn-monroe', 3), ('on-writing', 3), ('discovery', 3), ('challenges', 3), ('catching-fire', 3), ('sweet', 3), ('innocence', 3), ('misattributed-oscar-wilde', 2), ('heaven', 2), ('sing', 2), ('wish', 2), ('sirius-black', 2), ('misattributed-ben-franklin', 2), ('gold', 2), ('lost', 2), ('roots', 2), ('wander', 2), ('abilities', 2), ('aliteracy', 2), ('miracles', 2), ('remaining-silent', 2), ('misattributed-john-lennon', 2), ('apathy', 2), ('mischief', 2), ('read', 2), ('procrastination', 2), ('albus-dumbledore', 2), ('sisters', 2), ('deadlines', 2), ('simplicity', 2), ('misattributed-to-c-s-lewis', 2), ('yourself', 2), ('exercise', 2), ('seuss', 2), ('television', 2), ('scifi', 2), ('impossible', 2), ('misattributed-a-a-milne', 2), ('wallflower', 2), ('open-mind', 2), ('judge', 2), ('piglet', 2), ('pooh', 2), ('connection', 2), ('facts', 2), ('knowing', 2), ('poverty', 2), ('humans', 2), ('fairytales', 2), ('pretend', 2), ('philosophy-of-life', 2), ('write', 2), ('limits', 2), ('rebellion', 2), ('augustus-waters', 2), ('dear-john', 2), ('health', 2), ('misattributed-to-marilyn-monroe', 2), ('teachers', 2), ('conflict', 2), ('revenge', 2), ('misattributed-gloria-steinem', 2), ('flaws', 2), ('wounds', 2), ('misattributed-to-gandhi', 2), ('demons', 2), ('worth', 2), ('four', 2), ('tris', 2), ('despair', 2), ('victory', 2), ('lost-love', 2), ('unity', 2), ('weakness', 2), ('smiling', 2), ('gandalf', 2), ('boys', 2), ('charity', 2), ('revelation', 2), ('fact', 2), ('myth', 2), ('ambiguity', 2), ('genius', 2), ('infidelity', 2), ('ideas', 2), ('throne-of-glass', 2), ('logic', 2), ('religious', 2), ('importance', 2), ('secret', 2), ('the-little-prince', 2), ('self-responsibility', 2), ('zen', 2), ('dancing', 2), ('acomaf', 2), ('feyre', 2), ('rhysand', 2), ('humor-reading', 2), ('humanism', 2), ('love-at-first-sight', 2), ('inertia', 2), ('first-sentence', 2), ('advice-for-daily-living', 2), ('reader', 2), ('speaking', 2), ('husband', 2), ('opening-lines', 2), ('wife', 2), ('ego', 2), ('jane-austen', 2), ('isabelle', 2), ('touching', 2), ('fire', 2), ('isolation', 2), ('judgment', 2), ('speaking-out', 2), ('monsters', 2), ('adulthood', 2), ('smiles', 2), ('mortality', 2), ('authentic-self', 2), ('distance', 2), ('mystery', 2), ('physics', 2), ('mindfulness', 2), ('sarah-dessen', 2), ('animal-farm', 2), ('kissing', 2), ('keep-moving-forward', 2), ('expectation', 2), ('appreciate', 2), ('trouble', 2), ('desires', 2), ('crooked-kingdom', 2), ('inej-ghafa', 2), ('truth-telling', 2), ('originality', 2), ('class', 2), ('clichÃ©s', 2), ('misogyny', 2), ('stereotypes', 2), ('nicholas', 2), ('sparks', 2), ('patrick-rothfuss', 2), ('dating', 2), ('taste', 2), ('believe-in-yourself', 2), ('f-scott-fitzgerald', 2), ('transform', 2), ('apollo', 2), ('hot', 2), ('blessed', 2), ('worrying', 2), ('inner-peace', 2), ('seeds', 2), ('think', 2), ('tobias', 2), ('beatitudes', 2), ('bob-marley', 2), ('laugh', 2), ('carroll', 2), ('paranormal-romance', 2), ('self-assurance', 2), ('progress', 2), ('maturity', 2), ('uplifting', 2), ('letting-go-of-the-past', 2), ('living-in-the-present', 2), ('living-now', 2), ('care', 2), ('rationality', 2), ('women-s-rights', 2), ('ambition', 2), ('sandman', 2), ('bibliophiles', 2), ('bad', 2), ('reincarnation', 2), ('lovers', 2), ('hg2g', 2), ('hush', 2), ('cancer', 2), ('humility', 2), ('right', 2), ('revolution', 2), ('questions', 2), ('enemy', 2), ('never-give-up', 2), ('birds', 2), ('ecstasy', 2), ('earth', 2), ('improvement', 2), ('profound', 2), ('opportunity', 2), ('forests', 2), ('caring', 2), ('roses', 2), ('classics', 2), ('awe', 2), ('positivity', 2), ('self-sufficiency', 2), ('answers', 2), ('growing', 2), ('imperfections', 2), ('america', 2), ('wings', 2), ('self-love', 2), ('summer', 2), ('inner-voice', 2), ('common-sense', 2), ('manners', 2), ('challenge', 2), ('creative-process', 2), ('smart', 2), ('birth', 2), ('lonely', 2), ('inner-beauty', 2), ('adaptation', 2), ('writing-advice', 2), ('shakespeare', 2), ('scotland', 2), ('gift', 2), ('foolishness', 2), ('parting', 2), ('jealousy', 2), ('let-go', 2), ('purpose-of-life', 2), ('kill', 2), ('civil-rights', 2), ('chivalry', 2), ('protection', 2), ('gender-stereotypes', 2), ('dursley', 2), ('luck', 2), ('gossip', 2), ('christmas', 2), ('loud', 2), ('decisions', 2), ('romeo-and-juliet', 2), ('athena', 2), ('serenity', 2), ('autumn', 2), ('thankfulness', 2), ('pretty', 2), ('trying', 2), ('scout', 2), ('awesome', 2), ('addiction', 2), ('drugs', 2), ('william-herondale', 2), ('spring', 2), ('jesus', 2), ('social-commentary', 2), ('direction', 2), ('run', 2), ('nonsense', 2), ('betrayal', 2), ('deception', 2), ('becca-fitzpatrick', 2), ('skeptic', 2), ('missed-chances', 2), ('destruction', 2), ('democracy', 2), ('security', 2), ('heroes', 2), ('metaphysics', 2), ('mirror', 2), ('blood', 2), ('snow', 2), ('horror', 2), ('haiku', 2), ('cynical', 2), ('dead', 2), ('couples', 2), ('tragedy', 2), ('mothers', 2), ('die', 2), ('will', 2), ('spiritual-growth', 2), ('understanding-others', 2), ('inner-life', 2), ('hopelessness', 2), ('power-of-music', 2), ('thankful', 2), ('prank', 2), ('deep', 2), ('sharing', 2), ('positive-attitude', 2), ('companionship', 2), ('lover', 2), ('mermaids', 2), ('selfishness', 2), ('potential', 2), ('unique', 2), ('initiative', 2), ('give', 2), ('propaganda', 2), ('self-sacrifice', 2), ('personal-responsibility', 2), ('thanksgiving', 2), ('awareness', 2), ('organized-religion', 2), ('young-adult-fiction', 2), ('peer-pressure', 2), ('paradox', 2), ('woman', 2), ('celaena-sardothien', 2), ('wizard', 2), ('on-fiction', 2), ('gilbert-perreira', 1), ('quote-investigator', 1), ('best', 1), ('out-of-control', 1), ('worst', 1), ('fitting-in', 1), ('misattributed-dr-seuss', 1), ('those-who-matter', 1), ('misattributed-albert-camus', 1), ('drive-out', 1), ('self-deprecation', 1), ('accomplishment', 1), ('advertising', 1), ('apple', 1), ('commercial', 1), ('computers', 1), ('different', 1), ('misattributed-apple', 1), ('misattributed-steve-jobs', 1), ('misfits', 1), ('nonconformity', 1), ('progressive', 1), ('rebels', 1), ('status-quo', 1), ('think-different', 1), ('troublemakers', 1), ('misattributed-marilyn-monroe', 1), ('disappointed', 1), ('explore', 1), ('sail', 1), ('frost', 1), ('glitter', 1), ('strong', 1), ('wither', 1), ('miracle', 1), ('pessimism', 1), ('paraphrasing-g-k-chesterton', 1), ('misattributed-to-abraham-lincoln', 1), ('misattributed-to-mark-twain', 1), ('majority', 1), ('minority', 1), ('pause', 1), ('reflect', 1), ('planning', 1), ('plans', 1), ('edison', 1), ('lack-of-friendship', 1), ('lack-of-love', 1), ('unhappy-marriage', 1), ('indifference', 1), ('opposite', 1), ('misattributed-to-malcolm-x', 1), ('misattributed-to-rosa-parks', 1), ('navigation', 1), ('1929', 1), ('viereck-interview', 1), ('do-wrong', 1), ('wrong', 1), ('obvious', 1), ('readers', 1), ('reading-books', 1), ('deeply-loved', 1), ('source-unknown', 1), ('understand', 1), ('1970', 1), ('essential', 1), ('harry', 1), ('philosophers-stone', 1), ('ron', 1), ('sorcerers-stone', 1), ('doomed', 1), ('inevitable', 1), ('oblivion', 1), ('simple', 1), ('laziness', 1), ('misattributed-to-hutchins', 1), ('satisfaction', 1), ('novelist-quotes', 1), ('anything-can-be', 1), ('musn-t', 1), ('shouldn-t', 1), ('won-t', 1), ('charlie', 1), ('favourite-books', 1), ('soul-searching', 1), ('imperfect', 1), ('weirdness', 1), ('body-soul', 1), ('bilbo', 1), ('quest', 1), ('reassurance', 1), ('drug', 1), ('live-death-love', 1), ('self-indulgence', 1), ('theology', 1), ('adventuring', 1), ('wise-words', 1), ('misattributed-to-emerson', 1), ('teach', 1), ('sinister', 1), ('regrets', 1), ('better-life-empathy', 1), ('akeelah', 1), ('alice', 1), ('psychological', 1), ('yesterday', 1), ('difficult', 1), ('grown-ups', 1), ('strength-and-courage', 1), ('misattributed-to-bill-gates', 1), ('nerd', 1), ('nerds', 1), ('paraphrase-of-congreve', 1), ('scar', 1), ('sweetness', 1), ('philosphy', 1), ('1993', 1), ('complaining', 1), ('invincible', 1), ('teenagers', 1), ('teens', 1), ('hazel', 1), ('privilege', 1), ('hermione', 1), ('misprints', 1), ('violence', 1), ('johngreen', 1), ('lookingforalaska', 1), ('misanthropy', 1), ('image', 1), ('realism', 1), ('clothes', 1), ('children-s-books', 1), ('commerce', 1), ('principle', 1), ('sins', 1), ('worship', 1), ('santiago', 1), ('luke', 1), ('teenager', 1), ('bene-gesserit', 1), ('litany-against-fear', 1), ('proverb', 1), ('nico', 1), ('tolstoy', 1), ('dauntless', 1), ('glittering-eyes', 1), ('hidden', 1), ('unlikely-places', 1), ('watch', 1), ('parties', 1), ('social', 1), ('coldness', 1), ('paraphrase-of-lewis-carroll', 1), ('loner', 1), ('breaking-up', 1), ('mr-darcy', 1), ('culture', 1), ('falling-apart', 1), ('giving-in', 1), ('misattributed-bill-cosby', 1), ('freethinker', 1), ('mad', 1), ('misattributed-john-wayne', 1), ('misattributed-douglas-adams', 1), ('paper-towns', 1), ('ordinary', 1), ('vlog', 1), ('timelessness', 1), ('misattributed-cassandra-clare', 1), ('misattributed-jace', 1), ('bella-swan', 1), ('biscuit', 1), ('james-potter', 1), ('remus-lupin', 1), ('wormtail', 1), ('shampoo', 1), ('misattributed-audrey-hepburn', 1), ('triumph', 1), ('bookroom', 1), ('telekinetics', 1), ('jail', 1), ('ebay', 1), ('uncertainty', 1), ('unpredictability', 1), ('friends-betrayal', 1), ('humor-wicked-reading', 1), ('sphinx-without-a-secret', 1), ('breakup', 1), ('qoutes-on-writing', 1), ('everyday-life', 1), ('observational-comedy', 1), ('humor-heaven', 1), ('boggs', 1), ('odair', 1), ('witty', 1), ('chemistry', 1), ('sarah-j-maas', 1), ('oprah-s-thank-you-game', 1), ('trials', 1), ('automobile', 1), ('car', 1), ('pixie-dust', 1), ('winnie', 1), ('timidity', 1), ('beginnings', 1), ('fresh-start', 1), ('mistake', 1), ('new-day', 1), ('start-over', 1), ('tomorrow', 1), ('ache', 1), ('chapter-24', 1), ('rue', 1), ('fear-unknown', 1), ('books-vacation', 1), ('eating-reading', 1), ('fairies', 1), ('nightmares', 1), ('misattributed-to-a-a-milne', 1), ('saint-sinner', 1), ('dave-matthews', 1), ('requirements', 1), ('feathers', 1), ('bath', 1), ('heartwarming', 1), ('human-connections', 1), ('breath', 1), ('allegory', 1), ('broad-mindedness', 1), ('imagery', 1), ('dharma', 1), ('reflection', 1), ('running', 1), ('misattributed-einstein', 1), ('letters', 1), ('alive', 1), ('congratulations', 1), ('popularity', 1), ('consul', 1), ('atticus-finch', 1), ('wishing', 1), ('experience-mistakes-wisdom', 1), ('ideals', 1), ('martyr', 1), ('astronomer', 1), ('writer', 1), ('leaving', 1), ('nerdfighter', 1), ('convictions', 1), ('criticism', 1), ('inspirational-faith', 1), ('anne', 1), ('frank', 1), ('creative', 1), ('life-choices-fig-trees', 1), ('writer-s-life', 1), ('funeral', 1), ('stupid', 1), ('americans', 1), ('geography', 1), ('presidential', 1), ('brokenness', 1), ('consistency', 1), ('essence', 1), ('ethos', 1), ('fortitude', 1), ('resolve', 1), ('virtues', 1), ('brown', 1), ('clare', 1), ('flame', 1), ('the-kite-runner', 1), ('1-corinthians-13', 1), ('misquote', 1), ('dark-side', 1), ('molly-weasley-anger', 1), ('dirty', 1), ('logo', 1), ('hmmm', 1), ('being-human', 1), ('puppies', 1), ('rights', 1), ('broccoli', 1), ('pleasures', 1), ('salinger', 1), ('1955', 1), ('mindful', 1), ('just-litsen', 1), ('illiteracy', 1), ('accept-yourself', 1), ('love-yourself', 1), ('life-memories', 1), ('best-friends', 1), ('moi', 1), ('fair', 1), ('sympathy', 1), ('fool', 1), ('self-irony', 1), ('jim', 1), ('morrison', 1), ('dictionary', 1), ('fun', 1), ('chaos', 1), ('belonging', 1), ('company', 1), ('longings', 1), ('awesomeness', 1), ('girl', 1), ('makeup', 1), ('amsterdam', 1), ('amorality', 1), ('correct-way', 1), ('my-way', 1), ('only-way', 1), ('right-way', 1), ('the-way', 1), ('your-way', 1), ('vulnerability', 1), ('god-religion-house', 1), ('christopher-paolini', 1), ('eragon', 1), ('good-reads', 1), ('kaz-brekker', 1), ('humor-satan', 1), ('misattributed-to-groucho-marx', 1), ('advocacy', 1), ('dissent', 1), ('protest', 1), ('alice-s-adventures-in-wonderland', 1), ('anti-christian', 1), ('christians', 1), ('jesus-christ', 1), ('1997', 1), ('annie-clark-tanner-lecture', 1), ('procrastinate', 1), ('drama', 1), ('plays', 1), ('vision', 1), ('name-of-the-wind', 1), ('re-reading', 1), ('busy', 1), ('call', 1), ('dating-advice', 1), ('greg-behrendt', 1), ('guys', 1), ('he-s-not-just-into-you', 1), ('discworld', 1), ('humbert-humbert', 1), ('patriotism', 1), ('tyler-durden', 1), ('grudge', 1), ('broken-glass', 1), ('glass', 1), ('moonshine', 1), ('show-don-t-tell', 1), ('completion', 1), ('grow', 1), ('stay-focused', 1), ('step-out-of-comfort-zone', 1), ('gods', 1), ('thalia', 1), ('hazel-grace', 1), ('who-you-are', 1), ('whole-being', 1), ('less-more', 1), ('life-purpose', 1), ('stress', 1), ('stressed', 1), ('permission', 1), ('plant', 1), ('reap', 1), ('seed', 1), ('sow', 1), ('options', 1), ('rumi', 1), ('sufi', 1), ('calvin-and-hobbes-reality', 1), ('by-anne-sullivan', 1), ('others', 1), ('beatrice', 1), ('waiting', 1), ('cleverness', 1), ('share', 1), ('bookstore', 1), ('towns', 1), ('act', 1), ('criticize', 1), ('doing', 1), ('feeling', 1), ('ponder', 1), ('esist', 1), ('spinning', 1), ('stele', 1), ('reggae', 1), ('unsourced', 1), ('refuge', 1), ('ferret-malfoy', 1), ('death-peace', 1), ('breakfast', 1), ('leigh-bardugo', 1), ('choose', 1), ('fudge', 1), ('minister', 1), ('style', 1), ('independent-thought', 1), ('deep-thoughts', 1), ('reminding', 1), ('sophie-collins', 1), ('lost-innocence', 1), ('moving-forward', 1), ('delusion', 1), ('what-is-right', 1), ('aspiration', 1), ('assurance', 1), ('clouds', 1), ('color', 1), ('conviction', 1), ('sunset', 1), ('good-day', 1), ('how-many', 1), ('how-much', 1), ('live-well', 1), ('eyes', 1), ('lemons', 1), ('alcohol', 1), ('living-life-to-the-fullest', 1), ('diversity', 1), ('seduction', 1), ('albus-potter', 1), ('we-are-what-we-eat', 1), ('we-are-what-we-read', 1), ('you-are-what-you-eat', 1), ('you-are-what-you-read', 1), ('idleness', 1), ('flattery', 1), ('social-norms', 1), ('self-image', 1), ('sense-of-self', 1), ('trauma', 1), ('prejudice', 1), ('vanity', 1), ('recognition', 1), ('chapter-xxiii', 1), ('fuck', 1), ('profanity', 1), ('memoir', 1), ('dare-to-be', 1), ('seize-the-day', 1), ('urban-fantasy', 1), ('young-adult-novels', 1), ('forever', 1), ('what-men-really-want', 1), ('eccentricity', 1), ('chance', 1), ('1931', 1), ('perfect', 1), ('truthful', 1), ('owen-armstrong', 1), ('bereavement', 1), ('consolation', 1), ('investigation', 1), ('albert-einstein', 1), ('hamlet', 1), ('quitting', 1), ('ferret', 1), ('dandy', 1), ('lord-henry-wotton', 1), ('wilde', 1), ('inner-strength', 1), ('self-control', 1), ('remembrance', 1), ('fears', 1), ('amor-deliria-nervosa', 1), ('mask', 1), ('personality', 1), ('together', 1), ('energy', 1), ('the-last-song', 1), ('how', 1), ('questioning', 1), ('why', 1), ('troubles', 1), ('prince-charming', 1), ('taylor-swift', 1), ('abe', 1), ('lincoln', 1), ('apothegm', 1), ('talking', 1), ('final', 1), ('lupin', 1), ('sirius', 1), ('death-and-dying', 1), ('orhan-pamuk', 1), ('the-new-life', 1), ('eleven-minutes', 1), ('paulo-coelho', 1), ('catherine', 1), ('or-the-bower', 1), ('antolini', 1), ('cheese', 1), ('christina-grey', 1), ('e-l-james', 1), ('fifty-shades-of-grey', 1), ('amnesia', 1), ('magic-books', 1), ('endings', 1), ('happy-endings', 1), ('thievery', 1), ('treasure', 1), ('mood-swings', 1), ('shore', 1), ('woods', 1), ('francois-rabelais', 1), ('buddhism', 1), ('space', 1), ('Ø\\xadØ¨', 1), ('excuse', 1), ('chinese', 1), ('crisis', 1), ('danger', 1), ('h2g2', 1), ('hitchhiker-s-guide', 1), ('panic', 1), ('eternity', 1), ('holiness', 1), ('poet', 1), ('hippy', 1), ('william-gladstone', 1), ('needs', 1), ('intimidation', 1), ('stubbornness', 1), ('fearlessness', 1), ('steppenwolf', 1), ('star', 1), ('molly-weasley', 1), ('toilet', 1), ('french-renaissance-writer', 1), ('miles-halter', 1), ('mountains', 1), ('rocks', 1), ('contrast', 1), ('katharine-hepburn', 1), ('theresa-gray', 1), ('sinners', 1), ('defiance', 1), ('self-containment', 1), ('self-trust', 1), ('earnestness', 1), ('gullibility', 1), ('imposters', 1), ('goals-in-life', 1), ('light-and-darkness', 1), ('meaningful', 1), ('meaningful-life', 1), ('real-love', 1), ('reality-of-life', 1), ('those-who-love-us', 1), ('to-be-loved', 1), ('what-matters', 1), ('seperate', 1), ('body-image', 1), ('opposition', 1), ('spirit', 1), ('depression-silence', 1), ('awkward', 1), ('human-condition', 1), ('punishment', 1), ('jordan-baker', 1), ('cynic', 1), ('goal', 1), ('painting', 1), ('education-knowledge', 1), ('humor-cats-allergies', 1), ('machines', 1), ('ginny-weasley', 1), ('jk-rowling', 1), ('stephenie-meyer', 1), ('twilight', 1), ('poets', 1), ('cleanliness', 1), ('consciousness', 1), ('feet', 1), ('purity', 1), ('semantics', 1), ('suspicion', 1), ('david', 1), ('uglies', 1), ('westerfeld', 1), ('road', 1), ('real-life', 1), ('oppression', 1), ('invention', 1), ('self-assessment', 1), ('redemption', 1), ('bossypants', 1), ('tina-fey', 1), ('blues', 1), ('rescuing', 1), ('infinite-jest', 1), ('renewal', 1), ('most-famous-novella', 1), ('be-yourself-inspirational', 1), ('be-yourself-quote', 1), ('be-yourself-quotes', 1), ('enjoy-the-journey', 1), ('move-on', 1), ('lotr', 1), ('arts-and-humanities', 1), ('self-denial', 1), ('self-disclosure', 1), ('generations-intelligence-wisdom', 1), ('inspirational-stories', 1), ('self-realization', 1), ('dark-humor', 1), ('an-abundance-of-katherines', 1), ('joh-green', 1), ('missing', 1), ('feminist', 1), ('flexibility', 1), ('arrogance', 1), ('flirting', 1), ('scared', 1), ('stoicism', 1), ('afternoon', 1), ('december', 1), ('flewn', 1), ('june', 1), ('late', 1), ('soon', 1), ('dishonesty', 1), ('willful-ignorance', 1), ('mummies', 1), ('werewolf', 1), ('zombies', 1), ('good-life', 1), ('insults', 1), ('cynicism', 1), ('enduring', 1), ('going-on', 1), ('barrie', 1), ('kensington-gardens', 1), ('london', 1), ('neverland', 1), ('park', 1), ('peter-pan', 1), ('fallen-anger', 1), ('nephlim', 1), ('statistics', 1), ('injury', 1), ('mortification', 1), ('box', 1), ('eat-pray-love', 1), ('elizabeth-gilbert', 1), ('enthusiasm', 1), ('silliness', 1), ('grudges', 1), ('illusions', 1), ('acorns', 1), ('zoe-nightshade', 1), ('mina', 1), ('van-helsing', 1), ('autonomy', 1), ('bachelorhood', 1), ('matrimony', 1), ('singles', 1), ('emptiness', 1), ('franz-kafka', 1), ('bestseller', 1), ('north-carolina', 1), ('novel', 1), ('romantics', 1), ('greek', 1), ('sorry', 1), ('extraterrestrials', 1), ('intelligent-life', 1), ('mellark', 1), ('twilight-saga', 1), ('make-a-difference', 1), ('castle', 1), ('awesome-quote', 1), ('haymitch', 1), ('description', 1), ('beliefs', 1), ('courage-quotes', 1), ('herondale', 1), ('letter', 1), ('morgenstern', 1), ('wayland', 1), ('angels', 1), ('nagasawa', 1), ('pooh-bear', 1), ('winnie-the-pooh', 1), ('amity', 1), ('free-speech', 1), ('free-will', 1), ('amelia-peabody', 1), ('brave-new-world', 1), ('hunger', 1), ('thirst', 1), ('bibliophilia', 1), ('gender-roles', 1), ('lock-and-key', 1), ('news', 1), ('islam', 1), ('recovery', 1), ('explain', 1), ('public-opinion', 1), ('governments', 1), ('killing', 1), ('law', 1), ('murder', 1), ('nationalism', 1), ('nations', 1), ('songs', 1), ('socks', 1), ('rachel-elizabeth-dare', 1), ('self-empowerment', 1), ('neighborhoods', 1), ('brain', 1), ('arrow', 1), ('inej', 1), ('suli-poverb', 1), ('calling', 1), ('ferocity', 1), ('devotion', 1), ('dark', 1), ('close', 1), ('extremely', 1), ('foer', 1), ('incredibly', 1), ('jonathan', 1), ('safran', 1), ('agama', 1), ('agnosticism', 1), ('misattributed-grace-hopper', 1), ('misattributed-william-g-t-shedd', 1), ('dreamer', 1), ('liar', 1), ('make-believe', 1), ('wisher', 1), ('not-alone', 1), ('atlas', 1), ('shrugged', 1), ('realist', 1), ('poseidon', 1), ('claire-fraser', 1), ('historical-fiction', 1), ('time-travel', 1), ('clothing', 1), ('truth-lies', 1), ('october', 1), ('reading-secrets', 1), ('dramatist-quotes', 1), ('struggle', 1), ('never-stop-believing', 1), ('never-stop-learning', 1), ('try', 1), ('forgiving', 1), ('grieving', 1), ('reasoning', 1), ('brotherhood-of-man', 1), ('henry-miller', 1), ('design', 1), ('foolproof', 1), ('ingenuity', 1), ('pijamas', 1), ('johnny-cade', 1), ('ponyboy-curtis', 1), ('ralph-macchio', 1), ('difficulty', 1), ('storms', 1), ('teaching', 1), ('plants', 1), ('wilderness', 1), ('imperfection', 1), ('burdens', 1), ('unburdening', 1), ('weight', 1), ('enterprise', 1), ('confidences', 1), ('sharing-secrets', 1), ('deceit', 1), ('shock', 1), ('top-8', 1), ('obedience', 1), ('alchohol', 1), ('melancholy', 1), ('2013', 1), ('james-carstairs', 1), ('finale-of-middlemarch', 1), ('tintern-abbey', 1), ('inevitability', 1), ('women-mothers', 1), ('acts-of-kindness', 1), ('dan-brown', 1), ('ugly', 1), ('gondor', 1), ('relaxation', 1), ('british', 1), ('thumb', 1), ('towel', 1), ('golda', 1), ('meir', 1), ('conversations', 1), ('distractions', 1), ('quiet', 1), ('forcasting', 1), ('mottos', 1), ('flying-spirit', 1), ('winds', 1), ('winds-of-life', 1), ('fahrenheit-451', 1), ('holden-caulfield', 1), ('save', 1), ('rythmic', 1), ('thoughtful', 1), ('homicide', 1), ('life-pattern', 1), ('newspapers', 1), ('impact', 1), ('reach-out', 1), ('goodwill', 1), ('goodbyes', 1), ('young-at-heart', 1), ('youthfulness', 1), ('mad-hatter', 1), ('witchcraft', 1), ('witches', 1), ('dangerous', 1), ('sentimentality', 1), ('habits', 1), ('hush-hush', 1), ('heartbreaking', 1), ('the-book-thief', 1), ('benjamin-button', 1), ('defend', 1), ('fantasy-books', 1), ('nietzsche', 1), ('defenses', 1), ('thorns', 1), ('government', 1), ('charming', 1), ('tedious', 1), ('privacy', 1), ('safety', 1), ('oaths', 1), ('slaughterhouse-five', 1), ('will-s-letter-to-tessa', 1), ('radiance', 1), ('speed-of-light', 1), ('knowing-others', 1), ('everything', 1), ('seeing', 1), ('teacher', 1), ('beyonce', 1), ('lady-gaga', 1), ('play', 1), ('rewind', 1), ('stop', 1), ('valentine', 1), ('little-women', 1), ('louisa-may-alcott', 1), ('cartoonist', 1), ('hopeless', 1), ('mouth', 1), ('museums', 1), ('parks', 1), ('sensation', 1), ('sex-appeal', 1), ('legacy', 1), ('attention', 1), ('lewis', 1), ('misery', 1), ('draco-malfoy', 1), ('quotation', 1), ('fred', 1), ('sonnet-xvii', 1), ('the-choice', 1), ('ghost', 1), ('jesper', 1), ('college', 1), ('semicolons', 1), ('warriors', 1), ('neurosis', 1), ('need', 1), ('ya', 1), ('agency', 1), ('god-religion-happiness', 1), ('apocryphal', 1), ('life-truths', 1), ('reality-check', 1), ('unfairness', 1), ('inspirational-ship-storms', 1), ('writing-from-the-heart', 1), ('boredom', 1), ('old-books', 1), ('old-age', 1), ('misattributed-kurt-cobain', 1), ('frodo', 1), ('amazing-writing', 1), ('aesthetics', 1), ('hidden-things', 1), ('courtroom-drama', 1), ('abe-mazur', 1), ('last-sacrifice', 1), ('rosemarie-hathaway', 1), ('eccentric', 1), ('house', 1), ('windows', 1), ('nothing', 1), ('incrementalism', 1), ('pets', 1), ('shelter', 1), ('kvothe', 1), ('man-s', 1), ('name', 1), ('wind', 1), ('sense', 1), ('gray-book', 1), ('hodge', 1), ('sci-fi', 1), ('vorkosigan', 1), ('cracks', 1), ('peeves', 1), ('umbridge', 1), ('forgive', 1), ('satirical', 1), ('heal', 1), ('safe', 1), ('albert', 1), ('equations', 1), ('wayfinding', 1), ('humor-tattoo', 1), ('babies', 1), ('children-s-literature', 1), ('idiocy', 1), ('concern', 1), ('apocalypse', 1), ('misattributed-stephen-hawking', 1), ('jacob', 1), ('meyer', 1), ('catatonia', 1), ('coma', 1), ('cinna', 1), ('foreshadowing', 1), ('macbeth', 1), ('hindsight', 1), ('philosophical', 1), ('diary', 1), ('musical', 1), ('being-yourself', 1), ('shine', 1), ('vegetarianism', 1), ('submission', 1), ('superiority', 1), ('ocean', 1), ('self-help', 1), ('katniss-and-peeta', 1), ('frienship', 1), ('mail', 1), ('simon_bolivar-s_labyrinth', 1), ('vampire-academy', 1), ('atoms', 1), ('cosmos', 1), ('dna', 1), ('films', 1), ('story-people', 1), ('phenomenal-woman', 1), ('shadowhunters', 1), ('coffee', 1), ('single', 1), ('spinsterhood', 1), ('on-the-road', 1), ('sal-paradise', 1), ('person', 1), ('desperate', 1), ('losing', 1), ('nostalgia', 1), ('dog', 1), ('famous', 1), ('valour', 1), ('mara-dyer', 1), ('bad-day', 1), ('inconvenient', 1), ('loyalty', 1), ('insincerity', 1), ('role-models', 1), ('barriers', 1), ('failures', 1), ('demographics', 1), ('common-experience', 1), ('taking-chances', 1), ('incredibly-true', 1), ('mutuality', 1), ('reciprocity', 1), ('aloneness', 1), ('common-ground', 1), ('loved-ones', 1), ('behind', 1), ('of', 1), ('thing', 1), ('assassin', 1), ('inkheart', 1), ('labels', 1), ('names', 1), ('enjoy', 1), ('separation', 1), ('academy', 1), ('mead', 1), ('richelle', 1), ('at-first-sight', 1), ('tough-times', 1), ('rich', 1), ('rich-heart', 1), ('richness', 1), ('comfort-zone', 1), ('start-up', 1), ('step-out-of-your-comfort-zone', 1), ('toltec-wisdom', 1), ('self-loathing', 1), ('no-fear', 1), ('sea', 1), ('limit', 1), ('craziness', 1), ('arts', 1), ('adoration', 1), ('anxiety', 1), ('dizziness', 1), ('eastern-philosophy', 1), ('challanges', 1), ('beatnik', 1), ('misattributed-betty-white', 1), ('lamp', 1), ('warrior', 1), ('the-mortal-instruments', 1), ('tmi', 1), ('individualism', 1), ('lena-holoway', 1), ('2008', 1), ('morning', 1), ('waking-up', 1), ('defiant', 1), ('self-belief', 1), ('self-worth', 1), ('fountainhead', 1), ('diary-entry', 1), ('internet', 1), ('pedophile', 1), ('pedophilia', 1), ('2012', 1), ('blog', 1), ('shelves', 1), ('high-school', 1), ('teenage-love', 1), ('fellowship', 1), ('gamgee', 1), ('hobbit', 1), ('samwise', 1), ('tolkien', 1), ('tired', 1), ('recollection', 1), ('systems', 1), ('mothers-day', 1), ('rewriting-history', 1), ('anne-rice', 1), ('pandora', 1), ('teasing', 1), ('malfoy', 1), ('unbreakable-vow', 1), ('speech', 1), ('grammar', 1), ('heartfelt', 1), ('shame', 1), ('maia', 1), ('judging-from-experience', 1), ('unseen', 1), ('honor', 1), ('elections', 1), ('rulers', 1), ('ruby', 1), ('childhood-memory', 1), ('jordan-kyle', 1), ('clean', 1), ('dirt', 1), ('good-evil', 1), ('adam', 1), ('ignite-me', 1), ('unbreakable', 1), ('canoodle', 1), ('magnificent', 1), ('zsadist', 1), ('trials-of-life', 1), ('absurdities', 1), ('atrocities', 1), ('barbarity', 1), ('injustice', 1), ('skepticism', 1), ('right-of-passage', 1), ('silly-chinese-canadian-baby-man', 1), ('narrator', 1), ('the-great-gatsby', 1), ('novelty', 1), ('soulmates', 1), ('misattributed-george-santayana', 1), ('dare', 1), ('waste', 1), ('dissapointment', 1), ('athe-plague-of-dives', 1), ('dissatisfaction', 1), ('good-books', 1), ('diplomacy', 1), ('ruby-anger', 1), ('flowers', 1), ('sky', 1), ('james-bond', 1), ('fallen-angels', 1), ('devil', 1), ('escape', 1), ('intoxication', 1), ('suess', 1), ('wilhelm-stekel', 1), ('posiedon', 1), ('the-lightning-thief', 1), ('zeus', 1), ('e-readers', 1), ('kindle', 1), ('immature', 1), ('young', 1), ('own', 1), ('things', 1), ('advice-for-writers', 1), ('mythological', 1), ('paradise', 1), ('changes', 1), ('exploration', 1), ('layken', 1), ('slammed', 1), ('disease', 1), ('reality-bothered', 1), ('inspirational-human-spirit', 1), ('alec', 1), ('max', 1), ('men-and-women', 1), ('prose', 1), ('control', 1), ('mother', 1), ('adrian-ivashkov', 1), ('intent', 1), ('humor-mustache', 1), ('life-dreams', 1), ('demon', 1), ('pox', 1), ('novelist', 1), ('ghosts', 1), ('haunt', 1), ('appearance', 1), ('jokes', 1), ('before-i-fall', 1), ('denial', 1), ('risk-taking', 1), ('boldness', 1), ('food-discussion', 1), ('peanut-butter', 1), ('tyson', 1), ('just-do-it', 1), ('proactivity', 1), ('volunteerism', 1), ('expression', 1), ('finding-your-voice', 1), ('haunting', 1), ('humor-sarcasm', 1), ('reputation', 1), ('inventing-humor', 1), ('intellect', 1), ('forgetfulness', 1), ('psychotherapist', 1), ('visions', 1), ('ecology', 1), ('witch', 1), ('confused', 1), ('age-adult', 1), ('crescendo', 1), ('host', 1), ('ian', 1), ('jamie', 1), ('jared', 1), ('melanie', 1), ('uncle-jeb', 1), ('wanda', 1), ('sonnet', 1), ('agree', 1), ('abraham-lincoln', 1), ('bathing', 1), ('reticence', 1), ('women-s-strenth', 1), ('dorian-gray', 1), ('robert-foster', 1), ('love-friendship', 1), ('chaol-westfall', 1), ('books-bible', 1), ('greedy', 1), ('myself', 1), ('selfish', 1), ('fresh-starts', 1), ('new-beginnings', 1), ('reinvention', 1), ('alyson', 1), ('evermore', 1), ('immortals', 1), ('noel', 1), ('elite', 1), ('elitism', 1), ('elitist', 1), ('voter', 1), ('voting', 1), ('stories-writing', 1), ('self-knowledge', 1), ('book-the-count-of-monte-cristo', 1), ('puck', 1), ('bridge', 1), ('dhampir', 1), ('promise', 1), ('stake', 1), ('strigoi', 1), ('mormont', 1), ('cruelty', 1), ('alaska-young', 1), ('blackjack', 1), ('dionysus', 1), ('birthday', 1), ('hagrid', 1), ('pig', 1), ('injuries', 1), ('doubt', 1), ('records', 1), ('gaiman', 1), ('gandhi', 1), ('martyrdom', 1), ('misattributed-to-albert-camus', 1), ('pacifism', 1), ('principles', 1), ('muggles', 1), ('aristotle', 1), ('great-minds', 1), ('buddism', 1), ('mourning', 1), ('broken-families', 1), ('divorce', 1), ('family-ties', 1), ('soul-ties', 1), ('the-nature-of-family', 1), ('true-family', 1), ('absence', 1), ('grandmothers', 1), ('grandparents', 1), ('walking', 1), ('whiskey', 1), ('concealment', 1), ('dark-plans', 1), ('stealth', 1), ('femininity', 1), ('essay', 1), ('lecture', 1), ('nonfiction', 1), ('transcendentalism', 1), ('morganvillevampires', 1), ('capability', 1), ('possibility', 1), ('skills', 1), ('sexuality', 1), ('wisedom', 1), ('this-lullaby', 1), ('anais', 1), ('nin', 1), ('gonzo', 1), ('detection', 1), ('evidence', 1), ('obviousness', 1), ('sherlock-holmes', 1), ('assumptions', 1), ('close-mindedness', 1), ('isaac-asimov', 1), ('open-minds', 1), ('receptivity', 1), ('science-of-mind', 1), ('christina', 1), ('veronica-roth', 1), ('anarchy', 1), ('lateral-thinking', 1), ('rationalism', 1), ('zarek', 1), ('april', 1), ('dystopia', 1), ('possiblity', 1), ('drunk', 1), ('wine', 1), ('confession', 1), ('excuses', 1), ('aciman', 1), ('call-me-by-your-name', 1), ('italy', 1), ('intellectuals', 1), ('scholars', 1), ('knowledge-power', 1), ('elizabethan', 1), ('robin-goodfellow', 1), ('angel', 1), ('nora-grey', 1), ('chapter-one', 1), ('city-of-lost-souls', 1), ('limitations', 1), ('talents', 1), ('falling', 1), ('lesson-on-living', 1), ('paramore', 1), ('singer', 1), ('stand', 1), ('unhappy-life', 1), ('love-quotes', 1), ('clock', 1), ('ticking', 1), ('all-the-bright-places', 1), ('discipline', 1), ('grisha', 1), ('the-beatrice-letters', 1), ('honest', 1), ('integrity-quotes', 1), ('listen', 1), ('speak', 1), ('death-of-a-loved-one', 1), ('force', 1), ('idiots', 1), ('life-humor', 1), ('adults', 1), ('antoine-de-saint-exupery', 1), ('realization', 1), ('sebastian', 1), ('valentine-morgenstern', 1), ('antipathy', 1), ('dislike', 1), ('talk', 1), ('stephen-chbosky', 1), ('trap', 1), ('openness', 1), ('atheist', 1), ('church', 1), ('swear', 1), ('afraid', 1), ('frolick', 1), ('remember', 1), ('twirl', 1), ('connecting', 1), ('rebirth', 1), ('inequality', 1), ('hunger-games-peeta-katniss', 1), ('the-selection', 1), ('doctor-who', 1), ('dracula', 1), ('misattributed-to-chalmers', 1), ('misattributed-to-joseph-addison', 1), ('misattributed-to-kant', 1), ('misattributed-tom-bodett', 1), ('rena-silverman', 1), ('samuel-beckett', 1), ('new-england-wisdom', 1), ('celebrity', 1), ('aspirations', 1), ('ardor', 1), ('heathcliff', 1), ('cows', 1), ('pigs', 1), ('sausage', 1), ('question', 1), ('thought-provoking', 1), ('characters', 1), ('touchstones', 1), ('true-to-self', 1), ('wring', 1), ('lust', 1), ('misattributed-goethe', 1), ('today', 1), ('just-listen', 1), ('owen', 1), ('sara-dessen', 1)]\n"
     ]
    }
   ],
   "source": [
    "# Let us sort the dictionary in descending order of the frequencies:\n",
    "tag_freq_sorted = sorted(tag_freq.items(), key=lambda x:x[1], reverse=True)\n",
    "print(tag_freq_sorted)"
   ]
  },
  {
   "cell_type": "markdown",
   "metadata": {},
   "source": [
    "# Naive Bayes (Baseline Model)"
   ]
  },
  {
   "cell_type": "code",
   "execution_count": null,
   "metadata": {},
   "outputs": [],
   "source": []
  },
  {
   "cell_type": "markdown",
   "metadata": {},
   "source": [
    "# Recurrant Neural Network (RNN) Model"
   ]
  },
  {
   "cell_type": "code",
   "execution_count": null,
   "metadata": {},
   "outputs": [],
   "source": []
  },
  {
   "cell_type": "markdown",
   "metadata": {},
   "source": [
    "# Transformer Based Model?"
   ]
  },
  {
   "cell_type": "code",
   "execution_count": null,
   "metadata": {},
   "outputs": [],
   "source": []
  }
 ],
 "metadata": {
  "kernelspec": {
   "display_name": "info7390",
   "language": "python",
   "name": "python3"
  },
  "language_info": {
   "codemirror_mode": {
    "name": "ipython",
    "version": 3
   },
   "file_extension": ".py",
   "mimetype": "text/x-python",
   "name": "python",
   "nbconvert_exporter": "python",
   "pygments_lexer": "ipython3",
   "version": "3.8.17"
  }
 },
 "nbformat": 4,
 "nbformat_minor": 2
}
